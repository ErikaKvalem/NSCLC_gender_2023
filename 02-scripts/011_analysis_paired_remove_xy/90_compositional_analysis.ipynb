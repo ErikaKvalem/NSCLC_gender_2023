{
 "cells": [
  {
   "cell_type": "markdown",
   "id": "2980161a-241b-4753-b740-5ff860884011",
   "metadata": {},
   "source": [
    "# 1.NSCLC Sex-stratified SC Analysis\n",
    "\n",
    "## Data selection, pseudobulk, create input for DESEQ2"
   ]
  },
  {
   "cell_type": "markdown",
   "id": "614cd815-5ab9-447c-b1cb-edabb402d147",
   "metadata": {},
   "source": [
    "alternating between enviroment scanpy for visualization and nsclc_gender_atlas for sccoda because in this last env sccoda.viz and sccoda.dat do not work anymore "
   ]
  },
  {
   "cell_type": "code",
   "execution_count": null,
   "id": "3a8dbcf5-e76a-4731-8a85-9e516c782b98",
   "metadata": {},
   "outputs": [],
   "source": [
    "import scanpy as sc"
   ]
  },
  {
   "cell_type": "code",
   "execution_count": null,
   "id": "edbb3fde-d351-4387-896d-e931307eeb53",
   "metadata": {},
   "outputs": [],
   "source": [
    "import warnings\n",
    "import numpy as np\n",
    "import pandas as pd \n",
    "import scanpy as sc\n",
    "#import tensorflow as tf\n",
    "import matplotlib.pyplot as plt\n",
    "import matplotlib\n",
    "import seaborn as sns\n",
    "#import altair as alt\n",
    "#import pertpy as pt\n",
    "#from pandas.api.types import is_categorical_dtype\n",
    "#from pandas import CategoricalDtype"
   ]
  },
  {
   "cell_type": "code",
   "execution_count": null,
   "id": "b7dd15e5-7de5-4d93-aa35-33c90937ef20",
   "metadata": {},
   "outputs": [],
   "source": [
    "# Setup\n",
    "import importlib\n",
    "import warnings\n",
    "warnings.filterwarnings(\"ignore\")\n",
    "\n",
    "import pandas as pd\n",
    "import pickle as pkl\n",
    "import matplotlib.pyplot as plt\n",
    "\n",
    "#from sccoda.util import comp_ana as mod\n",
    "#from sccoda.util import cell_composition_data as dat\n",
    "#from sccoda.util import data_visualization as viz\n",
    "\n",
    "#import sccoda.datasets as scd"
   ]
  },
  {
   "cell_type": "code",
   "execution_count": null,
   "id": "9174777a-3853-440f-adb3-77e6a9574f75",
   "metadata": {},
   "outputs": [],
   "source": [
    "\n",
    "import seaborn as sns\n",
    "import matplotlib.pyplot as plt"
   ]
  },
  {
   "cell_type": "code",
   "execution_count": null,
   "id": "e40a0e03-7975-408c-b4ad-254fa5762213",
   "metadata": {},
   "outputs": [],
   "source": [
    "from statannotations.Annotator import Annotator"
   ]
  },
  {
   "cell_type": "code",
   "execution_count": null,
   "id": "db4b1cb3-3364-42fb-bac7-6cd852036110",
   "metadata": {},
   "outputs": [],
   "source": [
    "path = \"/data/projects/2023/LCBiome/nsclc_gender_atlas_tmp\"\n",
    "input_path    = f\"{path}/data/local.h5ad\""
   ]
  },
  {
   "cell_type": "code",
   "execution_count": null,
   "id": "fe038019-17ef-4972-a4d0-f129a520e6f3",
   "metadata": {},
   "outputs": [],
   "source": [
    "adata = sc.read_h5ad(input_path) "
   ]
  },
  {
   "cell_type": "code",
   "execution_count": null,
   "id": "a71663b2-c80d-4cf6-8e7c-0ba36df8ae99",
   "metadata": {
    "scrolled": true
   },
   "outputs": [],
   "source": [
    "adata.var"
   ]
  },
  {
   "cell_type": "code",
   "execution_count": null,
   "id": "86ca593e-ba93-4ebf-96b8-7a65f3d18b58",
   "metadata": {},
   "outputs": [],
   "source": [
    "adata_ss = adata[adata.obs[\"origin\"].isin([\"tumor_primary\",\"normal_adjacent\"])]"
   ]
  },
  {
   "cell_type": "code",
   "execution_count": null,
   "id": "5f7d9437-6937-4ec1-adcc-f5fe2380c5ae",
   "metadata": {},
   "outputs": [],
   "source": [
    "adata = adata_ss"
   ]
  },
  {
   "cell_type": "code",
   "execution_count": null,
   "id": "813275ba-c6b2-42ab-b26f-e30c5adcddb1",
   "metadata": {},
   "outputs": [],
   "source": [
    "set(adata.obs.origin)"
   ]
  },
  {
   "cell_type": "code",
   "execution_count": null,
   "id": "6e808890-cc0d-456c-bf4e-c489ccdb99fe",
   "metadata": {},
   "outputs": [],
   "source": [
    "import seaborn as sns\n",
    "import pandas as pd\n",
    "from scipy.stats import ttest_ind\n",
    "import matplotlib.pyplot as plt\n",
    "\n",
    "# Assume `adata` is your AnnData object\n",
    "gene_name = \"ENSG00000121410\"\n",
    "condition_key = \"origin\"  # Replace with the actual key for condition in `adata.obs`\n",
    "\n",
    "# Extract expression values for the gene \"ADX\"\n",
    "# Convert the sparse matrix to a dense format first, then flatten\n",
    "adx_expression = adata[:, gene_name].X.toarray().flatten()\n",
    "\n",
    "# Extract the condition labels (tumor vs normal)\n",
    "conditions = adata.obs[condition_key]\n",
    "\n",
    "# Create a DataFrame for plotting\n",
    "df = pd.DataFrame({\n",
    "    'ADX_expression': adx_expression,\n",
    "    'Condition': conditions\n",
    "})\n",
    "\n",
    "# Perform the t-test between tumor and normal conditions\n",
    "tumor_expr = df[df['Condition'] == 'tumor_primary']['ADX_expression']\n",
    "normal_expr = df[df['Condition'] == 'normal_adjacent']['ADX_expression']\n",
    "\n",
    "t_stat, p_value = ttest_ind(tumor_expr, normal_expr)\n",
    "\n",
    "# Plot the violin plot\n",
    "plt.figure(figsize=(8, 6))\n",
    "sns.violinplot(x='Condition', y='ADX_expression', data=df)\n",
    "\n",
    "# Annotate the plot with the p-value\n",
    "plt.text(0.5, max(df['ADX_expression']), f'p-value = {p_value:.4f}', \n",
    "         ha='center', va='bottom', fontsize=12, color='black')\n",
    "\n",
    "plt.title(f'Violin plot of {gene_name} expression in Tumor vs Normal')\n",
    "plt.show()\n",
    "\n"
   ]
  },
  {
   "cell_type": "code",
   "execution_count": null,
   "id": "bd9aed21-e057-48b5-9a87-0a3a6cbdd1e4",
   "metadata": {},
   "outputs": [],
   "source": [
    "import seaborn as sns\n",
    "import pandas as pd\n",
    "from scipy.stats import ttest_ind\n",
    "import matplotlib.pyplot as plt\n",
    "\n",
    "# Assume `adata` is your AnnData object\n",
    "gene_name = \"ENSG00000121410\"\n",
    "condition_key = \"origin\"  # Replace with the actual key for condition in `adata.obs`\n",
    "\n",
    "# Extract expression values for the gene \"ADX\"\n",
    "# Convert the sparse matrix to a dense format first, then flatten\n",
    "adx_expression = adata[:, gene_name].X.toarray().flatten()\n",
    "\n",
    "# Extract the condition labels (tumor vs normal)\n",
    "conditions = adata.obs[condition_key]\n",
    "\n",
    "# Create a DataFrame for plotting\n",
    "df = pd.DataFrame({\n",
    "    'ADX_expression': adx_expression,\n",
    "    'Condition': conditions\n",
    "})\n",
    "\n",
    "# Perform the t-test between tumor and normal conditions\n",
    "tumor_expr = df[df['Condition'] == 'tumor_primary']['ADX_expression']\n",
    "normal_expr = df[df['Condition'] == 'normal_adjacent']['ADX_expression']\n",
    "\n",
    "t_stat, p_value = ttest_ind(tumor_expr, normal_expr)\n",
    "\n",
    "# Determine the significance level\n",
    "if p_value <= 0.001:\n",
    "    significance = '***'\n",
    "elif p_value <= 0.01:\n",
    "    significance = '**'\n",
    "elif p_value <= 0.05:\n",
    "    significance = '*'\n",
    "else:\n",
    "    significance = 'ns'  # Not significant\n",
    "\n",
    "# Plot the violin plot\n",
    "plt.figure(figsize=(8, 6))\n",
    "sns.violinplot(x='Condition', y='ADX_expression', data=df)\n",
    "\n",
    "# Annotate the plot with the significance level\n",
    "plt.text(0.5, max(df['ADX_expression']), significance, \n",
    "         ha='center', va='bottom', fontsize=16, color='black')\n",
    "\n",
    "#plt.title(f'Violin plot of {gene_name} expression in Tumor vs Normal')\n",
    "plt.show()\n"
   ]
  },
  {
   "cell_type": "code",
   "execution_count": null,
   "id": "c616805f-5e9f-4f41-a226-2cd00b9f6a98",
   "metadata": {},
   "outputs": [],
   "source": [
    "nsclc_chrom = pd.read_csv(f\"{path}/out/007_re_analysis/tables/input/adata_var_nsclc_chrom.csv\")"
   ]
  },
  {
   "cell_type": "code",
   "execution_count": null,
   "id": "f67e5c74-70e9-461c-9690-22c5583260b4",
   "metadata": {},
   "outputs": [],
   "source": [
    "adata"
   ]
  },
  {
   "cell_type": "code",
   "execution_count": null,
   "id": "df4e83e5-e1fa-4934-8750-1789b5576770",
   "metadata": {},
   "outputs": [],
   "source": [
    "adata.obs.disease.value_counts()"
   ]
  },
  {
   "cell_type": "code",
   "execution_count": null,
   "id": "4affacbc-337a-4c72-b6b0-aa596a1f7db2",
   "metadata": {},
   "outputs": [],
   "source": [
    "adata.obs.tumor_stage.value_counts()"
   ]
  },
  {
   "cell_type": "code",
   "execution_count": null,
   "id": "ccd89aad-1a50-4acc-9d9e-8697c84951e0",
   "metadata": {},
   "outputs": [],
   "source": [
    "adata.obs.sex.value_counts()"
   ]
  },
  {
   "cell_type": "code",
   "execution_count": null,
   "id": "4670efbd-e593-4dcc-9e54-8bf3d24f80b5",
   "metadata": {},
   "outputs": [],
   "source": [
    "adata.obs.origin.value_counts()"
   ]
  },
  {
   "cell_type": "markdown",
   "id": "9564a63b-313e-453f-8d2f-a4d7f39c153c",
   "metadata": {},
   "source": [
    "### 01.SELECT ONLY male, female & tumor, normal_adjacent"
   ]
  },
  {
   "cell_type": "code",
   "execution_count": null,
   "id": "1c8b08b4-3f4e-419f-a329-e7c936c2c5c5",
   "metadata": {},
   "outputs": [],
   "source": [
    "adata = adata[(adata.obs[\"disease\"] != \"normal\") & (adata.obs[\"disease\"] != \"chronic obstructive pulmonary disease\")] #exclude normal and COPD samples\n",
    "adata = adata[adata.obs[\"tumor_stage\"].notna()] #exclude samples without tumor stage\n",
    "adata = adata[(adata.obs[\"sex\"]==\"male\")| (adata.obs[\"sex\"]==\"female\")]"
   ]
  },
  {
   "cell_type": "code",
   "execution_count": null,
   "id": "267fc46a-7815-432c-b6b4-3e9495b5111b",
   "metadata": {},
   "outputs": [],
   "source": [
    "adata = adata[(adata.obs[\"origin\"]==\"tumor_primary\")| (adata.obs[\"origin\"]==\"normal_adjacent\")]"
   ]
  },
  {
   "cell_type": "code",
   "execution_count": null,
   "id": "280fd4b4-8197-4fc8-98ce-59b8c30de245",
   "metadata": {},
   "outputs": [],
   "source": [
    "adata.obs.disease.value_counts()"
   ]
  },
  {
   "cell_type": "code",
   "execution_count": null,
   "id": "64456b10-beb9-4239-b8e2-97c7cd19f530",
   "metadata": {},
   "outputs": [],
   "source": [
    "adata.obs.tumor_stage.value_counts()"
   ]
  },
  {
   "cell_type": "code",
   "execution_count": null,
   "id": "c7b8edc1-ede1-44ab-bca6-e9c759a07a3d",
   "metadata": {},
   "outputs": [],
   "source": [
    "adata.obs.sex.value_counts()"
   ]
  },
  {
   "cell_type": "code",
   "execution_count": null,
   "id": "9db59ca2-e354-4790-ba10-d74fd7036dd0",
   "metadata": {},
   "outputs": [],
   "source": [
    "adata.obs.origin.value_counts()"
   ]
  },
  {
   "cell_type": "markdown",
   "id": "6bc95759-1287-4ef1-a17d-a856597ed1ed",
   "metadata": {},
   "source": [
    "### 02.CELL TPYE RE-CLASIFICATION "
   ]
  },
  {
   "cell_type": "code",
   "execution_count": null,
   "id": "2d216c5a-6501-4bbf-8721-daeb571bba99",
   "metadata": {},
   "outputs": [],
   "source": [
    "adata.obs.cell_type.value_counts()"
   ]
  },
  {
   "cell_type": "code",
   "execution_count": null,
   "id": "f798450d-b414-47b4-82f3-f49b1c3309fa",
   "metadata": {},
   "outputs": [],
   "source": [
    "adata.obs.cell_type_major.value_counts()"
   ]
  },
  {
   "cell_type": "code",
   "execution_count": null,
   "id": "7ccd41a0-c15a-4346-929c-b61825097693",
   "metadata": {
    "tags": []
   },
   "outputs": [],
   "source": [
    "cells_of_interest=['alveolar macrophage', 'neutrophil',\n",
    " 'macrophage','malignant cell',\n",
    " 'B cell',\n",
    "  'regulatory T cell',\n",
    "'CD4-positive, alpha-beta T cell',\n",
    " 'CD8-positive, alpha-beta T cell',\n",
    " 'neutrophils','epithelial cell of lung','multi-ciliated epithelial cell' ]\n",
    "subset_adata = adata[adata.obs[\"cell_type\"].isin(cells_of_interest)] \n"
   ]
  },
  {
   "cell_type": "code",
   "execution_count": null,
   "id": "711af383-82d3-490e-9144-0eb14ea2972b",
   "metadata": {},
   "outputs": [],
   "source": [
    "set(subset_adata.obs.cell_type)"
   ]
  },
  {
   "cell_type": "code",
   "execution_count": null,
   "id": "bccdf1ec-8e7e-421a-8582-8b41f6eea271",
   "metadata": {},
   "outputs": [],
   "source": [
    "set(subset_adata.obs.cell_type_major)"
   ]
  },
  {
   "cell_type": "code",
   "execution_count": null,
   "id": "2aa41398-d555-495b-a21c-569ef21d03fa",
   "metadata": {
    "scrolled": true
   },
   "outputs": [],
   "source": [
    "subset_adata.obs[\"cell_type\"]= subset_adata.obs[\"cell_type\"].replace(['epithelial cell of lung','multi-ciliated epithelial cell',], 'epithelial cell')\n",
    "subset_adata.obs[\"cell_type\"]= subset_adata.obs[\"cell_type\"].replace(['alveolar macrophage'], 'macrophage')\n",
    "subset_adata.obs[\"cell_type\"]= subset_adata.obs[\"cell_type\"].replace(['CD4-positive, alpha-beta T cell'], 'CD4+ T cell')\n",
    "subset_adata.obs[\"cell_type\"]= subset_adata.obs[\"cell_type\"].replace(['CD8-positive, alpha-beta T cell'], 'CD8+ T cell')"
   ]
  },
  {
   "cell_type": "code",
   "execution_count": null,
   "id": "0f3722a6-f1bd-49d5-b48e-52f9f579cc5b",
   "metadata": {},
   "outputs": [],
   "source": [
    "set(subset_adata.obs.cell_type)"
   ]
  },
  {
   "cell_type": "code",
   "execution_count": null,
   "id": "b386f50d-964a-4d90-a95b-00413e5fc474",
   "metadata": {},
   "outputs": [],
   "source": [
    "subset_adata"
   ]
  },
  {
   "cell_type": "code",
   "execution_count": null,
   "id": "7f8bdd7d-4dd9-4f59-ae4d-51db6fa3abe4",
   "metadata": {},
   "outputs": [],
   "source": [
    "subset_adata.obs.disease.value_counts()"
   ]
  },
  {
   "cell_type": "code",
   "execution_count": null,
   "id": "6536f003-2844-4746-aa42-8013f4e04f4b",
   "metadata": {
    "scrolled": true
   },
   "outputs": [],
   "source": [
    "adata"
   ]
  },
  {
   "cell_type": "markdown",
   "id": "9b2458ac-4c1b-4fb9-a4ce-1998b05f1176",
   "metadata": {},
   "source": [
    "## PAIRED SAMPLES REMOVE NSCLC "
   ]
  },
  {
   "cell_type": "code",
   "execution_count": null,
   "id": "291d14e4-58a9-43d3-afeb-2d49375a6ed4",
   "metadata": {},
   "outputs": [],
   "source": [
    "subset_adata = subset_adata[(subset_adata.obs[\"disease\"]!=\"non-small cell lung carcinoma\")]"
   ]
  },
  {
   "cell_type": "code",
   "execution_count": null,
   "id": "f0395de8-8f97-430b-9043-eb561e402201",
   "metadata": {},
   "outputs": [],
   "source": [
    "subset_adata = subset_adata[(subset_adata.obs[\"disease\"]!=\"squamous cell lung carcinoma\")]"
   ]
  },
  {
   "cell_type": "code",
   "execution_count": null,
   "id": "fca81be2-f051-42e9-8282-8650178138f0",
   "metadata": {},
   "outputs": [],
   "source": [
    "df_grouped = subset_adata.obs.groupby([\"origin\",\"donor_id\"]).count()"
   ]
  },
  {
   "cell_type": "code",
   "execution_count": null,
   "id": "a5cacfcf-9b14-48e3-a31a-b5b528376b71",
   "metadata": {},
   "outputs": [],
   "source": [
    "df_grouped.reset_index(inplace= True)"
   ]
  },
  {
   "cell_type": "code",
   "execution_count": null,
   "id": "4056771c-7b1c-4a72-bd0b-72bf1ff753a8",
   "metadata": {},
   "outputs": [],
   "source": [
    "df_grouped_normal = df_grouped[df_grouped[\"origin\"]==\"normal_adjacent\"]"
   ]
  },
  {
   "cell_type": "code",
   "execution_count": null,
   "id": "e5234d7c-f494-43e1-bd82-c0473e29a8fa",
   "metadata": {},
   "outputs": [],
   "source": [
    "df_grouped_normal = df_grouped_normal[df_grouped_normal['sample'] != 0]"
   ]
  },
  {
   "cell_type": "code",
   "execution_count": null,
   "id": "82f3d9e2-78b6-4ca9-995d-2294359b5f5f",
   "metadata": {},
   "outputs": [],
   "source": [
    "df_grouped_tumor = df_grouped[df_grouped[\"origin\"]==\"tumor_primary\"]"
   ]
  },
  {
   "cell_type": "code",
   "execution_count": null,
   "id": "b307afd1-9f29-4bbe-8398-c058a42332c4",
   "metadata": {},
   "outputs": [],
   "source": [
    "df_grouped_tumor = df_grouped_tumor[df_grouped_tumor['sample'] != 0]"
   ]
  },
  {
   "cell_type": "code",
   "execution_count": null,
   "id": "f6a9523f-9efb-4003-93d1-60b365481820",
   "metadata": {},
   "outputs": [],
   "source": [
    "list(set(df_grouped_tumor.donor_id))"
   ]
  },
  {
   "cell_type": "code",
   "execution_count": null,
   "id": "93269d15-2446-473c-ba00-1cbdcc49e602",
   "metadata": {},
   "outputs": [],
   "source": [
    "common_ids =list(set(df_grouped_normal.donor_id)& set(df_grouped_tumor.donor_id))"
   ]
  },
  {
   "cell_type": "code",
   "execution_count": null,
   "id": "05ba2ac2-e212-489f-9c06-3b72206f250b",
   "metadata": {},
   "outputs": [],
   "source": [
    "len(common_ids)"
   ]
  },
  {
   "cell_type": "code",
   "execution_count": null,
   "id": "90d35dc7-5f87-4524-9867-384233ae1c0f",
   "metadata": {},
   "outputs": [],
   "source": [
    "paired_adata = subset_adata[subset_adata.obs['donor_id'].isin(common_ids)].copy()"
   ]
  },
  {
   "cell_type": "code",
   "execution_count": null,
   "id": "82963498-7117-4384-b72a-a75c163cc9e6",
   "metadata": {},
   "outputs": [],
   "source": [
    "df = paired_adata.obs#\n",
    "origin_counts = df.groupby('origin')['donor_id'].nunique().reset_index()\n",
    "origin_counts.columns = ['origin', 'count']"
   ]
  },
  {
   "cell_type": "code",
   "execution_count": null,
   "id": "612e769a-ed48-47da-85e6-c841a7b04a48",
   "metadata": {},
   "outputs": [],
   "source": [
    "plt.figure(figsize=(10, 6))\n",
    "sns.barplot(data=origin_counts, x='origin', y='count', palette='viridis')\n",
    "plt.xlabel('Origin')\n",
    "plt.ylabel('Number of Unique Donor IDs')\n",
    "plt.title('Number of Unique Donor IDs per Origin')\n",
    "plt.show()"
   ]
  },
  {
   "cell_type": "code",
   "execution_count": null,
   "id": "cce32268-37b3-48a1-90ee-8957d7f1532c",
   "metadata": {},
   "outputs": [],
   "source": [
    "df = paired_adata.obs#\n",
    "origin_counts = df.groupby('disease')['donor_id'].nunique().reset_index()\n",
    "origin_counts.columns = ['disease', 'count']"
   ]
  },
  {
   "cell_type": "code",
   "execution_count": null,
   "id": "54d31315-f827-4674-9cda-12a30996a5d7",
   "metadata": {},
   "outputs": [],
   "source": [
    "plt.figure(figsize=(10, 6))\n",
    "sns.barplot(data=origin_counts, x='disease', y='count', palette='viridis')\n",
    "plt.xlabel('disease')\n",
    "plt.ylabel('Number of Unique Donor IDs')\n",
    "plt.title('Number of Unique Donor IDs per disease')\n",
    "plt.show()"
   ]
  },
  {
   "cell_type": "code",
   "execution_count": null,
   "id": "5245f655-7175-4522-b03c-adff14b3f8cc",
   "metadata": {},
   "outputs": [],
   "source": [
    "#paired_adata.write_h5ad(\"paired_adata.h5ad\")"
   ]
  },
  {
   "cell_type": "code",
   "execution_count": null,
   "id": "698e649d-466c-4a3e-9f19-300915896f09",
   "metadata": {},
   "outputs": [],
   "source": [
    "paired_adata = sc.read_h5ad(\"paired_adata.h5ad\")"
   ]
  },
  {
   "cell_type": "code",
   "execution_count": null,
   "id": "62d5ff44-bbb5-4eda-a396-283f01d481c2",
   "metadata": {},
   "outputs": [],
   "source": [
    "paired_adata_normal = paired_adata[paired_adata.obs[\"origin\"]==\"normal_adjacent\"]\n",
    "paired_adata_tumor = paired_adata[paired_adata.obs[\"origin\"]==\"tumor_primary\"]"
   ]
  },
  {
   "cell_type": "code",
   "execution_count": null,
   "id": "5022b929-1951-4887-a5b2-1d8542d50192",
   "metadata": {},
   "outputs": [],
   "source": [
    "df_num = paired_adata.obs[[\"cell_type\",\"sex\"]].value_counts()"
   ]
  },
  {
   "cell_type": "code",
   "execution_count": null,
   "id": "50188753-744f-44a5-b8e9-1bf4005c0011",
   "metadata": {},
   "outputs": [],
   "source": [
    "df_num_normal = paired_adata_normal.obs[[\"cell_type\",\"sex\"]].value_counts()"
   ]
  },
  {
   "cell_type": "code",
   "execution_count": null,
   "id": "8d40daf2-ebad-4721-8cc3-03487d741de1",
   "metadata": {},
   "outputs": [],
   "source": [
    "df_num_tumor = paired_adata_tumor.obs[[\"cell_type\",\"sex\"]].value_counts()"
   ]
  },
  {
   "cell_type": "code",
   "execution_count": null,
   "id": "9dff6bc2-34be-4f5d-b1af-89e4d6137ffd",
   "metadata": {},
   "outputs": [],
   "source": [
    "df_num"
   ]
  },
  {
   "cell_type": "code",
   "execution_count": null,
   "id": "2e2717ec-5cc8-4e65-953d-ed72e6f6221c",
   "metadata": {},
   "outputs": [],
   "source": [
    "df_num_normal"
   ]
  },
  {
   "cell_type": "code",
   "execution_count": null,
   "id": "e513bd91-77dd-4183-b2c3-bc90706fd64d",
   "metadata": {},
   "outputs": [],
   "source": [
    "df_num_tumor"
   ]
  },
  {
   "cell_type": "code",
   "execution_count": null,
   "id": "a4f11157-e164-471a-b0ec-11a762f592f5",
   "metadata": {},
   "outputs": [],
   "source": [
    "df_num.to_csv(\"cell_count.csv\")"
   ]
  },
  {
   "cell_type": "code",
   "execution_count": null,
   "id": "27feb362-dcde-4cc2-9fa8-250704278a1e",
   "metadata": {},
   "outputs": [],
   "source": [
    "df_num_tumor.to_csv(\"cell_count_tumor.csv\")"
   ]
  },
  {
   "cell_type": "code",
   "execution_count": null,
   "id": "36d744c2-c9e2-4bd7-9039-f434aaf2e1b4",
   "metadata": {},
   "outputs": [],
   "source": [
    "df_num_normal.to_csv(\"cell_count_normal.csv\")"
   ]
  },
  {
   "cell_type": "code",
   "execution_count": null,
   "id": "80c267ac-4f0e-43b3-b85a-f8580fac3c43",
   "metadata": {},
   "outputs": [],
   "source": [
    "#data_all.write_h5ad(\"data_all.h5ad\")"
   ]
  },
  {
   "cell_type": "code",
   "execution_count": null,
   "id": "205822cc-a064-4c45-955c-c0c34ae1d36b",
   "metadata": {},
   "outputs": [],
   "source": [
    "tmp = pd.crosstab(paired_adata.obs['cell_type'], paired_adata.obs['sex'], normalize='columns').T\n",
    "\n",
    "# Plotting the stacked barplot\n",
    "ax = tmp.plot(kind='bar', stacked=True)\n",
    "\n",
    "# Annotating percentages\n",
    "for p in ax.patches:\n",
    "    width = p.get_width()\n",
    "    height = p.get_height()\n",
    "    x, y = p.get_xy()\n",
    "    ax.text(x + width / 2, y + height / 2, f'{height:.2%}', ha='center', va='center')\n",
    "\n",
    "# Adjusting legend\n",
    "ax.legend(title='cell_type', bbox_to_anchor=(1.35, 1), loc='upper right')\n",
    "# Adding y-axis label\n",
    "ax.set_ylabel('Cell Proportion')\n",
    "\n",
    "\n",
    "#plt.tight_layout()\n",
    "\n",
    "# Save the plot\n",
    "plt.savefig('stacked_barplot_with_percentages.png', bbox_inches='tight')\n",
    "# Show the plot\n",
    "plt.show()"
   ]
  },
  {
   "cell_type": "code",
   "execution_count": null,
   "id": "69abd032-9df1-446d-a45a-a012765cd5e7",
   "metadata": {},
   "outputs": [],
   "source": [
    "tmp = pd.crosstab(paired_adata_normal.obs['cell_type'], paired_adata_normal.obs['sex'], normalize='columns').T\n",
    "\n",
    "# Plotting the stacked barplot\n",
    "ax = tmp.plot(kind='bar', stacked=True)\n",
    "\n",
    "# Annotating percentages\n",
    "for p in ax.patches:\n",
    "    width = p.get_width()\n",
    "    height = p.get_height()\n",
    "    x, y = p.get_xy()\n",
    "    ax.text(x + width / 2, y + height / 2, f'{height:.2%}', ha='center', va='center')\n",
    "\n",
    "# Adjusting legend\n",
    "ax.legend(title='cell_type', bbox_to_anchor=(1.36, 1), loc='upper right')\n",
    "# Adding y-axis label\n",
    "ax.set_ylabel('Cell Proportion')\n",
    "\n",
    "\n",
    "#plt.tight_layout()\n",
    "\n",
    "# Save the plot\n",
    "#plt.savefig('stacked_barplot_with_percentages_normal.png', bbox_inches='tight')\n",
    "# Show the plot\n",
    "plt.show()"
   ]
  },
  {
   "cell_type": "code",
   "execution_count": null,
   "id": "b8db1423-61a7-4264-8138-9c2127b61eee",
   "metadata": {},
   "outputs": [],
   "source": [
    "tmp = pd.crosstab(paired_adata_tumor.obs['cell_type'], paired_adata_tumor.obs['sex'], normalize='columns').T\n",
    "\n",
    "# Plotting the stacked barplot\n",
    "ax = tmp.plot(kind='bar', stacked=True)\n",
    "\n",
    "# Annotating percentages\n",
    "for p in ax.patches:\n",
    "    width = p.get_width()\n",
    "    height = p.get_height()\n",
    "    x, y = p.get_xy()\n",
    "    ax.text(x + width / 2, y + height / 2, f'{height:.2%}', ha='center', va='center')\n",
    "\n",
    "# Adjusting legend\n",
    "ax.legend(title='cell_type', bbox_to_anchor=(1.5, 1), loc='upper right')\n",
    "# Adding y-axis label\n",
    "ax.set_ylabel('Cell Proportion')\n",
    "\n",
    "\n",
    "plt.tight_layout()\n",
    "\n",
    "# Save the plot\n",
    "plt.savefig('stacked_barplot_with_percentages_tumor.png', bbox_inches='tight')\n",
    "# Show the plot\n",
    "plt.show()"
   ]
  },
  {
   "cell_type": "code",
   "execution_count": null,
   "id": "f1e8007b-5b95-43f8-b4ca-85d5da89fb67",
   "metadata": {},
   "outputs": [],
   "source": [
    "val_counts = paired_adata.obs['cell_type'].value_counts()"
   ]
  },
  {
   "cell_type": "code",
   "execution_count": null,
   "id": "510efca0-81d7-4ae4-9c4a-1e06decdb617",
   "metadata": {},
   "outputs": [],
   "source": [
    "import matplotlib.pyplot as plt\n",
    "fig,ax=plt.subplots(figsize = (1,4))\n",
    "ov.pl.cellproportion(adata=adata,celltype_clusters='clusters',\n",
    "                    groupby='age(days)',legend=True,ax=ax)"
   ]
  },
  {
   "cell_type": "markdown",
   "id": "bb0f92a1-9307-45cb-9d7e-50930d2c30ab",
   "metadata": {},
   "source": [
    "## SUMMARY \n",
    "- Filtered for male, female & tumor, normal_adjacent\n",
    "- Filtered and reclassified cells of interest: 'B cell','CD4+ T cell', 'CD8+ T cell', 'epithelial cell', 'macrophage', 'malignant cell', 'neutrophil', 'regulatory Tcell'\n",
    "- Filtered to exclude samples coming from NSCLC\n",
    "- Filtered for PAIRED SAMPLES (82 donor_id that have normal_adjacent and tumor_primary  samples)\n",
    "- KEEP LUADN AND LUSC"
   ]
  },
  {
   "cell_type": "code",
   "execution_count": null,
   "id": "cccf6dfa-c5ef-49f1-b639-6f7138af1732",
   "metadata": {},
   "outputs": [],
   "source": [
    "frac_by_condition = (\n",
    "    paired_adata_normal.obs.groupby([\"dataset\", \"cell_type\", \"tumor_stage\", \"donor_id\",\"origin\"])\n",
    "    .apply(lambda x: x.value_counts(\"sex\", normalize=False))\n",
    "    .reset_index(name=\"n_cells\")\n",
    "    .assign(condition=lambda x: x[\"cell_type\"].astype(str))\n",
    ")"
   ]
  },
  {
   "cell_type": "code",
   "execution_count": null,
   "id": "704dbc8d-e692-4315-be5a-a0f9d2fef226",
   "metadata": {},
   "outputs": [],
   "source": [
    "frac_by_condition"
   ]
  },
  {
   "cell_type": "code",
   "execution_count": null,
   "id": "a2ed4207-dce8-4934-a46d-524e474115cd",
   "metadata": {
    "tags": []
   },
   "outputs": [],
   "source": [
    "frac_pivot = (\n",
    "    frac_by_condition.pivot(\n",
    "        index=[\"donor_id\", \"dataset\", \"sex\", \"tumor_stage\",\"origin\"],\n",
    "        columns=\"cell_type\",\n",
    "        values=\"n_cells\",\n",
    "    )\n",
    "    .reset_index()\n",
    "    #.drop(columns=\"other\")\n",
    ")\n"
   ]
  },
  {
   "cell_type": "code",
   "execution_count": null,
   "id": "7bf0f6f5-d031-4f25-ba4e-4868ed84fb90",
   "metadata": {},
   "outputs": [],
   "source": [
    "frac_pivot"
   ]
  },
  {
   "cell_type": "code",
   "execution_count": null,
   "id": "f39c1a91-d1fc-4605-9792-b81393184f5c",
   "metadata": {},
   "outputs": [],
   "source": [
    "data_all = dat.from_pandas(\n",
    "    frac_pivot, covariate_columns=[\"donor_id\", \"dataset\", \"sex\", \"tumor_stage\",\"origin\"]\n",
    ")"
   ]
  },
  {
   "cell_type": "code",
   "execution_count": null,
   "id": "ccc629cf-2aaf-4cf4-b200-442c83349218",
   "metadata": {},
   "outputs": [],
   "source": [
    "data_all.obs[\"sex\"] = pd.Categorical(\n",
    "    data_all.obs[\"sex\"], categories=[\"male\", \"female\"]\n",
    ")"
   ]
  },
  {
   "cell_type": "code",
   "execution_count": null,
   "id": "02f4bcda-a15f-489b-ac26-5b9e9306f2b3",
   "metadata": {},
   "outputs": [],
   "source": [
    "data_all._sanitize()"
   ]
  },
  {
   "cell_type": "code",
   "execution_count": null,
   "id": "66f2a703-0549-4d1c-a6d4-69af79220e51",
   "metadata": {},
   "outputs": [],
   "source": [
    "data_all"
   ]
  },
  {
   "cell_type": "code",
   "execution_count": null,
   "id": "f9f75b6a-b0ca-4ada-8da8-163730883332",
   "metadata": {},
   "outputs": [],
   "source": [
    "#data_all.write_h5ad(\"data_all.h5ad\")"
   ]
  },
  {
   "cell_type": "code",
   "execution_count": null,
   "id": "4b975703-2661-4898-9c5c-5d6fecb969c2",
   "metadata": {},
   "outputs": [],
   "source": [
    "data_all = sc.read_h5ad(\"data_all.h5ad\")"
   ]
  },
  {
   "cell_type": "code",
   "execution_count": null,
   "id": "61c3dc7d-25f7-41a6-9280-1ac6bd4d5f51",
   "metadata": {},
   "outputs": [],
   "source": [
    "data_all.obs"
   ]
  },
  {
   "cell_type": "code",
   "execution_count": null,
   "id": "d5831a2d-db94-4eab-ba2d-dc891b451f22",
   "metadata": {},
   "outputs": [],
   "source": [
    "data_all_tumor = data_all[data_all.obs[\"origin\"]==\"tumor_primary\"]\n",
    "data_all_normal = data_all[data_all.obs[\"origin\"]==\"normal_adjacent\"]"
   ]
  },
  {
   "cell_type": "code",
   "execution_count": null,
   "id": "a9090015-76a5-47c0-8dea-cd34c53d83de",
   "metadata": {},
   "outputs": [],
   "source": [
    "boxplots(data_all, feature_name=\"sex\", figsize=(12, 5), cmap = \"inferno\")\n",
    "\n",
    "plt.savefig( \"cell_proportion_nosig.png\")\n"
   ]
  },
  {
   "cell_type": "code",
   "execution_count": null,
   "id": "7b997d37-e94e-4a2d-91f1-568b3226d8ac",
   "metadata": {},
   "outputs": [],
   "source": [
    "boxplots(data_all_normal, feature_name=\"sex\", figsize=(12, 5), cmap = \"inferno\")\n",
    "\n",
    "#plt.savefig( \"cell_proportion_nosig.png\")\n"
   ]
  },
  {
   "cell_type": "code",
   "execution_count": null,
   "id": "f9a859a8-2100-4036-9570-2df1ed70023d",
   "metadata": {},
   "outputs": [],
   "source": [
    "boxplots(data_all_normal, feature_name=\"sex\", figsize=(12, 5), cmap = \"inferno\")\n",
    "\n",
    "#plt.savefig( \"cell_proportion_nosig_normal.png\")\n"
   ]
  },
  {
   "cell_type": "code",
   "execution_count": null,
   "id": "620ecc76-dc65-4067-be85-0a8129c8b1cd",
   "metadata": {},
   "outputs": [],
   "source": [
    "boxplots(data_all_tumor, feature_name=\"sex\", figsize=(12, 5), cmap = \"inferno\")\n",
    "\n",
    "#\n",
    "#plt.savefig( \"cell_proportion_nosig_tumor.png\")\n"
   ]
  },
  {
   "cell_type": "code",
   "execution_count": null,
   "id": "5ec3df88-e9d3-4bc3-b816-54212a55fd10",
   "metadata": {},
   "outputs": [],
   "source": [
    "boxplots(data_all_normal, feature_name=\"sex\", figsize=(12, 5), cmap = \"inferno\")\n",
    "\n",
    "#\n",
    "#plt.savefig( \"cell_proportion_nosig_tumor.png\")\n"
   ]
  },
  {
   "cell_type": "code",
   "execution_count": null,
   "id": "beab7892-69b3-4212-a4d1-10f3111b724c",
   "metadata": {},
   "outputs": [],
   "source": [
    "pd.DataFrame.iteritems = pd.DataFrame.items"
   ]
  },
  {
   "cell_type": "code",
   "execution_count": null,
   "id": "de078f18-ce5a-4137-8709-afefd84757cd",
   "metadata": {},
   "outputs": [],
   "source": [
    "import anndata as ad"
   ]
  },
  {
   "cell_type": "code",
   "execution_count": null,
   "id": "c121cb6a-c201-4093-beff-162b7c75c31b",
   "metadata": {},
   "outputs": [],
   "source": [
    "boxplots(\n",
    "    data_all_tumor,\n",
    "    feature_name=\"sex\",\n",
    "    plot_facets=False,\n",
    "   # y_scale=\"log\",\n",
    "    add_dots=True,\n",
    "    cmap=\"Reds\",\n",
    ")\n",
    "plt.savefig( \"small_cell_prop_tumor.png\")"
   ]
  },
  {
   "cell_type": "code",
   "execution_count": null,
   "id": "b5147dd9-e7eb-41f8-ac39-3a670ebd6c80",
   "metadata": {},
   "outputs": [],
   "source": [
    "boxplots(\n",
    "    data_all_normal,\n",
    "    feature_name=\"sex\",\n",
    "    plot_facets=False,\n",
    "   # y_scale=\"log\",\n",
    "    add_dots=True,\n",
    "    cmap=\"Reds\",\n",
    ")\n",
    "plt.savefig( \"small_cell_prop_normal.png\")"
   ]
  },
  {
   "cell_type": "code",
   "execution_count": null,
   "id": "cc53014d-2580-4e6d-b2ab-d637ea4d2902",
   "metadata": {},
   "outputs": [],
   "source": [
    "boxplots(\n",
    "    data_all_normal,\n",
    "    feature_name=\"sex\",\n",
    "    plot_facets=True,\n",
    "   # y_scale=\"log\",\n",
    "    add_dots=True,\n",
    "    cmap=\"Reds\",\n",
    "    save=True\n",
    ")\n",
    "plt.savefig(\"facet_cell_prop_normal.svg\")"
   ]
  },
  {
   "cell_type": "code",
   "execution_count": null,
   "id": "e6638fc3-75ae-4243-bda4-0a4ca9b5f846",
   "metadata": {},
   "outputs": [],
   "source": [
    "boxplots(\n",
    "    data_all_normal,\n",
    "    feature_name=\"sex\",\n",
    "    plot_facets=True,\n",
    "   y_scale=\"log\",\n",
    "    add_dots=True,\n",
    "    cmap=\"Reds\",\n",
    ")\n",
    "plt.savefig(\"facet_cell_prop_tumor.png\")"
   ]
  },
  {
   "cell_type": "code",
   "execution_count": null,
   "id": "9ee9a082-9b9e-406a-95cb-5a5863c73cd9",
   "metadata": {},
   "outputs": [],
   "source": [
    "plot_df_tumor = plot_df_tumor.dropna()"
   ]
  },
  {
   "cell_type": "code",
   "execution_count": null,
   "id": "4c53a2c9-9096-44f2-83ee-08a319cc953e",
   "metadata": {},
   "outputs": [],
   "source": [
    "import pandas as pd\n",
    "from scipy.stats import ttest_ind\n",
    "from statsmodels.stats.multitest import multipletests\n",
    "\n",
    "\n",
    "\n",
    "cell_types = plot_df_tumor['Cell type'].unique()\n",
    "\n",
    "\n",
    "t_test_results = {}\n",
    "\n",
    "# Perform t-test for each cell type\n",
    "for cell_type in cell_types:\n",
    " \n",
    "    cell_data = plot_df_tumor[plot_df_tumor['Cell type'] == cell_type]\n",
    "    \n",
    "\n",
    "    male_data = cell_data[cell_data['sex'] == 'male']['Proportion']\n",
    "    female_data = cell_data[cell_data['sex'] == 'female']['Proportion']\n",
    "    \n",
    "    # Perform t-test\n",
    "    t_stat, p_value = ttest_ind(male_data, female_data)\n",
    "    \n",
    "\n",
    "    t_test_results[cell_type] = {'t_stat': t_stat, 'p_value': p_value}\n",
    "\n",
    "\n",
    "t_test_results_df = pd.DataFrame(t_test_results).T\n",
    "\n",
    "# Adjust p-values using Benjamini-Hochberg method\n",
    "_, adjusted_p_values, _, _ = multipletests(t_test_results_df['p_value'], method='fdr_bh')\n",
    "\n",
    "# Add adjusted p-values to the DataFrame\n",
    "t_test_results_df['adjusted_p_value'] = adjusted_p_values\n",
    "\n",
    "print(t_test_results_df)\n"
   ]
  },
  {
   "cell_type": "code",
   "execution_count": null,
   "id": "030aa869-8455-48db-8210-fabe49ecdcdf",
   "metadata": {},
   "outputs": [],
   "source": [
    "import pandas as pd\n",
    "from scipy.stats import mannwhitneyu\n",
    "from statsmodels.stats.multitest import multipletests\n",
    "\n",
    "# Unique cell types\n",
    "cell_types = plot_df_tumor['Cell type'].unique()\n",
    "\n",
    "# Dictionary to hold Wilcoxon test results\n",
    "wilcoxon_test_results = {}\n",
    "\n",
    "# Perform Wilcoxon test for each cell type\n",
    "for cell_type in cell_types:\n",
    "    # Subset the data by cell type\n",
    "    cell_data = plot_df_tumor[plot_df_tumor['Cell type'] == cell_type]\n",
    "    \n",
    "    # Separate the data by sex\n",
    "    male_data = cell_data[cell_data['sex'] == 'male']['Proportion']\n",
    "    female_data = cell_data[cell_data['sex'] == 'female']['Proportion']\n",
    "    \n",
    "    # Perform Wilcoxon rank-sum test\n",
    "    stat, p_value = mannwhitneyu(male_data, female_data, alternative='two-sided')\n",
    "    \n",
    "    # Store the results\n",
    "    wilcoxon_test_results[cell_type] = {'stat': stat, 'p_value': p_value}\n",
    "\n",
    "# Convert results to DataFrame for better display\n",
    "wilcoxon_test_results_df = pd.DataFrame(wilcoxon_test_results).T\n",
    "\n",
    "# Adjust p-values using Benjamini-Hochberg method\n",
    "_, adjusted_p_values, _, _ = multipletests(wilcoxon_test_results_df['p_value'], method='fdr_bh')\n",
    "\n",
    "# Add adjusted p-values to the DataFrame\n",
    "wilcoxon_test_results_df['adjusted_p_value'] = adjusted_p_values\n",
    "\n",
    "print(wilcoxon_test_results_df)\n"
   ]
  },
  {
   "cell_type": "code",
   "execution_count": null,
   "id": "304c861d-76fc-49b5-8d53-b79eb4fa2c39",
   "metadata": {},
   "outputs": [],
   "source": [
    "import pandas as pd\n",
    "from scipy.stats import mannwhitneyu\n",
    "from statsmodels.stats.multitest import multipletests\n",
    "\n",
    "# Unique cell types\n",
    "cell_types = plot_df_normal['Cell type'].unique()\n",
    "\n",
    "# Dictionary to hold Wilcoxon test results\n",
    "wilcoxon_test_results = {}\n",
    "\n",
    "# Perform Wilcoxon test for each cell type\n",
    "for cell_type in cell_types:\n",
    "    # Subset the data by cell type\n",
    "    cell_data = plot_df_normal[plot_df_normal['Cell type'] == cell_type]\n",
    "    \n",
    "    # Separate the data by sex\n",
    "    male_data = cell_data[cell_data['sex'] == 'male']['Proportion']\n",
    "    female_data = cell_data[cell_data['sex'] == 'female']['Proportion']\n",
    "    \n",
    "    # Perform Wilcoxon rank-sum test\n",
    "    stat, p_value = mannwhitneyu(male_data, female_data, alternative='two-sided')\n",
    "    \n",
    "    # Store the results\n",
    "    wilcoxon_test_results[cell_type] = {'stat': stat, 'p_value': p_value}\n",
    "\n",
    "# Convert results to DataFrame for better display\n",
    "wilcoxon_test_results_df = pd.DataFrame(wilcoxon_test_results).T\n",
    "\n",
    "# Adjust p-values using Benjamini-Hochberg method\n",
    "_, adjusted_p_values, _, _ = multipletests(wilcoxon_test_results_df['p_value'], method='fdr_bh')\n",
    "\n",
    "# Add adjusted p-values to the DataFrame\n",
    "wilcoxon_test_results_df['adjusted_p_value'] = adjusted_p_values\n",
    "\n",
    "print(wilcoxon_test_results_df)\n"
   ]
  },
  {
   "cell_type": "code",
   "execution_count": null,
   "id": "595d8379-5660-498a-a963-e6bed2d43fdc",
   "metadata": {},
   "outputs": [],
   "source": [
    "viz.boxplots(\n",
    "    data_all,\n",
    "    feature_name=\"sex\",\n",
    "    plot_facets=False,\n",
    "   # y_scale=\"log\",\n",
    "    add_dots=True,\n",
    "    cmap=\"Reds\",\n",
    ")"
   ]
  },
  {
   "cell_type": "code",
   "execution_count": null,
   "id": "238fc2e4-05cb-4789-bbef-6534dcee169a",
   "metadata": {},
   "outputs": [],
   "source": [
    "ax = viz.boxplots(\n",
    "    data_all,\n",
    "    feature_name=\"sex\",\n",
    "    plot_facets=True,\n",
    "   y_scale=\"log\",\n",
    "    #args_swarmplot= {hue:\"dataset\"},\n",
    "    add_dots=True,\n",
    "    cmap=\"Reds\",\n",
    ")\n",
    "\n"
   ]
  },
  {
   "cell_type": "code",
   "execution_count": null,
   "id": "9f4788df-a642-4d20-b95c-d7c5dbb6ef4d",
   "metadata": {},
   "outputs": [],
   "source": [
    "data_all.obs"
   ]
  },
  {
   "cell_type": "code",
   "execution_count": null,
   "id": "1d73094f-5203-4110-a386-2a2f04b59bf9",
   "metadata": {},
   "outputs": [],
   "source": []
  },
  {
   "cell_type": "code",
   "execution_count": null,
   "id": "07ac56ec-fecc-4cf7-a8ea-22fffd9539c8",
   "metadata": {},
   "outputs": [],
   "source": [
    "import numpy as np"
   ]
  },
  {
   "cell_type": "code",
   "execution_count": null,
   "id": "875d3463-de16-4a8b-89e6-c073c6607185",
   "metadata": {},
   "outputs": [],
   "source": [
    "data = data_all\n",
    "feature_name=\"sex\"\n",
    "y_scale = \"relative\"\n",
    "plot_facets= True\n",
    "add_dots= True\n",
    "cell_types = None\n",
    "args_boxplot= {}\n",
    "args_swarmplot= {}\n",
    "figsize= None\n",
    "dpi= 100\n",
    "cmap= \"Blues\"\n",
    "plot_legend = True\n",
    "level_order = None"
   ]
  },
  {
   "cell_type": "code",
   "execution_count": null,
   "id": "736095a0-3c6e-4a92-8ffa-ff9594040346",
   "metadata": {},
   "outputs": [],
   "source": []
  },
  {
   "cell_type": "code",
   "execution_count": null,
   "id": "de5ec8ca-0ed6-4036-9aa0-fead02fb36e9",
   "metadata": {},
   "outputs": [],
   "source": []
  },
  {
   "cell_type": "code",
   "execution_count": null,
   "id": "dc50a8f7-a32f-426f-9271-767389844185",
   "metadata": {},
   "outputs": [],
   "source": [
    "#plot_df.to_csv(\"plot_df.csv\")"
   ]
  },
  {
   "cell_type": "code",
   "execution_count": null,
   "id": "3375dd98-8f9d-4f5d-b881-fdbfa5d7d45e",
   "metadata": {},
   "outputs": [],
   "source": [
    "plot_df  = pd.read_csv(\"plot_df.csv\", index_col=0)"
   ]
  },
  {
   "cell_type": "code",
   "execution_count": null,
   "id": "136699ed-ca03-473f-b52c-8235f96f8c23",
   "metadata": {},
   "outputs": [],
   "source": [
    "annot.configure()"
   ]
  },
  {
   "cell_type": "code",
   "execution_count": null,
   "id": "d248eee2-82c7-4e5f-b786-7706b2caf00e",
   "metadata": {},
   "outputs": [],
   "source": [
    "count_df"
   ]
  },
  {
   "cell_type": "code",
   "execution_count": null,
   "id": "f7c9f7f1-b701-49ea-a03c-1a2f0879996c",
   "metadata": {},
   "outputs": [],
   "source": [
    "df_filtered = count_df.loc[~(count_df == 0).all(axis=1)]"
   ]
  },
  {
   "cell_type": "code",
   "execution_count": null,
   "id": "92dfd4c0-c458-43a5-9830-fc80404c95fe",
   "metadata": {},
   "outputs": [],
   "source": [
    "import pandas as pd\n",
    "import numpy as np\n",
    "import seaborn as sns\n",
    "import matplotlib.pyplot as plt\n",
    "from statannotations.Annotator import Annotator\n",
    "\n",
    "# Assuming 'data_all' is already defined\n",
    "data = adata\n",
    "feature_name = \"sex\"\n",
    "y_scale = \"relative\"\n",
    "plot_facets = True\n",
    "add_dots = True\n",
    "cell_types = None\n",
    "args_boxplot = {}\n",
    "args_swarmplot = {}\n",
    "figsize = None\n",
    "dpi = 100\n",
    "cmap = \"Blues\"\n",
    "plot_legend = True\n",
    "level_order = None\n",
    "\n",
    "##relative\n",
    "sample_sums = np.sum(data.X, axis=1, keepdims=True)\n",
    "X = data.X / sample_sums\n",
    "value_name = \"Proportion\"\n",
    "\n",
    "#log\n",
    "#X = np.log(data.X + 1)\n",
    "#value_name = \"log(count)\"\n",
    "\n",
    "count_df = pd.DataFrame(X, columns=data.var.index, index=data.obs.index).\\\n",
    "    merge(data.obs[feature_name], left_index=True, right_index=True)\n",
    "plot_df = pd.melt(count_df, id_vars=feature_name, var_name=\"Cell type\", value_name=value_name)\n",
    "if cell_types is not None:\n",
    "    plot_df = plot_df[plot_df[\"Cell type\"].isin(cell_types)]\n",
    "\n",
    "pairs = [(\"male\", \"female\")]  # Define pairs for statistical comparisons\n",
    "\n",
    "if plot_facets:\n",
    "\n",
    "    if level_order is None:\n",
    "        level_order = pd.unique(plot_df[feature_name])\n",
    "\n",
    "    K = X.shape[1]\n",
    "\n",
    "    g = sns.FacetGrid(\n",
    "        plot_df,\n",
    "        col=\"Cell type\",\n",
    "        sharey=False,\n",
    "        col_wrap=int(np.floor(np.sqrt(K))),\n",
    "        height=5,\n",
    "        aspect=2,\n",
    "    )\n",
    "    \n",
    "    g.map(\n",
    "        sns.boxplot,\n",
    "        feature_name,\n",
    "        value_name,\n",
    "        palette=cmap,\n",
    "        order=level_order,\n",
    "        **args_boxplot\n",
    "    )\n",
    "   \n",
    "    for ax in g.axes.flat:\n",
    "        cell_type = ax.get_title().split(' = ')[-1]\n",
    "        sub_df = plot_df[plot_df[\"Cell type\"] == cell_type]\n",
    "        annot = Annotator(ax, pairs, data=sub_df, x=feature_name, y=value_name, order=level_order)\n",
    "        annot.configure(test='t-test_paired', text_format='simple', loc='inside', verbose=2)\n",
    "        annot.apply_and_annotate()\n",
    "\n",
    "    if add_dots:\n",
    "\n",
    "        if \"hue\" in args_swarmplot:\n",
    "            hue = args_swarmplot.pop(\"hue\")\n",
    "        else:\n",
    "            hue = None\n",
    "\n",
    "        if hue is None:\n",
    "            g.map(\n",
    "                sns.swarmplot,\n",
    "                feature_name,\n",
    "                value_name,\n",
    "                color=\"black\",\n",
    "                order=level_order,\n",
    "                **args_swarmplot\n",
    "            ).set_titles(\"{col_name}\")\n",
    "        else:\n",
    "            g.map(\n",
    "                sns.swarmplot,\n",
    "                feature_name,\n",
    "                value_name,\n",
    "                hue,\n",
    "                order=level_order,\n",
    "                **args_swarmplot\n",
    "            ).set_titles(\"{col_name}\")\n",
    "\n",
    "   # plt.tight_layout()\n",
    "\n",
    "else:\n",
    "\n",
    "    if level_order:\n",
    "        args_boxplot[\"hue_order\"] = level_order\n",
    "        args_swarmplot[\"hue_order\"] = level_order\n",
    "\n",
    "    fig, ax = plt.subplots(figsize=figsize, dpi=dpi)\n",
    "\n",
    "    sns.boxplot(x=\"Cell type\", y=value_name, hue=feature_name, data=plot_df, fliersize=1,\n",
    "                palette=cmap, ax=ax, **args_boxplot)\n",
    "\n",
    "    annot = Annotator(ax, pairs, data=plot_df, x=\"Cell type\", y=value_name, hue=feature_name, order=level_order)\n",
    "    annot.configure(test='t-test_paired', text_format='simple', loc='inside', verbose=2 )\n",
    "    annot.apply_and_annotate()\n",
    "\n",
    "    if add_dots:\n",
    "        sns.swarmplot(\n",
    "            x=\"Cell type\",\n",
    "            y=value_name,\n",
    "            data=plot_df,\n",
    "            hue=\"dataset\",\n",
    "            ax=ax,\n",
    "            dodge=True,\n",
    "            color=\"black\",\n",
    "            **args_swarmplot\n",
    "        )\n",
    "\n",
    "    cell_types = pd.unique(plot_df[\"Cell type\"])\n",
    "    ax.set_xticklabels(cell_types, rotation=90)\n",
    "\n",
    "    if plot_legend:\n",
    "        handles, labels = ax.get_legend_handles_labels()\n",
    "        handout = []\n",
    "        labelout = []\n",
    "        for h, l in zip(handles, labels):\n",
    "            if l not in labelout:\n",
    "                labelout.append(l)\n",
    "                handout.append(h)\n",
    "        ax.legend(handout, labelout, loc='upper left', bbox_to_anchor=(1, 1), ncol=1, title=feature_name)\n",
    "\n",
    "    plt.tight_layout()\n",
    "\n",
    "plt.show()\n",
    "#g.savefig('cell_prop_normal.svg')  "
   ]
  },
  {
   "cell_type": "code",
   "execution_count": null,
   "id": "f4905e7d-2155-4869-9566-c3411364a4d8",
   "metadata": {},
   "outputs": [],
   "source": [
    "from statannotations.Annotator import Annotator\n",
    "import seaborn as sns\n",
    "\n",
    "data = data_all_tumor\n",
    "feature_name = \"sex\"\n",
    "y_scale = \"relative\"\n",
    "plot_facets = True\n",
    "add_dots = True\n",
    "cell_types = None\n",
    "args_boxplot = {}\n",
    "args_swarmplot = {}\n",
    "figsize = None\n",
    "dpi = 100\n",
    "cmap = \"Blues\"\n",
    "plot_legend = True\n",
    "level_order = None\n",
    "\n",
    "\n",
    "sns.boxplot(x=\"Cell type\", y=value_name, hue=feature_name, data=plot_df, fliersize=1,\n",
    "            palette=cmap, ax=ax, **args_boxplot)\n",
    "\n",
    "annot = Annotator(ax, pairs, data=plot_df, x=\"Cell type\", y=value_name, hue=feature_name, order=level_order)\n",
    "annot.configure(test='t-test_paired', text_format='simple', loc='inside', verbose=2 )\n",
    "annot.apply_and_annotate()"
   ]
  },
  {
   "cell_type": "code",
   "execution_count": null,
   "id": "b988b14b-5aa6-42c7-b1ae-f3fe84de4f21",
   "metadata": {},
   "outputs": [],
   "source": []
  },
  {
   "cell_type": "code",
   "execution_count": null,
   "id": "95aff52b-4bf0-4f4e-820e-af2732bcd458",
   "metadata": {},
   "outputs": [],
   "source": []
  },
  {
   "cell_type": "code",
   "execution_count": null,
   "id": "d793063b-b79a-40a3-9863-1509fe380bda",
   "metadata": {},
   "outputs": [],
   "source": [
    "from matplotlib import cm, rcParams\n",
    "\n",
    "import numpy as np\n",
    "import pandas as pd\n",
    "import matplotlib.pyplot as plt\n",
    "import seaborn as sns\n",
    "from matplotlib import cm, rcParams\n",
    "from matplotlib.colors import ListedColormap\n",
    "\n",
    "from anndata import AnnData\n",
    "from typing import Optional, Tuple, Collection, Union, List\n",
    "\n",
    "sns.set_style(\"ticks\")"
   ]
  },
  {
   "cell_type": "markdown",
   "id": "c94cc44c-7423-4661-b4d9-38f8ccc2f958",
   "metadata": {},
   "source": [
    "### STACK BAR"
   ]
  },
  {
   "cell_type": "code",
   "execution_count": null,
   "id": "2e1ded35-e679-44d3-9e63-168ee824651f",
   "metadata": {},
   "outputs": [],
   "source": [
    "def stackbar(\n",
    "        y: np.ndarray,\n",
    "        type_names: List[str],\n",
    "        title: str,\n",
    "        level_names: List[str],\n",
    "        figsize: Optional[Tuple[int, int]] = None,\n",
    "        dpi: Optional[int] = 100,\n",
    "        cmap: Optional[ListedColormap] = cm.tab20,\n",
    "        plot_legend: Optional[bool] = True,\n",
    ") -> plt.Subplot:\n",
    "    \"\"\"\n",
    "    Plots a stacked barplot for one (discrete) covariate\n",
    "    Typical use (only inside stacked_barplot): plot_one_stackbar(data.X, data.var.index, \"xyz\", data.obs.index)\n",
    "\n",
    "    Parameters\n",
    "    ----------\n",
    "    y\n",
    "        The count data, collapsed onto the level of interest. i.e. a binary covariate has two rows, one for each group, containing the count\n",
    "        mean of each cell type\n",
    "    type_names\n",
    "        The names of all cell types\n",
    "    title\n",
    "        Plot title, usually the covariate's name\n",
    "    level_names\n",
    "        names of the covariate's levels\n",
    "    figsize\n",
    "        figure size\n",
    "    dpi\n",
    "        dpi setting\n",
    "    cmap\n",
    "        The color map for the barplot\n",
    "    plot_legend\n",
    "        If True, adds a legend\n",
    "\n",
    "    Returns\n",
    "    -------\n",
    "    Returns a plot\n",
    "\n",
    "    ax\n",
    "        a plot\n",
    "\n",
    "    \"\"\"\n",
    "    n_bars, n_types = y.shape\n",
    "\n",
    "    figsize = rcParams[\"figure.figsize\"] if figsize is None else figsize\n",
    "\n",
    "    fig, ax = plt.subplots(figsize=figsize, dpi=dpi)\n",
    "    r = np.array(range(n_bars))\n",
    "    sample_sums = np.sum(y, axis=1)\n",
    "\n",
    "    barwidth = 0.85\n",
    "    cum_bars = np.zeros(n_bars)\n",
    "\n",
    "    for n in range(n_types):\n",
    "        bars = [i / j * 100 for i, j in zip([y[k][n] for k in range(n_bars)], sample_sums)]\n",
    "        plt.bar(r, bars, bottom=cum_bars, color=cmap(n % cmap.N), width=barwidth, label=type_names[n], linewidth=0)\n",
    "        cum_bars += bars\n",
    "\n",
    "    ax.set_title(title)\n",
    "    if plot_legend:\n",
    "        ax.legend(loc='upper left', bbox_to_anchor=(1, 1), ncol=1)\n",
    "    ax.set_xticks(r)\n",
    "    ax.set_xticklabels(level_names, rotation=45)\n",
    "    ax.set_ylabel(\"Proportion\")\n",
    "\n",
    "    return ax\n"
   ]
  },
  {
   "cell_type": "code",
   "execution_count": null,
   "id": "728f9020-8512-49c5-b57a-d0a2ea85c874",
   "metadata": {},
   "outputs": [],
   "source": [
    "data = data_all\n",
    "feature_name = \"sex\"\n",
    "figsize = None\n",
    "plot_legend  = True,\n",
    "level_order = None\n",
    "dpi=100\n",
    "cmap = cm.tab20"
   ]
  },
  {
   "cell_type": "code",
   "execution_count": null,
   "id": "c42112ba-ca06-4b21-a792-76177dd59892",
   "metadata": {},
   "outputs": [],
   "source": [
    "import matplotlib.pyplot as plt\n",
    "import seaborn as sns\n",
    "import numpy as np\n",
    "import pandas as pd\n",
    "from typing import Optional, Tuple, List\n",
    "from anndata import AnnData\n",
    "\n",
    "def boxplots(\n",
    "        data: AnnData,\n",
    "        feature_name: str,\n",
    "        y_scale: str = \"relative\",\n",
    "        plot_facets: bool = False,\n",
    "        add_dots: bool = False,\n",
    "        cell_types: Optional[list] = None,\n",
    "        args_boxplot: Optional[dict] = {},\n",
    "        args_swarmplot: Optional[dict] = {},\n",
    "        figsize: Optional[Tuple[int, int]] = None,\n",
    "        dpi: Optional[int] = 100,\n",
    "        cmap: Optional[str] = \"Blues\",\n",
    "        plot_legend: Optional[bool] = True,\n",
    "        level_order: List[str] = None,\n",
    "        save: bool = True,\n",
    "        filename: str = \"boxplot.png\"\n",
    ") -> Optional[Tuple[plt.Subplot, sns.axisgrid.FacetGrid]]:\n",
    "    \"\"\"\\\n",
    "    Grouped boxplot visualization. The cell counts for each cell type are shown as a group of boxplots,\n",
    "    with intra--group separation by a covariate from data.obs.\n",
    "\n",
    "    The cell type groups can either be ordered along the x-axis of a single plot (plot_facets=False) or as plot facets (plot_facets=True).\n",
    "\n",
    "    Parameters\n",
    "    ----------\n",
    "    data\n",
    "        A scCODA-compatible data object\n",
    "    feature_name\n",
    "        The name of the feature in data.obs to plot\n",
    "    y_scale\n",
    "        Transformation to of cell counts. Options: \"relative\" - Relative abundance, \"log\" - log(count), \"count\" - absolute abundance (cell counts)\n",
    "    plot_facets\n",
    "        If False, plot cell types on the x-axis. If True, plot as facets\n",
    "    add_dots\n",
    "        If True, overlay a scatterplot with one dot for each data point\n",
    "    cell_types\n",
    "        Subset of cell types that should be plotted\n",
    "    args_boxplot\n",
    "        Arguments passed to sns.boxplot\n",
    "    args_swarmplot\n",
    "            Arguments passed to sns.swarmplot\n",
    "    figsize\n",
    "        figure size\n",
    "    dpi\n",
    "        dpi setting\n",
    "    cmap\n",
    "        The seaborn color map for the barplot\n",
    "    plot_legend\n",
    "        If True, adds a legend\n",
    "    level_order\n",
    "        Custom ordering of bars on the x-axis\n",
    "\n",
    "    Returns\n",
    "    -------\n",
    "    Depending on `plot_facets`, returns a :class:`~plt.AxesSubplot` (`plot_facets = False`) or :class:`~sns.axisgrid.FacetGrid` (`plot_facets = True`) object\n",
    "\n",
    "    ax\n",
    "        if `plot_facets = False`\n",
    "    g\n",
    "        if `plot_facets = True`\n",
    "    \"\"\"\n",
    "\n",
    "    # y scale transformations\n",
    "    if y_scale == \"relative\":\n",
    "        sample_sums = np.sum(data.X, axis=1, keepdims=True)\n",
    "        X = data.X/sample_sums\n",
    "        value_name = \"Proportion\"\n",
    "    # add pseudocount 1 if using log scale (needs to be improved)\n",
    "    elif y_scale == \"log\":\n",
    "        X = np.log(data.X + 1)\n",
    "        value_name = \"log(count)\"\n",
    "    elif y_scale == \"count\":\n",
    "        X = data.X\n",
    "        value_name = \"count\"\n",
    "    else:\n",
    "        raise ValueError(\"Invalid y_scale transformation\")\n",
    "\n",
    "    count_df = pd.DataFrame(X, columns=data.var.index, index=data.obs.index).\\\n",
    "        merge(data.obs[feature_name], left_index=True, right_index=True)\n",
    "    plot_df = pd.melt(count_df, id_vars=feature_name, var_name=\"Cell type\", value_name=value_name)\n",
    "    if cell_types is not None:\n",
    "        plot_df = plot_df[plot_df[\"Cell type\"].isin(cell_types)]\n",
    "\n",
    "    if plot_facets:\n",
    "\n",
    "        if level_order is None:\n",
    "            level_order = pd.unique(plot_df[feature_name])\n",
    "\n",
    "        K = X.shape[1]\n",
    "\n",
    "        g = sns.FacetGrid(\n",
    "            plot_df,\n",
    "            col=\"Cell type\",\n",
    "            sharey=False,\n",
    "            col_wrap=int(np.floor(np.sqrt(K))),\n",
    "            height=5,\n",
    "            aspect=2,\n",
    "        )\n",
    "        g.map(\n",
    "            sns.boxplot,\n",
    "            feature_name,\n",
    "            value_name,\n",
    "            palette=cmap,\n",
    "            order=level_order,\n",
    "            **args_boxplot\n",
    "        )\n",
    "\n",
    "        if add_dots:\n",
    "\n",
    "            if \"hue\" in args_swarmplot:\n",
    "                hue = args_swarmplot.pop(\"hue\")\n",
    "            else:\n",
    "                hue = None\n",
    "\n",
    "            if hue is None:\n",
    "                g.map(\n",
    "                    sns.swarmplot,\n",
    "                    feature_name,\n",
    "                    value_name,\n",
    "                    color=\"black\",\n",
    "                    order=level_order,\n",
    "                    **args_swarmplot\n",
    "                ).set_titles(\"{col_name}\")\n",
    "            else:\n",
    "                g.map(\n",
    "                    sns.swarmplot,\n",
    "                    feature_name,\n",
    "                    value_name,\n",
    "                    hue,\n",
    "                    order=level_order,\n",
    "                    **args_swarmplot\n",
    "                ).set_titles(\"{col_name}\")\n",
    "        if save:\n",
    "            g.savefig(filename)\n",
    "\n",
    "        plt.show()\n",
    "        return g\n",
    "\n",
    "    else:\n",
    "\n",
    "        if level_order:\n",
    "            args_boxplot[\"hue_order\"] = level_order\n",
    "            args_swarmplot[\"hue_order\"] = level_order\n",
    "\n",
    "        fig, ax = plt.subplots(figsize=figsize, dpi=dpi)\n",
    "\n",
    "        sns.boxplot(x=\"Cell type\", y=value_name, hue=feature_name, data=plot_df, fliersize=1,\n",
    "                    palette=cmap, ax=ax, **args_boxplot)\n",
    "\n",
    "        if add_dots:\n",
    "            sns.swarmplot(\n",
    "                x=\"Cell type\",\n",
    "                y=value_name,\n",
    "                data=plot_df,\n",
    "                hue=feature_name,\n",
    "                ax=ax,\n",
    "                dodge=True,\n",
    "                color=\"black\",\n",
    "                **args_swarmplot\n",
    "            )\n",
    "\n",
    "        cell_types = pd.unique(plot_df[\"Cell type\"])\n",
    "        ax.set_xticklabels(cell_types, rotation=90)\n",
    "\n",
    "        if plot_legend:\n",
    "            handles, labels = ax.get_legend_handles_labels()\n",
    "            handout = []\n",
    "            labelout = []\n",
    "            for h, l in zip(handles, labels):\n",
    "                if l not in labelout:\n",
    "                    labelout.append(l)\n",
    "                    handout.append(h)\n",
    "            ax.legend(handout, labelout, loc='upper left', bbox_to_anchor=(1, 1), ncol=1, title=feature_name)\n",
    "\n",
    "        plt.tight_layout()\n",
    "        if save:\n",
    "            plt.savefig(filename)\n",
    "\n",
    "\n",
    "        plt.show()\n",
    "        return ax\n"
   ]
  },
  {
   "cell_type": "code",
   "execution_count": null,
   "id": "15927b54-3fbc-42c8-ac52-d3c5b1f65371",
   "metadata": {},
   "outputs": [],
   "source": [
    "data = data_all_normal\n",
    "sample_sums = np.sum(data.X, axis=1, keepdims=True)\n",
    "X = data.X/sample_sums\n",
    "value_name = \"Proportion\"\n",
    "count_df = pd.DataFrame(X, columns=data.var.index, index=data.obs.index).\\\n",
    "merge(data.obs[feature_name], left_index=True, right_index=True)\n",
    "plot_df_normal = pd.melt(count_df, id_vars=feature_name, var_name=\"Cell type\", value_name=value_name)"
   ]
  },
  {
   "cell_type": "code",
   "execution_count": null,
   "id": "af1c5fef-6449-4ad9-a374-ebc95be75363",
   "metadata": {},
   "outputs": [],
   "source": [
    "plot_df_normal =  plot_df_normal.dropna()"
   ]
  },
  {
   "cell_type": "code",
   "execution_count": null,
   "id": "b070abf6-aa02-40a2-a533-a256fb6c6337",
   "metadata": {},
   "outputs": [],
   "source": [
    "data = data_all_tumor\n",
    "sample_sums = np.sum(data.X, axis=1, keepdims=True)\n",
    "X = data.X/sample_sums\n",
    "value_name = \"Proportion\"\n",
    "count_df = pd.DataFrame(X, columns=data.var.index, index=data.obs.index).\\\n",
    "merge(data.obs[feature_name], left_index=True, right_index=True)\n",
    "plot_df_tumor = pd.melt(count_df, id_vars=feature_name, var_name=\"Cell type\", value_name=value_name)"
   ]
  },
  {
   "cell_type": "code",
   "execution_count": null,
   "id": "ae473d6b-5264-463b-9401-e9de6b5d9fc0",
   "metadata": {},
   "outputs": [],
   "source": [
    "plot_df_tumor =  plot_df_tumor.dropna()"
   ]
  },
  {
   "cell_type": "code",
   "execution_count": null,
   "id": "75e04e9c-fd78-4976-91e9-16d40b26b2aa",
   "metadata": {},
   "outputs": [],
   "source": [
    "from scipy.stats import ttest_ind"
   ]
  },
  {
   "cell_type": "code",
   "execution_count": null,
   "id": "ede1b597-e85c-4933-9a48-6c27ee38a78d",
   "metadata": {},
   "outputs": [],
   "source": [
    "import pandas as pd\n",
    "from scipy.stats import ttest_ind\n",
    "from statsmodels.stats.multitest import multipletests\n",
    "\n",
    "\n",
    "# Unique cell types\n",
    "cell_types = plot_df_normal['Cell type'].unique()\n",
    "\n",
    "# Dictionary to hold t-test results\n",
    "t_test_results = {}\n",
    "\n",
    "# Perform t-test for each cellplot_df_normal type\n",
    "for cell_type in cell_types:\n",
    "    # Subset the data by cell type\n",
    "    cell_data = plot_df_normal[plot_df_normal['Cell type'] == cell_type]\n",
    "    \n",
    "    # Separate the data by sex\n",
    "    male_data = cell_data[cell_data['sex'] == 'male']['Proportion']\n",
    "    female_data = cell_data[cell_data['sex'] == 'female']['Proportion']\n",
    "    \n",
    "    # Perform t-test\n",
    "    t_stat, p_value = ttest_ind(male_data, female_data)\n",
    "    \n",
    "    # Store the results\n",
    "    t_test_results[cell_type] = {'t_stat': t_stat, 'p_value': p_value}\n",
    "\n",
    "# Convert results to DataFrame for better display\n",
    "t_test_results_df = pd.DataFrame(t_test_results).T\n",
    "\n",
    "# Adjust p-values using Benjamini-Hochberg method\n",
    "_, adjusted_p_values, _, _ = multipletests(t_test_results_df['p_value'], method='fdr_bh')\n",
    "\n",
    "# Add adjusted p-values to the DataFrame\n",
    "t_test_results_df['adjusted_p_value'] = adjusted_p_values\n",
    "\n",
    "print(t_test_results_df)\n"
   ]
  },
  {
   "cell_type": "code",
   "execution_count": null,
   "id": "72116ba9-abbb-4149-b562-6a9fbb508c44",
   "metadata": {},
   "outputs": [],
   "source": [
    "import pandas as pd\n",
    "from scipy.stats import mannwhitneyu\n",
    "from statsmodels.stats.multitest import multipletests\n",
    "\n",
    "# Unique cell types\n",
    "cell_types = plot_df_normal['Cell type'].unique()\n",
    "\n",
    "# Dictionary to hold Wilcoxon test results\n",
    "wilcoxon_test_results = {}\n",
    "\n",
    "# Perform Wilcoxon test for each cell type\n",
    "for cell_type in cell_types:\n",
    "    # Subset the data by cell type\n",
    "    cell_data = plot_df_normal[plot_df_normal['Cell type'] == cell_type]\n",
    "    \n",
    "    # Separate the data by sex\n",
    "    male_data = cell_data[cell_data['sex'] == 'male']['Proportion']\n",
    "    female_data = cell_data[cell_data['sex'] == 'female']['Proportion']\n",
    "    \n",
    "    # Perform Wilcoxon rank-sum test\n",
    "    stat, p_value = mannwhitneyu(male_data, female_data, alternative='two-sided')\n",
    "    \n",
    "    # Store the results\n",
    "    wilcoxon_test_results[cell_type] = {'stat': stat, 'p_value': p_value}\n",
    "\n",
    "# Convert results to DataFrame for better display\n",
    "wilcoxon_test_results_df = pd.DataFrame(wilcoxon_test_results).T\n",
    "\n",
    "# Adjust p-values using Benjamini-Hochberg method\n",
    "_, adjusted_p_values, _, _ = multipletests(wilcoxon_test_results_df['p_value'], method='fdr_bh')\n",
    "\n",
    "# Add adjusted p-values to the DataFrame\n",
    "wilcoxon_test_results_df['adjusted_p_value'] = adjusted_p_values\n",
    "\n",
    "print(wilcoxon_test_results_df)\n"
   ]
  },
  {
   "cell_type": "code",
   "execution_count": null,
   "id": "b6fc731d-b63f-437d-9175-598c9a7b6566",
   "metadata": {},
   "outputs": [],
   "source": [
    "import pandas as pd\n",
    "from scipy.stats import ttest_ind\n",
    "from statsmodels.stats.multitest import multipletests\n",
    "\n",
    "\n",
    "# Unique cell types\n",
    "cell_types = plot_df_tumor['Cell type'].unique()\n",
    "\n",
    "# Dictionary to hold t-test results\n",
    "t_test_results = {}\n",
    "\n",
    "# Perform t-test for each cellplot_df_normal type\n",
    "for cell_type in cell_types:\n",
    "    # Subset the data by cell type\n",
    "    cell_data = plot_df_tumor[plot_df_tumor['Cell type'] == cell_type]\n",
    "    \n",
    "    # Separate the data by sex\n",
    "    male_data = cell_data[cell_data['sex'] == 'male']['Proportion']\n",
    "    female_data = cell_data[cell_data['sex'] == 'female']['Proportion']\n",
    "    \n",
    "    # Perform t-test\n",
    "    t_stat, p_value = ttest_ind(male_data, female_data)\n",
    "    \n",
    "    # Store the results\n",
    "    t_test_results[cell_type] = {'t_stat': t_stat, 'p_value': p_value}\n",
    "\n",
    "# Convert results to DataFrame for better display\n",
    "t_test_results_df = pd.DataFrame(t_test_results).T\n",
    "\n",
    "# Adjust p-values using Benjamini-Hochberg method\n",
    "_, adjusted_p_values, _, _ = multipletests(t_test_results_df['p_value'], method='fdr_bh')\n",
    "\n",
    "# Add adjusted p-values to the DataFrame\n",
    "t_test_results_df['adjusted_p_value'] = adjusted_p_values\n",
    "\n",
    "print(t_test_results_df)\n"
   ]
  },
  {
   "cell_type": "code",
   "execution_count": null,
   "id": "05139707-b50f-402d-8121-b06c73d5a5ee",
   "metadata": {},
   "outputs": [],
   "source": [
    "import pandas as pd\n",
    "from scipy.stats import mannwhitneyu\n",
    "from statsmodels.stats.multitest import multipletests\n",
    "\n",
    "# Unique cell types\n",
    "cell_types = plot_df_tumor['Cell type'].unique()\n",
    "\n",
    "# Dictionary to hold Wilcoxon test results\n",
    "wilcoxon_test_results = {}\n",
    "\n",
    "# Perform Wilcoxon test for each cell type\n",
    "for cell_type in cell_types:\n",
    "    # Subset the data by cell type\n",
    "    cell_data = plot_df_tumor[plot_df_tumor['Cell type'] == cell_type]\n",
    "    \n",
    "    # Separate the data by sex\n",
    "    male_data = cell_data[cell_data['sex'] == 'male']['Proportion']\n",
    "    female_data = cell_data[cell_data['sex'] == 'female']['Proportion']\n",
    "    \n",
    "    # Perform Wilcoxon rank-sum test\n",
    "    stat, p_value = mannwhitneyu(male_data, female_data, alternative='two-sided')\n",
    "    \n",
    "    # Store the results\n",
    "    wilcoxon_test_results[cell_type] = {'stat': stat, 'p_value': p_value}\n",
    "\n",
    "# Convert results to DataFrame for better display\n",
    "wilcoxon_test_results_df = pd.DataFrame(wilcoxon_test_results).T\n",
    "\n",
    "# Adjust p-values using Benjamini-Hochberg method\n",
    "_, adjusted_p_values, _, _ = multipletests(wilcoxon_test_results_df['p_value'], method='fdr_bh')\n",
    "\n",
    "# Add adjusted p-values to the DataFrame\n",
    "wilcoxon_test_results_df['adjusted_p_value'] = adjusted_p_values\n",
    "\n",
    "print(wilcoxon_test_results_df)\n"
   ]
  },
  {
   "cell_type": "markdown",
   "id": "c15d29dc-30ae-4794-8721-e959a3c0643a",
   "metadata": {},
   "source": [
    "## LOG "
   ]
  },
  {
   "cell_type": "code",
   "execution_count": null,
   "id": "4992ecbd-bcd6-4fbf-acdf-49734c74e35b",
   "metadata": {},
   "outputs": [],
   "source": [
    "data = data_all_tumor\n",
    "X = np.log(data.X + 1)\n",
    "value_name = \"log(count)\"\n",
    "count_df = pd.DataFrame(X, columns=data.var.index, index=data.obs.index).\\\n",
    "merge(data.obs[feature_name], left_index=True, right_index=True)\n",
    "plot_df_tumor_log = pd.melt(count_df, id_vars=feature_name, var_name=\"Cell type\", value_name=value_name)"
   ]
  },
  {
   "cell_type": "code",
   "execution_count": null,
   "id": "4b64c325-2db4-45a9-84ce-350293650a11",
   "metadata": {},
   "outputs": [],
   "source": [
    "plot_df_tumor_log =  plot_df_tumor_log.dropna()"
   ]
  },
  {
   "cell_type": "code",
   "execution_count": null,
   "id": "24329062-4a68-4ecb-b406-1db23f3d7e9f",
   "metadata": {},
   "outputs": [],
   "source": [
    "import pandas as pd\n",
    "from scipy.stats import mannwhitneyu\n",
    "from statsmodels.stats.multitest import multipletests\n",
    "\n",
    "# Unique cell types\n",
    "cell_types = plot_df_tumor_log['Cell type'].unique()\n",
    "\n",
    "# Dictionary to hold Wilcoxon test results\n",
    "wilcoxon_test_results = {}\n",
    "\n",
    "# Perform Wilcoxon test for each cell type\n",
    "for cell_type in cell_types:\n",
    "    # Subset the data by cell type\n",
    "    cell_data = plot_df_tumor_log[plot_df_tumor_log['Cell type'] == cell_type]\n",
    "    \n",
    "    # Separate the data by sex\n",
    "    male_data = cell_data[cell_data['sex'] == 'male']['log(count)']\n",
    "    female_data = cell_data[cell_data['sex'] == 'female']['log(count)']\n",
    "    \n",
    "    # Perform Wilcoxon rank-sum test\n",
    "    stat, p_value = mannwhitneyu(male_data, female_data, alternative='two-sided')\n",
    "    \n",
    "    # Store the results\n",
    "    wilcoxon_test_results[cell_type] = {'stat': stat, 'p_value': p_value}\n",
    "\n",
    "# Convert results to DataFrame for better display\n",
    "wilcoxon_test_results_df = pd.DataFrame(wilcoxon_test_results).T\n",
    "\n",
    "# Adjust p-values using Benjamini-Hochberg method\n",
    "_, adjusted_p_values, _, _ = multipletests(wilcoxon_test_results_df['p_value'], method='fdr_bh')\n",
    "\n",
    "# Add adjusted p-values to the DataFrame\n",
    "wilcoxon_test_results_df['adjusted_p_value'] = adjusted_p_values\n",
    "\n",
    "print(wilcoxon_test_results_df)\n"
   ]
  },
  {
   "cell_type": "code",
   "execution_count": null,
   "id": "0a43d7bb-d0bf-4411-9104-fe9aa777c0e7",
   "metadata": {},
   "outputs": [],
   "source": [
    "data = data_all_normal\n",
    "X = np.log(data.X + 1)\n",
    "value_name = \"log(count)\"\n",
    "count_df = pd.DataFrame(X, columns=data.var.index, index=data.obs.index).\\\n",
    "merge(data.obs[feature_name], left_index=True, right_index=True)\n",
    "plot_df_normal_log = pd.melt(count_df, id_vars=feature_name, var_name=\"Cell type\", value_name=value_name)"
   ]
  },
  {
   "cell_type": "code",
   "execution_count": null,
   "id": "515fe1e3-4124-442a-8273-4a76f41f20fb",
   "metadata": {},
   "outputs": [],
   "source": [
    "plot_df_normal_log =  plot_df_normal_log.dropna()"
   ]
  },
  {
   "cell_type": "code",
   "execution_count": null,
   "id": "18a24c28-78e9-40bc-81ff-e38136f5f856",
   "metadata": {
    "scrolled": true
   },
   "outputs": [],
   "source": [
    "import pandas as pd\n",
    "from scipy.stats import mannwhitneyu\n",
    "from statsmodels.stats.multitest import multipletests\n",
    "\n",
    "# Unique cell types\n",
    "cell_types = plot_df_normal_log['Cell type'].unique()\n",
    "\n",
    "# Dictionary to hold Wilcoxon test results\n",
    "wilcoxon_test_results = {}\n",
    "\n",
    "# Perform Wilcoxon test for each cell type\n",
    "for cell_type in cell_types:\n",
    "    # Subset the data by cell type\n",
    "    cell_data = plot_df_normal_log[plot_df_normal_log['Cell type'] == cell_type]\n",
    "    \n",
    "    # Separate the data by sex\n",
    "    male_data = cell_data[cell_data['sex'] == 'male']['log(count)']\n",
    "    female_data = cell_data[cell_data['sex'] == 'female']['log(count)']\n",
    "    \n",
    "    # Perform Wilcoxon rank-sum test\n",
    "    stat, p_value = mannwhitneyu(male_data, female_data, alternative='two-sided')\n",
    "    \n",
    "    # Store the results\n",
    "    wilcoxon_test_results[cell_type] = {'stat': stat, 'p_value': p_value}\n",
    "\n",
    "# Convert results to DataFrame for better display\n",
    "wilcoxon_test_results_df = pd.DataFrame(wilcoxon_test_results).T\n",
    "\n",
    "# Adjust p-values using Benjamini-Hochberg method\n",
    "_, adjusted_p_values, _, _ = multipletests(wilcoxon_test_results_df['p_value'], method='fdr_bh')\n",
    "\n",
    "# Add adjusted p-values to the DataFrame\n",
    "wilcoxon_test_results_df['adjusted_p_value'] = adjusted_p_values\n",
    "\n",
    "print(wilcoxon_test_results_df)\n"
   ]
  },
  {
   "cell_type": "code",
   "execution_count": null,
   "id": "ff98fe63-eff7-4efb-86b8-ee14a82710e2",
   "metadata": {},
   "outputs": [],
   "source": [
    "paired_adata.var[\"gene_id\"] = paired_adata.var_names"
   ]
  },
  {
   "cell_type": "code",
   "execution_count": null,
   "id": "da6aa993-3812-4e40-8e6f-38a55384376a",
   "metadata": {},
   "outputs": [],
   "source": [
    "gene_list = [\"NLRP1\",\n",
    "\"AIM2\",\n",
    "\"IFIH1\",\n",
    "\"MYD88\",\n",
    "\"NFKB1\",\n",
    "\"NFKB2\",\n",
    "\"IRAK1\",\n",
    "\"IRAK2\",\n",
    "\"IRAK4\",\n",
    "\"MAP3K7\",\n",
    "#\"TRIF\",\n",
    "\"TRAF6\",\n",
    "\"IL18\",\n",
    "\"IRF3\",\n",
    "\"IRF7\",\n",
    "\"TRAF3\",\n",
    "#\"RIP1\",\n",
    "\"FOS\",\n",
    "\"JUN\",\n",
    "\"IKBKG\",\n",
    "\"MAP2K3\",\n",
    "#\"MAP32K4\",\n",
    "\"MAP2K6\",\n",
    "\"MAP2K7\",\n",
    "\"IL1B\",\n",
    "\"IL1A\"]"
   ]
  },
  {
   "cell_type": "code",
   "execution_count": null,
   "id": "51d97b3d-8a9e-4966-a99c-c1deab71f043",
   "metadata": {
    "scrolled": true
   },
   "outputs": [],
   "source": [
    "paired_adata.var_names = paired_adata.var[\"feature_name\"]"
   ]
  },
  {
   "cell_type": "code",
   "execution_count": null,
   "id": "6a21f484-7a42-466c-86cd-230f66e751e8",
   "metadata": {},
   "outputs": [],
   "source": [
    "sc.pl.dotplot(paired_adata, gene_list, groupby='cell_type', dendrogram=False, log=True, use_raw=False)"
   ]
  },
  {
   "cell_type": "code",
   "execution_count": null,
   "id": "eca024b0-3f1b-4e38-b06e-62ab5b49c324",
   "metadata": {},
   "outputs": [],
   "source": [
    "sc.pl.matrixplot(paired_adata, gene_list, groupby='cell_type', dendrogram=False, log=True, use_raw=False)"
   ]
  },
  {
   "cell_type": "code",
   "execution_count": null,
   "id": "ab1a0f46-0008-4062-ba02-f2ac92043945",
   "metadata": {},
   "outputs": [],
   "source": [
    "sc.pl.violin(paired_adata, keys='FOS', groupby='cell_type', rotation=90, log=False, use_raw=False, layer= \"counts_length_scaled\", le)"
   ]
  },
  {
   "cell_type": "code",
   "execution_count": null,
   "id": "38f8e0d7-e04a-4c3e-8120-e7b59d24c1c5",
   "metadata": {},
   "outputs": [],
   "source": [
    "paired_adata"
   ]
  },
  {
   "cell_type": "code",
   "execution_count": null,
   "id": "dac55944-c720-40ea-8185-70f6f3e8058f",
   "metadata": {},
   "outputs": [],
   "source": []
  }
 ],
 "metadata": {
  "kernelspec": {
   "display_name": "scanpy",
   "language": "python",
   "name": "scanpy"
  },
  "language_info": {
   "codemirror_mode": {
    "name": "ipython",
    "version": 3
   },
   "file_extension": ".py",
   "mimetype": "text/x-python",
   "name": "python",
   "nbconvert_exporter": "python",
   "pygments_lexer": "ipython3",
   "version": "3.12.3"
  }
 },
 "nbformat": 4,
 "nbformat_minor": 5
}
