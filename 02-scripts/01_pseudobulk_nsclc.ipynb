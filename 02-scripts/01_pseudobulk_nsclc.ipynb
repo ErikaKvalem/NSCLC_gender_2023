{
 "cells": [
  {
   "cell_type": "markdown",
   "id": "2980161a-241b-4753-b740-5ff860884011",
   "metadata": {},
   "source": [
    "# 1.NSCLC Sex-stratified SC Analysis\n",
    "\n",
    "## Data selection, pseudobulk, create input for DESEQ2"
   ]
  },
  {
   "cell_type": "code",
   "execution_count": 2,
   "id": "edbb3fde-d351-4387-896d-e931307eeb53",
   "metadata": {},
   "outputs": [],
   "source": [
    "import warnings\n",
    "import numpy as np\n",
    "import pandas as pd \n",
    "import scanpy as sc\n",
    "#import tensorflow as tf\n",
    "import matplotlib.pyplot as plt\n",
    "import matplotlib\n",
    "import seaborn as sns\n",
    "#import altair as alt\n",
    "#import pertpy as pt\n",
    "#from pandas.api.types import is_categorical_dtype\n",
    "#from pandas import CategoricalDtype"
   ]
  },
  {
   "cell_type": "code",
   "execution_count": 3,
   "id": "3bf34676-ba05-4fdc-a50b-9a6c94b38b35",
   "metadata": {},
   "outputs": [],
   "source": [
    "import decoupler as dc"
   ]
  },
  {
   "cell_type": "code",
   "execution_count": 4,
   "id": "0553f14a-fcfa-4596-81de-867668eed4b2",
   "metadata": {},
   "outputs": [
    {
     "data": {
      "text/plain": [
       "'1.6.2'"
      ]
     },
     "execution_count": 4,
     "metadata": {},
     "output_type": "execute_result"
    }
   ],
   "source": [
    "dc.__version__"
   ]
  },
  {
   "cell_type": "code",
   "execution_count": 5,
   "id": "db4b1cb3-3364-42fb-bac7-6cd852036110",
   "metadata": {},
   "outputs": [],
   "source": [
    "path = \"/data/projects/2023/LCBiome/nsclc_gender_atlas_tmp\"\n",
    "input_path    = f\"{path}/data/local.h5ad\""
   ]
  },
  {
   "cell_type": "code",
   "execution_count": null,
   "id": "fe038019-17ef-4972-a4d0-f129a520e6f3",
   "metadata": {},
   "outputs": [],
   "source": [
    "adata = sc.read_h5ad(input_path) \n",
    "nsclc_chrom = pd.read_csv(f\"{path}/out/007_re_analysis/tables/input/adata_var_nsclc_chrom.csv\")"
   ]
  },
  {
   "cell_type": "code",
   "execution_count": null,
   "id": "f67e5c74-70e9-461c-9690-22c5583260b4",
   "metadata": {},
   "outputs": [],
   "source": [
    "adata"
   ]
  },
  {
   "cell_type": "code",
   "execution_count": null,
   "id": "df4e83e5-e1fa-4934-8750-1789b5576770",
   "metadata": {},
   "outputs": [],
   "source": [
    "adata.obs.disease.value_counts()"
   ]
  },
  {
   "cell_type": "code",
   "execution_count": null,
   "id": "4affacbc-337a-4c72-b6b0-aa596a1f7db2",
   "metadata": {},
   "outputs": [],
   "source": [
    "adata.obs.tumor_stage.value_counts()"
   ]
  },
  {
   "cell_type": "code",
   "execution_count": null,
   "id": "ccd89aad-1a50-4acc-9d9e-8697c84951e0",
   "metadata": {},
   "outputs": [],
   "source": [
    "adata.obs.sex.value_counts()"
   ]
  },
  {
   "cell_type": "code",
   "execution_count": null,
   "id": "4670efbd-e593-4dcc-9e54-8bf3d24f80b5",
   "metadata": {},
   "outputs": [],
   "source": [
    "adata.obs.origin.value_counts()"
   ]
  },
  {
   "cell_type": "markdown",
   "id": "9564a63b-313e-453f-8d2f-a4d7f39c153c",
   "metadata": {},
   "source": [
    "### 01.SELECT ONLY male, female & tumor, normal_adjacent"
   ]
  },
  {
   "cell_type": "code",
   "execution_count": null,
   "id": "1c8b08b4-3f4e-419f-a329-e7c936c2c5c5",
   "metadata": {},
   "outputs": [],
   "source": [
    "adata = adata[(adata.obs[\"disease\"] != \"normal\") & (adata.obs[\"disease\"] != \"chronic obstructive pulmonary disease\")] #exclude normal and COPD samples\n",
    "adata = adata[adata.obs[\"tumor_stage\"].notna()] #exclude samples without tumor stage\n",
    "adata = adata[(adata.obs[\"sex\"]==\"male\")| (adata.obs[\"sex\"]==\"female\")]"
   ]
  },
  {
   "cell_type": "code",
   "execution_count": null,
   "id": "267fc46a-7815-432c-b6b4-3e9495b5111b",
   "metadata": {},
   "outputs": [],
   "source": [
    "adata = adata[(adata.obs[\"origin\"]==\"tumor_primary\")| (adata.obs[\"origin\"]==\"normal_adjacent\")]"
   ]
  },
  {
   "cell_type": "code",
   "execution_count": null,
   "id": "280fd4b4-8197-4fc8-98ce-59b8c30de245",
   "metadata": {},
   "outputs": [],
   "source": [
    "adata.obs.disease.value_counts()"
   ]
  },
  {
   "cell_type": "code",
   "execution_count": null,
   "id": "64456b10-beb9-4239-b8e2-97c7cd19f530",
   "metadata": {},
   "outputs": [],
   "source": [
    "adata.obs.tumor_stage.value_counts()"
   ]
  },
  {
   "cell_type": "code",
   "execution_count": null,
   "id": "c7b8edc1-ede1-44ab-bca6-e9c759a07a3d",
   "metadata": {},
   "outputs": [],
   "source": [
    "adata.obs.sex.value_counts()"
   ]
  },
  {
   "cell_type": "code",
   "execution_count": null,
   "id": "9db59ca2-e354-4790-ba10-d74fd7036dd0",
   "metadata": {},
   "outputs": [],
   "source": [
    "adata.obs.origin.value_counts()"
   ]
  },
  {
   "cell_type": "markdown",
   "id": "6bc95759-1287-4ef1-a17d-a856597ed1ed",
   "metadata": {},
   "source": [
    "### 02.CELL TPYE RE-CLASIFICATION "
   ]
  },
  {
   "cell_type": "code",
   "execution_count": null,
   "id": "2d216c5a-6501-4bbf-8721-daeb571bba99",
   "metadata": {},
   "outputs": [],
   "source": [
    "adata.obs.cell_type.value_counts()"
   ]
  },
  {
   "cell_type": "code",
   "execution_count": null,
   "id": "f798450d-b414-47b4-82f3-f49b1c3309fa",
   "metadata": {},
   "outputs": [],
   "source": [
    "adata.obs.cell_type_major.value_counts()"
   ]
  },
  {
   "cell_type": "code",
   "execution_count": null,
   "id": "7ccd41a0-c15a-4346-929c-b61825097693",
   "metadata": {
    "tags": []
   },
   "outputs": [],
   "source": [
    "cells_of_interest=['alveolar macrophage', 'neutrophil',\n",
    " 'macrophage','malignant cell',\n",
    " 'B cell',\n",
    "  'regulatory T cell',\n",
    "'CD4-positive, alpha-beta T cell',\n",
    " 'CD8-positive, alpha-beta T cell',\n",
    " 'neutrophils','epithelial cell of lung','multi-ciliated epithelial cell' ]\n",
    "subset_adata = adata[adata.obs[\"cell_type\"].isin(cells_of_interest)] \n"
   ]
  },
  {
   "cell_type": "code",
   "execution_count": null,
   "id": "711af383-82d3-490e-9144-0eb14ea2972b",
   "metadata": {},
   "outputs": [],
   "source": [
    "set(subset_adata.obs.cell_type)"
   ]
  },
  {
   "cell_type": "code",
   "execution_count": null,
   "id": "bccdf1ec-8e7e-421a-8582-8b41f6eea271",
   "metadata": {},
   "outputs": [],
   "source": [
    "set(subset_adata.obs.cell_type_major)"
   ]
  },
  {
   "cell_type": "code",
   "execution_count": null,
   "id": "2aa41398-d555-495b-a21c-569ef21d03fa",
   "metadata": {
    "scrolled": true
   },
   "outputs": [],
   "source": [
    "subset_adata.obs[\"cell_type\"]= subset_adata.obs[\"cell_type\"].replace(['epithelial cell of lung','multi-ciliated epithelial cell',], 'epithelial cell')\n",
    "subset_adata.obs[\"cell_type\"]= subset_adata.obs[\"cell_type\"].replace(['alveolar macrophage'], 'macrophage')\n",
    "subset_adata.obs[\"cell_type\"]= subset_adata.obs[\"cell_type\"].replace(['CD4-positive, alpha-beta T cell'], 'CD4+ T cell')\n",
    "subset_adata.obs[\"cell_type\"]= subset_adata.obs[\"cell_type\"].replace(['CD8-positive, alpha-beta T cell'], 'CD8+ T cell')"
   ]
  },
  {
   "cell_type": "code",
   "execution_count": null,
   "id": "0f3722a6-f1bd-49d5-b48e-52f9f579cc5b",
   "metadata": {},
   "outputs": [],
   "source": [
    "set(subset_adata.obs.cell_type)"
   ]
  },
  {
   "cell_type": "code",
   "execution_count": null,
   "id": "b386f50d-964a-4d90-a95b-00413e5fc474",
   "metadata": {},
   "outputs": [],
   "source": [
    "subset_adata"
   ]
  },
  {
   "cell_type": "code",
   "execution_count": null,
   "id": "6536f003-2844-4746-aa42-8013f4e04f4b",
   "metadata": {},
   "outputs": [],
   "source": [
    "adata"
   ]
  },
  {
   "cell_type": "markdown",
   "id": "c28c08de-201d-4a29-a393-3ae79c5d30d7",
   "metadata": {},
   "source": [
    "Number of cells: \n",
    "- Original adata 1283972\n",
    "- Adata after filtering for disease, sex, origin, tumor stage  887157\n",
    "- Subset adata for cells of interest and renaming 638804"
   ]
  },
  {
   "cell_type": "markdown",
   "id": "a3755a3f-84d0-4a46-9494-a8df9a8994f8",
   "metadata": {},
   "source": [
    "- In 00_get_chromosome I have retrieved the information for the chromosome and I append to subset_adata.\n",
    "\n",
    "- Compute DEG (male vs female)\n",
    "  Separate into 3 dataframes: autosomal_adata, xchrom_adata, ychrom_adata\n",
    "- Create bar plot to compare Number of DEG in TUMOR vs NORMAL "
   ]
  },
  {
   "cell_type": "markdown",
   "id": "0bebb65b-cb8b-49e3-9d4c-20cbe4bb590f",
   "metadata": {},
   "source": [
    "### 03.Get X, Y and autosomal genes"
   ]
  },
  {
   "cell_type": "code",
   "execution_count": null,
   "id": "a26a63bf-999b-43aa-b377-8cfc65517f66",
   "metadata": {},
   "outputs": [],
   "source": [
    "nsclc_chrom = nsclc_chrom.rename(columns={\"ensembl_gene_id\":\"gene_id\"})\n",
    "nsclc_chrom = nsclc_chrom.iloc[:,1:]\n",
    "nsclc_chrom = nsclc_chrom.set_index(\"gene_id\")\n",
    "nsclc_chrom[\"gene_id\"] = nsclc_chrom.index"
   ]
  },
  {
   "cell_type": "code",
   "execution_count": null,
   "id": "e5025b91-04a0-4edf-8280-3bbdb8d41dfb",
   "metadata": {},
   "outputs": [],
   "source": [
    "subset_adata.var[\"gene_id\"] = subset_adata.var_names \n",
    "subset_adata_var_chrom =pd.concat([subset_adata.var, nsclc_chrom], axis = 1)\n",
    "subset_adata.var = subset_adata_var_chrom"
   ]
  },
  {
   "cell_type": "code",
   "execution_count": null,
   "id": "bfc33eb9-bb1f-458d-9091-491c248f5be2",
   "metadata": {},
   "outputs": [],
   "source": [
    "subset_adata.var[\"chromosome_name\"]  = subset_adata.var[\"chromosome_name\"].astype(str)"
   ]
  },
  {
   "cell_type": "code",
   "execution_count": null,
   "id": "0265fd8b-ac95-40a1-aae6-562724c78d09",
   "metadata": {},
   "outputs": [],
   "source": [
    "subset_indices = subset_adata.var['chromosome_name'] == 'X'\n",
    "\n",
    "# Subset adata to keep only the genes with chromosome 'X'\n",
    "xchrom_adata = subset_adata[:, subset_indices]"
   ]
  },
  {
   "cell_type": "code",
   "execution_count": null,
   "id": "774c90ee-18be-45c0-b982-926cc3f3ad0c",
   "metadata": {},
   "outputs": [],
   "source": [
    "subset_indices = subset_adata.var['chromosome_name'] == 'Y'\n",
    "\n",
    "# Subset adata to keep only the genes with chromosome 'Y'\n",
    "ychrom_adata = subset_adata[:, subset_indices]"
   ]
  },
  {
   "cell_type": "code",
   "execution_count": null,
   "id": "027b193f-1892-4646-b3f8-89461b91bf50",
   "metadata": {},
   "outputs": [],
   "source": [
    "subset_indices = (subset_adata.var['chromosome_name'] != 'Y') &  (subset_adata.var['chromosome_name'] != 'X') \n",
    "\n",
    "# Subset adata to keep only the genes with chromosome 'Y'\n",
    "autosomal_adata = subset_adata[:, subset_indices]"
   ]
  },
  {
   "cell_type": "code",
   "execution_count": null,
   "id": "cd7e1f2e-b28a-4084-9f33-79666fe88530",
   "metadata": {},
   "outputs": [],
   "source": [
    "#xchrom_adata.var.to_csv(f\"{path}/out/007_re_analysis/tables/input/xchrom_adata_var.csv\")\n",
    "#ychrom_adata.var.to_csv(f\"{path}/out/007_re_analysis/tables/input/ychrom_adata_var.csv\")\n",
    "#autosomal_adata.var.to_csv(f\"{path}/out/007_re_analysis/tables/input/autosomal_adata_var.csv\")"
   ]
  },
  {
   "cell_type": "code",
   "execution_count": 42,
   "id": "df8c43c2-003d-44d4-8294-ccce923a7362",
   "metadata": {},
   "outputs": [
    {
     "data": {
      "text/plain": [
       "(638804, 618)"
      ]
     },
     "execution_count": 42,
     "metadata": {},
     "output_type": "execute_result"
    }
   ],
   "source": [
    "xchrom_adata.shape"
   ]
  },
  {
   "cell_type": "code",
   "execution_count": 43,
   "id": "b566d2d1-e924-4101-a5db-f03b65050d68",
   "metadata": {},
   "outputs": [
    {
     "data": {
      "text/plain": [
       "(638804, 16)"
      ]
     },
     "execution_count": 43,
     "metadata": {},
     "output_type": "execute_result"
    }
   ],
   "source": [
    "ychrom_adata.shape"
   ]
  },
  {
   "cell_type": "code",
   "execution_count": 41,
   "id": "0438c13e-46a5-455b-a498-3a0e4f1c556e",
   "metadata": {},
   "outputs": [
    {
     "data": {
      "text/plain": [
       "(638804, 17177)"
      ]
     },
     "execution_count": 41,
     "metadata": {},
     "output_type": "execute_result"
    }
   ],
   "source": [
    "autosomal_adata.shape"
   ]
  },
  {
   "cell_type": "markdown",
   "id": "bef00bec-b6df-4257-9e70-200cb468058b",
   "metadata": {},
   "source": [
    "### 04.Compute pseudobulk"
   ]
  },
  {
   "cell_type": "code",
   "execution_count": 45,
   "id": "69c9e20d-fc6c-4596-94a9-c73627a8a3d0",
   "metadata": {},
   "outputs": [],
   "source": [
    "# Get pseudo-bulk profile\n",
    "pdata = dc.get_pseudobulk(\n",
    "    subset_adata,\n",
    "    sample_col='sample',\n",
    "    groups_col='donor_id',\n",
    "    layer='count',\n",
    "    min_cells=0,\n",
    "    min_counts=0\n",
    ")"
   ]
  },
  {
   "cell_type": "code",
   "execution_count": 81,
   "id": "4722c408-4a91-42a0-9cf4-31ca9a81b4e6",
   "metadata": {},
   "outputs": [],
   "source": [
    "pdata_var_concat =pd.concat([pdata.var, nsclc_chrom],axis=1)"
   ]
  },
  {
   "cell_type": "code",
   "execution_count": 82,
   "id": "affb8d89-f952-4a1a-a04f-cf3524c4e4fd",
   "metadata": {},
   "outputs": [
    {
     "data": {
      "text/html": [
       "<div>\n",
       "<style scoped>\n",
       "    .dataframe tbody tr th:only-of-type {\n",
       "        vertical-align: middle;\n",
       "    }\n",
       "\n",
       "    .dataframe tbody tr th {\n",
       "        vertical-align: top;\n",
       "    }\n",
       "\n",
       "    .dataframe thead th {\n",
       "        text-align: right;\n",
       "    }\n",
       "</style>\n",
       "<table border=\"1\" class=\"dataframe\">\n",
       "  <thead>\n",
       "    <tr style=\"text-align: right;\">\n",
       "      <th></th>\n",
       "      <th>ensembl_gene_id_version</th>\n",
       "      <th>chromosome_name</th>\n",
       "      <th>start_position</th>\n",
       "      <th>end_position</th>\n",
       "      <th>gene_id</th>\n",
       "    </tr>\n",
       "    <tr>\n",
       "      <th>gene_id</th>\n",
       "      <th></th>\n",
       "      <th></th>\n",
       "      <th></th>\n",
       "      <th></th>\n",
       "      <th></th>\n",
       "    </tr>\n",
       "  </thead>\n",
       "  <tbody>\n",
       "    <tr>\n",
       "      <th>ENSG00000000419</th>\n",
       "      <td>ENSG00000000419.14</td>\n",
       "      <td>20</td>\n",
       "      <td>50934867.0</td>\n",
       "      <td>50959140.0</td>\n",
       "      <td>ENSG00000000419</td>\n",
       "    </tr>\n",
       "    <tr>\n",
       "      <th>ENSG00000000457</th>\n",
       "      <td>ENSG00000000457.14</td>\n",
       "      <td>1</td>\n",
       "      <td>169849631.0</td>\n",
       "      <td>169894267.0</td>\n",
       "      <td>ENSG00000000457</td>\n",
       "    </tr>\n",
       "    <tr>\n",
       "      <th>ENSG00000000460</th>\n",
       "      <td>ENSG00000000460.17</td>\n",
       "      <td>1</td>\n",
       "      <td>169662007.0</td>\n",
       "      <td>169854080.0</td>\n",
       "      <td>ENSG00000000460</td>\n",
       "    </tr>\n",
       "    <tr>\n",
       "      <th>ENSG00000000938</th>\n",
       "      <td>ENSG00000000938.13</td>\n",
       "      <td>1</td>\n",
       "      <td>27612064.0</td>\n",
       "      <td>27635185.0</td>\n",
       "      <td>ENSG00000000938</td>\n",
       "    </tr>\n",
       "    <tr>\n",
       "      <th>ENSG00000000971</th>\n",
       "      <td>ENSG00000000971.17</td>\n",
       "      <td>1</td>\n",
       "      <td>196651754.0</td>\n",
       "      <td>196752476.0</td>\n",
       "      <td>ENSG00000000971</td>\n",
       "    </tr>\n",
       "    <tr>\n",
       "      <th>...</th>\n",
       "      <td>...</td>\n",
       "      <td>...</td>\n",
       "      <td>...</td>\n",
       "      <td>...</td>\n",
       "      <td>...</td>\n",
       "    </tr>\n",
       "    <tr>\n",
       "      <th>ENSG00000286522</th>\n",
       "      <td>ENSG00000286522.2</td>\n",
       "      <td>6</td>\n",
       "      <td>26031589.0</td>\n",
       "      <td>26032099.0</td>\n",
       "      <td>ENSG00000286522</td>\n",
       "    </tr>\n",
       "    <tr>\n",
       "      <th>ENSG00000287080</th>\n",
       "      <td>ENSG00000287080.2</td>\n",
       "      <td>6</td>\n",
       "      <td>26045384.0</td>\n",
       "      <td>26045869.0</td>\n",
       "      <td>ENSG00000287080</td>\n",
       "    </tr>\n",
       "    <tr>\n",
       "      <th>ENSG00000287151</th>\n",
       "      <td>ENSG00000287151.1</td>\n",
       "      <td>2</td>\n",
       "      <td>131647990.0</td>\n",
       "      <td>131767404.0</td>\n",
       "      <td>ENSG00000287151</td>\n",
       "    </tr>\n",
       "    <tr>\n",
       "      <th>ENSG00000288649</th>\n",
       "      <td>ENSG00000288649.2</td>\n",
       "      <td>20</td>\n",
       "      <td>33666943.0</td>\n",
       "      <td>33668525.0</td>\n",
       "      <td>ENSG00000288649</td>\n",
       "    </tr>\n",
       "    <tr>\n",
       "      <th>ENSG00000288675</th>\n",
       "      <td>ENSG00000288675.1</td>\n",
       "      <td>11</td>\n",
       "      <td>797511.0</td>\n",
       "      <td>799190.0</td>\n",
       "      <td>ENSG00000288675</td>\n",
       "    </tr>\n",
       "  </tbody>\n",
       "</table>\n",
       "<p>17794 rows × 5 columns</p>\n",
       "</div>"
      ],
      "text/plain": [
       "                ensembl_gene_id_version chromosome_name  start_position  \\\n",
       "gene_id                                                                   \n",
       "ENSG00000000419      ENSG00000000419.14              20      50934867.0   \n",
       "ENSG00000000457      ENSG00000000457.14               1     169849631.0   \n",
       "ENSG00000000460      ENSG00000000460.17               1     169662007.0   \n",
       "ENSG00000000938      ENSG00000000938.13               1      27612064.0   \n",
       "ENSG00000000971      ENSG00000000971.17               1     196651754.0   \n",
       "...                                 ...             ...             ...   \n",
       "ENSG00000286522       ENSG00000286522.2               6      26031589.0   \n",
       "ENSG00000287080       ENSG00000287080.2               6      26045384.0   \n",
       "ENSG00000287151       ENSG00000287151.1               2     131647990.0   \n",
       "ENSG00000288649       ENSG00000288649.2              20      33666943.0   \n",
       "ENSG00000288675       ENSG00000288675.1              11        797511.0   \n",
       "\n",
       "                 end_position          gene_id  \n",
       "gene_id                                         \n",
       "ENSG00000000419    50959140.0  ENSG00000000419  \n",
       "ENSG00000000457   169894267.0  ENSG00000000457  \n",
       "ENSG00000000460   169854080.0  ENSG00000000460  \n",
       "ENSG00000000938    27635185.0  ENSG00000000938  \n",
       "ENSG00000000971   196752476.0  ENSG00000000971  \n",
       "...                       ...              ...  \n",
       "ENSG00000286522    26032099.0  ENSG00000286522  \n",
       "ENSG00000287080    26045869.0  ENSG00000287080  \n",
       "ENSG00000287151   131767404.0  ENSG00000287151  \n",
       "ENSG00000288649    33668525.0  ENSG00000288649  \n",
       "ENSG00000288675      799190.0  ENSG00000288675  \n",
       "\n",
       "[17794 rows x 5 columns]"
      ]
     },
     "execution_count": 82,
     "metadata": {},
     "output_type": "execute_result"
    }
   ],
   "source": [
    "pdata_var_concat"
   ]
  },
  {
   "cell_type": "code",
   "execution_count": 53,
   "id": "4a5e818a-2cf3-463c-a989-feb04064d927",
   "metadata": {},
   "outputs": [],
   "source": [
    "pdata.obs[\"age\"] = pdata.obs[\"age\"].astype(\"float64\")\n",
    "pdata.obs[\"is_primary_data\"] = pdata.obs[\"is_primary_data\"].astype(bool)\n"
   ]
  },
  {
   "cell_type": "code",
   "execution_count": 60,
   "id": "f450bbe4-a870-4838-9779-4a38b2e3b31d",
   "metadata": {},
   "outputs": [],
   "source": [
    "#pdata.write_h5ad(f\"{path}/out/007_re_analysis/tables/pdata.h5ad\")\n",
    "pdata = sc.read_h5ad(f\"{path}/out/007_re_analysis/tables/input/pdata.h5ad\")"
   ]
  },
  {
   "cell_type": "code",
   "execution_count": 61,
   "id": "3f277445-3527-4c58-afb0-23376ff3af0d",
   "metadata": {
    "scrolled": true
   },
   "outputs": [
    {
     "data": {
      "text/plain": [
       "AnnData object with n_obs × n_vars = 289 × 9304\n",
       "    obs: 'sample', 'uicc_stage', 'ever_smoker', 'age', 'donor_id', 'origin', 'dataset', 'doublet_status', 'tumor_stage', 'EGFR_mutation', 'TP53_mutation', 'ALK_mutation', 'BRAF_mutation', 'ERBB2_mutation', 'KRAS_mutation', 'ROS_mutation', 'origin_fine', 'study', 'platform', 'suspension_type', 'assay_ontology_term_id', 'development_stage_ontology_term_id', 'disease_ontology_term_id', 'self_reported_ethnicity_ontology_term_id', 'is_primary_data', 'organism_ontology_term_id', 'sex_ontology_term_id', 'tissue_ontology_term_id', 'assay', 'disease', 'organism', 'sex', 'tissue', 'self_reported_ethnicity', 'development_stage'"
      ]
     },
     "execution_count": 61,
     "metadata": {},
     "output_type": "execute_result"
    }
   ],
   "source": [
    "pdata"
   ]
  },
  {
   "cell_type": "code",
   "execution_count": 8,
   "id": "eaad764e-f461-4cdd-8004-7401fac98359",
   "metadata": {},
   "outputs": [
    {
     "data": {
      "text/plain": [
       "'1.6.2'"
      ]
     },
     "execution_count": 8,
     "metadata": {},
     "output_type": "execute_result"
    }
   ],
   "source": [
    "dc.__version__"
   ]
  },
  {
   "cell_type": "code",
   "execution_count": 62,
   "id": "473a6ba3-0ae1-4b07-b54c-a4492461640d",
   "metadata": {},
   "outputs": [
    {
     "data": {
      "image/png": "[encoded data removed]",
      "text/plain": [
       "<Figure size 500x400 with 2 Axes>"
      ]
     },
     "metadata": {},
     "output_type": "display_data"
    }
   ],
   "source": [
    "dc.plot_filter_by_expr(pdata, group='sample', min_count=10, min_total_count=15)"
   ]
  },
  {
   "cell_type": "code",
   "execution_count": 64,
   "id": "bf0fe502-4ab8-429c-8e60-d08b10367278",
   "metadata": {},
   "outputs": [
    {
     "data": {
      "image/png": "[encoded data removed]",
      "text/plain": [
       "<Figure size 500x400 with 2 Axes>"
      ]
     },
     "metadata": {},
     "output_type": "display_data"
    }
   ],
   "source": [
    "dc.plot_filter_by_expr(pdata, group='sample', large_n=100,min_prop=0.9, min_count=5000, min_total_count=10000)"
   ]
  },
  {
   "cell_type": "code",
   "execution_count": 65,
   "id": "261c355c-1540-4222-8c53-31f49bd08d9e",
   "metadata": {},
   "outputs": [
    {
     "data": {
      "text/plain": [
       "AnnData object with n_obs × n_vars = 289 × 1619\n",
       "    obs: 'sample', 'uicc_stage', 'ever_smoker', 'age', 'donor_id', 'origin', 'dataset', 'doublet_status', 'tumor_stage', 'EGFR_mutation', 'TP53_mutation', 'ALK_mutation', 'BRAF_mutation', 'ERBB2_mutation', 'KRAS_mutation', 'ROS_mutation', 'origin_fine', 'study', 'platform', 'suspension_type', 'assay_ontology_term_id', 'development_stage_ontology_term_id', 'disease_ontology_term_id', 'self_reported_ethnicity_ontology_term_id', 'is_primary_data', 'organism_ontology_term_id', 'sex_ontology_term_id', 'tissue_ontology_term_id', 'assay', 'disease', 'organism', 'sex', 'tissue', 'self_reported_ethnicity', 'development_stage'"
      ]
     },
     "execution_count": 65,
     "metadata": {},
     "output_type": "execute_result"
    }
   ],
   "source": [
    "# Obtain genes that pass the thresholds\n",
    "genes = dc.filter_by_expr(pdata, group='sample', min_count=5000, min_total_count=10000)\n",
    "\n",
    "# Filter by these genes\n",
    "pdata = pdata[:, genes].copy()\n",
    "pdata"
   ]
  },
  {
   "cell_type": "code",
   "execution_count": 66,
   "id": "588bb836-02b6-4918-a40e-add9fb54332c",
   "metadata": {},
   "outputs": [],
   "source": [
    "pdata.layers[\"counts\"] = pdata.X"
   ]
  },
  {
   "cell_type": "code",
   "execution_count": 67,
   "id": "42538387-6809-4099-9b66-deb524121bc4",
   "metadata": {},
   "outputs": [],
   "source": [
    "scales_counts = sc.pp.normalize_total(pdata, target_sum=None, inplace=False)\n",
    "# log1p transform\n",
    "pdata.layers[\"log1p_norm\"] = sc.pp.log1p(scales_counts[\"X\"], copy=True)"
   ]
  },
  {
   "cell_type": "code",
   "execution_count": 68,
   "id": "5e64494d-e597-498d-837b-15076f28e7ea",
   "metadata": {},
   "outputs": [
    {
     "data": {
      "text/plain": [
       "AnnData object with n_obs × n_vars = 289 × 1619\n",
       "    obs: 'sample', 'uicc_stage', 'ever_smoker', 'age', 'donor_id', 'origin', 'dataset', 'doublet_status', 'tumor_stage', 'EGFR_mutation', 'TP53_mutation', 'ALK_mutation', 'BRAF_mutation', 'ERBB2_mutation', 'KRAS_mutation', 'ROS_mutation', 'origin_fine', 'study', 'platform', 'suspension_type', 'assay_ontology_term_id', 'development_stage_ontology_term_id', 'disease_ontology_term_id', 'self_reported_ethnicity_ontology_term_id', 'is_primary_data', 'organism_ontology_term_id', 'sex_ontology_term_id', 'tissue_ontology_term_id', 'assay', 'disease', 'organism', 'sex', 'tissue', 'self_reported_ethnicity', 'development_stage'\n",
       "    layers: 'counts', 'log1p_norm'"
      ]
     },
     "execution_count": 68,
     "metadata": {},
     "output_type": "execute_result"
    }
   ],
   "source": [
    "pdata"
   ]
  },
  {
   "cell_type": "code",
   "execution_count": 69,
   "id": "ded8be1d-8c0e-414b-a932-87090935c610",
   "metadata": {},
   "outputs": [],
   "source": [
    "### Samplesheet\n",
    "samplesheet = pdata.obs.copy()\n",
    "samplesheet[\"sample\"]=samplesheet.index\n",
    "samplesheet.reset_index(inplace=True)"
   ]
  },
  {
   "cell_type": "code",
   "execution_count": 70,
   "id": "8dde13ff-e1b0-4b6b-b29d-1be5e33c31e5",
   "metadata": {},
   "outputs": [],
   "source": [
    "samplesheet.to_csv(f\"{path}/out/007_re_analysis/tables/input/samplesheet.csv\", index=False)\n",
    "samplesheet.to_csv(f\"{path}/out/007_re_analysis/tables/input/samplesheet.tsv\", index=False, sep = \"\\t\")"
   ]
  },
  {
   "cell_type": "code",
   "execution_count": 71,
   "id": "96db85fd-4b13-47e6-8dbd-b8a2bc456e1b",
   "metadata": {},
   "outputs": [],
   "source": [
    "bulk_df = pdata.to_df().T"
   ]
  },
  {
   "cell_type": "code",
   "execution_count": 72,
   "id": "9cd2fbe0-dc81-43d8-9eb8-b1689b1a1feb",
   "metadata": {},
   "outputs": [
    {
     "name": "stderr",
     "output_type": "stream",
     "text": [
      "/tmp/ipykernel_2402300/3249437527.py:4: FutureWarning: The default value of regex will change from True to False in a future version.\n",
      "  bulk_df.columns = bulk_df.columns.str.replace(\"[.-]\", \"_\").str.replace(\" \", \"_\")\n"
     ]
    }
   ],
   "source": [
    "### Raw counts\n",
    "bulk_df = pdata.to_df().T\n",
    "#bulk_df[\"gene_id\"]=bulk_df.index\n",
    "bulk_df.columns = bulk_df.columns.str.replace(\"[.-]\", \"_\").str.replace(\" \", \"_\")"
   ]
  },
  {
   "cell_type": "code",
   "execution_count": 73,
   "id": "d461b607-4323-419e-8851-58944f7eac8a",
   "metadata": {},
   "outputs": [
    {
     "data": {
      "text/html": [
       "<div>\n",
       "<style scoped>\n",
       "    .dataframe tbody tr th:only-of-type {\n",
       "        vertical-align: middle;\n",
       "    }\n",
       "\n",
       "    .dataframe tbody tr th {\n",
       "        vertical-align: top;\n",
       "    }\n",
       "\n",
       "    .dataframe thead th {\n",
       "        text-align: right;\n",
       "    }\n",
       "</style>\n",
       "<table border=\"1\" class=\"dataframe\">\n",
       "  <thead>\n",
       "    <tr style=\"text-align: right;\">\n",
       "      <th>gene_id</th>\n",
       "      <th>ENSG00000000938</th>\n",
       "      <th>ENSG00000002549</th>\n",
       "      <th>ENSG00000002586</th>\n",
       "      <th>ENSG00000003056</th>\n",
       "      <th>ENSG00000003402</th>\n",
       "      <th>ENSG00000003436</th>\n",
       "      <th>ENSG00000004059</th>\n",
       "      <th>ENSG00000004534</th>\n",
       "      <th>ENSG00000004799</th>\n",
       "      <th>ENSG00000005022</th>\n",
       "      <th>...</th>\n",
       "      <th>ENSG00000271383</th>\n",
       "      <th>ENSG00000271503</th>\n",
       "      <th>ENSG00000272398</th>\n",
       "      <th>ENSG00000275302</th>\n",
       "      <th>ENSG00000275385</th>\n",
       "      <th>ENSG00000276070</th>\n",
       "      <th>ENSG00000277443</th>\n",
       "      <th>ENSG00000277632</th>\n",
       "      <th>ENSG00000277734</th>\n",
       "      <th>ENSG00000277791</th>\n",
       "    </tr>\n",
       "  </thead>\n",
       "  <tbody>\n",
       "    <tr>\n",
       "      <th>Goveia_Carmeliet_2020_patient_40_normal_adjacent_Goveia_Carmeliet_2020_patient_40</th>\n",
       "      <td>2622.0</td>\n",
       "      <td>1923.0</td>\n",
       "      <td>2397.0</td>\n",
       "      <td>1761.0</td>\n",
       "      <td>637.0</td>\n",
       "      <td>0.0</td>\n",
       "      <td>636.0</td>\n",
       "      <td>0.0</td>\n",
       "      <td>1995.0</td>\n",
       "      <td>4049.0</td>\n",
       "      <td>...</td>\n",
       "      <td>0.0</td>\n",
       "      <td>0.0</td>\n",
       "      <td>0.0</td>\n",
       "      <td>1498.0</td>\n",
       "      <td>32481.0</td>\n",
       "      <td>0.0</td>\n",
       "      <td>0.0</td>\n",
       "      <td>0.0</td>\n",
       "      <td>0.0</td>\n",
       "      <td>3035.0</td>\n",
       "    </tr>\n",
       "    <tr>\n",
       "      <th>Goveia_Carmeliet_2020_patient_40_tumor_primary_Goveia_Carmeliet_2020_patient_40</th>\n",
       "      <td>628.0</td>\n",
       "      <td>796.0</td>\n",
       "      <td>933.0</td>\n",
       "      <td>623.0</td>\n",
       "      <td>318.0</td>\n",
       "      <td>0.0</td>\n",
       "      <td>357.0</td>\n",
       "      <td>0.0</td>\n",
       "      <td>1428.0</td>\n",
       "      <td>1998.0</td>\n",
       "      <td>...</td>\n",
       "      <td>0.0</td>\n",
       "      <td>0.0</td>\n",
       "      <td>0.0</td>\n",
       "      <td>1496.0</td>\n",
       "      <td>12034.0</td>\n",
       "      <td>0.0</td>\n",
       "      <td>0.0</td>\n",
       "      <td>0.0</td>\n",
       "      <td>0.0</td>\n",
       "      <td>1420.0</td>\n",
       "    </tr>\n",
       "    <tr>\n",
       "      <th>Goveia_Carmeliet_2020_patient_41_normal_adjacent_Goveia_Carmeliet_2020_patient_41</th>\n",
       "      <td>0.0</td>\n",
       "      <td>0.0</td>\n",
       "      <td>1845.0</td>\n",
       "      <td>0.0</td>\n",
       "      <td>0.0</td>\n",
       "      <td>0.0</td>\n",
       "      <td>0.0</td>\n",
       "      <td>0.0</td>\n",
       "      <td>0.0</td>\n",
       "      <td>2049.0</td>\n",
       "      <td>...</td>\n",
       "      <td>0.0</td>\n",
       "      <td>0.0</td>\n",
       "      <td>0.0</td>\n",
       "      <td>0.0</td>\n",
       "      <td>0.0</td>\n",
       "      <td>0.0</td>\n",
       "      <td>0.0</td>\n",
       "      <td>0.0</td>\n",
       "      <td>0.0</td>\n",
       "      <td>2186.0</td>\n",
       "    </tr>\n",
       "    <tr>\n",
       "      <th>Goveia_Carmeliet_2020_patient_41_tumor_primary_Goveia_Carmeliet_2020_patient_41</th>\n",
       "      <td>0.0</td>\n",
       "      <td>0.0</td>\n",
       "      <td>2330.0</td>\n",
       "      <td>0.0</td>\n",
       "      <td>0.0</td>\n",
       "      <td>0.0</td>\n",
       "      <td>0.0</td>\n",
       "      <td>0.0</td>\n",
       "      <td>0.0</td>\n",
       "      <td>2581.0</td>\n",
       "      <td>...</td>\n",
       "      <td>0.0</td>\n",
       "      <td>0.0</td>\n",
       "      <td>0.0</td>\n",
       "      <td>0.0</td>\n",
       "      <td>0.0</td>\n",
       "      <td>0.0</td>\n",
       "      <td>0.0</td>\n",
       "      <td>0.0</td>\n",
       "      <td>0.0</td>\n",
       "      <td>1414.0</td>\n",
       "    </tr>\n",
       "    <tr>\n",
       "      <th>Goveia_Carmeliet_2020_patient_42_normal_adjacent_Goveia_Carmeliet_2020_patient_42</th>\n",
       "      <td>0.0</td>\n",
       "      <td>1936.0</td>\n",
       "      <td>6275.0</td>\n",
       "      <td>2051.0</td>\n",
       "      <td>872.0</td>\n",
       "      <td>0.0</td>\n",
       "      <td>0.0</td>\n",
       "      <td>0.0</td>\n",
       "      <td>3179.0</td>\n",
       "      <td>4838.0</td>\n",
       "      <td>...</td>\n",
       "      <td>0.0</td>\n",
       "      <td>0.0</td>\n",
       "      <td>0.0</td>\n",
       "      <td>4240.0</td>\n",
       "      <td>61148.0</td>\n",
       "      <td>0.0</td>\n",
       "      <td>546.0</td>\n",
       "      <td>2688.0</td>\n",
       "      <td>0.0</td>\n",
       "      <td>4163.0</td>\n",
       "    </tr>\n",
       "    <tr>\n",
       "      <th>...</th>\n",
       "      <td>...</td>\n",
       "      <td>...</td>\n",
       "      <td>...</td>\n",
       "      <td>...</td>\n",
       "      <td>...</td>\n",
       "      <td>...</td>\n",
       "      <td>...</td>\n",
       "      <td>...</td>\n",
       "      <td>...</td>\n",
       "      <td>...</td>\n",
       "      <td>...</td>\n",
       "      <td>...</td>\n",
       "      <td>...</td>\n",
       "      <td>...</td>\n",
       "      <td>...</td>\n",
       "      <td>...</td>\n",
       "      <td>...</td>\n",
       "      <td>...</td>\n",
       "      <td>...</td>\n",
       "      <td>...</td>\n",
       "      <td>...</td>\n",
       "    </tr>\n",
       "    <tr>\n",
       "      <th>Zilionis_Klein_2019_p5t2_Zilionis_Klein_2019_patient_5</th>\n",
       "      <td>0.0</td>\n",
       "      <td>0.0</td>\n",
       "      <td>0.0</td>\n",
       "      <td>0.0</td>\n",
       "      <td>687.0</td>\n",
       "      <td>0.0</td>\n",
       "      <td>0.0</td>\n",
       "      <td>0.0</td>\n",
       "      <td>0.0</td>\n",
       "      <td>0.0</td>\n",
       "      <td>...</td>\n",
       "      <td>0.0</td>\n",
       "      <td>0.0</td>\n",
       "      <td>0.0</td>\n",
       "      <td>0.0</td>\n",
       "      <td>0.0</td>\n",
       "      <td>0.0</td>\n",
       "      <td>0.0</td>\n",
       "      <td>0.0</td>\n",
       "      <td>0.0</td>\n",
       "      <td>0.0</td>\n",
       "    </tr>\n",
       "    <tr>\n",
       "      <th>Zilionis_Klein_2019_p6t1_Zilionis_Klein_2019_patient_6</th>\n",
       "      <td>0.0</td>\n",
       "      <td>0.0</td>\n",
       "      <td>852.0</td>\n",
       "      <td>0.0</td>\n",
       "      <td>0.0</td>\n",
       "      <td>0.0</td>\n",
       "      <td>0.0</td>\n",
       "      <td>0.0</td>\n",
       "      <td>0.0</td>\n",
       "      <td>545.0</td>\n",
       "      <td>...</td>\n",
       "      <td>0.0</td>\n",
       "      <td>660.0</td>\n",
       "      <td>0.0</td>\n",
       "      <td>0.0</td>\n",
       "      <td>0.0</td>\n",
       "      <td>0.0</td>\n",
       "      <td>0.0</td>\n",
       "      <td>0.0</td>\n",
       "      <td>1074.0</td>\n",
       "      <td>0.0</td>\n",
       "    </tr>\n",
       "    <tr>\n",
       "      <th>Zilionis_Klein_2019_p6t2_Zilionis_Klein_2019_patient_6</th>\n",
       "      <td>0.0</td>\n",
       "      <td>0.0</td>\n",
       "      <td>789.0</td>\n",
       "      <td>0.0</td>\n",
       "      <td>0.0</td>\n",
       "      <td>0.0</td>\n",
       "      <td>0.0</td>\n",
       "      <td>0.0</td>\n",
       "      <td>0.0</td>\n",
       "      <td>414.0</td>\n",
       "      <td>...</td>\n",
       "      <td>0.0</td>\n",
       "      <td>458.0</td>\n",
       "      <td>0.0</td>\n",
       "      <td>0.0</td>\n",
       "      <td>0.0</td>\n",
       "      <td>0.0</td>\n",
       "      <td>0.0</td>\n",
       "      <td>0.0</td>\n",
       "      <td>851.0</td>\n",
       "      <td>0.0</td>\n",
       "    </tr>\n",
       "    <tr>\n",
       "      <th>Zilionis_Klein_2019_p7t1_Zilionis_Klein_2019_patient_7</th>\n",
       "      <td>0.0</td>\n",
       "      <td>0.0</td>\n",
       "      <td>518.0</td>\n",
       "      <td>0.0</td>\n",
       "      <td>824.0</td>\n",
       "      <td>0.0</td>\n",
       "      <td>0.0</td>\n",
       "      <td>0.0</td>\n",
       "      <td>0.0</td>\n",
       "      <td>0.0</td>\n",
       "      <td>...</td>\n",
       "      <td>0.0</td>\n",
       "      <td>0.0</td>\n",
       "      <td>0.0</td>\n",
       "      <td>0.0</td>\n",
       "      <td>14356.0</td>\n",
       "      <td>0.0</td>\n",
       "      <td>1051.0</td>\n",
       "      <td>0.0</td>\n",
       "      <td>0.0</td>\n",
       "      <td>0.0</td>\n",
       "    </tr>\n",
       "    <tr>\n",
       "      <th>Zilionis_Klein_2019_p7t2_Zilionis_Klein_2019_patient_7</th>\n",
       "      <td>0.0</td>\n",
       "      <td>0.0</td>\n",
       "      <td>598.0</td>\n",
       "      <td>0.0</td>\n",
       "      <td>907.0</td>\n",
       "      <td>0.0</td>\n",
       "      <td>0.0</td>\n",
       "      <td>0.0</td>\n",
       "      <td>0.0</td>\n",
       "      <td>0.0</td>\n",
       "      <td>...</td>\n",
       "      <td>0.0</td>\n",
       "      <td>0.0</td>\n",
       "      <td>0.0</td>\n",
       "      <td>0.0</td>\n",
       "      <td>19058.0</td>\n",
       "      <td>0.0</td>\n",
       "      <td>973.0</td>\n",
       "      <td>0.0</td>\n",
       "      <td>0.0</td>\n",
       "      <td>0.0</td>\n",
       "    </tr>\n",
       "  </tbody>\n",
       "</table>\n",
       "<p>289 rows × 1619 columns</p>\n",
       "</div>"
      ],
      "text/plain": [
       "gene_id                                             ENSG00000000938  \\\n",
       "Goveia_Carmeliet_2020_patient_40_normal_adjacen...           2622.0   \n",
       "Goveia_Carmeliet_2020_patient_40_tumor_primary_...            628.0   \n",
       "Goveia_Carmeliet_2020_patient_41_normal_adjacen...              0.0   \n",
       "Goveia_Carmeliet_2020_patient_41_tumor_primary_...              0.0   \n",
       "Goveia_Carmeliet_2020_patient_42_normal_adjacen...              0.0   \n",
       "...                                                             ...   \n",
       "Zilionis_Klein_2019_p5t2_Zilionis_Klein_2019_pa...              0.0   \n",
       "Zilionis_Klein_2019_p6t1_Zilionis_Klein_2019_pa...              0.0   \n",
       "Zilionis_Klein_2019_p6t2_Zilionis_Klein_2019_pa...              0.0   \n",
       "Zilionis_Klein_2019_p7t1_Zilionis_Klein_2019_pa...              0.0   \n",
       "Zilionis_Klein_2019_p7t2_Zilionis_Klein_2019_pa...              0.0   \n",
       "\n",
       "gene_id                                             ENSG00000002549  \\\n",
       "Goveia_Carmeliet_2020_patient_40_normal_adjacen...           1923.0   \n",
       "Goveia_Carmeliet_2020_patient_40_tumor_primary_...            796.0   \n",
       "Goveia_Carmeliet_2020_patient_41_normal_adjacen...              0.0   \n",
       "Goveia_Carmeliet_2020_patient_41_tumor_primary_...              0.0   \n",
       "Goveia_Carmeliet_2020_patient_42_normal_adjacen...           1936.0   \n",
       "...                                                             ...   \n",
       "Zilionis_Klein_2019_p5t2_Zilionis_Klein_2019_pa...              0.0   \n",
       "Zilionis_Klein_2019_p6t1_Zilionis_Klein_2019_pa...              0.0   \n",
       "Zilionis_Klein_2019_p6t2_Zilionis_Klein_2019_pa...              0.0   \n",
       "Zilionis_Klein_2019_p7t1_Zilionis_Klein_2019_pa...              0.0   \n",
       "Zilionis_Klein_2019_p7t2_Zilionis_Klein_2019_pa...              0.0   \n",
       "\n",
       "gene_id                                             ENSG00000002586  \\\n",
       "Goveia_Carmeliet_2020_patient_40_normal_adjacen...           2397.0   \n",
       "Goveia_Carmeliet_2020_patient_40_tumor_primary_...            933.0   \n",
       "Goveia_Carmeliet_2020_patient_41_normal_adjacen...           1845.0   \n",
       "Goveia_Carmeliet_2020_patient_41_tumor_primary_...           2330.0   \n",
       "Goveia_Carmeliet_2020_patient_42_normal_adjacen...           6275.0   \n",
       "...                                                             ...   \n",
       "Zilionis_Klein_2019_p5t2_Zilionis_Klein_2019_pa...              0.0   \n",
       "Zilionis_Klein_2019_p6t1_Zilionis_Klein_2019_pa...            852.0   \n",
       "Zilionis_Klein_2019_p6t2_Zilionis_Klein_2019_pa...            789.0   \n",
       "Zilionis_Klein_2019_p7t1_Zilionis_Klein_2019_pa...            518.0   \n",
       "Zilionis_Klein_2019_p7t2_Zilionis_Klein_2019_pa...            598.0   \n",
       "\n",
       "gene_id                                             ENSG00000003056  \\\n",
       "Goveia_Carmeliet_2020_patient_40_normal_adjacen...           1761.0   \n",
       "Goveia_Carmeliet_2020_patient_40_tumor_primary_...            623.0   \n",
       "Goveia_Carmeliet_2020_patient_41_normal_adjacen...              0.0   \n",
       "Goveia_Carmeliet_2020_patient_41_tumor_primary_...              0.0   \n",
       "Goveia_Carmeliet_2020_patient_42_normal_adjacen...           2051.0   \n",
       "...                                                             ...   \n",
       "Zilionis_Klein_2019_p5t2_Zilionis_Klein_2019_pa...              0.0   \n",
       "Zilionis_Klein_2019_p6t1_Zilionis_Klein_2019_pa...              0.0   \n",
       "Zilionis_Klein_2019_p6t2_Zilionis_Klein_2019_pa...              0.0   \n",
       "Zilionis_Klein_2019_p7t1_Zilionis_Klein_2019_pa...              0.0   \n",
       "Zilionis_Klein_2019_p7t2_Zilionis_Klein_2019_pa...              0.0   \n",
       "\n",
       "gene_id                                             ENSG00000003402  \\\n",
       "Goveia_Carmeliet_2020_patient_40_normal_adjacen...            637.0   \n",
       "Goveia_Carmeliet_2020_patient_40_tumor_primary_...            318.0   \n",
       "Goveia_Carmeliet_2020_patient_41_normal_adjacen...              0.0   \n",
       "Goveia_Carmeliet_2020_patient_41_tumor_primary_...              0.0   \n",
       "Goveia_Carmeliet_2020_patient_42_normal_adjacen...            872.0   \n",
       "...                                                             ...   \n",
       "Zilionis_Klein_2019_p5t2_Zilionis_Klein_2019_pa...            687.0   \n",
       "Zilionis_Klein_2019_p6t1_Zilionis_Klein_2019_pa...              0.0   \n",
       "Zilionis_Klein_2019_p6t2_Zilionis_Klein_2019_pa...              0.0   \n",
       "Zilionis_Klein_2019_p7t1_Zilionis_Klein_2019_pa...            824.0   \n",
       "Zilionis_Klein_2019_p7t2_Zilionis_Klein_2019_pa...            907.0   \n",
       "\n",
       "gene_id                                             ENSG00000003436  \\\n",
       "Goveia_Carmeliet_2020_patient_40_normal_adjacen...              0.0   \n",
       "Goveia_Carmeliet_2020_patient_40_tumor_primary_...              0.0   \n",
       "Goveia_Carmeliet_2020_patient_41_normal_adjacen...              0.0   \n",
       "Goveia_Carmeliet_2020_patient_41_tumor_primary_...              0.0   \n",
       "Goveia_Carmeliet_2020_patient_42_normal_adjacen...              0.0   \n",
       "...                                                             ...   \n",
       "Zilionis_Klein_2019_p5t2_Zilionis_Klein_2019_pa...              0.0   \n",
       "Zilionis_Klein_2019_p6t1_Zilionis_Klein_2019_pa...              0.0   \n",
       "Zilionis_Klein_2019_p6t2_Zilionis_Klein_2019_pa...              0.0   \n",
       "Zilionis_Klein_2019_p7t1_Zilionis_Klein_2019_pa...              0.0   \n",
       "Zilionis_Klein_2019_p7t2_Zilionis_Klein_2019_pa...              0.0   \n",
       "\n",
       "gene_id                                             ENSG00000004059  \\\n",
       "Goveia_Carmeliet_2020_patient_40_normal_adjacen...            636.0   \n",
       "Goveia_Carmeliet_2020_patient_40_tumor_primary_...            357.0   \n",
       "Goveia_Carmeliet_2020_patient_41_normal_adjacen...              0.0   \n",
       "Goveia_Carmeliet_2020_patient_41_tumor_primary_...              0.0   \n",
       "Goveia_Carmeliet_2020_patient_42_normal_adjacen...              0.0   \n",
       "...                                                             ...   \n",
       "Zilionis_Klein_2019_p5t2_Zilionis_Klein_2019_pa...              0.0   \n",
       "Zilionis_Klein_2019_p6t1_Zilionis_Klein_2019_pa...              0.0   \n",
       "Zilionis_Klein_2019_p6t2_Zilionis_Klein_2019_pa...              0.0   \n",
       "Zilionis_Klein_2019_p7t1_Zilionis_Klein_2019_pa...              0.0   \n",
       "Zilionis_Klein_2019_p7t2_Zilionis_Klein_2019_pa...              0.0   \n",
       "\n",
       "gene_id                                             ENSG00000004534  \\\n",
       "Goveia_Carmeliet_2020_patient_40_normal_adjacen...              0.0   \n",
       "Goveia_Carmeliet_2020_patient_40_tumor_primary_...              0.0   \n",
       "Goveia_Carmeliet_2020_patient_41_normal_adjacen...              0.0   \n",
       "Goveia_Carmeliet_2020_patient_41_tumor_primary_...              0.0   \n",
       "Goveia_Carmeliet_2020_patient_42_normal_adjacen...              0.0   \n",
       "...                                                             ...   \n",
       "Zilionis_Klein_2019_p5t2_Zilionis_Klein_2019_pa...              0.0   \n",
       "Zilionis_Klein_2019_p6t1_Zilionis_Klein_2019_pa...              0.0   \n",
       "Zilionis_Klein_2019_p6t2_Zilionis_Klein_2019_pa...              0.0   \n",
       "Zilionis_Klein_2019_p7t1_Zilionis_Klein_2019_pa...              0.0   \n",
       "Zilionis_Klein_2019_p7t2_Zilionis_Klein_2019_pa...              0.0   \n",
       "\n",
       "gene_id                                             ENSG00000004799  \\\n",
       "Goveia_Carmeliet_2020_patient_40_normal_adjacen...           1995.0   \n",
       "Goveia_Carmeliet_2020_patient_40_tumor_primary_...           1428.0   \n",
       "Goveia_Carmeliet_2020_patient_41_normal_adjacen...              0.0   \n",
       "Goveia_Carmeliet_2020_patient_41_tumor_primary_...              0.0   \n",
       "Goveia_Carmeliet_2020_patient_42_normal_adjacen...           3179.0   \n",
       "...                                                             ...   \n",
       "Zilionis_Klein_2019_p5t2_Zilionis_Klein_2019_pa...              0.0   \n",
       "Zilionis_Klein_2019_p6t1_Zilionis_Klein_2019_pa...              0.0   \n",
       "Zilionis_Klein_2019_p6t2_Zilionis_Klein_2019_pa...              0.0   \n",
       "Zilionis_Klein_2019_p7t1_Zilionis_Klein_2019_pa...              0.0   \n",
       "Zilionis_Klein_2019_p7t2_Zilionis_Klein_2019_pa...              0.0   \n",
       "\n",
       "gene_id                                             ENSG00000005022  ...  \\\n",
       "Goveia_Carmeliet_2020_patient_40_normal_adjacen...           4049.0  ...   \n",
       "Goveia_Carmeliet_2020_patient_40_tumor_primary_...           1998.0  ...   \n",
       "Goveia_Carmeliet_2020_patient_41_normal_adjacen...           2049.0  ...   \n",
       "Goveia_Carmeliet_2020_patient_41_tumor_primary_...           2581.0  ...   \n",
       "Goveia_Carmeliet_2020_patient_42_normal_adjacen...           4838.0  ...   \n",
       "...                                                             ...  ...   \n",
       "Zilionis_Klein_2019_p5t2_Zilionis_Klein_2019_pa...              0.0  ...   \n",
       "Zilionis_Klein_2019_p6t1_Zilionis_Klein_2019_pa...            545.0  ...   \n",
       "Zilionis_Klein_2019_p6t2_Zilionis_Klein_2019_pa...            414.0  ...   \n",
       "Zilionis_Klein_2019_p7t1_Zilionis_Klein_2019_pa...              0.0  ...   \n",
       "Zilionis_Klein_2019_p7t2_Zilionis_Klein_2019_pa...              0.0  ...   \n",
       "\n",
       "gene_id                                             ENSG00000271383  \\\n",
       "Goveia_Carmeliet_2020_patient_40_normal_adjacen...              0.0   \n",
       "Goveia_Carmeliet_2020_patient_40_tumor_primary_...              0.0   \n",
       "Goveia_Carmeliet_2020_patient_41_normal_adjacen...              0.0   \n",
       "Goveia_Carmeliet_2020_patient_41_tumor_primary_...              0.0   \n",
       "Goveia_Carmeliet_2020_patient_42_normal_adjacen...              0.0   \n",
       "...                                                             ...   \n",
       "Zilionis_Klein_2019_p5t2_Zilionis_Klein_2019_pa...              0.0   \n",
       "Zilionis_Klein_2019_p6t1_Zilionis_Klein_2019_pa...              0.0   \n",
       "Zilionis_Klein_2019_p6t2_Zilionis_Klein_2019_pa...              0.0   \n",
       "Zilionis_Klein_2019_p7t1_Zilionis_Klein_2019_pa...              0.0   \n",
       "Zilionis_Klein_2019_p7t2_Zilionis_Klein_2019_pa...              0.0   \n",
       "\n",
       "gene_id                                             ENSG00000271503  \\\n",
       "Goveia_Carmeliet_2020_patient_40_normal_adjacen...              0.0   \n",
       "Goveia_Carmeliet_2020_patient_40_tumor_primary_...              0.0   \n",
       "Goveia_Carmeliet_2020_patient_41_normal_adjacen...              0.0   \n",
       "Goveia_Carmeliet_2020_patient_41_tumor_primary_...              0.0   \n",
       "Goveia_Carmeliet_2020_patient_42_normal_adjacen...              0.0   \n",
       "...                                                             ...   \n",
       "Zilionis_Klein_2019_p5t2_Zilionis_Klein_2019_pa...              0.0   \n",
       "Zilionis_Klein_2019_p6t1_Zilionis_Klein_2019_pa...            660.0   \n",
       "Zilionis_Klein_2019_p6t2_Zilionis_Klein_2019_pa...            458.0   \n",
       "Zilionis_Klein_2019_p7t1_Zilionis_Klein_2019_pa...              0.0   \n",
       "Zilionis_Klein_2019_p7t2_Zilionis_Klein_2019_pa...              0.0   \n",
       "\n",
       "gene_id                                             ENSG00000272398  \\\n",
       "Goveia_Carmeliet_2020_patient_40_normal_adjacen...              0.0   \n",
       "Goveia_Carmeliet_2020_patient_40_tumor_primary_...              0.0   \n",
       "Goveia_Carmeliet_2020_patient_41_normal_adjacen...              0.0   \n",
       "Goveia_Carmeliet_2020_patient_41_tumor_primary_...              0.0   \n",
       "Goveia_Carmeliet_2020_patient_42_normal_adjacen...              0.0   \n",
       "...                                                             ...   \n",
       "Zilionis_Klein_2019_p5t2_Zilionis_Klein_2019_pa...              0.0   \n",
       "Zilionis_Klein_2019_p6t1_Zilionis_Klein_2019_pa...              0.0   \n",
       "Zilionis_Klein_2019_p6t2_Zilionis_Klein_2019_pa...              0.0   \n",
       "Zilionis_Klein_2019_p7t1_Zilionis_Klein_2019_pa...              0.0   \n",
       "Zilionis_Klein_2019_p7t2_Zilionis_Klein_2019_pa...              0.0   \n",
       "\n",
       "gene_id                                             ENSG00000275302  \\\n",
       "Goveia_Carmeliet_2020_patient_40_normal_adjacen...           1498.0   \n",
       "Goveia_Carmeliet_2020_patient_40_tumor_primary_...           1496.0   \n",
       "Goveia_Carmeliet_2020_patient_41_normal_adjacen...              0.0   \n",
       "Goveia_Carmeliet_2020_patient_41_tumor_primary_...              0.0   \n",
       "Goveia_Carmeliet_2020_patient_42_normal_adjacen...           4240.0   \n",
       "...                                                             ...   \n",
       "Zilionis_Klein_2019_p5t2_Zilionis_Klein_2019_pa...              0.0   \n",
       "Zilionis_Klein_2019_p6t1_Zilionis_Klein_2019_pa...              0.0   \n",
       "Zilionis_Klein_2019_p6t2_Zilionis_Klein_2019_pa...              0.0   \n",
       "Zilionis_Klein_2019_p7t1_Zilionis_Klein_2019_pa...              0.0   \n",
       "Zilionis_Klein_2019_p7t2_Zilionis_Klein_2019_pa...              0.0   \n",
       "\n",
       "gene_id                                             ENSG00000275385  \\\n",
       "Goveia_Carmeliet_2020_patient_40_normal_adjacen...          32481.0   \n",
       "Goveia_Carmeliet_2020_patient_40_tumor_primary_...          12034.0   \n",
       "Goveia_Carmeliet_2020_patient_41_normal_adjacen...              0.0   \n",
       "Goveia_Carmeliet_2020_patient_41_tumor_primary_...              0.0   \n",
       "Goveia_Carmeliet_2020_patient_42_normal_adjacen...          61148.0   \n",
       "...                                                             ...   \n",
       "Zilionis_Klein_2019_p5t2_Zilionis_Klein_2019_pa...              0.0   \n",
       "Zilionis_Klein_2019_p6t1_Zilionis_Klein_2019_pa...              0.0   \n",
       "Zilionis_Klein_2019_p6t2_Zilionis_Klein_2019_pa...              0.0   \n",
       "Zilionis_Klein_2019_p7t1_Zilionis_Klein_2019_pa...          14356.0   \n",
       "Zilionis_Klein_2019_p7t2_Zilionis_Klein_2019_pa...          19058.0   \n",
       "\n",
       "gene_id                                             ENSG00000276070  \\\n",
       "Goveia_Carmeliet_2020_patient_40_normal_adjacen...              0.0   \n",
       "Goveia_Carmeliet_2020_patient_40_tumor_primary_...              0.0   \n",
       "Goveia_Carmeliet_2020_patient_41_normal_adjacen...              0.0   \n",
       "Goveia_Carmeliet_2020_patient_41_tumor_primary_...              0.0   \n",
       "Goveia_Carmeliet_2020_patient_42_normal_adjacen...              0.0   \n",
       "...                                                             ...   \n",
       "Zilionis_Klein_2019_p5t2_Zilionis_Klein_2019_pa...              0.0   \n",
       "Zilionis_Klein_2019_p6t1_Zilionis_Klein_2019_pa...              0.0   \n",
       "Zilionis_Klein_2019_p6t2_Zilionis_Klein_2019_pa...              0.0   \n",
       "Zilionis_Klein_2019_p7t1_Zilionis_Klein_2019_pa...              0.0   \n",
       "Zilionis_Klein_2019_p7t2_Zilionis_Klein_2019_pa...              0.0   \n",
       "\n",
       "gene_id                                             ENSG00000277443  \\\n",
       "Goveia_Carmeliet_2020_patient_40_normal_adjacen...              0.0   \n",
       "Goveia_Carmeliet_2020_patient_40_tumor_primary_...              0.0   \n",
       "Goveia_Carmeliet_2020_patient_41_normal_adjacen...              0.0   \n",
       "Goveia_Carmeliet_2020_patient_41_tumor_primary_...              0.0   \n",
       "Goveia_Carmeliet_2020_patient_42_normal_adjacen...            546.0   \n",
       "...                                                             ...   \n",
       "Zilionis_Klein_2019_p5t2_Zilionis_Klein_2019_pa...              0.0   \n",
       "Zilionis_Klein_2019_p6t1_Zilionis_Klein_2019_pa...              0.0   \n",
       "Zilionis_Klein_2019_p6t2_Zilionis_Klein_2019_pa...              0.0   \n",
       "Zilionis_Klein_2019_p7t1_Zilionis_Klein_2019_pa...           1051.0   \n",
       "Zilionis_Klein_2019_p7t2_Zilionis_Klein_2019_pa...            973.0   \n",
       "\n",
       "gene_id                                             ENSG00000277632  \\\n",
       "Goveia_Carmeliet_2020_patient_40_normal_adjacen...              0.0   \n",
       "Goveia_Carmeliet_2020_patient_40_tumor_primary_...              0.0   \n",
       "Goveia_Carmeliet_2020_patient_41_normal_adjacen...              0.0   \n",
       "Goveia_Carmeliet_2020_patient_41_tumor_primary_...              0.0   \n",
       "Goveia_Carmeliet_2020_patient_42_normal_adjacen...           2688.0   \n",
       "...                                                             ...   \n",
       "Zilionis_Klein_2019_p5t2_Zilionis_Klein_2019_pa...              0.0   \n",
       "Zilionis_Klein_2019_p6t1_Zilionis_Klein_2019_pa...              0.0   \n",
       "Zilionis_Klein_2019_p6t2_Zilionis_Klein_2019_pa...              0.0   \n",
       "Zilionis_Klein_2019_p7t1_Zilionis_Klein_2019_pa...              0.0   \n",
       "Zilionis_Klein_2019_p7t2_Zilionis_Klein_2019_pa...              0.0   \n",
       "\n",
       "gene_id                                             ENSG00000277734  \\\n",
       "Goveia_Carmeliet_2020_patient_40_normal_adjacen...              0.0   \n",
       "Goveia_Carmeliet_2020_patient_40_tumor_primary_...              0.0   \n",
       "Goveia_Carmeliet_2020_patient_41_normal_adjacen...              0.0   \n",
       "Goveia_Carmeliet_2020_patient_41_tumor_primary_...              0.0   \n",
       "Goveia_Carmeliet_2020_patient_42_normal_adjacen...              0.0   \n",
       "...                                                             ...   \n",
       "Zilionis_Klein_2019_p5t2_Zilionis_Klein_2019_pa...              0.0   \n",
       "Zilionis_Klein_2019_p6t1_Zilionis_Klein_2019_pa...           1074.0   \n",
       "Zilionis_Klein_2019_p6t2_Zilionis_Klein_2019_pa...            851.0   \n",
       "Zilionis_Klein_2019_p7t1_Zilionis_Klein_2019_pa...              0.0   \n",
       "Zilionis_Klein_2019_p7t2_Zilionis_Klein_2019_pa...              0.0   \n",
       "\n",
       "gene_id                                             ENSG00000277791  \n",
       "Goveia_Carmeliet_2020_patient_40_normal_adjacen...           3035.0  \n",
       "Goveia_Carmeliet_2020_patient_40_tumor_primary_...           1420.0  \n",
       "Goveia_Carmeliet_2020_patient_41_normal_adjacen...           2186.0  \n",
       "Goveia_Carmeliet_2020_patient_41_tumor_primary_...           1414.0  \n",
       "Goveia_Carmeliet_2020_patient_42_normal_adjacen...           4163.0  \n",
       "...                                                             ...  \n",
       "Zilionis_Klein_2019_p5t2_Zilionis_Klein_2019_pa...              0.0  \n",
       "Zilionis_Klein_2019_p6t1_Zilionis_Klein_2019_pa...              0.0  \n",
       "Zilionis_Klein_2019_p6t2_Zilionis_Klein_2019_pa...              0.0  \n",
       "Zilionis_Klein_2019_p7t1_Zilionis_Klein_2019_pa...              0.0  \n",
       "Zilionis_Klein_2019_p7t2_Zilionis_Klein_2019_pa...              0.0  \n",
       "\n",
       "[289 rows x 1619 columns]"
      ]
     },
     "execution_count": 73,
     "metadata": {},
     "output_type": "execute_result"
    }
   ],
   "source": [
    "pdata.to_df()"
   ]
  },
  {
   "cell_type": "code",
   "execution_count": 74,
   "id": "d9d33a74-8359-4564-83d5-7daa91204a69",
   "metadata": {},
   "outputs": [],
   "source": [
    "bulk_df.to_csv(f\"{path}/out/007_re_analysis/tables/input/counts.csv\")    "
   ]
  },
  {
   "cell_type": "code",
   "execution_count": 75,
   "id": "43ddd3e0-e71b-480b-9d98-cbad2f8f3a8d",
   "metadata": {},
   "outputs": [
    {
     "name": "stderr",
     "output_type": "stream",
     "text": [
      "/tmp/ipykernel_2402300/1660016733.py:7: FutureWarning: The default value of regex will change from True to False in a future version.\n",
      "  bulk_df.columns = bulk_df.columns.str.replace(\"[.-]\", \"_\").str.replace(\" \", \"_\")\n"
     ]
    }
   ],
   "source": [
    "### log1p_norm counts\n",
    "pdata_log1p_norm = pd.DataFrame(pdata.layers[\"log1p_norm\"], \n",
    "    pdata.to_df().index, \n",
    "    pdata.to_df().columns)\n",
    "bulk_df = pdata_log1p_norm.T\n",
    "#bulk_df[\"gene_id\"]=bulk_df.index\n",
    "bulk_df.columns = bulk_df.columns.str.replace(\"[.-]\", \"_\").str.replace(\" \", \"_\")\n",
    "bulk_df.to_csv(f\"{path}/out/007_re_analysis/tables/input/log1p_norm_counts.csv\")    "
   ]
  },
  {
   "cell_type": "markdown",
   "id": "5f95e140-e654-460b-a5ac-d6ce832bd60c",
   "metadata": {},
   "source": [
    "### 0.4 Create counts and samplesheet independent for tumor and normal for DESEQ2 "
   ]
  },
  {
   "cell_type": "code",
   "execution_count": 46,
   "id": "b87fe773-4e33-4d5e-a8e4-27eabe97660a",
   "metadata": {},
   "outputs": [],
   "source": [
    "pdata_normal = pdata[pdata.obs[\"origin\"]==\"normal_adjacent\"]\n",
    "pdata_tumor = pdata[pdata.obs[\"origin\"]==\"tumor_primary\"]"
   ]
  },
  {
   "cell_type": "code",
   "execution_count": 47,
   "id": "08c8bcc4-5914-4479-a68f-e8f3f450f5fe",
   "metadata": {},
   "outputs": [
    {
     "data": {
      "text/plain": [
       "View of AnnData object with n_obs × n_vars = 111 × 9304\n",
       "    obs: 'sample', 'uicc_stage', 'ever_smoker', 'age', 'donor_id', 'origin', 'dataset', 'doublet_status', 'tumor_stage', 'EGFR_mutation', 'TP53_mutation', 'ALK_mutation', 'BRAF_mutation', 'ERBB2_mutation', 'KRAS_mutation', 'ROS_mutation', 'origin_fine', 'study', 'platform', 'suspension_type', 'assay_ontology_term_id', 'development_stage_ontology_term_id', 'disease_ontology_term_id', 'self_reported_ethnicity_ontology_term_id', 'is_primary_data', 'organism_ontology_term_id', 'sex_ontology_term_id', 'tissue_ontology_term_id', 'assay', 'disease', 'organism', 'sex', 'tissue', 'self_reported_ethnicity', 'development_stage'\n",
       "    layers: 'counts', 'log1p_norm'"
      ]
     },
     "execution_count": 47,
     "metadata": {},
     "output_type": "execute_result"
    }
   ],
   "source": [
    "pdata_normal"
   ]
  },
  {
   "cell_type": "code",
   "execution_count": 48,
   "id": "a7edbc1e-fb61-4f8c-8d80-27833035cf0d",
   "metadata": {
    "scrolled": true
   },
   "outputs": [
    {
     "name": "stdout",
     "output_type": "stream",
     "text": [
      "normal\n"
     ]
    },
    {
     "name": "stderr",
     "output_type": "stream",
     "text": [
      "/tmp/ipykernel_8900/925062667.py:18: FutureWarning: The default value of regex will change from True to False in a future version.\n",
      "  bulk_df.columns = bulk_df.columns.str.replace(\"[.-]\", \"_\").str.replace(\" \", \"_\")\n",
      "/tmp/ipykernel_8900/925062667.py:26: FutureWarning: The default value of regex will change from True to False in a future version.\n",
      "  bulk_df.columns = bulk_df.columns.str.replace(\"[.-]\", \"_\").str.replace(\" \", \"_\")\n"
     ]
    },
    {
     "name": "stdout",
     "output_type": "stream",
     "text": [
      "tumor\n"
     ]
    },
    {
     "name": "stderr",
     "output_type": "stream",
     "text": [
      "/tmp/ipykernel_8900/925062667.py:18: FutureWarning: The default value of regex will change from True to False in a future version.\n",
      "  bulk_df.columns = bulk_df.columns.str.replace(\"[.-]\", \"_\").str.replace(\" \", \"_\")\n",
      "/tmp/ipykernel_8900/925062667.py:26: FutureWarning: The default value of regex will change from True to False in a future version.\n",
      "  bulk_df.columns = bulk_df.columns.str.replace(\"[.-]\", \"_\").str.replace(\" \", \"_\")\n"
     ]
    }
   ],
   "source": [
    "pdata_list = [pdata_normal,pdata_tumor]\n",
    "pdata_list_name = [\"normal\",\"tumor\"]\n",
    "\n",
    "for index, dataframe in enumerate(pdata_list):\n",
    "    print(pdata_list_name[index])\n",
    "    # Perform the operations\n",
    "    samplesheet = dataframe.obs.copy()\n",
    "    samplesheet[\"sample\"] = samplesheet.index\n",
    "    samplesheet.reset_index(inplace=True)\n",
    "  \n",
    "    samplesheet.to_csv(f\"{path}/out/007_re_analysis/tables/input/samplesheet_{pdata_list_name[index]}.csv\", index=False)\n",
    "    samplesheet.to_csv(f\"{path}/out/007_re_analysis/tables/input/samplesheet_{pdata_list_name[index]}.tsv\", index=False, sep=\"\\t\")\n",
    "\n",
    "\n",
    "    ### Raw counts\n",
    "    bulk_df = dataframe.to_df().T\n",
    "    #bulk_df[\"gene_id\"]=bulk_df.index\n",
    "    bulk_df.columns = bulk_df.columns.str.replace(\"[.-]\", \"_\").str.replace(\" \", \"_\")\n",
    "    bulk_df.to_csv(f\"{path}/out/007_re_analysis/tables/input/counts_{pdata_list_name[index]}.csv\")  \n",
    "    ### log1p_norm counts\n",
    "    pdata_log1p_norm = pd.DataFrame(dataframe.layers[\"log1p_norm\"], \n",
    "        dataframe.to_df().index, \n",
    "        dataframe.to_df().columns)\n",
    "    bulk_df = pdata_log1p_norm.T\n",
    "    #bulk_df[\"gene_id\"]=bulk_df.index\n",
    "    bulk_df.columns = bulk_df.columns.str.replace(\"[.-]\", \"_\").str.replace(\" \", \"_\")\n",
    "    bulk_df.to_csv(f\"{path}/out/007_re_analysis/tables/input/log1p_norm_counts_{pdata_list_name[index]}.csv\")    "
   ]
  },
  {
   "cell_type": "code",
   "execution_count": null,
   "id": "ac66a603-3fa2-41ca-b69a-cd0c279b1ef6",
   "metadata": {},
   "outputs": [],
   "source": []
  }
 ],
 "metadata": {
  "kernelspec": {
   "display_name": "nsclc_gender_atlas_23",
   "language": "python",
   "name": "nsclc_gender_atlas_23"
  },
  "language_info": {
   "codemirror_mode": {
    "name": "ipython",
    "version": 3
   },
   "file_extension": ".py",
   "mimetype": "text/x-python",
   "name": "python",
   "nbconvert_exporter": "python",
   "pygments_lexer": "ipython3",
   "version": "3.9.16"
  }
 },
 "nbformat": 4,
 "nbformat_minor": 5
}
