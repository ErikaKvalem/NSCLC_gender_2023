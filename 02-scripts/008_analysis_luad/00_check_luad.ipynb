{
 "cells": [
  {
   "cell_type": "code",
   "execution_count": 1,
   "id": "0850f2d6-b2fe-44ad-9ea3-9a5ef80f06aa",
   "metadata": {},
   "outputs": [],
   "source": [
    "import scanpy as sc\n",
    "import pandas as pd"
   ]
  },
  {
   "cell_type": "code",
   "execution_count": 2,
   "id": "829d7d61-d4d1-476b-9d45-48085d1af71e",
   "metadata": {},
   "outputs": [],
   "source": [
    "import seaborn as sns\n",
    "import matplotlib.pylab as plt"
   ]
  },
  {
   "cell_type": "code",
   "execution_count": 3,
   "id": "f8df591e-a267-40f2-ac21-7a8c93935e1a",
   "metadata": {},
   "outputs": [],
   "source": [
    "path = \"/data/projects/2023/LCBiome/nsclc_gender_atlas_tmp\"\n",
    "input_path    = f\"{path}/data/local.h5ad\""
   ]
  },
  {
   "cell_type": "code",
   "execution_count": 4,
   "id": "0fa17c34-41ce-4e05-93e6-474f2eaa9e8d",
   "metadata": {},
   "outputs": [],
   "source": [
    "adata = sc.read_h5ad(input_path) "
   ]
  },
  {
   "cell_type": "code",
   "execution_count": 5,
   "id": "ba14f606-8d3b-44dd-b078-5a9296be426c",
   "metadata": {},
   "outputs": [],
   "source": [
    "adata = adata[(adata.obs[\"disease\"] != \"normal\") & (adata.obs[\"disease\"] != \"chronic obstructive pulmonary disease\")] #exclude normal and COPD samples\n",
    "adata = adata[adata.obs[\"tumor_stage\"].notna()] #exclude samples without tumor stage\n",
    "adata = adata[(adata.obs[\"sex\"]==\"male\")| (adata.obs[\"sex\"]==\"female\")]"
   ]
  },
  {
   "cell_type": "code",
   "execution_count": 6,
   "id": "531ffb70-64aa-4539-944b-b2cac0858414",
   "metadata": {},
   "outputs": [],
   "source": [
    "adata = adata[(adata.obs[\"origin\"]==\"tumor_primary\")| (adata.obs[\"origin\"]==\"normal_adjacent\")]"
   ]
  },
  {
   "cell_type": "code",
   "execution_count": 7,
   "id": "3f51ad01-5283-4176-b69f-ed6fb420fc4e",
   "metadata": {},
   "outputs": [],
   "source": [
    "#adata = adata[(adata.obs[\"disease\"]!=\"non-small cell lung carcinoma\")]"
   ]
  },
  {
   "cell_type": "markdown",
   "id": "63e79be6-72f1-42d0-b050-4d4b536eab40",
   "metadata": {},
   "source": [
    "## Male/Female proportion LUAD vs LUSC "
   ]
  },
  {
   "cell_type": "code",
   "execution_count": 8,
   "id": "a6af8562-d19d-41e3-baf3-a747cc7e019f",
   "metadata": {},
   "outputs": [],
   "source": [
    "aggregated_df = adata.obs.groupby('donor_id').agg({\n",
    "    'sex': 'first',  # Assuming 'sex' is a categorical column and you want the first occurrence\n",
    "    'age': 'first',  # Similarly, if there is an 'age' column or any other donor-specific info\n",
    "        'disease': 'first',  # Similarly, if there is an 'age' column or any other donor-specific info\n",
    "    'sample': 'count'  # Assuming there is a 'sample_id' column\n",
    "}).reset_index()\n",
    "\n",
    "# Rename the sample_id column to something more descriptive\n",
    "aggregated_df.rename(columns={'sample': 'num_cells'}, inplace=True)\n"
   ]
  },
  {
   "cell_type": "code",
   "execution_count": 9,
   "id": "26e89530-9154-45b9-bd81-584431ba1e73",
   "metadata": {},
   "outputs": [],
   "source": [
    "df_plot = aggregated_df.groupby([\"sex\",\"disease\"]).count()"
   ]
  },
  {
   "cell_type": "code",
   "execution_count": 10,
   "id": "63591e68-6818-43a5-888b-9a52532edd26",
   "metadata": {},
   "outputs": [],
   "source": [
    "df_plot = df_plot.reset_index()"
   ]
  },
  {
   "cell_type": "code",
   "execution_count": 11,
   "id": "2417ec58-7a44-4d6b-96ca-126fd589cbbf",
   "metadata": {},
   "outputs": [
    {
     "data": {
      "text/html": [
       "<div>\n",
       "<style scoped>\n",
       "    .dataframe tbody tr th:only-of-type {\n",
       "        vertical-align: middle;\n",
       "    }\n",
       "\n",
       "    .dataframe tbody tr th {\n",
       "        vertical-align: top;\n",
       "    }\n",
       "\n",
       "    .dataframe thead th {\n",
       "        text-align: right;\n",
       "    }\n",
       "</style>\n",
       "<table border=\"1\" class=\"dataframe\">\n",
       "  <thead>\n",
       "    <tr style=\"text-align: right;\">\n",
       "      <th></th>\n",
       "      <th>sex</th>\n",
       "      <th>disease</th>\n",
       "      <th>donor_id</th>\n",
       "      <th>age</th>\n",
       "      <th>num_cells</th>\n",
       "    </tr>\n",
       "  </thead>\n",
       "  <tbody>\n",
       "    <tr>\n",
       "      <th>0</th>\n",
       "      <td>female</td>\n",
       "      <td>lung adenocarcinoma</td>\n",
       "      <td>55</td>\n",
       "      <td>52</td>\n",
       "      <td>55</td>\n",
       "    </tr>\n",
       "    <tr>\n",
       "      <th>1</th>\n",
       "      <td>female</td>\n",
       "      <td>squamous cell lung carcinoma</td>\n",
       "      <td>11</td>\n",
       "      <td>11</td>\n",
       "      <td>11</td>\n",
       "    </tr>\n",
       "    <tr>\n",
       "      <th>2</th>\n",
       "      <td>female</td>\n",
       "      <td>non-small cell lung carcinoma</td>\n",
       "      <td>4</td>\n",
       "      <td>2</td>\n",
       "      <td>4</td>\n",
       "    </tr>\n",
       "    <tr>\n",
       "      <th>3</th>\n",
       "      <td>male</td>\n",
       "      <td>lung adenocarcinoma</td>\n",
       "      <td>54</td>\n",
       "      <td>41</td>\n",
       "      <td>54</td>\n",
       "    </tr>\n",
       "    <tr>\n",
       "      <th>4</th>\n",
       "      <td>male</td>\n",
       "      <td>squamous cell lung carcinoma</td>\n",
       "      <td>33</td>\n",
       "      <td>33</td>\n",
       "      <td>33</td>\n",
       "    </tr>\n",
       "    <tr>\n",
       "      <th>5</th>\n",
       "      <td>male</td>\n",
       "      <td>non-small cell lung carcinoma</td>\n",
       "      <td>11</td>\n",
       "      <td>2</td>\n",
       "      <td>11</td>\n",
       "    </tr>\n",
       "  </tbody>\n",
       "</table>\n",
       "</div>"
      ],
      "text/plain": [
       "      sex                        disease  donor_id  age  num_cells\n",
       "0  female            lung adenocarcinoma        55   52         55\n",
       "1  female   squamous cell lung carcinoma        11   11         11\n",
       "2  female  non-small cell lung carcinoma         4    2          4\n",
       "3    male            lung adenocarcinoma        54   41         54\n",
       "4    male   squamous cell lung carcinoma        33   33         33\n",
       "5    male  non-small cell lung carcinoma        11    2         11"
      ]
     },
     "execution_count": 11,
     "metadata": {},
     "output_type": "execute_result"
    }
   ],
   "source": [
    "df_plot"
   ]
  },
  {
   "cell_type": "code",
   "execution_count": 12,
   "id": "9aa97684-cba7-460d-bee0-ba5afec8134a",
   "metadata": {},
   "outputs": [
    {
     "data": {
      "text/plain": [
       "[Text(0.5, 0, ''), Text(0, 0.5, 'Number of patients')]"
      ]
     },
     "execution_count": 12,
     "metadata": {},
     "output_type": "execute_result"
    },
    {
     "data": {
      "image/png": "[encoded data removed]",
      "text/plain": [
       "<Figure size 640x480 with 1 Axes>"
      ]
     },
     "metadata": {},
     "output_type": "display_data"
    }
   ],
   "source": [
    "#Plotting by seaborn\n",
    "\n",
    "ax = sns.barplot(x = \"disease\", y=\"donor_id\",hue = \"sex\", data= df_plot)\n",
    "plt.xticks(rotation=70)\n",
    "#plt.tight_layout()\n",
    "ax.bar_label(ax.containers[0])\n",
    "ax.bar_label(ax.containers[1])\n",
    "ax.set(xlabel='', ylabel='Number of patients')"
   ]
  },
  {
   "cell_type": "markdown",
   "id": "2dd76058-dcb0-4c93-9cfe-6daa7b046724",
   "metadata": {},
   "source": [
    "## Exclude NSCLC_mixed from cell_type_tumor"
   ]
  },
  {
   "cell_type": "code",
   "execution_count": 13,
   "id": "f3cf43d9-3d68-4322-9502-7e2e943257a6",
   "metadata": {},
   "outputs": [],
   "source": [
    "#adata = adata[(adata.obs[\"cell_type_tumor\"]!=\"non-small cell lung carcinoma\")]"
   ]
  },
  {
   "cell_type": "code",
   "execution_count": 15,
   "id": "4166efe5-57fb-4a9c-a921-9c176c2f5110",
   "metadata": {},
   "outputs": [
    {
     "data": {
      "text/plain": [
       "T cell CD4                         149343\n",
       "Macrophage alveolar                 82844\n",
       "Macrophage                          78660\n",
       "T cell CD8 effector memory          62591\n",
       "NK cell                             50094\n",
       "B cell                              44307\n",
       "Monocyte classical                  43364\n",
       "Tumor cells LUAD                    36671\n",
       "T cell regulatory                   33603\n",
       "Plasma cell                         30292\n",
       "T cell NK-like                      25119\n",
       "transitional club/AT2               22894\n",
       "cDC2                                20734\n",
       "Neutrophils                         18706\n",
       "T cell CD8 terminally exhausted     17601\n",
       "Alveolar cell type 2                16274\n",
       "Endothelial cell venous             15849\n",
       "Tumor cells LUSC                    15395\n",
       "Mast cell                           14361\n",
       "Endothelial cell capillary          10870\n",
       "T cell CD8 naive                    10207\n",
       "Tumor cells LUSC mitotic             9359\n",
       "Tumor cells LUAD EMT                 7800\n",
       "Ciliated                             6413\n",
       "Monocyte non-classical               6103\n",
       "myeloid dividing                     5544\n",
       "T cell CD8 activated                 5068\n",
       "Fibroblast peribronchial             4907\n",
       "pDC                                  3800\n",
       "Tumor cells LUAD mitotic             3745\n",
       "Alveolar cell type 1                 3739\n",
       "Endothelial cell lymphatic           3466\n",
       "T cell CD4 dividing                  2904\n",
       "Fibroblast alveolar                  2858\n",
       "T cell CD8 dividing                  2666\n",
       "Endothelial cell arterial            2258\n",
       "Fibroblast adventitial               2233\n",
       "Tumor cells NSCLC mixed              2184\n",
       "cDC1                                 2097\n",
       "Pericyte                             2000\n",
       "Smooth muscle cell                   1610\n",
       "Plasma cell dividing                 1584\n",
       "Club                                 1580\n",
       "DC mature                            1498\n",
       "NK cell dividing                      586\n",
       "Mesothelial                           340\n",
       "stromal dividing                      312\n",
       "B cell dividing                       302\n",
       "Tumor cells LUAD NE                   245\n",
       "ROS1+ healthy epithelial              119\n",
       "Tumor cells LUAD MSLN                  58\n",
       "Name: cell_type_tumor, dtype: int64"
      ]
     },
     "execution_count": 15,
     "metadata": {},
     "output_type": "execute_result"
    }
   ],
   "source": [
    "adata.obs.cell_type_tumor.value_counts()"
   ]
  },
  {
   "cell_type": "code",
   "execution_count": null,
   "id": "40665ef7-b4bf-4faa-aa76-2d82ad5e2b3a",
   "metadata": {},
   "outputs": [],
   "source": []
  }
 ],
 "metadata": {
  "kernelspec": {
   "display_name": "nsclc_gender_atlas_23",
   "language": "python",
   "name": "nsclc_gender_atlas_23"
  },
  "language_info": {
   "codemirror_mode": {
    "name": "ipython",
    "version": 3
   },
   "file_extension": ".py",
   "mimetype": "text/x-python",
   "name": "python",
   "nbconvert_exporter": "python",
   "pygments_lexer": "ipython3",
   "version": "3.9.16"
  }
 },
 "nbformat": 4,
 "nbformat_minor": 5
}
