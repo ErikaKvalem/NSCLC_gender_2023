{
 "cells": [
  {
   "cell_type": "markdown",
   "id": "bfec1d89-75e8-4dc3-a8e1-8134c27cc801",
   "metadata": {},
   "source": [
    "## LUAD cell type fractions"
   ]
  },
  {
   "cell_type": "code",
   "execution_count": 1,
   "id": "ce794d00-c4cf-426f-b352-5909a2eb3936",
   "metadata": {
    "scrolled": true
   },
   "outputs": [
    {
     "name": "stderr",
     "output_type": "stream",
     "text": [
      "/home/kvalem/.conda/envs/pertpy-env/lib/python3.10/site-packages/tqdm/auto.py:21: TqdmWarning: IProgress not found. Please update jupyter and ipywidgets. See https://ipywidgets.readthedocs.io/en/stable/user_install.html\n",
      "  from .autonotebook import tqdm as notebook_tqdm\n",
      "/home/kvalem/.conda/envs/pertpy-env/lib/python3.10/site-packages/anndata/utils.py:429: FutureWarning: Importing read_csv from `anndata` is deprecated. Import anndata.io.read_csv instead.\n",
      "  warnings.warn(msg, FutureWarning)\n",
      "/home/kvalem/.conda/envs/pertpy-env/lib/python3.10/site-packages/anndata/utils.py:429: FutureWarning: Importing read_loom from `anndata` is deprecated. Import anndata.io.read_loom instead.\n",
      "  warnings.warn(msg, FutureWarning)\n",
      "/home/kvalem/.conda/envs/pertpy-env/lib/python3.10/site-packages/anndata/utils.py:429: FutureWarning: Importing read_text from `anndata` is deprecated. Import anndata.io.read_text instead.\n",
      "  warnings.warn(msg, FutureWarning)\n",
      "/home/kvalem/.conda/envs/pertpy-env/lib/python3.10/site-packages/anndata/utils.py:429: FutureWarning: Importing CSCDataset from `anndata.experimental` is deprecated. Import anndata.abc.CSCDataset instead.\n",
      "  warnings.warn(msg, FutureWarning)\n",
      "/home/kvalem/.conda/envs/pertpy-env/lib/python3.10/site-packages/anndata/utils.py:429: FutureWarning: Importing CSRDataset from `anndata.experimental` is deprecated. Import anndata.abc.CSRDataset instead.\n",
      "  warnings.warn(msg, FutureWarning)\n",
      "/home/kvalem/.conda/envs/pertpy-env/lib/python3.10/site-packages/anndata/utils.py:429: FutureWarning: Importing read_elem from `anndata.experimental` is deprecated. Import anndata.io.read_elem instead.\n",
      "  warnings.warn(msg, FutureWarning)\n"
     ]
    }
   ],
   "source": [
    "import pertpy as pt"
   ]
  },
  {
   "cell_type": "code",
   "execution_count": 2,
   "id": "3b2d773f-4bff-4ee1-ac0f-754d64edc743",
   "metadata": {},
   "outputs": [],
   "source": [
    "import scanpy as sc"
   ]
  },
  {
   "cell_type": "code",
   "execution_count": 3,
   "id": "c5790e2a-8231-4454-ba88-a49ce4f3ab2b",
   "metadata": {},
   "outputs": [],
   "source": [
    "import warnings\n",
    "\n",
    "warnings.filterwarnings(\"ignore\")\n",
    "\n",
    "import matplotlib.pyplot as plt\n",
    "import mudata as mu"
   ]
  },
  {
   "cell_type": "code",
   "execution_count": 4,
   "id": "d7533d82-663c-4e83-a02e-5f8541eb7f67",
   "metadata": {},
   "outputs": [
    {
     "name": "stderr",
     "output_type": "stream",
     "text": [
      "2024-12-04 10:31:42.504771: E external/local_xla/xla/stream_executor/cuda/cuda_fft.cc:477] Unable to register cuFFT factory: Attempting to register factory for plugin cuFFT when one has already been registered\n",
      "WARNING: All log messages before absl::InitializeLog() is called are written to STDERR\n",
      "E0000 00:00:1733304702.523688 2651040 cuda_dnn.cc:8310] Unable to register cuDNN factory: Attempting to register factory for plugin cuDNN when one has already been registered\n",
      "E0000 00:00:1733304702.529599 2651040 cuda_blas.cc:1418] Unable to register cuBLAS factory: Attempting to register factory for plugin cuBLAS when one has already been registered\n"
     ]
    }
   ],
   "source": [
    "import sccoda.util.cell_composition_data as scc_dat\n",
    "import sccoda.util.comp_ana as scc_ana\n",
    "import sccoda.util.data_visualization as scc_viz"
   ]
  },
  {
   "cell_type": "code",
   "execution_count": 5,
   "id": "2ef7c294-9657-41bd-8b2e-15db992af014",
   "metadata": {},
   "outputs": [],
   "source": [
    "path = \"/data/projects/2023/LCBiome/nsclc_gender_atlas_tmp/out/011_analysis_paired_remove_xy/pseudobulk/\"\n",
    "resDir = \"/data/projects/2023/LCBiome/nsclc_gender_atlas_tmp/out/011_analysis_paired_remove_xy/figures/\"\n",
    "input_path = f\"{path}/paired_adata_clean.h5ad\""
   ]
  },
  {
   "cell_type": "code",
   "execution_count": 6,
   "id": "ecb27565-7298-4541-91e5-d784801e2978",
   "metadata": {},
   "outputs": [],
   "source": [
    "adata = sc.read_h5ad(input_path)"
   ]
  },
  {
   "cell_type": "code",
   "execution_count": 7,
   "id": "771c6d7a-df31-40d5-a5ff-ea6b69c6f1f9",
   "metadata": {},
   "outputs": [],
   "source": [
    "adata.obs[\"cell_type_major\"].replace(\"Macrophage alveolar\", \"Macrophage\", inplace=True)"
   ]
  },
  {
   "cell_type": "code",
   "execution_count": 8,
   "id": "19bdc0ba-e8fb-46ac-9d88-311cbbd7ee18",
   "metadata": {},
   "outputs": [],
   "source": [
    "adata = adata[\n",
    "    ~adata.obs[\"cell_type_major\"].isin([\"transitional club/AT2\", \"Ciliated\", \"other\"])\n",
    "]"
   ]
  },
  {
   "cell_type": "code",
   "execution_count": 9,
   "id": "acf1f12b-3e5e-4068-980e-fc3b47dc95f2",
   "metadata": {},
   "outputs": [
    {
     "data": {
      "text/plain": [
       "cell_type_major\n",
       "Macrophage           130447\n",
       "T cell CD4           118739\n",
       "T cell CD8            96754\n",
       "B cell                27723\n",
       "Tumor cells           25793\n",
       "T cell regulatory     23411\n",
       "Neutrophils           15244\n",
       "DC mature              1158\n",
       "Name: count, dtype: int64"
      ]
     },
     "execution_count": 9,
     "metadata": {},
     "output_type": "execute_result"
    }
   ],
   "source": [
    "adata.obs.cell_type_major.value_counts()"
   ]
  },
  {
   "cell_type": "code",
   "execution_count": 10,
   "id": "e16df00b-fbbe-4418-ab39-ea406cb2c93b",
   "metadata": {},
   "outputs": [
    {
     "data": {
      "text/plain": [
       "disease\n",
       "lung adenocarcinoma              325886\n",
       "squamous cell lung carcinoma      93286\n",
       "non-small cell lung carcinoma     20097\n",
       "Name: count, dtype: int64"
      ]
     },
     "execution_count": 10,
     "metadata": {},
     "output_type": "execute_result"
    }
   ],
   "source": [
    "adata.obs.disease.value_counts()"
   ]
  },
  {
   "cell_type": "code",
   "execution_count": 11,
   "id": "c9832c46-28a1-424c-b7d7-6fa6b1ed7513",
   "metadata": {},
   "outputs": [
    {
     "data": {
      "text/plain": [
       "View of AnnData object with n_obs × n_vars = 439269 × 17811\n",
       "    obs: 'sample', 'uicc_stage', 'ever_smoker', 'age', 'donor_id', 'origin', 'dataset', 'ann_fine', 'cell_type_predicted', 'doublet_status', 'leiden', 'n_genes_by_counts', 'total_counts', 'total_counts_mito', 'pct_counts_mito', 'ann_coarse', 'cell_type_tumor', 'tumor_stage', 'EGFR_mutation', 'TP53_mutation', 'ALK_mutation', 'BRAF_mutation', 'ERBB2_mutation', 'KRAS_mutation', 'ROS_mutation', 'origin_fine', 'study', 'platform', 'cell_type_major', 'cell_type_neutro', 'cell_type_neutro_coarse', 'suspension_type', 'assay_ontology_term_id', 'cell_type_ontology_term_id', 'development_stage_ontology_term_id', 'disease_ontology_term_id', 'self_reported_ethnicity_ontology_term_id', 'is_primary_data', 'organism_ontology_term_id', 'sex_ontology_term_id', 'tissue_ontology_term_id', 'cell_type', 'assay', 'disease', 'organism', 'sex', 'tissue', 'self_reported_ethnicity', 'development_stage'\n",
       "    var: 'is_highly_variable', 'mito', 'n_cells_by_counts', 'mean_counts', 'pct_dropout_by_counts', 'total_counts', 'feature_is_filtered', 'feature_name', 'feature_reference', 'feature_biotype'\n",
       "    uns: '_scvi', 'ann_fine_colors', 'batch_condition', 'cell_type_tumor_colors', 'dataset_colors', 'default_embedding', 'hvg', 'log1p', 'neighbors', 'origin_colors', 'platform_colors', 'schema_version', 'sex_colors', 'title', 'umap'\n",
       "    obsm: 'X_scANVI', 'X_scVI', 'X_umap'\n",
       "    layers: 'count', 'counts_length_scaled', 'log1p_norm'\n",
       "    obsp: 'connectivities', 'distances'"
      ]
     },
     "execution_count": 11,
     "metadata": {},
     "output_type": "execute_result"
    }
   ],
   "source": [
    "adata"
   ]
  },
  {
   "cell_type": "code",
   "execution_count": 12,
   "id": "f2bae82a-d603-4bf9-bf33-0aebfa1476a3",
   "metadata": {},
   "outputs": [],
   "source": [
    "adata = adata[adata.obs[\"disease\"]==\"lung adenocarcinoma\"]"
   ]
  },
  {
   "cell_type": "code",
   "execution_count": 13,
   "id": "093f8605-dfe2-47b8-8cde-5b28a629998f",
   "metadata": {},
   "outputs": [
    {
     "data": {
      "text/plain": [
       "View of AnnData object with n_obs × n_vars = 325886 × 17811\n",
       "    obs: 'sample', 'uicc_stage', 'ever_smoker', 'age', 'donor_id', 'origin', 'dataset', 'ann_fine', 'cell_type_predicted', 'doublet_status', 'leiden', 'n_genes_by_counts', 'total_counts', 'total_counts_mito', 'pct_counts_mito', 'ann_coarse', 'cell_type_tumor', 'tumor_stage', 'EGFR_mutation', 'TP53_mutation', 'ALK_mutation', 'BRAF_mutation', 'ERBB2_mutation', 'KRAS_mutation', 'ROS_mutation', 'origin_fine', 'study', 'platform', 'cell_type_major', 'cell_type_neutro', 'cell_type_neutro_coarse', 'suspension_type', 'assay_ontology_term_id', 'cell_type_ontology_term_id', 'development_stage_ontology_term_id', 'disease_ontology_term_id', 'self_reported_ethnicity_ontology_term_id', 'is_primary_data', 'organism_ontology_term_id', 'sex_ontology_term_id', 'tissue_ontology_term_id', 'cell_type', 'assay', 'disease', 'organism', 'sex', 'tissue', 'self_reported_ethnicity', 'development_stage'\n",
       "    var: 'is_highly_variable', 'mito', 'n_cells_by_counts', 'mean_counts', 'pct_dropout_by_counts', 'total_counts', 'feature_is_filtered', 'feature_name', 'feature_reference', 'feature_biotype'\n",
       "    uns: '_scvi', 'ann_fine_colors', 'batch_condition', 'cell_type_tumor_colors', 'dataset_colors', 'default_embedding', 'hvg', 'log1p', 'neighbors', 'origin_colors', 'platform_colors', 'schema_version', 'sex_colors', 'title', 'umap'\n",
       "    obsm: 'X_scANVI', 'X_scVI', 'X_umap'\n",
       "    layers: 'count', 'counts_length_scaled', 'log1p_norm'\n",
       "    obsp: 'connectivities', 'distances'"
      ]
     },
     "execution_count": 13,
     "metadata": {},
     "output_type": "execute_result"
    }
   ],
   "source": [
    "adata"
   ]
  },
  {
   "cell_type": "code",
   "execution_count": 17,
   "id": "bb2941d8-59aa-4026-9f40-e9a26c9eeb0e",
   "metadata": {},
   "outputs": [
    {
     "name": "stdout",
     "output_type": "stream",
     "text": [
      "\u001b[93m!\u001b[0m Covariate dataset has non-unique values for batch! Skipping...\n",
      "MuData object with n_obs × n_vars = 325951 × 17819\n",
      "  2 modalities\n",
      "    rna:\t325886 x 17811\n",
      "      obs:\t'sample', 'uicc_stage', 'ever_smoker', 'age', 'donor_id', 'origin', 'dataset', 'ann_fine', 'cell_type_predicted', 'doublet_status', 'leiden', 'n_genes_by_counts', 'total_counts', 'total_counts_mito', 'pct_counts_mito', 'ann_coarse', 'cell_type_tumor', 'tumor_stage', 'EGFR_mutation', 'TP53_mutation', 'ALK_mutation', 'BRAF_mutation', 'ERBB2_mutation', 'KRAS_mutation', 'ROS_mutation', 'origin_fine', 'study', 'platform', 'cell_type_major', 'cell_type_neutro', 'cell_type_neutro_coarse', 'suspension_type', 'assay_ontology_term_id', 'cell_type_ontology_term_id', 'development_stage_ontology_term_id', 'disease_ontology_term_id', 'self_reported_ethnicity_ontology_term_id', 'is_primary_data', 'organism_ontology_term_id', 'sex_ontology_term_id', 'tissue_ontology_term_id', 'cell_type', 'assay', 'disease', 'organism', 'sex', 'tissue', 'self_reported_ethnicity', 'development_stage', 'scCODA_sample_id'\n",
      "      var:\t'is_highly_variable', 'mito', 'n_cells_by_counts', 'mean_counts', 'pct_dropout_by_counts', 'total_counts', 'feature_is_filtered', 'feature_name', 'feature_reference', 'feature_biotype'\n",
      "      uns:\t'_scvi', 'ann_fine_colors', 'batch_condition', 'cell_type_tumor_colors', 'dataset_colors', 'default_embedding', 'hvg', 'log1p', 'neighbors', 'origin_colors', 'platform_colors', 'schema_version', 'sex_colors', 'title', 'umap'\n",
      "      obsm:\t'X_scANVI', 'X_scVI', 'X_umap'\n",
      "      layers:\t'count', 'counts_length_scaled', 'log1p_norm'\n",
      "      obsp:\t'connectivities', 'distances'\n",
      "    coda:\t65 x 8\n",
      "      obs:\t'disease', 'donor_id', 'sex'\n",
      "      var:\t'n_cells'\n",
      "[[8.0000e+00 0.0000e+00 9.4700e+02 0.0000e+00 2.0000e+01 1.0000e+01\n",
      "  2.0000e+00 3.0000e+01]\n",
      " [6.0000e+00 0.0000e+00 2.1650e+03 0.0000e+00 1.3000e+01 9.0000e+00\n",
      "  0.0000e+00 8.9000e+01]\n",
      " [5.0000e+00 4.0000e+00 1.3950e+03 0.0000e+00 3.3000e+01 6.6000e+01\n",
      "  3.0000e+00 1.5000e+01]\n",
      " [0.0000e+00 0.0000e+00 0.0000e+00 0.0000e+00 5.4000e+01 1.3300e+02\n",
      "  3.0000e+00 0.0000e+00]\n",
      " [0.0000e+00 0.0000e+00 1.0000e+00 0.0000e+00 3.7600e+02 3.9300e+02\n",
      "  3.6000e+01 0.0000e+00]\n",
      " [0.0000e+00 0.0000e+00 1.0000e+00 0.0000e+00 1.9200e+02 2.9400e+02\n",
      "  6.0000e+00 0.0000e+00]\n",
      " [0.0000e+00 0.0000e+00 0.0000e+00 0.0000e+00 2.8100e+02 3.6300e+02\n",
      "  4.1000e+01 0.0000e+00]\n",
      " [0.0000e+00 0.0000e+00 0.0000e+00 0.0000e+00 2.7300e+02 3.0700e+02\n",
      "  2.9000e+01 0.0000e+00]\n",
      " [0.0000e+00 0.0000e+00 0.0000e+00 0.0000e+00 3.5400e+02 2.7800e+02\n",
      "  8.7000e+01 0.0000e+00]\n",
      " [0.0000e+00 0.0000e+00 0.0000e+00 0.0000e+00 3.7300e+02 2.8900e+02\n",
      "  1.1200e+02 0.0000e+00]\n",
      " [0.0000e+00 0.0000e+00 0.0000e+00 0.0000e+00 7.6000e+01 1.0800e+02\n",
      "  1.3000e+01 0.0000e+00]\n",
      " [1.6300e+02 3.6000e+01 1.1971e+04 0.0000e+00 2.5070e+03 1.0660e+03\n",
      "  1.3900e+02 7.2000e+02]\n",
      " [2.4800e+02 7.1000e+01 6.3510e+03 0.0000e+00 2.4510e+03 2.0400e+03\n",
      "  5.1300e+02 5.6000e+02]\n",
      " [6.5000e+01 5.2000e+01 5.2590e+03 0.0000e+00 2.4070e+03 8.3700e+02\n",
      "  8.1000e+01 2.7730e+03]\n",
      " [1.9300e+02 4.1000e+01 4.2230e+03 0.0000e+00 2.0740e+03 7.4900e+02\n",
      "  6.1000e+01 3.3500e+02]\n",
      " [3.6200e+02 7.8000e+01 2.1680e+03 0.0000e+00 2.3710e+03 2.7830e+03\n",
      "  1.3960e+03 2.9600e+02]\n",
      " [4.7300e+02 1.6000e+01 1.1630e+03 0.0000e+00 9.1100e+02 1.3240e+03\n",
      "  1.7500e+02 5.1000e+01]\n",
      " [7.3700e+02 1.5000e+01 8.9700e+02 0.0000e+00 1.4050e+03 6.7500e+02\n",
      "  4.3400e+02 0.0000e+00]\n",
      " [1.2000e+02 1.6000e+01 1.7950e+03 0.0000e+00 7.7600e+02 1.2290e+03\n",
      "  1.4800e+02 5.0000e+00]\n",
      " [2.8100e+02 1.7000e+01 1.9880e+03 0.0000e+00 9.8500e+02 9.1000e+02\n",
      "  3.1400e+02 7.9300e+02]\n",
      " [3.7600e+02 3.3000e+01 1.3090e+03 0.0000e+00 1.2140e+03 6.9800e+02\n",
      "  2.2600e+02 7.4000e+01]\n",
      " [6.7000e+01 1.8000e+01 3.3460e+03 0.0000e+00 1.1940e+03 1.3060e+03\n",
      "  3.6500e+02 2.9300e+02]\n",
      " [2.5200e+02 1.0000e+00 1.2370e+03 0.0000e+00 9.9800e+02 1.5600e+03\n",
      "  1.9600e+02 6.8400e+02]\n",
      " [6.8000e+01 2.2000e+01 9.0800e+02 0.0000e+00 1.1670e+03 1.0920e+03\n",
      "  2.1500e+02 1.2000e+01]\n",
      " [2.9000e+01 1.2000e+01 9.0600e+02 0.0000e+00 1.1530e+03 2.0060e+03\n",
      "  3.3800e+02 9.9000e+01]\n",
      " [5.4000e+01 8.0000e+00 1.1810e+03 0.0000e+00 3.9500e+02 7.6000e+02\n",
      "  4.8000e+01 3.5900e+02]\n",
      " [5.4400e+02 9.0000e+00 1.7910e+03 1.0000e+00 1.9350e+03 2.2070e+03\n",
      "  5.0800e+02 1.1940e+03]\n",
      " [4.0000e+02 6.0000e+00 1.1320e+03 0.0000e+00 1.5380e+03 4.9070e+03\n",
      "  1.1170e+03 1.6840e+03]\n",
      " [9.8200e+02 0.0000e+00 3.7600e+02 0.0000e+00 1.2910e+03 1.2920e+03\n",
      "  3.3700e+02 2.4700e+02]\n",
      " [1.1400e+02 8.0000e+00 3.4400e+02 0.0000e+00 8.4900e+02 1.1700e+03\n",
      "  1.4000e+02 1.1900e+02]\n",
      " [1.8300e+02 3.8000e+01 1.8280e+03 0.0000e+00 1.4770e+03 4.0200e+02\n",
      "  2.1900e+02 5.4000e+01]\n",
      " [1.3400e+02 3.9000e+01 5.6960e+03 0.0000e+00 1.2790e+03 9.8100e+02\n",
      "  1.4500e+02 6.5000e+01]\n",
      " [2.1800e+02 2.3000e+01 2.5710e+03 2.0000e+00 4.5200e+02 8.0100e+02\n",
      "  7.5000e+01 3.0800e+02]\n",
      " [9.5000e+01 7.0000e+00 7.3900e+02 0.0000e+00 7.9700e+02 6.3500e+02\n",
      "  8.5000e+01 4.9600e+02]\n",
      " [1.9200e+02 1.1000e+01 6.6600e+02 0.0000e+00 7.0600e+02 5.9100e+02\n",
      "  1.4600e+02 4.2800e+02]\n",
      " [1.4060e+03 9.0000e+00 1.7270e+03 1.0000e+00 1.3500e+03 6.6300e+02\n",
      "  1.0200e+02 7.4000e+01]\n",
      " [5.1000e+01 3.0000e+00 2.8000e+01 1.0000e+00 3.9700e+02 4.4900e+02\n",
      "  7.6000e+01 6.0000e+00]\n",
      " [3.2000e+01 1.0000e+00 1.4000e+01 0.0000e+00 6.7200e+02 4.3000e+02\n",
      "  1.6100e+02 3.0000e+00]\n",
      " [0.0000e+00 0.0000e+00 7.0000e+00 0.0000e+00 1.2000e+01 8.0000e+00\n",
      "  4.0000e+00 0.0000e+00]\n",
      " [2.0200e+02 5.0000e+00 3.8700e+02 1.0000e+00 1.1800e+03 6.2200e+02\n",
      "  1.6500e+02 6.0000e+00]\n",
      " [3.8500e+02 5.0000e+00 2.9000e+01 0.0000e+00 1.0740e+03 5.9000e+02\n",
      "  1.4900e+02 0.0000e+00]\n",
      " [3.7900e+02 2.9000e+01 2.7760e+03 0.0000e+00 1.3830e+03 1.0560e+03\n",
      "  2.8800e+02 9.1300e+02]\n",
      " [1.4700e+02 1.7000e+01 1.1900e+02 0.0000e+00 1.6600e+03 7.0400e+02\n",
      "  2.4500e+02 4.3000e+01]\n",
      " [2.7000e+02 4.0000e+00 4.8300e+02 0.0000e+00 1.7490e+03 5.6000e+02\n",
      "  1.8400e+02 7.0000e+00]\n",
      " [4.5800e+02 1.7000e+01 1.2000e+03 0.0000e+00 1.7220e+03 8.0100e+02\n",
      "  1.1300e+02 1.1000e+01]\n",
      " [2.7000e+02 1.7000e+01 9.0100e+02 0.0000e+00 1.6950e+03 1.4230e+03\n",
      "  1.6400e+02 2.9000e+01]\n",
      " [5.9000e+02 2.1000e+01 2.3570e+03 0.0000e+00 2.3390e+03 1.0100e+03\n",
      "  4.3800e+02 9.9000e+01]\n",
      " [3.4900e+02 1.0000e+01 1.1220e+03 1.0000e+00 2.9090e+03 1.0480e+03\n",
      "  1.6300e+02 6.6000e+01]\n",
      " [6.6000e+02 1.9000e+01 1.3940e+03 0.0000e+00 3.3770e+03 2.4910e+03\n",
      "  4.6500e+02 0.0000e+00]\n",
      " [1.1810e+03 3.2000e+01 4.8100e+03 1.0000e+00 3.5660e+03 2.5880e+03\n",
      "  3.4700e+02 1.6000e+01]\n",
      " [7.9000e+01 7.0000e+00 2.3350e+03 5.0000e+00 2.5150e+03 2.5810e+03\n",
      "  2.0800e+02 3.9000e+01]\n",
      " [1.2290e+03 1.4000e+01 2.1160e+03 8.0000e+00 1.2579e+04 4.5690e+03\n",
      "  1.8360e+03 3.4700e+02]\n",
      " [2.6200e+02 1.8000e+01 1.6380e+03 1.0000e+00 2.5000e+03 9.8900e+02\n",
      "  3.7200e+02 0.0000e+00]\n",
      " [4.6200e+02 4.2000e+01 3.2660e+03 1.2120e+03 2.7510e+03 1.0600e+03\n",
      "  6.3300e+02 2.4200e+02]\n",
      " [1.6600e+02 4.0000e+00 1.3140e+03 2.0500e+02 2.1640e+03 1.7330e+03\n",
      "  2.1500e+02 7.4400e+02]\n",
      " [3.4000e+01 7.0000e+00 1.7090e+03 5.3200e+02 2.0010e+03 1.4050e+03\n",
      "  3.8700e+02 2.3000e+01]\n",
      " [6.7700e+02 1.4000e+01 8.7000e+02 7.6700e+02 1.6970e+03 2.0210e+03\n",
      "  4.2000e+02 5.8100e+02]\n",
      " [8.0000e+01 1.2000e+01 1.2470e+03 4.4800e+02 7.3200e+02 1.6900e+03\n",
      "  3.1100e+02 4.1700e+02]\n",
      " [1.2700e+02 8.0000e+00 1.4840e+03 3.9600e+02 1.4500e+03 1.0030e+03\n",
      "  1.7300e+02 1.4600e+02]\n",
      " [1.0700e+02 6.0000e+00 1.5380e+03 6.2000e+01 6.7900e+02 4.2300e+02\n",
      "  2.0000e+02 1.4000e+02]\n",
      " [2.8500e+02 7.0000e+00 1.4740e+03 5.0000e+01 1.0510e+03 1.0450e+03\n",
      "  2.1200e+02 3.9000e+01]\n",
      " [7.8000e+01 3.0000e+00 1.0840e+03 4.7300e+02 7.9600e+02 7.1100e+02\n",
      "  1.0200e+02 1.4600e+02]\n",
      " [1.6200e+02 2.0000e+00 5.1600e+02 1.2360e+03 1.5500e+03 1.2990e+03\n",
      "  6.8500e+02 5.6300e+02]\n",
      " [9.8000e+01 8.0000e+00 3.2000e+01 2.3800e+02 4.9100e+02 5.2400e+02\n",
      "  6.7000e+01 1.1900e+02]\n",
      " [1.5600e+02 5.0000e+00 1.9400e+03 5.0500e+02 6.0300e+02 1.2790e+03\n",
      "  1.4700e+02 3.3700e+02]]\n",
      "                                              disease  \\\n",
      "scCODA_sample_id                                        \n",
      "Goveia_Carmeliet_2020_patient_45  lung adenocarcinoma   \n",
      "Goveia_Carmeliet_2020_patient_46  lung adenocarcinoma   \n",
      "Goveia_Carmeliet_2020_patient_50  lung adenocarcinoma   \n",
      "Guo_Zhang_2018_P0616P             lung adenocarcinoma   \n",
      "Guo_Zhang_2018_P0617              lung adenocarcinoma   \n",
      "...                                               ...   \n",
      "UKIM-V-2_P5                       lung adenocarcinoma   \n",
      "UKIM-V-2_P7                       lung adenocarcinoma   \n",
      "UKIM-V-2_P9                       lung adenocarcinoma   \n",
      "UKIM-V_P1                         lung adenocarcinoma   \n",
      "UKIM-V_P3                         lung adenocarcinoma   \n",
      "\n",
      "                                                          donor_id     sex  \n",
      "scCODA_sample_id                                                            \n",
      "Goveia_Carmeliet_2020_patient_45  Goveia_Carmeliet_2020_patient_45  female  \n",
      "Goveia_Carmeliet_2020_patient_46  Goveia_Carmeliet_2020_patient_46  female  \n",
      "Goveia_Carmeliet_2020_patient_50  Goveia_Carmeliet_2020_patient_50  female  \n",
      "Guo_Zhang_2018_P0616P                        Guo_Zhang_2018_P0616P    male  \n",
      "Guo_Zhang_2018_P0617                          Guo_Zhang_2018_P0617    male  \n",
      "...                                                            ...     ...  \n",
      "UKIM-V-2_P5                                            UKIM-V-2_P5  female  \n",
      "UKIM-V-2_P7                                            UKIM-V-2_P7  female  \n",
      "UKIM-V-2_P9                                            UKIM-V-2_P9    male  \n",
      "UKIM-V_P1                                                UKIM-V_P1  female  \n",
      "UKIM-V_P3                                                UKIM-V_P3    male  \n",
      "\n",
      "[65 rows x 3 columns]\n"
     ]
    }
   ],
   "source": [
    "sccoda_model = pt.tl.Sccoda()\n",
    "sccoda_data = sccoda_model.load(\n",
    "    adata,\n",
    "    type=\"cell_level\",\n",
    "    generate_sample_level=True,\n",
    "    cell_type_identifier=\"cell_type_major\",\n",
    "    sample_identifier=\"donor_id\",\n",
    "    covariate_obs=[\"disease\",\"dataset\",\"sex\"],\n",
    ")\n",
    "print(sccoda_data)\n",
    "print(sccoda_data[\"coda\"].X)\n",
    "print(sccoda_data[\"coda\"].obs)"
   ]
  },
  {
   "cell_type": "code",
   "execution_count": 18,
   "id": "12b77dc1-6f93-4c8d-9ef1-d044cd8e5fbb",
   "metadata": {},
   "outputs": [
    {
     "name": "stdout",
     "output_type": "stream",
     "text": [
      "AnnData object with n_obs × n_vars = 65 × 8\n",
      "    obs: 'disease', 'donor_id', 'sex'\n",
      "    var: 'n_cells'\n"
     ]
    }
   ],
   "source": [
    "# Select control and salmonella data\n",
    "sccoda_data.mod[\"coda_sex\"] = sccoda_data[\"coda\"][\n",
    "    sccoda_data[\"coda\"].obs[\"sex\"].isin([\"male\", \"female\"])\n",
    "].copy()\n",
    "print(sccoda_data[\"coda_sex\"])"
   ]
  },
  {
   "cell_type": "code",
   "execution_count": 22,
   "id": "8b35e989-3459-4cb0-bc4e-6d42d82d82f6",
   "metadata": {},
   "outputs": [
    {
     "name": "stdout",
     "output_type": "stream",
     "text": [
      "\u001b[94m•\u001b[0m Automatic reference selection! Reference cell type set to T cell regulatory\n",
      "\u001b[94m•\u001b[0m Zero counts encountered in data! Added a pseudocount of 0.5.\n"
     ]
    },
    {
     "data": {
      "text/plain": [
       "AnnData object with n_obs × n_vars = 65 × 8\n",
       "    obs: 'disease', 'donor_id', 'sex'\n",
       "    var: 'n_cells'\n",
       "    uns: 'scCODA_params'\n",
       "    obsm: 'covariate_matrix', 'sample_counts'"
      ]
     },
     "execution_count": 22,
     "metadata": {},
     "output_type": "execute_result"
    }
   ],
   "source": [
    "sccoda_data = sccoda_model.prepare(\n",
    "    sccoda_data,\n",
    "    modality_key=\"coda_sex\",\n",
    "    formula=\"sex\",\n",
    "    reference_cell_type=\"automatic\",\n",
    ")\n",
    "sccoda_data[\"coda_sex\"]"
   ]
  },
  {
   "cell_type": "code",
   "execution_count": 24,
   "id": "6c8d1d9d-088d-4c3a-a67c-f518b558516a",
   "metadata": {},
   "outputs": [
    {
     "data": {
      "text/plain": [
       "AnnData object with n_obs × n_vars = 65 × 8\n",
       "    obs: 'disease', 'donor_id', 'sex'\n",
       "    var: 'n_cells'\n",
       "    uns: 'scCODA_params'\n",
       "    obsm: 'covariate_matrix', 'sample_counts'"
      ]
     },
     "execution_count": 24,
     "metadata": {},
     "output_type": "execute_result"
    }
   ],
   "source": [
    "sccoda_data[\"coda_sex\"]"
   ]
  },
  {
   "cell_type": "code",
   "execution_count": 28,
   "id": "e29d7a38-16b4-430e-96ea-2e5147756fdd",
   "metadata": {},
   "outputs": [
    {
     "data": {
      "image/png": "[encoded data removed]",
      "text/plain": [
       "<Figure size 640x480 with 1 Axes>"
      ]
     },
     "metadata": {},
     "output_type": "display_data"
    }
   ],
   "source": [
    "sccoda_model.plot_boxplots(sccoda_data, modality_key=\"coda_sex\", feature_name=\"sex\", add_dots=False)\n",
    "plt.show()"
   ]
  },
  {
   "cell_type": "code",
   "execution_count": 29,
   "id": "6cb08a2c-b101-406b-a28a-229dc007faad",
   "metadata": {},
   "outputs": [
    {
     "name": "stderr",
     "output_type": "stream",
     "text": [
      "An NVIDIA GPU may be present on this machine, but a CUDA-enabled jaxlib is not installed. Falling back to cpu.\n",
      "sample: 100%|██████████| 11000/11000 [01:30<00:00, 121.62it/s, 63 steps of size 5.97e-02. acc. prob=0.74]\n"
     ]
    },
    {
     "data": {
      "text/plain": [
       "AnnData object with n_obs × n_vars = 65 × 8\n",
       "    obs: 'disease', 'donor_id', 'sex'\n",
       "    var: 'n_cells'\n",
       "    uns: 'scCODA_params'\n",
       "    obsm: 'covariate_matrix', 'sample_counts'\n",
       "    varm: 'intercept_df', 'effect_df_sex[T.male]'"
      ]
     },
     "execution_count": 29,
     "metadata": {},
     "output_type": "execute_result"
    }
   ],
   "source": [
    "# Run MCMC\n",
    "sccoda_model.run_nuts(sccoda_data, modality_key=\"coda_sex\")\n",
    "sccoda_data[\"coda_sex\"]"
   ]
  },
  {
   "cell_type": "code",
   "execution_count": 30,
   "id": "be7f5ee0-4f17-4366-879d-76eee9de8255",
   "metadata": {},
   "outputs": [
    {
     "data": {
      "text/html": [
       "<pre style=\"white-space:pre;overflow-x:auto;line-height:normal;font-family:Menlo,'DejaVu Sans Mono',consolas,'Courier New',monospace\"><span style=\"font-style: italic\">                                          Compositional Analysis summary                                           </span>\n",
       "┌─────────────────────────────────────────────┬───────────────────────────────────────────────────────────────────┐\n",
       "│<span style=\"font-weight: bold\"> Name                                        </span>│<span style=\"font-weight: bold\"> Value                                                             </span>│\n",
       "├─────────────────────────────────────────────┼───────────────────────────────────────────────────────────────────┤\n",
       "│<span style=\"color: #008080; text-decoration-color: #008080\"> Data                                        </span>│ Data: <span style=\"color: #008080; text-decoration-color: #008080; font-weight: bold\">65</span> samples, <span style=\"color: #008080; text-decoration-color: #008080; font-weight: bold\">8</span> cell types                                    │\n",
       "│<span style=\"color: #008080; text-decoration-color: #008080\"> Reference cell type                         </span>│ T cell regulatory                                                 │\n",
       "│<span style=\"color: #008080; text-decoration-color: #008080\"> Formula                                     </span>│ sex                                                               │\n",
       "└─────────────────────────────────────────────┴───────────────────────────────────────────────────────────────────┘\n",
       "</pre>\n"
      ],
      "text/plain": [
       "\u001b[3m                                          Compositional Analysis summary                                           \u001b[0m\n",
       "┌─────────────────────────────────────────────┬───────────────────────────────────────────────────────────────────┐\n",
       "│\u001b[1m \u001b[0m\u001b[1mName                                       \u001b[0m\u001b[1m \u001b[0m│\u001b[1m \u001b[0m\u001b[1mValue                                                            \u001b[0m\u001b[1m \u001b[0m│\n",
       "├─────────────────────────────────────────────┼───────────────────────────────────────────────────────────────────┤\n",
       "│\u001b[36m \u001b[0m\u001b[36mData                                       \u001b[0m\u001b[36m \u001b[0m│ Data: \u001b[1;36m65\u001b[0m samples, \u001b[1;36m8\u001b[0m cell types                                    │\n",
       "│\u001b[36m \u001b[0m\u001b[36mReference cell type                        \u001b[0m\u001b[36m \u001b[0m│ T cell regulatory                                                 │\n",
       "│\u001b[36m \u001b[0m\u001b[36mFormula                                    \u001b[0m\u001b[36m \u001b[0m│ sex                                                               │\n",
       "└─────────────────────────────────────────────┴───────────────────────────────────────────────────────────────────┘\n"
      ]
     },
     "metadata": {},
     "output_type": "display_data"
    },
    {
     "data": {
      "text/html": [
       "<pre style=\"white-space:pre;overflow-x:auto;line-height:normal;font-family:Menlo,'DejaVu Sans Mono',consolas,'Courier New',monospace\">┌─────────────────────────────────────────────────────────────────────────────────────────────────────────────────┐\n",
       "│<span style=\"font-weight: bold\"> Intercepts                                                                                                      </span>│\n",
       "├─────────────────────────────────────────────────────────────────────────────────────────────────────────────────┤\n",
       "│                    Final Parameter  Expected Sample                                                             │\n",
       "│ Cell Type                                                                                                       │\n",
       "│ B cell                 <span style=\"color: #008080; text-decoration-color: #008080; font-weight: bold\">-0.615</span>           <span style=\"color: #008080; text-decoration-color: #008080; font-weight: bold\">352.237</span>                                                                 │\n",
       "│ DC mature              <span style=\"color: #008080; text-decoration-color: #008080; font-weight: bold\">-1.428</span>           <span style=\"color: #008080; text-decoration-color: #008080; font-weight: bold\">156.226</span>                                                                 │\n",
       "│ Macrophage              <span style=\"color: #008080; text-decoration-color: #008080; font-weight: bold\">0.363</span>           <span style=\"color: #008080; text-decoration-color: #008080; font-weight: bold\">936.645</span>                                                                 │\n",
       "│ Neutrophils            <span style=\"color: #008080; text-decoration-color: #008080; font-weight: bold\">-1.706</span>           <span style=\"color: #008080; text-decoration-color: #008080; font-weight: bold\">118.309</span>                                                                 │\n",
       "│ T cell CD4              <span style=\"color: #008080; text-decoration-color: #008080; font-weight: bold\">0.827</span>          <span style=\"color: #008080; text-decoration-color: #008080; font-weight: bold\">1489.661</span>                                                                 │\n",
       "│ T cell CD8              <span style=\"color: #008080; text-decoration-color: #008080; font-weight: bold\">0.651</span>          <span style=\"color: #008080; text-decoration-color: #008080; font-weight: bold\">1249.257</span>                                                                 │\n",
       "│ T cell regulatory      <span style=\"color: #008080; text-decoration-color: #008080; font-weight: bold\">-0.379</span>           <span style=\"color: #008080; text-decoration-color: #008080; font-weight: bold\">445.993</span>                                                                 │\n",
       "│ Tumor cells            <span style=\"color: #008080; text-decoration-color: #008080; font-weight: bold\">-0.896</span>           <span style=\"color: #008080; text-decoration-color: #008080; font-weight: bold\">265.949</span>                                                                 │\n",
       "└─────────────────────────────────────────────────────────────────────────────────────────────────────────────────┘\n",
       "</pre>\n"
      ],
      "text/plain": [
       "┌─────────────────────────────────────────────────────────────────────────────────────────────────────────────────┐\n",
       "│\u001b[1m \u001b[0m\u001b[1mIntercepts                                                                                                     \u001b[0m\u001b[1m \u001b[0m│\n",
       "├─────────────────────────────────────────────────────────────────────────────────────────────────────────────────┤\n",
       "│                    Final Parameter  Expected Sample                                                             │\n",
       "│ Cell Type                                                                                                       │\n",
       "│ B cell                 \u001b[1;36m-0.615\u001b[0m           \u001b[1;36m352.237\u001b[0m                                                                 │\n",
       "│ DC mature              \u001b[1;36m-1.428\u001b[0m           \u001b[1;36m156.226\u001b[0m                                                                 │\n",
       "│ Macrophage              \u001b[1;36m0.363\u001b[0m           \u001b[1;36m936.645\u001b[0m                                                                 │\n",
       "│ Neutrophils            \u001b[1;36m-1.706\u001b[0m           \u001b[1;36m118.309\u001b[0m                                                                 │\n",
       "│ T cell CD4              \u001b[1;36m0.827\u001b[0m          \u001b[1;36m1489.661\u001b[0m                                                                 │\n",
       "│ T cell CD8              \u001b[1;36m0.651\u001b[0m          \u001b[1;36m1249.257\u001b[0m                                                                 │\n",
       "│ T cell regulatory      \u001b[1;36m-0.379\u001b[0m           \u001b[1;36m445.993\u001b[0m                                                                 │\n",
       "│ Tumor cells            \u001b[1;36m-0.896\u001b[0m           \u001b[1;36m265.949\u001b[0m                                                                 │\n",
       "└─────────────────────────────────────────────────────────────────────────────────────────────────────────────────┘\n"
      ]
     },
     "metadata": {},
     "output_type": "display_data"
    },
    {
     "data": {
      "text/html": [
       "<pre style=\"white-space:pre;overflow-x:auto;line-height:normal;font-family:Menlo,'DejaVu Sans Mono',consolas,'Courier New',monospace\">┌─────────────────────────────────────────────────────────────────────────────────────────────────────────────────┐\n",
       "│<span style=\"font-weight: bold\"> Effects                                                                                                         </span>│\n",
       "├─────────────────────────────────────────────────────────────────────────────────────────────────────────────────┤\n",
       "│                              Final Parameter  Expected Sample  log2-fold change                                 │\n",
       "│ Covariate Cell Type                                                                                             │\n",
       "│ sexT.male B cell                 <span style=\"color: #008080; text-decoration-color: #008080; font-weight: bold\">0.000</span>            <span style=\"color: #008080; text-decoration-color: #008080; font-weight: bold\">352.237</span>           <span style=\"color: #008080; text-decoration-color: #008080; font-weight: bold\">0.000</span>                                       │\n",
       "│           DC mature              <span style=\"color: #008080; text-decoration-color: #008080; font-weight: bold\">0.000</span>            <span style=\"color: #008080; text-decoration-color: #008080; font-weight: bold\">156.226</span>           <span style=\"color: #008080; text-decoration-color: #008080; font-weight: bold\">0.000</span>                                       │\n",
       "│           Macrophage             <span style=\"color: #008080; text-decoration-color: #008080; font-weight: bold\">0.000</span>            <span style=\"color: #008080; text-decoration-color: #008080; font-weight: bold\">936.645</span>           <span style=\"color: #008080; text-decoration-color: #008080; font-weight: bold\">0.000</span>                                       │\n",
       "│           Neutrophils            <span style=\"color: #008080; text-decoration-color: #008080; font-weight: bold\">0.000</span>            <span style=\"color: #008080; text-decoration-color: #008080; font-weight: bold\">118.309</span>           <span style=\"color: #008080; text-decoration-color: #008080; font-weight: bold\">0.000</span>                                       │\n",
       "│           T cell CD4             <span style=\"color: #008080; text-decoration-color: #008080; font-weight: bold\">0.000</span>           <span style=\"color: #008080; text-decoration-color: #008080; font-weight: bold\">1489.661</span>           <span style=\"color: #008080; text-decoration-color: #008080; font-weight: bold\">0.000</span>                                       │\n",
       "│           T cell CD8             <span style=\"color: #008080; text-decoration-color: #008080; font-weight: bold\">0.000</span>           <span style=\"color: #008080; text-decoration-color: #008080; font-weight: bold\">1249.257</span>           <span style=\"color: #008080; text-decoration-color: #008080; font-weight: bold\">0.000</span>                                       │\n",
       "│           T cell regulatory      <span style=\"color: #008080; text-decoration-color: #008080; font-weight: bold\">0.000</span>            <span style=\"color: #008080; text-decoration-color: #008080; font-weight: bold\">445.993</span>           <span style=\"color: #008080; text-decoration-color: #008080; font-weight: bold\">0.000</span>                                       │\n",
       "│           Tumor cells            <span style=\"color: #008080; text-decoration-color: #008080; font-weight: bold\">0.000</span>            <span style=\"color: #008080; text-decoration-color: #008080; font-weight: bold\">265.949</span>           <span style=\"color: #008080; text-decoration-color: #008080; font-weight: bold\">0.000</span>                                       │\n",
       "└─────────────────────────────────────────────────────────────────────────────────────────────────────────────────┘\n",
       "</pre>\n"
      ],
      "text/plain": [
       "┌─────────────────────────────────────────────────────────────────────────────────────────────────────────────────┐\n",
       "│\u001b[1m \u001b[0m\u001b[1mEffects                                                                                                        \u001b[0m\u001b[1m \u001b[0m│\n",
       "├─────────────────────────────────────────────────────────────────────────────────────────────────────────────────┤\n",
       "│                              Final Parameter  Expected Sample  log2-fold change                                 │\n",
       "│ Covariate Cell Type                                                                                             │\n",
       "│ sexT.male B cell                 \u001b[1;36m0.000\u001b[0m            \u001b[1;36m352.237\u001b[0m           \u001b[1;36m0.000\u001b[0m                                       │\n",
       "│           DC mature              \u001b[1;36m0.000\u001b[0m            \u001b[1;36m156.226\u001b[0m           \u001b[1;36m0.000\u001b[0m                                       │\n",
       "│           Macrophage             \u001b[1;36m0.000\u001b[0m            \u001b[1;36m936.645\u001b[0m           \u001b[1;36m0.000\u001b[0m                                       │\n",
       "│           Neutrophils            \u001b[1;36m0.000\u001b[0m            \u001b[1;36m118.309\u001b[0m           \u001b[1;36m0.000\u001b[0m                                       │\n",
       "│           T cell CD4             \u001b[1;36m0.000\u001b[0m           \u001b[1;36m1489.661\u001b[0m           \u001b[1;36m0.000\u001b[0m                                       │\n",
       "│           T cell CD8             \u001b[1;36m0.000\u001b[0m           \u001b[1;36m1249.257\u001b[0m           \u001b[1;36m0.000\u001b[0m                                       │\n",
       "│           T cell regulatory      \u001b[1;36m0.000\u001b[0m            \u001b[1;36m445.993\u001b[0m           \u001b[1;36m0.000\u001b[0m                                       │\n",
       "│           Tumor cells            \u001b[1;36m0.000\u001b[0m            \u001b[1;36m265.949\u001b[0m           \u001b[1;36m0.000\u001b[0m                                       │\n",
       "└─────────────────────────────────────────────────────────────────────────────────────────────────────────────────┘\n"
      ]
     },
     "metadata": {},
     "output_type": "display_data"
    }
   ],
   "source": [
    "sccoda_model.summary(sccoda_data, modality_key=\"coda_sex\")"
   ]
  },
  {
   "cell_type": "code",
   "execution_count": 31,
   "id": "56ea28c1-16b8-4961-a2ea-d5d73a456557",
   "metadata": {},
   "outputs": [
    {
     "data": {
      "text/plain": [
       "Covariate    Cell Type        \n",
       "sex[T.male]  B cell               False\n",
       "             DC mature            False\n",
       "             Macrophage           False\n",
       "             Neutrophils          False\n",
       "             T cell CD4           False\n",
       "             T cell CD8           False\n",
       "             T cell regulatory    False\n",
       "             Tumor cells          False\n",
       "Name: Final Parameter, dtype: bool"
      ]
     },
     "execution_count": 31,
     "metadata": {},
     "output_type": "execute_result"
    }
   ],
   "source": [
    "sccoda_model.credible_effects(sccoda_data, modality_key=\"coda_sex\")"
   ]
  },
  {
   "cell_type": "code",
   "execution_count": 33,
   "id": "53d55653-9701-45ad-8b8e-e44ddfec2305",
   "metadata": {},
   "outputs": [],
   "source": [
    "#sccoda_model.plot_effects_barplot(sccoda_data, modality_key=\"coda_sex\", parameter=\"Final Parameter\")"
   ]
  },
  {
   "cell_type": "code",
   "execution_count": 34,
   "id": "dac29ca9-4c85-4904-947e-21eba916f917",
   "metadata": {},
   "outputs": [
    {
     "data": {
      "text/html": [
       "<pre style=\"white-space:pre;overflow-x:auto;line-height:normal;font-family:Menlo,'DejaVu Sans Mono',consolas,'Courier New',monospace\"><span style=\"font-style: italic\">                                          Compositional Analysis summary                                           </span>\n",
       "┌─────────────────────────────────────────────┬───────────────────────────────────────────────────────────────────┐\n",
       "│<span style=\"font-weight: bold\"> Name                                        </span>│<span style=\"font-weight: bold\"> Value                                                             </span>│\n",
       "├─────────────────────────────────────────────┼───────────────────────────────────────────────────────────────────┤\n",
       "│<span style=\"color: #008080; text-decoration-color: #008080\"> Data                                        </span>│ Data: <span style=\"color: #008080; text-decoration-color: #008080; font-weight: bold\">65</span> samples, <span style=\"color: #008080; text-decoration-color: #008080; font-weight: bold\">8</span> cell types                                    │\n",
       "│<span style=\"color: #008080; text-decoration-color: #008080\"> Reference cell type                         </span>│ T cell regulatory                                                 │\n",
       "│<span style=\"color: #008080; text-decoration-color: #008080\"> Formula                                     </span>│ sex                                                               │\n",
       "└─────────────────────────────────────────────┴───────────────────────────────────────────────────────────────────┘\n",
       "</pre>\n"
      ],
      "text/plain": [
       "\u001b[3m                                          Compositional Analysis summary                                           \u001b[0m\n",
       "┌─────────────────────────────────────────────┬───────────────────────────────────────────────────────────────────┐\n",
       "│\u001b[1m \u001b[0m\u001b[1mName                                       \u001b[0m\u001b[1m \u001b[0m│\u001b[1m \u001b[0m\u001b[1mValue                                                            \u001b[0m\u001b[1m \u001b[0m│\n",
       "├─────────────────────────────────────────────┼───────────────────────────────────────────────────────────────────┤\n",
       "│\u001b[36m \u001b[0m\u001b[36mData                                       \u001b[0m\u001b[36m \u001b[0m│ Data: \u001b[1;36m65\u001b[0m samples, \u001b[1;36m8\u001b[0m cell types                                    │\n",
       "│\u001b[36m \u001b[0m\u001b[36mReference cell type                        \u001b[0m\u001b[36m \u001b[0m│ T cell regulatory                                                 │\n",
       "│\u001b[36m \u001b[0m\u001b[36mFormula                                    \u001b[0m\u001b[36m \u001b[0m│ sex                                                               │\n",
       "└─────────────────────────────────────────────┴───────────────────────────────────────────────────────────────────┘\n"
      ]
     },
     "metadata": {},
     "output_type": "display_data"
    },
    {
     "data": {
      "text/html": [
       "<pre style=\"white-space:pre;overflow-x:auto;line-height:normal;font-family:Menlo,'DejaVu Sans Mono',consolas,'Courier New',monospace\">┌─────────────────────────────────────────────────────────────────────────────────────────────────────────────────┐\n",
       "│<span style=\"font-weight: bold\"> Intercepts                                                                                                      </span>│\n",
       "├─────────────────────────────────────────────────────────────────────────────────────────────────────────────────┤\n",
       "│                    Final Parameter  Expected Sample                                                             │\n",
       "│ Cell Type                                                                                                       │\n",
       "│ B cell                 <span style=\"color: #008080; text-decoration-color: #008080; font-weight: bold\">-0.615</span>           <span style=\"color: #008080; text-decoration-color: #008080; font-weight: bold\">352.237</span>                                                                 │\n",
       "│ DC mature              <span style=\"color: #008080; text-decoration-color: #008080; font-weight: bold\">-1.428</span>           <span style=\"color: #008080; text-decoration-color: #008080; font-weight: bold\">156.226</span>                                                                 │\n",
       "│ Macrophage              <span style=\"color: #008080; text-decoration-color: #008080; font-weight: bold\">0.363</span>           <span style=\"color: #008080; text-decoration-color: #008080; font-weight: bold\">936.645</span>                                                                 │\n",
       "│ Neutrophils            <span style=\"color: #008080; text-decoration-color: #008080; font-weight: bold\">-1.706</span>           <span style=\"color: #008080; text-decoration-color: #008080; font-weight: bold\">118.309</span>                                                                 │\n",
       "│ T cell CD4              <span style=\"color: #008080; text-decoration-color: #008080; font-weight: bold\">0.827</span>          <span style=\"color: #008080; text-decoration-color: #008080; font-weight: bold\">1489.661</span>                                                                 │\n",
       "│ T cell CD8              <span style=\"color: #008080; text-decoration-color: #008080; font-weight: bold\">0.651</span>          <span style=\"color: #008080; text-decoration-color: #008080; font-weight: bold\">1249.257</span>                                                                 │\n",
       "│ T cell regulatory      <span style=\"color: #008080; text-decoration-color: #008080; font-weight: bold\">-0.379</span>           <span style=\"color: #008080; text-decoration-color: #008080; font-weight: bold\">445.993</span>                                                                 │\n",
       "│ Tumor cells            <span style=\"color: #008080; text-decoration-color: #008080; font-weight: bold\">-0.896</span>           <span style=\"color: #008080; text-decoration-color: #008080; font-weight: bold\">265.949</span>                                                                 │\n",
       "└─────────────────────────────────────────────────────────────────────────────────────────────────────────────────┘\n",
       "</pre>\n"
      ],
      "text/plain": [
       "┌─────────────────────────────────────────────────────────────────────────────────────────────────────────────────┐\n",
       "│\u001b[1m \u001b[0m\u001b[1mIntercepts                                                                                                     \u001b[0m\u001b[1m \u001b[0m│\n",
       "├─────────────────────────────────────────────────────────────────────────────────────────────────────────────────┤\n",
       "│                    Final Parameter  Expected Sample                                                             │\n",
       "│ Cell Type                                                                                                       │\n",
       "│ B cell                 \u001b[1;36m-0.615\u001b[0m           \u001b[1;36m352.237\u001b[0m                                                                 │\n",
       "│ DC mature              \u001b[1;36m-1.428\u001b[0m           \u001b[1;36m156.226\u001b[0m                                                                 │\n",
       "│ Macrophage              \u001b[1;36m0.363\u001b[0m           \u001b[1;36m936.645\u001b[0m                                                                 │\n",
       "│ Neutrophils            \u001b[1;36m-1.706\u001b[0m           \u001b[1;36m118.309\u001b[0m                                                                 │\n",
       "│ T cell CD4              \u001b[1;36m0.827\u001b[0m          \u001b[1;36m1489.661\u001b[0m                                                                 │\n",
       "│ T cell CD8              \u001b[1;36m0.651\u001b[0m          \u001b[1;36m1249.257\u001b[0m                                                                 │\n",
       "│ T cell regulatory      \u001b[1;36m-0.379\u001b[0m           \u001b[1;36m445.993\u001b[0m                                                                 │\n",
       "│ Tumor cells            \u001b[1;36m-0.896\u001b[0m           \u001b[1;36m265.949\u001b[0m                                                                 │\n",
       "└─────────────────────────────────────────────────────────────────────────────────────────────────────────────────┘\n"
      ]
     },
     "metadata": {},
     "output_type": "display_data"
    },
    {
     "data": {
      "text/html": [
       "<pre style=\"white-space:pre;overflow-x:auto;line-height:normal;font-family:Menlo,'DejaVu Sans Mono',consolas,'Courier New',monospace\">┌─────────────────────────────────────────────────────────────────────────────────────────────────────────────────┐\n",
       "│<span style=\"font-weight: bold\"> Effects                                                                                                         </span>│\n",
       "├─────────────────────────────────────────────────────────────────────────────────────────────────────────────────┤\n",
       "│                              Final Parameter  Expected Sample  log2-fold change                                 │\n",
       "│ Covariate Cell Type                                                                                             │\n",
       "│ sexT.male B cell                 <span style=\"color: #008080; text-decoration-color: #008080; font-weight: bold\">0.000</span>            <span style=\"color: #008080; text-decoration-color: #008080; font-weight: bold\">333.323</span>           <span style=\"color: #008080; text-decoration-color: #008080; font-weight: bold\">-0.080</span>                                      │\n",
       "│           DC mature              <span style=\"color: #008080; text-decoration-color: #008080; font-weight: bold\">0.000</span>            <span style=\"color: #008080; text-decoration-color: #008080; font-weight: bold\">147.837</span>           <span style=\"color: #008080; text-decoration-color: #008080; font-weight: bold\">-0.080</span>                                      │\n",
       "│           Macrophage             <span style=\"color: #008080; text-decoration-color: #008080; font-weight: bold\">0.000</span>            <span style=\"color: #008080; text-decoration-color: #008080; font-weight: bold\">886.350</span>           <span style=\"color: #008080; text-decoration-color: #008080; font-weight: bold\">-0.080</span>                                      │\n",
       "│           Neutrophils            <span style=\"color: #008080; text-decoration-color: #008080; font-weight: bold\">0.000</span>            <span style=\"color: #008080; text-decoration-color: #008080; font-weight: bold\">111.957</span>           <span style=\"color: #008080; text-decoration-color: #008080; font-weight: bold\">-0.080</span>                                      │\n",
       "│           T cell CD4             <span style=\"color: #008080; text-decoration-color: #008080; font-weight: bold\">0.000</span>           <span style=\"color: #008080; text-decoration-color: #008080; font-weight: bold\">1409.671</span>           <span style=\"color: #008080; text-decoration-color: #008080; font-weight: bold\">-0.080</span>                                      │\n",
       "│           T cell CD8             <span style=\"color: #008080; text-decoration-color: #008080; font-weight: bold\">0.205</span>           <span style=\"color: #008080; text-decoration-color: #008080; font-weight: bold\">1451.426</span>            <span style=\"color: #008080; text-decoration-color: #008080; font-weight: bold\">0.216</span>                                      │\n",
       "│           T cell regulatory      <span style=\"color: #008080; text-decoration-color: #008080; font-weight: bold\">0.000</span>            <span style=\"color: #008080; text-decoration-color: #008080; font-weight: bold\">422.045</span>           <span style=\"color: #008080; text-decoration-color: #008080; font-weight: bold\">-0.080</span>                                      │\n",
       "│           Tumor cells            <span style=\"color: #008080; text-decoration-color: #008080; font-weight: bold\">0.000</span>            <span style=\"color: #008080; text-decoration-color: #008080; font-weight: bold\">251.668</span>           <span style=\"color: #008080; text-decoration-color: #008080; font-weight: bold\">-0.080</span>                                      │\n",
       "└─────────────────────────────────────────────────────────────────────────────────────────────────────────────────┘\n",
       "</pre>\n"
      ],
      "text/plain": [
       "┌─────────────────────────────────────────────────────────────────────────────────────────────────────────────────┐\n",
       "│\u001b[1m \u001b[0m\u001b[1mEffects                                                                                                        \u001b[0m\u001b[1m \u001b[0m│\n",
       "├─────────────────────────────────────────────────────────────────────────────────────────────────────────────────┤\n",
       "│                              Final Parameter  Expected Sample  log2-fold change                                 │\n",
       "│ Covariate Cell Type                                                                                             │\n",
       "│ sexT.male B cell                 \u001b[1;36m0.000\u001b[0m            \u001b[1;36m333.323\u001b[0m           \u001b[1;36m-0.080\u001b[0m                                      │\n",
       "│           DC mature              \u001b[1;36m0.000\u001b[0m            \u001b[1;36m147.837\u001b[0m           \u001b[1;36m-0.080\u001b[0m                                      │\n",
       "│           Macrophage             \u001b[1;36m0.000\u001b[0m            \u001b[1;36m886.350\u001b[0m           \u001b[1;36m-0.080\u001b[0m                                      │\n",
       "│           Neutrophils            \u001b[1;36m0.000\u001b[0m            \u001b[1;36m111.957\u001b[0m           \u001b[1;36m-0.080\u001b[0m                                      │\n",
       "│           T cell CD4             \u001b[1;36m0.000\u001b[0m           \u001b[1;36m1409.671\u001b[0m           \u001b[1;36m-0.080\u001b[0m                                      │\n",
       "│           T cell CD8             \u001b[1;36m0.205\u001b[0m           \u001b[1;36m1451.426\u001b[0m            \u001b[1;36m0.216\u001b[0m                                      │\n",
       "│           T cell regulatory      \u001b[1;36m0.000\u001b[0m            \u001b[1;36m422.045\u001b[0m           \u001b[1;36m-0.080\u001b[0m                                      │\n",
       "│           Tumor cells            \u001b[1;36m0.000\u001b[0m            \u001b[1;36m251.668\u001b[0m           \u001b[1;36m-0.080\u001b[0m                                      │\n",
       "└─────────────────────────────────────────────────────────────────────────────────────────────────────────────────┘\n"
      ]
     },
     "metadata": {},
     "output_type": "display_data"
    }
   ],
   "source": [
    "sccoda_model.set_fdr(sccoda_data, modality_key=\"coda_sex\", est_fdr=0.4)\n",
    "sccoda_model.summary(sccoda_data, modality_key=\"coda_sex\")"
   ]
  },
  {
   "cell_type": "code",
   "execution_count": 40,
   "id": "29622006-21bf-4cb0-9d00-879750e00480",
   "metadata": {},
   "outputs": [
    {
     "data": {
      "text/html": [
       "<pre>MuData object with n_obs × n_vars = 325951 × 17819\n",
       "  3 modalities\n",
       "    rna:\t325886 x 17811\n",
       "      obs:\t&#x27;sample&#x27;, &#x27;uicc_stage&#x27;, &#x27;ever_smoker&#x27;, &#x27;age&#x27;, &#x27;donor_id&#x27;, &#x27;origin&#x27;, &#x27;dataset&#x27;, &#x27;ann_fine&#x27;, &#x27;cell_type_predicted&#x27;, &#x27;doublet_status&#x27;, &#x27;leiden&#x27;, &#x27;n_genes_by_counts&#x27;, &#x27;total_counts&#x27;, &#x27;total_counts_mito&#x27;, &#x27;pct_counts_mito&#x27;, &#x27;ann_coarse&#x27;, &#x27;cell_type_tumor&#x27;, &#x27;tumor_stage&#x27;, &#x27;EGFR_mutation&#x27;, &#x27;TP53_mutation&#x27;, &#x27;ALK_mutation&#x27;, &#x27;BRAF_mutation&#x27;, &#x27;ERBB2_mutation&#x27;, &#x27;KRAS_mutation&#x27;, &#x27;ROS_mutation&#x27;, &#x27;origin_fine&#x27;, &#x27;study&#x27;, &#x27;platform&#x27;, &#x27;cell_type_major&#x27;, &#x27;cell_type_neutro&#x27;, &#x27;cell_type_neutro_coarse&#x27;, &#x27;suspension_type&#x27;, &#x27;assay_ontology_term_id&#x27;, &#x27;cell_type_ontology_term_id&#x27;, &#x27;development_stage_ontology_term_id&#x27;, &#x27;disease_ontology_term_id&#x27;, &#x27;self_reported_ethnicity_ontology_term_id&#x27;, &#x27;is_primary_data&#x27;, &#x27;organism_ontology_term_id&#x27;, &#x27;sex_ontology_term_id&#x27;, &#x27;tissue_ontology_term_id&#x27;, &#x27;cell_type&#x27;, &#x27;assay&#x27;, &#x27;disease&#x27;, &#x27;organism&#x27;, &#x27;sex&#x27;, &#x27;tissue&#x27;, &#x27;self_reported_ethnicity&#x27;, &#x27;development_stage&#x27;, &#x27;scCODA_sample_id&#x27;\n",
       "      var:\t&#x27;is_highly_variable&#x27;, &#x27;mito&#x27;, &#x27;n_cells_by_counts&#x27;, &#x27;mean_counts&#x27;, &#x27;pct_dropout_by_counts&#x27;, &#x27;total_counts&#x27;, &#x27;feature_is_filtered&#x27;, &#x27;feature_name&#x27;, &#x27;feature_reference&#x27;, &#x27;feature_biotype&#x27;\n",
       "      uns:\t&#x27;_scvi&#x27;, &#x27;ann_fine_colors&#x27;, &#x27;batch_condition&#x27;, &#x27;cell_type_tumor_colors&#x27;, &#x27;dataset_colors&#x27;, &#x27;default_embedding&#x27;, &#x27;hvg&#x27;, &#x27;log1p&#x27;, &#x27;neighbors&#x27;, &#x27;origin_colors&#x27;, &#x27;platform_colors&#x27;, &#x27;schema_version&#x27;, &#x27;sex_colors&#x27;, &#x27;title&#x27;, &#x27;umap&#x27;\n",
       "      obsm:\t&#x27;X_scANVI&#x27;, &#x27;X_scVI&#x27;, &#x27;X_umap&#x27;\n",
       "      layers:\t&#x27;count&#x27;, &#x27;counts_length_scaled&#x27;, &#x27;log1p_norm&#x27;\n",
       "      obsp:\t&#x27;connectivities&#x27;, &#x27;distances&#x27;\n",
       "    coda:\t65 x 8\n",
       "      obs:\t&#x27;disease&#x27;, &#x27;donor_id&#x27;, &#x27;sex&#x27;\n",
       "      var:\t&#x27;n_cells&#x27;\n",
       "    coda_sex:\t65 x 8\n",
       "      obs:\t&#x27;disease&#x27;, &#x27;donor_id&#x27;, &#x27;sex&#x27;\n",
       "      var:\t&#x27;n_cells&#x27;\n",
       "      uns:\t&#x27;scCODA_params&#x27;\n",
       "      obsm:\t&#x27;covariate_matrix&#x27;, &#x27;sample_counts&#x27;\n",
       "      varm:\t&#x27;intercept_df&#x27;, &#x27;effect_df_sex[T.male]&#x27;</pre>"
      ],
      "text/plain": [
       "MuData object with n_obs × n_vars = 325951 × 17819\n",
       "  3 modalities\n",
       "    rna:\t325886 x 17811\n",
       "      obs:\t'sample', 'uicc_stage', 'ever_smoker', 'age', 'donor_id', 'origin', 'dataset', 'ann_fine', 'cell_type_predicted', 'doublet_status', 'leiden', 'n_genes_by_counts', 'total_counts', 'total_counts_mito', 'pct_counts_mito', 'ann_coarse', 'cell_type_tumor', 'tumor_stage', 'EGFR_mutation', 'TP53_mutation', 'ALK_mutation', 'BRAF_mutation', 'ERBB2_mutation', 'KRAS_mutation', 'ROS_mutation', 'origin_fine', 'study', 'platform', 'cell_type_major', 'cell_type_neutro', 'cell_type_neutro_coarse', 'suspension_type', 'assay_ontology_term_id', 'cell_type_ontology_term_id', 'development_stage_ontology_term_id', 'disease_ontology_term_id', 'self_reported_ethnicity_ontology_term_id', 'is_primary_data', 'organism_ontology_term_id', 'sex_ontology_term_id', 'tissue_ontology_term_id', 'cell_type', 'assay', 'disease', 'organism', 'sex', 'tissue', 'self_reported_ethnicity', 'development_stage', 'scCODA_sample_id'\n",
       "      var:\t'is_highly_variable', 'mito', 'n_cells_by_counts', 'mean_counts', 'pct_dropout_by_counts', 'total_counts', 'feature_is_filtered', 'feature_name', 'feature_reference', 'feature_biotype'\n",
       "      uns:\t'_scvi', 'ann_fine_colors', 'batch_condition', 'cell_type_tumor_colors', 'dataset_colors', 'default_embedding', 'hvg', 'log1p', 'neighbors', 'origin_colors', 'platform_colors', 'schema_version', 'sex_colors', 'title', 'umap'\n",
       "      obsm:\t'X_scANVI', 'X_scVI', 'X_umap'\n",
       "      layers:\t'count', 'counts_length_scaled', 'log1p_norm'\n",
       "      obsp:\t'connectivities', 'distances'\n",
       "    coda:\t65 x 8\n",
       "      obs:\t'disease', 'donor_id', 'sex'\n",
       "      var:\t'n_cells'\n",
       "    coda_sex:\t65 x 8\n",
       "      obs:\t'disease', 'donor_id', 'sex'\n",
       "      var:\t'n_cells'\n",
       "      uns:\t'scCODA_params'\n",
       "      obsm:\t'covariate_matrix', 'sample_counts'\n",
       "      varm:\t'intercept_df', 'effect_df_sex[T.male]'"
      ]
     },
     "execution_count": 40,
     "metadata": {},
     "output_type": "execute_result"
    }
   ],
   "source": [
    "sccoda_data"
   ]
  },
  {
   "cell_type": "code",
   "execution_count": 41,
   "id": "aac8ff2f-805f-476f-b89d-a459144b653e",
   "metadata": {},
   "outputs": [],
   "source": [
    "#path = \"./sccoda_model/sccoda_model\"\n",
    "#sccoda_data.write_h5mu(path)\n",
    "\n",
    "#sccoda_data_2 = mu.read_h5mu(path)\n",
    "\n",
    "#sccoda_model.summary(sccoda_data_2, modality_key=\"coda_sex\")"
   ]
  },
  {
   "cell_type": "code",
   "execution_count": 42,
   "id": "7f24e657-dccf-4ed8-a591-e9f037ec109a",
   "metadata": {},
   "outputs": [],
   "source": [
    "test_model = pt.tl.Sccoda()"
   ]
  },
  {
   "cell_type": "code",
   "execution_count": 44,
   "id": "ad156a27-b26a-483c-a4b3-e6774d06c04d",
   "metadata": {},
   "outputs": [
    {
     "data": {
      "text/html": [
       "<div>\n",
       "<style scoped>\n",
       "    .dataframe tbody tr th:only-of-type {\n",
       "        vertical-align: middle;\n",
       "    }\n",
       "\n",
       "    .dataframe tbody tr th {\n",
       "        vertical-align: top;\n",
       "    }\n",
       "\n",
       "    .dataframe thead th {\n",
       "        text-align: right;\n",
       "    }\n",
       "</style>\n",
       "<table border=\"1\" class=\"dataframe\">\n",
       "  <thead>\n",
       "    <tr style=\"text-align: right;\">\n",
       "      <th></th>\n",
       "      <th>Final Parameter</th>\n",
       "      <th>HDI 3%</th>\n",
       "      <th>HDI 97%</th>\n",
       "      <th>SD</th>\n",
       "      <th>Expected Sample</th>\n",
       "    </tr>\n",
       "    <tr>\n",
       "      <th>Cell Type</th>\n",
       "      <th></th>\n",
       "      <th></th>\n",
       "      <th></th>\n",
       "      <th></th>\n",
       "      <th></th>\n",
       "    </tr>\n",
       "  </thead>\n",
       "  <tbody>\n",
       "    <tr>\n",
       "      <th>B cell</th>\n",
       "      <td>-0.615</td>\n",
       "      <td>-0.860</td>\n",
       "      <td>-0.369</td>\n",
       "      <td>0.131</td>\n",
       "      <td>352.236893</td>\n",
       "    </tr>\n",
       "    <tr>\n",
       "      <th>DC mature</th>\n",
       "      <td>-1.428</td>\n",
       "      <td>-1.690</td>\n",
       "      <td>-1.189</td>\n",
       "      <td>0.133</td>\n",
       "      <td>156.226041</td>\n",
       "    </tr>\n",
       "    <tr>\n",
       "      <th>Macrophage</th>\n",
       "      <td>0.363</td>\n",
       "      <td>0.116</td>\n",
       "      <td>0.584</td>\n",
       "      <td>0.126</td>\n",
       "      <td>936.644625</td>\n",
       "    </tr>\n",
       "    <tr>\n",
       "      <th>Neutrophils</th>\n",
       "      <td>-1.706</td>\n",
       "      <td>-1.960</td>\n",
       "      <td>-1.446</td>\n",
       "      <td>0.137</td>\n",
       "      <td>118.309485</td>\n",
       "    </tr>\n",
       "    <tr>\n",
       "      <th>T cell CD4</th>\n",
       "      <td>0.827</td>\n",
       "      <td>0.615</td>\n",
       "      <td>1.034</td>\n",
       "      <td>0.113</td>\n",
       "      <td>1489.661127</td>\n",
       "    </tr>\n",
       "    <tr>\n",
       "      <th>T cell CD8</th>\n",
       "      <td>0.651</td>\n",
       "      <td>0.406</td>\n",
       "      <td>0.872</td>\n",
       "      <td>0.126</td>\n",
       "      <td>1249.256610</td>\n",
       "    </tr>\n",
       "    <tr>\n",
       "      <th>T cell regulatory</th>\n",
       "      <td>-0.379</td>\n",
       "      <td>-0.600</td>\n",
       "      <td>-0.165</td>\n",
       "      <td>0.116</td>\n",
       "      <td>445.993305</td>\n",
       "    </tr>\n",
       "    <tr>\n",
       "      <th>Tumor cells</th>\n",
       "      <td>-0.896</td>\n",
       "      <td>-1.140</td>\n",
       "      <td>-0.642</td>\n",
       "      <td>0.132</td>\n",
       "      <td>265.948835</td>\n",
       "    </tr>\n",
       "  </tbody>\n",
       "</table>\n",
       "</div>"
      ],
      "text/plain": [
       "                   Final Parameter  HDI 3%  HDI 97%     SD  Expected Sample\n",
       "Cell Type                                                                  \n",
       "B cell                      -0.615  -0.860   -0.369  0.131       352.236893\n",
       "DC mature                   -1.428  -1.690   -1.189  0.133       156.226041\n",
       "Macrophage                   0.363   0.116    0.584  0.126       936.644625\n",
       "Neutrophils                 -1.706  -1.960   -1.446  0.137       118.309485\n",
       "T cell CD4                   0.827   0.615    1.034  0.113      1489.661127\n",
       "T cell CD8                   0.651   0.406    0.872  0.126      1249.256610\n",
       "T cell regulatory           -0.379  -0.600   -0.165  0.116       445.993305\n",
       "Tumor cells                 -0.896  -1.140   -0.642  0.132       265.948835"
      ]
     },
     "execution_count": 44,
     "metadata": {},
     "output_type": "execute_result"
    }
   ],
   "source": [
    "test_model.get_intercept_df(sccoda_data, modality_key=\"coda_sex\")"
   ]
  },
  {
   "cell_type": "code",
   "execution_count": 45,
   "id": "cc1f3e12-e66c-47f4-8963-fdb3a2b1b604",
   "metadata": {},
   "outputs": [
    {
     "data": {
      "text/html": [
       "<div>\n",
       "<style scoped>\n",
       "    .dataframe tbody tr th:only-of-type {\n",
       "        vertical-align: middle;\n",
       "    }\n",
       "\n",
       "    .dataframe tbody tr th {\n",
       "        vertical-align: top;\n",
       "    }\n",
       "\n",
       "    .dataframe thead th {\n",
       "        text-align: right;\n",
       "    }\n",
       "</style>\n",
       "<table border=\"1\" class=\"dataframe\">\n",
       "  <thead>\n",
       "    <tr style=\"text-align: right;\">\n",
       "      <th></th>\n",
       "      <th></th>\n",
       "      <th>Final Parameter</th>\n",
       "      <th>HDI 3%</th>\n",
       "      <th>HDI 97%</th>\n",
       "      <th>SD</th>\n",
       "      <th>Inclusion probability</th>\n",
       "      <th>Expected Sample</th>\n",
       "      <th>log2-fold change</th>\n",
       "    </tr>\n",
       "    <tr>\n",
       "      <th>Covariate</th>\n",
       "      <th>Cell Type</th>\n",
       "      <th></th>\n",
       "      <th></th>\n",
       "      <th></th>\n",
       "      <th></th>\n",
       "      <th></th>\n",
       "      <th></th>\n",
       "      <th></th>\n",
       "    </tr>\n",
       "  </thead>\n",
       "  <tbody>\n",
       "    <tr>\n",
       "      <th rowspan=\"8\" valign=\"top\">sexT.male</th>\n",
       "      <th>B cell</th>\n",
       "      <td>0.00000</td>\n",
       "      <td>-0.237</td>\n",
       "      <td>0.352</td>\n",
       "      <td>0.105</td>\n",
       "      <td>0.4553</td>\n",
       "      <td>333.322906</td>\n",
       "      <td>-0.079626</td>\n",
       "    </tr>\n",
       "    <tr>\n",
       "      <th>DC mature</th>\n",
       "      <td>0.00000</td>\n",
       "      <td>-0.238</td>\n",
       "      <td>0.338</td>\n",
       "      <td>0.097</td>\n",
       "      <td>0.4416</td>\n",
       "      <td>147.837206</td>\n",
       "      <td>-0.079626</td>\n",
       "    </tr>\n",
       "    <tr>\n",
       "      <th>Macrophage</th>\n",
       "      <td>0.00000</td>\n",
       "      <td>-0.173</td>\n",
       "      <td>0.427</td>\n",
       "      <td>0.124</td>\n",
       "      <td>0.4749</td>\n",
       "      <td>886.349824</td>\n",
       "      <td>-0.079626</td>\n",
       "    </tr>\n",
       "    <tr>\n",
       "      <th>Neutrophils</th>\n",
       "      <td>0.00000</td>\n",
       "      <td>-0.371</td>\n",
       "      <td>0.221</td>\n",
       "      <td>0.107</td>\n",
       "      <td>0.4562</td>\n",
       "      <td>111.956646</td>\n",
       "      <td>-0.079626</td>\n",
       "    </tr>\n",
       "    <tr>\n",
       "      <th>T cell CD4</th>\n",
       "      <td>0.00000</td>\n",
       "      <td>-0.125</td>\n",
       "      <td>0.417</td>\n",
       "      <td>0.120</td>\n",
       "      <td>0.4928</td>\n",
       "      <td>1409.671121</td>\n",
       "      <td>-0.079626</td>\n",
       "    </tr>\n",
       "    <tr>\n",
       "      <th>T cell CD8</th>\n",
       "      <td>0.20519</td>\n",
       "      <td>-0.067</td>\n",
       "      <td>0.543</td>\n",
       "      <td>0.179</td>\n",
       "      <td>0.6816</td>\n",
       "      <td>1451.426080</td>\n",
       "      <td>0.216401</td>\n",
       "    </tr>\n",
       "    <tr>\n",
       "      <th>T cell regulatory</th>\n",
       "      <td>0.00000</td>\n",
       "      <td>0.000</td>\n",
       "      <td>0.000</td>\n",
       "      <td>0.000</td>\n",
       "      <td>0.0000</td>\n",
       "      <td>422.044901</td>\n",
       "      <td>-0.079626</td>\n",
       "    </tr>\n",
       "    <tr>\n",
       "      <th>Tumor cells</th>\n",
       "      <td>0.00000</td>\n",
       "      <td>-0.202</td>\n",
       "      <td>0.390</td>\n",
       "      <td>0.109</td>\n",
       "      <td>0.4474</td>\n",
       "      <td>251.668239</td>\n",
       "      <td>-0.079626</td>\n",
       "    </tr>\n",
       "  </tbody>\n",
       "</table>\n",
       "</div>"
      ],
      "text/plain": [
       "                             Final Parameter  HDI 3%  HDI 97%     SD  \\\n",
       "Covariate Cell Type                                                    \n",
       "sexT.male B cell                     0.00000  -0.237    0.352  0.105   \n",
       "          DC mature                  0.00000  -0.238    0.338  0.097   \n",
       "          Macrophage                 0.00000  -0.173    0.427  0.124   \n",
       "          Neutrophils                0.00000  -0.371    0.221  0.107   \n",
       "          T cell CD4                 0.00000  -0.125    0.417  0.120   \n",
       "          T cell CD8                 0.20519  -0.067    0.543  0.179   \n",
       "          T cell regulatory          0.00000   0.000    0.000  0.000   \n",
       "          Tumor cells                0.00000  -0.202    0.390  0.109   \n",
       "\n",
       "                             Inclusion probability  Expected Sample  \\\n",
       "Covariate Cell Type                                                   \n",
       "sexT.male B cell                            0.4553       333.322906   \n",
       "          DC mature                         0.4416       147.837206   \n",
       "          Macrophage                        0.4749       886.349824   \n",
       "          Neutrophils                       0.4562       111.956646   \n",
       "          T cell CD4                        0.4928      1409.671121   \n",
       "          T cell CD8                        0.6816      1451.426080   \n",
       "          T cell regulatory                 0.0000       422.044901   \n",
       "          Tumor cells                       0.4474       251.668239   \n",
       "\n",
       "                             log2-fold change  \n",
       "Covariate Cell Type                            \n",
       "sexT.male B cell                    -0.079626  \n",
       "          DC mature                 -0.079626  \n",
       "          Macrophage                -0.079626  \n",
       "          Neutrophils               -0.079626  \n",
       "          T cell CD4                -0.079626  \n",
       "          T cell CD8                 0.216401  \n",
       "          T cell regulatory         -0.079626  \n",
       "          Tumor cells               -0.079626  "
      ]
     },
     "execution_count": 45,
     "metadata": {},
     "output_type": "execute_result"
    }
   ],
   "source": [
    "test_model.get_effect_df(sccoda_data, modality_key=\"coda_sex\")"
   ]
  },
  {
   "cell_type": "code",
   "execution_count": 46,
   "id": "20d9c4a0-9c78-47b9-a4a5-6043f631ff85",
   "metadata": {},
   "outputs": [
    {
     "data": {
      "text/html": [
       "<div>\n",
       "<style scoped>\n",
       "    .dataframe tbody tr th:only-of-type {\n",
       "        vertical-align: middle;\n",
       "    }\n",
       "\n",
       "    .dataframe tbody tr th {\n",
       "        vertical-align: top;\n",
       "    }\n",
       "\n",
       "    .dataframe thead th {\n",
       "        text-align: right;\n",
       "    }\n",
       "</style>\n",
       "<table border=\"1\" class=\"dataframe\">\n",
       "  <thead>\n",
       "    <tr style=\"text-align: right;\">\n",
       "      <th></th>\n",
       "      <th>Final Parameter</th>\n",
       "      <th>HDI 3%</th>\n",
       "      <th>HDI 97%</th>\n",
       "      <th>SD</th>\n",
       "      <th>Expected Sample</th>\n",
       "    </tr>\n",
       "    <tr>\n",
       "      <th>Cell Type</th>\n",
       "      <th></th>\n",
       "      <th></th>\n",
       "      <th></th>\n",
       "      <th></th>\n",
       "      <th></th>\n",
       "    </tr>\n",
       "  </thead>\n",
       "  <tbody>\n",
       "    <tr>\n",
       "      <th>B cell</th>\n",
       "      <td>-0.615</td>\n",
       "      <td>-0.860</td>\n",
       "      <td>-0.369</td>\n",
       "      <td>0.131</td>\n",
       "      <td>352.236893</td>\n",
       "    </tr>\n",
       "    <tr>\n",
       "      <th>DC mature</th>\n",
       "      <td>-1.428</td>\n",
       "      <td>-1.690</td>\n",
       "      <td>-1.189</td>\n",
       "      <td>0.133</td>\n",
       "      <td>156.226041</td>\n",
       "    </tr>\n",
       "    <tr>\n",
       "      <th>Macrophage</th>\n",
       "      <td>0.363</td>\n",
       "      <td>0.116</td>\n",
       "      <td>0.584</td>\n",
       "      <td>0.126</td>\n",
       "      <td>936.644625</td>\n",
       "    </tr>\n",
       "    <tr>\n",
       "      <th>Neutrophils</th>\n",
       "      <td>-1.706</td>\n",
       "      <td>-1.960</td>\n",
       "      <td>-1.446</td>\n",
       "      <td>0.137</td>\n",
       "      <td>118.309485</td>\n",
       "    </tr>\n",
       "    <tr>\n",
       "      <th>T cell CD4</th>\n",
       "      <td>0.827</td>\n",
       "      <td>0.615</td>\n",
       "      <td>1.034</td>\n",
       "      <td>0.113</td>\n",
       "      <td>1489.661127</td>\n",
       "    </tr>\n",
       "    <tr>\n",
       "      <th>T cell CD8</th>\n",
       "      <td>0.651</td>\n",
       "      <td>0.406</td>\n",
       "      <td>0.872</td>\n",
       "      <td>0.126</td>\n",
       "      <td>1249.256610</td>\n",
       "    </tr>\n",
       "    <tr>\n",
       "      <th>T cell regulatory</th>\n",
       "      <td>-0.379</td>\n",
       "      <td>-0.600</td>\n",
       "      <td>-0.165</td>\n",
       "      <td>0.116</td>\n",
       "      <td>445.993305</td>\n",
       "    </tr>\n",
       "    <tr>\n",
       "      <th>Tumor cells</th>\n",
       "      <td>-0.896</td>\n",
       "      <td>-1.140</td>\n",
       "      <td>-0.642</td>\n",
       "      <td>0.132</td>\n",
       "      <td>265.948835</td>\n",
       "    </tr>\n",
       "  </tbody>\n",
       "</table>\n",
       "</div>"
      ],
      "text/plain": [
       "                   Final Parameter  HDI 3%  HDI 97%     SD  Expected Sample\n",
       "Cell Type                                                                  \n",
       "B cell                      -0.615  -0.860   -0.369  0.131       352.236893\n",
       "DC mature                   -1.428  -1.690   -1.189  0.133       156.226041\n",
       "Macrophage                   0.363   0.116    0.584  0.126       936.644625\n",
       "Neutrophils                 -1.706  -1.960   -1.446  0.137       118.309485\n",
       "T cell CD4                   0.827   0.615    1.034  0.113      1489.661127\n",
       "T cell CD8                   0.651   0.406    0.872  0.126      1249.256610\n",
       "T cell regulatory           -0.379  -0.600   -0.165  0.116       445.993305\n",
       "Tumor cells                 -0.896  -1.140   -0.642  0.132       265.948835"
      ]
     },
     "execution_count": 46,
     "metadata": {},
     "output_type": "execute_result"
    }
   ],
   "source": [
    "sccoda_data[\"coda_sex\"].varm[\"intercept_df\"]"
   ]
  },
  {
   "cell_type": "code",
   "execution_count": 47,
   "id": "b95a480d-47db-416d-ad27-c1678601b63e",
   "metadata": {},
   "outputs": [],
   "source": [
    "import warnings\n",
    "\n",
    "warnings.filterwarnings(\"ignore\")\n",
    "\n",
    "import arviz as az\n",
    "import matplotlib.pyplot as plt\n",
    "import pandas as pd\n",
    "import pertpy as pt"
   ]
  },
  {
   "cell_type": "code",
   "execution_count": 53,
   "id": "1fe8a0c0-b2ac-483f-80de-c48fa94a657d",
   "metadata": {},
   "outputs": [
    {
     "data": {
      "image/png": "[encoded data removed]",
      "text/plain": [
       "<Figure size 640x480 with 1 Axes>"
      ]
     },
     "metadata": {},
     "output_type": "display_data"
    }
   ],
   "source": [
    "sccoda_model.plot_boxplots(sccoda_data, modality_key=\"coda_sex\", feature_name=\"sex\", add_dots=False)\n",
    "plt.show()"
   ]
  },
  {
   "cell_type": "code",
   "execution_count": 62,
   "id": "487d4992-e043-40ca-94d1-0f82b3201956",
   "metadata": {},
   "outputs": [
    {
     "data": {
      "image/png": "[encoded data removed]",
      "text/plain": [
       "<Figure size 640x480 with 1 Axes>"
      ]
     },
     "metadata": {},
     "output_type": "display_data"
    }
   ],
   "source": [
    "sccoda_model.plot_stacked_barplot(sccoda_data, modality_key=\"coda_sex\", feature_name=\"sex\")"
   ]
  },
  {
   "cell_type": "code",
   "execution_count": null,
   "id": "d92cf265-a2d2-4142-87e7-5cbeb266d037",
   "metadata": {},
   "outputs": [],
   "source": [
    "sccoda_data = sccoda_model.prepare(\n",
    "    sccoda_data,\n",
    "    modality_key=\"coda_sex\",\n",
    "    formula=\"sex\",\n",
    "    reference_cell_type=\"automatic\",\n",
    ")\n",
    "sccoda_data[\"coda_sex\"]"
   ]
  },
  {
   "cell_type": "code",
   "execution_count": 63,
   "id": "42ade4ab-4f69-495f-bad5-a294dac6afd4",
   "metadata": {},
   "outputs": [],
   "source": [
    "sccoda_model = pt.tl.Sccoda()\n",
    "\n",
    "def run_sccoda(subset, reference):\n",
    "    sccoda_data = sccoda_model.load(\n",
    "        adata,\n",
    "        type=\"cell_level\",\n",
    "        generate_sample_level=True,\n",
    "        cell_type_identifier=\"cell_type_major\",\n",
    "        sample_identifier=\"donor_id\",\n",
    "        covariate_obs=[\"disease\",\"dataset\",\"sex\"],\n",
    "    )\n",
    "\n",
    "    sccoda_data = sccoda_model.prepare(\n",
    "        sccoda_data,\n",
    "        modality_key=\"coda_sex\",\n",
    "        formula=\"sex\",\n",
    "        reference_cell_type=\"automatic\",\n",
    "        automatic_reference_absence_threshold=0.1,\n",
    "    )\n",
    "\n",
    "    sccoda_model.run_nuts(sccoda_data, modality_key=\"coda_sex\")\n",
    "    sccoda_model.set_fdr(sccoda_data, modality_key=\"coda_sex\", est_fdr=0.1)\n",
    "\n",
    "    comparison_groups = [g for g in subset.obs[\"sex\"].unique() if g != reference]\n",
    "    effect_df = pd.DataFrame(\n",
    "        {\"log2-fold change\": [], \"Cell Type\": [], \"Reference\": [], \"Comp. Group\": [], \"Final Parameter\": []})\n",
    "    for comp_group in comparison_groups:\n",
    "        group_effects = sccoda_data[\"coda\"].varm[f\"effect_df_C(Group, Treatment('{reference}'))[T.{comp_group}]\"][\n",
    "            [\"log2-fold change\", \"Final Parameter\"]]\n",
    "        group_effects = group_effects[group_effects[\"Final Parameter\"] != 0]\n",
    "        group_effects[\"Cell Type\"] = group_effects.index\n",
    "        group_effects[\"Reference\"] = reference\n",
    "        group_effects[\"Comp. Group\"] = comp_group\n",
    "        effect_df = pd.concat([effect_df, group_effects])\n",
    "\n",
    "    if not effect_df.empty:\n",
    "        fig = sccoda_model.plot_effects_barplot(sccoda_data, return_fig=True, show=False)\n",
    "        fig.set_size_inches(12, 4)\n",
    "        fig.show()\n",
    "    else:\n",
    "        print(f\"No significant effects for reference {reference}\")\n",
    "\n",
    "    return effect_df"
   ]
  },
  {
   "cell_type": "code",
   "execution_count": 65,
   "id": "7990897f-7a56-4500-8f96-0253ce1cf6f2",
   "metadata": {},
   "outputs": [
    {
     "name": "stdout",
     "output_type": "stream",
     "text": [
      "female\n",
      "\u001b[93m!\u001b[0m Covariate dataset has non-unique values for batch! Skipping...\n"
     ]
    },
    {
     "ename": "KeyError",
     "evalue": "'coda_sex'",
     "output_type": "error",
     "traceback": [
      "\u001b[0;31m---------------------------------------------------------------------------\u001b[0m",
      "\u001b[0;31mKeyError\u001b[0m                                  Traceback (most recent call last)",
      "Cell \u001b[0;32mIn[65], line 6\u001b[0m\n\u001b[1;32m      4\u001b[0m \u001b[38;5;28;01mfor\u001b[39;00m reference \u001b[38;5;129;01min\u001b[39;00m adata\u001b[38;5;241m.\u001b[39mobs[\u001b[38;5;124m\"\u001b[39m\u001b[38;5;124msex\u001b[39m\u001b[38;5;124m\"\u001b[39m]\u001b[38;5;241m.\u001b[39munique():\n\u001b[1;32m      5\u001b[0m     \u001b[38;5;28mprint\u001b[39m(reference)\n\u001b[0;32m----> 6\u001b[0m     effect_df \u001b[38;5;241m=\u001b[39m \u001b[43mrun_sccoda\u001b[49m\u001b[43m(\u001b[49m\u001b[43madata\u001b[49m\u001b[43m,\u001b[49m\u001b[43m \u001b[49m\u001b[43mreference\u001b[49m\u001b[38;5;241;43m=\u001b[39;49m\u001b[43mreference\u001b[49m\u001b[43m)\u001b[49m\n\u001b[1;32m      7\u001b[0m     credible_effects \u001b[38;5;241m=\u001b[39m pd\u001b[38;5;241m.\u001b[39mconcat([credible_effects, effect_df])\n",
      "Cell \u001b[0;32mIn[63], line 13\u001b[0m, in \u001b[0;36mrun_sccoda\u001b[0;34m(subset, reference)\u001b[0m\n\u001b[1;32m      3\u001b[0m \u001b[38;5;28;01mdef\u001b[39;00m \u001b[38;5;21mrun_sccoda\u001b[39m(subset, reference):\n\u001b[1;32m      4\u001b[0m     sccoda_data \u001b[38;5;241m=\u001b[39m sccoda_model\u001b[38;5;241m.\u001b[39mload(\n\u001b[1;32m      5\u001b[0m         adata,\n\u001b[1;32m      6\u001b[0m         \u001b[38;5;28mtype\u001b[39m\u001b[38;5;241m=\u001b[39m\u001b[38;5;124m\"\u001b[39m\u001b[38;5;124mcell_level\u001b[39m\u001b[38;5;124m\"\u001b[39m,\n\u001b[0;32m   (...)\u001b[0m\n\u001b[1;32m     10\u001b[0m         covariate_obs\u001b[38;5;241m=\u001b[39m[\u001b[38;5;124m\"\u001b[39m\u001b[38;5;124mdisease\u001b[39m\u001b[38;5;124m\"\u001b[39m,\u001b[38;5;124m\"\u001b[39m\u001b[38;5;124mdataset\u001b[39m\u001b[38;5;124m\"\u001b[39m,\u001b[38;5;124m\"\u001b[39m\u001b[38;5;124msex\u001b[39m\u001b[38;5;124m\"\u001b[39m],\n\u001b[1;32m     11\u001b[0m     )\n\u001b[0;32m---> 13\u001b[0m     sccoda_data \u001b[38;5;241m=\u001b[39m \u001b[43msccoda_model\u001b[49m\u001b[38;5;241;43m.\u001b[39;49m\u001b[43mprepare\u001b[49m\u001b[43m(\u001b[49m\n\u001b[1;32m     14\u001b[0m \u001b[43m        \u001b[49m\u001b[43msccoda_data\u001b[49m\u001b[43m,\u001b[49m\n\u001b[1;32m     15\u001b[0m \u001b[43m        \u001b[49m\u001b[43mmodality_key\u001b[49m\u001b[38;5;241;43m=\u001b[39;49m\u001b[38;5;124;43m\"\u001b[39;49m\u001b[38;5;124;43mcoda_sex\u001b[39;49m\u001b[38;5;124;43m\"\u001b[39;49m\u001b[43m,\u001b[49m\n\u001b[1;32m     16\u001b[0m \u001b[43m        \u001b[49m\u001b[43mformula\u001b[49m\u001b[38;5;241;43m=\u001b[39;49m\u001b[38;5;124;43m\"\u001b[39;49m\u001b[38;5;124;43msex\u001b[39;49m\u001b[38;5;124;43m\"\u001b[39;49m\u001b[43m,\u001b[49m\n\u001b[1;32m     17\u001b[0m \u001b[43m        \u001b[49m\u001b[43mreference_cell_type\u001b[49m\u001b[38;5;241;43m=\u001b[39;49m\u001b[38;5;124;43m\"\u001b[39;49m\u001b[38;5;124;43mautomatic\u001b[39;49m\u001b[38;5;124;43m\"\u001b[39;49m\u001b[43m,\u001b[49m\n\u001b[1;32m     18\u001b[0m \u001b[43m        \u001b[49m\u001b[43mautomatic_reference_absence_threshold\u001b[49m\u001b[38;5;241;43m=\u001b[39;49m\u001b[38;5;241;43m0.1\u001b[39;49m\u001b[43m,\u001b[49m\n\u001b[1;32m     19\u001b[0m \u001b[43m    \u001b[49m\u001b[43m)\u001b[49m\n\u001b[1;32m     21\u001b[0m     sccoda_model\u001b[38;5;241m.\u001b[39mrun_nuts(sccoda_data, modality_key\u001b[38;5;241m=\u001b[39m\u001b[38;5;124m\"\u001b[39m\u001b[38;5;124mcoda_sex\u001b[39m\u001b[38;5;124m\"\u001b[39m)\n\u001b[1;32m     22\u001b[0m     sccoda_model\u001b[38;5;241m.\u001b[39mset_fdr(sccoda_data, modality_key\u001b[38;5;241m=\u001b[39m\u001b[38;5;124m\"\u001b[39m\u001b[38;5;124mcoda_sex\u001b[39m\u001b[38;5;124m\"\u001b[39m, est_fdr\u001b[38;5;241m=\u001b[39m\u001b[38;5;241m0.1\u001b[39m)\n",
      "File \u001b[0;32m~/.conda/envs/pertpy-env/lib/python3.10/site-packages/pertpy/tools/_coda/_sccoda.py:158\u001b[0m, in \u001b[0;36mSccoda.prepare\u001b[0;34m(self, data, formula, reference_cell_type, automatic_reference_absence_threshold, modality_key)\u001b[0m\n\u001b[1;32m    123\u001b[0m \u001b[38;5;250m\u001b[39m\u001b[38;5;124;03m\"\"\"Handles data preprocessing, covariate matrix creation, reference selection, and zero count replacement for scCODA.\u001b[39;00m\n\u001b[1;32m    124\u001b[0m \n\u001b[1;32m    125\u001b[0m \u001b[38;5;124;03mArgs:\u001b[39;00m\n\u001b[0;32m   (...)\u001b[0m\n\u001b[1;32m    155\u001b[0m \u001b[38;5;124;03m    >>> mdata = sccoda.prepare(mdata, formula=\"condition\", reference_cell_type=\"Endocrine\")\u001b[39;00m\n\u001b[1;32m    156\u001b[0m \u001b[38;5;124;03m\"\"\"\u001b[39;00m\n\u001b[1;32m    157\u001b[0m \u001b[38;5;28;01mif\u001b[39;00m \u001b[38;5;28misinstance\u001b[39m(data, MuData):\n\u001b[0;32m--> 158\u001b[0m     adata \u001b[38;5;241m=\u001b[39m \u001b[43mdata\u001b[49m\u001b[43m[\u001b[49m\u001b[43mmodality_key\u001b[49m\u001b[43m]\u001b[49m\n\u001b[1;32m    159\u001b[0m     is_MuData \u001b[38;5;241m=\u001b[39m \u001b[38;5;28;01mTrue\u001b[39;00m\n\u001b[1;32m    160\u001b[0m \u001b[38;5;28;01mif\u001b[39;00m \u001b[38;5;28misinstance\u001b[39m(data, AnnData):\n",
      "File \u001b[0;32m~/.conda/envs/pertpy-env/lib/python3.10/site-packages/mudata/_core/mudata.py:514\u001b[0m, in \u001b[0;36mMuData.__getitem__\u001b[0;34m(self, index)\u001b[0m\n\u001b[1;32m    512\u001b[0m \u001b[38;5;28;01mdef\u001b[39;00m \u001b[38;5;21m__getitem__\u001b[39m(\u001b[38;5;28mself\u001b[39m, index) \u001b[38;5;241m-\u001b[39m\u001b[38;5;241m>\u001b[39m Union[\u001b[38;5;124m\"\u001b[39m\u001b[38;5;124mMuData\u001b[39m\u001b[38;5;124m\"\u001b[39m, AnnData]:\n\u001b[1;32m    513\u001b[0m     \u001b[38;5;28;01mif\u001b[39;00m \u001b[38;5;28misinstance\u001b[39m(index, \u001b[38;5;28mstr\u001b[39m):\n\u001b[0;32m--> 514\u001b[0m         \u001b[38;5;28;01mreturn\u001b[39;00m \u001b[38;5;28;43mself\u001b[39;49m\u001b[38;5;241;43m.\u001b[39;49m\u001b[43mmod\u001b[49m\u001b[43m[\u001b[49m\u001b[43mindex\u001b[49m\u001b[43m]\u001b[49m\n\u001b[1;32m    515\u001b[0m     \u001b[38;5;28;01melse\u001b[39;00m:\n\u001b[1;32m    516\u001b[0m         \u001b[38;5;28;01mreturn\u001b[39;00m MuData(\u001b[38;5;28mself\u001b[39m, as_view\u001b[38;5;241m=\u001b[39m\u001b[38;5;28;01mTrue\u001b[39;00m, index\u001b[38;5;241m=\u001b[39mindex)\n",
      "\u001b[0;31mKeyError\u001b[0m: 'coda_sex'"
     ]
    }
   ],
   "source": [
    "credible_effects= pd.DataFrame(\n",
    "    {\"log2-fold change\": [], \"Cell Type\": [], \"Reference\": [], \"Comp. Group\": [], \"Final Parameter\": []})\n",
    "\n",
    "for reference in adata.obs[\"sex\"].unique():\n",
    "    print(reference)\n",
    "    effect_df = run_sccoda(adata, reference=reference)\n",
    "    credible_effects = pd.concat([credible_effects, effect_df])"
   ]
  },
  {
   "cell_type": "code",
   "execution_count": null,
   "id": "e940b1ec-e66c-49a3-9357-c05c512fa571",
   "metadata": {},
   "outputs": [],
   "source": []
  }
 ],
 "metadata": {
  "kernelspec": {
   "display_name": "pertpy-env",
   "language": "python",
   "name": "pertpy-env"
  },
  "language_info": {
   "codemirror_mode": {
    "name": "ipython",
    "version": 3
   },
   "file_extension": ".py",
   "mimetype": "text/x-python",
   "name": "python",
   "nbconvert_exporter": "python",
   "pygments_lexer": "ipython3",
   "version": "3.10.0"
  }
 },
 "nbformat": 4,
 "nbformat_minor": 5
}
