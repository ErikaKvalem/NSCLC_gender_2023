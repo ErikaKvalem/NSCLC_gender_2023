{
 "cells": [
  {
   "cell_type": "markdown",
   "id": "2980161a-241b-4753-b740-5ff860884011",
   "metadata": {},
   "source": [
    "# 1.NSCLC Sex-stratified SC Analysis\n",
    "\n",
    "## Data selection, pseudobulk, create input for DESEQ2"
   ]
  },
  {
   "cell_type": "code",
   "execution_count": 1,
   "id": "edbb3fde-d351-4387-896d-e931307eeb53",
   "metadata": {},
   "outputs": [],
   "source": [
    "import warnings\n",
    "import numpy as np\n",
    "import pandas as pd \n",
    "import scanpy as sc\n",
    "#import tensorflow as tf\n",
    "import matplotlib.pyplot as plt\n",
    "import matplotlib\n",
    "import seaborn as sns\n",
    "#import altair as alt\n",
    "#import pertpy as pt\n",
    "#from pandas.api.types import is_categorical_dtype\n",
    "#from pandas import CategoricalDtype"
   ]
  },
  {
   "cell_type": "code",
   "execution_count": 2,
   "id": "3bf34676-ba05-4fdc-a50b-9a6c94b38b35",
   "metadata": {},
   "outputs": [],
   "source": [
    "import decoupler as dc"
   ]
  },
  {
   "cell_type": "code",
   "execution_count": 3,
   "id": "1c904e17-c8c9-4363-ae2e-1c9d15222e65",
   "metadata": {},
   "outputs": [],
   "source": [
    "#Set result directory for figures\n",
    "resDir = \"/data/projects/2023/LCBiome/nsclc_gender_atlas_tmp/out/011_analysis_paired_remove_xy/figures/\"\n",
    "sc.settings.figdir = resDir"
   ]
  },
  {
   "cell_type": "code",
   "execution_count": 4,
   "id": "0553f14a-fcfa-4596-81de-867668eed4b2",
   "metadata": {},
   "outputs": [
    {
     "data": {
      "text/plain": [
       "'1.5.0'"
      ]
     },
     "execution_count": 4,
     "metadata": {},
     "output_type": "execute_result"
    }
   ],
   "source": [
    "dc.__version__"
   ]
  },
  {
   "cell_type": "code",
   "execution_count": 5,
   "id": "db4b1cb3-3364-42fb-bac7-6cd852036110",
   "metadata": {},
   "outputs": [],
   "source": [
    "path = \"/data/projects/2023/LCBiome/nsclc_gender_atlas_tmp\"\n",
    "input_path    = f\"{path}/data/local.h5ad\""
   ]
  },
  {
   "cell_type": "code",
   "execution_count": null,
   "id": "fe038019-17ef-4972-a4d0-f129a520e6f3",
   "metadata": {},
   "outputs": [],
   "source": [
    "adata = sc.read_h5ad(input_path) "
   ]
  },
  {
   "cell_type": "code",
   "execution_count": null,
   "id": "e8569bac-e7f3-453b-87c0-b45ba899c681",
   "metadata": {},
   "outputs": [],
   "source": [
    "adata.obs.dataset.value_counts()"
   ]
  },
  {
   "cell_type": "code",
   "execution_count": null,
   "id": "c616805f-5e9f-4f41-a226-2cd00b9f6a98",
   "metadata": {},
   "outputs": [],
   "source": [
    "nsclc_chrom = pd.read_csv(f\"{path}/out/007_re_analysis/tables/input/adata_var_nsclc_chrom.csv\")"
   ]
  },
  {
   "cell_type": "code",
   "execution_count": null,
   "id": "f67e5c74-70e9-461c-9690-22c5583260b4",
   "metadata": {},
   "outputs": [],
   "source": [
    "adata"
   ]
  },
  {
   "cell_type": "code",
   "execution_count": null,
   "id": "df4e83e5-e1fa-4934-8750-1789b5576770",
   "metadata": {},
   "outputs": [],
   "source": [
    "adata.obs.disease.value_counts()"
   ]
  },
  {
   "cell_type": "code",
   "execution_count": null,
   "id": "4affacbc-337a-4c72-b6b0-aa596a1f7db2",
   "metadata": {},
   "outputs": [],
   "source": [
    "adata.obs.tumor_stage.value_counts()"
   ]
  },
  {
   "cell_type": "code",
   "execution_count": null,
   "id": "ccd89aad-1a50-4acc-9d9e-8697c84951e0",
   "metadata": {},
   "outputs": [],
   "source": [
    "adata.obs.sex.value_counts()"
   ]
  },
  {
   "cell_type": "code",
   "execution_count": null,
   "id": "4670efbd-e593-4dcc-9e54-8bf3d24f80b5",
   "metadata": {},
   "outputs": [],
   "source": [
    "adata.obs.origin.value_counts()"
   ]
  },
  {
   "cell_type": "code",
   "execution_count": null,
   "id": "f706c712-cd89-491a-b399-60d355101111",
   "metadata": {},
   "outputs": [],
   "source": [
    "adata.obs.dataset.value_counts()"
   ]
  },
  {
   "cell_type": "markdown",
   "id": "9564a63b-313e-453f-8d2f-a4d7f39c153c",
   "metadata": {},
   "source": [
    "### 01.SELECT ONLY male, female & tumor, normal_adjacent"
   ]
  },
  {
   "cell_type": "code",
   "execution_count": null,
   "id": "55bfff78-b5cc-4a82-a637-68b9e1978619",
   "metadata": {},
   "outputs": [],
   "source": [
    "adata = adata[(adata.obs[\"disease\"] != \"normal\") & (adata.obs[\"disease\"] != \"chronic obstructive pulmonary disease\")] #exclude normal and COPD samples"
   ]
  },
  {
   "cell_type": "code",
   "execution_count": null,
   "id": "98d67302-7459-4493-9d37-9db67c8c8d0d",
   "metadata": {},
   "outputs": [],
   "source": [
    "adata = adata[adata.obs[\"tumor_stage\"].notna()] #exclude samples without tumor stage"
   ]
  },
  {
   "cell_type": "code",
   "execution_count": null,
   "id": "1c8b08b4-3f4e-419f-a329-e7c936c2c5c5",
   "metadata": {},
   "outputs": [],
   "source": [
    "adata = adata[(adata.obs[\"sex\"]==\"male\")| (adata.obs[\"sex\"]==\"female\")]"
   ]
  },
  {
   "cell_type": "code",
   "execution_count": null,
   "id": "267fc46a-7815-432c-b6b4-3e9495b5111b",
   "metadata": {},
   "outputs": [],
   "source": [
    "adata = adata[(adata.obs[\"origin\"]==\"tumor_primary\")| (adata.obs[\"origin\"]==\"normal_adjacent\")]"
   ]
  },
  {
   "cell_type": "code",
   "execution_count": null,
   "id": "280fd4b4-8197-4fc8-98ce-59b8c30de245",
   "metadata": {},
   "outputs": [],
   "source": [
    "adata.obs.disease.value_counts()"
   ]
  },
  {
   "cell_type": "code",
   "execution_count": null,
   "id": "64456b10-beb9-4239-b8e2-97c7cd19f530",
   "metadata": {},
   "outputs": [],
   "source": [
    "adata.obs.tumor_stage.value_counts()"
   ]
  },
  {
   "cell_type": "code",
   "execution_count": null,
   "id": "c7b8edc1-ede1-44ab-bca6-e9c759a07a3d",
   "metadata": {},
   "outputs": [],
   "source": [
    "adata.obs.sex.value_counts()"
   ]
  },
  {
   "cell_type": "code",
   "execution_count": null,
   "id": "9db59ca2-e354-4790-ba10-d74fd7036dd0",
   "metadata": {},
   "outputs": [],
   "source": [
    "adata.obs.origin.value_counts()"
   ]
  },
  {
   "cell_type": "code",
   "execution_count": null,
   "id": "492ebc27-b0f9-4b4f-b9fc-759d3658a0ec",
   "metadata": {},
   "outputs": [],
   "source": [
    "adata.obs.dataset.value_counts()"
   ]
  },
  {
   "cell_type": "markdown",
   "id": "6bc95759-1287-4ef1-a17d-a856597ed1ed",
   "metadata": {},
   "source": [
    "### 02.CELL TPYE RE-CLASIFICATION "
   ]
  },
  {
   "cell_type": "code",
   "execution_count": null,
   "id": "2d216c5a-6501-4bbf-8721-daeb571bba99",
   "metadata": {},
   "outputs": [],
   "source": [
    "adata.obs.cell_type.value_counts()"
   ]
  },
  {
   "cell_type": "code",
   "execution_count": null,
   "id": "f798450d-b414-47b4-82f3-f49b1c3309fa",
   "metadata": {},
   "outputs": [],
   "source": [
    "adata.obs.cell_type_major.value_counts()"
   ]
  },
  {
   "cell_type": "code",
   "execution_count": null,
   "id": "7ccd41a0-c15a-4346-929c-b61825097693",
   "metadata": {
    "tags": []
   },
   "outputs": [],
   "source": [
    "cells_of_interest=['alveolar macrophage', 'neutrophil','dendritic cell',\n",
    " 'macrophage','malignant cell',\n",
    " 'B cell',\n",
    "  'regulatory T cell',\n",
    "'CD4-positive, alpha-beta T cell',\n",
    " 'CD8-positive, alpha-beta T cell',\n",
    " 'neutrophils','epithelial cell of lung','multi-ciliated epithelial cell' ]\n",
    "subset_adata = adata[adata.obs[\"cell_type\"].isin(cells_of_interest)] \n"
   ]
  },
  {
   "cell_type": "code",
   "execution_count": null,
   "id": "711af383-82d3-490e-9144-0eb14ea2972b",
   "metadata": {},
   "outputs": [],
   "source": [
    "set(subset_adata.obs.cell_type)"
   ]
  },
  {
   "cell_type": "code",
   "execution_count": null,
   "id": "bccdf1ec-8e7e-421a-8582-8b41f6eea271",
   "metadata": {},
   "outputs": [],
   "source": [
    "set(subset_adata.obs.cell_type_major)"
   ]
  },
  {
   "cell_type": "code",
   "execution_count": null,
   "id": "2aa41398-d555-495b-a21c-569ef21d03fa",
   "metadata": {
    "scrolled": true
   },
   "outputs": [],
   "source": [
    "subset_adata.obs[\"cell_type\"]= subset_adata.obs[\"cell_type\"].replace(['epithelial cell of lung','multi-ciliated epithelial cell',], 'epithelial cell')\n",
    "subset_adata.obs[\"cell_type\"]= subset_adata.obs[\"cell_type\"].replace(['alveolar macrophage'], 'macrophage')\n",
    "subset_adata.obs[\"cell_type\"]= subset_adata.obs[\"cell_type\"].replace(['CD4-positive, alpha-beta T cell'], 'CD4+ T cell')\n",
    "subset_adata.obs[\"cell_type\"]= subset_adata.obs[\"cell_type\"].replace(['CD8-positive, alpha-beta T cell'], 'CD8+ T cell')"
   ]
  },
  {
   "cell_type": "code",
   "execution_count": null,
   "id": "0f3722a6-f1bd-49d5-b48e-52f9f579cc5b",
   "metadata": {},
   "outputs": [],
   "source": [
    "set(subset_adata.obs.cell_type)"
   ]
  },
  {
   "cell_type": "code",
   "execution_count": null,
   "id": "b386f50d-964a-4d90-a95b-00413e5fc474",
   "metadata": {},
   "outputs": [],
   "source": [
    "subset_adata"
   ]
  },
  {
   "cell_type": "code",
   "execution_count": null,
   "id": "7f8bdd7d-4dd9-4f59-ae4d-51db6fa3abe4",
   "metadata": {},
   "outputs": [],
   "source": [
    "subset_adata.obs.disease.value_counts()"
   ]
  },
  {
   "cell_type": "code",
   "execution_count": null,
   "id": "84bc0549-6412-43fd-8a49-9ad75b562cb4",
   "metadata": {},
   "outputs": [],
   "source": [
    "subset_adata.obs.dataset.value_counts()"
   ]
  },
  {
   "cell_type": "code",
   "execution_count": null,
   "id": "04d651ac-6b6a-4d40-b6bb-2a0cbfb88bb0",
   "metadata": {},
   "outputs": [],
   "source": [
    "subset_adata.obs.dataset.value_counts()"
   ]
  },
  {
   "cell_type": "markdown",
   "id": "9b2458ac-4c1b-4fb9-a4ce-1998b05f1176",
   "metadata": {},
   "source": [
    "## PAIRED SAMPLES"
   ]
  },
  {
   "cell_type": "code",
   "execution_count": null,
   "id": "fca81be2-f051-42e9-8282-8650178138f0",
   "metadata": {},
   "outputs": [],
   "source": [
    "df_grouped = subset_adata.obs.groupby([\"origin\",\"donor_id\"]).count()"
   ]
  },
  {
   "cell_type": "code",
   "execution_count": null,
   "id": "a5cacfcf-9b14-48e3-a31a-b5b528376b71",
   "metadata": {},
   "outputs": [],
   "source": [
    "df_grouped.reset_index(inplace= True)"
   ]
  },
  {
   "cell_type": "code",
   "execution_count": null,
   "id": "4056771c-7b1c-4a72-bd0b-72bf1ff753a8",
   "metadata": {},
   "outputs": [],
   "source": [
    "df_grouped_normal = df_grouped[df_grouped[\"origin\"]==\"normal_adjacent\"]"
   ]
  },
  {
   "cell_type": "code",
   "execution_count": null,
   "id": "e5234d7c-f494-43e1-bd82-c0473e29a8fa",
   "metadata": {},
   "outputs": [],
   "source": [
    "df_grouped_normal = df_grouped_normal[df_grouped_normal['sample'] != 0]"
   ]
  },
  {
   "cell_type": "code",
   "execution_count": null,
   "id": "82f3d9e2-78b6-4ca9-995d-2294359b5f5f",
   "metadata": {},
   "outputs": [],
   "source": [
    "df_grouped_tumor = df_grouped[df_grouped[\"origin\"]==\"tumor_primary\"]"
   ]
  },
  {
   "cell_type": "code",
   "execution_count": null,
   "id": "b307afd1-9f29-4bbe-8398-c058a42332c4",
   "metadata": {},
   "outputs": [],
   "source": [
    "df_grouped_tumor = df_grouped_tumor[df_grouped_tumor['sample'] != 0]"
   ]
  },
  {
   "cell_type": "code",
   "execution_count": null,
   "id": "77393040-17a6-4658-bb35-392d2823f22e",
   "metadata": {},
   "outputs": [],
   "source": [
    "df_grouped_tumor"
   ]
  },
  {
   "cell_type": "code",
   "execution_count": null,
   "id": "93269d15-2446-473c-ba00-1cbdcc49e602",
   "metadata": {},
   "outputs": [],
   "source": [
    "common_ids =list(set(df_grouped_normal.donor_id)& set(df_grouped_tumor.donor_id))"
   ]
  },
  {
   "cell_type": "code",
   "execution_count": null,
   "id": "05ba2ac2-e212-489f-9c06-3b72206f250b",
   "metadata": {},
   "outputs": [],
   "source": [
    "len(common_ids)"
   ]
  },
  {
   "cell_type": "code",
   "execution_count": null,
   "id": "90d35dc7-5f87-4524-9867-384233ae1c0f",
   "metadata": {},
   "outputs": [],
   "source": [
    "paired_adata = subset_adata[subset_adata.obs['donor_id'].isin(common_ids)].copy()"
   ]
  },
  {
   "cell_type": "code",
   "execution_count": null,
   "id": "15d6b572-926b-4638-a133-a91d6724d610",
   "metadata": {},
   "outputs": [],
   "source": [
    "paired_adata"
   ]
  },
  {
   "cell_type": "code",
   "execution_count": null,
   "id": "82963498-7117-4384-b72a-a75c163cc9e6",
   "metadata": {},
   "outputs": [],
   "source": [
    "df = paired_adata.obs#\n",
    "origin_counts = df.groupby('origin')['donor_id'].nunique().reset_index()\n",
    "origin_counts.columns = ['origin', 'count']"
   ]
  },
  {
   "cell_type": "code",
   "execution_count": null,
   "id": "612e769a-ed48-47da-85e6-c841a7b04a48",
   "metadata": {},
   "outputs": [],
   "source": [
    "plt.figure(figsize=(10, 6))\n",
    "sns.barplot(data=origin_counts, x='origin', y='count', palette='viridis')\n",
    "plt.xlabel('Origin')\n",
    "plt.ylabel('Number of Unique Donor IDs')\n",
    "plt.title('Number of Unique Donor IDs per Origin')\n",
    "plt.show()"
   ]
  },
  {
   "cell_type": "code",
   "execution_count": null,
   "id": "cce32268-37b3-48a1-90ee-8957d7f1532c",
   "metadata": {},
   "outputs": [],
   "source": [
    "df = paired_adata.obs#\n",
    "origin_counts = df.groupby('disease')['donor_id'].nunique().reset_index()\n",
    "origin_counts.columns = ['disease', 'count']"
   ]
  },
  {
   "cell_type": "code",
   "execution_count": null,
   "id": "54d31315-f827-4674-9cda-12a30996a5d7",
   "metadata": {},
   "outputs": [],
   "source": [
    "plt.figure(figsize=(10, 6))\n",
    "sns.barplot(data=origin_counts, x='disease', y='count', palette='viridis')\n",
    "plt.xlabel('disease')\n",
    "plt.ylabel('Number of Unique Donor IDs')\n",
    "plt.title('Number of Unique Donor IDs per disease')\n",
    "plt.show()"
   ]
  },
  {
   "cell_type": "code",
   "execution_count": null,
   "id": "5cc922dd-5476-4122-8b0a-6dced452666c",
   "metadata": {},
   "outputs": [],
   "source": [
    "paired_adata.obs.disease.value_counts()"
   ]
  },
  {
   "cell_type": "code",
   "execution_count": null,
   "id": "54a2215b-2ab2-4ad1-b4ad-e5170cfa1d1b",
   "metadata": {},
   "outputs": [],
   "source": [
    "paired_adata.obs.tumor_stage.value_counts()"
   ]
  },
  {
   "cell_type": "code",
   "execution_count": null,
   "id": "8f74eb48-94cf-4112-9214-9b0f971c4084",
   "metadata": {},
   "outputs": [],
   "source": [
    "paired_adata.obs.sex.value_counts()"
   ]
  },
  {
   "cell_type": "code",
   "execution_count": null,
   "id": "469b9aab-b98d-4fb1-bbed-750f02bb8fcb",
   "metadata": {},
   "outputs": [],
   "source": [
    "paired_adata.obs.origin.value_counts()"
   ]
  },
  {
   "cell_type": "code",
   "execution_count": null,
   "id": "36921e3d-0fd0-4b76-97cf-2a8a4eae7078",
   "metadata": {},
   "outputs": [],
   "source": [
    "paired_adata.obs.dataset.value_counts()"
   ]
  },
  {
   "cell_type": "code",
   "execution_count": null,
   "id": "e53b66da-430f-4933-8f5b-03dee904c211",
   "metadata": {
    "scrolled": true
   },
   "outputs": [],
   "source": [
    "paired_adata"
   ]
  },
  {
   "cell_type": "markdown",
   "id": "fd305e5d-8000-4f51-876e-b08b8e563675",
   "metadata": {},
   "source": [
    "## Create layer Log 1pnorm "
   ]
  },
  {
   "cell_type": "code",
   "execution_count": null,
   "id": "5df5ad42-e7a9-4db6-bd5d-fa58683ea382",
   "metadata": {},
   "outputs": [],
   "source": [
    "paired_adata.layers[\"log1p_norm\"] = paired_adata.X.copy()\n",
    "sc.pp.normalize_total(paired_adata, target_sum=1e6, layer=\"log1p_norm\")\n",
    "sc.pp.log1p(paired_adata, base=6, layer=\"log1p_norm\")"
   ]
  },
  {
   "cell_type": "code",
   "execution_count": null,
   "id": "075938b3-53f8-42b5-9843-6269dd9d329f",
   "metadata": {},
   "outputs": [],
   "source": [
    "paired_adata"
   ]
  },
  {
   "cell_type": "markdown",
   "id": "2d316a87-1798-4826-b819-3cd0a4af3fed",
   "metadata": {},
   "source": [
    "## Checking for XIST & RPS4Y1 in male and female"
   ]
  },
  {
   "cell_type": "code",
   "execution_count": null,
   "id": "449f6291-e614-450d-8329-a1644b142b1f",
   "metadata": {},
   "outputs": [],
   "source": [
    "paired_adata.var_names = paired_adata.var.feature_name"
   ]
  },
  {
   "cell_type": "code",
   "execution_count": null,
   "id": "5222be93-b1b2-4ead-9989-4b8329c79ed1",
   "metadata": {
    "scrolled": true
   },
   "outputs": [],
   "source": [
    "# Now, generate the plot and save it\n",
    "sc.pl.violin(paired_adata, [\"RPS4Y1\", \"XIST\"], use_raw=False, groupby=\"sex\", layer=\"log1p_norm\")#, save=\"_xy_check.png\")"
   ]
  },
  {
   "cell_type": "code",
   "execution_count": null,
   "id": "c0d811c8-2e44-42a3-9609-71e3389a303a",
   "metadata": {},
   "outputs": [],
   "source": [
    "rps4y1_cells = paired_adata[:, paired_adata.var_names == \"RPS4Y1\"].X > 0\n",
    "# Subset the adata object to only those cells\n",
    "rps4y1_paired_adata_subset = paired_adata[rps4y1_cells, :]"
   ]
  },
  {
   "cell_type": "code",
   "execution_count": null,
   "id": "6338bef9-73ad-436e-bc2c-274adc7ff41f",
   "metadata": {},
   "outputs": [],
   "source": [
    "rps4y1_paired_adata_subset.obs.sex.value_counts()"
   ]
  },
  {
   "cell_type": "code",
   "execution_count": null,
   "id": "91bab166-27c7-4ae8-816d-d2fc0888ea0b",
   "metadata": {},
   "outputs": [],
   "source": [
    "xist_cells = paired_adata[:, paired_adata.var_names == \"XIST\"].X > 0\n",
    "# Subset the adata object to only those cells\n",
    "xist_paired_adata_subset = paired_adata[xist_cells, :]"
   ]
  },
  {
   "cell_type": "code",
   "execution_count": null,
   "id": "4d3b8fde-d605-4614-bad1-caa69458a980",
   "metadata": {},
   "outputs": [],
   "source": [
    "xist_paired_adata_subset.obs.sex.value_counts()"
   ]
  },
  {
   "cell_type": "code",
   "execution_count": null,
   "id": "a2bc6444-8272-4b81-a35a-cd4e8f1d81ca",
   "metadata": {},
   "outputs": [],
   "source": [
    "pd.set_option('display.max_rows', 500)\n",
    "pd.set_option('display.max_columns', 500)"
   ]
  },
  {
   "cell_type": "code",
   "execution_count": null,
   "id": "6d79c778-5726-42c7-ac7b-127730b13950",
   "metadata": {
    "scrolled": true
   },
   "outputs": [],
   "source": [
    "rps4y1_paired_adata_subset.obs.groupby([\"sex\",\"donor_id\"]).count()"
   ]
  },
  {
   "cell_type": "code",
   "execution_count": null,
   "id": "f95e373c-a96c-4835-b630-4b7ba1ec44ea",
   "metadata": {
    "scrolled": true
   },
   "outputs": [],
   "source": [
    "xist_paired_adata_subset.obs.groupby([\"sex\",\"donor_id\"]).count()"
   ]
  },
  {
   "cell_type": "markdown",
   "id": "d6217ed8-043a-497d-b879-34e90d6f172e",
   "metadata": {},
   "source": [
    "These patients express X and Y realted chromosomes oposite to what they are labelled. \n",
    "\n",
    "* rps4y1 \"Lambrechts_Thienpont_2018_6653_8\", \"Leader_Merad_2021_406\"\n",
    "* xist \"Lambrechts_Thienpont_2018_6653_6\", \"Leader_Merad_2021_581\"\n",
    "- Option 1. Relabel as oposite (male & female) \n",
    "- Option 2. Remove to avoid mistakes\n",
    "\n",
    "\n"
   ]
  },
  {
   "cell_type": "markdown",
   "id": "e10730a0-a116-4646-a551-02c01854dba7",
   "metadata": {},
   "source": [
    "## Remove these donor id "
   ]
  },
  {
   "cell_type": "code",
   "execution_count": null,
   "id": "e2244d61-44b7-420a-a0ed-5845e2d89c8b",
   "metadata": {},
   "outputs": [],
   "source": [
    "paired_adata_clean = paired_adata[~paired_adata.obs[\"donor_id\"].isin([\"Lambrechts_Thienpont_2018_6653_8\", \"Leader_Merad_2021_406\", \"Lambrechts_Thienpont_2018_6653_6\", \"Leader_Merad_2021_581\"])]"
   ]
  },
  {
   "cell_type": "code",
   "execution_count": null,
   "id": "29a430ce-cbb0-4493-88e0-92d4710d9557",
   "metadata": {},
   "outputs": [],
   "source": [
    "paired_adata"
   ]
  },
  {
   "cell_type": "code",
   "execution_count": null,
   "id": "a74d57be-b115-45d0-b638-93e247c46d72",
   "metadata": {},
   "outputs": [],
   "source": [
    "paired_adata_clean"
   ]
  },
  {
   "cell_type": "code",
   "execution_count": null,
   "id": "2301d10c-8c39-4cc9-a92f-e8318f0bdc7c",
   "metadata": {},
   "outputs": [],
   "source": [
    "rps4y1_cells = paired_adata_clean[:, paired_adata_clean.var_names == \"RPS4Y1\"].X > 0\n",
    "\n",
    "# Subset the adata object to only those cells\n",
    "rps4y1_paired_adata_subset = paired_adata_clean[rps4y1_cells, :]"
   ]
  },
  {
   "cell_type": "code",
   "execution_count": null,
   "id": "476166f0-e28d-4edb-a7cd-1667546c7c41",
   "metadata": {},
   "outputs": [],
   "source": [
    "rps4y1_paired_adata_subset.obs.sex.value_counts()"
   ]
  },
  {
   "cell_type": "code",
   "execution_count": null,
   "id": "56d7eee3-b5a5-41a8-af18-db8b0b436671",
   "metadata": {},
   "outputs": [],
   "source": [
    "xist_cells = paired_adata_clean[:, paired_adata_clean.var_names == \"XIST\"].X > 0\n",
    "\n",
    "# Subset the adata object to only those cells\n",
    "xist_paired_adata_subset = paired_adata_clean[xist_cells, :]"
   ]
  },
  {
   "cell_type": "code",
   "execution_count": null,
   "id": "1879231b-35d4-4d54-a1d7-e1e9a2bddc5f",
   "metadata": {
    "scrolled": true
   },
   "outputs": [],
   "source": [
    "xist_paired_adata_subset.obs.sex.value_counts()"
   ]
  },
  {
   "cell_type": "code",
   "execution_count": null,
   "id": "5c8b4b64-ccee-4dd7-8ee0-e8f8ac081157",
   "metadata": {
    "scrolled": true
   },
   "outputs": [],
   "source": [
    "rps4y1_paired_adata_subset.obs.groupby([\"sex\",\"donor_id\"]).count()"
   ]
  },
  {
   "cell_type": "code",
   "execution_count": null,
   "id": "ab12a69d-759d-4bc3-b8b1-8a4c6f2cb52d",
   "metadata": {
    "scrolled": true
   },
   "outputs": [],
   "source": [
    "xist_paired_adata_subset.obs.groupby([\"sex\",\"donor_id\"]).count()"
   ]
  },
  {
   "cell_type": "code",
   "execution_count": null,
   "id": "6af0c2e2-2194-4304-b192-4b920a3abbb3",
   "metadata": {},
   "outputs": [],
   "source": [
    "# Now, generate the plot and save it\n",
    "sc.pl.violin(paired_adata_clean, [\"RPS4Y1\", \"XIST\"], use_raw=False, groupby=\"sex\", layer=\"log1p_norm\", save=\"_xy_check.png\")"
   ]
  },
  {
   "cell_type": "markdown",
   "id": "a6ee4393-3284-41cf-9ed1-53d027e7df46",
   "metadata": {},
   "source": [
    "## Check X and Y chromosome related genes"
   ]
  },
  {
   "cell_type": "code",
   "execution_count": null,
   "id": "a27403d4-499b-4ffb-88c6-c6791364f738",
   "metadata": {},
   "outputs": [],
   "source": [
    "x_genes =  [\"XIST\",\"MECP2\",\"DMD\",\"FMR1\",\"G6PD\"]\n",
    "y_genes = [\"SRY\",\"TSPY\",\"DAZ\",\"RPS4Y1\",\"RPS4Y2\",\"ZFY\",\"UTY\"]"
   ]
  },
  {
   "cell_type": "code",
   "execution_count": null,
   "id": "1c597cf3-2991-454f-9a00-ec69b2ea398f",
   "metadata": {},
   "outputs": [],
   "source": [
    "sc.pl.violin(paired_adata_clean, x_genes, use_raw=False, groupby=\"sex\", layer=\"log1p_norm\")"
   ]
  },
  {
   "cell_type": "code",
   "execution_count": null,
   "id": "ff3c5765-034a-41b2-9e78-7851a1b4425f",
   "metadata": {},
   "outputs": [],
   "source": [
    "sc.pl.violin(paired_adata_clean, y_genes, use_raw=False, groupby=\"sex\", layer=\"log1p_norm\")"
   ]
  },
  {
   "cell_type": "markdown",
   "id": "2180c1af-cd8a-4fdc-b642-43e9c4c0cb47",
   "metadata": {},
   "source": [
    "## Remove XIST & RPS4Y1 genes \n",
    "\n",
    "Not sure\n",
    "\n",
    "SRY – Sex-determining region Y: Critical for male sex determination.\n",
    "TSPY – Testis-specific protein Y-encoded: Expressed in the testis.\n",
    "DAZ – Deleted in azoospermia: Involved in spermatogenesis.\n",
    "RPS4Y1 – Ribosomal protein S4, Y-linked 1: Y-linked variant of the ribosomal protein S4.\n",
    "RPS4Y2 – Ribosomal protein S4, Y-linked 2.\n",
    "ZFY – Zinc finger protein, Y-linked.\n",
    "UTY – Ubiquitously transcribed tetratricopeptide repeat containing Y-linked.\n",
    "\n",
    "XIST – X-inactive specific transcript: Involved in X chromosome inactivation in females.\n",
    "MECP2 – Methyl CpG binding protein 2: Mutations can cause Rett syndrome.\n",
    "DMD – Dystrophin: Mutations cause Duchenne muscular dystrophy.\n",
    "FMR1 – Fragile X mental retardation 1: Associated with Fragile X syndrome.\n",
    "G6PD – Glucose-6-phosphate dehydrogenase: Mutations cause G6PD deficiency, leading to hemolytic anemia."
   ]
  },
  {
   "cell_type": "code",
   "execution_count": null,
   "id": "a07301f0-0e6d-43bd-b834-31e6baafc3e9",
   "metadata": {},
   "outputs": [],
   "source": [
    "#genes_to_remove = ['XIST', 'RPS4Y1']\n",
    "#paired_adata_clean = paired_adata_clean[:, ~paired_adata_clean.var_names.isin(genes_to_remove)].copy()"
   ]
  },
  {
   "cell_type": "markdown",
   "id": "bb0f92a1-9307-45cb-9d7e-50930d2c30ab",
   "metadata": {},
   "source": [
    "## SUMMARY \n",
    "- We used the sex annotation that was given in the respective datasets\n",
    "- These annotations were confirmed by our analysis, as no Ygenes were in the female cohort. "
   ]
  },
  {
   "cell_type": "markdown",
   "id": "bef00bec-b6df-4257-9e70-200cb468058b",
   "metadata": {},
   "source": [
    "### 04.Compute pseudobulk"
   ]
  },
  {
   "cell_type": "code",
   "execution_count": null,
   "id": "bb0d6aa1-0b83-4461-9f35-24a313ce2873",
   "metadata": {},
   "outputs": [],
   "source": [
    "path = \"/data/projects/2023/LCBiome/nsclc_gender_atlas_tmp/out/011_analysis_paired_remove_xy/pseudobulk/\""
   ]
  },
  {
   "cell_type": "code",
   "execution_count": null,
   "id": "69c9e20d-fc6c-4596-94a9-c73627a8a3d0",
   "metadata": {
    "scrolled": true
   },
   "outputs": [],
   "source": [
    "# Get pseudo-bulk profile\n",
    "pdata = dc.get_pseudobulk(\n",
    "    paired_adata_clean,\n",
    "    sample_col='sample',\n",
    "    groups_col='donor_id',\n",
    "    layer='count',\n",
    "    min_cells=0,\n",
    "    min_counts=0\n",
    ")"
   ]
  },
  {
   "cell_type": "code",
   "execution_count": null,
   "id": "4a5e818a-2cf3-463c-a989-feb04064d927",
   "metadata": {},
   "outputs": [],
   "source": [
    "pdata.obs[\"age\"] = pdata.obs[\"age\"].astype(\"float64\")\n",
    "pdata.obs[\"is_primary_data\"] = pdata.obs[\"is_primary_data\"].astype(bool)\n"
   ]
  },
  {
   "cell_type": "code",
   "execution_count": null,
   "id": "f450bbe4-a870-4838-9779-4a38b2e3b31d",
   "metadata": {},
   "outputs": [],
   "source": [
    "#pdata.write_h5ad(f\"{path}/out/010_analysis_paired_include_guon/tables/input/pdata.h5ad\")"
   ]
  },
  {
   "cell_type": "code",
   "execution_count": null,
   "id": "0472fb14-25c1-47f7-9519-36e314da0b85",
   "metadata": {},
   "outputs": [],
   "source": [
    "#pdata = sc.read_h5ad(f\"{path}/out/008_analysis_paired_luad/tables/input/pdata.h5ad\")"
   ]
  },
  {
   "cell_type": "code",
   "execution_count": null,
   "id": "6bb74942-4bee-4dbd-b68b-d514c4d10e5a",
   "metadata": {},
   "outputs": [],
   "source": [
    "pdata"
   ]
  },
  {
   "cell_type": "code",
   "execution_count": null,
   "id": "992f6da9-2f26-4808-9827-9610c7146254",
   "metadata": {},
   "outputs": [],
   "source": [
    "dc.plot_psbulk_samples(pdata, groupby=['dataset', 'platform'], figsize=(12, 4))"
   ]
  },
  {
   "cell_type": "code",
   "execution_count": null,
   "id": "cca8d29a-50df-46e0-8362-81e62fa84539",
   "metadata": {},
   "outputs": [],
   "source": [
    "#pdata = pdata[pdata.obs[\"dataset\"]!=\"Guo_Zhang_2018\"] ## SMART SEQ "
   ]
  },
  {
   "cell_type": "code",
   "execution_count": null,
   "id": "0b31e4d4-c2cd-41b3-b1fb-586693698e7f",
   "metadata": {},
   "outputs": [],
   "source": [
    "#pdata"
   ]
  },
  {
   "cell_type": "code",
   "execution_count": null,
   "id": "eaad764e-f461-4cdd-8004-7401fac98359",
   "metadata": {},
   "outputs": [],
   "source": [
    "#dc.plot_psbulk_samples(pdata, groupby=['dataset', 'platform'], figsize=(12, 4))"
   ]
  },
  {
   "cell_type": "code",
   "execution_count": null,
   "id": "473a6ba3-0ae1-4b07-b54c-a4492461640d",
   "metadata": {},
   "outputs": [],
   "source": [
    "dc.plot_filter_by_expr(pdata, group='sample', min_count=10, min_total_count=15)"
   ]
  },
  {
   "cell_type": "code",
   "execution_count": null,
   "id": "bf0fe502-4ab8-429c-8e60-d08b10367278",
   "metadata": {},
   "outputs": [],
   "source": [
    "dc.plot_filter_by_expr(pdata, group='sample', large_n=100,min_prop=0.9, min_count=5000, min_total_count=10000)"
   ]
  },
  {
   "cell_type": "markdown",
   "id": "73fa0d4c-7052-4b0e-8957-7785b306a23b",
   "metadata": {},
   "source": [
    "I set this threshold for the DS analysis to avoid havinh zero-inflated data"
   ]
  },
  {
   "cell_type": "code",
   "execution_count": null,
   "id": "261c355c-1540-4222-8c53-31f49bd08d9e",
   "metadata": {},
   "outputs": [],
   "source": [
    "# Obtain genes that pass the thresholds \n",
    "genes = dc.filter_by_expr(pdata, group='sample', min_count=5000, min_total_count=10000)\n",
    "\n",
    "# Filter by these genes\n",
    "pdata = pdata[:, genes].copy()\n",
    "pdata"
   ]
  },
  {
   "cell_type": "code",
   "execution_count": null,
   "id": "588bb836-02b6-4918-a40e-add9fb54332c",
   "metadata": {},
   "outputs": [],
   "source": [
    "pdata.layers[\"counts\"] = pdata.X"
   ]
  },
  {
   "cell_type": "code",
   "execution_count": null,
   "id": "42538387-6809-4099-9b66-deb524121bc4",
   "metadata": {},
   "outputs": [],
   "source": [
    "scales_counts = sc.pp.normalize_total(pdata, target_sum=None, inplace=False)\n",
    "# log1p transform\n",
    "pdata.layers[\"log1p_norm\"] = sc.pp.log1p(scales_counts[\"X\"], copy=True)"
   ]
  },
  {
   "cell_type": "code",
   "execution_count": null,
   "id": "5e64494d-e597-498d-837b-15076f28e7ea",
   "metadata": {},
   "outputs": [],
   "source": [
    "pdata"
   ]
  },
  {
   "cell_type": "code",
   "execution_count": null,
   "id": "ded8be1d-8c0e-414b-a932-87090935c610",
   "metadata": {},
   "outputs": [],
   "source": [
    "### Samplesheet\n",
    "samplesheet = pdata.obs.copy()\n",
    "samplesheet[\"sample\"]=samplesheet.index\n",
    "samplesheet.reset_index(inplace=True)"
   ]
  },
  {
   "cell_type": "code",
   "execution_count": null,
   "id": "8dde13ff-e1b0-4b6b-b29d-1be5e33c31e5",
   "metadata": {},
   "outputs": [],
   "source": [
    "samplesheet.to_csv(f\"{path}samplesheet.csv\", index=False)\n",
    "samplesheet.to_csv(f\"{path}samplesheet.tsv\", index=False, sep = \"\\t\")"
   ]
  },
  {
   "cell_type": "code",
   "execution_count": null,
   "id": "96db85fd-4b13-47e6-8dbd-b8a2bc456e1b",
   "metadata": {},
   "outputs": [],
   "source": [
    "bulk_df = pdata.to_df().T"
   ]
  },
  {
   "cell_type": "code",
   "execution_count": null,
   "id": "9cd2fbe0-dc81-43d8-9eb8-b1689b1a1feb",
   "metadata": {},
   "outputs": [],
   "source": [
    "### Raw counts\n",
    "bulk_df = pdata.to_df().T\n",
    "#bulk_df[\"gene_id\"]=bulk_df.index\n",
    "bulk_df.columns = bulk_df.columns.str.replace(\"[.-]\", \"_\").str.replace(\" \", \"_\")"
   ]
  },
  {
   "cell_type": "code",
   "execution_count": null,
   "id": "d9d33a74-8359-4564-83d5-7daa91204a69",
   "metadata": {},
   "outputs": [],
   "source": [
    "bulk_df.to_csv(f\"{path}counts.csv\")    "
   ]
  },
  {
   "cell_type": "code",
   "execution_count": null,
   "id": "43ddd3e0-e71b-480b-9d98-cbad2f8f3a8d",
   "metadata": {},
   "outputs": [],
   "source": [
    "### log1p_norm counts\n",
    "pdata_log1p_norm = pd.DataFrame(pdata.layers[\"log1p_norm\"], \n",
    "    pdata.to_df().index, \n",
    "    pdata.to_df().columns)\n",
    "bulk_df = pdata_log1p_norm.T\n",
    "#bulk_df[\"gene_id\"]=bulk_df.index\n",
    "bulk_df.columns = bulk_df.columns.str.replace(\"[.-]\", \"_\").str.replace(\" \", \"_\")\n",
    "bulk_df.to_csv(f\"{path}log1p_norm_counts.csv\")    "
   ]
  },
  {
   "cell_type": "markdown",
   "id": "5f95e140-e654-460b-a5ac-d6ce832bd60c",
   "metadata": {},
   "source": [
    "### 0.4 Create counts and samplesheet independent for tumor and normal for DESEQ2 "
   ]
  },
  {
   "cell_type": "code",
   "execution_count": null,
   "id": "b87fe773-4e33-4d5e-a8e4-27eabe97660a",
   "metadata": {},
   "outputs": [],
   "source": [
    "pdata_normal = pdata[pdata.obs[\"origin\"]==\"normal_adjacent\"]\n",
    "pdata_tumor = pdata[pdata.obs[\"origin\"]==\"tumor_primary\"]"
   ]
  },
  {
   "cell_type": "code",
   "execution_count": null,
   "id": "08c8bcc4-5914-4479-a68f-e8f3f450f5fe",
   "metadata": {},
   "outputs": [],
   "source": [
    "pdata_normal"
   ]
  },
  {
   "cell_type": "code",
   "execution_count": null,
   "id": "a7edbc1e-fb61-4f8c-8d80-27833035cf0d",
   "metadata": {},
   "outputs": [],
   "source": [
    "pdata_list = [pdata_normal,pdata_tumor]\n",
    "pdata_list_name = [\"normal\",\"tumor\"]\n",
    "\n",
    "for index, dataframe in enumerate(pdata_list):\n",
    "    print(pdata_list_name[index])\n",
    "    # Perform the operations\n",
    "    samplesheet = dataframe.obs.copy()\n",
    "    samplesheet[\"sample\"] = samplesheet.index\n",
    "    samplesheet.reset_index(inplace=True)\n",
    "  \n",
    "    samplesheet.to_csv(f\"{path}samplesheet_{pdata_list_name[index]}.csv\", index=False)\n",
    "    samplesheet.to_csv(f\"{path}samplesheet_{pdata_list_name[index]}.tsv\", index=False, sep=\"\\t\")\n",
    "\n",
    "\n",
    "    ### Raw counts\n",
    "    bulk_df = dataframe.to_df().T\n",
    "    #bulk_df[\"gene_id\"]=bulk_df.index\n",
    "    bulk_df.columns = bulk_df.columns.str.replace(\"[.-]\", \"_\").str.replace(\" \", \"_\")\n",
    "    bulk_df.to_csv(f\"{path}counts_{pdata_list_name[index]}.csv\")  \n",
    "    ### log1p_norm counts\n",
    "    pdata_log1p_norm = pd.DataFrame(dataframe.layers[\"log1p_norm\"], \n",
    "        dataframe.to_df().index, \n",
    "        dataframe.to_df().columns)\n",
    "    bulk_df = pdata_log1p_norm.T\n",
    "    #bulk_df[\"gene_id\"]=bulk_df.index\n",
    "    bulk_df.columns = bulk_df.columns.str.replace(\"[.-]\", \"_\").str.replace(\" \", \"_\")\n",
    "    bulk_df.to_csv(f\"{path}/log1p_norm_counts_{pdata_list_name[index]}.csv\")    "
   ]
  },
  {
   "cell_type": "code",
   "execution_count": null,
   "id": "6e9fad03-0692-401c-b87b-9b005290133f",
   "metadata": {},
   "outputs": [],
   "source": []
  }
 ],
 "metadata": {
  "kernelspec": {
   "display_name": "crc_atlas",
   "language": "python",
   "name": "crc_atlas"
  },
  "language_info": {
   "codemirror_mode": {
    "name": "ipython",
    "version": 3
   },
   "file_extension": ".py",
   "mimetype": "text/x-python",
   "name": "python",
   "nbconvert_exporter": "python",
   "pygments_lexer": "ipython3",
   "version": "3.11.6"
  }
 },
 "nbformat": 4,
 "nbformat_minor": 5
}
