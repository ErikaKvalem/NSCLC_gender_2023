{
 "cells": [
  {
   "cell_type": "markdown",
   "id": "2980161a-241b-4753-b740-5ff860884011",
   "metadata": {},
   "source": [
    "# 1.NSCLC Sex-stratified SC Analysis\n",
    "\n",
    "## Data selection, pseudobulk, create input for DESEQ2"
   ]
  },
  {
   "cell_type": "code",
   "execution_count": 44,
   "id": "3a8dbcf5-e76a-4731-8a85-9e516c782b98",
   "metadata": {},
   "outputs": [],
   "source": [
    "import scanpy as sc"
   ]
  },
  {
   "cell_type": "code",
   "execution_count": 45,
   "id": "edbb3fde-d351-4387-896d-e931307eeb53",
   "metadata": {},
   "outputs": [],
   "source": [
    "import warnings\n",
    "import numpy as np\n",
    "import pandas as pd \n",
    "import scanpy as sc\n",
    "#import tensorflow as tf\n",
    "import matplotlib.pyplot as plt\n",
    "import matplotlib\n",
    "import seaborn as sns\n",
    "#import altair as alt\n",
    "#import pertpy as pt\n",
    "#from pandas.api.types import is_categorical_dtype\n",
    "#from pandas import CategoricalDtype"
   ]
  },
  {
   "cell_type": "code",
   "execution_count": 46,
   "id": "b7dd15e5-7de5-4d93-aa35-33c90937ef20",
   "metadata": {},
   "outputs": [
    {
     "ename": "ModuleNotFoundError",
     "evalue": "No module named 'sccoda'",
     "output_type": "error",
     "traceback": [
      "\u001b[0;31m---------------------------------------------------------------------------\u001b[0m",
      "\u001b[0;31mModuleNotFoundError\u001b[0m                       Traceback (most recent call last)",
      "Cell \u001b[0;32mIn[46], line 11\u001b[0m\n\u001b[1;32m      8\u001b[0m \u001b[38;5;28;01mimport\u001b[39;00m \u001b[38;5;21;01mmatplotlib\u001b[39;00m\u001b[38;5;21;01m.\u001b[39;00m\u001b[38;5;21;01mpyplot\u001b[39;00m \u001b[38;5;28;01mas\u001b[39;00m \u001b[38;5;21;01mplt\u001b[39;00m\n\u001b[1;32m     10\u001b[0m \u001b[38;5;66;03m#from sccoda.util import comp_ana as mod\u001b[39;00m\n\u001b[0;32m---> 11\u001b[0m \u001b[38;5;28;01mfrom\u001b[39;00m \u001b[38;5;21;01msccoda\u001b[39;00m\u001b[38;5;21;01m.\u001b[39;00m\u001b[38;5;21;01mutil\u001b[39;00m \u001b[38;5;28;01mimport\u001b[39;00m cell_composition_data \u001b[38;5;28;01mas\u001b[39;00m dat\n\u001b[1;32m     12\u001b[0m \u001b[38;5;28;01mfrom\u001b[39;00m \u001b[38;5;21;01msccoda\u001b[39;00m\u001b[38;5;21;01m.\u001b[39;00m\u001b[38;5;21;01mutil\u001b[39;00m \u001b[38;5;28;01mimport\u001b[39;00m data_visualization \u001b[38;5;28;01mas\u001b[39;00m viz\n\u001b[1;32m     14\u001b[0m \u001b[38;5;28;01mimport\u001b[39;00m \u001b[38;5;21;01msccoda\u001b[39;00m\u001b[38;5;21;01m.\u001b[39;00m\u001b[38;5;21;01mdatasets\u001b[39;00m \u001b[38;5;28;01mas\u001b[39;00m \u001b[38;5;21;01mscd\u001b[39;00m\n",
      "\u001b[0;31mModuleNotFoundError\u001b[0m: No module named 'sccoda'"
     ]
    }
   ],
   "source": [
    "# Setup\n",
    "import importlib\n",
    "import warnings\n",
    "warnings.filterwarnings(\"ignore\")\n",
    "\n",
    "import pandas as pd\n",
    "import pickle as pkl\n",
    "import matplotlib.pyplot as plt\n",
    "\n",
    "#from sccoda.util import comp_ana as mod\n",
    "from sccoda.util import cell_composition_data as dat\n",
    "from sccoda.util import data_visualization as viz\n",
    "\n",
    "import sccoda.datasets as scd"
   ]
  },
  {
   "cell_type": "code",
   "execution_count": 3,
   "id": "9174777a-3853-440f-adb3-77e6a9574f75",
   "metadata": {},
   "outputs": [],
   "source": [
    "\n",
    "import seaborn as sns\n",
    "import matplotlib.pyplot as plt"
   ]
  },
  {
   "cell_type": "code",
   "execution_count": 4,
   "id": "e40a0e03-7975-408c-b4ad-254fa5762213",
   "metadata": {},
   "outputs": [],
   "source": [
    "from statannotations.Annotator import Annotator"
   ]
  },
  {
   "cell_type": "code",
   "execution_count": null,
   "id": "db4b1cb3-3364-42fb-bac7-6cd852036110",
   "metadata": {},
   "outputs": [],
   "source": [
    "path = \"/data/projects/2023/LCBiome/nsclc_gender_atlas_tmp\"\n",
    "input_path    = f\"{path}/data/local.h5ad\""
   ]
  },
  {
   "cell_type": "code",
   "execution_count": null,
   "id": "fe038019-17ef-4972-a4d0-f129a520e6f3",
   "metadata": {},
   "outputs": [],
   "source": [
    "adata = sc.read_h5ad(input_path) "
   ]
  },
  {
   "cell_type": "code",
   "execution_count": null,
   "id": "c616805f-5e9f-4f41-a226-2cd00b9f6a98",
   "metadata": {},
   "outputs": [],
   "source": [
    "nsclc_chrom = pd.read_csv(f\"{path}/out/007_re_analysis/tables/input/adata_var_nsclc_chrom.csv\")"
   ]
  },
  {
   "cell_type": "code",
   "execution_count": null,
   "id": "f67e5c74-70e9-461c-9690-22c5583260b4",
   "metadata": {},
   "outputs": [],
   "source": [
    "adata"
   ]
  },
  {
   "cell_type": "code",
   "execution_count": null,
   "id": "df4e83e5-e1fa-4934-8750-1789b5576770",
   "metadata": {},
   "outputs": [],
   "source": [
    "adata.obs.disease.value_counts()"
   ]
  },
  {
   "cell_type": "code",
   "execution_count": null,
   "id": "4affacbc-337a-4c72-b6b0-aa596a1f7db2",
   "metadata": {},
   "outputs": [],
   "source": [
    "adata.obs.tumor_stage.value_counts()"
   ]
  },
  {
   "cell_type": "code",
   "execution_count": null,
   "id": "ccd89aad-1a50-4acc-9d9e-8697c84951e0",
   "metadata": {},
   "outputs": [],
   "source": [
    "adata.obs.sex.value_counts()"
   ]
  },
  {
   "cell_type": "code",
   "execution_count": null,
   "id": "4670efbd-e593-4dcc-9e54-8bf3d24f80b5",
   "metadata": {},
   "outputs": [],
   "source": [
    "adata.obs.origin.value_counts()"
   ]
  },
  {
   "cell_type": "markdown",
   "id": "9564a63b-313e-453f-8d2f-a4d7f39c153c",
   "metadata": {},
   "source": [
    "### 01.SELECT ONLY male, female & tumor, normal_adjacent"
   ]
  },
  {
   "cell_type": "code",
   "execution_count": null,
   "id": "1c8b08b4-3f4e-419f-a329-e7c936c2c5c5",
   "metadata": {},
   "outputs": [],
   "source": [
    "adata = adata[(adata.obs[\"disease\"] != \"normal\") & (adata.obs[\"disease\"] != \"chronic obstructive pulmonary disease\")] #exclude normal and COPD samples\n",
    "adata = adata[adata.obs[\"tumor_stage\"].notna()] #exclude samples without tumor stage\n",
    "adata = adata[(adata.obs[\"sex\"]==\"male\")| (adata.obs[\"sex\"]==\"female\")]"
   ]
  },
  {
   "cell_type": "code",
   "execution_count": null,
   "id": "267fc46a-7815-432c-b6b4-3e9495b5111b",
   "metadata": {},
   "outputs": [],
   "source": [
    "adata = adata[(adata.obs[\"origin\"]==\"tumor_primary\")| (adata.obs[\"origin\"]==\"normal_adjacent\")]"
   ]
  },
  {
   "cell_type": "code",
   "execution_count": null,
   "id": "280fd4b4-8197-4fc8-98ce-59b8c30de245",
   "metadata": {},
   "outputs": [],
   "source": [
    "adata.obs.disease.value_counts()"
   ]
  },
  {
   "cell_type": "code",
   "execution_count": null,
   "id": "64456b10-beb9-4239-b8e2-97c7cd19f530",
   "metadata": {},
   "outputs": [],
   "source": [
    "adata.obs.tumor_stage.value_counts()"
   ]
  },
  {
   "cell_type": "code",
   "execution_count": null,
   "id": "c7b8edc1-ede1-44ab-bca6-e9c759a07a3d",
   "metadata": {},
   "outputs": [],
   "source": [
    "adata.obs.sex.value_counts()"
   ]
  },
  {
   "cell_type": "code",
   "execution_count": null,
   "id": "9db59ca2-e354-4790-ba10-d74fd7036dd0",
   "metadata": {},
   "outputs": [],
   "source": [
    "adata.obs.origin.value_counts()"
   ]
  },
  {
   "cell_type": "markdown",
   "id": "6bc95759-1287-4ef1-a17d-a856597ed1ed",
   "metadata": {},
   "source": [
    "### 02.CELL TPYE RE-CLASIFICATION "
   ]
  },
  {
   "cell_type": "code",
   "execution_count": null,
   "id": "2d216c5a-6501-4bbf-8721-daeb571bba99",
   "metadata": {},
   "outputs": [],
   "source": [
    "adata.obs.cell_type.value_counts()"
   ]
  },
  {
   "cell_type": "code",
   "execution_count": null,
   "id": "f798450d-b414-47b4-82f3-f49b1c3309fa",
   "metadata": {},
   "outputs": [],
   "source": [
    "adata.obs.cell_type_major.value_counts()"
   ]
  },
  {
   "cell_type": "code",
   "execution_count": null,
   "id": "7ccd41a0-c15a-4346-929c-b61825097693",
   "metadata": {
    "tags": []
   },
   "outputs": [],
   "source": [
    "cells_of_interest=['alveolar macrophage', 'neutrophil',\n",
    " 'macrophage','malignant cell',\n",
    " 'B cell',\n",
    "  'regulatory T cell',\n",
    "'CD4-positive, alpha-beta T cell',\n",
    " 'CD8-positive, alpha-beta T cell',\n",
    " 'neutrophils','epithelial cell of lung','multi-ciliated epithelial cell' ]\n",
    "subset_adata = adata[adata.obs[\"cell_type\"].isin(cells_of_interest)] \n"
   ]
  },
  {
   "cell_type": "code",
   "execution_count": null,
   "id": "711af383-82d3-490e-9144-0eb14ea2972b",
   "metadata": {},
   "outputs": [],
   "source": [
    "set(subset_adata.obs.cell_type)"
   ]
  },
  {
   "cell_type": "code",
   "execution_count": null,
   "id": "bccdf1ec-8e7e-421a-8582-8b41f6eea271",
   "metadata": {},
   "outputs": [],
   "source": [
    "set(subset_adata.obs.cell_type_major)"
   ]
  },
  {
   "cell_type": "code",
   "execution_count": null,
   "id": "2aa41398-d555-495b-a21c-569ef21d03fa",
   "metadata": {
    "scrolled": true
   },
   "outputs": [],
   "source": [
    "subset_adata.obs[\"cell_type\"]= subset_adata.obs[\"cell_type\"].replace(['epithelial cell of lung','multi-ciliated epithelial cell',], 'epithelial cell')\n",
    "subset_adata.obs[\"cell_type\"]= subset_adata.obs[\"cell_type\"].replace(['alveolar macrophage'], 'macrophage')\n",
    "subset_adata.obs[\"cell_type\"]= subset_adata.obs[\"cell_type\"].replace(['CD4-positive, alpha-beta T cell'], 'CD4+ T cell')\n",
    "subset_adata.obs[\"cell_type\"]= subset_adata.obs[\"cell_type\"].replace(['CD8-positive, alpha-beta T cell'], 'CD8+ T cell')"
   ]
  },
  {
   "cell_type": "code",
   "execution_count": null,
   "id": "0f3722a6-f1bd-49d5-b48e-52f9f579cc5b",
   "metadata": {},
   "outputs": [],
   "source": [
    "set(subset_adata.obs.cell_type)"
   ]
  },
  {
   "cell_type": "code",
   "execution_count": null,
   "id": "b386f50d-964a-4d90-a95b-00413e5fc474",
   "metadata": {},
   "outputs": [],
   "source": [
    "subset_adata"
   ]
  },
  {
   "cell_type": "code",
   "execution_count": null,
   "id": "7f8bdd7d-4dd9-4f59-ae4d-51db6fa3abe4",
   "metadata": {},
   "outputs": [],
   "source": [
    "subset_adata.obs.disease.value_counts()"
   ]
  },
  {
   "cell_type": "code",
   "execution_count": null,
   "id": "6536f003-2844-4746-aa42-8013f4e04f4b",
   "metadata": {
    "scrolled": true
   },
   "outputs": [],
   "source": [
    "adata"
   ]
  },
  {
   "cell_type": "markdown",
   "id": "9b2458ac-4c1b-4fb9-a4ce-1998b05f1176",
   "metadata": {},
   "source": [
    "## PAIRED SAMPLES REMOVE NSCLC "
   ]
  },
  {
   "cell_type": "code",
   "execution_count": null,
   "id": "291d14e4-58a9-43d3-afeb-2d49375a6ed4",
   "metadata": {},
   "outputs": [],
   "source": [
    "subset_adata = subset_adata[(subset_adata.obs[\"disease\"]!=\"non-small cell lung carcinoma\")]"
   ]
  },
  {
   "cell_type": "code",
   "execution_count": null,
   "id": "f0395de8-8f97-430b-9043-eb561e402201",
   "metadata": {},
   "outputs": [],
   "source": [
    "subset_adata = subset_adata[(subset_adata.obs[\"disease\"]!=\"squamous cell lung carcinoma\")]"
   ]
  },
  {
   "cell_type": "code",
   "execution_count": null,
   "id": "fca81be2-f051-42e9-8282-8650178138f0",
   "metadata": {},
   "outputs": [],
   "source": [
    "df_grouped = subset_adata.obs.groupby([\"origin\",\"donor_id\"]).count()"
   ]
  },
  {
   "cell_type": "code",
   "execution_count": null,
   "id": "a5cacfcf-9b14-48e3-a31a-b5b528376b71",
   "metadata": {},
   "outputs": [],
   "source": [
    "df_grouped.reset_index(inplace= True)"
   ]
  },
  {
   "cell_type": "code",
   "execution_count": null,
   "id": "4056771c-7b1c-4a72-bd0b-72bf1ff753a8",
   "metadata": {},
   "outputs": [],
   "source": [
    "df_grouped_normal = df_grouped[df_grouped[\"origin\"]==\"normal_adjacent\"]"
   ]
  },
  {
   "cell_type": "code",
   "execution_count": null,
   "id": "e5234d7c-f494-43e1-bd82-c0473e29a8fa",
   "metadata": {},
   "outputs": [],
   "source": [
    "df_grouped_normal = df_grouped_normal[df_grouped_normal['sample'] != 0]"
   ]
  },
  {
   "cell_type": "code",
   "execution_count": null,
   "id": "82f3d9e2-78b6-4ca9-995d-2294359b5f5f",
   "metadata": {},
   "outputs": [],
   "source": [
    "df_grouped_tumor = df_grouped[df_grouped[\"origin\"]==\"tumor_primary\"]"
   ]
  },
  {
   "cell_type": "code",
   "execution_count": null,
   "id": "b307afd1-9f29-4bbe-8398-c058a42332c4",
   "metadata": {},
   "outputs": [],
   "source": [
    "df_grouped_tumor = df_grouped_tumor[df_grouped_tumor['sample'] != 0]"
   ]
  },
  {
   "cell_type": "code",
   "execution_count": null,
   "id": "f6a9523f-9efb-4003-93d1-60b365481820",
   "metadata": {},
   "outputs": [],
   "source": [
    "list(set(df_grouped_tumor.donor_id))"
   ]
  },
  {
   "cell_type": "code",
   "execution_count": null,
   "id": "93269d15-2446-473c-ba00-1cbdcc49e602",
   "metadata": {},
   "outputs": [],
   "source": [
    "common_ids =list(set(df_grouped_normal.donor_id)& set(df_grouped_tumor.donor_id))"
   ]
  },
  {
   "cell_type": "code",
   "execution_count": null,
   "id": "05ba2ac2-e212-489f-9c06-3b72206f250b",
   "metadata": {},
   "outputs": [],
   "source": [
    "len(common_ids)"
   ]
  },
  {
   "cell_type": "code",
   "execution_count": null,
   "id": "90d35dc7-5f87-4524-9867-384233ae1c0f",
   "metadata": {},
   "outputs": [],
   "source": [
    "paired_adata = subset_adata[subset_adata.obs['donor_id'].isin(common_ids)].copy()"
   ]
  },
  {
   "cell_type": "code",
   "execution_count": null,
   "id": "82963498-7117-4384-b72a-a75c163cc9e6",
   "metadata": {},
   "outputs": [],
   "source": [
    "df = paired_adata.obs#\n",
    "origin_counts = df.groupby('origin')['donor_id'].nunique().reset_index()\n",
    "origin_counts.columns = ['origin', 'count']"
   ]
  },
  {
   "cell_type": "code",
   "execution_count": null,
   "id": "612e769a-ed48-47da-85e6-c841a7b04a48",
   "metadata": {},
   "outputs": [],
   "source": [
    "plt.figure(figsize=(10, 6))\n",
    "sns.barplot(data=origin_counts, x='origin', y='count', palette='viridis')\n",
    "plt.xlabel('Origin')\n",
    "plt.ylabel('Number of Unique Donor IDs')\n",
    "plt.title('Number of Unique Donor IDs per Origin')\n",
    "plt.show()"
   ]
  },
  {
   "cell_type": "code",
   "execution_count": null,
   "id": "cce32268-37b3-48a1-90ee-8957d7f1532c",
   "metadata": {},
   "outputs": [],
   "source": [
    "df = paired_adata.obs#\n",
    "origin_counts = df.groupby('disease')['donor_id'].nunique().reset_index()\n",
    "origin_counts.columns = ['disease', 'count']"
   ]
  },
  {
   "cell_type": "code",
   "execution_count": null,
   "id": "54d31315-f827-4674-9cda-12a30996a5d7",
   "metadata": {},
   "outputs": [],
   "source": [
    "plt.figure(figsize=(10, 6))\n",
    "sns.barplot(data=origin_counts, x='disease', y='count', palette='viridis')\n",
    "plt.xlabel('disease')\n",
    "plt.ylabel('Number of Unique Donor IDs')\n",
    "plt.title('Number of Unique Donor IDs per disease')\n",
    "plt.show()"
   ]
  },
  {
   "cell_type": "code",
   "execution_count": null,
   "id": "5245f655-7175-4522-b03c-adff14b3f8cc",
   "metadata": {},
   "outputs": [],
   "source": [
    "#paired_adata.write_h5ad(\"paired_adata.h5ad\")"
   ]
  },
  {
   "cell_type": "code",
   "execution_count": 47,
   "id": "698e649d-466c-4a3e-9f19-300915896f09",
   "metadata": {},
   "outputs": [],
   "source": [
    "paired_adata = sc.read_h5ad(\"paired_adata.h5ad\")"
   ]
  },
  {
   "cell_type": "code",
   "execution_count": 122,
   "id": "5022b929-1951-4887-a5b2-1d8542d50192",
   "metadata": {},
   "outputs": [],
   "source": [
    "df_num = paired_adata.obs[[\"cell_type\",\"sex\"]].value_counts()"
   ]
  },
  {
   "cell_type": "code",
   "execution_count": 124,
   "id": "a4f11157-e164-471a-b0ec-11a762f592f5",
   "metadata": {},
   "outputs": [],
   "source": [
    "df_num.to_csv(\"cell_count.csv\")"
   ]
  },
  {
   "cell_type": "code",
   "execution_count": null,
   "id": "80c267ac-4f0e-43b3-b85a-f8580fac3c43",
   "metadata": {},
   "outputs": [],
   "source": [
    "#data_all.write_h5ad(\"data_all.h5ad\")"
   ]
  },
  {
   "cell_type": "code",
   "execution_count": 121,
   "id": "205822cc-a064-4c45-955c-c0c34ae1d36b",
   "metadata": {},
   "outputs": [
    {
     "data": {
      "image/png": "[encoded data removed]",
      "text/plain": [
       "<Figure size 640x480 with 1 Axes>"
      ]
     },
     "metadata": {},
     "output_type": "display_data"
    }
   ],
   "source": [
    "tmp = pd.crosstab(paired_adata.obs['cell_type'], paired_adata.obs['sex'], normalize='columns').T\n",
    "\n",
    "# Plotting the stacked barplot\n",
    "ax = tmp.plot(kind='bar', stacked=True)\n",
    "\n",
    "# Annotating percentages\n",
    "for p in ax.patches:\n",
    "    width = p.get_width()\n",
    "    height = p.get_height()\n",
    "    x, y = p.get_xy()\n",
    "    ax.text(x + width / 2, y + height / 2, f'{height:.2%}', ha='center', va='center')\n",
    "\n",
    "# Adjusting legend\n",
    "ax.legend(title='cell_type', bbox_to_anchor=(1.35, 1), loc='upper right')\n",
    "# Adding y-axis label\n",
    "ax.set_ylabel('Cell Proportion')\n",
    "\n",
    "\n",
    "#plt.tight_layout()\n",
    "\n",
    "# Save the plot\n",
    "plt.savefig('stacked_barplot_with_percentages.png', bbox_inches='tight')\n",
    "# Show the plot\n",
    "plt.show()"
   ]
  },
  {
   "cell_type": "code",
   "execution_count": 59,
   "id": "f1e8007b-5b95-43f8-b4ca-85d5da89fb67",
   "metadata": {},
   "outputs": [],
   "source": [
    "val_counts = paired_adata.obs['cell_type'].value_counts()"
   ]
  },
  {
   "cell_type": "code",
   "execution_count": 60,
   "id": "510efca0-81d7-4ae4-9c4a-1e06decdb617",
   "metadata": {},
   "outputs": [
    {
     "data": {
      "text/plain": [
       "macrophage           104269\n",
       "CD4+ T cell           92487\n",
       "CD8+ T cell           70391\n",
       "epithelial cell       21038\n",
       "malignant cell        16939\n",
       "B cell                16853\n",
       "regulatory T cell     16458\n",
       "neutrophil             6146\n",
       "Name: cell_type, dtype: int64"
      ]
     },
     "execution_count": 60,
     "metadata": {},
     "output_type": "execute_result"
    }
   ],
   "source": [
    "import matplotlib.pyplot as plt\n",
    "fig,ax=plt.subplots(figsize = (1,4))\n",
    "ov.pl.cellproportion(adata=adata,celltype_clusters='clusters',\n",
    "                    groupby='age(days)',legend=True,ax=ax)"
   ]
  },
  {
   "cell_type": "markdown",
   "id": "bb0f92a1-9307-45cb-9d7e-50930d2c30ab",
   "metadata": {},
   "source": [
    "## SUMMARY \n",
    "- Filtered for male, female & tumor, normal_adjacent\n",
    "- Filtered and reclassified cells of interest: 'B cell','CD4+ T cell', 'CD8+ T cell', 'epithelial cell', 'macrophage', 'malignant cell', 'neutrophil', 'regulatory Tcell'\n",
    "- Filtered to exclude samples coming from NSCLC\n",
    "- Filtered for PAIRED SAMPLES (82 donor_id that have normal_adjacent and tumor_primary  samples)\n",
    "- KEEP LUADN AND LUSC"
   ]
  },
  {
   "cell_type": "code",
   "execution_count": null,
   "id": "cccf6dfa-c5ef-49f1-b639-6f7138af1732",
   "metadata": {},
   "outputs": [],
   "source": [
    "frac_by_condition = (\n",
    "    paired_adata.obs.groupby([\"dataset\", \"cell_type\", \"tumor_stage\", \"donor_id\",\"origin\"])\n",
    "    .apply(lambda x: x.value_counts(\"sex\", normalize=False))\n",
    "    .reset_index(name=\"n_cells\")\n",
    "    .assign(condition=lambda x: x[\"cell_type\"].astype(str))\n",
    ")"
   ]
  },
  {
   "cell_type": "code",
   "execution_count": null,
   "id": "704dbc8d-e692-4315-be5a-a0f9d2fef226",
   "metadata": {},
   "outputs": [],
   "source": [
    "frac_by_condition"
   ]
  },
  {
   "cell_type": "code",
   "execution_count": null,
   "id": "a2ed4207-dce8-4934-a46d-524e474115cd",
   "metadata": {
    "tags": []
   },
   "outputs": [],
   "source": [
    "frac_pivot = (\n",
    "    frac_by_condition.pivot(\n",
    "        index=[\"donor_id\", \"dataset\", \"sex\", \"tumor_stage\",\"origin\"],\n",
    "        columns=\"cell_type\",\n",
    "        values=\"n_cells\",\n",
    "    )\n",
    "    .reset_index()\n",
    "    #.drop(columns=\"other\")\n",
    ")\n"
   ]
  },
  {
   "cell_type": "code",
   "execution_count": null,
   "id": "7bf0f6f5-d031-4f25-ba4e-4868ed84fb90",
   "metadata": {},
   "outputs": [],
   "source": [
    "frac_pivot"
   ]
  },
  {
   "cell_type": "code",
   "execution_count": null,
   "id": "f39c1a91-d1fc-4605-9792-b81393184f5c",
   "metadata": {},
   "outputs": [],
   "source": [
    "data_all = dat.from_pandas(\n",
    "    frac_pivot, covariate_columns=[\"donor_id\", \"dataset\", \"sex\", \"tumor_stage\",\"origin\"]\n",
    ")"
   ]
  },
  {
   "cell_type": "code",
   "execution_count": null,
   "id": "ccc629cf-2aaf-4cf4-b200-442c83349218",
   "metadata": {},
   "outputs": [],
   "source": [
    "data_all.obs[\"sex\"] = pd.Categorical(\n",
    "    data_all.obs[\"sex\"], categories=[\"male\", \"female\"]\n",
    ")"
   ]
  },
  {
   "cell_type": "code",
   "execution_count": null,
   "id": "02f4bcda-a15f-489b-ac26-5b9e9306f2b3",
   "metadata": {},
   "outputs": [],
   "source": [
    "data_all._sanitize()"
   ]
  },
  {
   "cell_type": "code",
   "execution_count": null,
   "id": "66f2a703-0549-4d1c-a6d4-69af79220e51",
   "metadata": {},
   "outputs": [],
   "source": [
    "data_all"
   ]
  },
  {
   "cell_type": "code",
   "execution_count": null,
   "id": "f9f75b6a-b0ca-4ada-8da8-163730883332",
   "metadata": {},
   "outputs": [],
   "source": [
    "#data_all.write_h5ad(\"data_all.h5ad\")"
   ]
  },
  {
   "cell_type": "code",
   "execution_count": 5,
   "id": "4b975703-2661-4898-9c5c-5d6fecb969c2",
   "metadata": {},
   "outputs": [],
   "source": [
    "data_all = sc.read_h5ad(\"data_all.h5ad\")"
   ]
  },
  {
   "cell_type": "code",
   "execution_count": 36,
   "id": "a9090015-76a5-47c0-8dea-cd34c53d83de",
   "metadata": {},
   "outputs": [
    {
     "name": "stderr",
     "output_type": "stream",
     "text": [
      "/tmp/ipykernel_226175/1574092851.py:64: RuntimeWarning: invalid value encountered in divide\n",
      "  X = data.X/sample_sums\n"
     ]
    },
    {
     "data": {
      "image/png": "[encoded data removed]",
      "text/plain": [
       "<Figure size 1200x500 with 1 Axes>"
      ]
     },
     "metadata": {},
     "output_type": "display_data"
    }
   ],
   "source": [
    "boxplots(data_all, feature_name=\"sex\", figsize=(12, 5), cmap = \"inferno\")\n",
    "\n",
    "plt.savefig( \"cell_proportion_nosig.png\")\n"
   ]
  },
  {
   "cell_type": "code",
   "execution_count": null,
   "id": "beab7892-69b3-4212-a4d1-10f3111b724c",
   "metadata": {},
   "outputs": [],
   "source": [
    "pd.DataFrame.iteritems = pd.DataFrame.items"
   ]
  },
  {
   "cell_type": "code",
   "execution_count": 29,
   "id": "cc53014d-2580-4e6d-b2ab-d637ea4d2902",
   "metadata": {},
   "outputs": [
    {
     "name": "stderr",
     "output_type": "stream",
     "text": [
      "/tmp/ipykernel_226175/3619146285.py:64: RuntimeWarning: invalid value encountered in divide\n",
      "  X = data.X/sample_sums\n",
      "/home/kvalem/.conda/envs/scanpy/lib/python3.12/site-packages/seaborn/axisgrid.py:703: FutureWarning: iteritems is deprecated and will be removed in a future version. Use .items instead.\n",
      "  plot_args = [v for k, v in plot_data.iteritems()]\n",
      "/home/kvalem/.conda/envs/scanpy/lib/python3.12/site-packages/seaborn/axisgrid.py:703: FutureWarning: iteritems is deprecated and will be removed in a future version. Use .items instead.\n",
      "  plot_args = [v for k, v in plot_data.iteritems()]\n",
      "/home/kvalem/.conda/envs/scanpy/lib/python3.12/site-packages/seaborn/axisgrid.py:703: FutureWarning: iteritems is deprecated and will be removed in a future version. Use .items instead.\n",
      "  plot_args = [v for k, v in plot_data.iteritems()]\n",
      "/home/kvalem/.conda/envs/scanpy/lib/python3.12/site-packages/seaborn/axisgrid.py:703: FutureWarning: iteritems is deprecated and will be removed in a future version. Use .items instead.\n",
      "  plot_args = [v for k, v in plot_data.iteritems()]\n",
      "/home/kvalem/.conda/envs/scanpy/lib/python3.12/site-packages/seaborn/axisgrid.py:703: FutureWarning: iteritems is deprecated and will be removed in a future version. Use .items instead.\n",
      "  plot_args = [v for k, v in plot_data.iteritems()]\n",
      "/home/kvalem/.conda/envs/scanpy/lib/python3.12/site-packages/seaborn/axisgrid.py:703: FutureWarning: iteritems is deprecated and will be removed in a future version. Use .items instead.\n",
      "  plot_args = [v for k, v in plot_data.iteritems()]\n",
      "/home/kvalem/.conda/envs/scanpy/lib/python3.12/site-packages/seaborn/axisgrid.py:703: FutureWarning: iteritems is deprecated and will be removed in a future version. Use .items instead.\n",
      "  plot_args = [v for k, v in plot_data.iteritems()]\n",
      "/home/kvalem/.conda/envs/scanpy/lib/python3.12/site-packages/seaborn/axisgrid.py:703: FutureWarning: iteritems is deprecated and will be removed in a future version. Use .items instead.\n",
      "  plot_args = [v for k, v in plot_data.iteritems()]\n",
      "/home/kvalem/.conda/envs/scanpy/lib/python3.12/site-packages/seaborn/axisgrid.py:703: FutureWarning: iteritems is deprecated and will be removed in a future version. Use .items instead.\n",
      "  plot_args = [v for k, v in plot_data.iteritems()]\n",
      "/home/kvalem/.conda/envs/scanpy/lib/python3.12/site-packages/seaborn/axisgrid.py:703: FutureWarning: iteritems is deprecated and will be removed in a future version. Use .items instead.\n",
      "  plot_args = [v for k, v in plot_data.iteritems()]\n",
      "/home/kvalem/.conda/envs/scanpy/lib/python3.12/site-packages/seaborn/axisgrid.py:703: FutureWarning: iteritems is deprecated and will be removed in a future version. Use .items instead.\n",
      "  plot_args = [v for k, v in plot_data.iteritems()]\n",
      "/home/kvalem/.conda/envs/scanpy/lib/python3.12/site-packages/seaborn/axisgrid.py:703: FutureWarning: iteritems is deprecated and will be removed in a future version. Use .items instead.\n",
      "  plot_args = [v for k, v in plot_data.iteritems()]\n",
      "/home/kvalem/.conda/envs/scanpy/lib/python3.12/site-packages/seaborn/axisgrid.py:703: FutureWarning: iteritems is deprecated and will be removed in a future version. Use .items instead.\n",
      "  plot_args = [v for k, v in plot_data.iteritems()]\n",
      "/home/kvalem/.conda/envs/scanpy/lib/python3.12/site-packages/seaborn/axisgrid.py:703: FutureWarning: iteritems is deprecated and will be removed in a future version. Use .items instead.\n",
      "  plot_args = [v for k, v in plot_data.iteritems()]\n",
      "/home/kvalem/.conda/envs/scanpy/lib/python3.12/site-packages/seaborn/axisgrid.py:703: FutureWarning: iteritems is deprecated and will be removed in a future version. Use .items instead.\n",
      "  plot_args = [v for k, v in plot_data.iteritems()]\n",
      "/home/kvalem/.conda/envs/scanpy/lib/python3.12/site-packages/seaborn/axisgrid.py:703: FutureWarning: iteritems is deprecated and will be removed in a future version. Use .items instead.\n",
      "  plot_args = [v for k, v in plot_data.iteritems()]\n"
     ]
    },
    {
     "data": {
      "text/plain": [
       "<seaborn.axisgrid.FacetGrid at 0x14f93c031c70>"
      ]
     },
     "execution_count": 29,
     "metadata": {},
     "output_type": "execute_result"
    },
    {
     "data": {
      "image/png": "[encoded data removed]",
      "text/plain": [
       "<Figure size 2000x2000 with 8 Axes>"
      ]
     },
     "metadata": {},
     "output_type": "display_data"
    }
   ],
   "source": [
    "boxplots(\n",
    "    data_all,\n",
    "    feature_name=\"sex\",\n",
    "    plot_facets=True,\n",
    "   # y_scale=\"log\",\n",
    "    add_dots=True,\n",
    "    cmap=\"Reds\",\n",
    ")"
   ]
  },
  {
   "cell_type": "code",
   "execution_count": null,
   "id": "595d8379-5660-498a-a963-e6bed2d43fdc",
   "metadata": {},
   "outputs": [],
   "source": [
    "viz.boxplots(\n",
    "    data_all,\n",
    "    feature_name=\"sex\",\n",
    "    plot_facets=False,\n",
    "   # y_scale=\"log\",\n",
    "    add_dots=True,\n",
    "    cmap=\"Reds\",\n",
    ")"
   ]
  },
  {
   "cell_type": "code",
   "execution_count": null,
   "id": "238fc2e4-05cb-4789-bbef-6534dcee169a",
   "metadata": {},
   "outputs": [],
   "source": [
    "ax = viz.boxplots(\n",
    "    data_all,\n",
    "    feature_name=\"sex\",\n",
    "    plot_facets=True,\n",
    "   y_scale=\"log\",\n",
    "    #args_swarmplot= {hue:\"dataset\"},\n",
    "    add_dots=True,\n",
    "    cmap=\"Reds\",\n",
    ")\n",
    "\n"
   ]
  },
  {
   "cell_type": "code",
   "execution_count": 43,
   "id": "9f4788df-a642-4d20-b95c-d7c5dbb6ef4d",
   "metadata": {},
   "outputs": [
    {
     "data": {
      "text/html": [
       "<div>\n",
       "<style scoped>\n",
       "    .dataframe tbody tr th:only-of-type {\n",
       "        vertical-align: middle;\n",
       "    }\n",
       "\n",
       "    .dataframe tbody tr th {\n",
       "        vertical-align: top;\n",
       "    }\n",
       "\n",
       "    .dataframe thead th {\n",
       "        text-align: right;\n",
       "    }\n",
       "</style>\n",
       "<table border=\"1\" class=\"dataframe\">\n",
       "  <thead>\n",
       "    <tr style=\"text-align: right;\">\n",
       "      <th></th>\n",
       "      <th>donor_id</th>\n",
       "      <th>dataset</th>\n",
       "      <th>sex</th>\n",
       "      <th>tumor_stage</th>\n",
       "      <th>origin</th>\n",
       "    </tr>\n",
       "  </thead>\n",
       "  <tbody>\n",
       "    <tr>\n",
       "      <th>0</th>\n",
       "      <td>Goveia_Carmeliet_2020_patient_45</td>\n",
       "      <td>Goveia_Carmeliet_2020</td>\n",
       "      <td>female</td>\n",
       "      <td>early</td>\n",
       "      <td>normal_adjacent</td>\n",
       "    </tr>\n",
       "    <tr>\n",
       "      <th>1</th>\n",
       "      <td>Goveia_Carmeliet_2020_patient_45</td>\n",
       "      <td>Goveia_Carmeliet_2020</td>\n",
       "      <td>female</td>\n",
       "      <td>early</td>\n",
       "      <td>tumor_primary</td>\n",
       "    </tr>\n",
       "    <tr>\n",
       "      <th>2</th>\n",
       "      <td>Goveia_Carmeliet_2020_patient_45</td>\n",
       "      <td>Goveia_Carmeliet_2020</td>\n",
       "      <td>male</td>\n",
       "      <td>early</td>\n",
       "      <td>normal_adjacent</td>\n",
       "    </tr>\n",
       "    <tr>\n",
       "      <th>3</th>\n",
       "      <td>Goveia_Carmeliet_2020_patient_45</td>\n",
       "      <td>Goveia_Carmeliet_2020</td>\n",
       "      <td>male</td>\n",
       "      <td>early</td>\n",
       "      <td>tumor_primary</td>\n",
       "    </tr>\n",
       "    <tr>\n",
       "      <th>4</th>\n",
       "      <td>Goveia_Carmeliet_2020_patient_46</td>\n",
       "      <td>Goveia_Carmeliet_2020</td>\n",
       "      <td>female</td>\n",
       "      <td>early</td>\n",
       "      <td>normal_adjacent</td>\n",
       "    </tr>\n",
       "    <tr>\n",
       "      <th>...</th>\n",
       "      <td>...</td>\n",
       "      <td>...</td>\n",
       "      <td>...</td>\n",
       "      <td>...</td>\n",
       "      <td>...</td>\n",
       "    </tr>\n",
       "    <tr>\n",
       "      <th>231</th>\n",
       "      <td>UKIM-V_P1</td>\n",
       "      <td>UKIM-V</td>\n",
       "      <td>male</td>\n",
       "      <td>early</td>\n",
       "      <td>tumor_primary</td>\n",
       "    </tr>\n",
       "    <tr>\n",
       "      <th>232</th>\n",
       "      <td>UKIM-V_P3</td>\n",
       "      <td>UKIM-V</td>\n",
       "      <td>female</td>\n",
       "      <td>early</td>\n",
       "      <td>normal_adjacent</td>\n",
       "    </tr>\n",
       "    <tr>\n",
       "      <th>233</th>\n",
       "      <td>UKIM-V_P3</td>\n",
       "      <td>UKIM-V</td>\n",
       "      <td>female</td>\n",
       "      <td>early</td>\n",
       "      <td>tumor_primary</td>\n",
       "    </tr>\n",
       "    <tr>\n",
       "      <th>234</th>\n",
       "      <td>UKIM-V_P3</td>\n",
       "      <td>UKIM-V</td>\n",
       "      <td>male</td>\n",
       "      <td>early</td>\n",
       "      <td>normal_adjacent</td>\n",
       "    </tr>\n",
       "    <tr>\n",
       "      <th>235</th>\n",
       "      <td>UKIM-V_P3</td>\n",
       "      <td>UKIM-V</td>\n",
       "      <td>male</td>\n",
       "      <td>early</td>\n",
       "      <td>tumor_primary</td>\n",
       "    </tr>\n",
       "  </tbody>\n",
       "</table>\n",
       "<p>236 rows × 5 columns</p>\n",
       "</div>"
      ],
      "text/plain": [
       "                             donor_id                dataset     sex  \\\n",
       "0    Goveia_Carmeliet_2020_patient_45  Goveia_Carmeliet_2020  female   \n",
       "1    Goveia_Carmeliet_2020_patient_45  Goveia_Carmeliet_2020  female   \n",
       "2    Goveia_Carmeliet_2020_patient_45  Goveia_Carmeliet_2020    male   \n",
       "3    Goveia_Carmeliet_2020_patient_45  Goveia_Carmeliet_2020    male   \n",
       "4    Goveia_Carmeliet_2020_patient_46  Goveia_Carmeliet_2020  female   \n",
       "..                                ...                    ...     ...   \n",
       "231                         UKIM-V_P1                 UKIM-V    male   \n",
       "232                         UKIM-V_P3                 UKIM-V  female   \n",
       "233                         UKIM-V_P3                 UKIM-V  female   \n",
       "234                         UKIM-V_P3                 UKIM-V    male   \n",
       "235                         UKIM-V_P3                 UKIM-V    male   \n",
       "\n",
       "    tumor_stage           origin  \n",
       "0         early  normal_adjacent  \n",
       "1         early    tumor_primary  \n",
       "2         early  normal_adjacent  \n",
       "3         early    tumor_primary  \n",
       "4         early  normal_adjacent  \n",
       "..          ...              ...  \n",
       "231       early    tumor_primary  \n",
       "232       early  normal_adjacent  \n",
       "233       early    tumor_primary  \n",
       "234       early  normal_adjacent  \n",
       "235       early    tumor_primary  \n",
       "\n",
       "[236 rows x 5 columns]"
      ]
     },
     "execution_count": 43,
     "metadata": {},
     "output_type": "execute_result"
    }
   ],
   "source": [
    "data_all.obs"
   ]
  },
  {
   "cell_type": "code",
   "execution_count": null,
   "id": "1d73094f-5203-4110-a386-2a2f04b59bf9",
   "metadata": {},
   "outputs": [],
   "source": []
  },
  {
   "cell_type": "code",
   "execution_count": null,
   "id": "07ac56ec-fecc-4cf7-a8ea-22fffd9539c8",
   "metadata": {},
   "outputs": [],
   "source": [
    "import numpy as np"
   ]
  },
  {
   "cell_type": "code",
   "execution_count": null,
   "id": "875d3463-de16-4a8b-89e6-c073c6607185",
   "metadata": {},
   "outputs": [],
   "source": [
    "data = data_all\n",
    "feature_name=\"sex\"\n",
    "y_scale = \"relative\"\n",
    "plot_facets= True\n",
    "add_dots= True\n",
    "cell_types = None\n",
    "args_boxplot= {}\n",
    "args_swarmplot= {}\n",
    "figsize= None\n",
    "dpi= 100\n",
    "cmap= \"Blues\"\n",
    "plot_legend = True\n",
    "level_order = None"
   ]
  },
  {
   "cell_type": "code",
   "execution_count": null,
   "id": "736095a0-3c6e-4a92-8ffa-ff9594040346",
   "metadata": {},
   "outputs": [],
   "source": []
  },
  {
   "cell_type": "code",
   "execution_count": null,
   "id": "de5ec8ca-0ed6-4036-9aa0-fead02fb36e9",
   "metadata": {},
   "outputs": [],
   "source": []
  },
  {
   "cell_type": "code",
   "execution_count": null,
   "id": "dc50a8f7-a32f-426f-9271-767389844185",
   "metadata": {},
   "outputs": [],
   "source": [
    "#plot_df.to_csv(\"plot_df.csv\")"
   ]
  },
  {
   "cell_type": "code",
   "execution_count": 38,
   "id": "3375dd98-8f9d-4f5d-b881-fdbfa5d7d45e",
   "metadata": {},
   "outputs": [],
   "source": [
    "plot_df  = pd.read_csv(\"plot_df.csv\", index_col=0)"
   ]
  },
  {
   "cell_type": "code",
   "execution_count": null,
   "id": "136699ed-ca03-473f-b52c-8235f96f8c23",
   "metadata": {},
   "outputs": [],
   "source": [
    "annot.configure()"
   ]
  },
  {
   "cell_type": "code",
   "execution_count": null,
   "id": "92dfd4c0-c458-43a5-9830-fc80404c95fe",
   "metadata": {},
   "outputs": [],
   "source": [
    "import pandas as pd\n",
    "import numpy as np\n",
    "import seaborn as sns\n",
    "import matplotlib.pyplot as plt\n",
    "from statannotations.Annotator import Annotator\n",
    "\n",
    "# Assuming 'data_all' is already defined\n",
    "data = data_all\n",
    "feature_name = \"sex\"\n",
    "y_scale = \"relative\"\n",
    "plot_facets = True\n",
    "add_dots = True\n",
    "cell_types = None\n",
    "args_boxplot = {}\n",
    "args_swarmplot = {}\n",
    "figsize = None\n",
    "dpi = 100\n",
    "cmap = \"Blues\"\n",
    "plot_legend = True\n",
    "level_order = None\n",
    "\n",
    "sample_sums = np.sum(data.X, axis=1, keepdims=True)\n",
    "X = data.X / sample_sums\n",
    "value_name = \"Proportion\"\n",
    "\n",
    "count_df = pd.DataFrame(X, columns=data.var.index, index=data.obs.index).\\\n",
    "    merge(data.obs[feature_name], left_index=True, right_index=True)\n",
    "plot_df = pd.melt(count_df, id_vars=feature_name, var_name=\"Cell type\", value_name=value_name)\n",
    "if cell_types is not None:\n",
    "    plot_df = plot_df[plot_df[\"Cell type\"].isin(cell_types)]\n",
    "\n",
    "pairs = [(\"male\", \"female\")]  # Define pairs for statistical comparisons\n",
    "\n",
    "if plot_facets:\n",
    "\n",
    "    if level_order is None:\n",
    "        level_order = pd.unique(plot_df[feature_name])\n",
    "\n",
    "    K = X.shape[1]\n",
    "\n",
    "    g = sns.FacetGrid(\n",
    "        plot_df,\n",
    "        col=\"Cell type\",\n",
    "        sharey=False,\n",
    "        col_wrap=int(np.floor(np.sqrt(K))),\n",
    "        height=5,\n",
    "        aspect=2,\n",
    "    )\n",
    "    \n",
    "    g.map(\n",
    "        sns.boxplot,\n",
    "        feature_name,\n",
    "        value_name,\n",
    "        palette=cmap,\n",
    "        order=level_order,\n",
    "        **args_boxplot\n",
    "    )\n",
    "   \n",
    "    for ax in g.axes.flat:\n",
    "        cell_type = ax.get_title().split(' = ')[-1]\n",
    "        sub_df = plot_df[plot_df[\"Cell type\"] == cell_type]\n",
    "        annot = Annotator(ax, pairs, data=sub_df, x=feature_name, y=value_name, order=level_order)\n",
    "        annot.configure(test='t-test_ind', text_format='simple', loc='inside', verbose=2)\n",
    "        annot.apply_and_annotate()\n",
    "\n",
    "    if add_dots:\n",
    "\n",
    "        if \"hue\" in args_swarmplot:\n",
    "            hue = args_swarmplot.pop(\"hue\")\n",
    "        else:\n",
    "            hue = None\n",
    "\n",
    "        if hue is None:\n",
    "            g.map(\n",
    "                sns.swarmplot,\n",
    "                feature_name,\n",
    "                value_name,\n",
    "                color=\"black\",\n",
    "                order=level_order,\n",
    "                **args_swarmplot\n",
    "            ).set_titles(\"{col_name}\")\n",
    "        else:\n",
    "            g.map(\n",
    "                sns.swarmplot,\n",
    "                feature_name,\n",
    "                value_name,\n",
    "                hue,\n",
    "                order=level_order,\n",
    "                **args_swarmplot\n",
    "            ).set_titles(\"{col_name}\")\n",
    "\n",
    "   # plt.tight_layout()\n",
    "\n",
    "else:\n",
    "\n",
    "    if level_order:\n",
    "        args_boxplot[\"hue_order\"] = level_order\n",
    "        args_swarmplot[\"hue_order\"] = level_order\n",
    "\n",
    "    fig, ax = plt.subplots(figsize=figsize, dpi=dpi)\n",
    "\n",
    "    sns.boxplot(x=\"Cell type\", y=value_name, hue=feature_name, data=plot_df, fliersize=1,\n",
    "                palette=cmap, ax=ax, **args_boxplot)\n",
    "\n",
    "    annot = Annotator(ax, pairs, data=plot_df, x=\"Cell type\", y=value_name, hue=feature_name, order=level_order)\n",
    "    annot.configure(test='t-test_ind', text_format='simple', loc='inside', verbose=2)\n",
    "    annot.apply_and_annotate()\n",
    "\n",
    "    if add_dots:\n",
    "        sns.swarmplot(\n",
    "            x=\"Cell type\",\n",
    "            y=value_name,\n",
    "            data=plot_df,\n",
    "            hue=feature_name,\n",
    "            ax=ax,\n",
    "            dodge=True,\n",
    "            color=\"black\",\n",
    "            **args_swarmplot\n",
    "        )\n",
    "\n",
    "    cell_types = pd.unique(plot_df[\"Cell type\"])\n",
    "    ax.set_xticklabels(cell_types, rotation=90)\n",
    "\n",
    "    if plot_legend:\n",
    "        handles, labels = ax.get_legend_handles_labels()\n",
    "        handout = []\n",
    "        labelout = []\n",
    "        for h, l in zip(handles, labels):\n",
    "            if l not in labelout:\n",
    "                labelout.append(l)\n",
    "                handout.append(h)\n",
    "        ax.legend(handout, labelout, loc='upper left', bbox_to_anchor=(1, 1), ncol=1, title=feature_name)\n",
    "\n",
    "    plt.tight_layout()\n",
    "\n",
    "plt.show()\n",
    "g.savefig('cell_prop.svg')  "
   ]
  },
  {
   "cell_type": "code",
   "execution_count": null,
   "id": "f4905e7d-2155-4869-9566-c3411364a4d8",
   "metadata": {},
   "outputs": [],
   "source": []
  },
  {
   "cell_type": "code",
   "execution_count": null,
   "id": "b988b14b-5aa6-42c7-b1ae-f3fe84de4f21",
   "metadata": {},
   "outputs": [],
   "source": []
  },
  {
   "cell_type": "code",
   "execution_count": null,
   "id": "95aff52b-4bf0-4f4e-820e-af2732bcd458",
   "metadata": {},
   "outputs": [],
   "source": []
  },
  {
   "cell_type": "code",
   "execution_count": 12,
   "id": "d793063b-b79a-40a3-9863-1509fe380bda",
   "metadata": {},
   "outputs": [],
   "source": [
    "from matplotlib import cm, rcParams\n",
    "\n",
    "import numpy as np\n",
    "import pandas as pd\n",
    "import matplotlib.pyplot as plt\n",
    "import seaborn as sns\n",
    "from matplotlib import cm, rcParams\n",
    "from matplotlib.colors import ListedColormap\n",
    "\n",
    "from anndata import AnnData\n",
    "from typing import Optional, Tuple, Collection, Union, List\n",
    "\n",
    "sns.set_style(\"ticks\")"
   ]
  },
  {
   "cell_type": "markdown",
   "id": "c94cc44c-7423-4661-b4d9-38f8ccc2f958",
   "metadata": {},
   "source": [
    "### STACK BAR"
   ]
  },
  {
   "cell_type": "code",
   "execution_count": 13,
   "id": "2e1ded35-e679-44d3-9e63-168ee824651f",
   "metadata": {},
   "outputs": [],
   "source": [
    "def stackbar(\n",
    "        y: np.ndarray,\n",
    "        type_names: List[str],\n",
    "        title: str,\n",
    "        level_names: List[str],\n",
    "        figsize: Optional[Tuple[int, int]] = None,\n",
    "        dpi: Optional[int] = 100,\n",
    "        cmap: Optional[ListedColormap] = cm.tab20,\n",
    "        plot_legend: Optional[bool] = True,\n",
    ") -> plt.Subplot:\n",
    "    \"\"\"\n",
    "    Plots a stacked barplot for one (discrete) covariate\n",
    "    Typical use (only inside stacked_barplot): plot_one_stackbar(data.X, data.var.index, \"xyz\", data.obs.index)\n",
    "\n",
    "    Parameters\n",
    "    ----------\n",
    "    y\n",
    "        The count data, collapsed onto the level of interest. i.e. a binary covariate has two rows, one for each group, containing the count\n",
    "        mean of each cell type\n",
    "    type_names\n",
    "        The names of all cell types\n",
    "    title\n",
    "        Plot title, usually the covariate's name\n",
    "    level_names\n",
    "        names of the covariate's levels\n",
    "    figsize\n",
    "        figure size\n",
    "    dpi\n",
    "        dpi setting\n",
    "    cmap\n",
    "        The color map for the barplot\n",
    "    plot_legend\n",
    "        If True, adds a legend\n",
    "\n",
    "    Returns\n",
    "    -------\n",
    "    Returns a plot\n",
    "\n",
    "    ax\n",
    "        a plot\n",
    "\n",
    "    \"\"\"\n",
    "    n_bars, n_types = y.shape\n",
    "\n",
    "    figsize = rcParams[\"figure.figsize\"] if figsize is None else figsize\n",
    "\n",
    "    fig, ax = plt.subplots(figsize=figsize, dpi=dpi)\n",
    "    r = np.array(range(n_bars))\n",
    "    sample_sums = np.sum(y, axis=1)\n",
    "\n",
    "    barwidth = 0.85\n",
    "    cum_bars = np.zeros(n_bars)\n",
    "\n",
    "    for n in range(n_types):\n",
    "        bars = [i / j * 100 for i, j in zip([y[k][n] for k in range(n_bars)], sample_sums)]\n",
    "        plt.bar(r, bars, bottom=cum_bars, color=cmap(n % cmap.N), width=barwidth, label=type_names[n], linewidth=0)\n",
    "        cum_bars += bars\n",
    "\n",
    "    ax.set_title(title)\n",
    "    if plot_legend:\n",
    "        ax.legend(loc='upper left', bbox_to_anchor=(1, 1), ncol=1)\n",
    "    ax.set_xticks(r)\n",
    "    ax.set_xticklabels(level_names, rotation=45)\n",
    "    ax.set_ylabel(\"Proportion\")\n",
    "\n",
    "    return ax\n"
   ]
  },
  {
   "cell_type": "code",
   "execution_count": 24,
   "id": "728f9020-8512-49c5-b57a-d0a2ea85c874",
   "metadata": {},
   "outputs": [],
   "source": [
    "data = data_all\n",
    "feature_name = \"sex\"\n",
    "figsize = None\n",
    "plot_legend  = True,\n",
    "level_order = None\n",
    "dpi=100\n",
    "cmap = cm.tab20"
   ]
  },
  {
   "cell_type": "code",
   "execution_count": 34,
   "id": "3a204022-4677-4a9d-9a79-4ea2db6fbdba",
   "metadata": {},
   "outputs": [],
   "source": [
    "def boxplots(\n",
    "        data: AnnData,\n",
    "        feature_name: str,\n",
    "        y_scale: str = \"relative\",\n",
    "        plot_facets: bool = False,\n",
    "        add_dots: bool = False,\n",
    "        cell_types: Optional[list] = None,\n",
    "        args_boxplot: Optional[dict] = {},\n",
    "        args_swarmplot: Optional[dict] = {},\n",
    "        figsize: Optional[Tuple[int, int]] = None,\n",
    "        dpi: Optional[int] = 100,\n",
    "        cmap: Optional[str] = \"Blues\",\n",
    "        plot_legend: Optional[bool] = True,\n",
    "        level_order: List[str] = None\n",
    ") -> Optional[Tuple[plt.Subplot, sns.axisgrid.FacetGrid]]:\n",
    "    \"\"\"\\\n",
    "    Grouped boxplot visualization. The cell counts for each cell type are shown as a group of boxplots,\n",
    "    with intra--group separation by a covariate from data.obs.\n",
    "\n",
    "    The cell type groups can either be ordered along the x-axis of a single plot (plot_facets=False) or as plot facets (plot_facets=True).\n",
    "\n",
    "    Parameters\n",
    "    ----------\n",
    "    data\n",
    "        A scCODA-compatible data object\n",
    "    feature_name\n",
    "        The name of the feature in data.obs to plot\n",
    "    y_scale\n",
    "        Transformation to of cell counts. Options: \"relative\" - Relative abundance, \"log\" - log(count), \"count\" - absolute abundance (cell counts)\n",
    "    plot_facets\n",
    "        If False, plot cell types on the x-axis. If True, plot as facets\n",
    "    add_dots\n",
    "        If True, overlay a scatterplot with one dot for each data point\n",
    "    cell_types\n",
    "        Subset of cell types that should be plotted\n",
    "    args_boxplot\n",
    "        Arguments passed to sns.boxplot\n",
    "    args_swarmplot\n",
    "            Arguments passed to sns.swarmplot\n",
    "    figsize\n",
    "        figure size\n",
    "    dpi\n",
    "        dpi setting\n",
    "    cmap\n",
    "        The seaborn color map for the barplot\n",
    "    plot_legend\n",
    "        If True, adds a legend\n",
    "    level_order\n",
    "        Custom ordering of bars on the x-axis\n",
    "\n",
    "    Returns\n",
    "    -------\n",
    "    Depending on `plot_facets`, returns a :class:`~plt.AxesSubplot` (`plot_facets = False`) or :class:`~sns.axisgrid.FacetGrid` (`plot_facets = True`) object\n",
    "\n",
    "    ax\n",
    "        if `plot_facets = False`\n",
    "    g\n",
    "        if `plot_facets = True`\n",
    "    \"\"\"\n",
    "\n",
    "    # y scale transformations\n",
    "    if y_scale == \"relative\":\n",
    "        sample_sums = np.sum(data.X, axis=1, keepdims=True)\n",
    "        X = data.X/sample_sums\n",
    "        value_name = \"Proportion\"\n",
    "    # add pseudocount 1 if using log scale (needs to be improved)\n",
    "    elif y_scale == \"log\":\n",
    "        X = np.log(data.X + 1)\n",
    "        value_name = \"log(count)\"\n",
    "    elif y_scale == \"count\":\n",
    "        X = data.X\n",
    "        value_name = \"count\"\n",
    "    else:\n",
    "        raise ValueError(\"Invalid y_scale transformation\")\n",
    "\n",
    "    count_df = pd.DataFrame(X, columns=data.var.index, index=data.obs.index).\\\n",
    "        merge(data.obs[feature_name], left_index=True, right_index=True)\n",
    "    plot_df = pd.melt(count_df, id_vars=feature_name, var_name=\"Cell type\", value_name=value_name)\n",
    "    if cell_types is not None:\n",
    "        plot_df = plot_df[plot_df[\"Cell type\"].isin(cell_types)]\n",
    "\n",
    "    if plot_facets:\n",
    "\n",
    "        if level_order is None:\n",
    "            level_order = pd.unique(plot_df[feature_name])\n",
    "\n",
    "        K = X.shape[1]\n",
    "\n",
    "        g = sns.FacetGrid(\n",
    "            plot_df,\n",
    "            col=\"Cell type\",\n",
    "            sharey=False,\n",
    "            col_wrap=int(np.floor(np.sqrt(K))),\n",
    "            height=5,\n",
    "            aspect=2,\n",
    "        )\n",
    "        g.map(\n",
    "            sns.boxplot,\n",
    "            feature_name,\n",
    "            value_name,\n",
    "            palette=cmap,\n",
    "            order=level_order,\n",
    "            **args_boxplot\n",
    "        )\n",
    "\n",
    "        if add_dots:\n",
    "\n",
    "            if \"hue\" in args_swarmplot:\n",
    "                hue = args_swarmplot.pop(\"hue\")\n",
    "            else:\n",
    "                hue = None\n",
    "\n",
    "            if hue is None:\n",
    "                g.map(\n",
    "                    sns.swarmplot,\n",
    "                    feature_name,\n",
    "                    value_name,\n",
    "                    color=\"black\",\n",
    "                    order=level_order,\n",
    "                    **args_swarmplot\n",
    "                ).set_titles(\"{col_name}\")\n",
    "            else:\n",
    "                g.map(\n",
    "                    sns.swarmplot,\n",
    "                    feature_name,\n",
    "                    value_name,\n",
    "                    hue,\n",
    "                    order=level_order,\n",
    "                    **args_swarmplot\n",
    "                ).set_titles(\"{col_name}\")\n",
    "\n",
    "        return g\n",
    "\n",
    "    else:\n",
    "\n",
    "        if level_order:\n",
    "            args_boxplot[\"hue_order\"] = level_order\n",
    "            args_swarmplot[\"hue_order\"] = level_order\n",
    "\n",
    "        fig, ax = plt.subplots(figsize=figsize, dpi=dpi)\n",
    "\n",
    "        sns.boxplot(x=\"Cell type\", y=value_name, hue=feature_name, data=plot_df, fliersize=1,\n",
    "                    palette=cmap, ax=ax, **args_boxplot)\n",
    "\n",
    "        if add_dots:\n",
    "            sns.swarmplot(\n",
    "                x=\"Cell type\",\n",
    "                y=value_name,\n",
    "                data=plot_df,\n",
    "                hue=feature_name,\n",
    "                ax=ax,\n",
    "                dodge=True,\n",
    "                color=\"black\",\n",
    "                **args_swarmplot\n",
    "            )\n",
    "\n",
    "        cell_types = pd.unique(plot_df[\"Cell type\"])\n",
    "        ax.set_xticklabels(cell_types, rotation=90)\n",
    "\n",
    "        if plot_legend:\n",
    "            handles, labels = ax.get_legend_handles_labels()\n",
    "            handout = []\n",
    "            labelout = []\n",
    "            for h, l in zip(handles, labels):\n",
    "                if l not in labelout:\n",
    "                    labelout.append(l)\n",
    "                    handout.append(h)\n",
    "            ax.legend(handout, labelout, loc='upper left', bbox_to_anchor=(1, 1), ncol=1, title=feature_name)\n",
    "\n",
    "        plt.tight_layout()\n",
    "\n",
    "        return ax\n",
    "\n"
   ]
  },
  {
   "cell_type": "code",
   "execution_count": 40,
   "id": "828fb76a-5f54-4176-b259-fea3a1043e59",
   "metadata": {},
   "outputs": [
    {
     "data": {
      "text/plain": [
       "sex     Cell type       Proportion\n",
       "male    macrophage      0.680452      1\n",
       "        malignant cell  0.000893      1\n",
       "                        0.001715      1\n",
       "                        0.005329      1\n",
       "                        0.005385      1\n",
       "                                     ..\n",
       "female  B cell          0.009368      1\n",
       "                        0.014679      1\n",
       "                        0.020528      1\n",
       "                        0.020615      1\n",
       "                        0.022042      1\n",
       "Length: 288, dtype: int64"
      ]
     },
     "execution_count": 40,
     "metadata": {},
     "output_type": "execute_result"
    }
   ],
   "source": [
    "plot_df.value_counts()"
   ]
  },
  {
   "cell_type": "code",
   "execution_count": null,
   "id": "e77bff9c-4e85-448a-8439-030e3f7b70cf",
   "metadata": {},
   "outputs": [],
   "source": []
  }
 ],
 "metadata": {
  "kernelspec": {
   "display_name": "scanpy",
   "language": "python",
   "name": "scanpy"
  },
  "language_info": {
   "codemirror_mode": {
    "name": "ipython",
    "version": 3
   },
   "file_extension": ".py",
   "mimetype": "text/x-python",
   "name": "python",
   "nbconvert_exporter": "python",
   "pygments_lexer": "ipython3",
   "version": "3.12.3"
  }
 },
 "nbformat": 4,
 "nbformat_minor": 5
}
