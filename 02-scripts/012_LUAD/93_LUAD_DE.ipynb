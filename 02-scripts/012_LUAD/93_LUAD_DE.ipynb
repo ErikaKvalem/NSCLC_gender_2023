{
 "cells": [
  {
   "cell_type": "code",
   "execution_count": 1,
   "id": "e16bdcee-7ae7-474f-ad5a-d2c97a4bf5bd",
   "metadata": {},
   "outputs": [
    {
     "name": "stderr",
     "output_type": "stream",
     "text": [
      "/home/kvalem/.local/lib/python3.11/site-packages/numba/core/cpu.py:99: UserWarning: Numba extension module 'awkward.numba' failed to load due to 'ModuleNotFoundError(No module named 'importlib_metadata')'.\n",
      "  numba.core.entrypoints.init_all()\n"
     ]
    }
   ],
   "source": [
    "import warnings\n",
    "import os\n",
    "from pathlib import Path \n",
    "import pandas as pd\n",
    "import scanpy as sc\n",
    "import numpy as np\n",
    "import matplotlib.pyplot as plt\n",
    "import altair as alt\n",
    "import anndata\n",
    "from pydeseq2.dds import DeseqDataSet\n",
    "from pydeseq2.ds import DeseqStats\n",
    "import decoupler as dc\n",
    "import itertools\n",
    "from scipy import sparse\n",
    "#import lib.data_helpers as dh\n",
    "\n",
    "#import lib.scanpy_helpers as sh\n",
    "#import lib.pl.util as pu"
   ]
  },
  {
   "cell_type": "code",
   "execution_count": 2,
   "id": "22f47bd7-6b63-406c-90be-1976dde7e6c0",
   "metadata": {},
   "outputs": [],
   "source": [
    "path = \"/data/projects/2023/LCBiome/nsclc_gender_atlas_tmp/out/011_analysis_paired_remove_xy/pseudobulk/\"\n",
    "resDir_figures = \"/data/projects/2023/LCBiome/nsclc_gender_atlas_tmp/out/012_LUAD/03012025/figures/LUAD_DE/\"\n",
    "resDir_tables = \"/data/projects/2023/LCBiome/nsclc_gender_atlas_tmp/out/012_LUAD/03012025/tables/LUAD_DE/\"\n",
    "input_path = f\"{path}/paired_adata_clean.h5ad\""
   ]
  },
  {
   "cell_type": "code",
   "execution_count": 3,
   "id": "b302a5bc-a55e-4546-8e09-df95182918ca",
   "metadata": {},
   "outputs": [],
   "source": [
    "#adata = sc.read_h5ad(input_path) "
   ]
  },
  {
   "cell_type": "code",
   "execution_count": 4,
   "id": "96cdf2b8-6b2a-4e24-87b1-4459666b96eb",
   "metadata": {},
   "outputs": [],
   "source": [
    "adata = sc.read_h5ad(\"/data/projects/2023/LCBiome/nsclc_gender_atlas_tmp/out/012_LUAD/old/pseudobulk/paired_adata_clean_luad_all_cell_type.h5ad\")"
   ]
  },
  {
   "cell_type": "code",
   "execution_count": 5,
   "id": "66bc75d2-19e1-43ff-8bd2-2d9a57ded167",
   "metadata": {},
   "outputs": [
    {
     "name": "stdout",
     "output_type": "stream",
     "text": [
      "standardized_cell_type\n",
      "macrophage           104271\n",
      "CD4+ T cell           94503\n",
      "CD8+ T cell           72603\n",
      "epithelial cell       21039\n",
      "malignant cell        16939\n",
      "B cell                16853\n",
      "regulatory T cell     16785\n",
      "dendritic cell        16702\n",
      "endothelial cell      16150\n",
      "plasma cell           15096\n",
      "neutrophil             6146\n",
      "fibroblast             4674\n",
      "Name: count, dtype: int64\n"
     ]
    }
   ],
   "source": [
    "# Define the cell types to keep\n",
    "selected_cell_types = {\n",
    "    'macrophage',\n",
    "    'CD4+ T cell',\n",
    "    'CD8+ T cell',\n",
    "    'B cell',\n",
    "    'malignant cell',\n",
    "    'regulatory T cell',\n",
    "    'epithelial cell',\n",
    "    'neutrophil',\n",
    "    'dendritic cell',\n",
    "    'plasma cell',\n",
    "    'endothelial cell',\n",
    "    'fibroblast'\n",
    "}\n",
    "\n",
    "# Mapping for synonymous cell types in adata\n",
    "cell_type_mapping = {\n",
    "    'fibroblast of lung': 'fibroblast',\n",
    "    'vein endothelial cell': 'endothelial cell',\n",
    "    'capillary endothelial cell': 'endothelial cell',\n",
    "    'pulmonary artery endothelial cell': 'endothelial cell',\n",
    "    'endothelial cell of lymphatic vessel': 'endothelial cell',\n",
    "    'conventional dendritic cell': 'dendritic cell',\n",
    "    'CD1c-positive myeloid dendritic cell': 'dendritic cell',\n",
    "    'plasmacytoid dendritic cell': 'dendritic cell',\n",
    "    'bronchus fibroblast of lung': 'fibroblast'\n",
    "}\n",
    "\n",
    "# Standardize cell types based on mapping\n",
    "adata.obs['standardized_cell_type'] = adata.obs['cell_type'].replace(cell_type_mapping)\n",
    "\n",
    "# Filter adata to keep only selected cell types\n",
    "adata = adata[adata.obs['standardized_cell_type'].isin(selected_cell_types)].copy()\n",
    "\n",
    "# Verify result\n",
    "print(adata.obs['standardized_cell_type'].value_counts())\n"
   ]
  },
  {
   "cell_type": "markdown",
   "id": "d80dd4a4-e7e9-4b10-af92-17fa7b97f02c",
   "metadata": {},
   "source": [
    "## There are malignant cells in normal_adjacent samples\n",
    "Comming from 59 different patients and 14 datasets\n",
    "I cannot give an explanation for this so i remove this \"mislalbeled\" cells "
   ]
  },
  {
   "cell_type": "code",
   "execution_count": 6,
   "id": "456f79b3-729a-42e3-9a36-b248d431f319",
   "metadata": {},
   "outputs": [],
   "source": [
    "grouped = adata.obs.groupby(['standardized_cell_type', 'origin']).size().reset_index(name='cell_count')"
   ]
  },
  {
   "cell_type": "code",
   "execution_count": 7,
   "id": "09f280ae-168e-4771-b732-822d128e42f6",
   "metadata": {},
   "outputs": [
    {
     "data": {
      "text/html": [
       "<div>\n",
       "<style scoped>\n",
       "    .dataframe tbody tr th:only-of-type {\n",
       "        vertical-align: middle;\n",
       "    }\n",
       "\n",
       "    .dataframe tbody tr th {\n",
       "        vertical-align: top;\n",
       "    }\n",
       "\n",
       "    .dataframe thead th {\n",
       "        text-align: right;\n",
       "    }\n",
       "</style>\n",
       "<table border=\"1\" class=\"dataframe\">\n",
       "  <thead>\n",
       "    <tr style=\"text-align: right;\">\n",
       "      <th></th>\n",
       "      <th>standardized_cell_type</th>\n",
       "      <th>origin</th>\n",
       "      <th>cell_count</th>\n",
       "    </tr>\n",
       "  </thead>\n",
       "  <tbody>\n",
       "    <tr>\n",
       "      <th>0</th>\n",
       "      <td>epithelial cell</td>\n",
       "      <td>normal_adjacent</td>\n",
       "      <td>4957</td>\n",
       "    </tr>\n",
       "    <tr>\n",
       "      <th>1</th>\n",
       "      <td>epithelial cell</td>\n",
       "      <td>tumor_primary</td>\n",
       "      <td>16082</td>\n",
       "    </tr>\n",
       "    <tr>\n",
       "      <th>2</th>\n",
       "      <td>macrophage</td>\n",
       "      <td>normal_adjacent</td>\n",
       "      <td>65453</td>\n",
       "    </tr>\n",
       "    <tr>\n",
       "      <th>3</th>\n",
       "      <td>macrophage</td>\n",
       "      <td>tumor_primary</td>\n",
       "      <td>38818</td>\n",
       "    </tr>\n",
       "    <tr>\n",
       "      <th>4</th>\n",
       "      <td>B cell</td>\n",
       "      <td>normal_adjacent</td>\n",
       "      <td>2888</td>\n",
       "    </tr>\n",
       "    <tr>\n",
       "      <th>5</th>\n",
       "      <td>B cell</td>\n",
       "      <td>tumor_primary</td>\n",
       "      <td>13965</td>\n",
       "    </tr>\n",
       "    <tr>\n",
       "      <th>6</th>\n",
       "      <td>dendritic cell</td>\n",
       "      <td>normal_adjacent</td>\n",
       "      <td>6752</td>\n",
       "    </tr>\n",
       "    <tr>\n",
       "      <th>7</th>\n",
       "      <td>dendritic cell</td>\n",
       "      <td>tumor_primary</td>\n",
       "      <td>9950</td>\n",
       "    </tr>\n",
       "    <tr>\n",
       "      <th>8</th>\n",
       "      <td>CD4+ T cell</td>\n",
       "      <td>normal_adjacent</td>\n",
       "      <td>45654</td>\n",
       "    </tr>\n",
       "    <tr>\n",
       "      <th>9</th>\n",
       "      <td>CD4+ T cell</td>\n",
       "      <td>tumor_primary</td>\n",
       "      <td>48849</td>\n",
       "    </tr>\n",
       "    <tr>\n",
       "      <th>10</th>\n",
       "      <td>CD8+ T cell</td>\n",
       "      <td>normal_adjacent</td>\n",
       "      <td>31378</td>\n",
       "    </tr>\n",
       "    <tr>\n",
       "      <th>11</th>\n",
       "      <td>CD8+ T cell</td>\n",
       "      <td>tumor_primary</td>\n",
       "      <td>41225</td>\n",
       "    </tr>\n",
       "    <tr>\n",
       "      <th>12</th>\n",
       "      <td>neutrophil</td>\n",
       "      <td>normal_adjacent</td>\n",
       "      <td>4155</td>\n",
       "    </tr>\n",
       "    <tr>\n",
       "      <th>13</th>\n",
       "      <td>neutrophil</td>\n",
       "      <td>tumor_primary</td>\n",
       "      <td>1991</td>\n",
       "    </tr>\n",
       "    <tr>\n",
       "      <th>14</th>\n",
       "      <td>plasma cell</td>\n",
       "      <td>normal_adjacent</td>\n",
       "      <td>1951</td>\n",
       "    </tr>\n",
       "    <tr>\n",
       "      <th>15</th>\n",
       "      <td>plasma cell</td>\n",
       "      <td>tumor_primary</td>\n",
       "      <td>13145</td>\n",
       "    </tr>\n",
       "    <tr>\n",
       "      <th>16</th>\n",
       "      <td>regulatory T cell</td>\n",
       "      <td>normal_adjacent</td>\n",
       "      <td>2876</td>\n",
       "    </tr>\n",
       "    <tr>\n",
       "      <th>17</th>\n",
       "      <td>regulatory T cell</td>\n",
       "      <td>tumor_primary</td>\n",
       "      <td>13909</td>\n",
       "    </tr>\n",
       "    <tr>\n",
       "      <th>18</th>\n",
       "      <td>malignant cell</td>\n",
       "      <td>normal_adjacent</td>\n",
       "      <td>574</td>\n",
       "    </tr>\n",
       "    <tr>\n",
       "      <th>19</th>\n",
       "      <td>malignant cell</td>\n",
       "      <td>tumor_primary</td>\n",
       "      <td>16365</td>\n",
       "    </tr>\n",
       "    <tr>\n",
       "      <th>20</th>\n",
       "      <td>endothelial cell</td>\n",
       "      <td>normal_adjacent</td>\n",
       "      <td>9754</td>\n",
       "    </tr>\n",
       "    <tr>\n",
       "      <th>21</th>\n",
       "      <td>endothelial cell</td>\n",
       "      <td>tumor_primary</td>\n",
       "      <td>6396</td>\n",
       "    </tr>\n",
       "    <tr>\n",
       "      <th>22</th>\n",
       "      <td>fibroblast</td>\n",
       "      <td>normal_adjacent</td>\n",
       "      <td>2160</td>\n",
       "    </tr>\n",
       "    <tr>\n",
       "      <th>23</th>\n",
       "      <td>fibroblast</td>\n",
       "      <td>tumor_primary</td>\n",
       "      <td>2514</td>\n",
       "    </tr>\n",
       "  </tbody>\n",
       "</table>\n",
       "</div>"
      ],
      "text/plain": [
       "   standardized_cell_type           origin  cell_count\n",
       "0         epithelial cell  normal_adjacent        4957\n",
       "1         epithelial cell    tumor_primary       16082\n",
       "2              macrophage  normal_adjacent       65453\n",
       "3              macrophage    tumor_primary       38818\n",
       "4                  B cell  normal_adjacent        2888\n",
       "5                  B cell    tumor_primary       13965\n",
       "6          dendritic cell  normal_adjacent        6752\n",
       "7          dendritic cell    tumor_primary        9950\n",
       "8             CD4+ T cell  normal_adjacent       45654\n",
       "9             CD4+ T cell    tumor_primary       48849\n",
       "10            CD8+ T cell  normal_adjacent       31378\n",
       "11            CD8+ T cell    tumor_primary       41225\n",
       "12             neutrophil  normal_adjacent        4155\n",
       "13             neutrophil    tumor_primary        1991\n",
       "14            plasma cell  normal_adjacent        1951\n",
       "15            plasma cell    tumor_primary       13145\n",
       "16      regulatory T cell  normal_adjacent        2876\n",
       "17      regulatory T cell    tumor_primary       13909\n",
       "18         malignant cell  normal_adjacent         574\n",
       "19         malignant cell    tumor_primary       16365\n",
       "20       endothelial cell  normal_adjacent        9754\n",
       "21       endothelial cell    tumor_primary        6396\n",
       "22             fibroblast  normal_adjacent        2160\n",
       "23             fibroblast    tumor_primary        2514"
      ]
     },
     "execution_count": 7,
     "metadata": {},
     "output_type": "execute_result"
    }
   ],
   "source": [
    "grouped"
   ]
  },
  {
   "cell_type": "code",
   "execution_count": 8,
   "id": "1237edea-08af-44e3-9b68-82aac54b7910",
   "metadata": {},
   "outputs": [],
   "source": [
    "# Create a Boolean mask for the cells that you want to keep\n",
    "mask = ~((adata.obs['origin'] == 'normal_adjacent') & (adata.obs['standardized_cell_type'] == 'malignant cell'))\n",
    "\n",
    "# Subset the adata object using the mask to exclude the specific cells\n",
    "adata = adata[mask].copy()\n",
    "\n",
    "# Now `adata_filtered` contains all cells except those with origin == 'normal_adjacent' and cell_type == 'malignant cell'\n"
   ]
  },
  {
   "cell_type": "code",
   "execution_count": 9,
   "id": "d19a8270-bf0b-41a1-9dd0-a3d03ac3c54c",
   "metadata": {},
   "outputs": [
    {
     "data": {
      "text/html": [
       "<div>\n",
       "<style scoped>\n",
       "    .dataframe tbody tr th:only-of-type {\n",
       "        vertical-align: middle;\n",
       "    }\n",
       "\n",
       "    .dataframe tbody tr th {\n",
       "        vertical-align: top;\n",
       "    }\n",
       "\n",
       "    .dataframe thead th {\n",
       "        text-align: right;\n",
       "    }\n",
       "</style>\n",
       "<table border=\"1\" class=\"dataframe\">\n",
       "  <thead>\n",
       "    <tr style=\"text-align: right;\">\n",
       "      <th></th>\n",
       "      <th>standardized_cell_type</th>\n",
       "      <th>origin</th>\n",
       "      <th>cell_count</th>\n",
       "    </tr>\n",
       "  </thead>\n",
       "  <tbody>\n",
       "    <tr>\n",
       "      <th>0</th>\n",
       "      <td>epithelial cell</td>\n",
       "      <td>normal_adjacent</td>\n",
       "      <td>4957</td>\n",
       "    </tr>\n",
       "    <tr>\n",
       "      <th>1</th>\n",
       "      <td>epithelial cell</td>\n",
       "      <td>tumor_primary</td>\n",
       "      <td>16082</td>\n",
       "    </tr>\n",
       "    <tr>\n",
       "      <th>2</th>\n",
       "      <td>macrophage</td>\n",
       "      <td>normal_adjacent</td>\n",
       "      <td>65453</td>\n",
       "    </tr>\n",
       "    <tr>\n",
       "      <th>3</th>\n",
       "      <td>macrophage</td>\n",
       "      <td>tumor_primary</td>\n",
       "      <td>38818</td>\n",
       "    </tr>\n",
       "    <tr>\n",
       "      <th>4</th>\n",
       "      <td>B cell</td>\n",
       "      <td>normal_adjacent</td>\n",
       "      <td>2888</td>\n",
       "    </tr>\n",
       "    <tr>\n",
       "      <th>5</th>\n",
       "      <td>B cell</td>\n",
       "      <td>tumor_primary</td>\n",
       "      <td>13965</td>\n",
       "    </tr>\n",
       "    <tr>\n",
       "      <th>6</th>\n",
       "      <td>dendritic cell</td>\n",
       "      <td>normal_adjacent</td>\n",
       "      <td>6752</td>\n",
       "    </tr>\n",
       "    <tr>\n",
       "      <th>7</th>\n",
       "      <td>dendritic cell</td>\n",
       "      <td>tumor_primary</td>\n",
       "      <td>9950</td>\n",
       "    </tr>\n",
       "    <tr>\n",
       "      <th>8</th>\n",
       "      <td>CD4+ T cell</td>\n",
       "      <td>normal_adjacent</td>\n",
       "      <td>45654</td>\n",
       "    </tr>\n",
       "    <tr>\n",
       "      <th>9</th>\n",
       "      <td>CD4+ T cell</td>\n",
       "      <td>tumor_primary</td>\n",
       "      <td>48849</td>\n",
       "    </tr>\n",
       "    <tr>\n",
       "      <th>10</th>\n",
       "      <td>CD8+ T cell</td>\n",
       "      <td>normal_adjacent</td>\n",
       "      <td>31378</td>\n",
       "    </tr>\n",
       "    <tr>\n",
       "      <th>11</th>\n",
       "      <td>CD8+ T cell</td>\n",
       "      <td>tumor_primary</td>\n",
       "      <td>41225</td>\n",
       "    </tr>\n",
       "    <tr>\n",
       "      <th>12</th>\n",
       "      <td>neutrophil</td>\n",
       "      <td>normal_adjacent</td>\n",
       "      <td>4155</td>\n",
       "    </tr>\n",
       "    <tr>\n",
       "      <th>13</th>\n",
       "      <td>neutrophil</td>\n",
       "      <td>tumor_primary</td>\n",
       "      <td>1991</td>\n",
       "    </tr>\n",
       "    <tr>\n",
       "      <th>14</th>\n",
       "      <td>plasma cell</td>\n",
       "      <td>normal_adjacent</td>\n",
       "      <td>1951</td>\n",
       "    </tr>\n",
       "    <tr>\n",
       "      <th>15</th>\n",
       "      <td>plasma cell</td>\n",
       "      <td>tumor_primary</td>\n",
       "      <td>13145</td>\n",
       "    </tr>\n",
       "    <tr>\n",
       "      <th>16</th>\n",
       "      <td>regulatory T cell</td>\n",
       "      <td>normal_adjacent</td>\n",
       "      <td>2876</td>\n",
       "    </tr>\n",
       "    <tr>\n",
       "      <th>17</th>\n",
       "      <td>regulatory T cell</td>\n",
       "      <td>tumor_primary</td>\n",
       "      <td>13909</td>\n",
       "    </tr>\n",
       "    <tr>\n",
       "      <th>18</th>\n",
       "      <td>malignant cell</td>\n",
       "      <td>normal_adjacent</td>\n",
       "      <td>0</td>\n",
       "    </tr>\n",
       "    <tr>\n",
       "      <th>19</th>\n",
       "      <td>malignant cell</td>\n",
       "      <td>tumor_primary</td>\n",
       "      <td>16365</td>\n",
       "    </tr>\n",
       "    <tr>\n",
       "      <th>20</th>\n",
       "      <td>endothelial cell</td>\n",
       "      <td>normal_adjacent</td>\n",
       "      <td>9754</td>\n",
       "    </tr>\n",
       "    <tr>\n",
       "      <th>21</th>\n",
       "      <td>endothelial cell</td>\n",
       "      <td>tumor_primary</td>\n",
       "      <td>6396</td>\n",
       "    </tr>\n",
       "    <tr>\n",
       "      <th>22</th>\n",
       "      <td>fibroblast</td>\n",
       "      <td>normal_adjacent</td>\n",
       "      <td>2160</td>\n",
       "    </tr>\n",
       "    <tr>\n",
       "      <th>23</th>\n",
       "      <td>fibroblast</td>\n",
       "      <td>tumor_primary</td>\n",
       "      <td>2514</td>\n",
       "    </tr>\n",
       "  </tbody>\n",
       "</table>\n",
       "</div>"
      ],
      "text/plain": [
       "   standardized_cell_type           origin  cell_count\n",
       "0         epithelial cell  normal_adjacent        4957\n",
       "1         epithelial cell    tumor_primary       16082\n",
       "2              macrophage  normal_adjacent       65453\n",
       "3              macrophage    tumor_primary       38818\n",
       "4                  B cell  normal_adjacent        2888\n",
       "5                  B cell    tumor_primary       13965\n",
       "6          dendritic cell  normal_adjacent        6752\n",
       "7          dendritic cell    tumor_primary        9950\n",
       "8             CD4+ T cell  normal_adjacent       45654\n",
       "9             CD4+ T cell    tumor_primary       48849\n",
       "10            CD8+ T cell  normal_adjacent       31378\n",
       "11            CD8+ T cell    tumor_primary       41225\n",
       "12             neutrophil  normal_adjacent        4155\n",
       "13             neutrophil    tumor_primary        1991\n",
       "14            plasma cell  normal_adjacent        1951\n",
       "15            plasma cell    tumor_primary       13145\n",
       "16      regulatory T cell  normal_adjacent        2876\n",
       "17      regulatory T cell    tumor_primary       13909\n",
       "18         malignant cell  normal_adjacent           0\n",
       "19         malignant cell    tumor_primary       16365\n",
       "20       endothelial cell  normal_adjacent        9754\n",
       "21       endothelial cell    tumor_primary        6396\n",
       "22             fibroblast  normal_adjacent        2160\n",
       "23             fibroblast    tumor_primary        2514"
      ]
     },
     "execution_count": 9,
     "metadata": {},
     "output_type": "execute_result"
    }
   ],
   "source": [
    "grouped = adata.obs.groupby(['standardized_cell_type', 'origin']).size().reset_index(name='cell_count')\n",
    "grouped"
   ]
  },
  {
   "cell_type": "code",
   "execution_count": 10,
   "id": "b294c685-6846-4687-bb5e-f2d6259767e6",
   "metadata": {},
   "outputs": [],
   "source": [
    "adata_normal = adata[adata.obs[\"origin\"]==\"normal_adjacent\"]\n",
    "#adata_normal = adata_normal[~adata_normal.obs[\"cell_type\"].isin([\"malignant cell\"])]"
   ]
  },
  {
   "cell_type": "code",
   "execution_count": 11,
   "id": "e09eb487-4cd8-47c8-8a8f-763ea846365e",
   "metadata": {},
   "outputs": [
    {
     "data": {
      "text/plain": [
       "{'B cell',\n",
       " 'CD1c-positive myeloid dendritic cell',\n",
       " 'CD4+ T cell',\n",
       " 'CD8+ T cell',\n",
       " 'bronchus fibroblast of lung',\n",
       " 'capillary endothelial cell',\n",
       " 'conventional dendritic cell',\n",
       " 'dendritic cell',\n",
       " 'endothelial cell of lymphatic vessel',\n",
       " 'epithelial cell',\n",
       " 'fibroblast of lung',\n",
       " 'macrophage',\n",
       " 'neutrophil',\n",
       " 'plasma cell',\n",
       " 'plasmacytoid dendritic cell',\n",
       " 'pulmonary artery endothelial cell',\n",
       " 'regulatory T cell',\n",
       " 'vein endothelial cell'}"
      ]
     },
     "execution_count": 11,
     "metadata": {},
     "output_type": "execute_result"
    }
   ],
   "source": [
    "set(adata_normal.obs.cell_type)"
   ]
  },
  {
   "cell_type": "code",
   "execution_count": 12,
   "id": "328ddbdc-878e-4c07-85b4-5722f779b8a3",
   "metadata": {},
   "outputs": [],
   "source": [
    "adata_tumor = adata[adata.obs[\"origin\"]==\"tumor_primary\"]"
   ]
  },
  {
   "cell_type": "code",
   "execution_count": 13,
   "id": "2d2130c4-eb94-47c5-8a7c-d10790e22005",
   "metadata": {},
   "outputs": [
    {
     "data": {
      "text/plain": [
       "{'B cell',\n",
       " 'CD1c-positive myeloid dendritic cell',\n",
       " 'CD4+ T cell',\n",
       " 'CD8+ T cell',\n",
       " 'bronchus fibroblast of lung',\n",
       " 'capillary endothelial cell',\n",
       " 'conventional dendritic cell',\n",
       " 'dendritic cell',\n",
       " 'endothelial cell of lymphatic vessel',\n",
       " 'epithelial cell',\n",
       " 'fibroblast of lung',\n",
       " 'macrophage',\n",
       " 'neutrophil',\n",
       " 'plasma cell',\n",
       " 'plasmacytoid dendritic cell',\n",
       " 'pulmonary artery endothelial cell',\n",
       " 'regulatory T cell',\n",
       " 'vein endothelial cell'}"
      ]
     },
     "execution_count": 13,
     "metadata": {},
     "output_type": "execute_result"
    }
   ],
   "source": [
    "set(adata_normal.obs.cell_type)"
   ]
  },
  {
   "cell_type": "code",
   "execution_count": 14,
   "id": "1a71968f-bea9-4959-8f51-d88ea23a4ab5",
   "metadata": {},
   "outputs": [],
   "source": [
    "adata_normal = adata[adata.obs[\"origin\"]==\"normal_adjacent\"]\n",
    "#adata_normal = adata_normal[~adata_normal.obs[\"cell_type\"].isin([\"malignant cell\"])]"
   ]
  },
  {
   "cell_type": "code",
   "execution_count": 15,
   "id": "bf8fc463-3287-4c83-8695-856d6bef25a5",
   "metadata": {},
   "outputs": [],
   "source": [
    "adata_tumor = adata[adata.obs[\"origin\"]==\"tumor_primary\"]"
   ]
  },
  {
   "cell_type": "code",
   "execution_count": 16,
   "id": "f9541bae-a756-46c4-8b9c-028bb4977437",
   "metadata": {},
   "outputs": [
    {
     "data": {
      "text/plain": [
       "AnnData object with n_obs × n_vars = 401187 × 17811\n",
       "    obs: 'sample', 'uicc_stage', 'ever_smoker', 'age', 'donor_id', 'origin', 'dataset', 'ann_fine', 'cell_type_predicted', 'doublet_status', 'leiden', 'n_genes_by_counts', 'total_counts', 'total_counts_mito', 'pct_counts_mito', 'ann_coarse', 'cell_type_tumor', 'tumor_stage', 'EGFR_mutation', 'TP53_mutation', 'ALK_mutation', 'BRAF_mutation', 'ERBB2_mutation', 'KRAS_mutation', 'ROS_mutation', 'origin_fine', 'study', 'platform', 'cell_type_major', 'cell_type_neutro', 'cell_type_neutro_coarse', 'suspension_type', 'assay_ontology_term_id', 'cell_type_ontology_term_id', 'development_stage_ontology_term_id', 'disease_ontology_term_id', 'self_reported_ethnicity_ontology_term_id', 'is_primary_data', 'organism_ontology_term_id', 'sex_ontology_term_id', 'tissue_ontology_term_id', 'cell_type', 'assay', 'disease', 'organism', 'sex', 'tissue', 'self_reported_ethnicity', 'development_stage', 'standardized_cell_type'\n",
       "    var: 'is_highly_variable', 'mito', 'n_cells_by_counts', 'mean_counts', 'pct_dropout_by_counts', 'total_counts', 'feature_is_filtered', 'feature_name', 'feature_reference', 'feature_biotype'\n",
       "    uns: '_scvi', 'ann_fine_colors', 'batch_condition', 'cell_type_major_colors', 'cell_type_tumor_colors', 'dataset_colors', 'default_embedding', 'hvg', 'log1p', 'neighbors', 'origin_colors', 'platform_colors', 'schema_version', 'sex_colors', 'title', 'umap'\n",
       "    obsm: 'X_scANVI', 'X_scVI', 'X_umap'\n",
       "    layers: 'count', 'counts_length_scaled', 'log1p_norm'\n",
       "    obsp: 'connectivities', 'distances'"
      ]
     },
     "execution_count": 16,
     "metadata": {},
     "output_type": "execute_result"
    }
   ],
   "source": [
    "adata"
   ]
  },
  {
   "cell_type": "code",
   "execution_count": 17,
   "id": "23eb009f-183e-4dff-8316-cffe2bc1091f",
   "metadata": {},
   "outputs": [],
   "source": [
    "adata_male = adata[adata.obs[\"sex\"]==\"male\"]"
   ]
  },
  {
   "cell_type": "code",
   "execution_count": 18,
   "id": "4d1b5e85-2527-4d1c-99fa-610707886713",
   "metadata": {},
   "outputs": [],
   "source": [
    "adata_female = adata[adata.obs[\"sex\"]==\"female\"]"
   ]
  },
  {
   "cell_type": "markdown",
   "id": "93a631e2-f821-4c9d-ab5f-1c614e31555a",
   "metadata": {},
   "source": [
    "## Prepare for pseudobulk"
   ]
  },
  {
   "cell_type": "code",
   "execution_count": 19,
   "id": "3aab4e92-5686-4453-895f-d37d0c04d2a5",
   "metadata": {},
   "outputs": [],
   "source": [
    "contrasts = [\n",
    "        dict(var = \"origin\", condition = \"tumor_primary\", reference = \"normal_adjacent\"),\n",
    "    ]"
   ]
  },
  {
   "cell_type": "code",
   "execution_count": 20,
   "id": "b9fec3e6-3081-4f1b-a09b-f768bbac6449",
   "metadata": {
    "lines_to_next_cell": 0
   },
   "outputs": [
    {
     "data": {
      "text/plain": [
       "[{'var': 'origin',\n",
       "  'condition': 'tumor_primary',\n",
       "  'reference': 'normal_adjacent'}]"
      ]
     },
     "execution_count": 20,
     "metadata": {},
     "output_type": "execute_result"
    }
   ],
   "source": [
    "contrasts"
   ]
  },
  {
   "cell_type": "code",
   "execution_count": 21,
   "id": "e594b137-8749-4b47-8cf0-d3c4e5ea9d9b",
   "metadata": {},
   "outputs": [
    {
     "data": {
      "text/plain": [
       "'tumor_primary_vs_normal_adjacent'"
      ]
     },
     "execution_count": 21,
     "metadata": {},
     "output_type": "execute_result"
    }
   ],
   "source": [
    "contrasts[0][\"condition\"].replace(\" \", \"_\") + \"_vs_\" + contrasts[0][\"reference\"].replace(\" \", \"_\")"
   ]
  },
  {
   "cell_type": "code",
   "execution_count": 22,
   "id": "98d3567a-8711-4498-8330-b26adc6c1d7f",
   "metadata": {},
   "outputs": [
    {
     "data": {
      "text/plain": [
       "'/data/projects/2023/LCBiome/nsclc_gender_atlas_tmp/out/012_LUAD/03012025/tables/LUAD_DE/'"
      ]
     },
     "execution_count": 22,
     "metadata": {},
     "output_type": "execute_result"
    }
   ],
   "source": [
    "resDir_tables"
   ]
  },
  {
   "cell_type": "code",
   "execution_count": 25,
   "id": "08bd7241-10d2-4275-a5b9-f28c25be88e2",
   "metadata": {},
   "outputs": [],
   "source": [
    "for contrast in contrasts:\n",
    "    name = contrast[\"condition\"].replace(\" \", \"_\") + \"_vs_\" + contrast[\"reference\"].replace(\" \", \"_\")\n",
    "    contrast[\"name\"] = name\n",
    "    res_dir = Path(resDir_tables, name, \"tables\")\n",
    "    os.makedirs(resDir_tables, mode = 0o750, exist_ok = True)\n",
    "    contrast[\"res_dir\"] = resDir_tables"
   ]
  },
  {
   "cell_type": "code",
   "execution_count": 26,
   "id": "ff2d6f1e-2481-4dae-a49d-fbb1426fd0b9",
   "metadata": {},
   "outputs": [],
   "source": [
    "cell_type_class = \"standardized_cell_type\""
   ]
  },
  {
   "cell_type": "code",
   "execution_count": 27,
   "id": "7cbfe361-9a46-42e3-8b39-bcda74d64729",
   "metadata": {},
   "outputs": [
    {
     "data": {
      "text/plain": [
       "'/data/projects/2023/LCBiome/nsclc_gender_atlas_tmp/out/012_LUAD/03012025/tables/LUAD_DE/'"
      ]
     },
     "execution_count": 27,
     "metadata": {},
     "output_type": "execute_result"
    }
   ],
   "source": [
    "contrast[\"res_dir\"]"
   ]
  },
  {
   "cell_type": "code",
   "execution_count": 28,
   "id": "bb2a9221-a889-41e7-a9c9-59d384cd68a0",
   "metadata": {},
   "outputs": [],
   "source": [
    "pdata = dc.get_pseudobulk(adata,\n",
    "                          sample_col='sample',\n",
    "                          groups_col=cell_type_class,\n",
    "                          layer='count',\n",
    "                          mode='sum',\n",
    "                          min_cells=10,\n",
    "                          min_counts=1000\n",
    "                         )"
   ]
  },
  {
   "cell_type": "code",
   "execution_count": 29,
   "id": "1fab92d4-0fbc-40b0-8e3e-ca276b4462f9",
   "metadata": {},
   "outputs": [],
   "source": [
    "pdata.X = pdata.X.astype(int)"
   ]
  },
  {
   "cell_type": "code",
   "execution_count": 30,
   "id": "26fca082-014b-4c1c-84b1-50a5f944db99",
   "metadata": {},
   "outputs": [],
   "source": [
    "pdata.var_names = pdata.var[\"feature_name\"].astype(str)"
   ]
  },
  {
   "cell_type": "code",
   "execution_count": 31,
   "id": "946e30f3-ca0c-4527-959b-ebf62cb2678a",
   "metadata": {},
   "outputs": [],
   "source": [
    "pdata_obs_df = pdata.obs"
   ]
  },
  {
   "cell_type": "code",
   "execution_count": 32,
   "id": "aa4facd2-7fa1-43ca-bd3a-cd9abafc4af4",
   "metadata": {},
   "outputs": [
    {
     "data": {
      "text/plain": [
       "AnnData object with n_obs × n_vars = 1269 × 17811\n",
       "    obs: 'sample', 'standardized_cell_type', 'uicc_stage', 'ever_smoker', 'donor_id', 'origin', 'dataset', 'tumor_stage', 'study', 'platform', 'suspension_type', 'assay_ontology_term_id', 'development_stage_ontology_term_id', 'disease_ontology_term_id', 'self_reported_ethnicity_ontology_term_id', 'is_primary_data', 'organism_ontology_term_id', 'sex_ontology_term_id', 'tissue_ontology_term_id', 'assay', 'disease', 'organism', 'sex', 'tissue', 'self_reported_ethnicity', 'development_stage', 'psbulk_n_cells', 'psbulk_counts'\n",
       "    var: 'is_highly_variable', 'mito', 'n_cells_by_counts', 'mean_counts', 'pct_dropout_by_counts', 'total_counts', 'feature_is_filtered', 'feature_name', 'feature_reference', 'feature_biotype'\n",
       "    layers: 'psbulk_props'"
      ]
     },
     "execution_count": 32,
     "metadata": {},
     "output_type": "execute_result"
    }
   ],
   "source": [
    "pdata"
   ]
  },
  {
   "cell_type": "code",
   "execution_count": 33,
   "id": "682718d7-5233-425e-815b-b3ca570add58",
   "metadata": {},
   "outputs": [],
   "source": [
    "# Group by patient and filter for patients who have samples in both 'tumor' and 'normal_adjacent' conditions\n",
    "patients_with_both_conditions = pdata_obs_df.groupby('donor_id')['origin'].apply(lambda x: set(x) >= {'tumor_primary', 'normal_adjacent'})"
   ]
  },
  {
   "cell_type": "code",
   "execution_count": 34,
   "id": "009b87fd-b915-4cb0-9e8b-ab8374af37b1",
   "metadata": {},
   "outputs": [],
   "source": [
    "# Get the patient IDs that meet the condition\n",
    "patients_with_both_conditions_ids = patients_with_both_conditions[patients_with_both_conditions].index"
   ]
  },
  {
   "cell_type": "code",
   "execution_count": 35,
   "id": "bacd47b9-e19c-48c9-a5c7-525005477dbc",
   "metadata": {},
   "outputs": [],
   "source": [
    "pdata_tumor_normal = pdata[pdata.obs['donor_id'].isin(patients_with_both_conditions_ids)]"
   ]
  },
  {
   "cell_type": "code",
   "execution_count": 36,
   "id": "e9c8e063-ffa2-44ed-a57a-1b40b5577119",
   "metadata": {},
   "outputs": [
    {
     "data": {
      "text/plain": [
       "'standardized_cell_type'"
      ]
     },
     "execution_count": 36,
     "metadata": {},
     "output_type": "execute_result"
    }
   ],
   "source": [
    "cell_type_class"
   ]
  },
  {
   "cell_type": "code",
   "execution_count": 37,
   "id": "2784f408-3b12-4f84-bf68-7e934b075386",
   "metadata": {},
   "outputs": [],
   "source": [
    "## Run deseq2 on pseudobulk all cell types\n",
    "#cell_types = pdata_tumor_normal.obs[cell_type_class].unique()"
   ]
  },
  {
   "cell_type": "code",
   "execution_count": 66,
   "id": "1e7e7423-9fbb-43f8-94c1-b05a2e2185bc",
   "metadata": {},
   "outputs": [
    {
     "data": {
      "text/plain": [
       "'normal_adjacent'"
      ]
     },
     "execution_count": 66,
     "metadata": {},
     "output_type": "execute_result"
    }
   ],
   "source": [
    "contrast[\"reference\"]"
   ]
  },
  {
   "cell_type": "code",
   "execution_count": 67,
   "id": "3bbbbd74-3ef2-486e-9666-9725c72cfffa",
   "metadata": {},
   "outputs": [
    {
     "data": {
      "text/plain": [
       "'tumor_primary'"
      ]
     },
     "execution_count": 67,
     "metadata": {},
     "output_type": "execute_result"
    }
   ],
   "source": [
    "contrast[\"condition\"]"
   ]
  },
  {
   "cell_type": "code",
   "execution_count": 91,
   "id": "4990e0c8-fdb6-483c-8dc1-675c9eaa378f",
   "metadata": {},
   "outputs": [
    {
     "data": {
      "text/plain": [
       "'tumor_primary_vs_normal_adjacent'"
      ]
     },
     "execution_count": 91,
     "metadata": {},
     "output_type": "execute_result"
    }
   ],
   "source": [
    "contrast[\"name\"]"
   ]
  },
  {
   "cell_type": "code",
   "execution_count": 40,
   "id": "88c40d2e-b7a9-43d8-be5f-014136ce10f7",
   "metadata": {},
   "outputs": [
    {
     "name": "stderr",
     "output_type": "stream",
     "text": [
      "/tmp/ipykernel_2925017/2235016355.py:1: ImplicitModificationWarning: Trying to modify attribute `.obs` of view, initializing view as actual.\n",
      "  pdata_tumor_normal.obs['sex'] = pdata_tumor_normal.obs['sex'].astype('category')\n"
     ]
    }
   ],
   "source": [
    "pdata_tumor_normal.obs['sex'] = pdata_tumor_normal.obs['sex'].astype('category')"
   ]
  },
  {
   "cell_type": "code",
   "execution_count": 41,
   "id": "762683f5-ba14-4465-9606-a737f0fc4221",
   "metadata": {},
   "outputs": [],
   "source": [
    "cpus=16"
   ]
  },
  {
   "cell_type": "code",
   "execution_count": 42,
   "id": "7df7538a-42be-48bb-ae0a-f93107d67e44",
   "metadata": {},
   "outputs": [
    {
     "data": {
      "text/plain": [
       "AnnData object with n_obs × n_vars = 1268 × 17811\n",
       "    obs: 'sample', 'standardized_cell_type', 'uicc_stage', 'ever_smoker', 'donor_id', 'origin', 'dataset', 'tumor_stage', 'study', 'platform', 'suspension_type', 'assay_ontology_term_id', 'development_stage_ontology_term_id', 'disease_ontology_term_id', 'self_reported_ethnicity_ontology_term_id', 'is_primary_data', 'organism_ontology_term_id', 'sex_ontology_term_id', 'tissue_ontology_term_id', 'assay', 'disease', 'organism', 'sex', 'tissue', 'self_reported_ethnicity', 'development_stage', 'psbulk_n_cells', 'psbulk_counts'\n",
       "    var: 'is_highly_variable', 'mito', 'n_cells_by_counts', 'mean_counts', 'pct_dropout_by_counts', 'total_counts', 'feature_is_filtered', 'feature_name', 'feature_reference', 'feature_biotype'\n",
       "    layers: 'psbulk_props'"
      ]
     },
     "execution_count": 42,
     "metadata": {},
     "output_type": "execute_result"
    }
   ],
   "source": [
    "pdata_tumor_normal"
   ]
  },
  {
   "cell_type": "code",
   "execution_count": 44,
   "id": "22aa039f-b6c8-483a-a95d-30857f2b32da",
   "metadata": {},
   "outputs": [],
   "source": [
    "pdata_tumor_normal.obs[\"standardized_cell_type\"]= pdata_tumor_normal.obs[\"standardized_cell_type\"].replace(['epithelial cell of lung','multi-ciliated epithelial cell',], 'epithelial cell')\n",
    "pdata_tumor_normal.obs[\"standardized_cell_type\"]= pdata_tumor_normal.obs[\"standardized_cell_type\"].replace(['alveolar macrophage'], 'macrophage')\n",
    "pdata_tumor_normal.obs[\"standardized_cell_type\"]= pdata_tumor_normal.obs[\"standardized_cell_type\"].replace(['CD4-positive, alpha-beta T cell'], 'CD4+ T cell')\n",
    "pdata_tumor_normal.obs[\"standardized_cell_type\"]= pdata_tumor_normal.obs[\"standardized_cell_type\"].replace(['CD8-positive, alpha-beta T cell'], 'CD8+ T cell')"
   ]
  },
  {
   "cell_type": "code",
   "execution_count": 57,
   "id": "aab20e1e-8396-406c-96ba-e26c9d3786cb",
   "metadata": {},
   "outputs": [
    {
     "data": {
      "text/plain": [
       "origin\n",
       "tumor_primary      708\n",
       "normal_adjacent    560\n",
       "Name: count, dtype: int64"
      ]
     },
     "execution_count": 57,
     "metadata": {},
     "output_type": "execute_result"
    }
   ],
   "source": [
    "pdata_tumor_normal.obs[\"origin\"].value_counts()"
   ]
  },
  {
   "cell_type": "code",
   "execution_count": 47,
   "id": "4c8e5253-21c7-457e-bd5b-e4112ee25b54",
   "metadata": {},
   "outputs": [],
   "source": [
    "pdata_only_tumor = pdata_tumor_normal[pdata_tumor_normal.obs[\"origin\"]==\"tumor_primary\"]"
   ]
  },
  {
   "cell_type": "code",
   "execution_count": 48,
   "id": "21e92241-4371-4d5e-8c9a-fee0e8623d18",
   "metadata": {},
   "outputs": [
    {
     "data": {
      "text/plain": [
       "View of AnnData object with n_obs × n_vars = 708 × 17811\n",
       "    obs: 'sample', 'standardized_cell_type', 'uicc_stage', 'ever_smoker', 'donor_id', 'origin', 'dataset', 'tumor_stage', 'study', 'platform', 'suspension_type', 'assay_ontology_term_id', 'development_stage_ontology_term_id', 'disease_ontology_term_id', 'self_reported_ethnicity_ontology_term_id', 'is_primary_data', 'organism_ontology_term_id', 'sex_ontology_term_id', 'tissue_ontology_term_id', 'assay', 'disease', 'organism', 'sex', 'tissue', 'self_reported_ethnicity', 'development_stage', 'psbulk_n_cells', 'psbulk_counts'\n",
       "    var: 'is_highly_variable', 'mito', 'n_cells_by_counts', 'mean_counts', 'pct_dropout_by_counts', 'total_counts', 'feature_is_filtered', 'feature_name', 'feature_reference', 'feature_biotype'\n",
       "    layers: 'psbulk_props'"
      ]
     },
     "execution_count": 48,
     "metadata": {},
     "output_type": "execute_result"
    }
   ],
   "source": [
    "pdata_only_tumor"
   ]
  },
  {
   "cell_type": "code",
   "execution_count": 50,
   "id": "0f2146e6-70df-483c-ac40-996ea95e38b0",
   "metadata": {},
   "outputs": [
    {
     "data": {
      "text/plain": [
       "'/data/projects/2023/LCBiome/nsclc_gender_atlas_tmp/out/012_LUAD/03012025/tables/LUAD_DE/'"
      ]
     },
     "execution_count": 50,
     "metadata": {},
     "output_type": "execute_result"
    }
   ],
   "source": [
    "resDir_tables"
   ]
  },
  {
   "cell_type": "code",
   "execution_count": 51,
   "id": "11a0abfc-867f-4d25-ac53-38cd8f94ce0d",
   "metadata": {},
   "outputs": [],
   "source": [
    "cell_types = pdata_only_tumor.obs[cell_type_class].unique()"
   ]
  },
  {
   "cell_type": "code",
   "execution_count": 59,
   "id": "d834d08e-4aa3-4e67-a3de-f14cd7401f80",
   "metadata": {},
   "outputs": [],
   "source": [
    "pdata_tumor_normal_male = pdata_tumor_normal[pdata_tumor_normal.obs[\"sex\"]==\"male\"]"
   ]
  },
  {
   "cell_type": "code",
   "execution_count": 60,
   "id": "524aab63-7fc4-4c3b-8c03-5a921c939c8d",
   "metadata": {},
   "outputs": [],
   "source": [
    "pdata_tumor_normal_female = pdata_tumor_normal[pdata_tumor_normal.obs[\"sex\"]==\"female\"]"
   ]
  },
  {
   "cell_type": "code",
   "execution_count": 82,
   "id": "cb52b035-26af-4d7c-b0b0-af55d080f0ff",
   "metadata": {},
   "outputs": [
    {
     "name": "stderr",
     "output_type": "stream",
     "text": [
      "/tmp/ipykernel_2925017/680501246.py:1: ImplicitModificationWarning: Trying to modify attribute `.obs` of view, initializing view as actual.\n",
      "  pdata_tumor_normal_male.obs[\"origin\"] = pdata_tumor_normal_male.obs[\"origin\"].str.replace(\"_\", \"-\", regex=False)\n"
     ]
    }
   ],
   "source": [
    "pdata_tumor_normal_male.obs[\"origin\"] = pdata_tumor_normal_male.obs[\"origin\"].str.replace(\"_\", \"-\", regex=False)\n"
   ]
  },
  {
   "cell_type": "code",
   "execution_count": 84,
   "id": "7558823a-62dc-4c68-8a20-a599079e1d77",
   "metadata": {},
   "outputs": [
    {
     "name": "stderr",
     "output_type": "stream",
     "text": [
      "/tmp/ipykernel_2925017/307224016.py:1: ImplicitModificationWarning: Trying to modify attribute `.obs` of view, initializing view as actual.\n",
      "  pdata_tumor_normal_female.obs[\"origin\"] = pdata_tumor_normal_female.obs[\"origin\"].str.replace(\"_\", \"-\", regex=False)\n"
     ]
    }
   ],
   "source": [
    "pdata_tumor_normal_female.obs[\"origin\"] = pdata_tumor_normal_female.obs[\"origin\"].str.replace(\"_\", \"-\", regex=False)\n"
   ]
  },
  {
   "cell_type": "code",
   "execution_count": 92,
   "id": "b00d38c3-7970-4609-9600-223ad9f601b9",
   "metadata": {},
   "outputs": [],
   "source": [
    "contrast[\"reference\"] = \"normal-adjacent\"\n",
    "contrast[\"condition\"] = \"tumor-primary\"\n",
    "contrast[\"name\"] = \"tumor-primary_vs_normal-adjacent\""
   ]
  },
  {
   "cell_type": "code",
   "execution_count": 96,
   "id": "e3aeea94-e902-47d9-bba4-b446e35ad3ec",
   "metadata": {},
   "outputs": [
    {
     "data": {
      "text/plain": [
       "standardized_cell_type\n",
       "B cell              17811\n",
       "CD4+ T cell         17811\n",
       "CD8+ T cell         17811\n",
       "dendritic cell      17811\n",
       "endothelial cell    17811\n",
       "epithelial cell     17811\n",
       "fibroblast          17811\n",
       "macrophage          17811\n",
       "Name: count, dtype: int64"
      ]
     },
     "execution_count": 96,
     "metadata": {},
     "output_type": "execute_result"
    }
   ],
   "source": [
    "contrast[\"de_res_all\"].standardized_cell_type.value_counts()"
   ]
  },
  {
   "cell_type": "code",
   "execution_count": 97,
   "id": "fe166e00-a846-4569-b357-b6c5fbe2b455",
   "metadata": {},
   "outputs": [
    {
     "data": {
      "text/plain": [
       "array(['B cell', 'CD4+ T cell', 'CD8+ T cell', 'dendritic cell',\n",
       "       'endothelial cell', 'epithelial cell', 'fibroblast', 'macrophage',\n",
       "       'malignant cell', 'neutrophil', 'plasma cell', 'regulatory T cell'],\n",
       "      dtype=object)"
      ]
     },
     "execution_count": 97,
     "metadata": {},
     "output_type": "execute_result"
    }
   ],
   "source": [
    "cell_types"
   ]
  },
  {
   "cell_type": "markdown",
   "id": "954b8ed9-3fa2-4a41-9851-192f49a6ad88",
   "metadata": {},
   "source": [
    "## Pydeseq tumor vs normal"
   ]
  },
  {
   "cell_type": "code",
   "execution_count": null,
   "id": "72136d8c-55f0-4b80-8513-91d05a142641",
   "metadata": {
    "lines_to_next_cell": 2
   },
   "outputs": [
    {
     "name": "stdout",
     "output_type": "stream",
     "text": [
      "B cell\n"
     ]
    },
    {
     "name": "stderr",
     "output_type": "stream",
     "text": [
      "Fitting size factors...\n",
      "... done in 0.03 seconds.\n",
      "\n",
      "Fitting dispersions...\n",
      "... done in 1.19 seconds.\n",
      "\n",
      "Fitting dispersion trend curve...\n",
      "... done in 0.36 seconds.\n",
      "\n",
      "Fitting MAP dispersions...\n",
      "... done in 1.42 seconds.\n",
      "\n",
      "Fitting LFCs...\n",
      "... done in 1.42 seconds.\n",
      "\n",
      "Calculating cook's distance...\n",
      "... done in 0.06 seconds.\n",
      "\n",
      "Replacing 59 outlier genes.\n",
      "\n",
      "Fitting dispersions...\n",
      "... done in 0.02 seconds.\n",
      "\n",
      "Fitting MAP dispersions...\n",
      "... done in 0.02 seconds.\n",
      "\n",
      "Fitting LFCs...\n",
      "... done in 0.02 seconds.\n",
      "\n",
      "Running Wald tests...\n",
      "... done in 8.72 seconds.\n",
      "\n",
      "Fitting MAP LFCs...\n"
     ]
    },
    {
     "name": "stdout",
     "output_type": "stream",
     "text": [
      "Log2 fold change & Wald test p-value: origin tumor-primary vs normal-adjacent\n",
      "              baseMean  log2FoldChange     lfcSE      stat    pvalue      padj\n",
      "feature_name                                                                  \n",
      "A1BG          4.613264        0.000056  0.323332  0.000174  0.999861  0.999978\n",
      "A1BG-AS1      0.591671       -0.200691  0.570672 -0.351676  0.725081       NaN\n",
      "A2M           1.206051       -0.223805  0.620775 -0.360525  0.718455       NaN\n",
      "A2M-AS1       0.082406       -1.195479  1.465479 -0.815760  0.414638       NaN\n",
      "A2ML1         0.157295       -1.658056  1.488754 -1.113721  0.265399       NaN\n",
      "...                ...             ...       ...       ...       ...       ...\n",
      "ZXDC          0.928493       -0.355715  0.578193 -0.615219  0.538410       NaN\n",
      "ZYG11A        0.066189       -0.837893  1.683108 -0.497825  0.618607       NaN\n",
      "ZYG11B        1.394873        0.450700  0.493065  0.914079  0.360675       NaN\n",
      "ZYX           3.686372        0.780150  0.348659  2.237571  0.025249  0.698723\n",
      "ZZEF1         1.957142       -1.083770  0.426699 -2.539895  0.011089       NaN\n",
      "\n",
      "[17811 rows x 6 columns]\n"
     ]
    },
    {
     "name": "stderr",
     "output_type": "stream",
     "text": [
      "/home/kvalem/.conda/envs/crc_atlas/lib/python3.11/site-packages/pydeseq2/utils.py:1260: RuntimeWarning: overflow encountered in exp\n",
      "  counts - (counts + size) / (1 + size * np.exp(-xbeta - offset))\n",
      "/home/kvalem/.conda/envs/crc_atlas/lib/python3.11/site-packages/pydeseq2/utils.py:1260: RuntimeWarning: overflow encountered in exp\n",
      "  counts - (counts + size) / (1 + size * np.exp(-xbeta - offset))\n",
      "... done in 1.96 seconds.\n",
      "\n",
      "Fitting size factors...\n"
     ]
    },
    {
     "name": "stdout",
     "output_type": "stream",
     "text": [
      "Shrunk log2 fold change & Wald test p-value: origin tumor-primary vs normal-adjacent\n",
      "              baseMean  log2FoldChange     lfcSE      stat    pvalue      padj\n",
      "feature_name                                                                  \n",
      "A1BG          4.613264        0.000005  0.052210  0.000174  0.999861  0.999978\n",
      "A1BG-AS1      0.591671        0.000091  0.063279 -0.351676  0.725081       NaN\n",
      "A2M           1.206051       -0.000674  0.053568 -0.360525  0.718455       NaN\n",
      "A2M-AS1       0.082406        0.000124  0.060909 -0.815760  0.414638       NaN\n",
      "A2ML1         0.157295       -0.000482  0.046209 -1.113721  0.265399       NaN\n",
      "...                ...             ...       ...       ...       ...       ...\n",
      "ZXDC          0.928493       -0.000956  0.053715 -0.615219  0.538410       NaN\n",
      "ZYG11A        0.066189        0.000512  0.077715 -0.497825  0.618607       NaN\n",
      "ZYG11B        1.394873       -0.005089  0.048999  0.914079  0.360675       NaN\n",
      "ZYX           3.686372        0.006723  0.061714  2.237571  0.025249  0.698723\n",
      "ZZEF1         1.957142       -0.006125  0.049189 -2.539895  0.011089       NaN\n",
      "\n",
      "[17811 rows x 6 columns]\n",
      "CD4+ T cell\n"
     ]
    },
    {
     "name": "stderr",
     "output_type": "stream",
     "text": [
      "... done in 0.04 seconds.\n",
      "\n",
      "Fitting dispersions...\n",
      "... done in 1.95 seconds.\n",
      "\n",
      "Fitting dispersion trend curve...\n",
      "... done in 0.39 seconds.\n",
      "\n",
      "Fitting MAP dispersions...\n",
      "... done in 1.74 seconds.\n",
      "\n",
      "Fitting LFCs...\n",
      "... done in 1.23 seconds.\n",
      "\n",
      "Calculating cook's distance...\n",
      "... done in 0.08 seconds.\n",
      "\n",
      "Replacing 883 outlier genes.\n",
      "\n",
      "Fitting dispersions...\n",
      "... done in 0.11 seconds.\n",
      "\n",
      "Fitting MAP dispersions...\n",
      "... done in 0.11 seconds.\n",
      "\n",
      "Fitting LFCs...\n",
      "... done in 0.10 seconds.\n",
      "\n",
      "Running Wald tests...\n",
      "... done in 8.77 seconds.\n",
      "\n",
      "Fitting MAP LFCs...\n"
     ]
    },
    {
     "name": "stdout",
     "output_type": "stream",
     "text": [
      "Log2 fold change & Wald test p-value: origin tumor-primary vs normal-adjacent\n",
      "                baseMean  log2FoldChange     lfcSE      stat    pvalue  \\\n",
      "feature_name                                                             \n",
      "A1BG           68.409417       -0.403161  0.363153 -1.110170  0.266926   \n",
      "A1BG-AS1       12.580317        0.623197  0.342646  1.818775  0.068946   \n",
      "A2M            12.078685        0.277251  0.423670  0.654403  0.512852   \n",
      "A2M-AS1        11.573832       -0.346347  0.355080 -0.975406  0.329359   \n",
      "A2ML1           0.199986       -0.256593  1.561691 -0.164304  0.869491   \n",
      "...                  ...             ...       ...       ...       ...   \n",
      "ZXDC           13.965527        0.137765  0.302803  0.454965  0.649134   \n",
      "ZYG11A          0.226355       -0.205677  1.871029 -0.109927  0.912467   \n",
      "ZYG11B         22.581971       -0.044293  0.285489 -0.155148  0.876704   \n",
      "ZYX           131.585482        0.032505  0.185704  0.175034  0.861053   \n",
      "ZZEF1          39.032896       -0.074626  0.207538 -0.359578  0.719163   \n",
      "\n",
      "                  padj  \n",
      "feature_name            \n",
      "A1BG          0.716684  \n",
      "A1BG-AS1      0.438869  \n",
      "A2M           0.862854  \n",
      "A2M-AS1       0.774291  \n",
      "A2ML1              NaN  \n",
      "...                ...  \n",
      "ZXDC          0.907375  \n",
      "ZYG11A             NaN  \n",
      "ZYG11B        0.970695  \n",
      "ZYX           0.966623  \n",
      "ZZEF1         0.930312  \n",
      "\n",
      "[17811 rows x 6 columns]\n"
     ]
    },
    {
     "name": "stderr",
     "output_type": "stream",
     "text": [
      "/home/kvalem/.conda/envs/crc_atlas/lib/python3.11/site-packages/pydeseq2/utils.py:1260: RuntimeWarning: overflow encountered in exp\n",
      "  counts - (counts + size) / (1 + size * np.exp(-xbeta - offset))\n",
      "/home/kvalem/.conda/envs/crc_atlas/lib/python3.11/site-packages/pydeseq2/utils.py:1260: RuntimeWarning: overflow encountered in exp\n",
      "  counts - (counts + size) / (1 + size * np.exp(-xbeta - offset))\n",
      "/home/kvalem/.conda/envs/crc_atlas/lib/python3.11/site-packages/pydeseq2/utils.py:1260: RuntimeWarning: overflow encountered in exp\n",
      "  counts - (counts + size) / (1 + size * np.exp(-xbeta - offset))\n",
      "/home/kvalem/.conda/envs/crc_atlas/lib/python3.11/site-packages/pydeseq2/utils.py:1260: RuntimeWarning: overflow encountered in exp\n",
      "  counts - (counts + size) / (1 + size * np.exp(-xbeta - offset))\n",
      "/home/kvalem/.conda/envs/crc_atlas/lib/python3.11/site-packages/pydeseq2/utils.py:1260: RuntimeWarning: overflow encountered in exp\n",
      "  counts - (counts + size) / (1 + size * np.exp(-xbeta - offset))\n",
      "... done in 3.11 seconds.\n",
      "\n"
     ]
    },
    {
     "name": "stdout",
     "output_type": "stream",
     "text": [
      "Shrunk log2 fold change & Wald test p-value: origin tumor-primary vs normal-adjacent\n",
      "                baseMean  log2FoldChange     lfcSE      stat    pvalue  \\\n",
      "feature_name                                                             \n",
      "A1BG           68.409417   -3.090000e-06  0.001431 -1.110170  0.266926   \n",
      "A1BG-AS1       12.580317    5.328158e-06  0.001753  1.818775  0.068946   \n",
      "A2M            12.078685    1.613500e-06  0.001617  0.654403  0.512852   \n",
      "A2M-AS1        11.573832   -2.851820e-06  0.001456 -0.975406  0.329359   \n",
      "A2ML1           0.199986   -3.554808e-08  0.001541 -0.164304  0.869491   \n",
      "...                  ...             ...       ...       ...       ...   \n",
      "ZXDC           13.965527    1.712778e-06  0.001600  0.454965  0.649134   \n",
      "ZYG11A          0.226355   -8.508677e-08  0.001524 -0.109927  0.912467   \n",
      "ZYG11B         22.581971   -5.581784e-07  0.001532 -0.155148  0.876704   \n",
      "ZYX           131.585482    1.051806e-06  0.001554  0.175034  0.861053   \n",
      "ZZEF1          39.032896   -1.870712e-06  0.001523 -0.359578  0.719163   \n",
      "\n",
      "                  padj  \n",
      "feature_name            \n",
      "A1BG          0.716684  \n",
      "A1BG-AS1      0.438869  \n",
      "A2M           0.862854  \n",
      "A2M-AS1       0.774291  \n",
      "A2ML1              NaN  \n",
      "...                ...  \n",
      "ZXDC          0.907375  \n",
      "ZYG11A             NaN  \n",
      "ZYG11B        0.970695  \n",
      "ZYX           0.966623  \n",
      "ZZEF1         0.930312  \n",
      "\n",
      "[17811 rows x 6 columns]\n",
      "CD8+ T cell\n"
     ]
    },
    {
     "name": "stderr",
     "output_type": "stream",
     "text": [
      "Fitting size factors...\n",
      "... done in 0.04 seconds.\n",
      "\n"
     ]
    }
   ],
   "source": [
    "import pdb\n",
    "for contrast in contrasts:\n",
    "    de_res = {}\n",
    "\n",
    "    for ct in cell_types:\n",
    "        print(ct)\n",
    "        \n",
    "        pb_ct = pdata_tumor_normal_male[pdata_tumor_normal_male.obs[cell_type_class] == ct].copy()\n",
    "\n",
    "     \n",
    "        #pdb.set_trace()\n",
    "        if len(set(pb_ct.obs[\"origin\"]).intersection([contrast[\"reference\"], contrast[\"condition\"]])) < 1:\n",
    "             print(\n",
    "                 \"Not running DEseq for: \"\n",
    "                  + ct\n",
    "                  + \" : only present in: \"\n",
    "                  + str(set(pb_ct.obs[\"sex\"]).intersection([contrast[\"reference\"], contrast[\"condition\"]]))\n",
    "             )\n",
    "             continue\n",
    "        #pdb.set_trace()\n",
    "                     \n",
    "        dds = DeseqDataSet(\n",
    "           adata=pb_ct,\n",
    "           design_factors=[contrast[\"var\"]],\n",
    "           ref_level=[contrast[\"var\"], 'normal-adjacent'],\n",
    "           refit_cooks=True,\n",
    "           n_cpus=cpus,\n",
    "           )\n",
    "             \n",
    "        \n",
    "\n",
    "        # Compute LFCs\n",
    "        dds.deseq2()\n",
    "\n",
    " \n",
    "\n",
    "        \n",
    "\n",
    "        # Extract contrast\n",
    "        stat_res = DeseqStats(\n",
    "              dds,\n",
    "              contrast=[contrast[\"var\"],'tumor-primary', 'normal-adjacent'],\n",
    "              #n_cpus=cpus,\n",
    "          )\n",
    "   \n",
    "    \n",
    "\n",
    "        # Compute Wald test\n",
    "        stat_res.summary()\n",
    "\n",
    "        # Shrink LFCs\n",
    "\n",
    "        coeff = contrast[\"var\"] + \"_\" + contrast[\"name\"]\n",
    "        stat_res.lfc_shrink(coeff=coeff)\n",
    "\n",
    "        # Register cell type results\n",
    "        de_res[ct] = stat_res.results_df\n",
    "        de_res[ct][\"standardized_cell_type\"] = ct\n",
    "        de_res[ct][\"feature_name\"] = stat_res.results_df.index.values\n",
    "\n",
    "        de_res[ct].drop(columns=[\"feature_name\"]).to_csv(\n",
    "                Path(\n",
    "                    contrast[\"res_dir\"],\n",
    "                    ct.replace(\" \", \"_\") + \"_\" + contrast[\"name\"] + \"_deseq.tsv\",\n",
    "                ),\n",
    "                sep=\"\\t\",\n",
    "            )\n",
    "\n",
    "        # Register results for current contrast\n",
    "        contrast[\"de_res\"] = de_res\n",
    "        contrast[\"de_res_all\"] = pd.concat([df.assign(cell_type=ct) for ct, df in de_res.items()])"
   ]
  },
  {
   "cell_type": "code",
   "execution_count": null,
   "id": "aef73d54-5ec7-4f36-ac03-c895012debc4",
   "metadata": {},
   "outputs": [],
   "source": [
    "cell_types = contrast[\"de_res_all\"][\"cell_type\"].unique()\n",
    "\n",
    "# Loop through each cell type and save its data to CSV\n",
    "for cell_type in cell_types:\n",
    "    # Filter the DataFrame for the current cell type\n",
    "    ct_all_deg = contrast[\"de_res_all\"][contrast[\"de_res_all\"][\"cell_type\"] == cell_type]\n",
    "    \n",
    "    # Remove spaces from cell_type for the filename\n",
    "    cell_type_filename = cell_type.replace(\" \", \"\")\n",
    "    \n",
    "    # Save the full data for the cell type\n",
    "    filename_deg = f\"{cell_type_filename}_deg.csv\"\n",
    "    filepath_deg = os.path.join(resDir, filename_deg)\n",
    "    ct_all_deg.to_csv(filepath_deg, index=False)\n",
    "    print(f\"Saved full {cell_type} data to {filepath_deg}\")\n",
    "    \n",
    "    # Apply additional filtering for significant results\n",
    "    filtered_df = ct_all_deg[(ct_all_deg['padj'] < 0.1) & (ct_all_deg['log2FoldChange'].abs() > 1)]\n",
    "    \n",
    "    # Save the filtered significant data for the cell type\n",
    "    filename_sig_deg = f\"{cell_type_filename}_sig_deg.csv\"\n",
    "    filepath_sig_deg = os.path.join(resDir, filename_sig_deg)\n",
    "    filtered_df.to_csv(filepath_sig_deg, index=False)\n",
    "    print(f\"Saved significant {cell_type} data to {filepath_sig_deg}\")"
   ]
  },
  {
   "cell_type": "code",
   "execution_count": null,
   "id": "97bcba56-bdca-4332-918c-34362f11c8d9",
   "metadata": {
    "lines_to_next_cell": 2
   },
   "outputs": [],
   "source": [
    "import matplotlib.pyplot as plt\n",
    "from matplotlib.backends.backend_pdf import PdfPages\n",
    "\n",
    "# Assuming `contrast` and `dc` are already defined and set up in your environment\n",
    "cell_types = contrast[\"de_res_all\"][\"cell_type\"].unique()\n",
    "\n",
    "# Create a PDF file to save all volcano plots\n",
    "with PdfPages(f\"{resDir_figures}/volcano_plots_all_cell_types.pdf\") as pdf:\n",
    "    for cell_type in cell_types:\n",
    "        # Filter results for the current cell type\n",
    "        results_df = contrast[\"de_res_all\"][contrast[\"de_res_all\"][\"cell_type\"] == cell_type]\n",
    "\n",
    "        # Generate the volcano plot\n",
    "        plt.figure(figsize=(8, 4))\n",
    "        dc.plot_volcano_df(\n",
    "            results_df,\n",
    "            x='log2FoldChange',\n",
    "            y='padj',\n",
    "            top=20,\n",
    "            figsize=(8, 4)\n",
    "        )\n",
    "        \n",
    "        # Set title to indicate cell type\n",
    "        plt.title(f\"Volcano Plot for Cell Type: {cell_type}\")\n",
    "        \n",
    "        # Save the current figure to the PDF\n",
    "        pdf.savefig()\n",
    "        plt.close()  # Close the plot to avoid display issues in the next iteration\n",
    "\n",
    "print(\"PDF with all volcano plots saved as 'volcano_plots_all_cell_types.pdf'\")"
   ]
  },
  {
   "cell_type": "code",
   "execution_count": null,
   "id": "9e0d6b35-89b2-482c-9961-a5ac87361e62",
   "metadata": {},
   "outputs": [],
   "source": []
  }
 ],
 "metadata": {
  "kernelspec": {
   "display_name": "crc_atlas",
   "language": "python",
   "name": "crc_atlas"
  },
  "language_info": {
   "codemirror_mode": {
    "name": "ipython",
    "version": 3
   },
   "file_extension": ".py",
   "mimetype": "text/x-python",
   "name": "python",
   "nbconvert_exporter": "python",
   "pygments_lexer": "ipython3",
   "version": "3.11.6"
  }
 },
 "nbformat": 4,
 "nbformat_minor": 5
}
