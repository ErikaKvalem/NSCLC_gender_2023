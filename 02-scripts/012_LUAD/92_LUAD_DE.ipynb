{
 "cells": [
  {
   "cell_type": "code",
   "execution_count": 1,
   "id": "e16bdcee-7ae7-474f-ad5a-d2c97a4bf5bd",
   "metadata": {},
   "outputs": [
    {
     "name": "stderr",
     "output_type": "stream",
     "text": [
      "/home/kvalem/.local/lib/python3.11/site-packages/numba/core/cpu.py:99: UserWarning: Numba extension module 'awkward.numba' failed to load due to 'ModuleNotFoundError(No module named 'importlib_metadata')'.\n",
      "  numba.core.entrypoints.init_all()\n"
     ]
    }
   ],
   "source": [
    "import warnings\n",
    "import os\n",
    "from pathlib import Path \n",
    "import pandas as pd\n",
    "import scanpy as sc\n",
    "import numpy as np\n",
    "import matplotlib.pyplot as plt\n",
    "import altair as alt\n",
    "import anndata\n",
    "from pydeseq2.dds import DeseqDataSet\n",
    "from pydeseq2.ds import DeseqStats\n",
    "import decoupler as dc\n",
    "import itertools\n",
    "from scipy import sparse\n",
    "#import lib.data_helpers as dh\n",
    "\n",
    "#import lib.scanpy_helpers as sh\n",
    "#import lib.pl.util as pu"
   ]
  },
  {
   "cell_type": "code",
   "execution_count": 2,
   "id": "22f47bd7-6b63-406c-90be-1976dde7e6c0",
   "metadata": {},
   "outputs": [],
   "source": [
    "path = \"/data/projects/2023/LCBiome/nsclc_gender_atlas_tmp/out/011_analysis_paired_remove_xy/pseudobulk/\"\n",
    "resDir_figures = \"/data/projects/2023/LCBiome/nsclc_gender_atlas_tmp/out/012_LUAD/03012025/figures/LUAD_DE/\"\n",
    "resDir_tables = \"/data/projects/2023/LCBiome/nsclc_gender_atlas_tmp/out/012_LUAD/03012025/tables/LUAD_DE/\"\n",
    "input_path = f\"{path}/paired_adata_clean.h5ad\""
   ]
  },
  {
   "cell_type": "code",
   "execution_count": 3,
   "id": "b302a5bc-a55e-4546-8e09-df95182918ca",
   "metadata": {},
   "outputs": [],
   "source": [
    "adata = sc.read_h5ad(input_path) "
   ]
  },
  {
   "cell_type": "code",
   "execution_count": 4,
   "id": "09ab1800-30fa-43a7-a19e-9413399a1491",
   "metadata": {},
   "outputs": [
    {
     "data": {
      "text/plain": [
       "AnnData object with n_obs × n_vars = 466234 × 17811\n",
       "    obs: 'sample', 'uicc_stage', 'ever_smoker', 'age', 'donor_id', 'origin', 'dataset', 'ann_fine', 'cell_type_predicted', 'doublet_status', 'leiden', 'n_genes_by_counts', 'total_counts', 'total_counts_mito', 'pct_counts_mito', 'ann_coarse', 'cell_type_tumor', 'tumor_stage', 'EGFR_mutation', 'TP53_mutation', 'ALK_mutation', 'BRAF_mutation', 'ERBB2_mutation', 'KRAS_mutation', 'ROS_mutation', 'origin_fine', 'study', 'platform', 'cell_type_major', 'cell_type_neutro', 'cell_type_neutro_coarse', 'suspension_type', 'assay_ontology_term_id', 'cell_type_ontology_term_id', 'development_stage_ontology_term_id', 'disease_ontology_term_id', 'self_reported_ethnicity_ontology_term_id', 'is_primary_data', 'organism_ontology_term_id', 'sex_ontology_term_id', 'tissue_ontology_term_id', 'cell_type', 'assay', 'disease', 'organism', 'sex', 'tissue', 'self_reported_ethnicity', 'development_stage'\n",
       "    var: 'is_highly_variable', 'mito', 'n_cells_by_counts', 'mean_counts', 'pct_dropout_by_counts', 'total_counts', 'feature_is_filtered', 'feature_name', 'feature_reference', 'feature_biotype'\n",
       "    uns: '_scvi', 'ann_fine_colors', 'batch_condition', 'cell_type_major_colors', 'cell_type_tumor_colors', 'dataset_colors', 'default_embedding', 'hvg', 'log1p', 'neighbors', 'origin_colors', 'platform_colors', 'schema_version', 'sex_colors', 'title', 'umap'\n",
       "    obsm: 'X_scANVI', 'X_scVI', 'X_umap'\n",
       "    layers: 'count', 'counts_length_scaled', 'log1p_norm'\n",
       "    obsp: 'connectivities', 'distances'"
      ]
     },
     "execution_count": 4,
     "metadata": {},
     "output_type": "execute_result"
    }
   ],
   "source": [
    "adata"
   ]
  },
  {
   "cell_type": "markdown",
   "id": "d80dd4a4-e7e9-4b10-af92-17fa7b97f02c",
   "metadata": {},
   "source": [
    "## There are malignant cells in normal_adjacent samples\n",
    "Comming from 59 different patients and 14 datasets\n",
    "I cannot give an explanation for this so i remove this \"mislalbeled\" cells "
   ]
  },
  {
   "cell_type": "code",
   "execution_count": 5,
   "id": "456f79b3-729a-42e3-9a36-b248d431f319",
   "metadata": {},
   "outputs": [],
   "source": [
    "grouped = adata.obs.groupby(['cell_type', 'origin']).size().reset_index(name='cell_count')"
   ]
  },
  {
   "cell_type": "code",
   "execution_count": 6,
   "id": "09f280ae-168e-4771-b732-822d128e42f6",
   "metadata": {},
   "outputs": [
    {
     "data": {
      "text/html": [
       "<div>\n",
       "<style scoped>\n",
       "    .dataframe tbody tr th:only-of-type {\n",
       "        vertical-align: middle;\n",
       "    }\n",
       "\n",
       "    .dataframe tbody tr th {\n",
       "        vertical-align: top;\n",
       "    }\n",
       "\n",
       "    .dataframe thead th {\n",
       "        text-align: right;\n",
       "    }\n",
       "</style>\n",
       "<table border=\"1\" class=\"dataframe\">\n",
       "  <thead>\n",
       "    <tr style=\"text-align: right;\">\n",
       "      <th></th>\n",
       "      <th>cell_type</th>\n",
       "      <th>origin</th>\n",
       "      <th>cell_count</th>\n",
       "    </tr>\n",
       "  </thead>\n",
       "  <tbody>\n",
       "    <tr>\n",
       "      <th>0</th>\n",
       "      <td>epithelial cell</td>\n",
       "      <td>normal_adjacent</td>\n",
       "      <td>5532</td>\n",
       "    </tr>\n",
       "    <tr>\n",
       "      <th>1</th>\n",
       "      <td>epithelial cell</td>\n",
       "      <td>tumor_primary</td>\n",
       "      <td>17420</td>\n",
       "    </tr>\n",
       "    <tr>\n",
       "      <th>2</th>\n",
       "      <td>macrophage</td>\n",
       "      <td>normal_adjacent</td>\n",
       "      <td>82361</td>\n",
       "    </tr>\n",
       "    <tr>\n",
       "      <th>3</th>\n",
       "      <td>macrophage</td>\n",
       "      <td>tumor_primary</td>\n",
       "      <td>48086</td>\n",
       "    </tr>\n",
       "    <tr>\n",
       "      <th>4</th>\n",
       "      <td>B cell</td>\n",
       "      <td>normal_adjacent</td>\n",
       "      <td>4121</td>\n",
       "    </tr>\n",
       "    <tr>\n",
       "      <th>5</th>\n",
       "      <td>B cell</td>\n",
       "      <td>tumor_primary</td>\n",
       "      <td>23779</td>\n",
       "    </tr>\n",
       "    <tr>\n",
       "      <th>6</th>\n",
       "      <td>dendritic cell</td>\n",
       "      <td>normal_adjacent</td>\n",
       "      <td>446</td>\n",
       "    </tr>\n",
       "    <tr>\n",
       "      <th>7</th>\n",
       "      <td>dendritic cell</td>\n",
       "      <td>tumor_primary</td>\n",
       "      <td>712</td>\n",
       "    </tr>\n",
       "    <tr>\n",
       "      <th>8</th>\n",
       "      <td>CD4+ T cell</td>\n",
       "      <td>normal_adjacent</td>\n",
       "      <td>57758</td>\n",
       "    </tr>\n",
       "    <tr>\n",
       "      <th>9</th>\n",
       "      <td>CD4+ T cell</td>\n",
       "      <td>tumor_primary</td>\n",
       "      <td>62899</td>\n",
       "    </tr>\n",
       "    <tr>\n",
       "      <th>10</th>\n",
       "      <td>CD8+ T cell</td>\n",
       "      <td>normal_adjacent</td>\n",
       "      <td>43273</td>\n",
       "    </tr>\n",
       "    <tr>\n",
       "      <th>11</th>\n",
       "      <td>CD8+ T cell</td>\n",
       "      <td>tumor_primary</td>\n",
       "      <td>55399</td>\n",
       "    </tr>\n",
       "    <tr>\n",
       "      <th>12</th>\n",
       "      <td>neutrophil</td>\n",
       "      <td>normal_adjacent</td>\n",
       "      <td>6399</td>\n",
       "    </tr>\n",
       "    <tr>\n",
       "      <th>13</th>\n",
       "      <td>neutrophil</td>\n",
       "      <td>tumor_primary</td>\n",
       "      <td>8845</td>\n",
       "    </tr>\n",
       "    <tr>\n",
       "      <th>14</th>\n",
       "      <td>regulatory T cell</td>\n",
       "      <td>normal_adjacent</td>\n",
       "      <td>4090</td>\n",
       "    </tr>\n",
       "    <tr>\n",
       "      <th>15</th>\n",
       "      <td>regulatory T cell</td>\n",
       "      <td>tumor_primary</td>\n",
       "      <td>19321</td>\n",
       "    </tr>\n",
       "    <tr>\n",
       "      <th>16</th>\n",
       "      <td>malignant cell</td>\n",
       "      <td>normal_adjacent</td>\n",
       "      <td>760</td>\n",
       "    </tr>\n",
       "    <tr>\n",
       "      <th>17</th>\n",
       "      <td>malignant cell</td>\n",
       "      <td>tumor_primary</td>\n",
       "      <td>25033</td>\n",
       "    </tr>\n",
       "  </tbody>\n",
       "</table>\n",
       "</div>"
      ],
      "text/plain": [
       "            cell_type           origin  cell_count\n",
       "0     epithelial cell  normal_adjacent        5532\n",
       "1     epithelial cell    tumor_primary       17420\n",
       "2          macrophage  normal_adjacent       82361\n",
       "3          macrophage    tumor_primary       48086\n",
       "4              B cell  normal_adjacent        4121\n",
       "5              B cell    tumor_primary       23779\n",
       "6      dendritic cell  normal_adjacent         446\n",
       "7      dendritic cell    tumor_primary         712\n",
       "8         CD4+ T cell  normal_adjacent       57758\n",
       "9         CD4+ T cell    tumor_primary       62899\n",
       "10        CD8+ T cell  normal_adjacent       43273\n",
       "11        CD8+ T cell    tumor_primary       55399\n",
       "12         neutrophil  normal_adjacent        6399\n",
       "13         neutrophil    tumor_primary        8845\n",
       "14  regulatory T cell  normal_adjacent        4090\n",
       "15  regulatory T cell    tumor_primary       19321\n",
       "16     malignant cell  normal_adjacent         760\n",
       "17     malignant cell    tumor_primary       25033"
      ]
     },
     "execution_count": 6,
     "metadata": {},
     "output_type": "execute_result"
    }
   ],
   "source": [
    "grouped"
   ]
  },
  {
   "cell_type": "code",
   "execution_count": 7,
   "id": "1237edea-08af-44e3-9b68-82aac54b7910",
   "metadata": {},
   "outputs": [],
   "source": [
    "# Create a Boolean mask for the cells that you want to keep\n",
    "mask = ~((adata.obs['origin'] == 'normal_adjacent') & (adata.obs['cell_type'] == 'malignant cell'))\n",
    "\n",
    "# Subset the adata object using the mask to exclude the specific cells\n",
    "adata = adata[mask].copy()\n",
    "\n",
    "# Now `adata_filtered` contains all cells except those with origin == 'normal_adjacent' and cell_type == 'malignant cell'\n"
   ]
  },
  {
   "cell_type": "code",
   "execution_count": 8,
   "id": "d19a8270-bf0b-41a1-9dd0-a3d03ac3c54c",
   "metadata": {},
   "outputs": [
    {
     "data": {
      "text/html": [
       "<div>\n",
       "<style scoped>\n",
       "    .dataframe tbody tr th:only-of-type {\n",
       "        vertical-align: middle;\n",
       "    }\n",
       "\n",
       "    .dataframe tbody tr th {\n",
       "        vertical-align: top;\n",
       "    }\n",
       "\n",
       "    .dataframe thead th {\n",
       "        text-align: right;\n",
       "    }\n",
       "</style>\n",
       "<table border=\"1\" class=\"dataframe\">\n",
       "  <thead>\n",
       "    <tr style=\"text-align: right;\">\n",
       "      <th></th>\n",
       "      <th>cell_type</th>\n",
       "      <th>origin</th>\n",
       "      <th>cell_count</th>\n",
       "    </tr>\n",
       "  </thead>\n",
       "  <tbody>\n",
       "    <tr>\n",
       "      <th>0</th>\n",
       "      <td>epithelial cell</td>\n",
       "      <td>normal_adjacent</td>\n",
       "      <td>5532</td>\n",
       "    </tr>\n",
       "    <tr>\n",
       "      <th>1</th>\n",
       "      <td>epithelial cell</td>\n",
       "      <td>tumor_primary</td>\n",
       "      <td>17420</td>\n",
       "    </tr>\n",
       "    <tr>\n",
       "      <th>2</th>\n",
       "      <td>macrophage</td>\n",
       "      <td>normal_adjacent</td>\n",
       "      <td>82361</td>\n",
       "    </tr>\n",
       "    <tr>\n",
       "      <th>3</th>\n",
       "      <td>macrophage</td>\n",
       "      <td>tumor_primary</td>\n",
       "      <td>48086</td>\n",
       "    </tr>\n",
       "    <tr>\n",
       "      <th>4</th>\n",
       "      <td>B cell</td>\n",
       "      <td>normal_adjacent</td>\n",
       "      <td>4121</td>\n",
       "    </tr>\n",
       "    <tr>\n",
       "      <th>5</th>\n",
       "      <td>B cell</td>\n",
       "      <td>tumor_primary</td>\n",
       "      <td>23779</td>\n",
       "    </tr>\n",
       "    <tr>\n",
       "      <th>6</th>\n",
       "      <td>dendritic cell</td>\n",
       "      <td>normal_adjacent</td>\n",
       "      <td>446</td>\n",
       "    </tr>\n",
       "    <tr>\n",
       "      <th>7</th>\n",
       "      <td>dendritic cell</td>\n",
       "      <td>tumor_primary</td>\n",
       "      <td>712</td>\n",
       "    </tr>\n",
       "    <tr>\n",
       "      <th>8</th>\n",
       "      <td>CD4+ T cell</td>\n",
       "      <td>normal_adjacent</td>\n",
       "      <td>57758</td>\n",
       "    </tr>\n",
       "    <tr>\n",
       "      <th>9</th>\n",
       "      <td>CD4+ T cell</td>\n",
       "      <td>tumor_primary</td>\n",
       "      <td>62899</td>\n",
       "    </tr>\n",
       "    <tr>\n",
       "      <th>10</th>\n",
       "      <td>CD8+ T cell</td>\n",
       "      <td>normal_adjacent</td>\n",
       "      <td>43273</td>\n",
       "    </tr>\n",
       "    <tr>\n",
       "      <th>11</th>\n",
       "      <td>CD8+ T cell</td>\n",
       "      <td>tumor_primary</td>\n",
       "      <td>55399</td>\n",
       "    </tr>\n",
       "    <tr>\n",
       "      <th>12</th>\n",
       "      <td>neutrophil</td>\n",
       "      <td>normal_adjacent</td>\n",
       "      <td>6399</td>\n",
       "    </tr>\n",
       "    <tr>\n",
       "      <th>13</th>\n",
       "      <td>neutrophil</td>\n",
       "      <td>tumor_primary</td>\n",
       "      <td>8845</td>\n",
       "    </tr>\n",
       "    <tr>\n",
       "      <th>14</th>\n",
       "      <td>regulatory T cell</td>\n",
       "      <td>normal_adjacent</td>\n",
       "      <td>4090</td>\n",
       "    </tr>\n",
       "    <tr>\n",
       "      <th>15</th>\n",
       "      <td>regulatory T cell</td>\n",
       "      <td>tumor_primary</td>\n",
       "      <td>19321</td>\n",
       "    </tr>\n",
       "    <tr>\n",
       "      <th>16</th>\n",
       "      <td>malignant cell</td>\n",
       "      <td>normal_adjacent</td>\n",
       "      <td>0</td>\n",
       "    </tr>\n",
       "    <tr>\n",
       "      <th>17</th>\n",
       "      <td>malignant cell</td>\n",
       "      <td>tumor_primary</td>\n",
       "      <td>25033</td>\n",
       "    </tr>\n",
       "  </tbody>\n",
       "</table>\n",
       "</div>"
      ],
      "text/plain": [
       "            cell_type           origin  cell_count\n",
       "0     epithelial cell  normal_adjacent        5532\n",
       "1     epithelial cell    tumor_primary       17420\n",
       "2          macrophage  normal_adjacent       82361\n",
       "3          macrophage    tumor_primary       48086\n",
       "4              B cell  normal_adjacent        4121\n",
       "5              B cell    tumor_primary       23779\n",
       "6      dendritic cell  normal_adjacent         446\n",
       "7      dendritic cell    tumor_primary         712\n",
       "8         CD4+ T cell  normal_adjacent       57758\n",
       "9         CD4+ T cell    tumor_primary       62899\n",
       "10        CD8+ T cell  normal_adjacent       43273\n",
       "11        CD8+ T cell    tumor_primary       55399\n",
       "12         neutrophil  normal_adjacent        6399\n",
       "13         neutrophil    tumor_primary        8845\n",
       "14  regulatory T cell  normal_adjacent        4090\n",
       "15  regulatory T cell    tumor_primary       19321\n",
       "16     malignant cell  normal_adjacent           0\n",
       "17     malignant cell    tumor_primary       25033"
      ]
     },
     "execution_count": 8,
     "metadata": {},
     "output_type": "execute_result"
    }
   ],
   "source": [
    "grouped = adata.obs.groupby(['cell_type', 'origin']).size().reset_index(name='cell_count')\n",
    "grouped"
   ]
  },
  {
   "cell_type": "code",
   "execution_count": 9,
   "id": "b294c685-6846-4687-bb5e-f2d6259767e6",
   "metadata": {},
   "outputs": [],
   "source": [
    "adata_normal = adata[adata.obs[\"origin\"]==\"normal_adjacent\"]\n",
    "#adata_normal = adata_normal[~adata_normal.obs[\"cell_type\"].isin([\"malignant cell\"])]"
   ]
  },
  {
   "cell_type": "code",
   "execution_count": 10,
   "id": "e09eb487-4cd8-47c8-8a8f-763ea846365e",
   "metadata": {},
   "outputs": [
    {
     "data": {
      "text/plain": [
       "{'B cell',\n",
       " 'CD4+ T cell',\n",
       " 'CD8+ T cell',\n",
       " 'dendritic cell',\n",
       " 'epithelial cell',\n",
       " 'macrophage',\n",
       " 'neutrophil',\n",
       " 'regulatory T cell'}"
      ]
     },
     "execution_count": 10,
     "metadata": {},
     "output_type": "execute_result"
    }
   ],
   "source": [
    "set(adata_normal.obs.cell_type)"
   ]
  },
  {
   "cell_type": "code",
   "execution_count": 11,
   "id": "328ddbdc-878e-4c07-85b4-5722f779b8a3",
   "metadata": {},
   "outputs": [],
   "source": [
    "adata_tumor = adata[adata.obs[\"origin\"]==\"tumor_primary\"]"
   ]
  },
  {
   "cell_type": "code",
   "execution_count": 12,
   "id": "2d2130c4-eb94-47c5-8a7c-d10790e22005",
   "metadata": {},
   "outputs": [
    {
     "data": {
      "text/plain": [
       "{'B cell',\n",
       " 'CD4+ T cell',\n",
       " 'CD8+ T cell',\n",
       " 'dendritic cell',\n",
       " 'epithelial cell',\n",
       " 'macrophage',\n",
       " 'neutrophil',\n",
       " 'regulatory T cell'}"
      ]
     },
     "execution_count": 12,
     "metadata": {},
     "output_type": "execute_result"
    }
   ],
   "source": [
    "set(adata_normal.obs.cell_type)"
   ]
  },
  {
   "cell_type": "code",
   "execution_count": 13,
   "id": "1a71968f-bea9-4959-8f51-d88ea23a4ab5",
   "metadata": {},
   "outputs": [],
   "source": [
    "adata_normal = adata[adata.obs[\"origin\"]==\"normal_adjacent\"]\n",
    "#adata_normal = adata_normal[~adata_normal.obs[\"cell_type\"].isin([\"malignant cell\"])]"
   ]
  },
  {
   "cell_type": "code",
   "execution_count": 14,
   "id": "bf8fc463-3287-4c83-8695-856d6bef25a5",
   "metadata": {},
   "outputs": [],
   "source": [
    "adata_tumor = adata[adata.obs[\"origin\"]==\"tumor_primary\"]"
   ]
  },
  {
   "cell_type": "code",
   "execution_count": 15,
   "id": "f9541bae-a756-46c4-8b9c-028bb4977437",
   "metadata": {},
   "outputs": [
    {
     "data": {
      "text/plain": [
       "AnnData object with n_obs × n_vars = 465474 × 17811\n",
       "    obs: 'sample', 'uicc_stage', 'ever_smoker', 'age', 'donor_id', 'origin', 'dataset', 'ann_fine', 'cell_type_predicted', 'doublet_status', 'leiden', 'n_genes_by_counts', 'total_counts', 'total_counts_mito', 'pct_counts_mito', 'ann_coarse', 'cell_type_tumor', 'tumor_stage', 'EGFR_mutation', 'TP53_mutation', 'ALK_mutation', 'BRAF_mutation', 'ERBB2_mutation', 'KRAS_mutation', 'ROS_mutation', 'origin_fine', 'study', 'platform', 'cell_type_major', 'cell_type_neutro', 'cell_type_neutro_coarse', 'suspension_type', 'assay_ontology_term_id', 'cell_type_ontology_term_id', 'development_stage_ontology_term_id', 'disease_ontology_term_id', 'self_reported_ethnicity_ontology_term_id', 'is_primary_data', 'organism_ontology_term_id', 'sex_ontology_term_id', 'tissue_ontology_term_id', 'cell_type', 'assay', 'disease', 'organism', 'sex', 'tissue', 'self_reported_ethnicity', 'development_stage'\n",
       "    var: 'is_highly_variable', 'mito', 'n_cells_by_counts', 'mean_counts', 'pct_dropout_by_counts', 'total_counts', 'feature_is_filtered', 'feature_name', 'feature_reference', 'feature_biotype'\n",
       "    uns: '_scvi', 'ann_fine_colors', 'batch_condition', 'cell_type_major_colors', 'cell_type_tumor_colors', 'dataset_colors', 'default_embedding', 'hvg', 'log1p', 'neighbors', 'origin_colors', 'platform_colors', 'schema_version', 'sex_colors', 'title', 'umap'\n",
       "    obsm: 'X_scANVI', 'X_scVI', 'X_umap'\n",
       "    layers: 'count', 'counts_length_scaled', 'log1p_norm'\n",
       "    obsp: 'connectivities', 'distances'"
      ]
     },
     "execution_count": 15,
     "metadata": {},
     "output_type": "execute_result"
    }
   ],
   "source": [
    "adata"
   ]
  },
  {
   "cell_type": "code",
   "execution_count": 16,
   "id": "23eb009f-183e-4dff-8316-cffe2bc1091f",
   "metadata": {},
   "outputs": [],
   "source": [
    "adata_male = adata[adata.obs[\"sex\"]==\"male\"]"
   ]
  },
  {
   "cell_type": "code",
   "execution_count": 17,
   "id": "4d1b5e85-2527-4d1c-99fa-610707886713",
   "metadata": {},
   "outputs": [],
   "source": [
    "adata_female = adata[adata.obs[\"sex\"]==\"female\"]"
   ]
  },
  {
   "cell_type": "markdown",
   "id": "93a631e2-f821-4c9d-ab5f-1c614e31555a",
   "metadata": {},
   "source": [
    "## Prepare for pseudobulk"
   ]
  },
  {
   "cell_type": "code",
   "execution_count": 18,
   "id": "3aab4e92-5686-4453-895f-d37d0c04d2a5",
   "metadata": {},
   "outputs": [],
   "source": [
    "contrasts = [\n",
    "        dict(var = \"origin\", condition = \"tumor_primary\", reference = \"normal_adjacent\"),\n",
    "    ]"
   ]
  },
  {
   "cell_type": "code",
   "execution_count": 19,
   "id": "b9fec3e6-3081-4f1b-a09b-f768bbac6449",
   "metadata": {
    "lines_to_next_cell": 0
   },
   "outputs": [
    {
     "data": {
      "text/plain": [
       "[{'var': 'origin',\n",
       "  'condition': 'tumor_primary',\n",
       "  'reference': 'normal_adjacent'}]"
      ]
     },
     "execution_count": 19,
     "metadata": {},
     "output_type": "execute_result"
    }
   ],
   "source": [
    "contrasts"
   ]
  },
  {
   "cell_type": "code",
   "execution_count": 20,
   "id": "e594b137-8749-4b47-8cf0-d3c4e5ea9d9b",
   "metadata": {},
   "outputs": [
    {
     "data": {
      "text/plain": [
       "'tumor_primary_vs_normal_adjacent'"
      ]
     },
     "execution_count": 20,
     "metadata": {},
     "output_type": "execute_result"
    }
   ],
   "source": [
    "contrasts[0][\"condition\"].replace(\" \", \"_\") + \"_vs_\" + contrasts[0][\"reference\"].replace(\" \", \"_\")"
   ]
  },
  {
   "cell_type": "code",
   "execution_count": 22,
   "id": "98d3567a-8711-4498-8330-b26adc6c1d7f",
   "metadata": {},
   "outputs": [
    {
     "data": {
      "text/plain": [
       "'/data/projects/2023/LCBiome/nsclc_gender_atlas_tmp/out/012_LUAD/03012025/tables/LUAD_DE/'"
      ]
     },
     "execution_count": 22,
     "metadata": {},
     "output_type": "execute_result"
    }
   ],
   "source": [
    "resDir_tables"
   ]
  },
  {
   "cell_type": "code",
   "execution_count": 22,
   "id": "08bd7241-10d2-4275-a5b9-f28c25be88e2",
   "metadata": {},
   "outputs": [],
   "source": [
    "for contrast in contrasts:\n",
    "    name = contrast[\"condition\"].replace(\" \", \"_\") + \"_vs_\" + contrast[\"reference\"].replace(\" \", \"_\")\n",
    "    contrast[\"name\"] = name\n",
    "    res_dir = Path(resDir_tables, name, \"tables\")\n",
    "    os.makedirs(resDir_tables, mode = 0o750, exist_ok = True)\n",
    "    contrast[\"res_dir\"] = resDir"
   ]
  },
  {
   "cell_type": "code",
   "execution_count": 23,
   "id": "ff2d6f1e-2481-4dae-a49d-fbb1426fd0b9",
   "metadata": {},
   "outputs": [],
   "source": [
    "cell_type_class = \"cell_type\""
   ]
  },
  {
   "cell_type": "code",
   "execution_count": 24,
   "id": "7cbfe361-9a46-42e3-8b39-bcda74d64729",
   "metadata": {},
   "outputs": [
    {
     "data": {
      "text/plain": [
       "'/data/projects/2023/LCBiome/nsclc_gender_atlas_tmp/out/011_analysis_paired_remove_xy/figures/'"
      ]
     },
     "execution_count": 24,
     "metadata": {},
     "output_type": "execute_result"
    }
   ],
   "source": [
    "contrast[\"res_dir\"]"
   ]
  },
  {
   "cell_type": "code",
   "execution_count": null,
   "id": "bb2a9221-a889-41e7-a9c9-59d384cd68a0",
   "metadata": {},
   "outputs": [],
   "source": [
    "pdata = dc.get_pseudobulk(adata,\n",
    "                          sample_col='sample',\n",
    "                          groups_col=cell_type_class,\n",
    "                          layer='count',\n",
    "                          mode='sum',\n",
    "                          min_cells=10,\n",
    "                          min_counts=1000\n",
    "                         )"
   ]
  },
  {
   "cell_type": "code",
   "execution_count": null,
   "id": "1fab92d4-0fbc-40b0-8e3e-ca276b4462f9",
   "metadata": {},
   "outputs": [],
   "source": [
    "pdata.X = pdata.X.astype(int)"
   ]
  },
  {
   "cell_type": "code",
   "execution_count": null,
   "id": "26fca082-014b-4c1c-84b1-50a5f944db99",
   "metadata": {},
   "outputs": [],
   "source": [
    "pdata.var_names = pdata.var[\"feature_name\"].astype(str)"
   ]
  },
  {
   "cell_type": "code",
   "execution_count": null,
   "id": "946e30f3-ca0c-4527-959b-ebf62cb2678a",
   "metadata": {},
   "outputs": [],
   "source": [
    "pdata_obs_df = pdata.obs"
   ]
  },
  {
   "cell_type": "code",
   "execution_count": null,
   "id": "aa4facd2-7fa1-43ca-bd3a-cd9abafc4af4",
   "metadata": {},
   "outputs": [],
   "source": [
    "pdata"
   ]
  },
  {
   "cell_type": "code",
   "execution_count": null,
   "id": "682718d7-5233-425e-815b-b3ca570add58",
   "metadata": {},
   "outputs": [],
   "source": [
    "# Group by patient and filter for patients who have samples in both 'tumor' and 'normal_adjacent' conditions\n",
    "patients_with_both_conditions = pdata_obs_df.groupby('donor_id')['origin'].apply(lambda x: set(x) >= {'tumor_primary', 'normal_adjacent'})"
   ]
  },
  {
   "cell_type": "code",
   "execution_count": null,
   "id": "009b87fd-b915-4cb0-9e8b-ab8374af37b1",
   "metadata": {},
   "outputs": [],
   "source": [
    "# Get the patient IDs that meet the condition\n",
    "patients_with_both_conditions_ids = patients_with_both_conditions[patients_with_both_conditions].index"
   ]
  },
  {
   "cell_type": "code",
   "execution_count": null,
   "id": "bacd47b9-e19c-48c9-a5c7-525005477dbc",
   "metadata": {},
   "outputs": [],
   "source": [
    "pdata_tumor_normal = pdata[pdata.obs['donor_id'].isin(patients_with_both_conditions_ids)]"
   ]
  },
  {
   "cell_type": "code",
   "execution_count": null,
   "id": "e9c8e063-ffa2-44ed-a57a-1b40b5577119",
   "metadata": {},
   "outputs": [],
   "source": [
    "cell_type_class"
   ]
  },
  {
   "cell_type": "code",
   "execution_count": null,
   "id": "2784f408-3b12-4f84-bf68-7e934b075386",
   "metadata": {},
   "outputs": [],
   "source": [
    "## Run deseq2 on pseudobulk all cell types\n",
    "#cell_types = pdata_tumor_normal.obs[cell_type_class].unique()"
   ]
  },
  {
   "cell_type": "code",
   "execution_count": null,
   "id": "1e7e7423-9fbb-43f8-94c1-b05a2e2185bc",
   "metadata": {},
   "outputs": [],
   "source": [
    "contrast[\"reference\"]"
   ]
  },
  {
   "cell_type": "code",
   "execution_count": null,
   "id": "3bbbbd74-3ef2-486e-9666-9725c72cfffa",
   "metadata": {},
   "outputs": [],
   "source": [
    "contrast[\"condition\"]"
   ]
  },
  {
   "cell_type": "code",
   "execution_count": null,
   "id": "88c40d2e-b7a9-43d8-be5f-014136ce10f7",
   "metadata": {},
   "outputs": [],
   "source": [
    "pdata_tumor_normal.obs['sex'] = pdata_tumor_normal.obs['sex'].astype('category')"
   ]
  },
  {
   "cell_type": "code",
   "execution_count": null,
   "id": "762683f5-ba14-4465-9606-a737f0fc4221",
   "metadata": {},
   "outputs": [],
   "source": [
    "cpus=16"
   ]
  },
  {
   "cell_type": "code",
   "execution_count": null,
   "id": "7df7538a-42be-48bb-ae0a-f93107d67e44",
   "metadata": {},
   "outputs": [],
   "source": [
    "pdata_tumor_normal"
   ]
  },
  {
   "cell_type": "code",
   "execution_count": null,
   "id": "22aa039f-b6c8-483a-a95d-30857f2b32da",
   "metadata": {},
   "outputs": [],
   "source": [
    "pdata_tumor_normal.obs[\"cell_type\"]= pdata_tumor_normal.obs[\"cell_type\"].replace(['epithelial cell of lung','multi-ciliated epithelial cell',], 'epithelial cell')\n",
    "pdata_tumor_normal.obs[\"cell_type\"]= pdata_tumor_normal.obs[\"cell_type\"].replace(['alveolar macrophage'], 'macrophage')\n",
    "pdata_tumor_normal.obs[\"cell_type\"]= pdata_tumor_normal.obs[\"cell_type\"].replace(['CD4-positive, alpha-beta T cell'], 'CD4+ T cell')\n",
    "pdata_tumor_normal.obs[\"cell_type\"]= pdata_tumor_normal.obs[\"cell_type\"].replace(['CD8-positive, alpha-beta T cell'], 'CD8+ T cell')"
   ]
  },
  {
   "cell_type": "code",
   "execution_count": null,
   "id": "aab20e1e-8396-406c-96ba-e26c9d3786cb",
   "metadata": {},
   "outputs": [],
   "source": [
    "pdata_tumor_normal.obs[\"cell_type\"].value_counts()"
   ]
  },
  {
   "cell_type": "code",
   "execution_count": null,
   "id": "8fb7d74a-80fc-4621-b071-d95545530d06",
   "metadata": {},
   "outputs": [],
   "source": [
    "pdata_tumor_normal"
   ]
  },
  {
   "cell_type": "code",
   "execution_count": null,
   "id": "4c8e5253-21c7-457e-bd5b-e4112ee25b54",
   "metadata": {},
   "outputs": [],
   "source": [
    "pdata_only_tumor = pdata_tumor_normal[pdata_tumor_normal.obs[\"origin\"]==\"tumor_primary\"]"
   ]
  },
  {
   "cell_type": "code",
   "execution_count": null,
   "id": "21e92241-4371-4d5e-8c9a-fee0e8623d18",
   "metadata": {},
   "outputs": [],
   "source": [
    "pdata_only_tumor"
   ]
  },
  {
   "cell_type": "code",
   "execution_count": null,
   "id": "0f2146e6-70df-483c-ac40-996ea95e38b0",
   "metadata": {},
   "outputs": [],
   "source": [
    "resDir"
   ]
  },
  {
   "cell_type": "code",
   "execution_count": null,
   "id": "11a0abfc-867f-4d25-ac53-38cd8f94ce0d",
   "metadata": {},
   "outputs": [],
   "source": [
    "cell_types = pdata_only_tumor.obs[cell_type_class].unique()"
   ]
  },
  {
   "cell_type": "code",
   "execution_count": null,
   "id": "e74fb08a-d034-4269-904d-7a6220b4ee59",
   "metadata": {},
   "outputs": [],
   "source": [
    "cell_types"
   ]
  },
  {
   "cell_type": "markdown",
   "id": "954b8ed9-3fa2-4a41-9851-192f49a6ad88",
   "metadata": {},
   "source": [
    "## Pydeseq tumor vs normal"
   ]
  },
  {
   "cell_type": "code",
   "execution_count": null,
   "id": "72136d8c-55f0-4b80-8513-91d05a142641",
   "metadata": {
    "lines_to_next_cell": 2,
    "scrolled": true
   },
   "outputs": [],
   "source": [
    "import pdb\n",
    "for contrast in contrasts:\n",
    "    de_res = {}\n",
    "\n",
    "    for ct in cell_types:\n",
    "        print(\"Working on: \" + ct)\n",
    "        pb_ct = pdata_only_tumor[pdata_only_tumor.obs[cell_type_class] == ct].copy()\n",
    "        \n",
    "     \n",
    "        #pdb.set_trace()\n",
    "        if len(set(pb_ct.obs[\"origin\"]).intersection([contrast[\"reference\"], contrast[\"condition\"]])) < 1:\n",
    "             print(\n",
    "                 \"Not running DEseq for: \"\n",
    "                  + ct\n",
    "                  + \" : only present in: \"\n",
    "                  + str(set(pb_ct.obs[\"sex\"]).intersection([contrast[\"reference\"], contrast[\"condition\"]]))\n",
    "             )\n",
    "             continue\n",
    "        #pdb.set_trace()\n",
    "                     \n",
    "        dds = DeseqDataSet(\n",
    "           adata=pb_ct,\n",
    "           design_factors=[contrast[\"var\"]],\n",
    "           ref_level=[contrast[\"var\"], 'female'],\n",
    "           refit_cooks=True,\n",
    "           n_cpus=cpus,\n",
    "           )\n",
    "             \n",
    "        \n",
    "\n",
    "        # Compute LFCs\n",
    "        dds.deseq2()\n",
    "\n",
    " \n",
    "\n",
    "        \n",
    "\n",
    "        # Extract contrast\n",
    "        stat_res = DeseqStats(\n",
    "              dds,\n",
    "              contrast=[contrast[\"var\"],'male', 'female'],\n",
    "              #n_cpus=cpus,\n",
    "          )\n",
    "   \n",
    "    \n",
    "\n",
    "        # Compute Wald test\n",
    "        stat_res.summary()\n",
    "\n",
    "        # Shrink LFCs\n",
    "        coeff = contrast[\"var\"] + \"_\" + contrast[\"name\"]\n",
    "        stat_res.lfc_shrink(coeff=coeff)\n",
    "\n",
    "        # Register cell type results\n",
    "        de_res[ct] = stat_res.results_df\n",
    "        de_res[ct][\"cell_type\"] = ct\n",
    "        de_res[ct][\"feature_name\"] = stat_res.results_df.index.values\n",
    "\n",
    "        de_res[ct].drop(columns=[\"feature_name\"]).to_csv(\n",
    "                Path(\n",
    "                    contrast[\"res_dir\"],\n",
    "                    ct.replace(\" \", \"_\") + \"_\" + contrast[\"name\"] + \"_deseq.tsv\",\n",
    "                ),\n",
    "                sep=\"\\t\",\n",
    "            )\n",
    "\n",
    "        # Register results for current contrast\n",
    "        contrast[\"de_res\"] = de_res\n",
    "        contrast[\"de_res_all\"] = pd.concat([df.assign(cell_type=ct) for ct, df in de_res.items()])"
   ]
  },
  {
   "cell_type": "code",
   "execution_count": null,
   "id": "deb16bdc-9332-4f09-9926-cecca3ce8dad",
   "metadata": {},
   "outputs": [],
   "source": [
    "resDir"
   ]
  },
  {
   "cell_type": "code",
   "execution_count": null,
   "id": "aef73d54-5ec7-4f36-ac03-c895012debc4",
   "metadata": {},
   "outputs": [],
   "source": [
    "cell_types = contrast[\"de_res_all\"][\"cell_type\"].unique()\n",
    "\n",
    "# Loop through each cell type and save its data to CSV\n",
    "for cell_type in cell_types:\n",
    "    # Filter the DataFrame for the current cell type\n",
    "    ct_all_deg = contrast[\"de_res_all\"][contrast[\"de_res_all\"][\"cell_type\"] == cell_type]\n",
    "    \n",
    "    # Remove spaces from cell_type for the filename\n",
    "    cell_type_filename = cell_type.replace(\" \", \"\")\n",
    "    \n",
    "    # Save the full data for the cell type\n",
    "    filename_deg = f\"{cell_type_filename}_deg.csv\"\n",
    "    filepath_deg = os.path.join(resDir, filename_deg)\n",
    "    ct_all_deg.to_csv(filepath_deg, index=False)\n",
    "    print(f\"Saved full {cell_type} data to {filepath_deg}\")\n",
    "    \n",
    "    # Apply additional filtering for significant results\n",
    "    filtered_df = ct_all_deg[(ct_all_deg['padj'] < 0.1) & (ct_all_deg['log2FoldChange'].abs() > 1)]\n",
    "    \n",
    "    # Save the filtered significant data for the cell type\n",
    "    filename_sig_deg = f\"{cell_type_filename}_sig_deg.csv\"\n",
    "    filepath_sig_deg = os.path.join(resDir, filename_sig_deg)\n",
    "    filtered_df.to_csv(filepath_sig_deg, index=False)\n",
    "    print(f\"Saved significant {cell_type} data to {filepath_sig_deg}\")"
   ]
  },
  {
   "cell_type": "code",
   "execution_count": null,
   "id": "9af9d0a7-eb9c-4295-9786-f2545792b3ee",
   "metadata": {},
   "outputs": [],
   "source": [
    "pdata_only_tumor.obs.origin.value_counts()"
   ]
  },
  {
   "cell_type": "code",
   "execution_count": null,
   "id": "97bcba56-bdca-4332-918c-34362f11c8d9",
   "metadata": {
    "lines_to_next_cell": 2
   },
   "outputs": [],
   "source": [
    "import matplotlib.pyplot as plt\n",
    "from matplotlib.backends.backend_pdf import PdfPages\n",
    "\n",
    "# Assuming `contrast` and `dc` are already defined and set up in your environment\n",
    "cell_types = contrast[\"de_res_all\"][\"cell_type\"].unique()\n",
    "\n",
    "# Create a PDF file to save all volcano plots\n",
    "with PdfPages(f\"{resDir_figures}/volcano_plots_all_cell_types.pdf\") as pdf:\n",
    "    for cell_type in cell_types:\n",
    "        # Filter results for the current cell type\n",
    "        results_df = contrast[\"de_res_all\"][contrast[\"de_res_all\"][\"cell_type\"] == cell_type]\n",
    "\n",
    "        # Generate the volcano plot\n",
    "        plt.figure(figsize=(8, 4))\n",
    "        dc.plot_volcano_df(\n",
    "            results_df,\n",
    "            x='log2FoldChange',\n",
    "            y='padj',\n",
    "            top=20,\n",
    "            figsize=(8, 4)\n",
    "        )\n",
    "        \n",
    "        # Set title to indicate cell type\n",
    "        plt.title(f\"Volcano Plot for Cell Type: {cell_type}\")\n",
    "        \n",
    "        # Save the current figure to the PDF\n",
    "        pdf.savefig()\n",
    "        plt.close()  # Close the plot to avoid display issues in the next iteration\n",
    "\n",
    "print(\"PDF with all volcano plots saved as 'volcano_plots_all_cell_types.pdf'\")"
   ]
  },
  {
   "cell_type": "code",
   "execution_count": null,
   "id": "9e0d6b35-89b2-482c-9961-a5ac87361e62",
   "metadata": {},
   "outputs": [],
   "source": []
  }
 ],
 "metadata": {
  "kernelspec": {
   "display_name": "crc_atlas",
   "language": "python",
   "name": "crc_atlas"
  },
  "language_info": {
   "codemirror_mode": {
    "name": "ipython",
    "version": 3
   },
   "file_extension": ".py",
   "mimetype": "text/x-python",
   "name": "python",
   "nbconvert_exporter": "python",
   "pygments_lexer": "ipython3",
   "version": "3.11.6"
  }
 },
 "nbformat": 4,
 "nbformat_minor": 5
}
