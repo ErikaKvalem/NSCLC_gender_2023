{
 "cells": [
  {
   "cell_type": "code",
   "execution_count": 1,
   "id": "edbb3fde-d351-4387-896d-e931307eeb53",
   "metadata": {},
   "outputs": [],
   "source": [
    "import warnings\n",
    "import numpy as np\n",
    "import pandas as pd \n",
    "import scanpy as sc\n",
    "#import tensorflow as tf\n",
    "import matplotlib.pyplot as plt\n",
    "import matplotlib\n",
    "import seaborn as sns\n",
    "#import altair as alt\n",
    "#import pertpy as pt\n",
    "#from pandas.api.types import is_categorical_dtype\n",
    "#from pandas import CategoricalDtype"
   ]
  },
  {
   "cell_type": "code",
   "execution_count": 2,
   "id": "fe038019-17ef-4972-a4d0-f129a520e6f3",
   "metadata": {},
   "outputs": [],
   "source": [
    "input_path    = \"/data/projects/2023/LCBiome/nsclc_gender_atlas_tmp/data/local.h5ad\"\n",
    "adata = sc.read_h5ad(input_path) "
   ]
  },
  {
   "cell_type": "markdown",
   "id": "9564a63b-313e-453f-8d2f-a4d7f39c153c",
   "metadata": {},
   "source": [
    "### SELECT ONLY male, female & tumor, normal_adjacent"
   ]
  },
  {
   "cell_type": "code",
   "execution_count": 56,
   "id": "1c8b08b4-3f4e-419f-a329-e7c936c2c5c5",
   "metadata": {},
   "outputs": [],
   "source": [
    "adata = adata[(adata.obs[\"disease\"] != \"normal\") & (adata.obs[\"disease\"] != \"chronic obstructive pulmonary disease\")] #exclude normal and COPD samples\n",
    "adata = adata[adata.obs[\"tumor_stage\"].notna()] #exclude samples without tumor stage\n",
    "adata = adata[(adata.obs[\"sex\"]==\"male\")| (adata.obs[\"sex\"]==\"female\")]"
   ]
  },
  {
   "cell_type": "code",
   "execution_count": 57,
   "id": "267fc46a-7815-432c-b6b4-3e9495b5111b",
   "metadata": {},
   "outputs": [],
   "source": [
    "adata = adata[(adata.obs[\"origin\"]==\"tumor_primary\")| (adata.obs[\"origin\"]==\"normal_adjacent\")]"
   ]
  },
  {
   "cell_type": "markdown",
   "id": "6bc95759-1287-4ef1-a17d-a856597ed1ed",
   "metadata": {},
   "source": [
    "### CELL TPYE RE-CLASIFICATION "
   ]
  },
  {
   "cell_type": "code",
   "execution_count": 261,
   "id": "7ccd41a0-c15a-4346-929c-b61825097693",
   "metadata": {
    "tags": []
   },
   "outputs": [],
   "source": [
    "cells_of_interest=['alveolar macrophage', 'neutrophil',\n",
    " 'macrophage','malignant cell',\n",
    " 'B cell',\n",
    "  'regulatory T cell',\n",
    "'CD4-positive, alpha-beta T cell',\n",
    " 'CD8-positive, alpha-beta T cell',\n",
    " 'neutrophils','epithelial cell of lung','multi-ciliated epithelial cell' ]\n",
    "subset_adata = adata[adata.obs[\"cell_type\"].isin(cells_of_interest)] \n"
   ]
  },
  {
   "cell_type": "code",
   "execution_count": 60,
   "id": "711af383-82d3-490e-9144-0eb14ea2972b",
   "metadata": {},
   "outputs": [
    {
     "data": {
      "text/plain": [
       "{'B cell',\n",
       " 'CD4-positive, alpha-beta T cell',\n",
       " 'CD8-positive, alpha-beta T cell',\n",
       " 'alveolar macrophage',\n",
       " 'epithelial cell of lung',\n",
       " 'macrophage',\n",
       " 'malignant cell',\n",
       " 'multi-ciliated epithelial cell',\n",
       " 'regulatory T cell'}"
      ]
     },
     "execution_count": 60,
     "metadata": {},
     "output_type": "execute_result"
    }
   ],
   "source": [
    "set(subset_adata.obs.cell_type)"
   ]
  },
  {
   "cell_type": "code",
   "execution_count": 262,
   "id": "2aa41398-d555-495b-a21c-569ef21d03fa",
   "metadata": {},
   "outputs": [
    {
     "name": "stderr",
     "output_type": "stream",
     "text": [
      "/tmp/ipykernel_54357/2170802957.py:1: ImplicitModificationWarning: Trying to modify attribute `.obs` of view, initializing view as actual.\n",
      "  subset_adata.obs[\"cell_type\"]= subset_adata.obs[\"cell_type\"].replace(['epithelial cell of lung','multi-ciliated epithelial cell',], 'epithelial cell')\n"
     ]
    }
   ],
   "source": [
    "subset_adata.obs[\"cell_type\"]= subset_adata.obs[\"cell_type\"].replace(['epithelial cell of lung','multi-ciliated epithelial cell',], 'epithelial cell')\n",
    "subset_adata.obs[\"cell_type\"]= subset_adata.obs[\"cell_type\"].replace(['alveolar macrophage'], 'macrophage')\n",
    "subset_adata.obs[\"cell_type\"]= subset_adata.obs[\"cell_type\"].replace(['CD4-positive, alpha-beta T cell'], 'CD4+ T cell')\n",
    "subset_adata.obs[\"cell_type\"]= subset_adata.obs[\"cell_type\"].replace(['CD8-positive, alpha-beta T cell'], 'CD8+ T cell')"
   ]
  },
  {
   "cell_type": "code",
   "execution_count": null,
   "id": "b386f50d-964a-4d90-a95b-00413e5fc474",
   "metadata": {},
   "outputs": [],
   "source": []
  }
 ],
 "metadata": {
  "kernelspec": {
   "display_name": "scanpy",
   "language": "python",
   "name": "scanpy"
  },
  "language_info": {
   "codemirror_mode": {
    "name": "ipython",
    "version": 3
   },
   "file_extension": ".py",
   "mimetype": "text/x-python",
   "name": "python",
   "nbconvert_exporter": "python",
   "pygments_lexer": "ipython3",
   "version": "3.12.3"
  }
 },
 "nbformat": 4,
 "nbformat_minor": 5
}
