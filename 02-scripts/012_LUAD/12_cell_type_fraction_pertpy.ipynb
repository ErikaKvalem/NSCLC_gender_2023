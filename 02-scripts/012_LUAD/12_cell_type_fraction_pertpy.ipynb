{
 "cells": [
  {
   "cell_type": "markdown",
   "id": "bfec1d89-75e8-4dc3-a8e1-8134c27cc801",
   "metadata": {},
   "source": [
    "## LUAD cell type fractions"
   ]
  },
  {
   "cell_type": "code",
   "execution_count": null,
   "id": "ce794d00-c4cf-426f-b352-5909a2eb3936",
   "metadata": {
    "scrolled": true
   },
   "outputs": [],
   "source": [
    "import pertpy as pt"
   ]
  },
  {
   "cell_type": "code",
   "execution_count": null,
   "id": "3b2d773f-4bff-4ee1-ac0f-754d64edc743",
   "metadata": {},
   "outputs": [],
   "source": [
    "import scanpy as sc"
   ]
  },
  {
   "cell_type": "code",
   "execution_count": null,
   "id": "c5790e2a-8231-4454-ba88-a49ce4f3ab2b",
   "metadata": {},
   "outputs": [],
   "source": [
    "import warnings\n",
    "\n",
    "warnings.filterwarnings(\"ignore\")\n",
    "\n",
    "import matplotlib.pyplot as plt\n",
    "import mudata as mu"
   ]
  },
  {
   "cell_type": "code",
   "execution_count": null,
   "id": "d7533d82-663c-4e83-a02e-5f8541eb7f67",
   "metadata": {},
   "outputs": [],
   "source": [
    "import sccoda.util.cell_composition_data as scc_dat\n",
    "import sccoda.util.comp_ana as scc_ana\n",
    "import sccoda.util.data_visualization as scc_viz"
   ]
  },
  {
   "cell_type": "code",
   "execution_count": null,
   "id": "edc73a36-3f84-4333-96d8-7dac9492e662",
   "metadata": {},
   "outputs": [],
   "source": [
    "import altair as alt"
   ]
  },
  {
   "cell_type": "code",
   "execution_count": null,
   "id": "2ecdf315-aac6-4e46-9ee0-0f28c9e55973",
   "metadata": {},
   "outputs": [],
   "source": [
    "import pandas as pd"
   ]
  },
  {
   "cell_type": "code",
   "execution_count": null,
   "id": "2ef7c294-9657-41bd-8b2e-15db992af014",
   "metadata": {},
   "outputs": [],
   "source": [
    "path = \"/data/projects/2023/LCBiome/nsclc_gender_atlas_tmp/out/011_analysis_paired_remove_xy/pseudobulk/\"\n",
    "resDir = \"/data/projects/2023/LCBiome/nsclc_gender_atlas_tmp/out/011_analysis_paired_remove_xy/figures/\"\n",
    "input_path = f\"{path}/paired_adata_clean.h5ad\""
   ]
  },
  {
   "cell_type": "code",
   "execution_count": null,
   "id": "ecb27565-7298-4541-91e5-d784801e2978",
   "metadata": {},
   "outputs": [],
   "source": [
    "adata = sc.read_h5ad(input_path)"
   ]
  },
  {
   "cell_type": "code",
   "execution_count": null,
   "id": "771c6d7a-df31-40d5-a5ff-ea6b69c6f1f9",
   "metadata": {},
   "outputs": [],
   "source": [
    "adata.obs[\"cell_type_major\"].replace(\"Macrophage alveolar\", \"Macrophage\", inplace=True)"
   ]
  },
  {
   "cell_type": "code",
   "execution_count": null,
   "id": "19bdc0ba-e8fb-46ac-9d88-311cbbd7ee18",
   "metadata": {},
   "outputs": [],
   "source": [
    "adata = adata[\n",
    "    ~adata.obs[\"cell_type_major\"].isin([\"transitional club/AT2\", \"Ciliated\", \"other\"])\n",
    "]"
   ]
  },
  {
   "cell_type": "code",
   "execution_count": null,
   "id": "acf1f12b-3e5e-4068-980e-fc3b47dc95f2",
   "metadata": {},
   "outputs": [],
   "source": [
    "adata.obs.cell_type_major.value_counts()"
   ]
  },
  {
   "cell_type": "code",
   "execution_count": null,
   "id": "e16df00b-fbbe-4418-ab39-ea406cb2c93b",
   "metadata": {},
   "outputs": [],
   "source": [
    "adata.obs.disease.value_counts()"
   ]
  },
  {
   "cell_type": "code",
   "execution_count": null,
   "id": "c9832c46-28a1-424c-b7d7-6fa6b1ed7513",
   "metadata": {},
   "outputs": [],
   "source": [
    "adata"
   ]
  },
  {
   "cell_type": "code",
   "execution_count": null,
   "id": "f2bae82a-d603-4bf9-bf33-0aebfa1476a3",
   "metadata": {},
   "outputs": [],
   "source": [
    "adata = adata[adata.obs[\"disease\"]==\"lung adenocarcinoma\"]"
   ]
  },
  {
   "cell_type": "code",
   "execution_count": null,
   "id": "093f8605-dfe2-47b8-8cde-5b28a629998f",
   "metadata": {},
   "outputs": [],
   "source": [
    "adata"
   ]
  },
  {
   "cell_type": "code",
   "execution_count": null,
   "id": "bb2941d8-59aa-4026-9f40-e9a26c9eeb0e",
   "metadata": {},
   "outputs": [],
   "source": [
    "sccoda_model = pt.tl.Sccoda()\n",
    "sccoda_data = sccoda_model.load(\n",
    "    adata,\n",
    "    type=\"cell_level\",\n",
    "    generate_sample_level=True,\n",
    "    cell_type_identifier=\"cell_type_major\",\n",
    "    sample_identifier=\"donor_id\",\n",
    "    covariate_obs=[\"disease\",\"dataset\",\"sex\"],\n",
    ")\n",
    "print(sccoda_data)\n",
    "print(sccoda_data[\"coda\"].X)\n",
    "print(sccoda_data[\"coda\"].obs)"
   ]
  },
  {
   "cell_type": "code",
   "execution_count": null,
   "id": "12b77dc1-6f93-4c8d-9ef1-d044cd8e5fbb",
   "metadata": {},
   "outputs": [],
   "source": [
    "# Select control and salmonella data\n",
    "sccoda_data.mod[\"coda_sex\"] = sccoda_data[\"coda\"][\n",
    "    sccoda_data[\"coda\"].obs[\"sex\"].isin([\"male\", \"female\"])\n",
    "].copy()\n",
    "print(sccoda_data[\"coda_sex\"])"
   ]
  },
  {
   "cell_type": "code",
   "execution_count": null,
   "id": "8b35e989-3459-4cb0-bc4e-6d42d82d82f6",
   "metadata": {},
   "outputs": [],
   "source": [
    "sccoda_data = sccoda_model.prepare(\n",
    "    sccoda_data,\n",
    "    modality_key=\"coda_sex\",\n",
    "    formula=\"sex\",\n",
    "    reference_cell_type=\"automatic\",\n",
    ")\n",
    "sccoda_data[\"coda_sex\"]"
   ]
  },
  {
   "cell_type": "code",
   "execution_count": null,
   "id": "6c8d1d9d-088d-4c3a-a67c-f518b558516a",
   "metadata": {},
   "outputs": [],
   "source": [
    "sccoda_data[\"coda_sex\"]"
   ]
  },
  {
   "cell_type": "code",
   "execution_count": null,
   "id": "e29d7a38-16b4-430e-96ea-2e5147756fdd",
   "metadata": {},
   "outputs": [],
   "source": [
    "sccoda_model.plot_boxplots(sccoda_data, modality_key=\"coda_sex\", feature_name=\"sex\", add_dots=False)\n",
    "plt.show()"
   ]
  },
  {
   "cell_type": "code",
   "execution_count": null,
   "id": "6cb08a2c-b101-406b-a28a-229dc007faad",
   "metadata": {},
   "outputs": [],
   "source": [
    "# Run MCMC\n",
    "sccoda_model.run_nuts(sccoda_data, modality_key=\"coda_sex\")\n",
    "sccoda_data[\"coda_sex\"]"
   ]
  },
  {
   "cell_type": "code",
   "execution_count": null,
   "id": "be7f5ee0-4f17-4366-879d-76eee9de8255",
   "metadata": {},
   "outputs": [],
   "source": [
    "sccoda_model.summary(sccoda_data, modality_key=\"coda_sex\")"
   ]
  },
  {
   "cell_type": "code",
   "execution_count": null,
   "id": "56ea28c1-16b8-4961-a2ea-d5d73a456557",
   "metadata": {},
   "outputs": [],
   "source": [
    "sccoda_model.credible_effects(sccoda_data, modality_key=\"coda_sex\")"
   ]
  },
  {
   "cell_type": "code",
   "execution_count": null,
   "id": "53d55653-9701-45ad-8b8e-e44ddfec2305",
   "metadata": {},
   "outputs": [],
   "source": [
    "#sccoda_model.plot_effects_barplot(sccoda_data, modality_key=\"coda_sex\", parameter=\"Final Parameter\")"
   ]
  },
  {
   "cell_type": "code",
   "execution_count": null,
   "id": "dac29ca9-4c85-4904-947e-21eba916f917",
   "metadata": {},
   "outputs": [],
   "source": [
    "sccoda_model.set_fdr(sccoda_data, modality_key=\"coda_sex\", est_fdr=0.4)\n",
    "sccoda_model.summary(sccoda_data, modality_key=\"coda_sex\")"
   ]
  },
  {
   "cell_type": "code",
   "execution_count": null,
   "id": "29622006-21bf-4cb0-9d00-879750e00480",
   "metadata": {},
   "outputs": [],
   "source": [
    "sccoda_data"
   ]
  },
  {
   "cell_type": "code",
   "execution_count": null,
   "id": "aac8ff2f-805f-476f-b89d-a459144b653e",
   "metadata": {},
   "outputs": [],
   "source": [
    "#path = \"./sccoda_model/sccoda_model\"\n",
    "#sccoda_data.write_h5mu(path)\n",
    "\n",
    "#sccoda_data_2 = mu.read_h5mu(path)\n",
    "\n",
    "#sccoda_model.summary(sccoda_data_2, modality_key=\"coda_sex\")"
   ]
  },
  {
   "cell_type": "code",
   "execution_count": null,
   "id": "7f24e657-dccf-4ed8-a591-e9f037ec109a",
   "metadata": {},
   "outputs": [],
   "source": [
    "test_model = pt.tl.Sccoda()"
   ]
  },
  {
   "cell_type": "code",
   "execution_count": null,
   "id": "ad156a27-b26a-483c-a4b3-e6774d06c04d",
   "metadata": {},
   "outputs": [],
   "source": [
    "test_model.get_intercept_df(sccoda_data, modality_key=\"coda_sex\")"
   ]
  },
  {
   "cell_type": "code",
   "execution_count": null,
   "id": "cc1f3e12-e66c-47f4-8963-fdb3a2b1b604",
   "metadata": {},
   "outputs": [],
   "source": [
    "test_model.get_effect_df(sccoda_data, modality_key=\"coda_sex\")"
   ]
  },
  {
   "cell_type": "code",
   "execution_count": null,
   "id": "20d9c4a0-9c78-47b9-a4a5-6043f631ff85",
   "metadata": {},
   "outputs": [],
   "source": [
    "sccoda_data[\"coda_sex\"].varm[\"intercept_df\"]"
   ]
  },
  {
   "cell_type": "code",
   "execution_count": null,
   "id": "b95a480d-47db-416d-ad27-c1678601b63e",
   "metadata": {},
   "outputs": [],
   "source": [
    "import warnings\n",
    "\n",
    "warnings.filterwarnings(\"ignore\")\n",
    "\n",
    "import arviz as az\n",
    "import matplotlib.pyplot as plt\n",
    "import pandas as pd\n",
    "import pertpy as pt"
   ]
  },
  {
   "cell_type": "code",
   "execution_count": null,
   "id": "1fe8a0c0-b2ac-483f-80de-c48fa94a657d",
   "metadata": {},
   "outputs": [],
   "source": [
    "sccoda_model.plot_boxplots(sccoda_data, modality_key=\"coda_sex\", feature_name=\"sex\", add_dots=False)\n",
    "plt.show()"
   ]
  },
  {
   "cell_type": "code",
   "execution_count": null,
   "id": "487d4992-e043-40ca-94d1-0f82b3201956",
   "metadata": {},
   "outputs": [],
   "source": [
    "sccoda_model.plot_stacked_barplot(sccoda_data, modality_key=\"coda_sex\", feature_name=\"sex\")"
   ]
  },
  {
   "cell_type": "code",
   "execution_count": null,
   "id": "42ade4ab-4f69-495f-bad5-a294dac6afd4",
   "metadata": {},
   "outputs": [],
   "source": [
    "def run_sccoda(subset, reference):\n",
    "    sccoda_data = sccoda_model.load(\n",
    "        adata,\n",
    "        type=\"cell_level\",\n",
    "        generate_sample_level=True,\n",
    "        cell_type_identifier=\"cell_type_major\",\n",
    "        sample_identifier=\"donor_id\",\n",
    "        covariate_obs=[\"disease\",\"dataset\",\"sex\"],\n",
    "    )\n",
    "\n",
    "    sccoda_data = sccoda_model.prepare(\n",
    "        sccoda_data,\n",
    "        modality_key=\"coda_sex\",\n",
    "        formula=\"sex\",\n",
    "        reference_cell_type=\"automatic\",\n",
    "        automatic_reference_absence_threshold=0.1,\n",
    "    )\n",
    "\n",
    "    sccoda_model.run_nuts(sccoda_data, modality_key=\"coda_sex\")\n",
    "    sccoda_model.set_fdr(sccoda_data, modality_key=\"coda_sex\", est_fdr=0.1)\n",
    "\n",
    "    comparison_groups = [g for g in subset.obs[\"sex\"].unique() if g != reference]\n",
    "    effect_df = pd.DataFrame(\n",
    "        {\"log2-fold change\": [], \"Cell Type\": [], \"Reference\": [], \"Comp. Group\": [], \"Final Parameter\": []})\n",
    "    for comp_group in comparison_groups:\n",
    "        group_effects = sccoda_data[\"coda\"].varm[f\"effect_df_C(Group, Treatment('{reference}'))[T.{comp_group}]\"][\n",
    "            [\"log2-fold change\", \"Final Parameter\"]]\n",
    "        group_effects = group_effects[group_effects[\"Final Parameter\"] != 0]\n",
    "        group_effects[\"Cell Type\"] = group_effects.index\n",
    "        group_effects[\"Reference\"] = reference\n",
    "        group_effects[\"Comp. Group\"] = comp_group\n",
    "        effect_df = pd.concat([effect_df, group_effects])\n",
    "\n",
    "    if not effect_df.empty:\n",
    "        fig = sccoda_model.plot_effects_barplot(sccoda_data, return_fig=True, show=False)\n",
    "        fig.set_size_inches(12, 4)\n",
    "        fig.show()\n",
    "    else:\n",
    "        print(f\"No significant effects for reference {reference}\")\n",
    "\n",
    "    return effect_df"
   ]
  },
  {
   "cell_type": "code",
   "execution_count": null,
   "id": "6c22a98b-1cbb-4c39-9106-ae5bbf3d2a41",
   "metadata": {},
   "outputs": [],
   "source": [
    "sccoda_model = pt.tl.Sccoda()\n",
    "sccoda_data = sccoda_model.load(\n",
    "    adata,\n",
    "    type=\"cell_level\",\n",
    "    generate_sample_level=True,\n",
    "    cell_type_identifier=\"cell_type_major\",\n",
    "    sample_identifier=\"donor_id\",\n",
    "    covariate_obs=[\"dataset\",\"sex\"],\n",
    ")\n",
    "print(sccoda_data)\n",
    "print(sccoda_data[\"coda\"].X)\n",
    "print(sccoda_data[\"coda\"].obs)"
   ]
  },
  {
   "cell_type": "code",
   "execution_count": null,
   "id": "50ebbc62-4cda-446b-8d73-289416c0ae89",
   "metadata": {},
   "outputs": [],
   "source": [
    "# Select control and salmonella data\n",
    "sccoda_data.mod[\"coda_sex\"] = sccoda_data[\"coda\"][\n",
    "    sccoda_data[\"coda\"].obs[\"sex\"].isin([\"male\", \"female\"])\n",
    "].copy()\n",
    "print(sccoda_data[\"coda_sex\"])"
   ]
  },
  {
   "cell_type": "code",
   "execution_count": null,
   "id": "792c18c4-9e5f-40f1-a528-e9509d80f5e8",
   "metadata": {},
   "outputs": [],
   "source": [
    "sccoda_data = sccoda_model.prepare(\n",
    "    sccoda_data,\n",
    "    modality_key=\"coda_sex\",\n",
    "    formula=\"sex\",\n",
    "    reference_cell_type=\"automatic\",\n",
    ")\n",
    "sccoda_data[\"coda_sex\"]"
   ]
  },
  {
   "cell_type": "code",
   "execution_count": null,
   "id": "e52048a6-bb5c-4632-ab84-a33ce6fd299d",
   "metadata": {},
   "outputs": [],
   "source": [
    "# Run MCMC\n",
    "sccoda_model.run_nuts(sccoda_data, modality_key=\"coda_sex\")\n",
    "sccoda_data[\"coda_sex\"]"
   ]
  },
  {
   "cell_type": "code",
   "execution_count": null,
   "id": "699f8526-8a21-4fbd-a5e8-1e5f340a5916",
   "metadata": {},
   "outputs": [],
   "source": [
    "sccoda_model.set_fdr(sccoda_data, modality_key=\"coda_sex\", est_fdr=0.1)"
   ]
  },
  {
   "cell_type": "code",
   "execution_count": null,
   "id": "002a6b82-4b4f-4ac1-b4ce-d93e1c2f6d12",
   "metadata": {},
   "outputs": [],
   "source": [
    "comparison_groups = [g for g in adata.obs[\"sex\"].unique() if g != \"male\"]\n",
    "effect_df = pd.DataFrame(\n",
    "    {\"log2-fold change\": [], \"Cell Type\": [], \"Reference\": [], \"Comp. Group\": [], \"Final Parameter\": []})"
   ]
  },
  {
   "cell_type": "code",
   "execution_count": null,
   "id": "a62f2cc0-1d45-43c3-9a22-331342ef6a18",
   "metadata": {},
   "outputs": [],
   "source": [
    "comparison_groups"
   ]
  },
  {
   "cell_type": "code",
   "execution_count": null,
   "id": "ec498d47-5985-4c2d-98dd-8da2b6b45f72",
   "metadata": {},
   "outputs": [],
   "source": [
    "effect_df"
   ]
  },
  {
   "cell_type": "code",
   "execution_count": null,
   "id": "a1250652-ef00-4052-bb3b-a3a6a391da4a",
   "metadata": {},
   "outputs": [],
   "source": [
    "sccoda_data[\"coda_sex\"].varm"
   ]
  },
  {
   "cell_type": "code",
   "execution_count": null,
   "id": "de523874-621d-4503-ab34-8c3e23bf2340",
   "metadata": {},
   "outputs": [],
   "source": [
    "sccoda_data[\"coda_sex\"].varm[\"intercept_df\"]"
   ]
  },
  {
   "cell_type": "code",
   "execution_count": null,
   "id": "267b6504-dfb6-4c04-aba7-6cc89e14b706",
   "metadata": {},
   "outputs": [],
   "source": [
    "sccoda_data[\"coda_sex\"].varm[\"effect_df_sex[T.male]\"]"
   ]
  },
  {
   "cell_type": "code",
   "execution_count": null,
   "id": "0ca2efd9-ae2d-43eb-8742-0d7a9ddc1dd5",
   "metadata": {},
   "outputs": [],
   "source": [
    "group_effects = sccoda_data[\"coda_sex\"].varm[\"effect_df_sex[T.male]\"][[\"log2-fold change\", \"Final Parameter\"]]\n",
    "group_effects = group_effects[group_effects[\"Final Parameter\"] != 0]\n",
    "group_effects[\"Cell Type\"] = group_effects.index\n",
    "group_effects[\"Reference\"] = \"male\"\n",
    "group_effects[\"Comp. Group\"] = \"comparison_groups\"\n",
    "effect_df = pd.concat([effect_df, group_effects])\n",
    "    "
   ]
  },
  {
   "cell_type": "code",
   "execution_count": null,
   "id": "4c892ff3-ce76-49f8-aa08-6227f152aac6",
   "metadata": {},
   "outputs": [],
   "source": [
    "if not effect_df.empty:\n",
    "    fig = sccoda_model.plot_effects_barplot(sccoda_data, return_fig=True, show=False)\n",
    "    fig.set_size_inches(12, 4)\n",
    "    fig.show()\n",
    "else:\n",
    "    print(f\"No significant effects for reference male\")\n",
    "    "
   ]
  },
  {
   "cell_type": "code",
   "execution_count": null,
   "id": "08cfd0c4-e05d-47e0-89c8-43844dc357f6",
   "metadata": {},
   "outputs": [],
   "source": []
  }
 ],
 "metadata": {
  "kernelspec": {
   "display_name": "pertpy-env",
   "language": "python",
   "name": "pertpy-env"
  },
  "language_info": {
   "codemirror_mode": {
    "name": "ipython",
    "version": 3
   },
   "file_extension": ".py",
   "mimetype": "text/x-python",
   "name": "python",
   "nbconvert_exporter": "python",
   "pygments_lexer": "ipython3",
   "version": "3.10.0"
  }
 },
 "nbformat": 4,
 "nbformat_minor": 5
}
