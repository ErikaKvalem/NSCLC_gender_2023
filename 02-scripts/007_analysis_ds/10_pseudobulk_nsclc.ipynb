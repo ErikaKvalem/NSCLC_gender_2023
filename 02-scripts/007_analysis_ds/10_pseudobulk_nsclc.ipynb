{
 "cells": [
  {
   "cell_type": "markdown",
   "id": "2980161a-241b-4753-b740-5ff860884011",
   "metadata": {},
   "source": [
    "# 1.NSCLC Sex-stratified SC Analysis\n",
    "\n",
    "## Data selection, pseudobulk, create input for DESEQ2"
   ]
  },
  {
   "cell_type": "code",
   "execution_count": 1,
   "id": "edbb3fde-d351-4387-896d-e931307eeb53",
   "metadata": {},
   "outputs": [],
   "source": [
    "import warnings\n",
    "import numpy as np\n",
    "import pandas as pd \n",
    "import scanpy as sc\n",
    "#import tensorflow as tf\n",
    "import matplotlib.pyplot as plt\n",
    "import matplotlib\n",
    "import seaborn as sns\n",
    "#import altair as alt\n",
    "#import pertpy as pt\n",
    "#from pandas.api.types import is_categorical_dtype\n",
    "#from pandas import CategoricalDtype"
   ]
  },
  {
   "cell_type": "code",
   "execution_count": 2,
   "id": "3bf34676-ba05-4fdc-a50b-9a6c94b38b35",
   "metadata": {},
   "outputs": [],
   "source": [
    "import decoupler as dc"
   ]
  },
  {
   "cell_type": "code",
   "execution_count": null,
   "id": "0553f14a-fcfa-4596-81de-867668eed4b2",
   "metadata": {},
   "outputs": [],
   "source": [
    "dc.__version__"
   ]
  },
  {
   "cell_type": "code",
   "execution_count": 9,
   "id": "db4b1cb3-3364-42fb-bac7-6cd852036110",
   "metadata": {},
   "outputs": [],
   "source": [
    "path = \"/data/projects/2023/LCBiome/nsclc_gender_atlas_tmp\"\n",
    "input_path    = f\"{path}/data/local.h5ad\""
   ]
  },
  {
   "cell_type": "code",
   "execution_count": 10,
   "id": "fe038019-17ef-4972-a4d0-f129a520e6f3",
   "metadata": {},
   "outputs": [],
   "source": [
    "adata = sc.read_h5ad(input_path) \n",
    "#nsclc_chrom = pd.read_csv(f\"{path}/out/007_re_analysis/tables/input/adata_var_nsclc_chrom.csv\") /data/projects/2023/LCBiome/nsclc_gender_atlas_tmp/out"
   ]
  },
  {
   "cell_type": "code",
   "execution_count": 11,
   "id": "f67e5c74-70e9-461c-9690-22c5583260b4",
   "metadata": {},
   "outputs": [
    {
     "data": {
      "text/plain": [
       "AnnData object with n_obs × n_vars = 1283972 × 17811\n",
       "    obs: 'sample', 'uicc_stage', 'ever_smoker', 'age', 'donor_id', 'origin', 'dataset', 'ann_fine', 'cell_type_predicted', 'doublet_status', 'leiden', 'n_genes_by_counts', 'total_counts', 'total_counts_mito', 'pct_counts_mito', 'ann_coarse', 'cell_type_tumor', 'tumor_stage', 'EGFR_mutation', 'TP53_mutation', 'ALK_mutation', 'BRAF_mutation', 'ERBB2_mutation', 'KRAS_mutation', 'ROS_mutation', 'origin_fine', 'study', 'platform', 'cell_type_major', 'cell_type_neutro', 'cell_type_neutro_coarse', 'suspension_type', 'assay_ontology_term_id', 'cell_type_ontology_term_id', 'development_stage_ontology_term_id', 'disease_ontology_term_id', 'self_reported_ethnicity_ontology_term_id', 'is_primary_data', 'organism_ontology_term_id', 'sex_ontology_term_id', 'tissue_ontology_term_id', 'cell_type', 'assay', 'disease', 'organism', 'sex', 'tissue', 'self_reported_ethnicity', 'development_stage'\n",
       "    var: 'is_highly_variable', 'mito', 'n_cells_by_counts', 'mean_counts', 'pct_dropout_by_counts', 'total_counts', 'feature_is_filtered', 'feature_name', 'feature_reference', 'feature_biotype'\n",
       "    uns: '_scvi', 'ann_fine_colors', 'batch_condition', 'cell_type_major_colors', 'cell_type_tumor_colors', 'dataset_colors', 'default_embedding', 'hvg', 'neighbors', 'origin_colors', 'platform_colors', 'schema_version', 'title', 'umap'\n",
       "    obsm: 'X_scANVI', 'X_scVI', 'X_umap'\n",
       "    layers: 'count', 'counts_length_scaled'\n",
       "    obsp: 'connectivities', 'distances'"
      ]
     },
     "execution_count": 11,
     "metadata": {},
     "output_type": "execute_result"
    }
   ],
   "source": [
    "adata"
   ]
  },
  {
   "cell_type": "code",
   "execution_count": 12,
   "id": "df4e83e5-e1fa-4934-8750-1789b5576770",
   "metadata": {},
   "outputs": [
    {
     "data": {
      "text/plain": [
       "disease\n",
       "lung adenocarcinoma                      704834\n",
       "normal                                   212889\n",
       "squamous cell lung carcinoma             190199\n",
       "non-small cell lung carcinoma            120796\n",
       "chronic obstructive pulmonary disease     55254\n",
       "Name: count, dtype: int64"
      ]
     },
     "execution_count": 12,
     "metadata": {},
     "output_type": "execute_result"
    }
   ],
   "source": [
    "adata.obs.disease.value_counts()"
   ]
  },
  {
   "cell_type": "code",
   "execution_count": 13,
   "id": "4affacbc-337a-4c72-b6b0-aa596a1f7db2",
   "metadata": {},
   "outputs": [
    {
     "data": {
      "text/plain": [
       "tumor_stage\n",
       "early         725412\n",
       "advanced      288981\n",
       "non-cancer    268143\n",
       "Name: count, dtype: int64"
      ]
     },
     "execution_count": 13,
     "metadata": {},
     "output_type": "execute_result"
    }
   ],
   "source": [
    "adata.obs.tumor_stage.value_counts()"
   ]
  },
  {
   "cell_type": "code",
   "execution_count": 14,
   "id": "ccd89aad-1a50-4acc-9d9e-8697c84951e0",
   "metadata": {},
   "outputs": [
    {
     "data": {
      "text/plain": [
       "sex\n",
       "male       676587\n",
       "female     571042\n",
       "unknown     36343\n",
       "Name: count, dtype: int64"
      ]
     },
     "execution_count": 14,
     "metadata": {},
     "output_type": "execute_result"
    }
   ],
   "source": [
    "adata.obs.sex.value_counts()"
   ]
  },
  {
   "cell_type": "code",
   "execution_count": 15,
   "id": "4670efbd-e593-4dcc-9e54-8bf3d24f80b5",
   "metadata": {},
   "outputs": [
    {
     "data": {
      "text/plain": [
       "origin\n",
       "tumor_primary       585138\n",
       "normal_adjacent     345211\n",
       "normal              281363\n",
       "tumor_metastasis     71272\n",
       "nan                    988\n",
       "Name: count, dtype: int64"
      ]
     },
     "execution_count": 15,
     "metadata": {},
     "output_type": "execute_result"
    }
   ],
   "source": [
    "adata.obs.origin.value_counts()"
   ]
  },
  {
   "cell_type": "markdown",
   "id": "9564a63b-313e-453f-8d2f-a4d7f39c153c",
   "metadata": {},
   "source": [
    "### 01.SELECT ONLY male, female & tumor, normal_adjacent"
   ]
  },
  {
   "cell_type": "code",
   "execution_count": 16,
   "id": "1c8b08b4-3f4e-419f-a329-e7c936c2c5c5",
   "metadata": {},
   "outputs": [],
   "source": [
    "adata = adata[(adata.obs[\"disease\"] != \"normal\") & (adata.obs[\"disease\"] != \"chronic obstructive pulmonary disease\")] #exclude normal and COPD samples\n",
    "adata = adata[adata.obs[\"tumor_stage\"].notna()] #exclude samples without tumor stage\n",
    "adata = adata[(adata.obs[\"sex\"]==\"male\")| (adata.obs[\"sex\"]==\"female\")]"
   ]
  },
  {
   "cell_type": "code",
   "execution_count": 17,
   "id": "267fc46a-7815-432c-b6b4-3e9495b5111b",
   "metadata": {},
   "outputs": [],
   "source": [
    "adata = adata[(adata.obs[\"origin\"]==\"tumor_primary\")| (adata.obs[\"origin\"]==\"normal_adjacent\")]"
   ]
  },
  {
   "cell_type": "code",
   "execution_count": 18,
   "id": "280fd4b4-8197-4fc8-98ce-59b8c30de245",
   "metadata": {},
   "outputs": [
    {
     "data": {
      "text/plain": [
       "disease\n",
       "lung adenocarcinoma              577317\n",
       "squamous cell lung carcinoma     189044\n",
       "non-small cell lung carcinoma    120796\n",
       "Name: count, dtype: int64"
      ]
     },
     "execution_count": 18,
     "metadata": {},
     "output_type": "execute_result"
    }
   ],
   "source": [
    "adata.obs.disease.value_counts()"
   ]
  },
  {
   "cell_type": "code",
   "execution_count": 19,
   "id": "64456b10-beb9-4239-b8e2-97c7cd19f530",
   "metadata": {},
   "outputs": [
    {
     "data": {
      "text/plain": [
       "tumor_stage\n",
       "early       672760\n",
       "advanced    214397\n",
       "Name: count, dtype: int64"
      ]
     },
     "execution_count": 19,
     "metadata": {},
     "output_type": "execute_result"
    }
   ],
   "source": [
    "adata.obs.tumor_stage.value_counts()"
   ]
  },
  {
   "cell_type": "code",
   "execution_count": 20,
   "id": "c7b8edc1-ede1-44ab-bca6-e9c759a07a3d",
   "metadata": {},
   "outputs": [
    {
     "data": {
      "text/plain": [
       "sex\n",
       "male      500302\n",
       "female    386855\n",
       "Name: count, dtype: int64"
      ]
     },
     "execution_count": 20,
     "metadata": {},
     "output_type": "execute_result"
    }
   ],
   "source": [
    "adata.obs.sex.value_counts()"
   ]
  },
  {
   "cell_type": "code",
   "execution_count": 21,
   "id": "9db59ca2-e354-4790-ba10-d74fd7036dd0",
   "metadata": {},
   "outputs": [
    {
     "data": {
      "text/plain": [
       "origin\n",
       "tumor_primary      571045\n",
       "normal_adjacent    316112\n",
       "Name: count, dtype: int64"
      ]
     },
     "execution_count": 21,
     "metadata": {},
     "output_type": "execute_result"
    }
   ],
   "source": [
    "adata.obs.origin.value_counts()"
   ]
  },
  {
   "cell_type": "markdown",
   "id": "6bc95759-1287-4ef1-a17d-a856597ed1ed",
   "metadata": {},
   "source": [
    "### 02.CELL TPYE RE-CLASIFICATION "
   ]
  },
  {
   "cell_type": "code",
   "execution_count": 17,
   "id": "2d216c5a-6501-4bbf-8721-daeb571bba99",
   "metadata": {},
   "outputs": [
    {
     "data": {
      "text/plain": [
       "CD4-positive, alpha-beta T cell         152247\n",
       "CD8-positive, alpha-beta T cell         123252\n",
       "alveolar macrophage                      82844\n",
       "macrophage                               78660\n",
       "malignant cell                           75457\n",
       "natural killer cell                      50680\n",
       "B cell                                   44609\n",
       "classical monocyte                       43364\n",
       "regulatory T cell                        33603\n",
       "plasma cell                              31876\n",
       "epithelial cell of lung                  23013\n",
       "CD1c-positive myeloid dendritic cell     20734\n",
       "neutrophil                               18706\n",
       "type II pneumocyte                       16274\n",
       "vein endothelial cell                    15849\n",
       "mast cell                                14361\n",
       "capillary endothelial cell               10870\n",
       "multi-ciliated epithelial cell            6413\n",
       "non-classical monocyte                    6103\n",
       "myeloid cell                              5544\n",
       "fibroblast of lung                        5091\n",
       "bronchus fibroblast of lung               4907\n",
       "plasmacytoid dendritic cell               3800\n",
       "type I pneumocyte                         3739\n",
       "endothelial cell of lymphatic vessel      3466\n",
       "pulmonary artery endothelial cell         2258\n",
       "conventional dendritic cell               2097\n",
       "pericyte                                  2000\n",
       "smooth muscle cell                        1610\n",
       "club cell                                 1580\n",
       "dendritic cell                            1498\n",
       "mesothelial cell                           340\n",
       "stromal cell                               312\n",
       "Name: cell_type, dtype: int64"
      ]
     },
     "execution_count": 17,
     "metadata": {},
     "output_type": "execute_result"
    }
   ],
   "source": [
    "adata.obs.cell_type.value_counts()"
   ]
  },
  {
   "cell_type": "code",
   "execution_count": 18,
   "id": "f798450d-b414-47b4-82f3-f49b1c3309fa",
   "metadata": {},
   "outputs": [
    {
     "data": {
      "text/plain": [
       "T cell CD4               149343\n",
       "T cell CD8               120586\n",
       "Macrophage alveolar       82844\n",
       "Macrophage                78660\n",
       "Tumor cells               75457\n",
       "NK cell                   50094\n",
       "Monocyte                  49467\n",
       "B cell                    44307\n",
       "T cell regulatory         33603\n",
       "Endothelial cell          32443\n",
       "Plasma cell               30292\n",
       "transitional club/AT2     22894\n",
       "cDC2                      20734\n",
       "Neutrophils               18706\n",
       "Alveolar cell type 2      16274\n",
       "Mast cell                 14361\n",
       "other                     14017\n",
       "Stromal                   13948\n",
       "Ciliated                   6413\n",
       "pDC                        3800\n",
       "Alveolar cell type 1       3739\n",
       "cDC1                       2097\n",
       "Club                       1580\n",
       "DC mature                  1498\n",
       "Name: cell_type_major, dtype: int64"
      ]
     },
     "execution_count": 18,
     "metadata": {},
     "output_type": "execute_result"
    }
   ],
   "source": [
    "adata.obs.cell_type_major.value_counts()"
   ]
  },
  {
   "cell_type": "code",
   "execution_count": 22,
   "id": "7ccd41a0-c15a-4346-929c-b61825097693",
   "metadata": {
    "tags": []
   },
   "outputs": [],
   "source": [
    "cells_of_interest=['alveolar macrophage', 'neutrophil',\n",
    " 'macrophage','malignant cell',\n",
    " 'B cell',\n",
    "  'regulatory T cell',\n",
    "'CD4-positive, alpha-beta T cell',\n",
    " 'CD8-positive, alpha-beta T cell',\n",
    " 'neutrophils','epithelial cell of lung','multi-ciliated epithelial cell' ]\n",
    "subset_adata = adata[adata.obs[\"cell_type\"].isin(cells_of_interest)] \n"
   ]
  },
  {
   "cell_type": "code",
   "execution_count": 23,
   "id": "711af383-82d3-490e-9144-0eb14ea2972b",
   "metadata": {},
   "outputs": [
    {
     "data": {
      "text/plain": [
       "{'B cell',\n",
       " 'CD4-positive, alpha-beta T cell',\n",
       " 'CD8-positive, alpha-beta T cell',\n",
       " 'alveolar macrophage',\n",
       " 'epithelial cell of lung',\n",
       " 'macrophage',\n",
       " 'malignant cell',\n",
       " 'multi-ciliated epithelial cell',\n",
       " 'neutrophil',\n",
       " 'regulatory T cell'}"
      ]
     },
     "execution_count": 23,
     "metadata": {},
     "output_type": "execute_result"
    }
   ],
   "source": [
    "set(subset_adata.obs.cell_type)"
   ]
  },
  {
   "cell_type": "code",
   "execution_count": 24,
   "id": "bccdf1ec-8e7e-421a-8582-8b41f6eea271",
   "metadata": {},
   "outputs": [
    {
     "data": {
      "text/plain": [
       "{'B cell',\n",
       " 'Ciliated',\n",
       " 'Macrophage',\n",
       " 'Macrophage alveolar',\n",
       " 'Neutrophils',\n",
       " 'T cell CD4',\n",
       " 'T cell CD8',\n",
       " 'T cell regulatory',\n",
       " 'Tumor cells',\n",
       " 'other',\n",
       " 'transitional club/AT2'}"
      ]
     },
     "execution_count": 24,
     "metadata": {},
     "output_type": "execute_result"
    }
   ],
   "source": [
    "set(subset_adata.obs.cell_type_major)"
   ]
  },
  {
   "cell_type": "code",
   "execution_count": 25,
   "id": "2aa41398-d555-495b-a21c-569ef21d03fa",
   "metadata": {
    "scrolled": true
   },
   "outputs": [
    {
     "name": "stderr",
     "output_type": "stream",
     "text": [
      "/tmp/ipykernel_62372/2170802957.py:1: ImplicitModificationWarning: Trying to modify attribute `.obs` of view, initializing view as actual.\n",
      "  subset_adata.obs[\"cell_type\"]= subset_adata.obs[\"cell_type\"].replace(['epithelial cell of lung','multi-ciliated epithelial cell',], 'epithelial cell')\n"
     ]
    }
   ],
   "source": [
    "subset_adata.obs[\"cell_type\"]= subset_adata.obs[\"cell_type\"].replace(['epithelial cell of lung','multi-ciliated epithelial cell',], 'epithelial cell')\n",
    "subset_adata.obs[\"cell_type\"]= subset_adata.obs[\"cell_type\"].replace(['alveolar macrophage'], 'macrophage')\n",
    "subset_adata.obs[\"cell_type\"]= subset_adata.obs[\"cell_type\"].replace(['CD4-positive, alpha-beta T cell'], 'CD4+ T cell')\n",
    "subset_adata.obs[\"cell_type\"]= subset_adata.obs[\"cell_type\"].replace(['CD8-positive, alpha-beta T cell'], 'CD8+ T cell')"
   ]
  },
  {
   "cell_type": "code",
   "execution_count": 23,
   "id": "0f3722a6-f1bd-49d5-b48e-52f9f579cc5b",
   "metadata": {},
   "outputs": [
    {
     "data": {
      "text/plain": [
       "{'B cell',\n",
       " 'CD4+ T cell',\n",
       " 'CD8+ T cell',\n",
       " 'epithelial cell',\n",
       " 'macrophage',\n",
       " 'malignant cell',\n",
       " 'neutrophil',\n",
       " 'regulatory T cell'}"
      ]
     },
     "execution_count": 23,
     "metadata": {},
     "output_type": "execute_result"
    }
   ],
   "source": [
    "set(subset_adata.obs.cell_type)"
   ]
  },
  {
   "cell_type": "code",
   "execution_count": 24,
   "id": "b386f50d-964a-4d90-a95b-00413e5fc474",
   "metadata": {},
   "outputs": [
    {
     "data": {
      "text/plain": [
       "AnnData object with n_obs × n_vars = 638804 × 17811\n",
       "    obs: 'sample', 'uicc_stage', 'ever_smoker', 'age', 'donor_id', 'origin', 'dataset', 'ann_fine', 'cell_type_predicted', 'doublet_status', 'leiden', 'n_genes_by_counts', 'total_counts', 'total_counts_mito', 'pct_counts_mito', 'ann_coarse', 'cell_type_tumor', 'tumor_stage', 'EGFR_mutation', 'TP53_mutation', 'ALK_mutation', 'BRAF_mutation', 'ERBB2_mutation', 'KRAS_mutation', 'ROS_mutation', 'origin_fine', 'study', 'platform', 'cell_type_major', 'cell_type_neutro', 'cell_type_neutro_coarse', 'suspension_type', 'assay_ontology_term_id', 'cell_type_ontology_term_id', 'development_stage_ontology_term_id', 'disease_ontology_term_id', 'self_reported_ethnicity_ontology_term_id', 'is_primary_data', 'organism_ontology_term_id', 'sex_ontology_term_id', 'tissue_ontology_term_id', 'cell_type', 'assay', 'disease', 'organism', 'sex', 'tissue', 'self_reported_ethnicity', 'development_stage'\n",
       "    var: 'is_highly_variable', 'mito', 'n_cells_by_counts', 'mean_counts', 'pct_dropout_by_counts', 'total_counts', 'feature_is_filtered', 'feature_name', 'feature_reference', 'feature_biotype'\n",
       "    uns: '_scvi', 'ann_fine_colors', 'batch_condition', 'cell_type_major_colors', 'cell_type_tumor_colors', 'dataset_colors', 'default_embedding', 'hvg', 'neighbors', 'origin_colors', 'platform_colors', 'schema_version', 'title', 'umap'\n",
       "    obsm: 'X_scANVI', 'X_scVI', 'X_umap'\n",
       "    layers: 'count', 'counts_length_scaled'\n",
       "    obsp: 'connectivities', 'distances'"
      ]
     },
     "execution_count": 24,
     "metadata": {},
     "output_type": "execute_result"
    }
   ],
   "source": [
    "subset_adata"
   ]
  },
  {
   "cell_type": "code",
   "execution_count": 25,
   "id": "6536f003-2844-4746-aa42-8013f4e04f4b",
   "metadata": {},
   "outputs": [
    {
     "data": {
      "text/plain": [
       "View of AnnData object with n_obs × n_vars = 887157 × 17811\n",
       "    obs: 'sample', 'uicc_stage', 'ever_smoker', 'age', 'donor_id', 'origin', 'dataset', 'ann_fine', 'cell_type_predicted', 'doublet_status', 'leiden', 'n_genes_by_counts', 'total_counts', 'total_counts_mito', 'pct_counts_mito', 'ann_coarse', 'cell_type_tumor', 'tumor_stage', 'EGFR_mutation', 'TP53_mutation', 'ALK_mutation', 'BRAF_mutation', 'ERBB2_mutation', 'KRAS_mutation', 'ROS_mutation', 'origin_fine', 'study', 'platform', 'cell_type_major', 'cell_type_neutro', 'cell_type_neutro_coarse', 'suspension_type', 'assay_ontology_term_id', 'cell_type_ontology_term_id', 'development_stage_ontology_term_id', 'disease_ontology_term_id', 'self_reported_ethnicity_ontology_term_id', 'is_primary_data', 'organism_ontology_term_id', 'sex_ontology_term_id', 'tissue_ontology_term_id', 'cell_type', 'assay', 'disease', 'organism', 'sex', 'tissue', 'self_reported_ethnicity', 'development_stage'\n",
       "    var: 'is_highly_variable', 'mito', 'n_cells_by_counts', 'mean_counts', 'pct_dropout_by_counts', 'total_counts', 'feature_is_filtered', 'feature_name', 'feature_reference', 'feature_biotype'\n",
       "    uns: '_scvi', 'ann_fine_colors', 'batch_condition', 'cell_type_major_colors', 'cell_type_tumor_colors', 'dataset_colors', 'default_embedding', 'hvg', 'neighbors', 'origin_colors', 'platform_colors', 'schema_version', 'title', 'umap'\n",
       "    obsm: 'X_scANVI', 'X_scVI', 'X_umap'\n",
       "    layers: 'count', 'counts_length_scaled'\n",
       "    obsp: 'connectivities', 'distances'"
      ]
     },
     "execution_count": 25,
     "metadata": {},
     "output_type": "execute_result"
    }
   ],
   "source": [
    "adata"
   ]
  },
  {
   "cell_type": "markdown",
   "id": "c28c08de-201d-4a29-a393-3ae79c5d30d7",
   "metadata": {},
   "source": [
    "Number of cells: \n",
    "- Original adata 1283972\n",
    "- Adata after filtering for disease, sex, origin, tumor stage  887157\n",
    "- Subset adata for cells of interest and renaming 638804"
   ]
  },
  {
   "cell_type": "markdown",
   "id": "a3755a3f-84d0-4a46-9494-a8df9a8994f8",
   "metadata": {},
   "source": [
    "- In 00_get_chromosome I have retrieved the information for the chromosome and I append to subset_adata.\n",
    "\n",
    "- Compute DEG (male vs female)\n",
    "  Separate into 3 dataframes: autosomal_adata, xchrom_adata, ychrom_adata\n",
    "- Create bar plot to compare Number of DEG in TUMOR vs NORMAL "
   ]
  },
  {
   "cell_type": "markdown",
   "id": "0bebb65b-cb8b-49e3-9d4c-20cbe4bb590f",
   "metadata": {},
   "source": [
    "### 03.Get X, Y and autosomal genes"
   ]
  },
  {
   "cell_type": "code",
   "execution_count": null,
   "id": "a26a63bf-999b-43aa-b377-8cfc65517f66",
   "metadata": {},
   "outputs": [],
   "source": [
    "nsclc_chrom = nsclc_chrom.rename(columns={\"ensembl_gene_id\":\"gene_id\"})\n",
    "nsclc_chrom = nsclc_chrom.iloc[:,1:]\n",
    "nsclc_chrom = nsclc_chrom.set_index(\"gene_id\")\n",
    "nsclc_chrom[\"gene_id\"] = nsclc_chrom.index"
   ]
  },
  {
   "cell_type": "code",
   "execution_count": null,
   "id": "e5025b91-04a0-4edf-8280-3bbdb8d41dfb",
   "metadata": {},
   "outputs": [],
   "source": [
    "subset_adata.var[\"gene_id\"] = subset_adata.var_names \n",
    "subset_adata_var_chrom =pd.concat([subset_adata.var, nsclc_chrom], axis = 1)\n",
    "subset_adata.var = subset_adata_var_chrom"
   ]
  },
  {
   "cell_type": "code",
   "execution_count": null,
   "id": "bfc33eb9-bb1f-458d-9091-491c248f5be2",
   "metadata": {},
   "outputs": [],
   "source": [
    "subset_adata.var[\"chromosome_name\"]  = subset_adata.var[\"chromosome_name\"].astype(str)"
   ]
  },
  {
   "cell_type": "code",
   "execution_count": null,
   "id": "0265fd8b-ac95-40a1-aae6-562724c78d09",
   "metadata": {},
   "outputs": [],
   "source": [
    "subset_indices = subset_adata.var['chromosome_name'] == 'X'\n",
    "\n",
    "# Subset adata to keep only the genes with chromosome 'X'\n",
    "xchrom_adata = subset_adata[:, subset_indices]"
   ]
  },
  {
   "cell_type": "code",
   "execution_count": null,
   "id": "774c90ee-18be-45c0-b982-926cc3f3ad0c",
   "metadata": {},
   "outputs": [],
   "source": [
    "subset_indices = subset_adata.var['chromosome_name'] == 'Y'\n",
    "\n",
    "# Subset adata to keep only the genes with chromosome 'Y'\n",
    "ychrom_adata = subset_adata[:, subset_indices]"
   ]
  },
  {
   "cell_type": "code",
   "execution_count": null,
   "id": "027b193f-1892-4646-b3f8-89461b91bf50",
   "metadata": {},
   "outputs": [],
   "source": [
    "subset_indices = (subset_adata.var['chromosome_name'] != 'Y') &  (subset_adata.var['chromosome_name'] != 'X') \n",
    "\n",
    "# Subset adata to keep only the genes with chromosome 'Y'\n",
    "autosomal_adata = subset_adata[:, subset_indices]"
   ]
  },
  {
   "cell_type": "code",
   "execution_count": null,
   "id": "cd7e1f2e-b28a-4084-9f33-79666fe88530",
   "metadata": {},
   "outputs": [],
   "source": [
    "#xchrom_adata.var.to_csv(f\"{path}/out/007_re_analysis/tables/input/xchrom_adata_var.csv\")\n",
    "#ychrom_adata.var.to_csv(f\"{path}/out/007_re_analysis/tables/input/ychrom_adata_var.csv\")\n",
    "#autosomal_adata.var.to_csv(f\"{path}/out/007_re_analysis/tables/input/autosomal_adata_var.csv\")"
   ]
  },
  {
   "cell_type": "code",
   "execution_count": 42,
   "id": "df8c43c2-003d-44d4-8294-ccce923a7362",
   "metadata": {},
   "outputs": [
    {
     "data": {
      "text/plain": [
       "(638804, 618)"
      ]
     },
     "execution_count": 42,
     "metadata": {},
     "output_type": "execute_result"
    }
   ],
   "source": [
    "xchrom_adata.shape"
   ]
  },
  {
   "cell_type": "code",
   "execution_count": 43,
   "id": "b566d2d1-e924-4101-a5db-f03b65050d68",
   "metadata": {},
   "outputs": [
    {
     "data": {
      "text/plain": [
       "(638804, 16)"
      ]
     },
     "execution_count": 43,
     "metadata": {},
     "output_type": "execute_result"
    }
   ],
   "source": [
    "ychrom_adata.shape"
   ]
  },
  {
   "cell_type": "code",
   "execution_count": 41,
   "id": "0438c13e-46a5-455b-a498-3a0e4f1c556e",
   "metadata": {},
   "outputs": [
    {
     "data": {
      "text/plain": [
       "(638804, 17177)"
      ]
     },
     "execution_count": 41,
     "metadata": {},
     "output_type": "execute_result"
    }
   ],
   "source": [
    "autosomal_adata.shape"
   ]
  },
  {
   "cell_type": "markdown",
   "id": "bef00bec-b6df-4257-9e70-200cb468058b",
   "metadata": {},
   "source": [
    "### 04.Compute pseudobulk"
   ]
  },
  {
   "cell_type": "code",
   "execution_count": null,
   "id": "69c9e20d-fc6c-4596-94a9-c73627a8a3d0",
   "metadata": {},
   "outputs": [
    {
     "name": "stderr",
     "output_type": "stream",
     "text": [
      "/home/kvalem/.conda/envs/crc_atlas/lib/python3.11/site-packages/decoupler/utils_anndata.py:181: FutureWarning: The default of observed=False is deprecated and will be changed to True in a future version of pandas. Pass observed=False to retain current behavior or observed=True to adopt the future default and silence this warning.\n",
      "  cols = obs.groupby([sample_col, groups_col]).apply(lambda x: x.apply(lambda y: len(y.unique()) == 1)).all(0)\n"
     ]
    }
   ],
   "source": [
    "# Get pseudo-bulk profile\n",
    "pdata = dc.get_pseudobulk(\n",
    "    subset_adata,\n",
    "    sample_col='sample',\n",
    "    groups_col='donor_id',\n",
    "    layer='count',\n",
    "    min_cells=0,\n",
    "    min_counts=0\n",
    ")"
   ]
  },
  {
   "cell_type": "code",
   "execution_count": null,
   "id": "4722c408-4a91-42a0-9cf4-31ca9a81b4e6",
   "metadata": {},
   "outputs": [],
   "source": [
    "#pdata_var_concat =pd.concat([pdata.var, nsclc_chrom],axis=1)"
   ]
  },
  {
   "cell_type": "code",
   "execution_count": null,
   "id": "affb8d89-f952-4a1a-a04f-cf3524c4e4fd",
   "metadata": {},
   "outputs": [],
   "source": [
    "#pdata_var_concat"
   ]
  },
  {
   "cell_type": "code",
   "execution_count": 28,
   "id": "4a5e818a-2cf3-463c-a989-feb04064d927",
   "metadata": {},
   "outputs": [
    {
     "name": "stderr",
     "output_type": "stream",
     "text": [
      "/tmp/ipykernel_11762/4001338715.py:1: ImplicitModificationWarning: Trying to modify attribute `.obs` of view, initializing view as actual.\n",
      "  pdata.obs[\"age\"] = pdata.obs[\"age\"].astype(\"float64\")\n"
     ]
    }
   ],
   "source": [
    "pdata.obs[\"age\"] = pdata.obs[\"age\"].astype(\"float64\")\n",
    "pdata.obs[\"is_primary_data\"] = pdata.obs[\"is_primary_data\"].astype(bool)\n"
   ]
  },
  {
   "cell_type": "code",
   "execution_count": 36,
   "id": "f450bbe4-a870-4838-9779-4a38b2e3b31d",
   "metadata": {},
   "outputs": [],
   "source": [
    "#pdata.write_h5ad(f\"{path}/out/tmp/007_re_analysis_dataset/tables/input/pdata.h5ad\")\n",
    "#pdata = sc.read_h5ad(f\"{path}/out/tmp/007_re_analysis_dataset/tables/input/pdata.h5ad\")"
   ]
  },
  {
   "cell_type": "code",
   "execution_count": 5,
   "id": "0472fb14-25c1-47f7-9519-36e314da0b85",
   "metadata": {},
   "outputs": [],
   "source": [
    "#pdata.write_h5ad(f\"{path}/out/tmp/007_re_analysis_dataset/tables/input/pdata.h5ad\")\n",
    "#pdata = sc.read_h5ad(f\"{path}/out/tmp/007_re_analysis_dataset/tables/input/pdata.h5ad\")"
   ]
  },
  {
   "cell_type": "code",
   "execution_count": null,
   "id": "3f277445-3527-4c58-afb0-23376ff3af0d",
   "metadata": {
    "scrolled": true
   },
   "outputs": [],
   "source": [
    "pdata.obs"
   ]
  },
  {
   "cell_type": "code",
   "execution_count": 8,
   "id": "6bb74942-4bee-4dbd-b68b-d514c4d10e5a",
   "metadata": {},
   "outputs": [
    {
     "data": {
      "text/plain": [
       "AnnData object with n_obs × n_vars = 289 × 9304\n",
       "    obs: 'sample', 'uicc_stage', 'ever_smoker', 'age', 'donor_id', 'origin', 'dataset', 'doublet_status', 'tumor_stage', 'EGFR_mutation', 'TP53_mutation', 'ALK_mutation', 'BRAF_mutation', 'ERBB2_mutation', 'KRAS_mutation', 'ROS_mutation', 'origin_fine', 'study', 'platform', 'suspension_type', 'assay_ontology_term_id', 'development_stage_ontology_term_id', 'disease_ontology_term_id', 'self_reported_ethnicity_ontology_term_id', 'is_primary_data', 'organism_ontology_term_id', 'sex_ontology_term_id', 'tissue_ontology_term_id', 'assay', 'disease', 'organism', 'sex', 'tissue', 'self_reported_ethnicity', 'development_stage'"
      ]
     },
     "execution_count": 8,
     "metadata": {},
     "output_type": "execute_result"
    }
   ],
   "source": [
    "pdata"
   ]
  },
  {
   "cell_type": "code",
   "execution_count": 7,
   "id": "eaad764e-f461-4cdd-8004-7401fac98359",
   "metadata": {},
   "outputs": [
    {
     "ename": "KeyError",
     "evalue": "'psbulk_n_cells'",
     "output_type": "error",
     "traceback": [
      "\u001b[0;31m---------------------------------------------------------------------------\u001b[0m",
      "\u001b[0;31mKeyError\u001b[0m                                  Traceback (most recent call last)",
      "File \u001b[0;32m~/.conda/envs/crc_atlas/lib/python3.11/site-packages/pandas/core/indexes/base.py:3790\u001b[0m, in \u001b[0;36mIndex.get_loc\u001b[0;34m(self, key)\u001b[0m\n\u001b[1;32m   3789\u001b[0m \u001b[38;5;28;01mtry\u001b[39;00m:\n\u001b[0;32m-> 3790\u001b[0m     \u001b[38;5;28;01mreturn\u001b[39;00m \u001b[38;5;28;43mself\u001b[39;49m\u001b[38;5;241;43m.\u001b[39;49m\u001b[43m_engine\u001b[49m\u001b[38;5;241;43m.\u001b[39;49m\u001b[43mget_loc\u001b[49m\u001b[43m(\u001b[49m\u001b[43mcasted_key\u001b[49m\u001b[43m)\u001b[49m\n\u001b[1;32m   3791\u001b[0m \u001b[38;5;28;01mexcept\u001b[39;00m \u001b[38;5;167;01mKeyError\u001b[39;00m \u001b[38;5;28;01mas\u001b[39;00m err:\n",
      "File \u001b[0;32mindex.pyx:152\u001b[0m, in \u001b[0;36mpandas._libs.index.IndexEngine.get_loc\u001b[0;34m()\u001b[0m\n",
      "File \u001b[0;32mindex.pyx:181\u001b[0m, in \u001b[0;36mpandas._libs.index.IndexEngine.get_loc\u001b[0;34m()\u001b[0m\n",
      "File \u001b[0;32mpandas/_libs/hashtable_class_helper.pxi:7080\u001b[0m, in \u001b[0;36mpandas._libs.hashtable.PyObjectHashTable.get_item\u001b[0;34m()\u001b[0m\n",
      "File \u001b[0;32mpandas/_libs/hashtable_class_helper.pxi:7088\u001b[0m, in \u001b[0;36mpandas._libs.hashtable.PyObjectHashTable.get_item\u001b[0;34m()\u001b[0m\n",
      "\u001b[0;31mKeyError\u001b[0m: 'psbulk_n_cells'",
      "\nThe above exception was the direct cause of the following exception:\n",
      "\u001b[0;31mKeyError\u001b[0m                                  Traceback (most recent call last)",
      "Cell \u001b[0;32mIn[7], line 1\u001b[0m\n\u001b[0;32m----> 1\u001b[0m \u001b[43mdc\u001b[49m\u001b[38;5;241;43m.\u001b[39;49m\u001b[43mplot_psbulk_samples\u001b[49m\u001b[43m(\u001b[49m\u001b[43mpdata\u001b[49m\u001b[43m,\u001b[49m\u001b[43m \u001b[49m\u001b[43mgroupby\u001b[49m\u001b[38;5;241;43m=\u001b[39;49m\u001b[43m[\u001b[49m\u001b[38;5;124;43m'\u001b[39;49m\u001b[38;5;124;43mdataset\u001b[39;49m\u001b[38;5;124;43m'\u001b[39;49m\u001b[43m,\u001b[49m\u001b[43m \u001b[49m\u001b[38;5;124;43m'\u001b[39;49m\u001b[38;5;124;43mplatform\u001b[39;49m\u001b[38;5;124;43m'\u001b[39;49m\u001b[43m]\u001b[49m\u001b[43m,\u001b[49m\u001b[43m \u001b[49m\u001b[43mfigsize\u001b[49m\u001b[38;5;241;43m=\u001b[39;49m\u001b[43m(\u001b[49m\u001b[38;5;241;43m12\u001b[39;49m\u001b[43m,\u001b[49m\u001b[43m \u001b[49m\u001b[38;5;241;43m4\u001b[39;49m\u001b[43m)\u001b[49m\u001b[43m)\u001b[49m\n",
      "File \u001b[0;32m~/.conda/envs/crc_atlas/lib/python3.11/site-packages/decoupler/plotting.py:939\u001b[0m, in \u001b[0;36mplot_psbulk_samples\u001b[0;34m(adata, groupby, figsize, dpi, ax, return_fig, save, **kwargs)\u001b[0m\n\u001b[1;32m    936\u001b[0m df \u001b[38;5;241m=\u001b[39m adata\u001b[38;5;241m.\u001b[39mobs\u001b[38;5;241m.\u001b[39mcopy()\n\u001b[1;32m    938\u001b[0m \u001b[38;5;66;03m# Transform to log10\u001b[39;00m\n\u001b[0;32m--> 939\u001b[0m df[\u001b[38;5;124m'\u001b[39m\u001b[38;5;124mpsbulk_n_cells\u001b[39m\u001b[38;5;124m'\u001b[39m] \u001b[38;5;241m=\u001b[39m np\u001b[38;5;241m.\u001b[39mlog10(\u001b[43mdf\u001b[49m\u001b[43m[\u001b[49m\u001b[38;5;124;43m'\u001b[39;49m\u001b[38;5;124;43mpsbulk_n_cells\u001b[39;49m\u001b[38;5;124;43m'\u001b[39;49m\u001b[43m]\u001b[49m)\n\u001b[1;32m    940\u001b[0m df[\u001b[38;5;124m'\u001b[39m\u001b[38;5;124mpsbulk_counts\u001b[39m\u001b[38;5;124m'\u001b[39m] \u001b[38;5;241m=\u001b[39m np\u001b[38;5;241m.\u001b[39mlog10(df[\u001b[38;5;124m'\u001b[39m\u001b[38;5;124mpsbulk_counts\u001b[39m\u001b[38;5;124m'\u001b[39m])\n\u001b[1;32m    942\u001b[0m \u001b[38;5;28;01mif\u001b[39;00m \u001b[38;5;28mtype\u001b[39m(groupby) \u001b[38;5;129;01mis\u001b[39;00m \u001b[38;5;28mlist\u001b[39m \u001b[38;5;129;01mand\u001b[39;00m ax \u001b[38;5;129;01mis\u001b[39;00m \u001b[38;5;129;01mnot\u001b[39;00m \u001b[38;5;28;01mNone\u001b[39;00m:\n",
      "File \u001b[0;32m~/.conda/envs/crc_atlas/lib/python3.11/site-packages/pandas/core/frame.py:3893\u001b[0m, in \u001b[0;36mDataFrame.__getitem__\u001b[0;34m(self, key)\u001b[0m\n\u001b[1;32m   3891\u001b[0m \u001b[38;5;28;01mif\u001b[39;00m \u001b[38;5;28mself\u001b[39m\u001b[38;5;241m.\u001b[39mcolumns\u001b[38;5;241m.\u001b[39mnlevels \u001b[38;5;241m>\u001b[39m \u001b[38;5;241m1\u001b[39m:\n\u001b[1;32m   3892\u001b[0m     \u001b[38;5;28;01mreturn\u001b[39;00m \u001b[38;5;28mself\u001b[39m\u001b[38;5;241m.\u001b[39m_getitem_multilevel(key)\n\u001b[0;32m-> 3893\u001b[0m indexer \u001b[38;5;241m=\u001b[39m \u001b[38;5;28;43mself\u001b[39;49m\u001b[38;5;241;43m.\u001b[39;49m\u001b[43mcolumns\u001b[49m\u001b[38;5;241;43m.\u001b[39;49m\u001b[43mget_loc\u001b[49m\u001b[43m(\u001b[49m\u001b[43mkey\u001b[49m\u001b[43m)\u001b[49m\n\u001b[1;32m   3894\u001b[0m \u001b[38;5;28;01mif\u001b[39;00m is_integer(indexer):\n\u001b[1;32m   3895\u001b[0m     indexer \u001b[38;5;241m=\u001b[39m [indexer]\n",
      "File \u001b[0;32m~/.conda/envs/crc_atlas/lib/python3.11/site-packages/pandas/core/indexes/base.py:3797\u001b[0m, in \u001b[0;36mIndex.get_loc\u001b[0;34m(self, key)\u001b[0m\n\u001b[1;32m   3792\u001b[0m     \u001b[38;5;28;01mif\u001b[39;00m \u001b[38;5;28misinstance\u001b[39m(casted_key, \u001b[38;5;28mslice\u001b[39m) \u001b[38;5;129;01mor\u001b[39;00m (\n\u001b[1;32m   3793\u001b[0m         \u001b[38;5;28misinstance\u001b[39m(casted_key, abc\u001b[38;5;241m.\u001b[39mIterable)\n\u001b[1;32m   3794\u001b[0m         \u001b[38;5;129;01mand\u001b[39;00m \u001b[38;5;28many\u001b[39m(\u001b[38;5;28misinstance\u001b[39m(x, \u001b[38;5;28mslice\u001b[39m) \u001b[38;5;28;01mfor\u001b[39;00m x \u001b[38;5;129;01min\u001b[39;00m casted_key)\n\u001b[1;32m   3795\u001b[0m     ):\n\u001b[1;32m   3796\u001b[0m         \u001b[38;5;28;01mraise\u001b[39;00m InvalidIndexError(key)\n\u001b[0;32m-> 3797\u001b[0m     \u001b[38;5;28;01mraise\u001b[39;00m \u001b[38;5;167;01mKeyError\u001b[39;00m(key) \u001b[38;5;28;01mfrom\u001b[39;00m \u001b[38;5;21;01merr\u001b[39;00m\n\u001b[1;32m   3798\u001b[0m \u001b[38;5;28;01mexcept\u001b[39;00m \u001b[38;5;167;01mTypeError\u001b[39;00m:\n\u001b[1;32m   3799\u001b[0m     \u001b[38;5;66;03m# If we have a listlike key, _check_indexing_error will raise\u001b[39;00m\n\u001b[1;32m   3800\u001b[0m     \u001b[38;5;66;03m#  InvalidIndexError. Otherwise we fall through and re-raise\u001b[39;00m\n\u001b[1;32m   3801\u001b[0m     \u001b[38;5;66;03m#  the TypeError.\u001b[39;00m\n\u001b[1;32m   3802\u001b[0m     \u001b[38;5;28mself\u001b[39m\u001b[38;5;241m.\u001b[39m_check_indexing_error(key)\n",
      "\u001b[0;31mKeyError\u001b[0m: 'psbulk_n_cells'"
     ]
    }
   ],
   "source": [
    "dc.plot_psbulk_samples(pdata, groupby=['dataset', 'platform'], figsize=(12, 4))"
   ]
  },
  {
   "cell_type": "code",
   "execution_count": null,
   "id": "473a6ba3-0ae1-4b07-b54c-a4492461640d",
   "metadata": {},
   "outputs": [],
   "source": [
    "dc.plot_filter_by_expr(pdata, group='sample', min_count=10, min_total_count=15)"
   ]
  },
  {
   "cell_type": "code",
   "execution_count": null,
   "id": "bf0fe502-4ab8-429c-8e60-d08b10367278",
   "metadata": {},
   "outputs": [],
   "source": [
    "dc.plot_filter_by_expr(pdata, group='sample', large_n=100,min_prop=0.9, min_count=5000, min_total_count=10000)"
   ]
  },
  {
   "cell_type": "markdown",
   "id": "73fa0d4c-7052-4b0e-8957-7785b306a23b",
   "metadata": {},
   "source": [
    "I set this threshold for the DS analysis to avoid havinh zero-inflated data"
   ]
  },
  {
   "cell_type": "code",
   "execution_count": null,
   "id": "261c355c-1540-4222-8c53-31f49bd08d9e",
   "metadata": {},
   "outputs": [],
   "source": [
    "# Obtain genes that pass the thresholds \n",
    "genes = dc.filter_by_expr(pdata, group='sample', min_count=5000, min_total_count=10000)\n",
    "\n",
    "# Filter by these genes\n",
    "pdata = pdata[:, genes].copy()\n",
    "pdata"
   ]
  },
  {
   "cell_type": "code",
   "execution_count": 41,
   "id": "588bb836-02b6-4918-a40e-add9fb54332c",
   "metadata": {},
   "outputs": [],
   "source": [
    "pdata.layers[\"counts\"] = pdata.X"
   ]
  },
  {
   "cell_type": "code",
   "execution_count": 42,
   "id": "42538387-6809-4099-9b66-deb524121bc4",
   "metadata": {},
   "outputs": [],
   "source": [
    "scales_counts = sc.pp.normalize_total(pdata, target_sum=None, inplace=False)\n",
    "# log1p transform\n",
    "pdata.layers[\"log1p_norm\"] = sc.pp.log1p(scales_counts[\"X\"], copy=True)"
   ]
  },
  {
   "cell_type": "code",
   "execution_count": 43,
   "id": "5e64494d-e597-498d-837b-15076f28e7ea",
   "metadata": {},
   "outputs": [
    {
     "data": {
      "text/plain": [
       "AnnData object with n_obs × n_vars = 289 × 9304\n",
       "    obs: 'sample', 'uicc_stage', 'ever_smoker', 'age', 'donor_id', 'origin', 'dataset', 'doublet_status', 'tumor_stage', 'EGFR_mutation', 'TP53_mutation', 'ALK_mutation', 'BRAF_mutation', 'ERBB2_mutation', 'KRAS_mutation', 'ROS_mutation', 'origin_fine', 'study', 'platform', 'suspension_type', 'assay_ontology_term_id', 'development_stage_ontology_term_id', 'disease_ontology_term_id', 'self_reported_ethnicity_ontology_term_id', 'is_primary_data', 'organism_ontology_term_id', 'sex_ontology_term_id', 'tissue_ontology_term_id', 'assay', 'disease', 'organism', 'sex', 'tissue', 'self_reported_ethnicity', 'development_stage'\n",
       "    layers: 'counts', 'log1p_norm'"
      ]
     },
     "execution_count": 43,
     "metadata": {},
     "output_type": "execute_result"
    }
   ],
   "source": [
    "pdata"
   ]
  },
  {
   "cell_type": "code",
   "execution_count": 44,
   "id": "ded8be1d-8c0e-414b-a932-87090935c610",
   "metadata": {},
   "outputs": [],
   "source": [
    "### Samplesheet\n",
    "samplesheet = pdata.obs.copy()\n",
    "samplesheet[\"sample\"]=samplesheet.index\n",
    "samplesheet.reset_index(inplace=True)"
   ]
  },
  {
   "cell_type": "code",
   "execution_count": 46,
   "id": "8dde13ff-e1b0-4b6b-b29d-1be5e33c31e5",
   "metadata": {},
   "outputs": [],
   "source": [
    "samplesheet.to_csv(f\"{path}/out/tmp/007_re_analysis_dataset/tables/input/samplesheet.csv\", index=False)\n",
    "samplesheet.to_csv(f\"{path}/out/tmp/007_re_analysis_dataset/tables/input/samplesheet.tsv\", index=False, sep = \"\\t\")"
   ]
  },
  {
   "cell_type": "code",
   "execution_count": 47,
   "id": "96db85fd-4b13-47e6-8dbd-b8a2bc456e1b",
   "metadata": {},
   "outputs": [],
   "source": [
    "bulk_df = pdata.to_df().T"
   ]
  },
  {
   "cell_type": "code",
   "execution_count": 48,
   "id": "9cd2fbe0-dc81-43d8-9eb8-b1689b1a1feb",
   "metadata": {},
   "outputs": [
    {
     "name": "stderr",
     "output_type": "stream",
     "text": [
      "/tmp/ipykernel_11762/3249437527.py:4: FutureWarning: The default value of regex will change from True to False in a future version.\n",
      "  bulk_df.columns = bulk_df.columns.str.replace(\"[.-]\", \"_\").str.replace(\" \", \"_\")\n"
     ]
    }
   ],
   "source": [
    "### Raw counts\n",
    "bulk_df = pdata.to_df().T\n",
    "#bulk_df[\"gene_id\"]=bulk_df.index\n",
    "bulk_df.columns = bulk_df.columns.str.replace(\"[.-]\", \"_\").str.replace(\" \", \"_\")"
   ]
  },
  {
   "cell_type": "code",
   "execution_count": 49,
   "id": "d461b607-4323-419e-8851-58944f7eac8a",
   "metadata": {},
   "outputs": [
    {
     "data": {
      "text/html": [
       "<div>\n",
       "<style scoped>\n",
       "    .dataframe tbody tr th:only-of-type {\n",
       "        vertical-align: middle;\n",
       "    }\n",
       "\n",
       "    .dataframe tbody tr th {\n",
       "        vertical-align: top;\n",
       "    }\n",
       "\n",
       "    .dataframe thead th {\n",
       "        text-align: right;\n",
       "    }\n",
       "</style>\n",
       "<table border=\"1\" class=\"dataframe\">\n",
       "  <thead>\n",
       "    <tr style=\"text-align: right;\">\n",
       "      <th>gene_id</th>\n",
       "      <th>ENSG00000000419</th>\n",
       "      <th>ENSG00000000457</th>\n",
       "      <th>ENSG00000000460</th>\n",
       "      <th>ENSG00000000938</th>\n",
       "      <th>ENSG00000000971</th>\n",
       "      <th>ENSG00000001036</th>\n",
       "      <th>ENSG00000001084</th>\n",
       "      <th>ENSG00000001167</th>\n",
       "      <th>ENSG00000001461</th>\n",
       "      <th>ENSG00000001497</th>\n",
       "      <th>...</th>\n",
       "      <th>ENSG00000279170</th>\n",
       "      <th>ENSG00000280789</th>\n",
       "      <th>ENSG00000281103</th>\n",
       "      <th>ENSG00000281649</th>\n",
       "      <th>ENSG00000282851</th>\n",
       "      <th>ENSG00000284194</th>\n",
       "      <th>ENSG00000284770</th>\n",
       "      <th>ENSG00000285077</th>\n",
       "      <th>ENSG00000288701</th>\n",
       "      <th>ENSG00000288722</th>\n",
       "    </tr>\n",
       "  </thead>\n",
       "  <tbody>\n",
       "    <tr>\n",
       "      <th>Goveia_Carmeliet_2020_patient_40_normal_adjacent_Goveia_Carmeliet_2020_patient_40</th>\n",
       "      <td>695.0</td>\n",
       "      <td>0.0</td>\n",
       "      <td>0.0</td>\n",
       "      <td>2622.0</td>\n",
       "      <td>0.0</td>\n",
       "      <td>687.0</td>\n",
       "      <td>0.0</td>\n",
       "      <td>0.0</td>\n",
       "      <td>0.0</td>\n",
       "      <td>0.0</td>\n",
       "      <td>...</td>\n",
       "      <td>0.0</td>\n",
       "      <td>0.0</td>\n",
       "      <td>0.0</td>\n",
       "      <td>0.0</td>\n",
       "      <td>0.0</td>\n",
       "      <td>0.0</td>\n",
       "      <td>0.0</td>\n",
       "      <td>0.0</td>\n",
       "      <td>0.0</td>\n",
       "      <td>0.0</td>\n",
       "    </tr>\n",
       "    <tr>\n",
       "      <th>Goveia_Carmeliet_2020_patient_40_tumor_primary_Goveia_Carmeliet_2020_patient_40</th>\n",
       "      <td>343.0</td>\n",
       "      <td>0.0</td>\n",
       "      <td>0.0</td>\n",
       "      <td>628.0</td>\n",
       "      <td>0.0</td>\n",
       "      <td>288.0</td>\n",
       "      <td>0.0</td>\n",
       "      <td>0.0</td>\n",
       "      <td>0.0</td>\n",
       "      <td>0.0</td>\n",
       "      <td>...</td>\n",
       "      <td>0.0</td>\n",
       "      <td>0.0</td>\n",
       "      <td>0.0</td>\n",
       "      <td>0.0</td>\n",
       "      <td>0.0</td>\n",
       "      <td>0.0</td>\n",
       "      <td>0.0</td>\n",
       "      <td>0.0</td>\n",
       "      <td>0.0</td>\n",
       "      <td>0.0</td>\n",
       "    </tr>\n",
       "    <tr>\n",
       "      <th>Goveia_Carmeliet_2020_patient_41_normal_adjacent_Goveia_Carmeliet_2020_patient_41</th>\n",
       "      <td>0.0</td>\n",
       "      <td>0.0</td>\n",
       "      <td>0.0</td>\n",
       "      <td>0.0</td>\n",
       "      <td>0.0</td>\n",
       "      <td>0.0</td>\n",
       "      <td>0.0</td>\n",
       "      <td>0.0</td>\n",
       "      <td>0.0</td>\n",
       "      <td>0.0</td>\n",
       "      <td>...</td>\n",
       "      <td>0.0</td>\n",
       "      <td>0.0</td>\n",
       "      <td>0.0</td>\n",
       "      <td>0.0</td>\n",
       "      <td>0.0</td>\n",
       "      <td>0.0</td>\n",
       "      <td>0.0</td>\n",
       "      <td>0.0</td>\n",
       "      <td>0.0</td>\n",
       "      <td>0.0</td>\n",
       "    </tr>\n",
       "    <tr>\n",
       "      <th>Goveia_Carmeliet_2020_patient_41_tumor_primary_Goveia_Carmeliet_2020_patient_41</th>\n",
       "      <td>0.0</td>\n",
       "      <td>0.0</td>\n",
       "      <td>0.0</td>\n",
       "      <td>0.0</td>\n",
       "      <td>0.0</td>\n",
       "      <td>0.0</td>\n",
       "      <td>0.0</td>\n",
       "      <td>0.0</td>\n",
       "      <td>0.0</td>\n",
       "      <td>0.0</td>\n",
       "      <td>...</td>\n",
       "      <td>0.0</td>\n",
       "      <td>0.0</td>\n",
       "      <td>0.0</td>\n",
       "      <td>0.0</td>\n",
       "      <td>0.0</td>\n",
       "      <td>0.0</td>\n",
       "      <td>0.0</td>\n",
       "      <td>0.0</td>\n",
       "      <td>0.0</td>\n",
       "      <td>0.0</td>\n",
       "    </tr>\n",
       "    <tr>\n",
       "      <th>Goveia_Carmeliet_2020_patient_42_normal_adjacent_Goveia_Carmeliet_2020_patient_42</th>\n",
       "      <td>0.0</td>\n",
       "      <td>0.0</td>\n",
       "      <td>0.0</td>\n",
       "      <td>0.0</td>\n",
       "      <td>0.0</td>\n",
       "      <td>0.0</td>\n",
       "      <td>0.0</td>\n",
       "      <td>0.0</td>\n",
       "      <td>0.0</td>\n",
       "      <td>0.0</td>\n",
       "      <td>...</td>\n",
       "      <td>0.0</td>\n",
       "      <td>0.0</td>\n",
       "      <td>0.0</td>\n",
       "      <td>0.0</td>\n",
       "      <td>0.0</td>\n",
       "      <td>0.0</td>\n",
       "      <td>0.0</td>\n",
       "      <td>0.0</td>\n",
       "      <td>0.0</td>\n",
       "      <td>0.0</td>\n",
       "    </tr>\n",
       "    <tr>\n",
       "      <th>...</th>\n",
       "      <td>...</td>\n",
       "      <td>...</td>\n",
       "      <td>...</td>\n",
       "      <td>...</td>\n",
       "      <td>...</td>\n",
       "      <td>...</td>\n",
       "      <td>...</td>\n",
       "      <td>...</td>\n",
       "      <td>...</td>\n",
       "      <td>...</td>\n",
       "      <td>...</td>\n",
       "      <td>...</td>\n",
       "      <td>...</td>\n",
       "      <td>...</td>\n",
       "      <td>...</td>\n",
       "      <td>...</td>\n",
       "      <td>...</td>\n",
       "      <td>...</td>\n",
       "      <td>...</td>\n",
       "      <td>...</td>\n",
       "      <td>...</td>\n",
       "    </tr>\n",
       "    <tr>\n",
       "      <th>Zilionis_Klein_2019_p5t2_Zilionis_Klein_2019_patient_5</th>\n",
       "      <td>0.0</td>\n",
       "      <td>0.0</td>\n",
       "      <td>0.0</td>\n",
       "      <td>0.0</td>\n",
       "      <td>0.0</td>\n",
       "      <td>0.0</td>\n",
       "      <td>0.0</td>\n",
       "      <td>0.0</td>\n",
       "      <td>0.0</td>\n",
       "      <td>0.0</td>\n",
       "      <td>...</td>\n",
       "      <td>0.0</td>\n",
       "      <td>0.0</td>\n",
       "      <td>0.0</td>\n",
       "      <td>0.0</td>\n",
       "      <td>0.0</td>\n",
       "      <td>0.0</td>\n",
       "      <td>0.0</td>\n",
       "      <td>0.0</td>\n",
       "      <td>0.0</td>\n",
       "      <td>0.0</td>\n",
       "    </tr>\n",
       "    <tr>\n",
       "      <th>Zilionis_Klein_2019_p6t1_Zilionis_Klein_2019_patient_6</th>\n",
       "      <td>0.0</td>\n",
       "      <td>0.0</td>\n",
       "      <td>0.0</td>\n",
       "      <td>0.0</td>\n",
       "      <td>0.0</td>\n",
       "      <td>0.0</td>\n",
       "      <td>0.0</td>\n",
       "      <td>0.0</td>\n",
       "      <td>0.0</td>\n",
       "      <td>0.0</td>\n",
       "      <td>...</td>\n",
       "      <td>0.0</td>\n",
       "      <td>0.0</td>\n",
       "      <td>0.0</td>\n",
       "      <td>0.0</td>\n",
       "      <td>0.0</td>\n",
       "      <td>0.0</td>\n",
       "      <td>0.0</td>\n",
       "      <td>0.0</td>\n",
       "      <td>0.0</td>\n",
       "      <td>0.0</td>\n",
       "    </tr>\n",
       "    <tr>\n",
       "      <th>Zilionis_Klein_2019_p6t2_Zilionis_Klein_2019_patient_6</th>\n",
       "      <td>0.0</td>\n",
       "      <td>0.0</td>\n",
       "      <td>0.0</td>\n",
       "      <td>0.0</td>\n",
       "      <td>0.0</td>\n",
       "      <td>0.0</td>\n",
       "      <td>0.0</td>\n",
       "      <td>0.0</td>\n",
       "      <td>0.0</td>\n",
       "      <td>0.0</td>\n",
       "      <td>...</td>\n",
       "      <td>0.0</td>\n",
       "      <td>0.0</td>\n",
       "      <td>0.0</td>\n",
       "      <td>0.0</td>\n",
       "      <td>0.0</td>\n",
       "      <td>0.0</td>\n",
       "      <td>0.0</td>\n",
       "      <td>0.0</td>\n",
       "      <td>0.0</td>\n",
       "      <td>0.0</td>\n",
       "    </tr>\n",
       "    <tr>\n",
       "      <th>Zilionis_Klein_2019_p7t1_Zilionis_Klein_2019_patient_7</th>\n",
       "      <td>0.0</td>\n",
       "      <td>0.0</td>\n",
       "      <td>0.0</td>\n",
       "      <td>0.0</td>\n",
       "      <td>0.0</td>\n",
       "      <td>0.0</td>\n",
       "      <td>0.0</td>\n",
       "      <td>0.0</td>\n",
       "      <td>0.0</td>\n",
       "      <td>0.0</td>\n",
       "      <td>...</td>\n",
       "      <td>0.0</td>\n",
       "      <td>0.0</td>\n",
       "      <td>0.0</td>\n",
       "      <td>0.0</td>\n",
       "      <td>0.0</td>\n",
       "      <td>0.0</td>\n",
       "      <td>0.0</td>\n",
       "      <td>0.0</td>\n",
       "      <td>0.0</td>\n",
       "      <td>0.0</td>\n",
       "    </tr>\n",
       "    <tr>\n",
       "      <th>Zilionis_Klein_2019_p7t2_Zilionis_Klein_2019_patient_7</th>\n",
       "      <td>0.0</td>\n",
       "      <td>0.0</td>\n",
       "      <td>0.0</td>\n",
       "      <td>0.0</td>\n",
       "      <td>0.0</td>\n",
       "      <td>0.0</td>\n",
       "      <td>0.0</td>\n",
       "      <td>0.0</td>\n",
       "      <td>0.0</td>\n",
       "      <td>0.0</td>\n",
       "      <td>...</td>\n",
       "      <td>0.0</td>\n",
       "      <td>0.0</td>\n",
       "      <td>0.0</td>\n",
       "      <td>0.0</td>\n",
       "      <td>0.0</td>\n",
       "      <td>0.0</td>\n",
       "      <td>0.0</td>\n",
       "      <td>0.0</td>\n",
       "      <td>0.0</td>\n",
       "      <td>0.0</td>\n",
       "    </tr>\n",
       "  </tbody>\n",
       "</table>\n",
       "<p>289 rows × 9304 columns</p>\n",
       "</div>"
      ],
      "text/plain": [
       "gene_id                                             ENSG00000000419  \\\n",
       "Goveia_Carmeliet_2020_patient_40_normal_adjacen...            695.0   \n",
       "Goveia_Carmeliet_2020_patient_40_tumor_primary_...            343.0   \n",
       "Goveia_Carmeliet_2020_patient_41_normal_adjacen...              0.0   \n",
       "Goveia_Carmeliet_2020_patient_41_tumor_primary_...              0.0   \n",
       "Goveia_Carmeliet_2020_patient_42_normal_adjacen...              0.0   \n",
       "...                                                             ...   \n",
       "Zilionis_Klein_2019_p5t2_Zilionis_Klein_2019_pa...              0.0   \n",
       "Zilionis_Klein_2019_p6t1_Zilionis_Klein_2019_pa...              0.0   \n",
       "Zilionis_Klein_2019_p6t2_Zilionis_Klein_2019_pa...              0.0   \n",
       "Zilionis_Klein_2019_p7t1_Zilionis_Klein_2019_pa...              0.0   \n",
       "Zilionis_Klein_2019_p7t2_Zilionis_Klein_2019_pa...              0.0   \n",
       "\n",
       "gene_id                                             ENSG00000000457  \\\n",
       "Goveia_Carmeliet_2020_patient_40_normal_adjacen...              0.0   \n",
       "Goveia_Carmeliet_2020_patient_40_tumor_primary_...              0.0   \n",
       "Goveia_Carmeliet_2020_patient_41_normal_adjacen...              0.0   \n",
       "Goveia_Carmeliet_2020_patient_41_tumor_primary_...              0.0   \n",
       "Goveia_Carmeliet_2020_patient_42_normal_adjacen...              0.0   \n",
       "...                                                             ...   \n",
       "Zilionis_Klein_2019_p5t2_Zilionis_Klein_2019_pa...              0.0   \n",
       "Zilionis_Klein_2019_p6t1_Zilionis_Klein_2019_pa...              0.0   \n",
       "Zilionis_Klein_2019_p6t2_Zilionis_Klein_2019_pa...              0.0   \n",
       "Zilionis_Klein_2019_p7t1_Zilionis_Klein_2019_pa...              0.0   \n",
       "Zilionis_Klein_2019_p7t2_Zilionis_Klein_2019_pa...              0.0   \n",
       "\n",
       "gene_id                                             ENSG00000000460  \\\n",
       "Goveia_Carmeliet_2020_patient_40_normal_adjacen...              0.0   \n",
       "Goveia_Carmeliet_2020_patient_40_tumor_primary_...              0.0   \n",
       "Goveia_Carmeliet_2020_patient_41_normal_adjacen...              0.0   \n",
       "Goveia_Carmeliet_2020_patient_41_tumor_primary_...              0.0   \n",
       "Goveia_Carmeliet_2020_patient_42_normal_adjacen...              0.0   \n",
       "...                                                             ...   \n",
       "Zilionis_Klein_2019_p5t2_Zilionis_Klein_2019_pa...              0.0   \n",
       "Zilionis_Klein_2019_p6t1_Zilionis_Klein_2019_pa...              0.0   \n",
       "Zilionis_Klein_2019_p6t2_Zilionis_Klein_2019_pa...              0.0   \n",
       "Zilionis_Klein_2019_p7t1_Zilionis_Klein_2019_pa...              0.0   \n",
       "Zilionis_Klein_2019_p7t2_Zilionis_Klein_2019_pa...              0.0   \n",
       "\n",
       "gene_id                                             ENSG00000000938  \\\n",
       "Goveia_Carmeliet_2020_patient_40_normal_adjacen...           2622.0   \n",
       "Goveia_Carmeliet_2020_patient_40_tumor_primary_...            628.0   \n",
       "Goveia_Carmeliet_2020_patient_41_normal_adjacen...              0.0   \n",
       "Goveia_Carmeliet_2020_patient_41_tumor_primary_...              0.0   \n",
       "Goveia_Carmeliet_2020_patient_42_normal_adjacen...              0.0   \n",
       "...                                                             ...   \n",
       "Zilionis_Klein_2019_p5t2_Zilionis_Klein_2019_pa...              0.0   \n",
       "Zilionis_Klein_2019_p6t1_Zilionis_Klein_2019_pa...              0.0   \n",
       "Zilionis_Klein_2019_p6t2_Zilionis_Klein_2019_pa...              0.0   \n",
       "Zilionis_Klein_2019_p7t1_Zilionis_Klein_2019_pa...              0.0   \n",
       "Zilionis_Klein_2019_p7t2_Zilionis_Klein_2019_pa...              0.0   \n",
       "\n",
       "gene_id                                             ENSG00000000971  \\\n",
       "Goveia_Carmeliet_2020_patient_40_normal_adjacen...              0.0   \n",
       "Goveia_Carmeliet_2020_patient_40_tumor_primary_...              0.0   \n",
       "Goveia_Carmeliet_2020_patient_41_normal_adjacen...              0.0   \n",
       "Goveia_Carmeliet_2020_patient_41_tumor_primary_...              0.0   \n",
       "Goveia_Carmeliet_2020_patient_42_normal_adjacen...              0.0   \n",
       "...                                                             ...   \n",
       "Zilionis_Klein_2019_p5t2_Zilionis_Klein_2019_pa...              0.0   \n",
       "Zilionis_Klein_2019_p6t1_Zilionis_Klein_2019_pa...              0.0   \n",
       "Zilionis_Klein_2019_p6t2_Zilionis_Klein_2019_pa...              0.0   \n",
       "Zilionis_Klein_2019_p7t1_Zilionis_Klein_2019_pa...              0.0   \n",
       "Zilionis_Klein_2019_p7t2_Zilionis_Klein_2019_pa...              0.0   \n",
       "\n",
       "gene_id                                             ENSG00000001036  \\\n",
       "Goveia_Carmeliet_2020_patient_40_normal_adjacen...            687.0   \n",
       "Goveia_Carmeliet_2020_patient_40_tumor_primary_...            288.0   \n",
       "Goveia_Carmeliet_2020_patient_41_normal_adjacen...              0.0   \n",
       "Goveia_Carmeliet_2020_patient_41_tumor_primary_...              0.0   \n",
       "Goveia_Carmeliet_2020_patient_42_normal_adjacen...              0.0   \n",
       "...                                                             ...   \n",
       "Zilionis_Klein_2019_p5t2_Zilionis_Klein_2019_pa...              0.0   \n",
       "Zilionis_Klein_2019_p6t1_Zilionis_Klein_2019_pa...              0.0   \n",
       "Zilionis_Klein_2019_p6t2_Zilionis_Klein_2019_pa...              0.0   \n",
       "Zilionis_Klein_2019_p7t1_Zilionis_Klein_2019_pa...              0.0   \n",
       "Zilionis_Klein_2019_p7t2_Zilionis_Klein_2019_pa...              0.0   \n",
       "\n",
       "gene_id                                             ENSG00000001084  \\\n",
       "Goveia_Carmeliet_2020_patient_40_normal_adjacen...              0.0   \n",
       "Goveia_Carmeliet_2020_patient_40_tumor_primary_...              0.0   \n",
       "Goveia_Carmeliet_2020_patient_41_normal_adjacen...              0.0   \n",
       "Goveia_Carmeliet_2020_patient_41_tumor_primary_...              0.0   \n",
       "Goveia_Carmeliet_2020_patient_42_normal_adjacen...              0.0   \n",
       "...                                                             ...   \n",
       "Zilionis_Klein_2019_p5t2_Zilionis_Klein_2019_pa...              0.0   \n",
       "Zilionis_Klein_2019_p6t1_Zilionis_Klein_2019_pa...              0.0   \n",
       "Zilionis_Klein_2019_p6t2_Zilionis_Klein_2019_pa...              0.0   \n",
       "Zilionis_Klein_2019_p7t1_Zilionis_Klein_2019_pa...              0.0   \n",
       "Zilionis_Klein_2019_p7t2_Zilionis_Klein_2019_pa...              0.0   \n",
       "\n",
       "gene_id                                             ENSG00000001167  \\\n",
       "Goveia_Carmeliet_2020_patient_40_normal_adjacen...              0.0   \n",
       "Goveia_Carmeliet_2020_patient_40_tumor_primary_...              0.0   \n",
       "Goveia_Carmeliet_2020_patient_41_normal_adjacen...              0.0   \n",
       "Goveia_Carmeliet_2020_patient_41_tumor_primary_...              0.0   \n",
       "Goveia_Carmeliet_2020_patient_42_normal_adjacen...              0.0   \n",
       "...                                                             ...   \n",
       "Zilionis_Klein_2019_p5t2_Zilionis_Klein_2019_pa...              0.0   \n",
       "Zilionis_Klein_2019_p6t1_Zilionis_Klein_2019_pa...              0.0   \n",
       "Zilionis_Klein_2019_p6t2_Zilionis_Klein_2019_pa...              0.0   \n",
       "Zilionis_Klein_2019_p7t1_Zilionis_Klein_2019_pa...              0.0   \n",
       "Zilionis_Klein_2019_p7t2_Zilionis_Klein_2019_pa...              0.0   \n",
       "\n",
       "gene_id                                             ENSG00000001461  \\\n",
       "Goveia_Carmeliet_2020_patient_40_normal_adjacen...              0.0   \n",
       "Goveia_Carmeliet_2020_patient_40_tumor_primary_...              0.0   \n",
       "Goveia_Carmeliet_2020_patient_41_normal_adjacen...              0.0   \n",
       "Goveia_Carmeliet_2020_patient_41_tumor_primary_...              0.0   \n",
       "Goveia_Carmeliet_2020_patient_42_normal_adjacen...              0.0   \n",
       "...                                                             ...   \n",
       "Zilionis_Klein_2019_p5t2_Zilionis_Klein_2019_pa...              0.0   \n",
       "Zilionis_Klein_2019_p6t1_Zilionis_Klein_2019_pa...              0.0   \n",
       "Zilionis_Klein_2019_p6t2_Zilionis_Klein_2019_pa...              0.0   \n",
       "Zilionis_Klein_2019_p7t1_Zilionis_Klein_2019_pa...              0.0   \n",
       "Zilionis_Klein_2019_p7t2_Zilionis_Klein_2019_pa...              0.0   \n",
       "\n",
       "gene_id                                             ENSG00000001497  ...  \\\n",
       "Goveia_Carmeliet_2020_patient_40_normal_adjacen...              0.0  ...   \n",
       "Goveia_Carmeliet_2020_patient_40_tumor_primary_...              0.0  ...   \n",
       "Goveia_Carmeliet_2020_patient_41_normal_adjacen...              0.0  ...   \n",
       "Goveia_Carmeliet_2020_patient_41_tumor_primary_...              0.0  ...   \n",
       "Goveia_Carmeliet_2020_patient_42_normal_adjacen...              0.0  ...   \n",
       "...                                                             ...  ...   \n",
       "Zilionis_Klein_2019_p5t2_Zilionis_Klein_2019_pa...              0.0  ...   \n",
       "Zilionis_Klein_2019_p6t1_Zilionis_Klein_2019_pa...              0.0  ...   \n",
       "Zilionis_Klein_2019_p6t2_Zilionis_Klein_2019_pa...              0.0  ...   \n",
       "Zilionis_Klein_2019_p7t1_Zilionis_Klein_2019_pa...              0.0  ...   \n",
       "Zilionis_Klein_2019_p7t2_Zilionis_Klein_2019_pa...              0.0  ...   \n",
       "\n",
       "gene_id                                             ENSG00000279170  \\\n",
       "Goveia_Carmeliet_2020_patient_40_normal_adjacen...              0.0   \n",
       "Goveia_Carmeliet_2020_patient_40_tumor_primary_...              0.0   \n",
       "Goveia_Carmeliet_2020_patient_41_normal_adjacen...              0.0   \n",
       "Goveia_Carmeliet_2020_patient_41_tumor_primary_...              0.0   \n",
       "Goveia_Carmeliet_2020_patient_42_normal_adjacen...              0.0   \n",
       "...                                                             ...   \n",
       "Zilionis_Klein_2019_p5t2_Zilionis_Klein_2019_pa...              0.0   \n",
       "Zilionis_Klein_2019_p6t1_Zilionis_Klein_2019_pa...              0.0   \n",
       "Zilionis_Klein_2019_p6t2_Zilionis_Klein_2019_pa...              0.0   \n",
       "Zilionis_Klein_2019_p7t1_Zilionis_Klein_2019_pa...              0.0   \n",
       "Zilionis_Klein_2019_p7t2_Zilionis_Klein_2019_pa...              0.0   \n",
       "\n",
       "gene_id                                             ENSG00000280789  \\\n",
       "Goveia_Carmeliet_2020_patient_40_normal_adjacen...              0.0   \n",
       "Goveia_Carmeliet_2020_patient_40_tumor_primary_...              0.0   \n",
       "Goveia_Carmeliet_2020_patient_41_normal_adjacen...              0.0   \n",
       "Goveia_Carmeliet_2020_patient_41_tumor_primary_...              0.0   \n",
       "Goveia_Carmeliet_2020_patient_42_normal_adjacen...              0.0   \n",
       "...                                                             ...   \n",
       "Zilionis_Klein_2019_p5t2_Zilionis_Klein_2019_pa...              0.0   \n",
       "Zilionis_Klein_2019_p6t1_Zilionis_Klein_2019_pa...              0.0   \n",
       "Zilionis_Klein_2019_p6t2_Zilionis_Klein_2019_pa...              0.0   \n",
       "Zilionis_Klein_2019_p7t1_Zilionis_Klein_2019_pa...              0.0   \n",
       "Zilionis_Klein_2019_p7t2_Zilionis_Klein_2019_pa...              0.0   \n",
       "\n",
       "gene_id                                             ENSG00000281103  \\\n",
       "Goveia_Carmeliet_2020_patient_40_normal_adjacen...              0.0   \n",
       "Goveia_Carmeliet_2020_patient_40_tumor_primary_...              0.0   \n",
       "Goveia_Carmeliet_2020_patient_41_normal_adjacen...              0.0   \n",
       "Goveia_Carmeliet_2020_patient_41_tumor_primary_...              0.0   \n",
       "Goveia_Carmeliet_2020_patient_42_normal_adjacen...              0.0   \n",
       "...                                                             ...   \n",
       "Zilionis_Klein_2019_p5t2_Zilionis_Klein_2019_pa...              0.0   \n",
       "Zilionis_Klein_2019_p6t1_Zilionis_Klein_2019_pa...              0.0   \n",
       "Zilionis_Klein_2019_p6t2_Zilionis_Klein_2019_pa...              0.0   \n",
       "Zilionis_Klein_2019_p7t1_Zilionis_Klein_2019_pa...              0.0   \n",
       "Zilionis_Klein_2019_p7t2_Zilionis_Klein_2019_pa...              0.0   \n",
       "\n",
       "gene_id                                             ENSG00000281649  \\\n",
       "Goveia_Carmeliet_2020_patient_40_normal_adjacen...              0.0   \n",
       "Goveia_Carmeliet_2020_patient_40_tumor_primary_...              0.0   \n",
       "Goveia_Carmeliet_2020_patient_41_normal_adjacen...              0.0   \n",
       "Goveia_Carmeliet_2020_patient_41_tumor_primary_...              0.0   \n",
       "Goveia_Carmeliet_2020_patient_42_normal_adjacen...              0.0   \n",
       "...                                                             ...   \n",
       "Zilionis_Klein_2019_p5t2_Zilionis_Klein_2019_pa...              0.0   \n",
       "Zilionis_Klein_2019_p6t1_Zilionis_Klein_2019_pa...              0.0   \n",
       "Zilionis_Klein_2019_p6t2_Zilionis_Klein_2019_pa...              0.0   \n",
       "Zilionis_Klein_2019_p7t1_Zilionis_Klein_2019_pa...              0.0   \n",
       "Zilionis_Klein_2019_p7t2_Zilionis_Klein_2019_pa...              0.0   \n",
       "\n",
       "gene_id                                             ENSG00000282851  \\\n",
       "Goveia_Carmeliet_2020_patient_40_normal_adjacen...              0.0   \n",
       "Goveia_Carmeliet_2020_patient_40_tumor_primary_...              0.0   \n",
       "Goveia_Carmeliet_2020_patient_41_normal_adjacen...              0.0   \n",
       "Goveia_Carmeliet_2020_patient_41_tumor_primary_...              0.0   \n",
       "Goveia_Carmeliet_2020_patient_42_normal_adjacen...              0.0   \n",
       "...                                                             ...   \n",
       "Zilionis_Klein_2019_p5t2_Zilionis_Klein_2019_pa...              0.0   \n",
       "Zilionis_Klein_2019_p6t1_Zilionis_Klein_2019_pa...              0.0   \n",
       "Zilionis_Klein_2019_p6t2_Zilionis_Klein_2019_pa...              0.0   \n",
       "Zilionis_Klein_2019_p7t1_Zilionis_Klein_2019_pa...              0.0   \n",
       "Zilionis_Klein_2019_p7t2_Zilionis_Klein_2019_pa...              0.0   \n",
       "\n",
       "gene_id                                             ENSG00000284194  \\\n",
       "Goveia_Carmeliet_2020_patient_40_normal_adjacen...              0.0   \n",
       "Goveia_Carmeliet_2020_patient_40_tumor_primary_...              0.0   \n",
       "Goveia_Carmeliet_2020_patient_41_normal_adjacen...              0.0   \n",
       "Goveia_Carmeliet_2020_patient_41_tumor_primary_...              0.0   \n",
       "Goveia_Carmeliet_2020_patient_42_normal_adjacen...              0.0   \n",
       "...                                                             ...   \n",
       "Zilionis_Klein_2019_p5t2_Zilionis_Klein_2019_pa...              0.0   \n",
       "Zilionis_Klein_2019_p6t1_Zilionis_Klein_2019_pa...              0.0   \n",
       "Zilionis_Klein_2019_p6t2_Zilionis_Klein_2019_pa...              0.0   \n",
       "Zilionis_Klein_2019_p7t1_Zilionis_Klein_2019_pa...              0.0   \n",
       "Zilionis_Klein_2019_p7t2_Zilionis_Klein_2019_pa...              0.0   \n",
       "\n",
       "gene_id                                             ENSG00000284770  \\\n",
       "Goveia_Carmeliet_2020_patient_40_normal_adjacen...              0.0   \n",
       "Goveia_Carmeliet_2020_patient_40_tumor_primary_...              0.0   \n",
       "Goveia_Carmeliet_2020_patient_41_normal_adjacen...              0.0   \n",
       "Goveia_Carmeliet_2020_patient_41_tumor_primary_...              0.0   \n",
       "Goveia_Carmeliet_2020_patient_42_normal_adjacen...              0.0   \n",
       "...                                                             ...   \n",
       "Zilionis_Klein_2019_p5t2_Zilionis_Klein_2019_pa...              0.0   \n",
       "Zilionis_Klein_2019_p6t1_Zilionis_Klein_2019_pa...              0.0   \n",
       "Zilionis_Klein_2019_p6t2_Zilionis_Klein_2019_pa...              0.0   \n",
       "Zilionis_Klein_2019_p7t1_Zilionis_Klein_2019_pa...              0.0   \n",
       "Zilionis_Klein_2019_p7t2_Zilionis_Klein_2019_pa...              0.0   \n",
       "\n",
       "gene_id                                             ENSG00000285077  \\\n",
       "Goveia_Carmeliet_2020_patient_40_normal_adjacen...              0.0   \n",
       "Goveia_Carmeliet_2020_patient_40_tumor_primary_...              0.0   \n",
       "Goveia_Carmeliet_2020_patient_41_normal_adjacen...              0.0   \n",
       "Goveia_Carmeliet_2020_patient_41_tumor_primary_...              0.0   \n",
       "Goveia_Carmeliet_2020_patient_42_normal_adjacen...              0.0   \n",
       "...                                                             ...   \n",
       "Zilionis_Klein_2019_p5t2_Zilionis_Klein_2019_pa...              0.0   \n",
       "Zilionis_Klein_2019_p6t1_Zilionis_Klein_2019_pa...              0.0   \n",
       "Zilionis_Klein_2019_p6t2_Zilionis_Klein_2019_pa...              0.0   \n",
       "Zilionis_Klein_2019_p7t1_Zilionis_Klein_2019_pa...              0.0   \n",
       "Zilionis_Klein_2019_p7t2_Zilionis_Klein_2019_pa...              0.0   \n",
       "\n",
       "gene_id                                             ENSG00000288701  \\\n",
       "Goveia_Carmeliet_2020_patient_40_normal_adjacen...              0.0   \n",
       "Goveia_Carmeliet_2020_patient_40_tumor_primary_...              0.0   \n",
       "Goveia_Carmeliet_2020_patient_41_normal_adjacen...              0.0   \n",
       "Goveia_Carmeliet_2020_patient_41_tumor_primary_...              0.0   \n",
       "Goveia_Carmeliet_2020_patient_42_normal_adjacen...              0.0   \n",
       "...                                                             ...   \n",
       "Zilionis_Klein_2019_p5t2_Zilionis_Klein_2019_pa...              0.0   \n",
       "Zilionis_Klein_2019_p6t1_Zilionis_Klein_2019_pa...              0.0   \n",
       "Zilionis_Klein_2019_p6t2_Zilionis_Klein_2019_pa...              0.0   \n",
       "Zilionis_Klein_2019_p7t1_Zilionis_Klein_2019_pa...              0.0   \n",
       "Zilionis_Klein_2019_p7t2_Zilionis_Klein_2019_pa...              0.0   \n",
       "\n",
       "gene_id                                             ENSG00000288722  \n",
       "Goveia_Carmeliet_2020_patient_40_normal_adjacen...              0.0  \n",
       "Goveia_Carmeliet_2020_patient_40_tumor_primary_...              0.0  \n",
       "Goveia_Carmeliet_2020_patient_41_normal_adjacen...              0.0  \n",
       "Goveia_Carmeliet_2020_patient_41_tumor_primary_...              0.0  \n",
       "Goveia_Carmeliet_2020_patient_42_normal_adjacen...              0.0  \n",
       "...                                                             ...  \n",
       "Zilionis_Klein_2019_p5t2_Zilionis_Klein_2019_pa...              0.0  \n",
       "Zilionis_Klein_2019_p6t1_Zilionis_Klein_2019_pa...              0.0  \n",
       "Zilionis_Klein_2019_p6t2_Zilionis_Klein_2019_pa...              0.0  \n",
       "Zilionis_Klein_2019_p7t1_Zilionis_Klein_2019_pa...              0.0  \n",
       "Zilionis_Klein_2019_p7t2_Zilionis_Klein_2019_pa...              0.0  \n",
       "\n",
       "[289 rows x 9304 columns]"
      ]
     },
     "execution_count": 49,
     "metadata": {},
     "output_type": "execute_result"
    }
   ],
   "source": [
    "pdata.to_df()"
   ]
  },
  {
   "cell_type": "code",
   "execution_count": 50,
   "id": "d9d33a74-8359-4564-83d5-7daa91204a69",
   "metadata": {},
   "outputs": [],
   "source": [
    "bulk_df.to_csv(f\"{path}/out/tmp/007_re_analysis_dataset/tables/input/counts.csv\")    "
   ]
  },
  {
   "cell_type": "code",
   "execution_count": 51,
   "id": "43ddd3e0-e71b-480b-9d98-cbad2f8f3a8d",
   "metadata": {},
   "outputs": [
    {
     "name": "stderr",
     "output_type": "stream",
     "text": [
      "/tmp/ipykernel_11762/3634773357.py:7: FutureWarning: The default value of regex will change from True to False in a future version.\n",
      "  bulk_df.columns = bulk_df.columns.str.replace(\"[.-]\", \"_\").str.replace(\" \", \"_\")\n"
     ]
    }
   ],
   "source": [
    "### log1p_norm counts\n",
    "pdata_log1p_norm = pd.DataFrame(pdata.layers[\"log1p_norm\"], \n",
    "    pdata.to_df().index, \n",
    "    pdata.to_df().columns)\n",
    "bulk_df = pdata_log1p_norm.T\n",
    "#bulk_df[\"gene_id\"]=bulk_df.index\n",
    "bulk_df.columns = bulk_df.columns.str.replace(\"[.-]\", \"_\").str.replace(\" \", \"_\")\n",
    "bulk_df.to_csv(f\"{path}/out/tmp/007_re_analysis_dataset/tables/input/log1p_norm_counts.csv\")    "
   ]
  },
  {
   "cell_type": "markdown",
   "id": "5f95e140-e654-460b-a5ac-d6ce832bd60c",
   "metadata": {},
   "source": [
    "### 0.4 Create counts and samplesheet independent for tumor and normal for DESEQ2 "
   ]
  },
  {
   "cell_type": "code",
   "execution_count": 52,
   "id": "b87fe773-4e33-4d5e-a8e4-27eabe97660a",
   "metadata": {},
   "outputs": [],
   "source": [
    "pdata_normal = pdata[pdata.obs[\"origin\"]==\"normal_adjacent\"]\n",
    "pdata_tumor = pdata[pdata.obs[\"origin\"]==\"tumor_primary\"]"
   ]
  },
  {
   "cell_type": "code",
   "execution_count": 53,
   "id": "08c8bcc4-5914-4479-a68f-e8f3f450f5fe",
   "metadata": {},
   "outputs": [
    {
     "data": {
      "text/plain": [
       "View of AnnData object with n_obs × n_vars = 111 × 9304\n",
       "    obs: 'sample', 'uicc_stage', 'ever_smoker', 'age', 'donor_id', 'origin', 'dataset', 'doublet_status', 'tumor_stage', 'EGFR_mutation', 'TP53_mutation', 'ALK_mutation', 'BRAF_mutation', 'ERBB2_mutation', 'KRAS_mutation', 'ROS_mutation', 'origin_fine', 'study', 'platform', 'suspension_type', 'assay_ontology_term_id', 'development_stage_ontology_term_id', 'disease_ontology_term_id', 'self_reported_ethnicity_ontology_term_id', 'is_primary_data', 'organism_ontology_term_id', 'sex_ontology_term_id', 'tissue_ontology_term_id', 'assay', 'disease', 'organism', 'sex', 'tissue', 'self_reported_ethnicity', 'development_stage'\n",
       "    layers: 'counts', 'log1p_norm'"
      ]
     },
     "execution_count": 53,
     "metadata": {},
     "output_type": "execute_result"
    }
   ],
   "source": [
    "pdata_normal"
   ]
  },
  {
   "cell_type": "code",
   "execution_count": 54,
   "id": "a7edbc1e-fb61-4f8c-8d80-27833035cf0d",
   "metadata": {
    "scrolled": true
   },
   "outputs": [
    {
     "name": "stdout",
     "output_type": "stream",
     "text": [
      "normal\n"
     ]
    },
    {
     "name": "stderr",
     "output_type": "stream",
     "text": [
      "/tmp/ipykernel_11762/4293849383.py:18: FutureWarning: The default value of regex will change from True to False in a future version.\n",
      "  bulk_df.columns = bulk_df.columns.str.replace(\"[.-]\", \"_\").str.replace(\" \", \"_\")\n",
      "/tmp/ipykernel_11762/4293849383.py:26: FutureWarning: The default value of regex will change from True to False in a future version.\n",
      "  bulk_df.columns = bulk_df.columns.str.replace(\"[.-]\", \"_\").str.replace(\" \", \"_\")\n"
     ]
    },
    {
     "name": "stdout",
     "output_type": "stream",
     "text": [
      "tumor\n"
     ]
    },
    {
     "name": "stderr",
     "output_type": "stream",
     "text": [
      "/tmp/ipykernel_11762/4293849383.py:18: FutureWarning: The default value of regex will change from True to False in a future version.\n",
      "  bulk_df.columns = bulk_df.columns.str.replace(\"[.-]\", \"_\").str.replace(\" \", \"_\")\n",
      "/tmp/ipykernel_11762/4293849383.py:26: FutureWarning: The default value of regex will change from True to False in a future version.\n",
      "  bulk_df.columns = bulk_df.columns.str.replace(\"[.-]\", \"_\").str.replace(\" \", \"_\")\n"
     ]
    }
   ],
   "source": [
    "pdata_list = [pdata_normal,pdata_tumor]\n",
    "pdata_list_name = [\"normal\",\"tumor\"]\n",
    "\n",
    "for index, dataframe in enumerate(pdata_list):\n",
    "    print(pdata_list_name[index])\n",
    "    # Perform the operations\n",
    "    samplesheet = dataframe.obs.copy()\n",
    "    samplesheet[\"sample\"] = samplesheet.index\n",
    "    samplesheet.reset_index(inplace=True)\n",
    "  \n",
    "    samplesheet.to_csv(f\"{path}/out/tmp/007_re_analysis_dataset/tables/input/samplesheet_{pdata_list_name[index]}.csv\", index=False)\n",
    "    samplesheet.to_csv(f\"{path}/out/tmp/007_re_analysis_dataset/tables/input/samplesheet_{pdata_list_name[index]}.tsv\", index=False, sep=\"\\t\")\n",
    "\n",
    "\n",
    "    ### Raw counts\n",
    "    bulk_df = dataframe.to_df().T\n",
    "    #bulk_df[\"gene_id\"]=bulk_df.index\n",
    "    bulk_df.columns = bulk_df.columns.str.replace(\"[.-]\", \"_\").str.replace(\" \", \"_\")\n",
    "    bulk_df.to_csv(f\"{path}/out/tmp/007_re_analysis_dataset/tables/input/counts_{pdata_list_name[index]}.csv\")  \n",
    "    ### log1p_norm counts\n",
    "    pdata_log1p_norm = pd.DataFrame(dataframe.layers[\"log1p_norm\"], \n",
    "        dataframe.to_df().index, \n",
    "        dataframe.to_df().columns)\n",
    "    bulk_df = pdata_log1p_norm.T\n",
    "    #bulk_df[\"gene_id\"]=bulk_df.index\n",
    "    bulk_df.columns = bulk_df.columns.str.replace(\"[.-]\", \"_\").str.replace(\" \", \"_\")\n",
    "    bulk_df.to_csv(f\"{path}/out/tmp/007_re_analysis_dataset/tables/input/log1p_norm_counts_{pdata_list_name[index]}.csv\")    "
   ]
  }
 ],
 "metadata": {
  "kernelspec": {
   "display_name": "crc_atlas",
   "language": "python",
   "name": "crc_atlas"
  },
  "language_info": {
   "codemirror_mode": {
    "name": "ipython",
    "version": 3
   },
   "file_extension": ".py",
   "mimetype": "text/x-python",
   "name": "python",
   "nbconvert_exporter": "python",
   "pygments_lexer": "ipython3",
   "version": "3.11.6"
  }
 },
 "nbformat": 4,
 "nbformat_minor": 5
}
