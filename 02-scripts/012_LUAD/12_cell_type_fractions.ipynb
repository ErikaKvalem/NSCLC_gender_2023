{
 "cells": [
  {
   "cell_type": "code",
   "execution_count": 1,
   "id": "2ba39248-0f36-4903-ac69-938d8bfc1ae3",
   "metadata": {},
   "outputs": [],
   "source": [
    "import pandas as pd"
   ]
  },
  {
   "cell_type": "code",
   "execution_count": 2,
   "id": "cef8bf33-d81d-4d29-a4a7-ad8f7c2d9b52",
   "metadata": {},
   "outputs": [],
   "source": [
    "import scanpy as sc"
   ]
  },
  {
   "cell_type": "code",
   "execution_count": 3,
   "id": "6353fee7-4a88-4336-9d53-69249066c12c",
   "metadata": {},
   "outputs": [],
   "source": [
    "import altair as alt"
   ]
  },
  {
   "cell_type": "code",
   "execution_count": 4,
   "id": "2c109e9b-b447-4cb4-9944-ff74a53b647a",
   "metadata": {},
   "outputs": [],
   "source": [
    "import numpy as np"
   ]
  },
  {
   "cell_type": "code",
   "execution_count": 5,
   "id": "727f3ab2-97d0-4a02-a066-9bebd6bde904",
   "metadata": {},
   "outputs": [],
   "source": [
    "import matplotlib.pyplot as plt"
   ]
  },
  {
   "cell_type": "code",
   "execution_count": 6,
   "id": "21c4d526-cee1-42a1-8827-31108cd01a50",
   "metadata": {},
   "outputs": [],
   "source": [
    "import itertools"
   ]
  },
  {
   "cell_type": "code",
   "execution_count": 7,
   "id": "e7460e41-826c-4e75-b2dd-bf1c01f1c1a7",
   "metadata": {},
   "outputs": [
    {
     "name": "stderr",
     "output_type": "stream",
     "text": [
      "2024-11-27 16:32:51.026072: E external/local_xla/xla/stream_executor/cuda/cuda_dnn.cc:10575] Unable to register cuDNN factory: Attempting to register factory for plugin cuDNN when one has already been registered\n",
      "2024-11-27 16:32:51.026124: E external/local_xla/xla/stream_executor/cuda/cuda_fft.cc:479] Unable to register cuFFT factory: Attempting to register factory for plugin cuFFT when one has already been registered\n",
      "2024-11-27 16:32:51.028403: E external/local_xla/xla/stream_executor/cuda/cuda_blas.cc:1442] Unable to register cuBLAS factory: Attempting to register factory for plugin cuBLAS when one has already been registered\n",
      "2024-11-27 16:32:51.037352: I tensorflow/core/platform/cpu_feature_guard.cc:210] This TensorFlow binary is optimized to use available CPU instructions in performance-critical operations.\n",
      "To enable the following instructions: SSE4.1 SSE4.2 AVX AVX2 FMA, in other operations, rebuild TensorFlow with the appropriate compiler flags.\n"
     ]
    }
   ],
   "source": [
    "import sccoda.util.cell_composition_data as scc_dat\n",
    "import sccoda.util.comp_ana as scc_ana\n",
    "import sccoda.util.data_visualization as scc_viz"
   ]
  },
  {
   "cell_type": "code",
   "execution_count": 8,
   "id": "6406fac3-cb1e-4dcb-80f5-240dc28336fb",
   "metadata": {},
   "outputs": [],
   "source": [
    "#import scanpy_helpers as sh"
   ]
  },
  {
   "cell_type": "code",
   "execution_count": 9,
   "id": "46c6e223-754f-49b2-a1cf-aee308953865",
   "metadata": {},
   "outputs": [],
   "source": [
    "import tensorflow as tf"
   ]
  },
  {
   "cell_type": "code",
   "execution_count": 10,
   "id": "07d013bc-514d-4d59-9565-86999909a423",
   "metadata": {},
   "outputs": [],
   "source": [
    "tf.random.set_seed(0)"
   ]
  },
  {
   "cell_type": "code",
   "execution_count": 11,
   "id": "485b3698-6219-46bb-8f16-6e53f309459e",
   "metadata": {},
   "outputs": [],
   "source": [
    "path = \"/data/projects/2023/LCBiome/nsclc_gender_atlas_tmp/out/011_analysis_paired_remove_xy/pseudobulk/\"\n",
    "resDir = \"/data/projects/2023/LCBiome/nsclc_gender_atlas_tmp/out/011_analysis_paired_remove_xy/figures/\"\n",
    "input_path = f\"{path}/paired_adata_clean.h5ad\""
   ]
  },
  {
   "cell_type": "code",
   "execution_count": 12,
   "id": "377fbbf9-054a-4776-a85f-df875536a356",
   "metadata": {},
   "outputs": [],
   "source": [
    "adata = sc.read_h5ad(input_path) "
   ]
  },
  {
   "cell_type": "code",
   "execution_count": 13,
   "id": "382c67df-20d7-4ec9-94af-3b97ae0fd404",
   "metadata": {},
   "outputs": [
    {
     "name": "stderr",
     "output_type": "stream",
     "text": [
      "/tmp/ipykernel_3354260/171438398.py:1: FutureWarning: A value is trying to be set on a copy of a DataFrame or Series through chained assignment using an inplace method.\n",
      "The behavior will change in pandas 3.0. This inplace method will never work because the intermediate object on which we are setting values always behaves as a copy.\n",
      "\n",
      "For example, when doing 'df[col].method(value, inplace=True)', try using 'df.method({col: value}, inplace=True)' or df[col] = df[col].method(value) instead, to perform the operation inplace on the original object.\n",
      "\n",
      "\n",
      "  adata.obs[\"cell_type_major\"].replace(\"Macrophage alveolar\",\"Macrophage\", inplace=True)\n",
      "/tmp/ipykernel_3354260/171438398.py:1: FutureWarning: The behavior of Series.replace (and DataFrame.replace) with CategoricalDtype is deprecated. In a future version, replace will only be used for cases that preserve the categories. To change the categories, use ser.cat.rename_categories instead.\n",
      "  adata.obs[\"cell_type_major\"].replace(\"Macrophage alveolar\",\"Macrophage\", inplace=True)\n"
     ]
    }
   ],
   "source": [
    "adata.obs[\"cell_type_major\"].replace(\"Macrophage alveolar\",\"Macrophage\", inplace=True)"
   ]
  },
  {
   "cell_type": "code",
   "execution_count": 14,
   "id": "12d997ee-fcd7-4c22-a781-5b82860a4f5f",
   "metadata": {},
   "outputs": [],
   "source": [
    "adata = adata[~adata.obs[\"cell_type_major\"].isin([\"transitional club/AT2\",\"Ciliated\",\"other\"])]"
   ]
  },
  {
   "cell_type": "code",
   "execution_count": 15,
   "id": "2f370173-be6a-4c90-b6ef-fc3fae929001",
   "metadata": {},
   "outputs": [
    {
     "data": {
      "text/plain": [
       "cell_type_major\n",
       "Macrophage           130447\n",
       "T cell CD4           118739\n",
       "T cell CD8            96754\n",
       "B cell                27723\n",
       "Tumor cells           25793\n",
       "T cell regulatory     23411\n",
       "Neutrophils           15244\n",
       "DC mature              1158\n",
       "Name: count, dtype: int64"
      ]
     },
     "execution_count": 15,
     "metadata": {},
     "output_type": "execute_result"
    }
   ],
   "source": [
    "adata.obs.cell_type_major.value_counts()"
   ]
  },
  {
   "cell_type": "code",
   "execution_count": 16,
   "id": "1abf0b36-0d9e-4f65-977b-17003582d638",
   "metadata": {},
   "outputs": [
    {
     "data": {
      "text/plain": [
       "disease\n",
       "lung adenocarcinoma              325886\n",
       "squamous cell lung carcinoma      93286\n",
       "non-small cell lung carcinoma     20097\n",
       "Name: count, dtype: int64"
      ]
     },
     "execution_count": 16,
     "metadata": {},
     "output_type": "execute_result"
    }
   ],
   "source": [
    "adata.obs.disease.value_counts()"
   ]
  },
  {
   "cell_type": "code",
   "execution_count": 17,
   "id": "f97c1c57-708e-40c7-9491-c9fe394ece71",
   "metadata": {},
   "outputs": [
    {
     "name": "stderr",
     "output_type": "stream",
     "text": [
      "/tmp/ipykernel_3354260/2596522960.py:10: FutureWarning: The default of observed=False is deprecated and will be changed to True in a future version of pandas. Pass observed=False to retain current behavior or observed=True to adopt the future default and silence this warning.\n",
      "  .groupby([\"dataset\", \"tumor_stage\", \"donor_id\",\"sex\"])\n",
      "/tmp/ipykernel_3354260/2596522960.py:11: DeprecationWarning: DataFrameGroupBy.apply operated on the grouping columns. This behavior is deprecated, and in a future version of pandas the grouping columns will be excluded from the operation. Either pass `include_groups=False` to exclude the groupings or explicitly select the grouping columns after groupby to silence this warning.\n",
      "  .apply(lambda x: x.value_counts(cell_type_column, normalize=False))\n"
     ]
    }
   ],
   "source": [
    "# only on primary tumor samples;\n",
    "# exclude datasets with only a single cell-type\n",
    "cell_type_column =  \"cell_type_major\"\n",
    "frac_by_condition = (\n",
    "    adata.obs.loc[\n",
    "        lambda x: (x[\"origin\"] == \"tumor_primary\")\n",
    "        & ~x[\"dataset\"].isin([\"Guo_Zhang_2018\"])\n",
    "        & x[\"disease\"].isin([\"lung adenocarcinoma\"])\n",
    "    ]\n",
    "    .groupby([\"dataset\", \"tumor_stage\", \"donor_id\",\"sex\"])\n",
    "    .apply(lambda x: x.value_counts(cell_type_column, normalize=False))\n",
    "    .reset_index(name=\"n_cells\")\n",
    "    #.assign(condition=lambda x: x[\"sex\"].astype(str))\n",
    ")\n",
    "\n"
   ]
  },
  {
   "cell_type": "code",
   "execution_count": 19,
   "id": "17aa317f-186b-45c4-af21-e3f06d2b09de",
   "metadata": {},
   "outputs": [],
   "source": [
    "frac_pivot = (\n",
    "    frac_by_condition.pivot(\n",
    "        index=[\"donor_id\", \"dataset\", \"tumor_stage\",\"sex\"],\n",
    "        columns=cell_type_column,\n",
    "        values=\"n_cells\",\n",
    "    )\n",
    "    .reset_index()\n",
    ")\n"
   ]
  },
  {
   "cell_type": "code",
   "execution_count": 20,
   "id": "ec3e033a-90ce-4138-8376-6de2f4f26b42",
   "metadata": {},
   "outputs": [
    {
     "data": {
      "text/html": [
       "<div>\n",
       "<style scoped>\n",
       "    .dataframe tbody tr th:only-of-type {\n",
       "        vertical-align: middle;\n",
       "    }\n",
       "\n",
       "    .dataframe tbody tr th {\n",
       "        vertical-align: top;\n",
       "    }\n",
       "\n",
       "    .dataframe thead th {\n",
       "        text-align: right;\n",
       "    }\n",
       "</style>\n",
       "<table border=\"1\" class=\"dataframe\">\n",
       "  <thead>\n",
       "    <tr style=\"text-align: right;\">\n",
       "      <th>cell_type_major</th>\n",
       "      <th>donor_id</th>\n",
       "      <th>dataset</th>\n",
       "      <th>tumor_stage</th>\n",
       "      <th>sex</th>\n",
       "      <th>B cell</th>\n",
       "      <th>DC mature</th>\n",
       "      <th>Macrophage</th>\n",
       "      <th>Neutrophils</th>\n",
       "      <th>T cell CD4</th>\n",
       "      <th>T cell CD8</th>\n",
       "      <th>T cell regulatory</th>\n",
       "      <th>Tumor cells</th>\n",
       "    </tr>\n",
       "  </thead>\n",
       "  <tbody>\n",
       "    <tr>\n",
       "      <th>0</th>\n",
       "      <td>Goveia_Carmeliet_2020_patient_45</td>\n",
       "      <td>Goveia_Carmeliet_2020</td>\n",
       "      <td>early</td>\n",
       "      <td>female</td>\n",
       "      <td>8</td>\n",
       "      <td>0</td>\n",
       "      <td>233</td>\n",
       "      <td>0</td>\n",
       "      <td>16</td>\n",
       "      <td>7</td>\n",
       "      <td>2</td>\n",
       "      <td>28</td>\n",
       "    </tr>\n",
       "    <tr>\n",
       "      <th>1</th>\n",
       "      <td>Goveia_Carmeliet_2020_patient_46</td>\n",
       "      <td>Goveia_Carmeliet_2020</td>\n",
       "      <td>early</td>\n",
       "      <td>female</td>\n",
       "      <td>6</td>\n",
       "      <td>0</td>\n",
       "      <td>36</td>\n",
       "      <td>0</td>\n",
       "      <td>13</td>\n",
       "      <td>9</td>\n",
       "      <td>0</td>\n",
       "      <td>86</td>\n",
       "    </tr>\n",
       "    <tr>\n",
       "      <th>2</th>\n",
       "      <td>Goveia_Carmeliet_2020_patient_50</td>\n",
       "      <td>Goveia_Carmeliet_2020</td>\n",
       "      <td>early</td>\n",
       "      <td>female</td>\n",
       "      <td>5</td>\n",
       "      <td>4</td>\n",
       "      <td>405</td>\n",
       "      <td>0</td>\n",
       "      <td>21</td>\n",
       "      <td>27</td>\n",
       "      <td>3</td>\n",
       "      <td>15</td>\n",
       "    </tr>\n",
       "    <tr>\n",
       "      <th>3</th>\n",
       "      <td>He_Fan_2021_P1</td>\n",
       "      <td>He_Fan_2021</td>\n",
       "      <td>early</td>\n",
       "      <td>female</td>\n",
       "      <td>89</td>\n",
       "      <td>22</td>\n",
       "      <td>5571</td>\n",
       "      <td>0</td>\n",
       "      <td>1115</td>\n",
       "      <td>264</td>\n",
       "      <td>99</td>\n",
       "      <td>717</td>\n",
       "    </tr>\n",
       "    <tr>\n",
       "      <th>4</th>\n",
       "      <td>He_Fan_2021_P2</td>\n",
       "      <td>He_Fan_2021</td>\n",
       "      <td>early</td>\n",
       "      <td>male</td>\n",
       "      <td>237</td>\n",
       "      <td>62</td>\n",
       "      <td>2601</td>\n",
       "      <td>0</td>\n",
       "      <td>1208</td>\n",
       "      <td>1454</td>\n",
       "      <td>504</td>\n",
       "      <td>554</td>\n",
       "    </tr>\n",
       "  </tbody>\n",
       "</table>\n",
       "</div>"
      ],
      "text/plain": [
       "cell_type_major                          donor_id                dataset  \\\n",
       "0                Goveia_Carmeliet_2020_patient_45  Goveia_Carmeliet_2020   \n",
       "1                Goveia_Carmeliet_2020_patient_46  Goveia_Carmeliet_2020   \n",
       "2                Goveia_Carmeliet_2020_patient_50  Goveia_Carmeliet_2020   \n",
       "3                                  He_Fan_2021_P1            He_Fan_2021   \n",
       "4                                  He_Fan_2021_P2            He_Fan_2021   \n",
       "\n",
       "cell_type_major tumor_stage     sex  B cell  DC mature  Macrophage  \\\n",
       "0                     early  female       8          0         233   \n",
       "1                     early  female       6          0          36   \n",
       "2                     early  female       5          4         405   \n",
       "3                     early  female      89         22        5571   \n",
       "4                     early    male     237         62        2601   \n",
       "\n",
       "cell_type_major  Neutrophils  T cell CD4  T cell CD8  T cell regulatory  \\\n",
       "0                          0          16           7                  2   \n",
       "1                          0          13           9                  0   \n",
       "2                          0          21          27                  3   \n",
       "3                          0        1115         264                 99   \n",
       "4                          0        1208        1454                504   \n",
       "\n",
       "cell_type_major  Tumor cells  \n",
       "0                         28  \n",
       "1                         86  \n",
       "2                         15  \n",
       "3                        717  \n",
       "4                        554  "
      ]
     },
     "execution_count": 20,
     "metadata": {},
     "output_type": "execute_result"
    }
   ],
   "source": [
    "frac_pivot.head()"
   ]
  },
  {
   "cell_type": "code",
   "execution_count": 21,
   "id": "b9700db8-9577-49d6-b384-e116103fd5bd",
   "metadata": {},
   "outputs": [],
   "source": [
    "data_all = scc_dat.from_pandas(\n",
    "    frac_pivot, covariate_columns=[\"donor_id\", \"dataset\",  \"tumor_stage\",\"sex\"]\n",
    ")"
   ]
  },
  {
   "cell_type": "code",
   "execution_count": 22,
   "id": "a8eb717b-eb5c-4231-b5d3-33fac8a9a823",
   "metadata": {},
   "outputs": [],
   "source": [
    "data_all.obs[\"condition\"] = pd.Categorical(\n",
    "    data_all.obs[\"sex\"], categories=[\"male\", \"female\"]\n",
    ")"
   ]
  },
  {
   "cell_type": "code",
   "execution_count": 23,
   "id": "86ba2f61-7a56-4bd4-be7a-a4a4fcddd2e3",
   "metadata": {},
   "outputs": [],
   "source": [
    "data_all._sanitize()"
   ]
  },
  {
   "cell_type": "code",
   "execution_count": 24,
   "id": "b23972ca-a1d4-4877-a0dd-11cc1f881e8a",
   "metadata": {},
   "outputs": [
    {
     "name": "stderr",
     "output_type": "stream",
     "text": [
      "/home/kvalem/.conda/envs/test_sccoda/lib/python3.12/site-packages/sccoda/util/data_visualization.py:335: UserWarning: set_ticklabels() should only be used with a fixed number of ticks, i.e. after set_ticks() or using a FixedLocator.\n",
      "  ax.set_xticklabels(cell_types, rotation=90)\n"
     ]
    },
    {
     "data": {
      "text/plain": [
       "<Axes: xlabel='Cell type', ylabel='Proportion'>"
      ]
     },
     "execution_count": 24,
     "metadata": {},
     "output_type": "execute_result"
    },
    {
     "data": {
      "image/png": "[encoded data removed]",
      "text/plain": [
       "<Figure size 1200x500 with 1 Axes>"
      ]
     },
     "metadata": {},
     "output_type": "display_data"
    }
   ],
   "source": [
    "scc_viz.boxplots(data_all, feature_name=\"sex\", figsize=(12, 5))"
   ]
  },
  {
   "cell_type": "code",
   "execution_count": 25,
   "id": "c834bf7d-5d84-4414-bc55-98e8d052d3d5",
   "metadata": {},
   "outputs": [
    {
     "data": {
      "text/plain": [
       "<Axes: title={'center': 'sex'}, ylabel='Proportion'>"
      ]
     },
     "execution_count": 25,
     "metadata": {},
     "output_type": "execute_result"
    },
    {
     "data": {
      "image/png": "[encoded data removed]",
      "text/plain": [
       "<Figure size 640x480 with 1 Axes>"
      ]
     },
     "metadata": {},
     "output_type": "display_data"
    }
   ],
   "source": [
    "\n",
    "\n",
    "scc_viz.stacked_barplot(data_all, feature_name=\"sex\")\n",
    "\n"
   ]
  },
  {
   "cell_type": "markdown",
   "id": "9d503f73-4a11-405d-907c-5d915044f946",
   "metadata": {},
   "source": [
    "## scCODA"
   ]
  },
  {
   "cell_type": "code",
   "execution_count": 26,
   "id": "bd84249e-ffb0-42d3-974a-963225be3b10",
   "metadata": {},
   "outputs": [],
   "source": [
    "def run_sccoda(sccoda_data, reference_cell_type, n):\n",
    "    sccoda_mod = scc_ana.CompositionalAnalysis(\n",
    "        sccoda_data,\n",
    "        formula=f\"sex + tumor_stage + dataset\",\n",
    "        reference_cell_type=reference_cell_type,\n",
    "    )\n",
    "    sccoda_res = sccoda_mod.sample_hmc(num_results=n)\n",
    "    return sccoda_res\n",
    "\n"
   ]
  },
  {
   "cell_type": "code",
   "execution_count": 31,
   "id": "cf8f3b88-ed5f-4b2c-a12d-9f55a2e96864",
   "metadata": {},
   "outputs": [],
   "source": [
    "reference_cell_type =\"Tumor cells\"\n",
    "mcmc_iterations =  200000"
   ]
  },
  {
   "cell_type": "code",
   "execution_count": null,
   "id": "0fe38cad-3161-4170-8fcb-e6bc41a71ca1",
   "metadata": {},
   "outputs": [
    {
     "name": "stdout",
     "output_type": "stream",
     "text": [
      "Zero counts encountered in data! Added a pseudocount of 0.5.\n"
     ]
    },
    {
     "name": "stderr",
     "output_type": "stream",
     "text": [
      "  0%|          | 0/200000 [00:00<?, ?it/s]2024-11-27 16:35:39.758601: I tensorflow/compiler/mlir/tensorflow/utils/dump_mlir_util.cc:268] disabling MLIR crash reproducer, set env var `MLIR_CRASH_REPRODUCER_DIRECTORY` to enable.\n",
      " 12%|█▏        | 23195/200000 [06:04<46:52, 62.87it/s] "
     ]
    }
   ],
   "source": [
    "res_tumor_ref2 = run_sccoda(data_all, reference_cell_type, mcmc_iterations)"
   ]
  },
  {
   "cell_type": "code",
   "execution_count": null,
   "id": "8bb13923-ceb4-4fc9-85a4-5d1cf8a13dea",
   "metadata": {},
   "outputs": [],
   "source": [
    "res_tumor_ref2.set_fdr(0.1)"
   ]
  },
  {
   "cell_type": "code",
   "execution_count": null,
   "id": "058c522d-c3d3-4921-8bcf-c8c5a6e939af",
   "metadata": {},
   "outputs": [],
   "source": [
    "res_tumor_ref2.to_csv(\"res_tumor_ref2.csv\")"
   ]
  },
  {
   "cell_type": "code",
   "execution_count": null,
   "id": "7ee8ad92-60d9-4d61-83cc-8a8926fa3b67",
   "metadata": {},
   "outputs": [],
   "source": [
    "credible_effects_condition = res_tumor_ref2.credible_effects()[\"condition[T.LUAD]\"]\n",
    "credible_effects_stage = res_tumor_ref2.credible_effects()[\"tumor_stage[T.advanced]\"]\n",
    "\n"
   ]
  },
  {
   "cell_type": "code",
   "execution_count": null,
   "id": "9c0ec337-0896-4af7-8f75-729efbd87815",
   "metadata": {},
   "outputs": [],
   "source": [
    "alt.Chart(\n",
    "        res_tumor_ref2.effect_df.loc[\"condition[T.LUAD]\"]\n",
    "        .loc[credible_effects_condition]\n",
    "        .reset_index(),\n",
    "        title=\"condition\",\n",
    "    )\n",
    "    .mark_bar()\n",
    "    .encode(\n",
    "        x=alt.X(\"Cell Type\", sort=\"y\"),\n",
    "        y=\"log2-fold change\",\n",
    "        color=alt.Color(\"Cell Type\"),\n",
    "    )"
   ]
  }
 ],
 "metadata": {
  "kernelspec": {
   "display_name": "test_sccoda",
   "language": "python",
   "name": "test_sccoda"
  },
  "language_info": {
   "codemirror_mode": {
    "name": "ipython",
    "version": 3
   },
   "file_extension": ".py",
   "mimetype": "text/x-python",
   "name": "python",
   "nbconvert_exporter": "python",
   "pygments_lexer": "ipython3",
   "version": "3.12.4"
  }
 },
 "nbformat": 4,
 "nbformat_minor": 5
}
