{
 "cells": [
  {
   "cell_type": "markdown",
   "id": "2980161a-241b-4753-b740-5ff860884011",
   "metadata": {},
   "source": [
    "# 1.NSCLC Sex-stratified SC Analysis\n",
    "\n",
    "## Data selection, pseudobulk, create input for DESEQ2"
   ]
  },
  {
   "cell_type": "code",
   "execution_count": 1,
   "id": "edbb3fde-d351-4387-896d-e931307eeb53",
   "metadata": {},
   "outputs": [],
   "source": [
    "import warnings\n",
    "import numpy as np\n",
    "import pandas as pd \n",
    "import scanpy as sc\n",
    "#import tensorflow as tf\n",
    "import matplotlib.pyplot as plt\n",
    "import matplotlib\n",
    "import seaborn as sns\n",
    "#import altair as alt\n",
    "#import pertpy as pt\n",
    "#from pandas.api.types import is_categorical_dtype\n",
    "#from pandas import CategoricalDtype"
   ]
  },
  {
   "cell_type": "code",
   "execution_count": 2,
   "id": "3bf34676-ba05-4fdc-a50b-9a6c94b38b35",
   "metadata": {},
   "outputs": [],
   "source": [
    "import decoupler as dc"
   ]
  },
  {
   "cell_type": "code",
   "execution_count": 109,
   "id": "1c904e17-c8c9-4363-ae2e-1c9d15222e65",
   "metadata": {},
   "outputs": [],
   "source": [
    "#Set result directory for figures\n",
    "resDir = \"/data/projects/2023/LCBiome/nsclc_gender_atlas_tmp/out/011_analysis_paired_remove_xy/figures/\"\n",
    "sc.settings.figdir = resDir"
   ]
  },
  {
   "cell_type": "code",
   "execution_count": 3,
   "id": "0553f14a-fcfa-4596-81de-867668eed4b2",
   "metadata": {},
   "outputs": [
    {
     "data": {
      "text/plain": [
       "'1.5.0'"
      ]
     },
     "execution_count": 3,
     "metadata": {},
     "output_type": "execute_result"
    }
   ],
   "source": [
    "dc.__version__"
   ]
  },
  {
   "cell_type": "code",
   "execution_count": 4,
   "id": "db4b1cb3-3364-42fb-bac7-6cd852036110",
   "metadata": {},
   "outputs": [],
   "source": [
    "path = \"/data/projects/2023/LCBiome/nsclc_gender_atlas_tmp\"\n",
    "input_path    = f\"{path}/data/local.h5ad\""
   ]
  },
  {
   "cell_type": "code",
   "execution_count": 5,
   "id": "fe038019-17ef-4972-a4d0-f129a520e6f3",
   "metadata": {},
   "outputs": [],
   "source": [
    "adata = sc.read_h5ad(input_path) "
   ]
  },
  {
   "cell_type": "code",
   "execution_count": 6,
   "id": "e8569bac-e7f3-453b-87c0-b45ba899c681",
   "metadata": {},
   "outputs": [
    {
     "data": {
      "text/plain": [
       "dataset\n",
       "Kim_Lee_2020                                        175526\n",
       "Adams_Kaminski_2020                                 131092\n",
       "Leader_Merad_2021_10x_3p_v2_beads                   121265\n",
       "UKIM-V-2                                            102115\n",
       "Chen_Zhang_2020                                      93035\n",
       "He_Fan_2021                                          88876\n",
       "Leader_Merad_2021_10x_3p_v2_digest-deadcell_cite     68436\n",
       "Leader_Merad_2021_10x_3p_v2_beads_cite               62468\n",
       "Wu_Zhou_2021                                         58981\n",
       "Madissoon_Meyer_2020                                 46116\n",
       "Lambrechts_Thienpont_2018_6149v2                     40141\n",
       "Habermann_Kropski_2020                               36727\n",
       "Goveia_Carmeliet_2020                                36368\n",
       "Reyfman_Misharin_2018                                34535\n",
       "Laughney_Massague_2020                               26403\n",
       "Zilionis_Klein_2019                                  25652\n",
       "Lambrechts_Thienpont_2018_6653                       22617\n",
       "UKIM-V                                               20787\n",
       "Maynard_Bivona_2020                                  18715\n",
       "Leader_Merad_2021_10x_5p_v1_CD2                      14894\n",
       "Leader_Merad_2021_10x_3p_v3_beads                     9646\n",
       "Travaglini_Krasnow_2020                               8272\n",
       "Leader_Merad_2021_10x_3p_v2_sort                      7922\n",
       "Mayr_Schiller_2020                                    7333\n",
       "Guo_Zhang_2018                                        7329\n",
       "Leader_Merad_2021_10x_5p_v1_beads                     6015\n",
       "Leader_Merad_2021_10x_3p_v1_sort                      5100\n",
       "Vieira_Teichmann_2019                                 4068\n",
       "Lambrechts_Thienpont_2018_6149v1                      3538\n",
       "Name: count, dtype: int64"
      ]
     },
     "execution_count": 6,
     "metadata": {},
     "output_type": "execute_result"
    }
   ],
   "source": [
    "adata.obs.dataset.value_counts()"
   ]
  },
  {
   "cell_type": "code",
   "execution_count": 7,
   "id": "c616805f-5e9f-4f41-a226-2cd00b9f6a98",
   "metadata": {},
   "outputs": [],
   "source": [
    "nsclc_chrom = pd.read_csv(f\"{path}/out/007_re_analysis/tables/input/adata_var_nsclc_chrom.csv\")"
   ]
  },
  {
   "cell_type": "code",
   "execution_count": 8,
   "id": "f67e5c74-70e9-461c-9690-22c5583260b4",
   "metadata": {},
   "outputs": [
    {
     "data": {
      "text/plain": [
       "AnnData object with n_obs × n_vars = 1283972 × 17811\n",
       "    obs: 'sample', 'uicc_stage', 'ever_smoker', 'age', 'donor_id', 'origin', 'dataset', 'ann_fine', 'cell_type_predicted', 'doublet_status', 'leiden', 'n_genes_by_counts', 'total_counts', 'total_counts_mito', 'pct_counts_mito', 'ann_coarse', 'cell_type_tumor', 'tumor_stage', 'EGFR_mutation', 'TP53_mutation', 'ALK_mutation', 'BRAF_mutation', 'ERBB2_mutation', 'KRAS_mutation', 'ROS_mutation', 'origin_fine', 'study', 'platform', 'cell_type_major', 'cell_type_neutro', 'cell_type_neutro_coarse', 'suspension_type', 'assay_ontology_term_id', 'cell_type_ontology_term_id', 'development_stage_ontology_term_id', 'disease_ontology_term_id', 'self_reported_ethnicity_ontology_term_id', 'is_primary_data', 'organism_ontology_term_id', 'sex_ontology_term_id', 'tissue_ontology_term_id', 'cell_type', 'assay', 'disease', 'organism', 'sex', 'tissue', 'self_reported_ethnicity', 'development_stage'\n",
       "    var: 'is_highly_variable', 'mito', 'n_cells_by_counts', 'mean_counts', 'pct_dropout_by_counts', 'total_counts', 'feature_is_filtered', 'feature_name', 'feature_reference', 'feature_biotype'\n",
       "    uns: '_scvi', 'ann_fine_colors', 'batch_condition', 'cell_type_major_colors', 'cell_type_tumor_colors', 'dataset_colors', 'default_embedding', 'hvg', 'neighbors', 'origin_colors', 'platform_colors', 'schema_version', 'title', 'umap'\n",
       "    obsm: 'X_scANVI', 'X_scVI', 'X_umap'\n",
       "    layers: 'count', 'counts_length_scaled'\n",
       "    obsp: 'connectivities', 'distances'"
      ]
     },
     "execution_count": 8,
     "metadata": {},
     "output_type": "execute_result"
    }
   ],
   "source": [
    "adata"
   ]
  },
  {
   "cell_type": "code",
   "execution_count": 9,
   "id": "df4e83e5-e1fa-4934-8750-1789b5576770",
   "metadata": {},
   "outputs": [
    {
     "data": {
      "text/plain": [
       "disease\n",
       "lung adenocarcinoma                      704834\n",
       "normal                                   212889\n",
       "squamous cell lung carcinoma             190199\n",
       "non-small cell lung carcinoma            120796\n",
       "chronic obstructive pulmonary disease     55254\n",
       "Name: count, dtype: int64"
      ]
     },
     "execution_count": 9,
     "metadata": {},
     "output_type": "execute_result"
    }
   ],
   "source": [
    "adata.obs.disease.value_counts()"
   ]
  },
  {
   "cell_type": "code",
   "execution_count": 10,
   "id": "4affacbc-337a-4c72-b6b0-aa596a1f7db2",
   "metadata": {},
   "outputs": [
    {
     "data": {
      "text/plain": [
       "tumor_stage\n",
       "early         725412\n",
       "advanced      288981\n",
       "non-cancer    268143\n",
       "Name: count, dtype: int64"
      ]
     },
     "execution_count": 10,
     "metadata": {},
     "output_type": "execute_result"
    }
   ],
   "source": [
    "adata.obs.tumor_stage.value_counts()"
   ]
  },
  {
   "cell_type": "code",
   "execution_count": 11,
   "id": "ccd89aad-1a50-4acc-9d9e-8697c84951e0",
   "metadata": {},
   "outputs": [
    {
     "data": {
      "text/plain": [
       "sex\n",
       "male       676587\n",
       "female     571042\n",
       "unknown     36343\n",
       "Name: count, dtype: int64"
      ]
     },
     "execution_count": 11,
     "metadata": {},
     "output_type": "execute_result"
    }
   ],
   "source": [
    "adata.obs.sex.value_counts()"
   ]
  },
  {
   "cell_type": "code",
   "execution_count": 12,
   "id": "4670efbd-e593-4dcc-9e54-8bf3d24f80b5",
   "metadata": {},
   "outputs": [
    {
     "data": {
      "text/plain": [
       "origin\n",
       "tumor_primary       585138\n",
       "normal_adjacent     345211\n",
       "normal              281363\n",
       "tumor_metastasis     71272\n",
       "nan                    988\n",
       "Name: count, dtype: int64"
      ]
     },
     "execution_count": 12,
     "metadata": {},
     "output_type": "execute_result"
    }
   ],
   "source": [
    "adata.obs.origin.value_counts()"
   ]
  },
  {
   "cell_type": "code",
   "execution_count": 13,
   "id": "f706c712-cd89-491a-b399-60d355101111",
   "metadata": {},
   "outputs": [
    {
     "data": {
      "text/plain": [
       "dataset\n",
       "Kim_Lee_2020                                        175526\n",
       "Adams_Kaminski_2020                                 131092\n",
       "Leader_Merad_2021_10x_3p_v2_beads                   121265\n",
       "UKIM-V-2                                            102115\n",
       "Chen_Zhang_2020                                      93035\n",
       "He_Fan_2021                                          88876\n",
       "Leader_Merad_2021_10x_3p_v2_digest-deadcell_cite     68436\n",
       "Leader_Merad_2021_10x_3p_v2_beads_cite               62468\n",
       "Wu_Zhou_2021                                         58981\n",
       "Madissoon_Meyer_2020                                 46116\n",
       "Lambrechts_Thienpont_2018_6149v2                     40141\n",
       "Habermann_Kropski_2020                               36727\n",
       "Goveia_Carmeliet_2020                                36368\n",
       "Reyfman_Misharin_2018                                34535\n",
       "Laughney_Massague_2020                               26403\n",
       "Zilionis_Klein_2019                                  25652\n",
       "Lambrechts_Thienpont_2018_6653                       22617\n",
       "UKIM-V                                               20787\n",
       "Maynard_Bivona_2020                                  18715\n",
       "Leader_Merad_2021_10x_5p_v1_CD2                      14894\n",
       "Leader_Merad_2021_10x_3p_v3_beads                     9646\n",
       "Travaglini_Krasnow_2020                               8272\n",
       "Leader_Merad_2021_10x_3p_v2_sort                      7922\n",
       "Mayr_Schiller_2020                                    7333\n",
       "Guo_Zhang_2018                                        7329\n",
       "Leader_Merad_2021_10x_5p_v1_beads                     6015\n",
       "Leader_Merad_2021_10x_3p_v1_sort                      5100\n",
       "Vieira_Teichmann_2019                                 4068\n",
       "Lambrechts_Thienpont_2018_6149v1                      3538\n",
       "Name: count, dtype: int64"
      ]
     },
     "execution_count": 13,
     "metadata": {},
     "output_type": "execute_result"
    }
   ],
   "source": [
    "adata.obs.dataset.value_counts()"
   ]
  },
  {
   "cell_type": "markdown",
   "id": "9564a63b-313e-453f-8d2f-a4d7f39c153c",
   "metadata": {},
   "source": [
    "### 01.SELECT ONLY male, female & tumor, normal_adjacent"
   ]
  },
  {
   "cell_type": "code",
   "execution_count": 14,
   "id": "55bfff78-b5cc-4a82-a637-68b9e1978619",
   "metadata": {},
   "outputs": [],
   "source": [
    "adata = adata[(adata.obs[\"disease\"] != \"normal\") & (adata.obs[\"disease\"] != \"chronic obstructive pulmonary disease\")] #exclude normal and COPD samples"
   ]
  },
  {
   "cell_type": "code",
   "execution_count": 15,
   "id": "98d67302-7459-4493-9d37-9db67c8c8d0d",
   "metadata": {},
   "outputs": [],
   "source": [
    "adata = adata[adata.obs[\"tumor_stage\"].notna()] #exclude samples without tumor stage"
   ]
  },
  {
   "cell_type": "code",
   "execution_count": 16,
   "id": "1c8b08b4-3f4e-419f-a329-e7c936c2c5c5",
   "metadata": {},
   "outputs": [],
   "source": [
    "adata = adata[(adata.obs[\"sex\"]==\"male\")| (adata.obs[\"sex\"]==\"female\")]"
   ]
  },
  {
   "cell_type": "code",
   "execution_count": 17,
   "id": "267fc46a-7815-432c-b6b4-3e9495b5111b",
   "metadata": {},
   "outputs": [],
   "source": [
    "adata = adata[(adata.obs[\"origin\"]==\"tumor_primary\")| (adata.obs[\"origin\"]==\"normal_adjacent\")]"
   ]
  },
  {
   "cell_type": "code",
   "execution_count": 18,
   "id": "280fd4b4-8197-4fc8-98ce-59b8c30de245",
   "metadata": {},
   "outputs": [
    {
     "data": {
      "text/plain": [
       "disease\n",
       "lung adenocarcinoma              577317\n",
       "squamous cell lung carcinoma     189044\n",
       "non-small cell lung carcinoma    120796\n",
       "Name: count, dtype: int64"
      ]
     },
     "execution_count": 18,
     "metadata": {},
     "output_type": "execute_result"
    }
   ],
   "source": [
    "adata.obs.disease.value_counts()"
   ]
  },
  {
   "cell_type": "code",
   "execution_count": 19,
   "id": "64456b10-beb9-4239-b8e2-97c7cd19f530",
   "metadata": {},
   "outputs": [
    {
     "data": {
      "text/plain": [
       "tumor_stage\n",
       "early       672760\n",
       "advanced    214397\n",
       "Name: count, dtype: int64"
      ]
     },
     "execution_count": 19,
     "metadata": {},
     "output_type": "execute_result"
    }
   ],
   "source": [
    "adata.obs.tumor_stage.value_counts()"
   ]
  },
  {
   "cell_type": "code",
   "execution_count": 20,
   "id": "c7b8edc1-ede1-44ab-bca6-e9c759a07a3d",
   "metadata": {},
   "outputs": [
    {
     "data": {
      "text/plain": [
       "sex\n",
       "male      500302\n",
       "female    386855\n",
       "Name: count, dtype: int64"
      ]
     },
     "execution_count": 20,
     "metadata": {},
     "output_type": "execute_result"
    }
   ],
   "source": [
    "adata.obs.sex.value_counts()"
   ]
  },
  {
   "cell_type": "code",
   "execution_count": 21,
   "id": "9db59ca2-e354-4790-ba10-d74fd7036dd0",
   "metadata": {},
   "outputs": [
    {
     "data": {
      "text/plain": [
       "origin\n",
       "tumor_primary      571045\n",
       "normal_adjacent    316112\n",
       "Name: count, dtype: int64"
      ]
     },
     "execution_count": 21,
     "metadata": {},
     "output_type": "execute_result"
    }
   ],
   "source": [
    "adata.obs.origin.value_counts()"
   ]
  },
  {
   "cell_type": "code",
   "execution_count": 22,
   "id": "492ebc27-b0f9-4b4f-b9fc-759d3658a0ec",
   "metadata": {},
   "outputs": [
    {
     "data": {
      "text/plain": [
       "dataset\n",
       "Leader_Merad_2021_10x_3p_v2_beads                   119829\n",
       "UKIM-V-2                                            102115\n",
       "Chen_Zhang_2020                                      93035\n",
       "He_Fan_2021                                          88876\n",
       "Kim_Lee_2020                                         86310\n",
       "Leader_Merad_2021_10x_3p_v2_digest-deadcell_cite     68436\n",
       "Leader_Merad_2021_10x_3p_v2_beads_cite               62468\n",
       "Wu_Zhou_2021                                         58981\n",
       "Lambrechts_Thienpont_2018_6149v2                     40141\n",
       "Goveia_Carmeliet_2020                                36368\n",
       "Zilionis_Klein_2019                                  25652\n",
       "Lambrechts_Thienpont_2018_6653                       22617\n",
       "UKIM-V                                               20787\n",
       "Leader_Merad_2021_10x_5p_v1_CD2                      14894\n",
       "Leader_Merad_2021_10x_3p_v3_beads                     9646\n",
       "Leader_Merad_2021_10x_3p_v2_sort                      7922\n",
       "Guo_Zhang_2018                                        7329\n",
       "Maynard_Bivona_2020                                   7098\n",
       "Leader_Merad_2021_10x_5p_v1_beads                     6015\n",
       "Leader_Merad_2021_10x_3p_v1_sort                      5100\n",
       "Lambrechts_Thienpont_2018_6149v1                      3538\n",
       "Name: count, dtype: int64"
      ]
     },
     "execution_count": 22,
     "metadata": {},
     "output_type": "execute_result"
    }
   ],
   "source": [
    "adata.obs.dataset.value_counts()"
   ]
  },
  {
   "cell_type": "markdown",
   "id": "6bc95759-1287-4ef1-a17d-a856597ed1ed",
   "metadata": {},
   "source": [
    "### 02.CELL TPYE RE-CLASIFICATION "
   ]
  },
  {
   "cell_type": "code",
   "execution_count": 23,
   "id": "2d216c5a-6501-4bbf-8721-daeb571bba99",
   "metadata": {},
   "outputs": [
    {
     "data": {
      "text/plain": [
       "cell_type\n",
       "CD4-positive, alpha-beta T cell         152247\n",
       "CD8-positive, alpha-beta T cell         123252\n",
       "alveolar macrophage                      82844\n",
       "macrophage                               78660\n",
       "malignant cell                           75457\n",
       "natural killer cell                      50680\n",
       "B cell                                   44609\n",
       "classical monocyte                       43364\n",
       "regulatory T cell                        33603\n",
       "plasma cell                              31876\n",
       "epithelial cell of lung                  23013\n",
       "CD1c-positive myeloid dendritic cell     20734\n",
       "neutrophil                               18706\n",
       "type II pneumocyte                       16274\n",
       "vein endothelial cell                    15849\n",
       "mast cell                                14361\n",
       "capillary endothelial cell               10870\n",
       "multi-ciliated epithelial cell            6413\n",
       "non-classical monocyte                    6103\n",
       "myeloid cell                              5544\n",
       "fibroblast of lung                        5091\n",
       "bronchus fibroblast of lung               4907\n",
       "plasmacytoid dendritic cell               3800\n",
       "type I pneumocyte                         3739\n",
       "endothelial cell of lymphatic vessel      3466\n",
       "pulmonary artery endothelial cell         2258\n",
       "conventional dendritic cell               2097\n",
       "pericyte                                  2000\n",
       "smooth muscle cell                        1610\n",
       "club cell                                 1580\n",
       "dendritic cell                            1498\n",
       "mesothelial cell                           340\n",
       "stromal cell                               312\n",
       "Name: count, dtype: int64"
      ]
     },
     "execution_count": 23,
     "metadata": {},
     "output_type": "execute_result"
    }
   ],
   "source": [
    "adata.obs.cell_type.value_counts()"
   ]
  },
  {
   "cell_type": "code",
   "execution_count": 24,
   "id": "f798450d-b414-47b4-82f3-f49b1c3309fa",
   "metadata": {},
   "outputs": [
    {
     "data": {
      "text/plain": [
       "cell_type_major\n",
       "T cell CD4               149343\n",
       "T cell CD8               120586\n",
       "Macrophage alveolar       82844\n",
       "Macrophage                78660\n",
       "Tumor cells               75457\n",
       "NK cell                   50094\n",
       "Monocyte                  49467\n",
       "B cell                    44307\n",
       "T cell regulatory         33603\n",
       "Endothelial cell          32443\n",
       "Plasma cell               30292\n",
       "transitional club/AT2     22894\n",
       "cDC2                      20734\n",
       "Neutrophils               18706\n",
       "Alveolar cell type 2      16274\n",
       "Mast cell                 14361\n",
       "other                     14017\n",
       "Stromal                   13948\n",
       "Ciliated                   6413\n",
       "pDC                        3800\n",
       "Alveolar cell type 1       3739\n",
       "cDC1                       2097\n",
       "Club                       1580\n",
       "DC mature                  1498\n",
       "Name: count, dtype: int64"
      ]
     },
     "execution_count": 24,
     "metadata": {},
     "output_type": "execute_result"
    }
   ],
   "source": [
    "adata.obs.cell_type_major.value_counts()"
   ]
  },
  {
   "cell_type": "code",
   "execution_count": 25,
   "id": "7ccd41a0-c15a-4346-929c-b61825097693",
   "metadata": {
    "tags": []
   },
   "outputs": [],
   "source": [
    "cells_of_interest=['alveolar macrophage', 'neutrophil',\n",
    " 'macrophage','malignant cell',\n",
    " 'B cell',\n",
    "  'regulatory T cell',\n",
    "'CD4-positive, alpha-beta T cell',\n",
    " 'CD8-positive, alpha-beta T cell',\n",
    " 'neutrophils','epithelial cell of lung','multi-ciliated epithelial cell' ]\n",
    "subset_adata = adata[adata.obs[\"cell_type\"].isin(cells_of_interest)] \n"
   ]
  },
  {
   "cell_type": "code",
   "execution_count": 26,
   "id": "711af383-82d3-490e-9144-0eb14ea2972b",
   "metadata": {},
   "outputs": [
    {
     "data": {
      "text/plain": [
       "{'B cell',\n",
       " 'CD4-positive, alpha-beta T cell',\n",
       " 'CD8-positive, alpha-beta T cell',\n",
       " 'alveolar macrophage',\n",
       " 'epithelial cell of lung',\n",
       " 'macrophage',\n",
       " 'malignant cell',\n",
       " 'multi-ciliated epithelial cell',\n",
       " 'neutrophil',\n",
       " 'regulatory T cell'}"
      ]
     },
     "execution_count": 26,
     "metadata": {},
     "output_type": "execute_result"
    }
   ],
   "source": [
    "set(subset_adata.obs.cell_type)"
   ]
  },
  {
   "cell_type": "code",
   "execution_count": 27,
   "id": "bccdf1ec-8e7e-421a-8582-8b41f6eea271",
   "metadata": {},
   "outputs": [
    {
     "data": {
      "text/plain": [
       "{'B cell',\n",
       " 'Ciliated',\n",
       " 'Macrophage',\n",
       " 'Macrophage alveolar',\n",
       " 'Neutrophils',\n",
       " 'T cell CD4',\n",
       " 'T cell CD8',\n",
       " 'T cell regulatory',\n",
       " 'Tumor cells',\n",
       " 'other',\n",
       " 'transitional club/AT2'}"
      ]
     },
     "execution_count": 27,
     "metadata": {},
     "output_type": "execute_result"
    }
   ],
   "source": [
    "set(subset_adata.obs.cell_type_major)"
   ]
  },
  {
   "cell_type": "code",
   "execution_count": 28,
   "id": "2aa41398-d555-495b-a21c-569ef21d03fa",
   "metadata": {
    "scrolled": true
   },
   "outputs": [
    {
     "name": "stderr",
     "output_type": "stream",
     "text": [
      "/tmp/ipykernel_2915359/2170802957.py:1: FutureWarning: The behavior of Series.replace (and DataFrame.replace) with CategoricalDtype is deprecated. In a future version, replace will only be used for cases that preserve the categories. To change the categories, use ser.cat.rename_categories instead.\n",
      "  subset_adata.obs[\"cell_type\"]= subset_adata.obs[\"cell_type\"].replace(['epithelial cell of lung','multi-ciliated epithelial cell',], 'epithelial cell')\n",
      "/tmp/ipykernel_2915359/2170802957.py:1: ImplicitModificationWarning: Trying to modify attribute `.obs` of view, initializing view as actual.\n",
      "  subset_adata.obs[\"cell_type\"]= subset_adata.obs[\"cell_type\"].replace(['epithelial cell of lung','multi-ciliated epithelial cell',], 'epithelial cell')\n",
      "/tmp/ipykernel_2915359/2170802957.py:2: FutureWarning: The behavior of Series.replace (and DataFrame.replace) with CategoricalDtype is deprecated. In a future version, replace will only be used for cases that preserve the categories. To change the categories, use ser.cat.rename_categories instead.\n",
      "  subset_adata.obs[\"cell_type\"]= subset_adata.obs[\"cell_type\"].replace(['alveolar macrophage'], 'macrophage')\n",
      "/tmp/ipykernel_2915359/2170802957.py:3: FutureWarning: The behavior of Series.replace (and DataFrame.replace) with CategoricalDtype is deprecated. In a future version, replace will only be used for cases that preserve the categories. To change the categories, use ser.cat.rename_categories instead.\n",
      "  subset_adata.obs[\"cell_type\"]= subset_adata.obs[\"cell_type\"].replace(['CD4-positive, alpha-beta T cell'], 'CD4+ T cell')\n",
      "/tmp/ipykernel_2915359/2170802957.py:4: FutureWarning: The behavior of Series.replace (and DataFrame.replace) with CategoricalDtype is deprecated. In a future version, replace will only be used for cases that preserve the categories. To change the categories, use ser.cat.rename_categories instead.\n",
      "  subset_adata.obs[\"cell_type\"]= subset_adata.obs[\"cell_type\"].replace(['CD8-positive, alpha-beta T cell'], 'CD8+ T cell')\n"
     ]
    }
   ],
   "source": [
    "subset_adata.obs[\"cell_type\"]= subset_adata.obs[\"cell_type\"].replace(['epithelial cell of lung','multi-ciliated epithelial cell',], 'epithelial cell')\n",
    "subset_adata.obs[\"cell_type\"]= subset_adata.obs[\"cell_type\"].replace(['alveolar macrophage'], 'macrophage')\n",
    "subset_adata.obs[\"cell_type\"]= subset_adata.obs[\"cell_type\"].replace(['CD4-positive, alpha-beta T cell'], 'CD4+ T cell')\n",
    "subset_adata.obs[\"cell_type\"]= subset_adata.obs[\"cell_type\"].replace(['CD8-positive, alpha-beta T cell'], 'CD8+ T cell')"
   ]
  },
  {
   "cell_type": "code",
   "execution_count": 29,
   "id": "0f3722a6-f1bd-49d5-b48e-52f9f579cc5b",
   "metadata": {},
   "outputs": [
    {
     "data": {
      "text/plain": [
       "{'B cell',\n",
       " 'CD4+ T cell',\n",
       " 'CD8+ T cell',\n",
       " 'epithelial cell',\n",
       " 'macrophage',\n",
       " 'malignant cell',\n",
       " 'neutrophil',\n",
       " 'regulatory T cell'}"
      ]
     },
     "execution_count": 29,
     "metadata": {},
     "output_type": "execute_result"
    }
   ],
   "source": [
    "set(subset_adata.obs.cell_type)"
   ]
  },
  {
   "cell_type": "code",
   "execution_count": 30,
   "id": "b386f50d-964a-4d90-a95b-00413e5fc474",
   "metadata": {},
   "outputs": [
    {
     "data": {
      "text/plain": [
       "AnnData object with n_obs × n_vars = 638804 × 17811\n",
       "    obs: 'sample', 'uicc_stage', 'ever_smoker', 'age', 'donor_id', 'origin', 'dataset', 'ann_fine', 'cell_type_predicted', 'doublet_status', 'leiden', 'n_genes_by_counts', 'total_counts', 'total_counts_mito', 'pct_counts_mito', 'ann_coarse', 'cell_type_tumor', 'tumor_stage', 'EGFR_mutation', 'TP53_mutation', 'ALK_mutation', 'BRAF_mutation', 'ERBB2_mutation', 'KRAS_mutation', 'ROS_mutation', 'origin_fine', 'study', 'platform', 'cell_type_major', 'cell_type_neutro', 'cell_type_neutro_coarse', 'suspension_type', 'assay_ontology_term_id', 'cell_type_ontology_term_id', 'development_stage_ontology_term_id', 'disease_ontology_term_id', 'self_reported_ethnicity_ontology_term_id', 'is_primary_data', 'organism_ontology_term_id', 'sex_ontology_term_id', 'tissue_ontology_term_id', 'cell_type', 'assay', 'disease', 'organism', 'sex', 'tissue', 'self_reported_ethnicity', 'development_stage'\n",
       "    var: 'is_highly_variable', 'mito', 'n_cells_by_counts', 'mean_counts', 'pct_dropout_by_counts', 'total_counts', 'feature_is_filtered', 'feature_name', 'feature_reference', 'feature_biotype'\n",
       "    uns: '_scvi', 'ann_fine_colors', 'batch_condition', 'cell_type_major_colors', 'cell_type_tumor_colors', 'dataset_colors', 'default_embedding', 'hvg', 'neighbors', 'origin_colors', 'platform_colors', 'schema_version', 'title', 'umap'\n",
       "    obsm: 'X_scANVI', 'X_scVI', 'X_umap'\n",
       "    layers: 'count', 'counts_length_scaled'\n",
       "    obsp: 'connectivities', 'distances'"
      ]
     },
     "execution_count": 30,
     "metadata": {},
     "output_type": "execute_result"
    }
   ],
   "source": [
    "subset_adata"
   ]
  },
  {
   "cell_type": "code",
   "execution_count": 31,
   "id": "7f8bdd7d-4dd9-4f59-ae4d-51db6fa3abe4",
   "metadata": {},
   "outputs": [
    {
     "data": {
      "text/plain": [
       "disease\n",
       "lung adenocarcinoma              409606\n",
       "squamous cell lung carcinoma     134606\n",
       "non-small cell lung carcinoma     94592\n",
       "Name: count, dtype: int64"
      ]
     },
     "execution_count": 31,
     "metadata": {},
     "output_type": "execute_result"
    }
   ],
   "source": [
    "subset_adata.obs.disease.value_counts()"
   ]
  },
  {
   "cell_type": "code",
   "execution_count": 32,
   "id": "84bc0549-6412-43fd-8a49-9ad75b562cb4",
   "metadata": {},
   "outputs": [
    {
     "data": {
      "text/plain": [
       "dataset\n",
       "Leader_Merad_2021_10x_3p_v2_beads                   81690\n",
       "UKIM-V-2                                            78529\n",
       "Chen_Zhang_2020                                     72874\n",
       "He_Fan_2021                                         68546\n",
       "Kim_Lee_2020                                        58907\n",
       "Wu_Zhou_2021                                        46321\n",
       "Leader_Merad_2021_10x_3p_v2_digest-deadcell_cite    43966\n",
       "Leader_Merad_2021_10x_3p_v2_beads_cite              41045\n",
       "Lambrechts_Thienpont_2018_6149v2                    32373\n",
       "Zilionis_Klein_2019                                 19792\n",
       "Lambrechts_Thienpont_2018_6653                      16653\n",
       "UKIM-V                                              16262\n",
       "Goveia_Carmeliet_2020                               14630\n",
       "Leader_Merad_2021_10x_5p_v1_CD2                     13419\n",
       "Leader_Merad_2021_10x_3p_v3_beads                    7997\n",
       "Guo_Zhang_2018                                       7157\n",
       "Leader_Merad_2021_10x_3p_v2_sort                     4615\n",
       "Leader_Merad_2021_10x_3p_v1_sort                     4294\n",
       "Leader_Merad_2021_10x_5p_v1_beads                    3599\n",
       "Maynard_Bivona_2020                                  3537\n",
       "Lambrechts_Thienpont_2018_6149v1                     2598\n",
       "Name: count, dtype: int64"
      ]
     },
     "execution_count": 32,
     "metadata": {},
     "output_type": "execute_result"
    }
   ],
   "source": [
    "subset_adata.obs.dataset.value_counts()"
   ]
  },
  {
   "cell_type": "code",
   "execution_count": 33,
   "id": "04d651ac-6b6a-4d40-b6bb-2a0cbfb88bb0",
   "metadata": {},
   "outputs": [
    {
     "data": {
      "text/plain": [
       "dataset\n",
       "Leader_Merad_2021_10x_3p_v2_beads                   81690\n",
       "UKIM-V-2                                            78529\n",
       "Chen_Zhang_2020                                     72874\n",
       "He_Fan_2021                                         68546\n",
       "Kim_Lee_2020                                        58907\n",
       "Wu_Zhou_2021                                        46321\n",
       "Leader_Merad_2021_10x_3p_v2_digest-deadcell_cite    43966\n",
       "Leader_Merad_2021_10x_3p_v2_beads_cite              41045\n",
       "Lambrechts_Thienpont_2018_6149v2                    32373\n",
       "Zilionis_Klein_2019                                 19792\n",
       "Lambrechts_Thienpont_2018_6653                      16653\n",
       "UKIM-V                                              16262\n",
       "Goveia_Carmeliet_2020                               14630\n",
       "Leader_Merad_2021_10x_5p_v1_CD2                     13419\n",
       "Leader_Merad_2021_10x_3p_v3_beads                    7997\n",
       "Guo_Zhang_2018                                       7157\n",
       "Leader_Merad_2021_10x_3p_v2_sort                     4615\n",
       "Leader_Merad_2021_10x_3p_v1_sort                     4294\n",
       "Leader_Merad_2021_10x_5p_v1_beads                    3599\n",
       "Maynard_Bivona_2020                                  3537\n",
       "Lambrechts_Thienpont_2018_6149v1                     2598\n",
       "Name: count, dtype: int64"
      ]
     },
     "execution_count": 33,
     "metadata": {},
     "output_type": "execute_result"
    }
   ],
   "source": [
    "subset_adata.obs.dataset.value_counts()"
   ]
  },
  {
   "cell_type": "markdown",
   "id": "9b2458ac-4c1b-4fb9-a4ce-1998b05f1176",
   "metadata": {},
   "source": [
    "## PAIRED SAMPLES"
   ]
  },
  {
   "cell_type": "code",
   "execution_count": 34,
   "id": "fca81be2-f051-42e9-8282-8650178138f0",
   "metadata": {},
   "outputs": [
    {
     "name": "stderr",
     "output_type": "stream",
     "text": [
      "/tmp/ipykernel_2915359/1850072068.py:1: FutureWarning: The default of observed=False is deprecated and will be changed to True in a future version of pandas. Pass observed=False to retain current behavior or observed=True to adopt the future default and silence this warning.\n",
      "  df_grouped = subset_adata.obs.groupby([\"origin\",\"donor_id\"]).count()\n"
     ]
    }
   ],
   "source": [
    "df_grouped = subset_adata.obs.groupby([\"origin\",\"donor_id\"]).count()"
   ]
  },
  {
   "cell_type": "code",
   "execution_count": 35,
   "id": "a5cacfcf-9b14-48e3-a31a-b5b528376b71",
   "metadata": {},
   "outputs": [],
   "source": [
    "df_grouped.reset_index(inplace= True)"
   ]
  },
  {
   "cell_type": "code",
   "execution_count": 36,
   "id": "4056771c-7b1c-4a72-bd0b-72bf1ff753a8",
   "metadata": {},
   "outputs": [],
   "source": [
    "df_grouped_normal = df_grouped[df_grouped[\"origin\"]==\"normal_adjacent\"]"
   ]
  },
  {
   "cell_type": "code",
   "execution_count": 37,
   "id": "e5234d7c-f494-43e1-bd82-c0473e29a8fa",
   "metadata": {},
   "outputs": [],
   "source": [
    "df_grouped_normal = df_grouped_normal[df_grouped_normal['sample'] != 0]"
   ]
  },
  {
   "cell_type": "code",
   "execution_count": 38,
   "id": "82f3d9e2-78b6-4ca9-995d-2294359b5f5f",
   "metadata": {},
   "outputs": [],
   "source": [
    "df_grouped_tumor = df_grouped[df_grouped[\"origin\"]==\"tumor_primary\"]"
   ]
  },
  {
   "cell_type": "code",
   "execution_count": 39,
   "id": "b307afd1-9f29-4bbe-8398-c058a42332c4",
   "metadata": {},
   "outputs": [],
   "source": [
    "df_grouped_tumor = df_grouped_tumor[df_grouped_tumor['sample'] != 0]"
   ]
  },
  {
   "cell_type": "code",
   "execution_count": 51,
   "id": "77393040-17a6-4658-bb35-392d2823f22e",
   "metadata": {},
   "outputs": [
    {
     "data": {
      "text/html": [
       "<div>\n",
       "<style scoped>\n",
       "    .dataframe tbody tr th:only-of-type {\n",
       "        vertical-align: middle;\n",
       "    }\n",
       "\n",
       "    .dataframe tbody tr th {\n",
       "        vertical-align: top;\n",
       "    }\n",
       "\n",
       "    .dataframe thead th {\n",
       "        text-align: right;\n",
       "    }\n",
       "</style>\n",
       "<table border=\"1\" class=\"dataframe\">\n",
       "  <thead>\n",
       "    <tr style=\"text-align: right;\">\n",
       "      <th></th>\n",
       "      <th>origin</th>\n",
       "      <th>donor_id</th>\n",
       "      <th>sample</th>\n",
       "      <th>uicc_stage</th>\n",
       "      <th>ever_smoker</th>\n",
       "      <th>age</th>\n",
       "      <th>dataset</th>\n",
       "      <th>ann_fine</th>\n",
       "      <th>cell_type_predicted</th>\n",
       "      <th>doublet_status</th>\n",
       "      <th>...</th>\n",
       "      <th>sex_ontology_term_id</th>\n",
       "      <th>tissue_ontology_term_id</th>\n",
       "      <th>cell_type</th>\n",
       "      <th>assay</th>\n",
       "      <th>disease</th>\n",
       "      <th>organism</th>\n",
       "      <th>sex</th>\n",
       "      <th>tissue</th>\n",
       "      <th>self_reported_ethnicity</th>\n",
       "      <th>development_stage</th>\n",
       "    </tr>\n",
       "  </thead>\n",
       "  <tbody>\n",
       "    <tr>\n",
       "      <th>168</th>\n",
       "      <td>tumor_primary</td>\n",
       "      <td>Chen_Zhang_2020_NSCLC-1</td>\n",
       "      <td>1455</td>\n",
       "      <td>1455</td>\n",
       "      <td>0</td>\n",
       "      <td>0</td>\n",
       "      <td>1455</td>\n",
       "      <td>1455</td>\n",
       "      <td>1455</td>\n",
       "      <td>1455</td>\n",
       "      <td>...</td>\n",
       "      <td>1455</td>\n",
       "      <td>1455</td>\n",
       "      <td>1455</td>\n",
       "      <td>1455</td>\n",
       "      <td>1455</td>\n",
       "      <td>1455</td>\n",
       "      <td>1455</td>\n",
       "      <td>1455</td>\n",
       "      <td>1455</td>\n",
       "      <td>1455</td>\n",
       "    </tr>\n",
       "    <tr>\n",
       "      <th>169</th>\n",
       "      <td>tumor_primary</td>\n",
       "      <td>Chen_Zhang_2020_NSCLC-2</td>\n",
       "      <td>3230</td>\n",
       "      <td>3230</td>\n",
       "      <td>0</td>\n",
       "      <td>0</td>\n",
       "      <td>3230</td>\n",
       "      <td>3230</td>\n",
       "      <td>3230</td>\n",
       "      <td>3230</td>\n",
       "      <td>...</td>\n",
       "      <td>3230</td>\n",
       "      <td>3230</td>\n",
       "      <td>3230</td>\n",
       "      <td>3230</td>\n",
       "      <td>3230</td>\n",
       "      <td>3230</td>\n",
       "      <td>3230</td>\n",
       "      <td>3230</td>\n",
       "      <td>3230</td>\n",
       "      <td>3230</td>\n",
       "    </tr>\n",
       "    <tr>\n",
       "      <th>170</th>\n",
       "      <td>tumor_primary</td>\n",
       "      <td>Chen_Zhang_2020_NSCLC-3</td>\n",
       "      <td>6362</td>\n",
       "      <td>6362</td>\n",
       "      <td>0</td>\n",
       "      <td>0</td>\n",
       "      <td>6362</td>\n",
       "      <td>6362</td>\n",
       "      <td>6362</td>\n",
       "      <td>6362</td>\n",
       "      <td>...</td>\n",
       "      <td>6362</td>\n",
       "      <td>6362</td>\n",
       "      <td>6362</td>\n",
       "      <td>6362</td>\n",
       "      <td>6362</td>\n",
       "      <td>6362</td>\n",
       "      <td>6362</td>\n",
       "      <td>6362</td>\n",
       "      <td>6362</td>\n",
       "      <td>6362</td>\n",
       "    </tr>\n",
       "    <tr>\n",
       "      <th>171</th>\n",
       "      <td>tumor_primary</td>\n",
       "      <td>Chen_Zhang_2020_NSCLC-4</td>\n",
       "      <td>3531</td>\n",
       "      <td>3531</td>\n",
       "      <td>0</td>\n",
       "      <td>0</td>\n",
       "      <td>3531</td>\n",
       "      <td>3531</td>\n",
       "      <td>3531</td>\n",
       "      <td>3531</td>\n",
       "      <td>...</td>\n",
       "      <td>3531</td>\n",
       "      <td>3531</td>\n",
       "      <td>3531</td>\n",
       "      <td>3531</td>\n",
       "      <td>3531</td>\n",
       "      <td>3531</td>\n",
       "      <td>3531</td>\n",
       "      <td>3531</td>\n",
       "      <td>3531</td>\n",
       "      <td>3531</td>\n",
       "    </tr>\n",
       "    <tr>\n",
       "      <th>172</th>\n",
       "      <td>tumor_primary</td>\n",
       "      <td>Chen_Zhang_2020_NSCLC-5</td>\n",
       "      <td>7243</td>\n",
       "      <td>7243</td>\n",
       "      <td>0</td>\n",
       "      <td>0</td>\n",
       "      <td>7243</td>\n",
       "      <td>7243</td>\n",
       "      <td>7243</td>\n",
       "      <td>7243</td>\n",
       "      <td>...</td>\n",
       "      <td>7243</td>\n",
       "      <td>7243</td>\n",
       "      <td>7243</td>\n",
       "      <td>7243</td>\n",
       "      <td>7243</td>\n",
       "      <td>7243</td>\n",
       "      <td>7243</td>\n",
       "      <td>7243</td>\n",
       "      <td>7243</td>\n",
       "      <td>7243</td>\n",
       "    </tr>\n",
       "    <tr>\n",
       "      <th>...</th>\n",
       "      <td>...</td>\n",
       "      <td>...</td>\n",
       "      <td>...</td>\n",
       "      <td>...</td>\n",
       "      <td>...</td>\n",
       "      <td>...</td>\n",
       "      <td>...</td>\n",
       "      <td>...</td>\n",
       "      <td>...</td>\n",
       "      <td>...</td>\n",
       "      <td>...</td>\n",
       "      <td>...</td>\n",
       "      <td>...</td>\n",
       "      <td>...</td>\n",
       "      <td>...</td>\n",
       "      <td>...</td>\n",
       "      <td>...</td>\n",
       "      <td>...</td>\n",
       "      <td>...</td>\n",
       "      <td>...</td>\n",
       "      <td>...</td>\n",
       "    </tr>\n",
       "    <tr>\n",
       "      <th>331</th>\n",
       "      <td>tumor_primary</td>\n",
       "      <td>Zilionis_Klein_2019_patient_3</td>\n",
       "      <td>5285</td>\n",
       "      <td>5285</td>\n",
       "      <td>0</td>\n",
       "      <td>5285</td>\n",
       "      <td>5285</td>\n",
       "      <td>5285</td>\n",
       "      <td>5285</td>\n",
       "      <td>5285</td>\n",
       "      <td>...</td>\n",
       "      <td>5285</td>\n",
       "      <td>5285</td>\n",
       "      <td>5285</td>\n",
       "      <td>5285</td>\n",
       "      <td>5285</td>\n",
       "      <td>5285</td>\n",
       "      <td>5285</td>\n",
       "      <td>5285</td>\n",
       "      <td>5285</td>\n",
       "      <td>5285</td>\n",
       "    </tr>\n",
       "    <tr>\n",
       "      <th>332</th>\n",
       "      <td>tumor_primary</td>\n",
       "      <td>Zilionis_Klein_2019_patient_4</td>\n",
       "      <td>3073</td>\n",
       "      <td>3073</td>\n",
       "      <td>0</td>\n",
       "      <td>3073</td>\n",
       "      <td>3073</td>\n",
       "      <td>3073</td>\n",
       "      <td>3073</td>\n",
       "      <td>3073</td>\n",
       "      <td>...</td>\n",
       "      <td>3073</td>\n",
       "      <td>3073</td>\n",
       "      <td>3073</td>\n",
       "      <td>3073</td>\n",
       "      <td>3073</td>\n",
       "      <td>3073</td>\n",
       "      <td>3073</td>\n",
       "      <td>3073</td>\n",
       "      <td>3073</td>\n",
       "      <td>3073</td>\n",
       "    </tr>\n",
       "    <tr>\n",
       "      <th>333</th>\n",
       "      <td>tumor_primary</td>\n",
       "      <td>Zilionis_Klein_2019_patient_5</td>\n",
       "      <td>1895</td>\n",
       "      <td>1895</td>\n",
       "      <td>0</td>\n",
       "      <td>1895</td>\n",
       "      <td>1895</td>\n",
       "      <td>1895</td>\n",
       "      <td>1895</td>\n",
       "      <td>1895</td>\n",
       "      <td>...</td>\n",
       "      <td>1895</td>\n",
       "      <td>1895</td>\n",
       "      <td>1895</td>\n",
       "      <td>1895</td>\n",
       "      <td>1895</td>\n",
       "      <td>1895</td>\n",
       "      <td>1895</td>\n",
       "      <td>1895</td>\n",
       "      <td>1895</td>\n",
       "      <td>1895</td>\n",
       "    </tr>\n",
       "    <tr>\n",
       "      <th>334</th>\n",
       "      <td>tumor_primary</td>\n",
       "      <td>Zilionis_Klein_2019_patient_6</td>\n",
       "      <td>2912</td>\n",
       "      <td>2912</td>\n",
       "      <td>0</td>\n",
       "      <td>2912</td>\n",
       "      <td>2912</td>\n",
       "      <td>2912</td>\n",
       "      <td>2912</td>\n",
       "      <td>2912</td>\n",
       "      <td>...</td>\n",
       "      <td>2912</td>\n",
       "      <td>2912</td>\n",
       "      <td>2912</td>\n",
       "      <td>2912</td>\n",
       "      <td>2912</td>\n",
       "      <td>2912</td>\n",
       "      <td>2912</td>\n",
       "      <td>2912</td>\n",
       "      <td>2912</td>\n",
       "      <td>2912</td>\n",
       "    </tr>\n",
       "    <tr>\n",
       "      <th>335</th>\n",
       "      <td>tumor_primary</td>\n",
       "      <td>Zilionis_Klein_2019_patient_7</td>\n",
       "      <td>2551</td>\n",
       "      <td>2551</td>\n",
       "      <td>0</td>\n",
       "      <td>2551</td>\n",
       "      <td>2551</td>\n",
       "      <td>2551</td>\n",
       "      <td>2551</td>\n",
       "      <td>2551</td>\n",
       "      <td>...</td>\n",
       "      <td>2551</td>\n",
       "      <td>2551</td>\n",
       "      <td>2551</td>\n",
       "      <td>2551</td>\n",
       "      <td>2551</td>\n",
       "      <td>2551</td>\n",
       "      <td>2551</td>\n",
       "      <td>2551</td>\n",
       "      <td>2551</td>\n",
       "      <td>2551</td>\n",
       "    </tr>\n",
       "  </tbody>\n",
       "</table>\n",
       "<p>167 rows × 49 columns</p>\n",
       "</div>"
      ],
      "text/plain": [
       "            origin                       donor_id  sample  uicc_stage  \\\n",
       "168  tumor_primary        Chen_Zhang_2020_NSCLC-1    1455        1455   \n",
       "169  tumor_primary        Chen_Zhang_2020_NSCLC-2    3230        3230   \n",
       "170  tumor_primary        Chen_Zhang_2020_NSCLC-3    6362        6362   \n",
       "171  tumor_primary        Chen_Zhang_2020_NSCLC-4    3531        3531   \n",
       "172  tumor_primary        Chen_Zhang_2020_NSCLC-5    7243        7243   \n",
       "..             ...                            ...     ...         ...   \n",
       "331  tumor_primary  Zilionis_Klein_2019_patient_3    5285        5285   \n",
       "332  tumor_primary  Zilionis_Klein_2019_patient_4    3073        3073   \n",
       "333  tumor_primary  Zilionis_Klein_2019_patient_5    1895        1895   \n",
       "334  tumor_primary  Zilionis_Klein_2019_patient_6    2912        2912   \n",
       "335  tumor_primary  Zilionis_Klein_2019_patient_7    2551        2551   \n",
       "\n",
       "     ever_smoker   age  dataset  ann_fine  cell_type_predicted  \\\n",
       "168            0     0     1455      1455                 1455   \n",
       "169            0     0     3230      3230                 3230   \n",
       "170            0     0     6362      6362                 6362   \n",
       "171            0     0     3531      3531                 3531   \n",
       "172            0     0     7243      7243                 7243   \n",
       "..           ...   ...      ...       ...                  ...   \n",
       "331            0  5285     5285      5285                 5285   \n",
       "332            0  3073     3073      3073                 3073   \n",
       "333            0  1895     1895      1895                 1895   \n",
       "334            0  2912     2912      2912                 2912   \n",
       "335            0  2551     2551      2551                 2551   \n",
       "\n",
       "     doublet_status  ...  sex_ontology_term_id  tissue_ontology_term_id  \\\n",
       "168            1455  ...                  1455                     1455   \n",
       "169            3230  ...                  3230                     3230   \n",
       "170            6362  ...                  6362                     6362   \n",
       "171            3531  ...                  3531                     3531   \n",
       "172            7243  ...                  7243                     7243   \n",
       "..              ...  ...                   ...                      ...   \n",
       "331            5285  ...                  5285                     5285   \n",
       "332            3073  ...                  3073                     3073   \n",
       "333            1895  ...                  1895                     1895   \n",
       "334            2912  ...                  2912                     2912   \n",
       "335            2551  ...                  2551                     2551   \n",
       "\n",
       "     cell_type  assay  disease  organism   sex  tissue  \\\n",
       "168       1455   1455     1455      1455  1455    1455   \n",
       "169       3230   3230     3230      3230  3230    3230   \n",
       "170       6362   6362     6362      6362  6362    6362   \n",
       "171       3531   3531     3531      3531  3531    3531   \n",
       "172       7243   7243     7243      7243  7243    7243   \n",
       "..         ...    ...      ...       ...   ...     ...   \n",
       "331       5285   5285     5285      5285  5285    5285   \n",
       "332       3073   3073     3073      3073  3073    3073   \n",
       "333       1895   1895     1895      1895  1895    1895   \n",
       "334       2912   2912     2912      2912  2912    2912   \n",
       "335       2551   2551     2551      2551  2551    2551   \n",
       "\n",
       "     self_reported_ethnicity  development_stage  \n",
       "168                     1455               1455  \n",
       "169                     3230               3230  \n",
       "170                     6362               6362  \n",
       "171                     3531               3531  \n",
       "172                     7243               7243  \n",
       "..                       ...                ...  \n",
       "331                     5285               5285  \n",
       "332                     3073               3073  \n",
       "333                     1895               1895  \n",
       "334                     2912               2912  \n",
       "335                     2551               2551  \n",
       "\n",
       "[167 rows x 49 columns]"
      ]
     },
     "execution_count": 51,
     "metadata": {},
     "output_type": "execute_result"
    }
   ],
   "source": [
    "df_grouped_tumor"
   ]
  },
  {
   "cell_type": "code",
   "execution_count": 41,
   "id": "93269d15-2446-473c-ba00-1cbdcc49e602",
   "metadata": {},
   "outputs": [],
   "source": [
    "common_ids =list(set(df_grouped_normal.donor_id)& set(df_grouped_tumor.donor_id))"
   ]
  },
  {
   "cell_type": "code",
   "execution_count": 42,
   "id": "05ba2ac2-e212-489f-9c06-3b72206f250b",
   "metadata": {},
   "outputs": [
    {
     "data": {
      "text/plain": [
       "84"
      ]
     },
     "execution_count": 42,
     "metadata": {},
     "output_type": "execute_result"
    }
   ],
   "source": [
    "len(common_ids)"
   ]
  },
  {
   "cell_type": "code",
   "execution_count": 43,
   "id": "90d35dc7-5f87-4524-9867-384233ae1c0f",
   "metadata": {},
   "outputs": [],
   "source": [
    "paired_adata = subset_adata[subset_adata.obs['donor_id'].isin(common_ids)].copy()"
   ]
  },
  {
   "cell_type": "code",
   "execution_count": 59,
   "id": "15d6b572-926b-4638-a133-a91d6724d610",
   "metadata": {},
   "outputs": [
    {
     "data": {
      "text/plain": [
       "AnnData object with n_obs × n_vars = 465076 × 17811\n",
       "    obs: 'sample', 'uicc_stage', 'ever_smoker', 'age', 'donor_id', 'origin', 'dataset', 'ann_fine', 'cell_type_predicted', 'doublet_status', 'leiden', 'n_genes_by_counts', 'total_counts', 'total_counts_mito', 'pct_counts_mito', 'ann_coarse', 'cell_type_tumor', 'tumor_stage', 'EGFR_mutation', 'TP53_mutation', 'ALK_mutation', 'BRAF_mutation', 'ERBB2_mutation', 'KRAS_mutation', 'ROS_mutation', 'origin_fine', 'study', 'platform', 'cell_type_major', 'cell_type_neutro', 'cell_type_neutro_coarse', 'suspension_type', 'assay_ontology_term_id', 'cell_type_ontology_term_id', 'development_stage_ontology_term_id', 'disease_ontology_term_id', 'self_reported_ethnicity_ontology_term_id', 'is_primary_data', 'organism_ontology_term_id', 'sex_ontology_term_id', 'tissue_ontology_term_id', 'cell_type', 'assay', 'disease', 'organism', 'sex', 'tissue', 'self_reported_ethnicity', 'development_stage'\n",
       "    var: 'is_highly_variable', 'mito', 'n_cells_by_counts', 'mean_counts', 'pct_dropout_by_counts', 'total_counts', 'feature_is_filtered', 'feature_name', 'feature_reference', 'feature_biotype'\n",
       "    uns: '_scvi', 'ann_fine_colors', 'batch_condition', 'cell_type_major_colors', 'cell_type_tumor_colors', 'dataset_colors', 'default_embedding', 'hvg', 'neighbors', 'origin_colors', 'platform_colors', 'schema_version', 'title', 'umap'\n",
       "    obsm: 'X_scANVI', 'X_scVI', 'X_umap'\n",
       "    layers: 'count', 'counts_length_scaled'\n",
       "    obsp: 'connectivities', 'distances'"
      ]
     },
     "execution_count": 59,
     "metadata": {},
     "output_type": "execute_result"
    }
   ],
   "source": [
    "paired_adata"
   ]
  },
  {
   "cell_type": "code",
   "execution_count": 44,
   "id": "82963498-7117-4384-b72a-a75c163cc9e6",
   "metadata": {},
   "outputs": [
    {
     "name": "stderr",
     "output_type": "stream",
     "text": [
      "/tmp/ipykernel_2915359/2715583478.py:2: FutureWarning: The default of observed=False is deprecated and will be changed to True in a future version of pandas. Pass observed=False to retain current behavior or observed=True to adopt the future default and silence this warning.\n",
      "  origin_counts = df.groupby('origin')['donor_id'].nunique().reset_index()\n"
     ]
    }
   ],
   "source": [
    "df = paired_adata.obs#\n",
    "origin_counts = df.groupby('origin')['donor_id'].nunique().reset_index()\n",
    "origin_counts.columns = ['origin', 'count']"
   ]
  },
  {
   "cell_type": "code",
   "execution_count": 45,
   "id": "612e769a-ed48-47da-85e6-c841a7b04a48",
   "metadata": {},
   "outputs": [
    {
     "name": "stderr",
     "output_type": "stream",
     "text": [
      "/tmp/ipykernel_2915359/3457429988.py:2: FutureWarning: \n",
      "\n",
      "Passing `palette` without assigning `hue` is deprecated and will be removed in v0.14.0. Assign the `x` variable to `hue` and set `legend=False` for the same effect.\n",
      "\n",
      "  sns.barplot(data=origin_counts, x='origin', y='count', palette='viridis')\n"
     ]
    },
    {
     "data": {
      "image/png": "[encoded data removed]",
      "text/plain": [
       "<Figure size 1000x600 with 1 Axes>"
      ]
     },
     "metadata": {},
     "output_type": "display_data"
    }
   ],
   "source": [
    "plt.figure(figsize=(10, 6))\n",
    "sns.barplot(data=origin_counts, x='origin', y='count', palette='viridis')\n",
    "plt.xlabel('Origin')\n",
    "plt.ylabel('Number of Unique Donor IDs')\n",
    "plt.title('Number of Unique Donor IDs per Origin')\n",
    "plt.show()"
   ]
  },
  {
   "cell_type": "code",
   "execution_count": 46,
   "id": "cce32268-37b3-48a1-90ee-8957d7f1532c",
   "metadata": {},
   "outputs": [
    {
     "name": "stderr",
     "output_type": "stream",
     "text": [
      "/tmp/ipykernel_2915359/3679065484.py:2: FutureWarning: The default of observed=False is deprecated and will be changed to True in a future version of pandas. Pass observed=False to retain current behavior or observed=True to adopt the future default and silence this warning.\n",
      "  origin_counts = df.groupby('disease')['donor_id'].nunique().reset_index()\n"
     ]
    }
   ],
   "source": [
    "df = paired_adata.obs#\n",
    "origin_counts = df.groupby('disease')['donor_id'].nunique().reset_index()\n",
    "origin_counts.columns = ['disease', 'count']"
   ]
  },
  {
   "cell_type": "code",
   "execution_count": 47,
   "id": "54d31315-f827-4674-9cda-12a30996a5d7",
   "metadata": {},
   "outputs": [
    {
     "name": "stderr",
     "output_type": "stream",
     "text": [
      "/tmp/ipykernel_2915359/3057708053.py:2: FutureWarning: \n",
      "\n",
      "Passing `palette` without assigning `hue` is deprecated and will be removed in v0.14.0. Assign the `x` variable to `hue` and set `legend=False` for the same effect.\n",
      "\n",
      "  sns.barplot(data=origin_counts, x='disease', y='count', palette='viridis')\n"
     ]
    },
    {
     "data": {
      "image/png": "[encoded data removed]",
      "text/plain": [
       "<Figure size 1000x600 with 1 Axes>"
      ]
     },
     "metadata": {},
     "output_type": "display_data"
    }
   ],
   "source": [
    "plt.figure(figsize=(10, 6))\n",
    "sns.barplot(data=origin_counts, x='disease', y='count', palette='viridis')\n",
    "plt.xlabel('disease')\n",
    "plt.ylabel('Number of Unique Donor IDs')\n",
    "plt.title('Number of Unique Donor IDs per disease')\n",
    "plt.show()"
   ]
  },
  {
   "cell_type": "code",
   "execution_count": 60,
   "id": "5cc922dd-5476-4122-8b0a-6dced452666c",
   "metadata": {},
   "outputs": [
    {
     "data": {
      "text/plain": [
       "disease\n",
       "lung adenocarcinoma              349139\n",
       "squamous cell lung carcinoma      95103\n",
       "non-small cell lung carcinoma     20834\n",
       "Name: count, dtype: int64"
      ]
     },
     "execution_count": 60,
     "metadata": {},
     "output_type": "execute_result"
    }
   ],
   "source": [
    "paired_adata.obs.disease.value_counts()"
   ]
  },
  {
   "cell_type": "code",
   "execution_count": 61,
   "id": "54a2215b-2ab2-4ad1-b4ad-e5170cfa1d1b",
   "metadata": {},
   "outputs": [
    {
     "data": {
      "text/plain": [
       "tumor_stage\n",
       "early       407421\n",
       "advanced     57655\n",
       "Name: count, dtype: int64"
      ]
     },
     "execution_count": 61,
     "metadata": {},
     "output_type": "execute_result"
    }
   ],
   "source": [
    "paired_adata.obs.tumor_stage.value_counts()"
   ]
  },
  {
   "cell_type": "code",
   "execution_count": 62,
   "id": "8f74eb48-94cf-4112-9214-9b0f971c4084",
   "metadata": {},
   "outputs": [
    {
     "data": {
      "text/plain": [
       "sex\n",
       "female    233188\n",
       "male      231888\n",
       "Name: count, dtype: int64"
      ]
     },
     "execution_count": 62,
     "metadata": {},
     "output_type": "execute_result"
    }
   ],
   "source": [
    "paired_adata.obs.sex.value_counts()"
   ]
  },
  {
   "cell_type": "code",
   "execution_count": 63,
   "id": "469b9aab-b98d-4fb1-bbed-750f02bb8fcb",
   "metadata": {},
   "outputs": [
    {
     "data": {
      "text/plain": [
       "origin\n",
       "tumor_primary      260782\n",
       "normal_adjacent    204294\n",
       "Name: count, dtype: int64"
      ]
     },
     "execution_count": 63,
     "metadata": {},
     "output_type": "execute_result"
    }
   ],
   "source": [
    "paired_adata.obs.origin.value_counts()"
   ]
  },
  {
   "cell_type": "code",
   "execution_count": 64,
   "id": "36921e3d-0fd0-4b76-97cf-2a8a4eae7078",
   "metadata": {},
   "outputs": [
    {
     "data": {
      "text/plain": [
       "dataset\n",
       "UKIM-V-2                                            78529\n",
       "Leader_Merad_2021_10x_3p_v2_beads                   77020\n",
       "He_Fan_2021                                         68546\n",
       "Kim_Lee_2020                                        46967\n",
       "Leader_Merad_2021_10x_3p_v2_digest-deadcell_cite    43966\n",
       "Leader_Merad_2021_10x_3p_v2_beads_cite              41045\n",
       "Lambrechts_Thienpont_2018_6149v2                    32373\n",
       "Lambrechts_Thienpont_2018_6653                      16653\n",
       "UKIM-V                                              16262\n",
       "Goveia_Carmeliet_2020                               14605\n",
       "Leader_Merad_2021_10x_5p_v1_CD2                     13419\n",
       "Guo_Zhang_2018                                       5924\n",
       "Leader_Merad_2021_10x_3p_v2_sort                     4615\n",
       "Leader_Merad_2021_10x_5p_v1_beads                    3599\n",
       "Lambrechts_Thienpont_2018_6149v1                     1553\n",
       "Name: count, dtype: int64"
      ]
     },
     "execution_count": 64,
     "metadata": {},
     "output_type": "execute_result"
    }
   ],
   "source": [
    "paired_adata.obs.dataset.value_counts()"
   ]
  },
  {
   "cell_type": "code",
   "execution_count": 65,
   "id": "e53b66da-430f-4933-8f5b-03dee904c211",
   "metadata": {
    "scrolled": true
   },
   "outputs": [
    {
     "data": {
      "text/plain": [
       "AnnData object with n_obs × n_vars = 465076 × 17811\n",
       "    obs: 'sample', 'uicc_stage', 'ever_smoker', 'age', 'donor_id', 'origin', 'dataset', 'ann_fine', 'cell_type_predicted', 'doublet_status', 'leiden', 'n_genes_by_counts', 'total_counts', 'total_counts_mito', 'pct_counts_mito', 'ann_coarse', 'cell_type_tumor', 'tumor_stage', 'EGFR_mutation', 'TP53_mutation', 'ALK_mutation', 'BRAF_mutation', 'ERBB2_mutation', 'KRAS_mutation', 'ROS_mutation', 'origin_fine', 'study', 'platform', 'cell_type_major', 'cell_type_neutro', 'cell_type_neutro_coarse', 'suspension_type', 'assay_ontology_term_id', 'cell_type_ontology_term_id', 'development_stage_ontology_term_id', 'disease_ontology_term_id', 'self_reported_ethnicity_ontology_term_id', 'is_primary_data', 'organism_ontology_term_id', 'sex_ontology_term_id', 'tissue_ontology_term_id', 'cell_type', 'assay', 'disease', 'organism', 'sex', 'tissue', 'self_reported_ethnicity', 'development_stage'\n",
       "    var: 'is_highly_variable', 'mito', 'n_cells_by_counts', 'mean_counts', 'pct_dropout_by_counts', 'total_counts', 'feature_is_filtered', 'feature_name', 'feature_reference', 'feature_biotype'\n",
       "    uns: '_scvi', 'ann_fine_colors', 'batch_condition', 'cell_type_major_colors', 'cell_type_tumor_colors', 'dataset_colors', 'default_embedding', 'hvg', 'neighbors', 'origin_colors', 'platform_colors', 'schema_version', 'title', 'umap'\n",
       "    obsm: 'X_scANVI', 'X_scVI', 'X_umap'\n",
       "    layers: 'count', 'counts_length_scaled'\n",
       "    obsp: 'connectivities', 'distances'"
      ]
     },
     "execution_count": 65,
     "metadata": {},
     "output_type": "execute_result"
    }
   ],
   "source": [
    "paired_adata"
   ]
  },
  {
   "cell_type": "markdown",
   "id": "fd305e5d-8000-4f51-876e-b08b8e563675",
   "metadata": {},
   "source": [
    "## Create layer Log 1pnorm "
   ]
  },
  {
   "cell_type": "code",
   "execution_count": 112,
   "id": "5df5ad42-e7a9-4db6-bd5d-fa58683ea382",
   "metadata": {},
   "outputs": [],
   "source": [
    "paired_adata.layers[\"log1p_norm\"] = paired_adata.X.copy()\n",
    "sc.pp.normalize_total(paired_adata, target_sum=1e6, layer=\"log1p_norm\")\n",
    "sc.pp.log1p(paired_adata, base=6, layer=\"log1p_norm\")"
   ]
  },
  {
   "cell_type": "code",
   "execution_count": 113,
   "id": "075938b3-53f8-42b5-9843-6269dd9d329f",
   "metadata": {},
   "outputs": [
    {
     "data": {
      "text/plain": [
       "AnnData object with n_obs × n_vars = 465076 × 17811\n",
       "    obs: 'sample', 'uicc_stage', 'ever_smoker', 'age', 'donor_id', 'origin', 'dataset', 'ann_fine', 'cell_type_predicted', 'doublet_status', 'leiden', 'n_genes_by_counts', 'total_counts', 'total_counts_mito', 'pct_counts_mito', 'ann_coarse', 'cell_type_tumor', 'tumor_stage', 'EGFR_mutation', 'TP53_mutation', 'ALK_mutation', 'BRAF_mutation', 'ERBB2_mutation', 'KRAS_mutation', 'ROS_mutation', 'origin_fine', 'study', 'platform', 'cell_type_major', 'cell_type_neutro', 'cell_type_neutro_coarse', 'suspension_type', 'assay_ontology_term_id', 'cell_type_ontology_term_id', 'development_stage_ontology_term_id', 'disease_ontology_term_id', 'self_reported_ethnicity_ontology_term_id', 'is_primary_data', 'organism_ontology_term_id', 'sex_ontology_term_id', 'tissue_ontology_term_id', 'cell_type', 'assay', 'disease', 'organism', 'sex', 'tissue', 'self_reported_ethnicity', 'development_stage'\n",
       "    var: 'is_highly_variable', 'mito', 'n_cells_by_counts', 'mean_counts', 'pct_dropout_by_counts', 'total_counts', 'feature_is_filtered', 'feature_name', 'feature_reference', 'feature_biotype'\n",
       "    uns: '_scvi', 'ann_fine_colors', 'batch_condition', 'cell_type_major_colors', 'cell_type_tumor_colors', 'dataset_colors', 'default_embedding', 'hvg', 'neighbors', 'origin_colors', 'platform_colors', 'schema_version', 'title', 'umap', 'sex_colors', 'log1p'\n",
       "    obsm: 'X_scANVI', 'X_scVI', 'X_umap'\n",
       "    layers: 'count', 'counts_length_scaled', 'log1p_norm'\n",
       "    obsp: 'connectivities', 'distances'"
      ]
     },
     "execution_count": 113,
     "metadata": {},
     "output_type": "execute_result"
    }
   ],
   "source": [
    "paired_adata"
   ]
  },
  {
   "cell_type": "markdown",
   "id": "2d316a87-1798-4826-b819-3cd0a4af3fed",
   "metadata": {},
   "source": [
    "## Checking for XIST & RPS4Y1 in male and female"
   ]
  },
  {
   "cell_type": "code",
   "execution_count": 89,
   "id": "449f6291-e614-450d-8329-a1644b142b1f",
   "metadata": {},
   "outputs": [
    {
     "name": "stderr",
     "output_type": "stream",
     "text": [
      "/home/kvalem/.local/lib/python3.11/site-packages/anndata/_core/anndata.py:864: UserWarning: \n",
      "AnnData expects .var.index to contain strings, but got values like:\n",
      "    ['A1BG', 'A1BG-AS1', 'A2M', 'A2M-AS1', 'A2ML1']\n",
      "\n",
      "    Inferred to be: categorical\n",
      "\n",
      "  names = self._prep_dim_index(names, \"var\")\n"
     ]
    }
   ],
   "source": [
    "paired_adata.var_names = paired_adata.var.feature_name"
   ]
  },
  {
   "cell_type": "code",
   "execution_count": 114,
   "id": "5222be93-b1b2-4ead-9989-4b8329c79ed1",
   "metadata": {},
   "outputs": [
    {
     "name": "stderr",
     "output_type": "stream",
     "text": [
      "/home/kvalem/.conda/envs/crc_atlas/lib/python3.11/site-packages/scanpy/plotting/_anndata.py:840: FutureWarning: \n",
      "\n",
      "Passing `palette` without assigning `hue` is deprecated and will be removed in v0.14.0. Assign the `x` variable to `hue` and set `legend=False` for the same effect.\n",
      "\n",
      "  ax = sns.violinplot(\n",
      "/home/kvalem/.conda/envs/crc_atlas/lib/python3.11/site-packages/scanpy/plotting/_anndata.py:840: FutureWarning: \n",
      "\n",
      "The `scale` parameter has been renamed and will be removed in v0.15.0. Pass `density_norm='width'` for the same effect.\n",
      "  ax = sns.violinplot(\n",
      "/home/kvalem/.conda/envs/crc_atlas/lib/python3.11/site-packages/scanpy/plotting/_anndata.py:840: FutureWarning: \n",
      "\n",
      "Passing `palette` without assigning `hue` is deprecated and will be removed in v0.14.0. Assign the `x` variable to `hue` and set `legend=False` for the same effect.\n",
      "\n",
      "  ax = sns.violinplot(\n",
      "/home/kvalem/.conda/envs/crc_atlas/lib/python3.11/site-packages/scanpy/plotting/_anndata.py:840: FutureWarning: \n",
      "\n",
      "The `scale` parameter has been renamed and will be removed in v0.15.0. Pass `density_norm='width'` for the same effect.\n",
      "  ax = sns.violinplot(\n"
     ]
    },
    {
     "data": {
      "image/png": "[encoded data removed]",
      "text/plain": [
       "<Figure size 1609.2x480 with 2 Axes>"
      ]
     },
     "metadata": {},
     "output_type": "display_data"
    }
   ],
   "source": [
    "\n",
    "\n",
    "# Now, generate the plot and save it\n",
    "sc.pl.violin(paired_adata, [\"RPS4Y1\", \"XIST\"], use_raw=False, groupby=\"sex\", layer=\"log1p_norm\")#, save=\"_xy_check.png\")"
   ]
  },
  {
   "cell_type": "code",
   "execution_count": 124,
   "id": "c0d811c8-2e44-42a3-9609-71e3389a303a",
   "metadata": {},
   "outputs": [],
   "source": [
    "rps4y1_cells = paired_adata[:, paired_adata.var_names == \"RPS4Y1\"].X > 0\n",
    "\n",
    "# Subset the adata object to only those cells\n",
    "rps4y1_paired_adata_subset = paired_adata[rps4y1_cells, :]"
   ]
  },
  {
   "cell_type": "code",
   "execution_count": 125,
   "id": "6338bef9-73ad-436e-bc2c-274adc7ff41f",
   "metadata": {},
   "outputs": [
    {
     "data": {
      "text/plain": [
       "sex\n",
       "male      141044\n",
       "female      6909\n",
       "Name: count, dtype: int64"
      ]
     },
     "execution_count": 125,
     "metadata": {},
     "output_type": "execute_result"
    }
   ],
   "source": [
    "rps4y1_paired_adata_subset.obs.sex.value_counts()"
   ]
  },
  {
   "cell_type": "code",
   "execution_count": 128,
   "id": "91bab166-27c7-4ae8-816d-d2fc0888ea0b",
   "metadata": {},
   "outputs": [],
   "source": [
    "xist_cells = paired_adata[:, paired_adata.var_names == \"XIST\"].X > 0\n",
    "\n",
    "# Subset the adata object to only those cells\n",
    "xist_paired_adata_subset = paired_adata[xist_cells, :]"
   ]
  },
  {
   "cell_type": "code",
   "execution_count": 129,
   "id": "4d3b8fde-d605-4614-bad1-caa69458a980",
   "metadata": {},
   "outputs": [
    {
     "data": {
      "text/plain": [
       "sex\n",
       "female    105329\n",
       "male        5867\n",
       "Name: count, dtype: int64"
      ]
     },
     "execution_count": 129,
     "metadata": {},
     "output_type": "execute_result"
    }
   ],
   "source": [
    "xist_paired_adata_subset.obs.sex.value_counts()"
   ]
  },
  {
   "cell_type": "code",
   "execution_count": 134,
   "id": "f95e373c-a96c-4835-b630-4b7ba1ec44ea",
   "metadata": {},
   "outputs": [
    {
     "name": "stderr",
     "output_type": "stream",
     "text": [
      "/tmp/ipykernel_2915359/4152605809.py:1: FutureWarning: The default of observed=False is deprecated and will be changed to True in a future version of pandas. Pass observed=False to retain current behavior or observed=True to adopt the future default and silence this warning.\n",
      "  xist_paired_adata_subset.obs.groupby([\"sex\",\"donor_id\"]).count()\n"
     ]
    },
    {
     "data": {
      "text/html": [
       "<div>\n",
       "<style scoped>\n",
       "    .dataframe tbody tr th:only-of-type {\n",
       "        vertical-align: middle;\n",
       "    }\n",
       "\n",
       "    .dataframe tbody tr th {\n",
       "        vertical-align: top;\n",
       "    }\n",
       "\n",
       "    .dataframe thead th {\n",
       "        text-align: right;\n",
       "    }\n",
       "</style>\n",
       "<table border=\"1\" class=\"dataframe\">\n",
       "  <thead>\n",
       "    <tr style=\"text-align: right;\">\n",
       "      <th></th>\n",
       "      <th></th>\n",
       "      <th>sample</th>\n",
       "      <th>uicc_stage</th>\n",
       "      <th>ever_smoker</th>\n",
       "      <th>age</th>\n",
       "      <th>origin</th>\n",
       "      <th>dataset</th>\n",
       "      <th>ann_fine</th>\n",
       "      <th>cell_type_predicted</th>\n",
       "      <th>doublet_status</th>\n",
       "      <th>leiden</th>\n",
       "      <th>...</th>\n",
       "      <th>organism_ontology_term_id</th>\n",
       "      <th>sex_ontology_term_id</th>\n",
       "      <th>tissue_ontology_term_id</th>\n",
       "      <th>cell_type</th>\n",
       "      <th>assay</th>\n",
       "      <th>disease</th>\n",
       "      <th>organism</th>\n",
       "      <th>tissue</th>\n",
       "      <th>self_reported_ethnicity</th>\n",
       "      <th>development_stage</th>\n",
       "    </tr>\n",
       "    <tr>\n",
       "      <th>sex</th>\n",
       "      <th>donor_id</th>\n",
       "      <th></th>\n",
       "      <th></th>\n",
       "      <th></th>\n",
       "      <th></th>\n",
       "      <th></th>\n",
       "      <th></th>\n",
       "      <th></th>\n",
       "      <th></th>\n",
       "      <th></th>\n",
       "      <th></th>\n",
       "      <th></th>\n",
       "      <th></th>\n",
       "      <th></th>\n",
       "      <th></th>\n",
       "      <th></th>\n",
       "      <th></th>\n",
       "      <th></th>\n",
       "      <th></th>\n",
       "      <th></th>\n",
       "      <th></th>\n",
       "      <th></th>\n",
       "    </tr>\n",
       "  </thead>\n",
       "  <tbody>\n",
       "    <tr>\n",
       "      <th rowspan=\"5\" valign=\"top\">female</th>\n",
       "      <th>Goveia_Carmeliet_2020_patient_40</th>\n",
       "      <td>0</td>\n",
       "      <td>0</td>\n",
       "      <td>0</td>\n",
       "      <td>0</td>\n",
       "      <td>0</td>\n",
       "      <td>0</td>\n",
       "      <td>0</td>\n",
       "      <td>0</td>\n",
       "      <td>0</td>\n",
       "      <td>0</td>\n",
       "      <td>...</td>\n",
       "      <td>0</td>\n",
       "      <td>0</td>\n",
       "      <td>0</td>\n",
       "      <td>0</td>\n",
       "      <td>0</td>\n",
       "      <td>0</td>\n",
       "      <td>0</td>\n",
       "      <td>0</td>\n",
       "      <td>0</td>\n",
       "      <td>0</td>\n",
       "    </tr>\n",
       "    <tr>\n",
       "      <th>Goveia_Carmeliet_2020_patient_41</th>\n",
       "      <td>0</td>\n",
       "      <td>0</td>\n",
       "      <td>0</td>\n",
       "      <td>0</td>\n",
       "      <td>0</td>\n",
       "      <td>0</td>\n",
       "      <td>0</td>\n",
       "      <td>0</td>\n",
       "      <td>0</td>\n",
       "      <td>0</td>\n",
       "      <td>...</td>\n",
       "      <td>0</td>\n",
       "      <td>0</td>\n",
       "      <td>0</td>\n",
       "      <td>0</td>\n",
       "      <td>0</td>\n",
       "      <td>0</td>\n",
       "      <td>0</td>\n",
       "      <td>0</td>\n",
       "      <td>0</td>\n",
       "      <td>0</td>\n",
       "    </tr>\n",
       "    <tr>\n",
       "      <th>Goveia_Carmeliet_2020_patient_42</th>\n",
       "      <td>0</td>\n",
       "      <td>0</td>\n",
       "      <td>0</td>\n",
       "      <td>0</td>\n",
       "      <td>0</td>\n",
       "      <td>0</td>\n",
       "      <td>0</td>\n",
       "      <td>0</td>\n",
       "      <td>0</td>\n",
       "      <td>0</td>\n",
       "      <td>...</td>\n",
       "      <td>0</td>\n",
       "      <td>0</td>\n",
       "      <td>0</td>\n",
       "      <td>0</td>\n",
       "      <td>0</td>\n",
       "      <td>0</td>\n",
       "      <td>0</td>\n",
       "      <td>0</td>\n",
       "      <td>0</td>\n",
       "      <td>0</td>\n",
       "    </tr>\n",
       "    <tr>\n",
       "      <th>Goveia_Carmeliet_2020_patient_45</th>\n",
       "      <td>601</td>\n",
       "      <td>601</td>\n",
       "      <td>601</td>\n",
       "      <td>601</td>\n",
       "      <td>601</td>\n",
       "      <td>601</td>\n",
       "      <td>601</td>\n",
       "      <td>601</td>\n",
       "      <td>601</td>\n",
       "      <td>601</td>\n",
       "      <td>...</td>\n",
       "      <td>601</td>\n",
       "      <td>601</td>\n",
       "      <td>601</td>\n",
       "      <td>601</td>\n",
       "      <td>601</td>\n",
       "      <td>601</td>\n",
       "      <td>601</td>\n",
       "      <td>601</td>\n",
       "      <td>601</td>\n",
       "      <td>601</td>\n",
       "    </tr>\n",
       "    <tr>\n",
       "      <th>Goveia_Carmeliet_2020_patient_46</th>\n",
       "      <td>2111</td>\n",
       "      <td>2111</td>\n",
       "      <td>2111</td>\n",
       "      <td>2111</td>\n",
       "      <td>2111</td>\n",
       "      <td>2111</td>\n",
       "      <td>2111</td>\n",
       "      <td>2111</td>\n",
       "      <td>2111</td>\n",
       "      <td>2111</td>\n",
       "      <td>...</td>\n",
       "      <td>2111</td>\n",
       "      <td>2111</td>\n",
       "      <td>2111</td>\n",
       "      <td>2111</td>\n",
       "      <td>2111</td>\n",
       "      <td>2111</td>\n",
       "      <td>2111</td>\n",
       "      <td>2111</td>\n",
       "      <td>2111</td>\n",
       "      <td>2111</td>\n",
       "    </tr>\n",
       "    <tr>\n",
       "      <th>...</th>\n",
       "      <th>...</th>\n",
       "      <td>...</td>\n",
       "      <td>...</td>\n",
       "      <td>...</td>\n",
       "      <td>...</td>\n",
       "      <td>...</td>\n",
       "      <td>...</td>\n",
       "      <td>...</td>\n",
       "      <td>...</td>\n",
       "      <td>...</td>\n",
       "      <td>...</td>\n",
       "      <td>...</td>\n",
       "      <td>...</td>\n",
       "      <td>...</td>\n",
       "      <td>...</td>\n",
       "      <td>...</td>\n",
       "      <td>...</td>\n",
       "      <td>...</td>\n",
       "      <td>...</td>\n",
       "      <td>...</td>\n",
       "      <td>...</td>\n",
       "      <td>...</td>\n",
       "    </tr>\n",
       "    <tr>\n",
       "      <th rowspan=\"5\" valign=\"top\">male</th>\n",
       "      <th>UKIM-V-2_P16</th>\n",
       "      <td>0</td>\n",
       "      <td>0</td>\n",
       "      <td>0</td>\n",
       "      <td>0</td>\n",
       "      <td>0</td>\n",
       "      <td>0</td>\n",
       "      <td>0</td>\n",
       "      <td>0</td>\n",
       "      <td>0</td>\n",
       "      <td>0</td>\n",
       "      <td>...</td>\n",
       "      <td>0</td>\n",
       "      <td>0</td>\n",
       "      <td>0</td>\n",
       "      <td>0</td>\n",
       "      <td>0</td>\n",
       "      <td>0</td>\n",
       "      <td>0</td>\n",
       "      <td>0</td>\n",
       "      <td>0</td>\n",
       "      <td>0</td>\n",
       "    </tr>\n",
       "    <tr>\n",
       "      <th>UKIM-V-2_P17</th>\n",
       "      <td>0</td>\n",
       "      <td>0</td>\n",
       "      <td>0</td>\n",
       "      <td>0</td>\n",
       "      <td>0</td>\n",
       "      <td>0</td>\n",
       "      <td>0</td>\n",
       "      <td>0</td>\n",
       "      <td>0</td>\n",
       "      <td>0</td>\n",
       "      <td>...</td>\n",
       "      <td>0</td>\n",
       "      <td>0</td>\n",
       "      <td>0</td>\n",
       "      <td>0</td>\n",
       "      <td>0</td>\n",
       "      <td>0</td>\n",
       "      <td>0</td>\n",
       "      <td>0</td>\n",
       "      <td>0</td>\n",
       "      <td>0</td>\n",
       "    </tr>\n",
       "    <tr>\n",
       "      <th>UKIM-V_P1</th>\n",
       "      <td>0</td>\n",
       "      <td>0</td>\n",
       "      <td>0</td>\n",
       "      <td>0</td>\n",
       "      <td>0</td>\n",
       "      <td>0</td>\n",
       "      <td>0</td>\n",
       "      <td>0</td>\n",
       "      <td>0</td>\n",
       "      <td>0</td>\n",
       "      <td>...</td>\n",
       "      <td>0</td>\n",
       "      <td>0</td>\n",
       "      <td>0</td>\n",
       "      <td>0</td>\n",
       "      <td>0</td>\n",
       "      <td>0</td>\n",
       "      <td>0</td>\n",
       "      <td>0</td>\n",
       "      <td>0</td>\n",
       "      <td>0</td>\n",
       "    </tr>\n",
       "    <tr>\n",
       "      <th>UKIM-V_P2</th>\n",
       "      <td>0</td>\n",
       "      <td>0</td>\n",
       "      <td>0</td>\n",
       "      <td>0</td>\n",
       "      <td>0</td>\n",
       "      <td>0</td>\n",
       "      <td>0</td>\n",
       "      <td>0</td>\n",
       "      <td>0</td>\n",
       "      <td>0</td>\n",
       "      <td>...</td>\n",
       "      <td>0</td>\n",
       "      <td>0</td>\n",
       "      <td>0</td>\n",
       "      <td>0</td>\n",
       "      <td>0</td>\n",
       "      <td>0</td>\n",
       "      <td>0</td>\n",
       "      <td>0</td>\n",
       "      <td>0</td>\n",
       "      <td>0</td>\n",
       "    </tr>\n",
       "    <tr>\n",
       "      <th>UKIM-V_P3</th>\n",
       "      <td>9</td>\n",
       "      <td>9</td>\n",
       "      <td>9</td>\n",
       "      <td>9</td>\n",
       "      <td>9</td>\n",
       "      <td>9</td>\n",
       "      <td>9</td>\n",
       "      <td>9</td>\n",
       "      <td>9</td>\n",
       "      <td>9</td>\n",
       "      <td>...</td>\n",
       "      <td>9</td>\n",
       "      <td>9</td>\n",
       "      <td>9</td>\n",
       "      <td>9</td>\n",
       "      <td>9</td>\n",
       "      <td>9</td>\n",
       "      <td>9</td>\n",
       "      <td>9</td>\n",
       "      <td>9</td>\n",
       "      <td>9</td>\n",
       "    </tr>\n",
       "  </tbody>\n",
       "</table>\n",
       "<p>130 rows × 47 columns</p>\n",
       "</div>"
      ],
      "text/plain": [
       "                                         sample  uicc_stage  ever_smoker  \\\n",
       "sex    donor_id                                                            \n",
       "female Goveia_Carmeliet_2020_patient_40       0           0            0   \n",
       "       Goveia_Carmeliet_2020_patient_41       0           0            0   \n",
       "       Goveia_Carmeliet_2020_patient_42       0           0            0   \n",
       "       Goveia_Carmeliet_2020_patient_45     601         601          601   \n",
       "       Goveia_Carmeliet_2020_patient_46    2111        2111         2111   \n",
       "...                                         ...         ...          ...   \n",
       "male   UKIM-V-2_P16                           0           0            0   \n",
       "       UKIM-V-2_P17                           0           0            0   \n",
       "       UKIM-V_P1                              0           0            0   \n",
       "       UKIM-V_P2                              0           0            0   \n",
       "       UKIM-V_P3                              9           9            9   \n",
       "\n",
       "                                          age  origin  dataset  ann_fine  \\\n",
       "sex    donor_id                                                            \n",
       "female Goveia_Carmeliet_2020_patient_40     0       0        0         0   \n",
       "       Goveia_Carmeliet_2020_patient_41     0       0        0         0   \n",
       "       Goveia_Carmeliet_2020_patient_42     0       0        0         0   \n",
       "       Goveia_Carmeliet_2020_patient_45   601     601      601       601   \n",
       "       Goveia_Carmeliet_2020_patient_46  2111    2111     2111      2111   \n",
       "...                                       ...     ...      ...       ...   \n",
       "male   UKIM-V-2_P16                         0       0        0         0   \n",
       "       UKIM-V-2_P17                         0       0        0         0   \n",
       "       UKIM-V_P1                            0       0        0         0   \n",
       "       UKIM-V_P2                            0       0        0         0   \n",
       "       UKIM-V_P3                            9       9        9         9   \n",
       "\n",
       "                                         cell_type_predicted  doublet_status  \\\n",
       "sex    donor_id                                                                \n",
       "female Goveia_Carmeliet_2020_patient_40                    0               0   \n",
       "       Goveia_Carmeliet_2020_patient_41                    0               0   \n",
       "       Goveia_Carmeliet_2020_patient_42                    0               0   \n",
       "       Goveia_Carmeliet_2020_patient_45                  601             601   \n",
       "       Goveia_Carmeliet_2020_patient_46                 2111            2111   \n",
       "...                                                      ...             ...   \n",
       "male   UKIM-V-2_P16                                        0               0   \n",
       "       UKIM-V-2_P17                                        0               0   \n",
       "       UKIM-V_P1                                           0               0   \n",
       "       UKIM-V_P2                                           0               0   \n",
       "       UKIM-V_P3                                           9               9   \n",
       "\n",
       "                                         leiden  ...  \\\n",
       "sex    donor_id                                  ...   \n",
       "female Goveia_Carmeliet_2020_patient_40       0  ...   \n",
       "       Goveia_Carmeliet_2020_patient_41       0  ...   \n",
       "       Goveia_Carmeliet_2020_patient_42       0  ...   \n",
       "       Goveia_Carmeliet_2020_patient_45     601  ...   \n",
       "       Goveia_Carmeliet_2020_patient_46    2111  ...   \n",
       "...                                         ...  ...   \n",
       "male   UKIM-V-2_P16                           0  ...   \n",
       "       UKIM-V-2_P17                           0  ...   \n",
       "       UKIM-V_P1                              0  ...   \n",
       "       UKIM-V_P2                              0  ...   \n",
       "       UKIM-V_P3                              9  ...   \n",
       "\n",
       "                                         organism_ontology_term_id  \\\n",
       "sex    donor_id                                                      \n",
       "female Goveia_Carmeliet_2020_patient_40                          0   \n",
       "       Goveia_Carmeliet_2020_patient_41                          0   \n",
       "       Goveia_Carmeliet_2020_patient_42                          0   \n",
       "       Goveia_Carmeliet_2020_patient_45                        601   \n",
       "       Goveia_Carmeliet_2020_patient_46                       2111   \n",
       "...                                                            ...   \n",
       "male   UKIM-V-2_P16                                              0   \n",
       "       UKIM-V-2_P17                                              0   \n",
       "       UKIM-V_P1                                                 0   \n",
       "       UKIM-V_P2                                                 0   \n",
       "       UKIM-V_P3                                                 9   \n",
       "\n",
       "                                         sex_ontology_term_id  \\\n",
       "sex    donor_id                                                 \n",
       "female Goveia_Carmeliet_2020_patient_40                     0   \n",
       "       Goveia_Carmeliet_2020_patient_41                     0   \n",
       "       Goveia_Carmeliet_2020_patient_42                     0   \n",
       "       Goveia_Carmeliet_2020_patient_45                   601   \n",
       "       Goveia_Carmeliet_2020_patient_46                  2111   \n",
       "...                                                       ...   \n",
       "male   UKIM-V-2_P16                                         0   \n",
       "       UKIM-V-2_P17                                         0   \n",
       "       UKIM-V_P1                                            0   \n",
       "       UKIM-V_P2                                            0   \n",
       "       UKIM-V_P3                                            9   \n",
       "\n",
       "                                         tissue_ontology_term_id  cell_type  \\\n",
       "sex    donor_id                                                               \n",
       "female Goveia_Carmeliet_2020_patient_40                        0          0   \n",
       "       Goveia_Carmeliet_2020_patient_41                        0          0   \n",
       "       Goveia_Carmeliet_2020_patient_42                        0          0   \n",
       "       Goveia_Carmeliet_2020_patient_45                      601        601   \n",
       "       Goveia_Carmeliet_2020_patient_46                     2111       2111   \n",
       "...                                                          ...        ...   \n",
       "male   UKIM-V-2_P16                                            0          0   \n",
       "       UKIM-V-2_P17                                            0          0   \n",
       "       UKIM-V_P1                                               0          0   \n",
       "       UKIM-V_P2                                               0          0   \n",
       "       UKIM-V_P3                                               9          9   \n",
       "\n",
       "                                         assay  disease  organism  tissue  \\\n",
       "sex    donor_id                                                             \n",
       "female Goveia_Carmeliet_2020_patient_40      0        0         0       0   \n",
       "       Goveia_Carmeliet_2020_patient_41      0        0         0       0   \n",
       "       Goveia_Carmeliet_2020_patient_42      0        0         0       0   \n",
       "       Goveia_Carmeliet_2020_patient_45    601      601       601     601   \n",
       "       Goveia_Carmeliet_2020_patient_46   2111     2111      2111    2111   \n",
       "...                                        ...      ...       ...     ...   \n",
       "male   UKIM-V-2_P16                          0        0         0       0   \n",
       "       UKIM-V-2_P17                          0        0         0       0   \n",
       "       UKIM-V_P1                             0        0         0       0   \n",
       "       UKIM-V_P2                             0        0         0       0   \n",
       "       UKIM-V_P3                             9        9         9       9   \n",
       "\n",
       "                                         self_reported_ethnicity  \\\n",
       "sex    donor_id                                                    \n",
       "female Goveia_Carmeliet_2020_patient_40                        0   \n",
       "       Goveia_Carmeliet_2020_patient_41                        0   \n",
       "       Goveia_Carmeliet_2020_patient_42                        0   \n",
       "       Goveia_Carmeliet_2020_patient_45                      601   \n",
       "       Goveia_Carmeliet_2020_patient_46                     2111   \n",
       "...                                                          ...   \n",
       "male   UKIM-V-2_P16                                            0   \n",
       "       UKIM-V-2_P17                                            0   \n",
       "       UKIM-V_P1                                               0   \n",
       "       UKIM-V_P2                                               0   \n",
       "       UKIM-V_P3                                               9   \n",
       "\n",
       "                                         development_stage  \n",
       "sex    donor_id                                             \n",
       "female Goveia_Carmeliet_2020_patient_40                  0  \n",
       "       Goveia_Carmeliet_2020_patient_41                  0  \n",
       "       Goveia_Carmeliet_2020_patient_42                  0  \n",
       "       Goveia_Carmeliet_2020_patient_45                601  \n",
       "       Goveia_Carmeliet_2020_patient_46               2111  \n",
       "...                                                    ...  \n",
       "male   UKIM-V-2_P16                                      0  \n",
       "       UKIM-V-2_P17                                      0  \n",
       "       UKIM-V_P1                                         0  \n",
       "       UKIM-V_P2                                         0  \n",
       "       UKIM-V_P3                                         9  \n",
       "\n",
       "[130 rows x 47 columns]"
      ]
     },
     "execution_count": 134,
     "metadata": {},
     "output_type": "execute_result"
    }
   ],
   "source": [
    "\n",
    "xist_paired_adata_subset.obs.groupby([\"sex\",\"donor_id\"]).count()"
   ]
  },
  {
   "cell_type": "markdown",
   "id": "bb0f92a1-9307-45cb-9d7e-50930d2c30ab",
   "metadata": {},
   "source": [
    "## SUMMARY \n",
    "- Filtered for male, female & tumor, normal_adjacent\n",
    "- Filtered and reclassified cells of interest: 'B cell','CD4+ T cell', 'CD8+ T cell', 'epithelial cell', 'macrophage', 'malignant cell', 'neutrophil', 'regulatory Tcell'\n",
    "- Filtered to exclude samples coming from NSCLC\n",
    "- Filtered for PAIRED SAMPLES (82 donor_id that have normal_adjacent and tumor_primary  samples)\n",
    "- KEEP LUAD AND LUSC"
   ]
  },
  {
   "cell_type": "markdown",
   "id": "bef00bec-b6df-4257-9e70-200cb468058b",
   "metadata": {},
   "source": [
    "### 04.Compute pseudobulk"
   ]
  },
  {
   "cell_type": "code",
   "execution_count": null,
   "id": "69c9e20d-fc6c-4596-94a9-c73627a8a3d0",
   "metadata": {},
   "outputs": [],
   "source": [
    "# Get pseudo-bulk profile\n",
    "pdata = dc.get_pseudobulk(\n",
    "    paired_adata,\n",
    "    sample_col='sample',\n",
    "    groups_col='donor_id',\n",
    "    layer='count',\n",
    "    min_cells=0,\n",
    "    min_counts=0\n",
    ")"
   ]
  },
  {
   "cell_type": "code",
   "execution_count": null,
   "id": "4722c408-4a91-42a0-9cf4-31ca9a81b4e6",
   "metadata": {},
   "outputs": [],
   "source": [
    "#pdata_var_concat =pd.concat([pdata.var, nsclc_chrom],axis=1)"
   ]
  },
  {
   "cell_type": "code",
   "execution_count": null,
   "id": "affb8d89-f952-4a1a-a04f-cf3524c4e4fd",
   "metadata": {},
   "outputs": [],
   "source": [
    "#pdata_var_concat"
   ]
  },
  {
   "cell_type": "code",
   "execution_count": null,
   "id": "4a5e818a-2cf3-463c-a989-feb04064d927",
   "metadata": {},
   "outputs": [],
   "source": [
    "pdata.obs[\"age\"] = pdata.obs[\"age\"].astype(\"float64\")\n",
    "pdata.obs[\"is_primary_data\"] = pdata.obs[\"is_primary_data\"].astype(bool)\n"
   ]
  },
  {
   "cell_type": "code",
   "execution_count": null,
   "id": "f450bbe4-a870-4838-9779-4a38b2e3b31d",
   "metadata": {},
   "outputs": [],
   "source": [
    "#pdata.write_h5ad(f\"{path}/out/010_analysis_paired_include_guon/tables/input/pdata.h5ad\")"
   ]
  },
  {
   "cell_type": "code",
   "execution_count": null,
   "id": "0472fb14-25c1-47f7-9519-36e314da0b85",
   "metadata": {},
   "outputs": [],
   "source": [
    "#pdata = sc.read_h5ad(f\"{path}/out/008_analysis_paired_luad/tables/input/pdata.h5ad\")"
   ]
  },
  {
   "cell_type": "code",
   "execution_count": null,
   "id": "6bb74942-4bee-4dbd-b68b-d514c4d10e5a",
   "metadata": {},
   "outputs": [],
   "source": [
    "pdata"
   ]
  },
  {
   "cell_type": "code",
   "execution_count": null,
   "id": "992f6da9-2f26-4808-9827-9610c7146254",
   "metadata": {},
   "outputs": [],
   "source": [
    "dc.plot_psbulk_samples(pdata, groupby=['dataset', 'platform'], figsize=(12, 4))"
   ]
  },
  {
   "cell_type": "code",
   "execution_count": null,
   "id": "cca8d29a-50df-46e0-8362-81e62fa84539",
   "metadata": {},
   "outputs": [],
   "source": [
    "#pdata = pdata[pdata.obs[\"dataset\"]!=\"Guo_Zhang_2018\"] ## SMART SEQ "
   ]
  },
  {
   "cell_type": "code",
   "execution_count": null,
   "id": "0b31e4d4-c2cd-41b3-b1fb-586693698e7f",
   "metadata": {},
   "outputs": [],
   "source": [
    "#pdata"
   ]
  },
  {
   "cell_type": "code",
   "execution_count": null,
   "id": "eaad764e-f461-4cdd-8004-7401fac98359",
   "metadata": {},
   "outputs": [],
   "source": [
    "#dc.plot_psbulk_samples(pdata, groupby=['dataset', 'platform'], figsize=(12, 4))"
   ]
  },
  {
   "cell_type": "code",
   "execution_count": null,
   "id": "473a6ba3-0ae1-4b07-b54c-a4492461640d",
   "metadata": {},
   "outputs": [],
   "source": [
    "dc.plot_filter_by_expr(pdata, group='sample', min_count=10, min_total_count=15)"
   ]
  },
  {
   "cell_type": "code",
   "execution_count": null,
   "id": "bf0fe502-4ab8-429c-8e60-d08b10367278",
   "metadata": {},
   "outputs": [],
   "source": [
    "dc.plot_filter_by_expr(pdata, group='sample', large_n=100,min_prop=0.9, min_count=5000, min_total_count=10000)"
   ]
  },
  {
   "cell_type": "markdown",
   "id": "73fa0d4c-7052-4b0e-8957-7785b306a23b",
   "metadata": {},
   "source": [
    "I set this threshold for the DS analysis to avoid havinh zero-inflated data"
   ]
  },
  {
   "cell_type": "code",
   "execution_count": null,
   "id": "261c355c-1540-4222-8c53-31f49bd08d9e",
   "metadata": {},
   "outputs": [],
   "source": [
    "# Obtain genes that pass the thresholds \n",
    "genes = dc.filter_by_expr(pdata, group='sample', min_count=5000, min_total_count=10000)\n",
    "\n",
    "# Filter by these genes\n",
    "pdata = pdata[:, genes].copy()\n",
    "pdata"
   ]
  },
  {
   "cell_type": "code",
   "execution_count": null,
   "id": "588bb836-02b6-4918-a40e-add9fb54332c",
   "metadata": {},
   "outputs": [],
   "source": [
    "pdata.layers[\"counts\"] = pdata.X"
   ]
  },
  {
   "cell_type": "code",
   "execution_count": null,
   "id": "42538387-6809-4099-9b66-deb524121bc4",
   "metadata": {},
   "outputs": [],
   "source": [
    "scales_counts = sc.pp.normalize_total(pdata, target_sum=None, inplace=False)\n",
    "# log1p transform\n",
    "pdata.layers[\"log1p_norm\"] = sc.pp.log1p(scales_counts[\"X\"], copy=True)"
   ]
  },
  {
   "cell_type": "code",
   "execution_count": null,
   "id": "5e64494d-e597-498d-837b-15076f28e7ea",
   "metadata": {},
   "outputs": [],
   "source": [
    "pdata"
   ]
  },
  {
   "cell_type": "code",
   "execution_count": null,
   "id": "ded8be1d-8c0e-414b-a932-87090935c610",
   "metadata": {},
   "outputs": [],
   "source": [
    "### Samplesheet\n",
    "samplesheet = pdata.obs.copy()\n",
    "samplesheet[\"sample\"]=samplesheet.index\n",
    "samplesheet.reset_index(inplace=True)"
   ]
  },
  {
   "cell_type": "code",
   "execution_count": null,
   "id": "8dde13ff-e1b0-4b6b-b29d-1be5e33c31e5",
   "metadata": {},
   "outputs": [],
   "source": [
    "samplesheet.to_csv(f\"{path}/out/010_analysis_paired_include_guon/tables/input/samplesheet.csv\", index=False)\n",
    "samplesheet.to_csv(f\"{path}/out/010_analysis_paired_include_guon/tables/input/samplesheet.tsv\", index=False, sep = \"\\t\")"
   ]
  },
  {
   "cell_type": "code",
   "execution_count": null,
   "id": "96db85fd-4b13-47e6-8dbd-b8a2bc456e1b",
   "metadata": {},
   "outputs": [],
   "source": [
    "bulk_df = pdata.to_df().T"
   ]
  },
  {
   "cell_type": "code",
   "execution_count": null,
   "id": "9cd2fbe0-dc81-43d8-9eb8-b1689b1a1feb",
   "metadata": {},
   "outputs": [],
   "source": [
    "### Raw counts\n",
    "bulk_df = pdata.to_df().T\n",
    "#bulk_df[\"gene_id\"]=bulk_df.index\n",
    "bulk_df.columns = bulk_df.columns.str.replace(\"[.-]\", \"_\").str.replace(\" \", \"_\")"
   ]
  },
  {
   "cell_type": "code",
   "execution_count": null,
   "id": "d9d33a74-8359-4564-83d5-7daa91204a69",
   "metadata": {},
   "outputs": [],
   "source": [
    "bulk_df.to_csv(f\"{path}/out/010_analysis_paired_include_guon/tables/input/counts.csv\")    "
   ]
  },
  {
   "cell_type": "code",
   "execution_count": null,
   "id": "43ddd3e0-e71b-480b-9d98-cbad2f8f3a8d",
   "metadata": {},
   "outputs": [],
   "source": [
    "### log1p_norm counts\n",
    "pdata_log1p_norm = pd.DataFrame(pdata.layers[\"log1p_norm\"], \n",
    "    pdata.to_df().index, \n",
    "    pdata.to_df().columns)\n",
    "bulk_df = pdata_log1p_norm.T\n",
    "#bulk_df[\"gene_id\"]=bulk_df.index\n",
    "bulk_df.columns = bulk_df.columns.str.replace(\"[.-]\", \"_\").str.replace(\" \", \"_\")\n",
    "bulk_df.to_csv(f\"{path}/out/010_analysis_paired_include_guon/tables/input/log1p_norm_counts.csv\")    "
   ]
  },
  {
   "cell_type": "markdown",
   "id": "5f95e140-e654-460b-a5ac-d6ce832bd60c",
   "metadata": {},
   "source": [
    "### 0.4 Create counts and samplesheet independent for tumor and normal for DESEQ2 "
   ]
  },
  {
   "cell_type": "code",
   "execution_count": null,
   "id": "b87fe773-4e33-4d5e-a8e4-27eabe97660a",
   "metadata": {},
   "outputs": [],
   "source": [
    "pdata_normal = pdata[pdata.obs[\"origin\"]==\"normal_adjacent\"]\n",
    "pdata_tumor = pdata[pdata.obs[\"origin\"]==\"tumor_primary\"]"
   ]
  },
  {
   "cell_type": "code",
   "execution_count": null,
   "id": "08c8bcc4-5914-4479-a68f-e8f3f450f5fe",
   "metadata": {},
   "outputs": [],
   "source": [
    "pdata_normal"
   ]
  },
  {
   "cell_type": "code",
   "execution_count": null,
   "id": "a7edbc1e-fb61-4f8c-8d80-27833035cf0d",
   "metadata": {
    "scrolled": true
   },
   "outputs": [],
   "source": [
    "pdata_list = [pdata_normal,pdata_tumor]\n",
    "pdata_list_name = [\"normal\",\"tumor\"]\n",
    "\n",
    "for index, dataframe in enumerate(pdata_list):\n",
    "    print(pdata_list_name[index])\n",
    "    # Perform the operations\n",
    "    samplesheet = dataframe.obs.copy()\n",
    "    samplesheet[\"sample\"] = samplesheet.index\n",
    "    samplesheet.reset_index(inplace=True)\n",
    "  \n",
    "    samplesheet.to_csv(f\"{path}/out/010_analysis_paired_include_guon/tables/input/samplesheet_{pdata_list_name[index]}.csv\", index=False)\n",
    "    samplesheet.to_csv(f\"{path}/out/010_analysis_paired_include_guon/tables/input/samplesheet_{pdata_list_name[index]}.tsv\", index=False, sep=\"\\t\")\n",
    "\n",
    "\n",
    "    ### Raw counts\n",
    "    bulk_df = dataframe.to_df().T\n",
    "    #bulk_df[\"gene_id\"]=bulk_df.index\n",
    "    bulk_df.columns = bulk_df.columns.str.replace(\"[.-]\", \"_\").str.replace(\" \", \"_\")\n",
    "    bulk_df.to_csv(f\"{path}/out/010_analysis_paired_include_guon/tables/input/counts_{pdata_list_name[index]}.csv\")  \n",
    "    ### log1p_norm counts\n",
    "    pdata_log1p_norm = pd.DataFrame(dataframe.layers[\"log1p_norm\"], \n",
    "        dataframe.to_df().index, \n",
    "        dataframe.to_df().columns)\n",
    "    bulk_df = pdata_log1p_norm.T\n",
    "    #bulk_df[\"gene_id\"]=bulk_df.index\n",
    "    bulk_df.columns = bulk_df.columns.str.replace(\"[.-]\", \"_\").str.replace(\" \", \"_\")\n",
    "    bulk_df.to_csv(f\"{path}/out/010_analysis_paired_include_guon/tables/input/log1p_norm_counts_{pdata_list_name[index]}.csv\")    "
   ]
  },
  {
   "cell_type": "markdown",
   "id": "d7d4720d-ad52-4a63-a0a0-978260a3dfa2",
   "metadata": {},
   "source": [
    "## SUMMARY \n",
    "- Filtered for male, female & tumor, normal_adjacent\n",
    "- Filtered and reclassified cells of interest: 'B cell','CD4+ T cell', 'CD8+ T cell', 'epithelial cell', 'macrophage', 'malignant cell', 'neutrophil', 'regulatory Tcell'\n",
    "- Filtered to exclude samples coming from NSCLC\n",
    "- Filtered for PAIRED SAMPLES (82 donor_id that have normal_adjacent and tumor_primary  samples)\n",
    " "
   ]
  }
 ],
 "metadata": {
  "kernelspec": {
   "display_name": "crc_atlas",
   "language": "python",
   "name": "crc_atlas"
  },
  "language_info": {
   "codemirror_mode": {
    "name": "ipython",
    "version": 3
   },
   "file_extension": ".py",
   "mimetype": "text/x-python",
   "name": "python",
   "nbconvert_exporter": "python",
   "pygments_lexer": "ipython3",
   "version": "3.11.6"
  }
 },
 "nbformat": 4,
 "nbformat_minor": 5
}
