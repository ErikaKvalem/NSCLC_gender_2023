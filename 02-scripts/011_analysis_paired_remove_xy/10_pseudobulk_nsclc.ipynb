{
 "cells": [
  {
   "cell_type": "markdown",
   "id": "2980161a-241b-4753-b740-5ff860884011",
   "metadata": {},
   "source": [
    "# 1.NSCLC Sex-stratified SC Analysis\n",
    "\n",
    "## Data selection, pseudobulk, create input for DESEQ2"
   ]
  },
  {
   "cell_type": "code",
   "execution_count": 1,
   "id": "edbb3fde-d351-4387-896d-e931307eeb53",
   "metadata": {},
   "outputs": [],
   "source": [
    "import warnings\n",
    "import numpy as np\n",
    "import pandas as pd \n",
    "import scanpy as sc\n",
    "#import tensorflow as tf\n",
    "import matplotlib.pyplot as plt\n",
    "import matplotlib\n",
    "import seaborn as sns\n",
    "#import altair as alt\n",
    "#import pertpy as pt\n",
    "#from pandas.api.types import is_categorical_dtype\n",
    "#from pandas import CategoricalDtype"
   ]
  },
  {
   "cell_type": "code",
   "execution_count": 2,
   "id": "3bf34676-ba05-4fdc-a50b-9a6c94b38b35",
   "metadata": {},
   "outputs": [],
   "source": [
    "import decoupler as dc"
   ]
  },
  {
   "cell_type": "code",
   "execution_count": 3,
   "id": "1c904e17-c8c9-4363-ae2e-1c9d15222e65",
   "metadata": {},
   "outputs": [],
   "source": [
    "#Set result directory for figures\n",
    "resDir = \"/data/projects/2023/LCBiome/nsclc_gender_atlas_tmp/out/011_analysis_paired_remove_xy/figures/\"\n",
    "sc.settings.figdir = resDir"
   ]
  },
  {
   "cell_type": "code",
   "execution_count": 4,
   "id": "0553f14a-fcfa-4596-81de-867668eed4b2",
   "metadata": {},
   "outputs": [
    {
     "data": {
      "text/plain": [
       "'1.5.0'"
      ]
     },
     "execution_count": 4,
     "metadata": {},
     "output_type": "execute_result"
    }
   ],
   "source": [
    "dc.__version__"
   ]
  },
  {
   "cell_type": "code",
   "execution_count": 5,
   "id": "db4b1cb3-3364-42fb-bac7-6cd852036110",
   "metadata": {},
   "outputs": [],
   "source": [
    "path = \"/data/projects/2023/LCBiome/nsclc_gender_atlas_tmp\"\n",
    "input_path    = f\"{path}/data/local.h5ad\""
   ]
  },
  {
   "cell_type": "code",
   "execution_count": null,
   "id": "fe038019-17ef-4972-a4d0-f129a520e6f3",
   "metadata": {},
   "outputs": [],
   "source": [
    "adata = sc.read_h5ad(input_path) "
   ]
  },
  {
   "cell_type": "code",
   "execution_count": null,
   "id": "e8569bac-e7f3-453b-87c0-b45ba899c681",
   "metadata": {},
   "outputs": [],
   "source": [
    "adata.obs.dataset.value_counts()"
   ]
  },
  {
   "cell_type": "code",
   "execution_count": null,
   "id": "c616805f-5e9f-4f41-a226-2cd00b9f6a98",
   "metadata": {},
   "outputs": [],
   "source": [
    "nsclc_chrom = pd.read_csv(f\"{path}/out/007_re_analysis/tables/input/adata_var_nsclc_chrom.csv\")"
   ]
  },
  {
   "cell_type": "code",
   "execution_count": null,
   "id": "f67e5c74-70e9-461c-9690-22c5583260b4",
   "metadata": {},
   "outputs": [],
   "source": [
    "adata"
   ]
  },
  {
   "cell_type": "code",
   "execution_count": null,
   "id": "df4e83e5-e1fa-4934-8750-1789b5576770",
   "metadata": {},
   "outputs": [],
   "source": [
    "adata.obs.disease.value_counts()"
   ]
  },
  {
   "cell_type": "code",
   "execution_count": null,
   "id": "4affacbc-337a-4c72-b6b0-aa596a1f7db2",
   "metadata": {},
   "outputs": [],
   "source": [
    "adata.obs.tumor_stage.value_counts()"
   ]
  },
  {
   "cell_type": "code",
   "execution_count": null,
   "id": "ccd89aad-1a50-4acc-9d9e-8697c84951e0",
   "metadata": {},
   "outputs": [],
   "source": [
    "adata.obs.sex.value_counts()"
   ]
  },
  {
   "cell_type": "code",
   "execution_count": null,
   "id": "4670efbd-e593-4dcc-9e54-8bf3d24f80b5",
   "metadata": {},
   "outputs": [],
   "source": [
    "adata.obs.origin.value_counts()"
   ]
  },
  {
   "cell_type": "code",
   "execution_count": null,
   "id": "f706c712-cd89-491a-b399-60d355101111",
   "metadata": {},
   "outputs": [],
   "source": [
    "adata.obs.dataset.value_counts()"
   ]
  },
  {
   "cell_type": "markdown",
   "id": "9564a63b-313e-453f-8d2f-a4d7f39c153c",
   "metadata": {},
   "source": [
    "### 01.SELECT ONLY male, female & tumor, normal_adjacent"
   ]
  },
  {
   "cell_type": "code",
   "execution_count": null,
   "id": "55bfff78-b5cc-4a82-a637-68b9e1978619",
   "metadata": {},
   "outputs": [],
   "source": [
    "adata = adata[(adata.obs[\"disease\"] != \"normal\") & (adata.obs[\"disease\"] != \"chronic obstructive pulmonary disease\")] #exclude normal and COPD samples"
   ]
  },
  {
   "cell_type": "code",
   "execution_count": null,
   "id": "98d67302-7459-4493-9d37-9db67c8c8d0d",
   "metadata": {},
   "outputs": [],
   "source": [
    "adata = adata[adata.obs[\"tumor_stage\"].notna()] #exclude samples without tumor stage"
   ]
  },
  {
   "cell_type": "code",
   "execution_count": null,
   "id": "1c8b08b4-3f4e-419f-a329-e7c936c2c5c5",
   "metadata": {},
   "outputs": [],
   "source": [
    "adata = adata[(adata.obs[\"sex\"]==\"male\")| (adata.obs[\"sex\"]==\"female\")]"
   ]
  },
  {
   "cell_type": "code",
   "execution_count": null,
   "id": "267fc46a-7815-432c-b6b4-3e9495b5111b",
   "metadata": {},
   "outputs": [],
   "source": [
    "adata = adata[(adata.obs[\"origin\"]==\"tumor_primary\")| (adata.obs[\"origin\"]==\"normal_adjacent\")]"
   ]
  },
  {
   "cell_type": "code",
   "execution_count": null,
   "id": "280fd4b4-8197-4fc8-98ce-59b8c30de245",
   "metadata": {},
   "outputs": [],
   "source": [
    "adata.obs.disease.value_counts()"
   ]
  },
  {
   "cell_type": "code",
   "execution_count": null,
   "id": "64456b10-beb9-4239-b8e2-97c7cd19f530",
   "metadata": {},
   "outputs": [],
   "source": [
    "adata.obs.tumor_stage.value_counts()"
   ]
  },
  {
   "cell_type": "code",
   "execution_count": null,
   "id": "c7b8edc1-ede1-44ab-bca6-e9c759a07a3d",
   "metadata": {},
   "outputs": [],
   "source": [
    "adata.obs.sex.value_counts()"
   ]
  },
  {
   "cell_type": "code",
   "execution_count": null,
   "id": "9db59ca2-e354-4790-ba10-d74fd7036dd0",
   "metadata": {},
   "outputs": [],
   "source": [
    "adata.obs.origin.value_counts()"
   ]
  },
  {
   "cell_type": "code",
   "execution_count": null,
   "id": "492ebc27-b0f9-4b4f-b9fc-759d3658a0ec",
   "metadata": {},
   "outputs": [],
   "source": [
    "adata.obs.dataset.value_counts()"
   ]
  },
  {
   "cell_type": "markdown",
   "id": "6bc95759-1287-4ef1-a17d-a856597ed1ed",
   "metadata": {},
   "source": [
    "### 02.CELL TPYE RE-CLASIFICATION "
   ]
  },
  {
   "cell_type": "code",
   "execution_count": null,
   "id": "2d216c5a-6501-4bbf-8721-daeb571bba99",
   "metadata": {},
   "outputs": [],
   "source": [
    "adata.obs.cell_type.value_counts()"
   ]
  },
  {
   "cell_type": "code",
   "execution_count": null,
   "id": "f798450d-b414-47b4-82f3-f49b1c3309fa",
   "metadata": {},
   "outputs": [],
   "source": [
    "adata.obs.cell_type_major.value_counts()"
   ]
  },
  {
   "cell_type": "code",
   "execution_count": null,
   "id": "7ccd41a0-c15a-4346-929c-b61825097693",
   "metadata": {
    "tags": []
   },
   "outputs": [],
   "source": [
    "cells_of_interest=['alveolar macrophage', 'neutrophil','dendritic cell',\n",
    " 'macrophage','malignant cell',\n",
    " 'B cell',\n",
    "  'regulatory T cell',\n",
    "'CD4-positive, alpha-beta T cell',\n",
    " 'CD8-positive, alpha-beta T cell',\n",
    " 'neutrophils','epithelial cell of lung','multi-ciliated epithelial cell' ]\n",
    "subset_adata = adata[adata.obs[\"cell_type\"].isin(cells_of_interest)] \n"
   ]
  },
  {
   "cell_type": "code",
   "execution_count": null,
   "id": "711af383-82d3-490e-9144-0eb14ea2972b",
   "metadata": {},
   "outputs": [],
   "source": [
    "set(subset_adata.obs.cell_type)"
   ]
  },
  {
   "cell_type": "code",
   "execution_count": null,
   "id": "bccdf1ec-8e7e-421a-8582-8b41f6eea271",
   "metadata": {},
   "outputs": [],
   "source": [
    "set(subset_adata.obs.cell_type_major)"
   ]
  },
  {
   "cell_type": "code",
   "execution_count": null,
   "id": "2aa41398-d555-495b-a21c-569ef21d03fa",
   "metadata": {
    "scrolled": true
   },
   "outputs": [],
   "source": [
    "subset_adata.obs[\"cell_type\"]= subset_adata.obs[\"cell_type\"].replace(['epithelial cell of lung','multi-ciliated epithelial cell',], 'epithelial cell')\n",
    "subset_adata.obs[\"cell_type\"]= subset_adata.obs[\"cell_type\"].replace(['alveolar macrophage'], 'macrophage')\n",
    "subset_adata.obs[\"cell_type\"]= subset_adata.obs[\"cell_type\"].replace(['CD4-positive, alpha-beta T cell'], 'CD4+ T cell')\n",
    "subset_adata.obs[\"cell_type\"]= subset_adata.obs[\"cell_type\"].replace(['CD8-positive, alpha-beta T cell'], 'CD8+ T cell')"
   ]
  },
  {
   "cell_type": "code",
   "execution_count": null,
   "id": "0f3722a6-f1bd-49d5-b48e-52f9f579cc5b",
   "metadata": {},
   "outputs": [],
   "source": [
    "set(subset_adata.obs.cell_type)"
   ]
  },
  {
   "cell_type": "code",
   "execution_count": null,
   "id": "b386f50d-964a-4d90-a95b-00413e5fc474",
   "metadata": {},
   "outputs": [],
   "source": [
    "subset_adata"
   ]
  },
  {
   "cell_type": "code",
   "execution_count": null,
   "id": "7f8bdd7d-4dd9-4f59-ae4d-51db6fa3abe4",
   "metadata": {},
   "outputs": [],
   "source": [
    "subset_adata.obs.disease.value_counts()"
   ]
  },
  {
   "cell_type": "code",
   "execution_count": null,
   "id": "84bc0549-6412-43fd-8a49-9ad75b562cb4",
   "metadata": {},
   "outputs": [],
   "source": [
    "subset_adata.obs.dataset.value_counts()"
   ]
  },
  {
   "cell_type": "code",
   "execution_count": null,
   "id": "04d651ac-6b6a-4d40-b6bb-2a0cbfb88bb0",
   "metadata": {},
   "outputs": [],
   "source": [
    "subset_adata.obs.dataset.value_counts()"
   ]
  },
  {
   "cell_type": "markdown",
   "id": "9b2458ac-4c1b-4fb9-a4ce-1998b05f1176",
   "metadata": {},
   "source": [
    "## PAIRED SAMPLES"
   ]
  },
  {
   "cell_type": "code",
   "execution_count": null,
   "id": "fca81be2-f051-42e9-8282-8650178138f0",
   "metadata": {},
   "outputs": [],
   "source": [
    "df_grouped = subset_adata.obs.groupby([\"origin\",\"donor_id\"]).count()"
   ]
  },
  {
   "cell_type": "code",
   "execution_count": null,
   "id": "a5cacfcf-9b14-48e3-a31a-b5b528376b71",
   "metadata": {},
   "outputs": [],
   "source": [
    "df_grouped.reset_index(inplace= True)"
   ]
  },
  {
   "cell_type": "code",
   "execution_count": null,
   "id": "4056771c-7b1c-4a72-bd0b-72bf1ff753a8",
   "metadata": {},
   "outputs": [],
   "source": [
    "df_grouped_normal = df_grouped[df_grouped[\"origin\"]==\"normal_adjacent\"]"
   ]
  },
  {
   "cell_type": "code",
   "execution_count": null,
   "id": "e5234d7c-f494-43e1-bd82-c0473e29a8fa",
   "metadata": {},
   "outputs": [],
   "source": [
    "df_grouped_normal = df_grouped_normal[df_grouped_normal['sample'] != 0]"
   ]
  },
  {
   "cell_type": "code",
   "execution_count": null,
   "id": "82f3d9e2-78b6-4ca9-995d-2294359b5f5f",
   "metadata": {},
   "outputs": [],
   "source": [
    "df_grouped_tumor = df_grouped[df_grouped[\"origin\"]==\"tumor_primary\"]"
   ]
  },
  {
   "cell_type": "code",
   "execution_count": null,
   "id": "b307afd1-9f29-4bbe-8398-c058a42332c4",
   "metadata": {},
   "outputs": [],
   "source": [
    "df_grouped_tumor = df_grouped_tumor[df_grouped_tumor['sample'] != 0]"
   ]
  },
  {
   "cell_type": "code",
   "execution_count": null,
   "id": "77393040-17a6-4658-bb35-392d2823f22e",
   "metadata": {},
   "outputs": [],
   "source": [
    "df_grouped_tumor"
   ]
  },
  {
   "cell_type": "code",
   "execution_count": null,
   "id": "93269d15-2446-473c-ba00-1cbdcc49e602",
   "metadata": {},
   "outputs": [],
   "source": [
    "common_ids =list(set(df_grouped_normal.donor_id)& set(df_grouped_tumor.donor_id))"
   ]
  },
  {
   "cell_type": "code",
   "execution_count": null,
   "id": "05ba2ac2-e212-489f-9c06-3b72206f250b",
   "metadata": {},
   "outputs": [],
   "source": [
    "len(common_ids)"
   ]
  },
  {
   "cell_type": "code",
   "execution_count": null,
   "id": "90d35dc7-5f87-4524-9867-384233ae1c0f",
   "metadata": {},
   "outputs": [],
   "source": [
    "paired_adata = subset_adata[subset_adata.obs['donor_id'].isin(common_ids)].copy()"
   ]
  },
  {
   "cell_type": "code",
   "execution_count": null,
   "id": "15d6b572-926b-4638-a133-a91d6724d610",
   "metadata": {},
   "outputs": [],
   "source": [
    "paired_adata"
   ]
  },
  {
   "cell_type": "code",
   "execution_count": null,
   "id": "82963498-7117-4384-b72a-a75c163cc9e6",
   "metadata": {},
   "outputs": [],
   "source": [
    "df = paired_adata.obs#\n",
    "origin_counts = df.groupby('origin')['donor_id'].nunique().reset_index()\n",
    "origin_counts.columns = ['origin', 'count']"
   ]
  },
  {
   "cell_type": "code",
   "execution_count": null,
   "id": "612e769a-ed48-47da-85e6-c841a7b04a48",
   "metadata": {},
   "outputs": [],
   "source": [
    "plt.figure(figsize=(10, 6))\n",
    "sns.barplot(data=origin_counts, x='origin', y='count', palette='viridis')\n",
    "plt.xlabel('Origin')\n",
    "plt.ylabel('Number of Unique Donor IDs')\n",
    "plt.title('Number of Unique Donor IDs per Origin')\n",
    "plt.show()"
   ]
  },
  {
   "cell_type": "code",
   "execution_count": null,
   "id": "cce32268-37b3-48a1-90ee-8957d7f1532c",
   "metadata": {},
   "outputs": [],
   "source": [
    "df = paired_adata.obs#\n",
    "origin_counts = df.groupby('disease')['donor_id'].nunique().reset_index()\n",
    "origin_counts.columns = ['disease', 'count']"
   ]
  },
  {
   "cell_type": "code",
   "execution_count": null,
   "id": "54d31315-f827-4674-9cda-12a30996a5d7",
   "metadata": {},
   "outputs": [],
   "source": [
    "plt.figure(figsize=(10, 6))\n",
    "sns.barplot(data=origin_counts, x='disease', y='count', palette='viridis')\n",
    "plt.xlabel('disease')\n",
    "plt.ylabel('Number of Unique Donor IDs')\n",
    "plt.title('Number of Unique Donor IDs per disease')\n",
    "plt.show()"
   ]
  },
  {
   "cell_type": "code",
   "execution_count": null,
   "id": "5cc922dd-5476-4122-8b0a-6dced452666c",
   "metadata": {},
   "outputs": [],
   "source": [
    "paired_adata.obs.disease.value_counts()"
   ]
  },
  {
   "cell_type": "code",
   "execution_count": null,
   "id": "54a2215b-2ab2-4ad1-b4ad-e5170cfa1d1b",
   "metadata": {},
   "outputs": [],
   "source": [
    "paired_adata.obs.tumor_stage.value_counts()"
   ]
  },
  {
   "cell_type": "code",
   "execution_count": null,
   "id": "8f74eb48-94cf-4112-9214-9b0f971c4084",
   "metadata": {},
   "outputs": [],
   "source": [
    "paired_adata.obs.sex.value_counts()"
   ]
  },
  {
   "cell_type": "code",
   "execution_count": null,
   "id": "469b9aab-b98d-4fb1-bbed-750f02bb8fcb",
   "metadata": {},
   "outputs": [],
   "source": [
    "paired_adata.obs.origin.value_counts()"
   ]
  },
  {
   "cell_type": "code",
   "execution_count": null,
   "id": "36921e3d-0fd0-4b76-97cf-2a8a4eae7078",
   "metadata": {},
   "outputs": [],
   "source": [
    "paired_adata.obs.dataset.value_counts()"
   ]
  },
  {
   "cell_type": "code",
   "execution_count": null,
   "id": "e53b66da-430f-4933-8f5b-03dee904c211",
   "metadata": {
    "scrolled": true
   },
   "outputs": [],
   "source": [
    "paired_adata"
   ]
  },
  {
   "cell_type": "markdown",
   "id": "fd305e5d-8000-4f51-876e-b08b8e563675",
   "metadata": {},
   "source": [
    "## Create layer Log 1pnorm "
   ]
  },
  {
   "cell_type": "code",
   "execution_count": null,
   "id": "5df5ad42-e7a9-4db6-bd5d-fa58683ea382",
   "metadata": {},
   "outputs": [],
   "source": [
    "paired_adata.layers[\"log1p_norm\"] = paired_adata.X.copy()\n",
    "sc.pp.normalize_total(paired_adata, target_sum=1e6, layer=\"log1p_norm\")\n",
    "sc.pp.log1p(paired_adata, base=6, layer=\"log1p_norm\")"
   ]
  },
  {
   "cell_type": "code",
   "execution_count": null,
   "id": "075938b3-53f8-42b5-9843-6269dd9d329f",
   "metadata": {},
   "outputs": [],
   "source": [
    "paired_adata"
   ]
  },
  {
   "cell_type": "markdown",
   "id": "2d316a87-1798-4826-b819-3cd0a4af3fed",
   "metadata": {},
   "source": [
    "## Checking for XIST & RPS4Y1 in male and female"
   ]
  },
  {
   "cell_type": "code",
   "execution_count": null,
   "id": "449f6291-e614-450d-8329-a1644b142b1f",
   "metadata": {},
   "outputs": [],
   "source": [
    "paired_adata.var_names = paired_adata.var.feature_name"
   ]
  },
  {
   "cell_type": "code",
   "execution_count": null,
   "id": "5222be93-b1b2-4ead-9989-4b8329c79ed1",
   "metadata": {
    "scrolled": true
   },
   "outputs": [],
   "source": [
    "# Now, generate the plot and save it\n",
    "sc.pl.violin(paired_adata, [\"RPS4Y1\", \"XIST\"], use_raw=False, groupby=\"sex\", layer=\"log1p_norm\")#, save=\"_xy_check.png\")"
   ]
  },
  {
   "cell_type": "code",
   "execution_count": null,
   "id": "c0d811c8-2e44-42a3-9609-71e3389a303a",
   "metadata": {},
   "outputs": [],
   "source": [
    "rps4y1_cells = paired_adata[:, paired_adata.var_names == \"RPS4Y1\"].X > 0\n",
    "# Subset the adata object to only those cells\n",
    "rps4y1_paired_adata_subset = paired_adata[rps4y1_cells, :]"
   ]
  },
  {
   "cell_type": "code",
   "execution_count": null,
   "id": "6338bef9-73ad-436e-bc2c-274adc7ff41f",
   "metadata": {},
   "outputs": [],
   "source": [
    "rps4y1_paired_adata_subset.obs.sex.value_counts()"
   ]
  },
  {
   "cell_type": "code",
   "execution_count": null,
   "id": "91bab166-27c7-4ae8-816d-d2fc0888ea0b",
   "metadata": {},
   "outputs": [],
   "source": [
    "xist_cells = paired_adata[:, paired_adata.var_names == \"XIST\"].X > 0\n",
    "# Subset the adata object to only those cells\n",
    "xist_paired_adata_subset = paired_adata[xist_cells, :]"
   ]
  },
  {
   "cell_type": "code",
   "execution_count": null,
   "id": "4d3b8fde-d605-4614-bad1-caa69458a980",
   "metadata": {},
   "outputs": [],
   "source": [
    "xist_paired_adata_subset.obs.sex.value_counts()"
   ]
  },
  {
   "cell_type": "code",
   "execution_count": null,
   "id": "a2bc6444-8272-4b81-a35a-cd4e8f1d81ca",
   "metadata": {},
   "outputs": [],
   "source": [
    "pd.set_option('display.max_rows', 500)\n",
    "pd.set_option('display.max_columns', 500)"
   ]
  },
  {
   "cell_type": "code",
   "execution_count": null,
   "id": "6d79c778-5726-42c7-ac7b-127730b13950",
   "metadata": {
    "scrolled": true
   },
   "outputs": [],
   "source": [
    "rps4y1_paired_adata_subset.obs.groupby([\"sex\",\"donor_id\"]).count()"
   ]
  },
  {
   "cell_type": "code",
   "execution_count": null,
   "id": "f95e373c-a96c-4835-b630-4b7ba1ec44ea",
   "metadata": {
    "scrolled": true
   },
   "outputs": [],
   "source": [
    "xist_paired_adata_subset.obs.groupby([\"sex\",\"donor_id\"]).count()"
   ]
  },
  {
   "cell_type": "markdown",
   "id": "d6217ed8-043a-497d-b879-34e90d6f172e",
   "metadata": {},
   "source": [
    "These patients express X and Y realted chromosomes oposite to what they are labelled. \n",
    "\n",
    "* rps4y1 \"Lambrechts_Thienpont_2018_6653_8\", \"Leader_Merad_2021_406\"\n",
    "* xist \"Lambrechts_Thienpont_2018_6653_6\", \"Leader_Merad_2021_581\"\n",
    "- Relabel as oposite (male & female) "
   ]
  },
  {
   "cell_type": "markdown",
   "id": "e10730a0-a116-4646-a551-02c01854dba7",
   "metadata": {},
   "source": [
    "## Relabel sex for these donor id "
   ]
  },
  {
   "cell_type": "code",
   "execution_count": null,
   "id": "58d14666-bac5-4d7e-a5b6-c8ceb2616529",
   "metadata": {},
   "outputs": [],
   "source": [
    "set(paired_adata.obs[paired_adata.obs[\"donor_id\"]==\"Leader_Merad_2021_581\"].sex)"
   ]
  },
  {
   "cell_type": "code",
   "execution_count": null,
   "id": "d08ee9a4-7a9f-4baa-a102-1bf944bdb3d4",
   "metadata": {},
   "outputs": [],
   "source": [
    "# Define the donor_ids for which you want to replace 'female' by 'male'\n",
    "donor_ids_ftom = ['Lambrechts_Thienpont_2018_6653_8', 'Leader_Merad_2021_406']\n",
    "donor_ids_mtof = ['Lambrechts_Thienpont_2018_6653_6','Leader_Merad_2021_581']\n",
    "\n",
    "# Replace 'female' by 'male' in the 'sex' column for specific donor_ids\n",
    "paired_adata.obs.loc[paired_adata.obs['donor_id'].isin(donor_ids_ftom) & (paired_adata.obs['sex'] == 'female'), 'sex'] = 'male'\n",
    "paired_adata.obs.loc[paired_adata.obs['donor_id'].isin(donor_ids_mtof) & (paired_adata.obs['sex'] == 'male'), 'sex'] = 'female'"
   ]
  },
  {
   "cell_type": "code",
   "execution_count": null,
   "id": "e2244d61-44b7-420a-a0ed-5845e2d89c8b",
   "metadata": {},
   "outputs": [],
   "source": [
    "#paired_adata_clean = paired_adata[~paired_adata.obs[\"donor_id\"].isin([\"Lambrechts_Thienpont_2018_6653_8\", \"Leader_Merad_2021_406\", \"Lambrechts_Thienpont_2018_6653_6\", \"Leader_Merad_2021_581\"])]"
   ]
  },
  {
   "cell_type": "code",
   "execution_count": null,
   "id": "29a430ce-cbb0-4493-88e0-92d4710d9557",
   "metadata": {},
   "outputs": [],
   "source": [
    "paired_adata"
   ]
  },
  {
   "cell_type": "code",
   "execution_count": null,
   "id": "2301d10c-8c39-4cc9-a92f-e8318f0bdc7c",
   "metadata": {},
   "outputs": [],
   "source": [
    "rps4y1_cells = paired_adata[:, paired_adata.var_names == \"RPS4Y1\"].X > 0\n",
    "\n",
    "# Subset the adata object to only those cells\n",
    "rps4y1_paired_adata_subset = paired_adata[rps4y1_cells, :]"
   ]
  },
  {
   "cell_type": "code",
   "execution_count": null,
   "id": "476166f0-e28d-4edb-a7cd-1667546c7c41",
   "metadata": {},
   "outputs": [],
   "source": [
    "rps4y1_paired_adata_subset.obs.sex.value_counts()"
   ]
  },
  {
   "cell_type": "code",
   "execution_count": null,
   "id": "56d7eee3-b5a5-41a8-af18-db8b0b436671",
   "metadata": {},
   "outputs": [],
   "source": [
    "xist_cells = paired_adata[:, paired_adata.var_names == \"XIST\"].X > 0\n",
    "\n",
    "# Subset the adata object to only those cells\n",
    "xist_paired_adata_subset = paired_adata[xist_cells, :]"
   ]
  },
  {
   "cell_type": "code",
   "execution_count": null,
   "id": "1879231b-35d4-4d54-a1d7-e1e9a2bddc5f",
   "metadata": {},
   "outputs": [],
   "source": [
    "xist_paired_adata_subset.obs.sex.value_counts()"
   ]
  },
  {
   "cell_type": "code",
   "execution_count": null,
   "id": "5c8b4b64-ccee-4dd7-8ee0-e8f8ac081157",
   "metadata": {
    "scrolled": true
   },
   "outputs": [],
   "source": [
    "rps4y1_paired_adata_subset.obs.groupby([\"sex\",\"donor_id\"]).count()"
   ]
  },
  {
   "cell_type": "code",
   "execution_count": null,
   "id": "ab12a69d-759d-4bc3-b8b1-8a4c6f2cb52d",
   "metadata": {
    "scrolled": true
   },
   "outputs": [],
   "source": [
    "xist_paired_adata_subset.obs.groupby([\"sex\",\"donor_id\"]).count()"
   ]
  },
  {
   "cell_type": "code",
   "execution_count": null,
   "id": "6af0c2e2-2194-4304-b192-4b920a3abbb3",
   "metadata": {},
   "outputs": [],
   "source": [
    "# Now, generate the plot and save it\n",
    "sc.pl.violin(paired_adata, [\"RPS4Y1\", \"XIST\"], use_raw=False, groupby=\"sex\", layer=\"log1p_norm\", save=\"_xy_check.png\")"
   ]
  },
  {
   "cell_type": "markdown",
   "id": "a6ee4393-3284-41cf-9ed1-53d027e7df46",
   "metadata": {},
   "source": [
    "## Check X and Y chromosome related genes"
   ]
  },
  {
   "cell_type": "code",
   "execution_count": null,
   "id": "a27403d4-499b-4ffb-88c6-c6791364f738",
   "metadata": {},
   "outputs": [],
   "source": [
    "x_genes =  [\"XIST\",\"TSIX\"]\n",
    "y_genes = [\"RPS4Y1\",\"RPS4Y2\",\"ZFY\",\"UTY\"]"
   ]
  },
  {
   "cell_type": "code",
   "execution_count": null,
   "id": "1c597cf3-2991-454f-9a00-ec69b2ea398f",
   "metadata": {},
   "outputs": [],
   "source": [
    "sc.pl.violin(paired_adata, x_genes, use_raw=False, groupby=\"sex\", layer=\"log1p_norm\")"
   ]
  },
  {
   "cell_type": "code",
   "execution_count": null,
   "id": "ff3c5765-034a-41b2-9e78-7851a1b4425f",
   "metadata": {
    "scrolled": true
   },
   "outputs": [],
   "source": [
    "sc.pl.violin(paired_adata, y_genes, use_raw=False, groupby=\"sex\", layer=\"log1p_norm\", save=\"violin_y.png\")"
   ]
  },
  {
   "cell_type": "code",
   "execution_count": null,
   "id": "ba630499-714b-4a87-9dd6-0f64b593e84f",
   "metadata": {},
   "outputs": [],
   "source": [
    "paired_adata.var.index.name = None"
   ]
  },
  {
   "cell_type": "code",
   "execution_count": null,
   "id": "82311d3a-3ba9-4a31-b116-b44349d9ece6",
   "metadata": {},
   "outputs": [],
   "source": [
    "#paired_adata.write_h5ad(\"/data/projects/2023/LCBiome/nsclc_gender_atlas_tmp/out/011_analysis_paired_remove_xy/pseudobulk/paired_adata_clean.h5ad\")"
   ]
  },
  {
   "cell_type": "code",
   "execution_count": 6,
   "id": "f3722162-a315-45cc-b399-023a662d7e92",
   "metadata": {},
   "outputs": [],
   "source": [
    "paired_adata = sc.read_h5ad(\"/data/projects/2023/LCBiome/nsclc_gender_atlas_tmp/out/011_analysis_paired_remove_xy/pseudobulk/paired_adata_clean.h5ad\")"
   ]
  },
  {
   "cell_type": "code",
   "execution_count": 7,
   "id": "0a94ccc9-31da-4bc9-a6b1-6cc50f516384",
   "metadata": {},
   "outputs": [
    {
     "data": {
      "text/plain": [
       "AnnData object with n_obs × n_vars = 466234 × 17811\n",
       "    obs: 'sample', 'uicc_stage', 'ever_smoker', 'age', 'donor_id', 'origin', 'dataset', 'ann_fine', 'cell_type_predicted', 'doublet_status', 'leiden', 'n_genes_by_counts', 'total_counts', 'total_counts_mito', 'pct_counts_mito', 'ann_coarse', 'cell_type_tumor', 'tumor_stage', 'EGFR_mutation', 'TP53_mutation', 'ALK_mutation', 'BRAF_mutation', 'ERBB2_mutation', 'KRAS_mutation', 'ROS_mutation', 'origin_fine', 'study', 'platform', 'cell_type_major', 'cell_type_neutro', 'cell_type_neutro_coarse', 'suspension_type', 'assay_ontology_term_id', 'cell_type_ontology_term_id', 'development_stage_ontology_term_id', 'disease_ontology_term_id', 'self_reported_ethnicity_ontology_term_id', 'is_primary_data', 'organism_ontology_term_id', 'sex_ontology_term_id', 'tissue_ontology_term_id', 'cell_type', 'assay', 'disease', 'organism', 'sex', 'tissue', 'self_reported_ethnicity', 'development_stage'\n",
       "    var: 'is_highly_variable', 'mito', 'n_cells_by_counts', 'mean_counts', 'pct_dropout_by_counts', 'total_counts', 'feature_is_filtered', 'feature_name', 'feature_reference', 'feature_biotype'\n",
       "    uns: '_scvi', 'ann_fine_colors', 'batch_condition', 'cell_type_major_colors', 'cell_type_tumor_colors', 'dataset_colors', 'default_embedding', 'hvg', 'log1p', 'neighbors', 'origin_colors', 'platform_colors', 'schema_version', 'sex_colors', 'title', 'umap'\n",
       "    obsm: 'X_scANVI', 'X_scVI', 'X_umap'\n",
       "    layers: 'count', 'counts_length_scaled', 'log1p_norm'\n",
       "    obsp: 'connectivities', 'distances'"
      ]
     },
     "execution_count": 7,
     "metadata": {},
     "output_type": "execute_result"
    }
   ],
   "source": [
    "paired_adata"
   ]
  },
  {
   "cell_type": "markdown",
   "id": "bb0f92a1-9307-45cb-9d7e-50930d2c30ab",
   "metadata": {},
   "source": [
    "## SUMMARY \n",
    "- We used the sex annotation that was given in the respective datasets\n",
    "- These annotations were confirmed by our analysis, as no Ygenes were in the female cohort. "
   ]
  },
  {
   "cell_type": "markdown",
   "id": "bef00bec-b6df-4257-9e70-200cb468058b",
   "metadata": {},
   "source": [
    "### 04.Compute pseudobulk"
   ]
  },
  {
   "cell_type": "code",
   "execution_count": 8,
   "id": "bb0d6aa1-0b83-4461-9f35-24a313ce2873",
   "metadata": {},
   "outputs": [],
   "source": [
    "path = \"/data/projects/2023/LCBiome/nsclc_gender_atlas_tmp/out/011_analysis_paired_remove_xy/pseudobulk/\""
   ]
  },
  {
   "cell_type": "code",
   "execution_count": null,
   "id": "69c9e20d-fc6c-4596-94a9-c73627a8a3d0",
   "metadata": {
    "scrolled": true
   },
   "outputs": [],
   "source": [
    "# Get pseudo-bulk profile\n",
    "#pdata = dc.get_pseudobulk(\n",
    "#    paired_adata,\n",
    "#    sample_col='sample',\n",
    "#    groups_col='donor_id',\n",
    "#    layer='count',\n",
    "#    min_cells=0,\n",
    "#    min_counts=0\n",
    "#)"
   ]
  },
  {
   "cell_type": "code",
   "execution_count": 9,
   "id": "cbafbb6f-a78e-46b8-b998-b19f20398d7a",
   "metadata": {},
   "outputs": [
    {
     "name": "stderr",
     "output_type": "stream",
     "text": [
      "/home/kvalem/.conda/envs/crc_atlas/lib/python3.11/site-packages/decoupler/utils_anndata.py:181: FutureWarning: The default of observed=False is deprecated and will be changed to True in a future version of pandas. Pass observed=False to retain current behavior or observed=True to adopt the future default and silence this warning.\n",
      "  cols = obs.groupby([sample_col, groups_col]).apply(lambda x: x.apply(lambda y: len(y.unique()) == 1)).all(0)\n",
      "/home/kvalem/.local/lib/python3.11/site-packages/anndata/_core/anndata.py:430: FutureWarning: The dtype argument is deprecated and will be removed in late 2024.\n",
      "  warnings.warn(\n"
     ]
    },
    {
     "data": {
      "text/plain": [
       "AnnData object with n_obs × n_vars = 1666 × 17811\n",
       "    obs: 'sample', 'uicc_stage', 'ever_smoker', 'age', 'donor_id', 'origin', 'dataset', 'doublet_status', 'ann_coarse', 'tumor_stage', 'EGFR_mutation', 'TP53_mutation', 'ALK_mutation', 'BRAF_mutation', 'ERBB2_mutation', 'KRAS_mutation', 'ROS_mutation', 'origin_fine', 'study', 'platform', 'suspension_type', 'assay_ontology_term_id', 'development_stage_ontology_term_id', 'disease_ontology_term_id', 'self_reported_ethnicity_ontology_term_id', 'is_primary_data', 'organism_ontology_term_id', 'sex_ontology_term_id', 'tissue_ontology_term_id', 'cell_type', 'assay', 'disease', 'organism', 'sex', 'tissue', 'self_reported_ethnicity', 'development_stage', 'cell_type_origin', 'psbulk_n_cells', 'psbulk_counts'\n",
       "    var: 'is_highly_variable', 'mito', 'n_cells_by_counts', 'mean_counts', 'pct_dropout_by_counts', 'total_counts', 'feature_is_filtered', 'feature_name', 'feature_reference', 'feature_biotype'\n",
       "    layers: 'psbulk_props'"
      ]
     },
     "execution_count": 9,
     "metadata": {},
     "output_type": "execute_result"
    }
   ],
   "source": [
    "# Get pseudo-bulk profile\n",
    "pdata = dc.get_pseudobulk(\n",
    "    paired_adata,\n",
    "    sample_col=\"sample\",\n",
    "    groups_col=[\"cell_type\",\"origin\"],\n",
    "    layer=\"count\",  # layer where raw counts are store in adata\n",
    "    mode=\"sum\",\n",
    "    min_cells=0,  # we are setting this to 0 and filter in an explicit, separate step.\n",
    "    min_counts=0,\n",
    ")\n",
    "pdata"
   ]
  },
  {
   "cell_type": "code",
   "execution_count": 10,
   "id": "5742b5bd-f1a5-4890-b0ab-255e0da6d7f7",
   "metadata": {},
   "outputs": [],
   "source": [
    "pdata.layers[\"counts\"] = pdata.X"
   ]
  },
  {
   "cell_type": "code",
   "execution_count": 11,
   "id": "0f94e6ca-b817-4499-b0b4-740ff3dcb0bd",
   "metadata": {},
   "outputs": [],
   "source": [
    "scales_counts = sc.pp.normalize_total(pdata, target_sum=None, inplace=False)\n",
    "# log1p transform\n",
    "pdata.layers[\"log1p_norm\"] = sc.pp.log1p(scales_counts[\"X\"], copy=True)"
   ]
  },
  {
   "cell_type": "code",
   "execution_count": 12,
   "id": "4a5e818a-2cf3-463c-a989-feb04064d927",
   "metadata": {},
   "outputs": [],
   "source": [
    "pdata.obs[\"age\"] = pdata.obs[\"age\"].astype(\"float64\")\n",
    "pdata.obs[\"is_primary_data\"] = pdata.obs[\"is_primary_data\"].astype(bool)"
   ]
  },
  {
   "cell_type": "code",
   "execution_count": 13,
   "id": "4047d97c-e2da-4608-9f0f-ac17759b3f0d",
   "metadata": {},
   "outputs": [
    {
     "data": {
      "text/plain": [
       "'/data/projects/2023/LCBiome/nsclc_gender_atlas_tmp/out/011_analysis_paired_remove_xy/pseudobulk/'"
      ]
     },
     "execution_count": 13,
     "metadata": {},
     "output_type": "execute_result"
    }
   ],
   "source": [
    "path"
   ]
  },
  {
   "cell_type": "code",
   "execution_count": 14,
   "id": "f450bbe4-a870-4838-9779-4a38b2e3b31d",
   "metadata": {},
   "outputs": [],
   "source": [
    "pdata.write_h5ad(f\"{path}/pdata_cell_type.h5ad\")"
   ]
  },
  {
   "cell_type": "code",
   "execution_count": null,
   "id": "0472fb14-25c1-47f7-9519-36e314da0b85",
   "metadata": {},
   "outputs": [],
   "source": [
    "#pdata = sc.read_h5ad(f\"{path}/out/008_analysis_paired_luad/tables/input/pdata.h5ad\")"
   ]
  },
  {
   "cell_type": "code",
   "execution_count": 15,
   "id": "6bb74942-4bee-4dbd-b68b-d514c4d10e5a",
   "metadata": {},
   "outputs": [
    {
     "data": {
      "text/html": [
       "<div>\n",
       "<style scoped>\n",
       "    .dataframe tbody tr th:only-of-type {\n",
       "        vertical-align: middle;\n",
       "    }\n",
       "\n",
       "    .dataframe tbody tr th {\n",
       "        vertical-align: top;\n",
       "    }\n",
       "\n",
       "    .dataframe thead th {\n",
       "        text-align: right;\n",
       "    }\n",
       "</style>\n",
       "<table border=\"1\" class=\"dataframe\">\n",
       "  <thead>\n",
       "    <tr style=\"text-align: right;\">\n",
       "      <th></th>\n",
       "      <th>sample</th>\n",
       "      <th>uicc_stage</th>\n",
       "      <th>ever_smoker</th>\n",
       "      <th>age</th>\n",
       "      <th>donor_id</th>\n",
       "      <th>origin</th>\n",
       "      <th>dataset</th>\n",
       "      <th>doublet_status</th>\n",
       "      <th>ann_coarse</th>\n",
       "      <th>tumor_stage</th>\n",
       "      <th>...</th>\n",
       "      <th>assay</th>\n",
       "      <th>disease</th>\n",
       "      <th>organism</th>\n",
       "      <th>sex</th>\n",
       "      <th>tissue</th>\n",
       "      <th>self_reported_ethnicity</th>\n",
       "      <th>development_stage</th>\n",
       "      <th>cell_type_origin</th>\n",
       "      <th>psbulk_n_cells</th>\n",
       "      <th>psbulk_counts</th>\n",
       "    </tr>\n",
       "  </thead>\n",
       "  <tbody>\n",
       "    <tr>\n",
       "      <th>Goveia_Carmeliet_2020_patient_41_normal_adjacent_B cell_normal_adjacent</th>\n",
       "      <td>Goveia_Carmeliet_2020_patient_41_normal_adjacent</td>\n",
       "      <td>II</td>\n",
       "      <td>yes</td>\n",
       "      <td>69.0</td>\n",
       "      <td>Goveia_Carmeliet_2020_patient_41</td>\n",
       "      <td>normal_adjacent</td>\n",
       "      <td>Goveia_Carmeliet_2020</td>\n",
       "      <td>singlet</td>\n",
       "      <td>B cell</td>\n",
       "      <td>early</td>\n",
       "      <td>...</td>\n",
       "      <td>10x 3' v2</td>\n",
       "      <td>squamous cell lung carcinoma</td>\n",
       "      <td>Homo sapiens</td>\n",
       "      <td>male</td>\n",
       "      <td>lung</td>\n",
       "      <td>unknown</td>\n",
       "      <td>69-year-old human stage</td>\n",
       "      <td>B cell_normal_adjacent</td>\n",
       "      <td>1.0</td>\n",
       "      <td>1764.0</td>\n",
       "    </tr>\n",
       "    <tr>\n",
       "      <th>Goveia_Carmeliet_2020_patient_42_normal_adjacent_B cell_normal_adjacent</th>\n",
       "      <td>Goveia_Carmeliet_2020_patient_42_normal_adjacent</td>\n",
       "      <td>II</td>\n",
       "      <td>yes</td>\n",
       "      <td>74.0</td>\n",
       "      <td>Goveia_Carmeliet_2020_patient_42</td>\n",
       "      <td>normal_adjacent</td>\n",
       "      <td>Goveia_Carmeliet_2020</td>\n",
       "      <td>singlet</td>\n",
       "      <td>B cell</td>\n",
       "      <td>early</td>\n",
       "      <td>...</td>\n",
       "      <td>10x 3' v2</td>\n",
       "      <td>squamous cell lung carcinoma</td>\n",
       "      <td>Homo sapiens</td>\n",
       "      <td>male</td>\n",
       "      <td>lung</td>\n",
       "      <td>unknown</td>\n",
       "      <td>74-year-old human stage</td>\n",
       "      <td>B cell_normal_adjacent</td>\n",
       "      <td>29.0</td>\n",
       "      <td>80625.0</td>\n",
       "    </tr>\n",
       "    <tr>\n",
       "      <th>He_Fan_2021_N1_B cell_normal_adjacent</th>\n",
       "      <td>He_Fan_2021_N1</td>\n",
       "      <td>I</td>\n",
       "      <td>no</td>\n",
       "      <td>48.0</td>\n",
       "      <td>He_Fan_2021_P1</td>\n",
       "      <td>normal_adjacent</td>\n",
       "      <td>He_Fan_2021</td>\n",
       "      <td>singlet</td>\n",
       "      <td>B cell</td>\n",
       "      <td>early</td>\n",
       "      <td>...</td>\n",
       "      <td>10x 3' v2</td>\n",
       "      <td>lung adenocarcinoma</td>\n",
       "      <td>Homo sapiens</td>\n",
       "      <td>female</td>\n",
       "      <td>lung</td>\n",
       "      <td>unknown</td>\n",
       "      <td>48-year-old human stage</td>\n",
       "      <td>B cell_normal_adjacent</td>\n",
       "      <td>75.0</td>\n",
       "      <td>102672.0</td>\n",
       "    </tr>\n",
       "    <tr>\n",
       "      <th>He_Fan_2021_N2_B cell_normal_adjacent</th>\n",
       "      <td>He_Fan_2021_N2</td>\n",
       "      <td>II</td>\n",
       "      <td>yes</td>\n",
       "      <td>61.0</td>\n",
       "      <td>He_Fan_2021_P2</td>\n",
       "      <td>normal_adjacent</td>\n",
       "      <td>He_Fan_2021</td>\n",
       "      <td>singlet</td>\n",
       "      <td>B cell</td>\n",
       "      <td>early</td>\n",
       "      <td>...</td>\n",
       "      <td>10x 3' v2</td>\n",
       "      <td>lung adenocarcinoma</td>\n",
       "      <td>Homo sapiens</td>\n",
       "      <td>male</td>\n",
       "      <td>lung</td>\n",
       "      <td>unknown</td>\n",
       "      <td>61-year-old human stage</td>\n",
       "      <td>B cell_normal_adjacent</td>\n",
       "      <td>11.0</td>\n",
       "      <td>18468.0</td>\n",
       "    </tr>\n",
       "    <tr>\n",
       "      <th>He_Fan_2021_N3_B cell_normal_adjacent</th>\n",
       "      <td>He_Fan_2021_N3</td>\n",
       "      <td>I</td>\n",
       "      <td>yes</td>\n",
       "      <td>58.0</td>\n",
       "      <td>He_Fan_2021_P3</td>\n",
       "      <td>normal_adjacent</td>\n",
       "      <td>He_Fan_2021</td>\n",
       "      <td>singlet</td>\n",
       "      <td>B cell</td>\n",
       "      <td>early</td>\n",
       "      <td>...</td>\n",
       "      <td>10x 3' v2</td>\n",
       "      <td>lung adenocarcinoma</td>\n",
       "      <td>Homo sapiens</td>\n",
       "      <td>female</td>\n",
       "      <td>lung</td>\n",
       "      <td>unknown</td>\n",
       "      <td>58-year-old human stage</td>\n",
       "      <td>B cell_normal_adjacent</td>\n",
       "      <td>21.0</td>\n",
       "      <td>26543.0</td>\n",
       "    </tr>\n",
       "    <tr>\n",
       "      <th>...</th>\n",
       "      <td>...</td>\n",
       "      <td>...</td>\n",
       "      <td>...</td>\n",
       "      <td>...</td>\n",
       "      <td>...</td>\n",
       "      <td>...</td>\n",
       "      <td>...</td>\n",
       "      <td>...</td>\n",
       "      <td>...</td>\n",
       "      <td>...</td>\n",
       "      <td>...</td>\n",
       "      <td>...</td>\n",
       "      <td>...</td>\n",
       "      <td>...</td>\n",
       "      <td>...</td>\n",
       "      <td>...</td>\n",
       "      <td>...</td>\n",
       "      <td>...</td>\n",
       "      <td>...</td>\n",
       "      <td>...</td>\n",
       "      <td>...</td>\n",
       "    </tr>\n",
       "    <tr>\n",
       "      <th>UKIM-V-2_P8_tumor_primary_regulatory T cell_tumor_primary</th>\n",
       "      <td>UKIM-V-2_P8_tumor_primary</td>\n",
       "      <td>I</td>\n",
       "      <td>yes</td>\n",
       "      <td>67.0</td>\n",
       "      <td>UKIM-V-2_P8</td>\n",
       "      <td>tumor_primary</td>\n",
       "      <td>UKIM-V-2</td>\n",
       "      <td>singlet</td>\n",
       "      <td>T cell</td>\n",
       "      <td>early</td>\n",
       "      <td>...</td>\n",
       "      <td>BD Rhapsody Whole Transcriptome Analysis</td>\n",
       "      <td>squamous cell lung carcinoma</td>\n",
       "      <td>Homo sapiens</td>\n",
       "      <td>male</td>\n",
       "      <td>lung</td>\n",
       "      <td>unknown</td>\n",
       "      <td>67-year-old human stage</td>\n",
       "      <td>regulatory T cell_tumor_primary</td>\n",
       "      <td>46.0</td>\n",
       "      <td>168032.0</td>\n",
       "    </tr>\n",
       "    <tr>\n",
       "      <th>UKIM-V-2_P9_tumor_primary_regulatory T cell_tumor_primary</th>\n",
       "      <td>UKIM-V-2_P9_tumor_primary</td>\n",
       "      <td>I</td>\n",
       "      <td>yes</td>\n",
       "      <td>69.0</td>\n",
       "      <td>UKIM-V-2_P9</td>\n",
       "      <td>tumor_primary</td>\n",
       "      <td>UKIM-V-2</td>\n",
       "      <td>singlet</td>\n",
       "      <td>T cell</td>\n",
       "      <td>early</td>\n",
       "      <td>...</td>\n",
       "      <td>BD Rhapsody Whole Transcriptome Analysis</td>\n",
       "      <td>lung adenocarcinoma</td>\n",
       "      <td>Homo sapiens</td>\n",
       "      <td>male</td>\n",
       "      <td>lung</td>\n",
       "      <td>unknown</td>\n",
       "      <td>69-year-old human stage</td>\n",
       "      <td>regulatory T cell_tumor_primary</td>\n",
       "      <td>629.0</td>\n",
       "      <td>1196851.0</td>\n",
       "    </tr>\n",
       "    <tr>\n",
       "      <th>UKIM-V_P1_tumor_primary_regulatory T cell_tumor_primary</th>\n",
       "      <td>UKIM-V_P1_tumor_primary</td>\n",
       "      <td>I</td>\n",
       "      <td>yes</td>\n",
       "      <td>65.0</td>\n",
       "      <td>UKIM-V_P1</td>\n",
       "      <td>tumor_primary</td>\n",
       "      <td>UKIM-V</td>\n",
       "      <td>singlet</td>\n",
       "      <td>T cell</td>\n",
       "      <td>early</td>\n",
       "      <td>...</td>\n",
       "      <td>BD Rhapsody Whole Transcriptome Analysis</td>\n",
       "      <td>lung adenocarcinoma</td>\n",
       "      <td>Homo sapiens</td>\n",
       "      <td>female</td>\n",
       "      <td>lung</td>\n",
       "      <td>unknown</td>\n",
       "      <td>65-year-old human stage</td>\n",
       "      <td>regulatory T cell_tumor_primary</td>\n",
       "      <td>33.0</td>\n",
       "      <td>449844.0</td>\n",
       "    </tr>\n",
       "    <tr>\n",
       "      <th>UKIM-V_P2_tumor_primary_regulatory T cell_tumor_primary</th>\n",
       "      <td>UKIM-V_P2_tumor_primary</td>\n",
       "      <td>I</td>\n",
       "      <td>yes</td>\n",
       "      <td>70.0</td>\n",
       "      <td>UKIM-V_P2</td>\n",
       "      <td>tumor_primary</td>\n",
       "      <td>UKIM-V</td>\n",
       "      <td>singlet</td>\n",
       "      <td>T cell</td>\n",
       "      <td>early</td>\n",
       "      <td>...</td>\n",
       "      <td>BD Rhapsody Whole Transcriptome Analysis</td>\n",
       "      <td>squamous cell lung carcinoma</td>\n",
       "      <td>Homo sapiens</td>\n",
       "      <td>female</td>\n",
       "      <td>lung</td>\n",
       "      <td>unknown</td>\n",
       "      <td>70-year-old human stage</td>\n",
       "      <td>regulatory T cell_tumor_primary</td>\n",
       "      <td>213.0</td>\n",
       "      <td>1875806.0</td>\n",
       "    </tr>\n",
       "    <tr>\n",
       "      <th>UKIM-V_P3_tumor_primary_regulatory T cell_tumor_primary</th>\n",
       "      <td>UKIM-V_P3_tumor_primary</td>\n",
       "      <td>I</td>\n",
       "      <td>yes</td>\n",
       "      <td>64.0</td>\n",
       "      <td>UKIM-V_P3</td>\n",
       "      <td>tumor_primary</td>\n",
       "      <td>UKIM-V</td>\n",
       "      <td>singlet</td>\n",
       "      <td>T cell</td>\n",
       "      <td>early</td>\n",
       "      <td>...</td>\n",
       "      <td>BD Rhapsody Whole Transcriptome Analysis</td>\n",
       "      <td>lung adenocarcinoma</td>\n",
       "      <td>Homo sapiens</td>\n",
       "      <td>male</td>\n",
       "      <td>lung</td>\n",
       "      <td>unknown</td>\n",
       "      <td>64-year-old human stage</td>\n",
       "      <td>regulatory T cell_tumor_primary</td>\n",
       "      <td>129.0</td>\n",
       "      <td>754023.0</td>\n",
       "    </tr>\n",
       "  </tbody>\n",
       "</table>\n",
       "<p>1666 rows × 40 columns</p>\n",
       "</div>"
      ],
      "text/plain": [
       "                                                                                              sample  \\\n",
       "Goveia_Carmeliet_2020_patient_41_normal_adjacen...  Goveia_Carmeliet_2020_patient_41_normal_adjacent   \n",
       "Goveia_Carmeliet_2020_patient_42_normal_adjacen...  Goveia_Carmeliet_2020_patient_42_normal_adjacent   \n",
       "He_Fan_2021_N1_B cell_normal_adjacent                                                 He_Fan_2021_N1   \n",
       "He_Fan_2021_N2_B cell_normal_adjacent                                                 He_Fan_2021_N2   \n",
       "He_Fan_2021_N3_B cell_normal_adjacent                                                 He_Fan_2021_N3   \n",
       "...                                                                                              ...   \n",
       "UKIM-V-2_P8_tumor_primary_regulatory T cell_tum...                         UKIM-V-2_P8_tumor_primary   \n",
       "UKIM-V-2_P9_tumor_primary_regulatory T cell_tum...                         UKIM-V-2_P9_tumor_primary   \n",
       "UKIM-V_P1_tumor_primary_regulatory T cell_tumor...                           UKIM-V_P1_tumor_primary   \n",
       "UKIM-V_P2_tumor_primary_regulatory T cell_tumor...                           UKIM-V_P2_tumor_primary   \n",
       "UKIM-V_P3_tumor_primary_regulatory T cell_tumor...                           UKIM-V_P3_tumor_primary   \n",
       "\n",
       "                                                   uicc_stage ever_smoker  \\\n",
       "Goveia_Carmeliet_2020_patient_41_normal_adjacen...         II         yes   \n",
       "Goveia_Carmeliet_2020_patient_42_normal_adjacen...         II         yes   \n",
       "He_Fan_2021_N1_B cell_normal_adjacent                       I          no   \n",
       "He_Fan_2021_N2_B cell_normal_adjacent                      II         yes   \n",
       "He_Fan_2021_N3_B cell_normal_adjacent                       I         yes   \n",
       "...                                                       ...         ...   \n",
       "UKIM-V-2_P8_tumor_primary_regulatory T cell_tum...          I         yes   \n",
       "UKIM-V-2_P9_tumor_primary_regulatory T cell_tum...          I         yes   \n",
       "UKIM-V_P1_tumor_primary_regulatory T cell_tumor...          I         yes   \n",
       "UKIM-V_P2_tumor_primary_regulatory T cell_tumor...          I         yes   \n",
       "UKIM-V_P3_tumor_primary_regulatory T cell_tumor...          I         yes   \n",
       "\n",
       "                                                     age  \\\n",
       "Goveia_Carmeliet_2020_patient_41_normal_adjacen...  69.0   \n",
       "Goveia_Carmeliet_2020_patient_42_normal_adjacen...  74.0   \n",
       "He_Fan_2021_N1_B cell_normal_adjacent               48.0   \n",
       "He_Fan_2021_N2_B cell_normal_adjacent               61.0   \n",
       "He_Fan_2021_N3_B cell_normal_adjacent               58.0   \n",
       "...                                                  ...   \n",
       "UKIM-V-2_P8_tumor_primary_regulatory T cell_tum...  67.0   \n",
       "UKIM-V-2_P9_tumor_primary_regulatory T cell_tum...  69.0   \n",
       "UKIM-V_P1_tumor_primary_regulatory T cell_tumor...  65.0   \n",
       "UKIM-V_P2_tumor_primary_regulatory T cell_tumor...  70.0   \n",
       "UKIM-V_P3_tumor_primary_regulatory T cell_tumor...  64.0   \n",
       "\n",
       "                                                                            donor_id  \\\n",
       "Goveia_Carmeliet_2020_patient_41_normal_adjacen...  Goveia_Carmeliet_2020_patient_41   \n",
       "Goveia_Carmeliet_2020_patient_42_normal_adjacen...  Goveia_Carmeliet_2020_patient_42   \n",
       "He_Fan_2021_N1_B cell_normal_adjacent                                 He_Fan_2021_P1   \n",
       "He_Fan_2021_N2_B cell_normal_adjacent                                 He_Fan_2021_P2   \n",
       "He_Fan_2021_N3_B cell_normal_adjacent                                 He_Fan_2021_P3   \n",
       "...                                                                              ...   \n",
       "UKIM-V-2_P8_tumor_primary_regulatory T cell_tum...                       UKIM-V-2_P8   \n",
       "UKIM-V-2_P9_tumor_primary_regulatory T cell_tum...                       UKIM-V-2_P9   \n",
       "UKIM-V_P1_tumor_primary_regulatory T cell_tumor...                         UKIM-V_P1   \n",
       "UKIM-V_P2_tumor_primary_regulatory T cell_tumor...                         UKIM-V_P2   \n",
       "UKIM-V_P3_tumor_primary_regulatory T cell_tumor...                         UKIM-V_P3   \n",
       "\n",
       "                                                             origin  \\\n",
       "Goveia_Carmeliet_2020_patient_41_normal_adjacen...  normal_adjacent   \n",
       "Goveia_Carmeliet_2020_patient_42_normal_adjacen...  normal_adjacent   \n",
       "He_Fan_2021_N1_B cell_normal_adjacent               normal_adjacent   \n",
       "He_Fan_2021_N2_B cell_normal_adjacent               normal_adjacent   \n",
       "He_Fan_2021_N3_B cell_normal_adjacent               normal_adjacent   \n",
       "...                                                             ...   \n",
       "UKIM-V-2_P8_tumor_primary_regulatory T cell_tum...    tumor_primary   \n",
       "UKIM-V-2_P9_tumor_primary_regulatory T cell_tum...    tumor_primary   \n",
       "UKIM-V_P1_tumor_primary_regulatory T cell_tumor...    tumor_primary   \n",
       "UKIM-V_P2_tumor_primary_regulatory T cell_tumor...    tumor_primary   \n",
       "UKIM-V_P3_tumor_primary_regulatory T cell_tumor...    tumor_primary   \n",
       "\n",
       "                                                                  dataset  \\\n",
       "Goveia_Carmeliet_2020_patient_41_normal_adjacen...  Goveia_Carmeliet_2020   \n",
       "Goveia_Carmeliet_2020_patient_42_normal_adjacen...  Goveia_Carmeliet_2020   \n",
       "He_Fan_2021_N1_B cell_normal_adjacent                         He_Fan_2021   \n",
       "He_Fan_2021_N2_B cell_normal_adjacent                         He_Fan_2021   \n",
       "He_Fan_2021_N3_B cell_normal_adjacent                         He_Fan_2021   \n",
       "...                                                                   ...   \n",
       "UKIM-V-2_P8_tumor_primary_regulatory T cell_tum...               UKIM-V-2   \n",
       "UKIM-V-2_P9_tumor_primary_regulatory T cell_tum...               UKIM-V-2   \n",
       "UKIM-V_P1_tumor_primary_regulatory T cell_tumor...                 UKIM-V   \n",
       "UKIM-V_P2_tumor_primary_regulatory T cell_tumor...                 UKIM-V   \n",
       "UKIM-V_P3_tumor_primary_regulatory T cell_tumor...                 UKIM-V   \n",
       "\n",
       "                                                   doublet_status ann_coarse  \\\n",
       "Goveia_Carmeliet_2020_patient_41_normal_adjacen...        singlet     B cell   \n",
       "Goveia_Carmeliet_2020_patient_42_normal_adjacen...        singlet     B cell   \n",
       "He_Fan_2021_N1_B cell_normal_adjacent                     singlet     B cell   \n",
       "He_Fan_2021_N2_B cell_normal_adjacent                     singlet     B cell   \n",
       "He_Fan_2021_N3_B cell_normal_adjacent                     singlet     B cell   \n",
       "...                                                           ...        ...   \n",
       "UKIM-V-2_P8_tumor_primary_regulatory T cell_tum...        singlet     T cell   \n",
       "UKIM-V-2_P9_tumor_primary_regulatory T cell_tum...        singlet     T cell   \n",
       "UKIM-V_P1_tumor_primary_regulatory T cell_tumor...        singlet     T cell   \n",
       "UKIM-V_P2_tumor_primary_regulatory T cell_tumor...        singlet     T cell   \n",
       "UKIM-V_P3_tumor_primary_regulatory T cell_tumor...        singlet     T cell   \n",
       "\n",
       "                                                   tumor_stage  ...  \\\n",
       "Goveia_Carmeliet_2020_patient_41_normal_adjacen...       early  ...   \n",
       "Goveia_Carmeliet_2020_patient_42_normal_adjacen...       early  ...   \n",
       "He_Fan_2021_N1_B cell_normal_adjacent                    early  ...   \n",
       "He_Fan_2021_N2_B cell_normal_adjacent                    early  ...   \n",
       "He_Fan_2021_N3_B cell_normal_adjacent                    early  ...   \n",
       "...                                                        ...  ...   \n",
       "UKIM-V-2_P8_tumor_primary_regulatory T cell_tum...       early  ...   \n",
       "UKIM-V-2_P9_tumor_primary_regulatory T cell_tum...       early  ...   \n",
       "UKIM-V_P1_tumor_primary_regulatory T cell_tumor...       early  ...   \n",
       "UKIM-V_P2_tumor_primary_regulatory T cell_tumor...       early  ...   \n",
       "UKIM-V_P3_tumor_primary_regulatory T cell_tumor...       early  ...   \n",
       "\n",
       "                                                                                       assay  \\\n",
       "Goveia_Carmeliet_2020_patient_41_normal_adjacen...                                 10x 3' v2   \n",
       "Goveia_Carmeliet_2020_patient_42_normal_adjacen...                                 10x 3' v2   \n",
       "He_Fan_2021_N1_B cell_normal_adjacent                                              10x 3' v2   \n",
       "He_Fan_2021_N2_B cell_normal_adjacent                                              10x 3' v2   \n",
       "He_Fan_2021_N3_B cell_normal_adjacent                                              10x 3' v2   \n",
       "...                                                                                      ...   \n",
       "UKIM-V-2_P8_tumor_primary_regulatory T cell_tum...  BD Rhapsody Whole Transcriptome Analysis   \n",
       "UKIM-V-2_P9_tumor_primary_regulatory T cell_tum...  BD Rhapsody Whole Transcriptome Analysis   \n",
       "UKIM-V_P1_tumor_primary_regulatory T cell_tumor...  BD Rhapsody Whole Transcriptome Analysis   \n",
       "UKIM-V_P2_tumor_primary_regulatory T cell_tumor...  BD Rhapsody Whole Transcriptome Analysis   \n",
       "UKIM-V_P3_tumor_primary_regulatory T cell_tumor...  BD Rhapsody Whole Transcriptome Analysis   \n",
       "\n",
       "                                                                         disease  \\\n",
       "Goveia_Carmeliet_2020_patient_41_normal_adjacen...  squamous cell lung carcinoma   \n",
       "Goveia_Carmeliet_2020_patient_42_normal_adjacen...  squamous cell lung carcinoma   \n",
       "He_Fan_2021_N1_B cell_normal_adjacent                        lung adenocarcinoma   \n",
       "He_Fan_2021_N2_B cell_normal_adjacent                        lung adenocarcinoma   \n",
       "He_Fan_2021_N3_B cell_normal_adjacent                        lung adenocarcinoma   \n",
       "...                                                                          ...   \n",
       "UKIM-V-2_P8_tumor_primary_regulatory T cell_tum...  squamous cell lung carcinoma   \n",
       "UKIM-V-2_P9_tumor_primary_regulatory T cell_tum...           lung adenocarcinoma   \n",
       "UKIM-V_P1_tumor_primary_regulatory T cell_tumor...           lung adenocarcinoma   \n",
       "UKIM-V_P2_tumor_primary_regulatory T cell_tumor...  squamous cell lung carcinoma   \n",
       "UKIM-V_P3_tumor_primary_regulatory T cell_tumor...           lung adenocarcinoma   \n",
       "\n",
       "                                                        organism     sex  \\\n",
       "Goveia_Carmeliet_2020_patient_41_normal_adjacen...  Homo sapiens    male   \n",
       "Goveia_Carmeliet_2020_patient_42_normal_adjacen...  Homo sapiens    male   \n",
       "He_Fan_2021_N1_B cell_normal_adjacent               Homo sapiens  female   \n",
       "He_Fan_2021_N2_B cell_normal_adjacent               Homo sapiens    male   \n",
       "He_Fan_2021_N3_B cell_normal_adjacent               Homo sapiens  female   \n",
       "...                                                          ...     ...   \n",
       "UKIM-V-2_P8_tumor_primary_regulatory T cell_tum...  Homo sapiens    male   \n",
       "UKIM-V-2_P9_tumor_primary_regulatory T cell_tum...  Homo sapiens    male   \n",
       "UKIM-V_P1_tumor_primary_regulatory T cell_tumor...  Homo sapiens  female   \n",
       "UKIM-V_P2_tumor_primary_regulatory T cell_tumor...  Homo sapiens  female   \n",
       "UKIM-V_P3_tumor_primary_regulatory T cell_tumor...  Homo sapiens    male   \n",
       "\n",
       "                                                   tissue  \\\n",
       "Goveia_Carmeliet_2020_patient_41_normal_adjacen...   lung   \n",
       "Goveia_Carmeliet_2020_patient_42_normal_adjacen...   lung   \n",
       "He_Fan_2021_N1_B cell_normal_adjacent                lung   \n",
       "He_Fan_2021_N2_B cell_normal_adjacent                lung   \n",
       "He_Fan_2021_N3_B cell_normal_adjacent                lung   \n",
       "...                                                   ...   \n",
       "UKIM-V-2_P8_tumor_primary_regulatory T cell_tum...   lung   \n",
       "UKIM-V-2_P9_tumor_primary_regulatory T cell_tum...   lung   \n",
       "UKIM-V_P1_tumor_primary_regulatory T cell_tumor...   lung   \n",
       "UKIM-V_P2_tumor_primary_regulatory T cell_tumor...   lung   \n",
       "UKIM-V_P3_tumor_primary_regulatory T cell_tumor...   lung   \n",
       "\n",
       "                                                   self_reported_ethnicity  \\\n",
       "Goveia_Carmeliet_2020_patient_41_normal_adjacen...                 unknown   \n",
       "Goveia_Carmeliet_2020_patient_42_normal_adjacen...                 unknown   \n",
       "He_Fan_2021_N1_B cell_normal_adjacent                              unknown   \n",
       "He_Fan_2021_N2_B cell_normal_adjacent                              unknown   \n",
       "He_Fan_2021_N3_B cell_normal_adjacent                              unknown   \n",
       "...                                                                    ...   \n",
       "UKIM-V-2_P8_tumor_primary_regulatory T cell_tum...                 unknown   \n",
       "UKIM-V-2_P9_tumor_primary_regulatory T cell_tum...                 unknown   \n",
       "UKIM-V_P1_tumor_primary_regulatory T cell_tumor...                 unknown   \n",
       "UKIM-V_P2_tumor_primary_regulatory T cell_tumor...                 unknown   \n",
       "UKIM-V_P3_tumor_primary_regulatory T cell_tumor...                 unknown   \n",
       "\n",
       "                                                          development_stage  \\\n",
       "Goveia_Carmeliet_2020_patient_41_normal_adjacen...  69-year-old human stage   \n",
       "Goveia_Carmeliet_2020_patient_42_normal_adjacen...  74-year-old human stage   \n",
       "He_Fan_2021_N1_B cell_normal_adjacent               48-year-old human stage   \n",
       "He_Fan_2021_N2_B cell_normal_adjacent               61-year-old human stage   \n",
       "He_Fan_2021_N3_B cell_normal_adjacent               58-year-old human stage   \n",
       "...                                                                     ...   \n",
       "UKIM-V-2_P8_tumor_primary_regulatory T cell_tum...  67-year-old human stage   \n",
       "UKIM-V-2_P9_tumor_primary_regulatory T cell_tum...  69-year-old human stage   \n",
       "UKIM-V_P1_tumor_primary_regulatory T cell_tumor...  65-year-old human stage   \n",
       "UKIM-V_P2_tumor_primary_regulatory T cell_tumor...  70-year-old human stage   \n",
       "UKIM-V_P3_tumor_primary_regulatory T cell_tumor...  64-year-old human stage   \n",
       "\n",
       "                                                                   cell_type_origin  \\\n",
       "Goveia_Carmeliet_2020_patient_41_normal_adjacen...           B cell_normal_adjacent   \n",
       "Goveia_Carmeliet_2020_patient_42_normal_adjacen...           B cell_normal_adjacent   \n",
       "He_Fan_2021_N1_B cell_normal_adjacent                        B cell_normal_adjacent   \n",
       "He_Fan_2021_N2_B cell_normal_adjacent                        B cell_normal_adjacent   \n",
       "He_Fan_2021_N3_B cell_normal_adjacent                        B cell_normal_adjacent   \n",
       "...                                                                             ...   \n",
       "UKIM-V-2_P8_tumor_primary_regulatory T cell_tum...  regulatory T cell_tumor_primary   \n",
       "UKIM-V-2_P9_tumor_primary_regulatory T cell_tum...  regulatory T cell_tumor_primary   \n",
       "UKIM-V_P1_tumor_primary_regulatory T cell_tumor...  regulatory T cell_tumor_primary   \n",
       "UKIM-V_P2_tumor_primary_regulatory T cell_tumor...  regulatory T cell_tumor_primary   \n",
       "UKIM-V_P3_tumor_primary_regulatory T cell_tumor...  regulatory T cell_tumor_primary   \n",
       "\n",
       "                                                   psbulk_n_cells  \\\n",
       "Goveia_Carmeliet_2020_patient_41_normal_adjacen...            1.0   \n",
       "Goveia_Carmeliet_2020_patient_42_normal_adjacen...           29.0   \n",
       "He_Fan_2021_N1_B cell_normal_adjacent                        75.0   \n",
       "He_Fan_2021_N2_B cell_normal_adjacent                        11.0   \n",
       "He_Fan_2021_N3_B cell_normal_adjacent                        21.0   \n",
       "...                                                           ...   \n",
       "UKIM-V-2_P8_tumor_primary_regulatory T cell_tum...           46.0   \n",
       "UKIM-V-2_P9_tumor_primary_regulatory T cell_tum...          629.0   \n",
       "UKIM-V_P1_tumor_primary_regulatory T cell_tumor...           33.0   \n",
       "UKIM-V_P2_tumor_primary_regulatory T cell_tumor...          213.0   \n",
       "UKIM-V_P3_tumor_primary_regulatory T cell_tumor...          129.0   \n",
       "\n",
       "                                                   psbulk_counts  \n",
       "Goveia_Carmeliet_2020_patient_41_normal_adjacen...        1764.0  \n",
       "Goveia_Carmeliet_2020_patient_42_normal_adjacen...       80625.0  \n",
       "He_Fan_2021_N1_B cell_normal_adjacent                   102672.0  \n",
       "He_Fan_2021_N2_B cell_normal_adjacent                    18468.0  \n",
       "He_Fan_2021_N3_B cell_normal_adjacent                    26543.0  \n",
       "...                                                          ...  \n",
       "UKIM-V-2_P8_tumor_primary_regulatory T cell_tum...      168032.0  \n",
       "UKIM-V-2_P9_tumor_primary_regulatory T cell_tum...     1196851.0  \n",
       "UKIM-V_P1_tumor_primary_regulatory T cell_tumor...      449844.0  \n",
       "UKIM-V_P2_tumor_primary_regulatory T cell_tumor...     1875806.0  \n",
       "UKIM-V_P3_tumor_primary_regulatory T cell_tumor...      754023.0  \n",
       "\n",
       "[1666 rows x 40 columns]"
      ]
     },
     "execution_count": 15,
     "metadata": {},
     "output_type": "execute_result"
    }
   ],
   "source": [
    "pdata.obs"
   ]
  },
  {
   "cell_type": "code",
   "execution_count": 16,
   "id": "992f6da9-2f26-4808-9827-9610c7146254",
   "metadata": {},
   "outputs": [
    {
     "data": {
      "image/png": "[encoded data removed]",
      "text/plain": [
       "<Figure size 1200x400 with 3 Axes>"
      ]
     },
     "metadata": {},
     "output_type": "display_data"
    }
   ],
   "source": [
    "dc.plot_psbulk_samples(pdata, groupby=['dataset', 'platform',\"origin\"], figsize=(12, 4))"
   ]
  },
  {
   "cell_type": "code",
   "execution_count": 17,
   "id": "d762a8a9-f602-48ed-a215-b111ecfc18dc",
   "metadata": {},
   "outputs": [],
   "source": [
    "cell_types = pdata.obs[\"cell_type\"].unique()"
   ]
  },
  {
   "cell_type": "code",
   "execution_count": 18,
   "id": "8575ef9c-743b-4f77-917f-0952026f56e2",
   "metadata": {},
   "outputs": [
    {
     "data": {
      "text/plain": [
       "['B cell', 'CD4+ T cell', 'CD8+ T cell', 'dendritic cell', 'epithelial cell', 'macrophage', 'malignant cell', 'neutrophil', 'regulatory T cell']\n",
       "Categories (9, object): ['B cell', 'CD4+ T cell', 'CD8+ T cell', 'dendritic cell', ..., 'macrophage', 'malignant cell', 'neutrophil', 'regulatory T cell']"
      ]
     },
     "execution_count": 18,
     "metadata": {},
     "output_type": "execute_result"
    }
   ],
   "source": [
    "cell_types"
   ]
  },
  {
   "cell_type": "code",
   "execution_count": 19,
   "id": "4ece15d3-f298-444e-8e89-c757e7ad3dae",
   "metadata": {},
   "outputs": [],
   "source": [
    "pdata_by_cell_type = {}\n",
    "for ct in cell_types:\n",
    "    pb = pdata[pdata.obs[\"cell_type\"] == ct, :].copy()\n",
    "    if pb.obs[\"origin\"].nunique() <= 1:\n",
    "        print(f\"Cell type {ct} does not have samples in all groups\")\n",
    "    else:\n",
    "        pdata_by_cell_type[ct] = pb"
   ]
  },
  {
   "cell_type": "code",
   "execution_count": 20,
   "id": "8c559f98-252e-411c-bbc9-b44d422f0742",
   "metadata": {
    "scrolled": true
   },
   "outputs": [
    {
     "data": {
      "text/plain": [
       "{'B cell': AnnData object with n_obs × n_vars = 186 × 17811\n",
       "     obs: 'sample', 'uicc_stage', 'ever_smoker', 'age', 'donor_id', 'origin', 'dataset', 'doublet_status', 'ann_coarse', 'tumor_stage', 'EGFR_mutation', 'TP53_mutation', 'ALK_mutation', 'BRAF_mutation', 'ERBB2_mutation', 'KRAS_mutation', 'ROS_mutation', 'origin_fine', 'study', 'platform', 'suspension_type', 'assay_ontology_term_id', 'development_stage_ontology_term_id', 'disease_ontology_term_id', 'self_reported_ethnicity_ontology_term_id', 'is_primary_data', 'organism_ontology_term_id', 'sex_ontology_term_id', 'tissue_ontology_term_id', 'cell_type', 'assay', 'disease', 'organism', 'sex', 'tissue', 'self_reported_ethnicity', 'development_stage', 'cell_type_origin', 'psbulk_n_cells', 'psbulk_counts'\n",
       "     var: 'is_highly_variable', 'mito', 'n_cells_by_counts', 'mean_counts', 'pct_dropout_by_counts', 'total_counts', 'feature_is_filtered', 'feature_name', 'feature_reference', 'feature_biotype'\n",
       "     layers: 'psbulk_props', 'counts', 'log1p_norm',\n",
       " 'CD4+ T cell': AnnData object with n_obs × n_vars = 245 × 17811\n",
       "     obs: 'sample', 'uicc_stage', 'ever_smoker', 'age', 'donor_id', 'origin', 'dataset', 'doublet_status', 'ann_coarse', 'tumor_stage', 'EGFR_mutation', 'TP53_mutation', 'ALK_mutation', 'BRAF_mutation', 'ERBB2_mutation', 'KRAS_mutation', 'ROS_mutation', 'origin_fine', 'study', 'platform', 'suspension_type', 'assay_ontology_term_id', 'development_stage_ontology_term_id', 'disease_ontology_term_id', 'self_reported_ethnicity_ontology_term_id', 'is_primary_data', 'organism_ontology_term_id', 'sex_ontology_term_id', 'tissue_ontology_term_id', 'cell_type', 'assay', 'disease', 'organism', 'sex', 'tissue', 'self_reported_ethnicity', 'development_stage', 'cell_type_origin', 'psbulk_n_cells', 'psbulk_counts'\n",
       "     var: 'is_highly_variable', 'mito', 'n_cells_by_counts', 'mean_counts', 'pct_dropout_by_counts', 'total_counts', 'feature_is_filtered', 'feature_name', 'feature_reference', 'feature_biotype'\n",
       "     layers: 'psbulk_props', 'counts', 'log1p_norm',\n",
       " 'CD8+ T cell': AnnData object with n_obs × n_vars = 244 × 17811\n",
       "     obs: 'sample', 'uicc_stage', 'ever_smoker', 'age', 'donor_id', 'origin', 'dataset', 'doublet_status', 'ann_coarse', 'tumor_stage', 'EGFR_mutation', 'TP53_mutation', 'ALK_mutation', 'BRAF_mutation', 'ERBB2_mutation', 'KRAS_mutation', 'ROS_mutation', 'origin_fine', 'study', 'platform', 'suspension_type', 'assay_ontology_term_id', 'development_stage_ontology_term_id', 'disease_ontology_term_id', 'self_reported_ethnicity_ontology_term_id', 'is_primary_data', 'organism_ontology_term_id', 'sex_ontology_term_id', 'tissue_ontology_term_id', 'cell_type', 'assay', 'disease', 'organism', 'sex', 'tissue', 'self_reported_ethnicity', 'development_stage', 'cell_type_origin', 'psbulk_n_cells', 'psbulk_counts'\n",
       "     var: 'is_highly_variable', 'mito', 'n_cells_by_counts', 'mean_counts', 'pct_dropout_by_counts', 'total_counts', 'feature_is_filtered', 'feature_name', 'feature_reference', 'feature_biotype'\n",
       "     layers: 'psbulk_props', 'counts', 'log1p_norm',\n",
       " 'dendritic cell': AnnData object with n_obs × n_vars = 164 × 17811\n",
       "     obs: 'sample', 'uicc_stage', 'ever_smoker', 'age', 'donor_id', 'origin', 'dataset', 'doublet_status', 'ann_coarse', 'tumor_stage', 'EGFR_mutation', 'TP53_mutation', 'ALK_mutation', 'BRAF_mutation', 'ERBB2_mutation', 'KRAS_mutation', 'ROS_mutation', 'origin_fine', 'study', 'platform', 'suspension_type', 'assay_ontology_term_id', 'development_stage_ontology_term_id', 'disease_ontology_term_id', 'self_reported_ethnicity_ontology_term_id', 'is_primary_data', 'organism_ontology_term_id', 'sex_ontology_term_id', 'tissue_ontology_term_id', 'cell_type', 'assay', 'disease', 'organism', 'sex', 'tissue', 'self_reported_ethnicity', 'development_stage', 'cell_type_origin', 'psbulk_n_cells', 'psbulk_counts'\n",
       "     var: 'is_highly_variable', 'mito', 'n_cells_by_counts', 'mean_counts', 'pct_dropout_by_counts', 'total_counts', 'feature_is_filtered', 'feature_name', 'feature_reference', 'feature_biotype'\n",
       "     layers: 'psbulk_props', 'counts', 'log1p_norm',\n",
       " 'epithelial cell': AnnData object with n_obs × n_vars = 179 × 17811\n",
       "     obs: 'sample', 'uicc_stage', 'ever_smoker', 'age', 'donor_id', 'origin', 'dataset', 'doublet_status', 'ann_coarse', 'tumor_stage', 'EGFR_mutation', 'TP53_mutation', 'ALK_mutation', 'BRAF_mutation', 'ERBB2_mutation', 'KRAS_mutation', 'ROS_mutation', 'origin_fine', 'study', 'platform', 'suspension_type', 'assay_ontology_term_id', 'development_stage_ontology_term_id', 'disease_ontology_term_id', 'self_reported_ethnicity_ontology_term_id', 'is_primary_data', 'organism_ontology_term_id', 'sex_ontology_term_id', 'tissue_ontology_term_id', 'cell_type', 'assay', 'disease', 'organism', 'sex', 'tissue', 'self_reported_ethnicity', 'development_stage', 'cell_type_origin', 'psbulk_n_cells', 'psbulk_counts'\n",
       "     var: 'is_highly_variable', 'mito', 'n_cells_by_counts', 'mean_counts', 'pct_dropout_by_counts', 'total_counts', 'feature_is_filtered', 'feature_name', 'feature_reference', 'feature_biotype'\n",
       "     layers: 'psbulk_props', 'counts', 'log1p_norm',\n",
       " 'macrophage': AnnData object with n_obs × n_vars = 198 × 17811\n",
       "     obs: 'sample', 'uicc_stage', 'ever_smoker', 'age', 'donor_id', 'origin', 'dataset', 'doublet_status', 'ann_coarse', 'tumor_stage', 'EGFR_mutation', 'TP53_mutation', 'ALK_mutation', 'BRAF_mutation', 'ERBB2_mutation', 'KRAS_mutation', 'ROS_mutation', 'origin_fine', 'study', 'platform', 'suspension_type', 'assay_ontology_term_id', 'development_stage_ontology_term_id', 'disease_ontology_term_id', 'self_reported_ethnicity_ontology_term_id', 'is_primary_data', 'organism_ontology_term_id', 'sex_ontology_term_id', 'tissue_ontology_term_id', 'cell_type', 'assay', 'disease', 'organism', 'sex', 'tissue', 'self_reported_ethnicity', 'development_stage', 'cell_type_origin', 'psbulk_n_cells', 'psbulk_counts'\n",
       "     var: 'is_highly_variable', 'mito', 'n_cells_by_counts', 'mean_counts', 'pct_dropout_by_counts', 'total_counts', 'feature_is_filtered', 'feature_name', 'feature_reference', 'feature_biotype'\n",
       "     layers: 'psbulk_props', 'counts', 'log1p_norm',\n",
       " 'malignant cell': AnnData object with n_obs × n_vars = 171 × 17811\n",
       "     obs: 'sample', 'uicc_stage', 'ever_smoker', 'age', 'donor_id', 'origin', 'dataset', 'doublet_status', 'ann_coarse', 'tumor_stage', 'EGFR_mutation', 'TP53_mutation', 'ALK_mutation', 'BRAF_mutation', 'ERBB2_mutation', 'KRAS_mutation', 'ROS_mutation', 'origin_fine', 'study', 'platform', 'suspension_type', 'assay_ontology_term_id', 'development_stage_ontology_term_id', 'disease_ontology_term_id', 'self_reported_ethnicity_ontology_term_id', 'is_primary_data', 'organism_ontology_term_id', 'sex_ontology_term_id', 'tissue_ontology_term_id', 'cell_type', 'assay', 'disease', 'organism', 'sex', 'tissue', 'self_reported_ethnicity', 'development_stage', 'cell_type_origin', 'psbulk_n_cells', 'psbulk_counts'\n",
       "     var: 'is_highly_variable', 'mito', 'n_cells_by_counts', 'mean_counts', 'pct_dropout_by_counts', 'total_counts', 'feature_is_filtered', 'feature_name', 'feature_reference', 'feature_biotype'\n",
       "     layers: 'psbulk_props', 'counts', 'log1p_norm',\n",
       " 'neutrophil': AnnData object with n_obs × n_vars = 64 × 17811\n",
       "     obs: 'sample', 'uicc_stage', 'ever_smoker', 'age', 'donor_id', 'origin', 'dataset', 'doublet_status', 'ann_coarse', 'tumor_stage', 'EGFR_mutation', 'TP53_mutation', 'ALK_mutation', 'BRAF_mutation', 'ERBB2_mutation', 'KRAS_mutation', 'ROS_mutation', 'origin_fine', 'study', 'platform', 'suspension_type', 'assay_ontology_term_id', 'development_stage_ontology_term_id', 'disease_ontology_term_id', 'self_reported_ethnicity_ontology_term_id', 'is_primary_data', 'organism_ontology_term_id', 'sex_ontology_term_id', 'tissue_ontology_term_id', 'cell_type', 'assay', 'disease', 'organism', 'sex', 'tissue', 'self_reported_ethnicity', 'development_stage', 'cell_type_origin', 'psbulk_n_cells', 'psbulk_counts'\n",
       "     var: 'is_highly_variable', 'mito', 'n_cells_by_counts', 'mean_counts', 'pct_dropout_by_counts', 'total_counts', 'feature_is_filtered', 'feature_name', 'feature_reference', 'feature_biotype'\n",
       "     layers: 'psbulk_props', 'counts', 'log1p_norm',\n",
       " 'regulatory T cell': AnnData object with n_obs × n_vars = 215 × 17811\n",
       "     obs: 'sample', 'uicc_stage', 'ever_smoker', 'age', 'donor_id', 'origin', 'dataset', 'doublet_status', 'ann_coarse', 'tumor_stage', 'EGFR_mutation', 'TP53_mutation', 'ALK_mutation', 'BRAF_mutation', 'ERBB2_mutation', 'KRAS_mutation', 'ROS_mutation', 'origin_fine', 'study', 'platform', 'suspension_type', 'assay_ontology_term_id', 'development_stage_ontology_term_id', 'disease_ontology_term_id', 'self_reported_ethnicity_ontology_term_id', 'is_primary_data', 'organism_ontology_term_id', 'sex_ontology_term_id', 'tissue_ontology_term_id', 'cell_type', 'assay', 'disease', 'organism', 'sex', 'tissue', 'self_reported_ethnicity', 'development_stage', 'cell_type_origin', 'psbulk_n_cells', 'psbulk_counts'\n",
       "     var: 'is_highly_variable', 'mito', 'n_cells_by_counts', 'mean_counts', 'pct_dropout_by_counts', 'total_counts', 'feature_is_filtered', 'feature_name', 'feature_reference', 'feature_biotype'\n",
       "     layers: 'psbulk_props', 'counts', 'log1p_norm'}"
      ]
     },
     "execution_count": 20,
     "metadata": {},
     "output_type": "execute_result"
    }
   ],
   "source": [
    "pdata_by_cell_type"
   ]
  },
  {
   "cell_type": "code",
   "execution_count": 21,
   "id": "6aa0c185-cba8-4cdc-add2-3d621d5085fe",
   "metadata": {},
   "outputs": [
    {
     "data": {
      "image/png": "[encoded data removed]",
      "text/plain": [
       "<Figure size 500x400 with 2 Axes>"
      ]
     },
     "metadata": {},
     "output_type": "display_data"
    }
   ],
   "source": [
    "dc.plot_filter_by_expr(\n",
    "    pdata_by_cell_type['B cell'],\n",
    "    group=\"origin\",\n",
    "    min_count=10,\n",
    "    min_total_count=15,\n",
    ")"
   ]
  },
  {
   "cell_type": "code",
   "execution_count": 22,
   "id": "43017584-314f-4cab-89bb-fcce929a5f2a",
   "metadata": {},
   "outputs": [],
   "source": [
    "for tmp_pdata in pdata_by_cell_type.values():\n",
    "    dc.filter_by_expr(\n",
    "        tmp_pdata,\n",
    "        group=\"origin\",\n",
    "        min_count=10,\n",
    "        min_total_count=15,\n",
    "    )"
   ]
  },
  {
   "cell_type": "code",
   "execution_count": 23,
   "id": "dac90d3d-cd11-4e1e-afd3-ab785c7d2518",
   "metadata": {},
   "outputs": [],
   "source": [
    "from pathlib import Path\n",
    "import re\n"
   ]
  },
  {
   "cell_type": "code",
   "execution_count": 24,
   "id": "32a509d0-9c4f-4d80-9d1b-402cd0805392",
   "metadata": {},
   "outputs": [],
   "source": [
    "deseq_results = Path(\"/data/projects/2023/LCBiome/nsclc_gender_atlas_tmp/out/011_analysis_paired_remove_xy/deseq2_out/pb_cell_type\")"
   ]
  },
  {
   "cell_type": "code",
   "execution_count": 25,
   "id": "aba82efd-be9c-42b4-9d0c-fe19387dbef0",
   "metadata": {},
   "outputs": [],
   "source": [
    "def _create_prefix(cell_type):\n",
    "    ct_sanitized = re.sub(\"[^0-9a-zA-Z]+\", \"_\", cell_type)\n",
    "    prefix = deseq_results / \"tumor_vs_normal\" / ct_sanitized\n",
    "    prefix.mkdir(parents=True, exist_ok=True)\n",
    "    return prefix"
   ]
  },
  {
   "cell_type": "code",
   "execution_count": 26,
   "id": "ddb1b7e7-ceca-46cb-9e03-54b2ec398bdb",
   "metadata": {},
   "outputs": [
    {
     "name": "stdout",
     "output_type": "stream",
     "text": [
      "/data/projects/2023/LCBiome/nsclc_gender_atlas_tmp/out/011_analysis_paired_remove_xy/deseq2_out/pb_cell_type/tumor_vs_normal/B_cell\n",
      "/data/projects/2023/LCBiome/nsclc_gender_atlas_tmp/out/011_analysis_paired_remove_xy/deseq2_out/pb_cell_type/tumor_vs_normal/CD4_T_cell\n",
      "/data/projects/2023/LCBiome/nsclc_gender_atlas_tmp/out/011_analysis_paired_remove_xy/deseq2_out/pb_cell_type/tumor_vs_normal/CD8_T_cell\n",
      "/data/projects/2023/LCBiome/nsclc_gender_atlas_tmp/out/011_analysis_paired_remove_xy/deseq2_out/pb_cell_type/tumor_vs_normal/dendritic_cell\n",
      "/data/projects/2023/LCBiome/nsclc_gender_atlas_tmp/out/011_analysis_paired_remove_xy/deseq2_out/pb_cell_type/tumor_vs_normal/epithelial_cell\n",
      "/data/projects/2023/LCBiome/nsclc_gender_atlas_tmp/out/011_analysis_paired_remove_xy/deseq2_out/pb_cell_type/tumor_vs_normal/macrophage\n",
      "/data/projects/2023/LCBiome/nsclc_gender_atlas_tmp/out/011_analysis_paired_remove_xy/deseq2_out/pb_cell_type/tumor_vs_normal/malignant_cell\n",
      "/data/projects/2023/LCBiome/nsclc_gender_atlas_tmp/out/011_analysis_paired_remove_xy/deseq2_out/pb_cell_type/tumor_vs_normal/neutrophil\n",
      "/data/projects/2023/LCBiome/nsclc_gender_atlas_tmp/out/011_analysis_paired_remove_xy/deseq2_out/pb_cell_type/tumor_vs_normal/regulatory_T_cell\n"
     ]
    }
   ],
   "source": [
    "for ct, tmp_pdata in pdata_by_cell_type.items():\n",
    "    prefix = _create_prefix(ct)\n",
    "    print(prefix)"
   ]
  },
  {
   "cell_type": "code",
   "execution_count": 29,
   "id": "d17097d7-5a8e-45ad-80a2-86cfdc9e82dd",
   "metadata": {},
   "outputs": [],
   "source": [
    "### Samplesheet\n",
    "for ct, tmp_pdata in pdata_by_cell_type.items():\n",
    "    prefix = _create_prefix(ct)\n",
    "    ct_sanitized = re.sub(\"[^0-9a-zA-Z]+\", \"_\", ct)\n",
    "\n",
    "#for index, dataframe in enumerate(pdata_list):\n",
    "    \n",
    "    # Perform the operations\n",
    "    samplesheet = tmp_pdata.obs.copy()\n",
    "    samplesheet[\"sample\"] = samplesheet.index\n",
    "    samplesheet.reset_index(inplace=True)\n",
    "  \n",
    "    samplesheet.to_csv(f\"{prefix}/samplesheet_{ct_sanitized}.csv\", index=False)\n",
    "    samplesheet.to_csv(f\"{prefix}/samplesheet_{ct_sanitized}.tsv\", index=False, sep=\"\\t\")\n",
    "\n",
    "\n",
    "    ### Raw counts\n",
    "    bulk_df = tmp_pdata.to_df().T\n",
    "    #bulk_df[\"gene_id\"]=bulk_df.index\n",
    "    bulk_df.columns = bulk_df.columns.str.replace(\"[.-]\", \"_\").str.replace(\" \", \"_\")\n",
    "    bulk_df.to_csv(f\"{prefix}/counts_{ct_sanitized}.csv\")  \n",
    "    ### log1p_norm counts\n",
    "    pdata_log1p_norm = pd.DataFrame(tmp_pdata.layers[\"log1p_norm\"], \n",
    "        tmp_pdata.to_df().index, \n",
    "        tmp_pdata.to_df().columns)\n",
    "    bulk_df = pdata_log1p_norm.T\n",
    "    #bulk_df[\"gene_id\"]=bulk_df.index\n",
    "    bulk_df.columns = bulk_df.columns.str.replace(\"[.-]\", \"_\").str.replace(\" \", \"_\")\n",
    "    bulk_df.to_csv(f\"{prefix}/log1p_norm_counts_{ct_sanitized}.csv\")    "
   ]
  },
  {
   "cell_type": "code",
   "execution_count": 30,
   "id": "638e28d4-3900-4eb4-9347-9fc70ff84a5d",
   "metadata": {},
   "outputs": [],
   "source": [
    "### Samplesheet\n",
    "for ct, tmp_pdata in pdata_by_cell_type.items():\n",
    "    prefix = _create_prefix(ct)\n",
    "    ct_sanitized = re.sub(\"[^0-9a-zA-Z]+\", \"_\", ct)\n",
    "\n",
    "#for index, dataframe in enumerate(pdata_list):\n",
    "    \n",
    "    # Perform the operations\n",
    "    tmp_pdata_female = tmp_pdata[tmp_pdata.obs[\"sex\"]==\"female\"]\n",
    "    samplesheet = tmp_pdata_female.obs.copy()\n",
    "    samplesheet[\"sample\"] = samplesheet.index\n",
    "    samplesheet.reset_index(inplace=True)\n",
    "  \n",
    "    samplesheet.to_csv(f\"{prefix}/samplesheet_female_{ct_sanitized}.csv\", index=False)\n",
    "    samplesheet.to_csv(f\"{prefix}/samplesheet_female_{ct_sanitized}.tsv\", index=False, sep=\"\\t\")\n",
    "\n",
    "\n",
    "    ### Raw counts\n",
    "    bulk_df = tmp_pdata_female.to_df().T\n",
    "    #bulk_df[\"gene_id\"]=bulk_df.index\n",
    "    bulk_df.columns = bulk_df.columns.str.replace(\"[.-]\", \"_\").str.replace(\" \", \"_\")\n",
    "    bulk_df.to_csv(f\"{prefix}/counts_female_{ct_sanitized}.csv\")  \n",
    "    ### log1p_norm counts\n",
    "    pdata_log1p_norm = pd.DataFrame(tmp_pdata_female.layers[\"log1p_norm\"], \n",
    "        tmp_pdata_female.to_df().index, \n",
    "        tmp_pdata_female.to_df().columns)\n",
    "    bulk_df = pdata_log1p_norm.T\n",
    "    #bulk_df[\"gene_id\"]=bulk_df.index\n",
    "    bulk_df.columns = bulk_df.columns.str.replace(\"[.-]\", \"_\").str.replace(\" \", \"_\")\n",
    "    bulk_df.to_csv(f\"{prefix}/log1p_norm_counts_female_{ct_sanitized}.csv\")    "
   ]
  },
  {
   "cell_type": "code",
   "execution_count": 32,
   "id": "c242fd14-00ab-454f-8121-09fbbc9d0415",
   "metadata": {},
   "outputs": [],
   "source": [
    "### Samplesheet\n",
    "for ct, tmp_pdata in pdata_by_cell_type.items():\n",
    "    prefix = _create_prefix(ct)\n",
    "    ct_sanitized = re.sub(\"[^0-9a-zA-Z]+\", \"_\", ct)\n",
    "\n",
    "#for index, dataframe in enumerate(pdata_list):\n",
    "    \n",
    "    # Perform the operations\n",
    "    tmp_pdata_male = tmp_pdata[tmp_pdata.obs[\"sex\"]==\"male\"]\n",
    "    samplesheet = tmp_pdata_male.obs.copy()\n",
    "    samplesheet[\"sample\"] = samplesheet.index\n",
    "    samplesheet.reset_index(inplace=True)\n",
    "  \n",
    "    samplesheet.to_csv(f\"{prefix}/samplesheet_male_{ct_sanitized}.csv\", index=False)\n",
    "    samplesheet.to_csv(f\"{prefix}/samplesheet_male_{ct_sanitized}.tsv\", index=False, sep=\"\\t\")\n",
    "\n",
    "\n",
    "    ### Raw counts\n",
    "    bulk_df = tmp_pdata_male.to_df().T\n",
    "    #bulk_df[\"gene_id\"]=bulk_df.index\n",
    "    bulk_df.columns = bulk_df.columns.str.replace(\"[.-]\", \"_\").str.replace(\" \", \"_\")\n",
    "    bulk_df.to_csv(f\"{prefix}/counts_male_{ct_sanitized}.csv\")  \n",
    "    ### log1p_norm counts\n",
    "    pdata_log1p_norm = pd.DataFrame(tmp_pdata_male.layers[\"log1p_norm\"], \n",
    "        tmp_pdata_male.to_df().index, \n",
    "        tmp_pdata_male.to_df().columns)\n",
    "    bulk_df = pdata_log1p_norm.T\n",
    "    #bulk_df[\"gene_id\"]=bulk_df.index\n",
    "    bulk_df.columns = bulk_df.columns.str.replace(\"[.-]\", \"_\").str.replace(\" \", \"_\")\n",
    "    bulk_df.to_csv(f\"{prefix}/log1p_norm_counts_male_{ct_sanitized}.csv\")    "
   ]
  },
  {
   "cell_type": "code",
   "execution_count": null,
   "id": "cca8d29a-50df-46e0-8362-81e62fa84539",
   "metadata": {},
   "outputs": [],
   "source": [
    "#pdata = pdata[pdata.obs[\"dataset\"]!=\"Guo_Zhang_2018\"] ## SMART SEQ "
   ]
  },
  {
   "cell_type": "code",
   "execution_count": null,
   "id": "0b31e4d4-c2cd-41b3-b1fb-586693698e7f",
   "metadata": {},
   "outputs": [],
   "source": [
    "#pdata"
   ]
  },
  {
   "cell_type": "code",
   "execution_count": null,
   "id": "eaad764e-f461-4cdd-8004-7401fac98359",
   "metadata": {},
   "outputs": [],
   "source": [
    "#dc.plot_psbulk_samples(pdata, groupby=['dataset', 'platform'], figsize=(12, 4))"
   ]
  },
  {
   "cell_type": "code",
   "execution_count": null,
   "id": "3ef4e9f8-f336-49ed-912e-5f7e46e0462f",
   "metadata": {},
   "outputs": [],
   "source": [
    "dc.plot_filter_by_expr(\n",
    "    pdata_by_cell_type[\"Epithelial cell\"],\n",
    "    group=\"condition\",\n",
    "    min_count=10,\n",
    "    min_total_count=15,\n",
    ")"
   ]
  },
  {
   "cell_type": "code",
   "execution_count": null,
   "id": "473a6ba3-0ae1-4b07-b54c-a4492461640d",
   "metadata": {},
   "outputs": [],
   "source": [
    "dc.plot_filter_by_expr(pdata, group='sample', min_count=10, min_total_count=15)"
   ]
  },
  {
   "cell_type": "code",
   "execution_count": null,
   "id": "bf0fe502-4ab8-429c-8e60-d08b10367278",
   "metadata": {
    "scrolled": true
   },
   "outputs": [],
   "source": [
    "dc.plot_filter_by_expr(pdata, group='sample', large_n=100,min_prop=0.9, min_count=5000, min_total_count=10000)"
   ]
  },
  {
   "cell_type": "markdown",
   "id": "73fa0d4c-7052-4b0e-8957-7785b306a23b",
   "metadata": {},
   "source": [
    "I set this threshold for the DS analysis to avoid havinh zero-inflated data"
   ]
  },
  {
   "cell_type": "code",
   "execution_count": null,
   "id": "261c355c-1540-4222-8c53-31f49bd08d9e",
   "metadata": {},
   "outputs": [],
   "source": [
    "# Obtain genes that pass the thresholds \n",
    "genes = dc.filter_by_expr(pdata, group='sample', min_count=5000, min_total_count=10000)\n",
    "\n",
    "# Filter by these genes\n",
    "pdata = pdata[:, genes].copy()\n",
    "pdata"
   ]
  },
  {
   "cell_type": "code",
   "execution_count": null,
   "id": "588bb836-02b6-4918-a40e-add9fb54332c",
   "metadata": {},
   "outputs": [],
   "source": [
    "pdata.layers[\"counts\"] = pdata.X"
   ]
  },
  {
   "cell_type": "code",
   "execution_count": null,
   "id": "42538387-6809-4099-9b66-deb524121bc4",
   "metadata": {},
   "outputs": [],
   "source": [
    "scales_counts = sc.pp.normalize_total(pdata, target_sum=None, inplace=False)\n",
    "# log1p transform\n",
    "pdata.layers[\"log1p_norm\"] = sc.pp.log1p(scales_counts[\"X\"], copy=True)"
   ]
  },
  {
   "cell_type": "code",
   "execution_count": null,
   "id": "5e64494d-e597-498d-837b-15076f28e7ea",
   "metadata": {},
   "outputs": [],
   "source": [
    "pdata"
   ]
  },
  {
   "cell_type": "code",
   "execution_count": null,
   "id": "8e2f3a8b-cace-4080-964d-6278cc459153",
   "metadata": {},
   "outputs": [],
   "source": [
    "pdata.write_h5ad(\"/data/projects/2023/LCBiome/nsclc_gender_atlas_tmp/out/011_analysis_paired_remove_xy/pseudobulk/pdata.h5ad\")"
   ]
  },
  {
   "cell_type": "code",
   "execution_count": null,
   "id": "ded8be1d-8c0e-414b-a932-87090935c610",
   "metadata": {},
   "outputs": [],
   "source": [
    "### Samplesheet\n",
    "samplesheet = pdata.obs.copy()\n",
    "samplesheet[\"sample\"]=samplesheet.index\n",
    "samplesheet.reset_index(inplace=True)"
   ]
  },
  {
   "cell_type": "code",
   "execution_count": null,
   "id": "8dde13ff-e1b0-4b6b-b29d-1be5e33c31e5",
   "metadata": {},
   "outputs": [],
   "source": [
    "samplesheet.to_csv(f\"{path}samplesheet.csv\", index=False)\n",
    "samplesheet.to_csv(f\"{path}samplesheet.tsv\", index=False, sep = \"\\t\")"
   ]
  },
  {
   "cell_type": "code",
   "execution_count": null,
   "id": "96db85fd-4b13-47e6-8dbd-b8a2bc456e1b",
   "metadata": {},
   "outputs": [],
   "source": [
    "bulk_df = pdata.to_df().T"
   ]
  },
  {
   "cell_type": "code",
   "execution_count": null,
   "id": "9cd2fbe0-dc81-43d8-9eb8-b1689b1a1feb",
   "metadata": {},
   "outputs": [],
   "source": [
    "### Raw counts\n",
    "bulk_df = pdata.to_df().T\n",
    "#bulk_df[\"gene_id\"]=bulk_df.index\n",
    "bulk_df.columns = bulk_df.columns.str.replace(\"[.-]\", \"_\").str.replace(\" \", \"_\")"
   ]
  },
  {
   "cell_type": "code",
   "execution_count": null,
   "id": "d9d33a74-8359-4564-83d5-7daa91204a69",
   "metadata": {},
   "outputs": [],
   "source": [
    "bulk_df.to_csv(f\"{path}counts.csv\")    "
   ]
  },
  {
   "cell_type": "code",
   "execution_count": null,
   "id": "43ddd3e0-e71b-480b-9d98-cbad2f8f3a8d",
   "metadata": {},
   "outputs": [],
   "source": [
    "### log1p_norm counts\n",
    "pdata_log1p_norm = pd.DataFrame(pdata.layers[\"log1p_norm\"], \n",
    "    pdata.to_df().index, \n",
    "    pdata.to_df().columns)\n",
    "bulk_df = pdata_log1p_norm.T\n",
    "#bulk_df[\"gene_id\"]=bulk_df.index'\n",
    "bulk_df.columns = bulk_df.columns.str.replace(\"[.-]\", \"_\").str.replace(\" \", \"_\")\n",
    "bulk_df.to_csv(f\"{path}log1p_norm_counts.csv\")    "
   ]
  },
  {
   "cell_type": "markdown",
   "id": "5f95e140-e654-460b-a5ac-d6ce832bd60c",
   "metadata": {
    "jp-MarkdownHeadingCollapsed": true
   },
   "source": [
    "### 0.4 Create counts and samplesheet independent for tumor and normal for DESEQ2 "
   ]
  },
  {
   "cell_type": "code",
   "execution_count": null,
   "id": "b87fe773-4e33-4d5e-a8e4-27eabe97660a",
   "metadata": {},
   "outputs": [],
   "source": [
    "pdata_normal = pdata[pdata.obs[\"origin\"]==\"normal_adjacent\"]\n",
    "pdata_tumor = pdata[pdata.obs[\"origin\"]==\"tumor_primary\"]"
   ]
  },
  {
   "cell_type": "code",
   "execution_count": null,
   "id": "08c8bcc4-5914-4479-a68f-e8f3f450f5fe",
   "metadata": {},
   "outputs": [],
   "source": [
    "pdata_normal"
   ]
  },
  {
   "cell_type": "code",
   "execution_count": null,
   "id": "a7edbc1e-fb61-4f8c-8d80-27833035cf0d",
   "metadata": {},
   "outputs": [],
   "source": [
    "pdata_list = [pdata_normal,pdata_tumor]\n",
    "pdata_list_name = [\"normal\",\"tumor\"]\n",
    "\n",
    "for index, dataframe in enumerate(pdata_list):\n",
    "    print(pdata_list_name[index])\n",
    "    # Perform the operations\n",
    "    samplesheet = dataframe.obs.copy()\n",
    "    samplesheet[\"sample\"] = samplesheet.index\n",
    "    samplesheet.reset_index(inplace=True)\n",
    "  \n",
    "    samplesheet.to_csv(f\"{path}samplesheet_{pdata_list_name[index]}.csv\", index=False)\n",
    "    samplesheet.to_csv(f\"{path}samplesheet_{pdata_list_name[index]}.tsv\", index=False, sep=\"\\t\")\n",
    "\n",
    "\n",
    "    ### Raw counts\n",
    "    bulk_df = dataframe.to_df().T\n",
    "    #bulk_df[\"gene_id\"]=bulk_df.index\n",
    "    bulk_df.columns = bulk_df.columns.str.replace(\"[.-]\", \"_\").str.replace(\" \", \"_\")\n",
    "    bulk_df.to_csv(f\"{path}counts_{pdata_list_name[index]}.csv\")  \n",
    "    ### log1p_norm counts\n",
    "    pdata_log1p_norm = pd.DataFrame(dataframe.layers[\"log1p_norm\"], \n",
    "        dataframe.to_df().index, \n",
    "        dataframe.to_df().columns)\n",
    "    bulk_df = pdata_log1p_norm.T\n",
    "    #bulk_df[\"gene_id\"]=bulk_df.index\n",
    "    bulk_df.columns = bulk_df.columns.str.replace(\"[.-]\", \"_\").str.replace(\" \", \"_\")\n",
    "    bulk_df.to_csv(f\"{path}/log1p_norm_counts_{pdata_list_name[index]}.csv\")    "
   ]
  },
  {
   "cell_type": "markdown",
   "id": "2b6a5ac4-cfd4-4ebc-936d-cc0080c7400e",
   "metadata": {},
   "source": [
    "### 0.4 Create counts and samplesheet independent for male and female for DESEQ2 "
   ]
  },
  {
   "cell_type": "code",
   "execution_count": null,
   "id": "5e351ab8-b1c7-4105-bad4-6df21e570f7f",
   "metadata": {},
   "outputs": [],
   "source": [
    "pdata_male = pdata[pdata.obs[\"sex\"]==\"male\"]\n",
    "pdata_female = pdata[pdata.obs[\"sex\"]==\"female\"]"
   ]
  },
  {
   "cell_type": "code",
   "execution_count": null,
   "id": "d0012078-5256-4cf7-80a5-c95e99c5f76e",
   "metadata": {},
   "outputs": [],
   "source": [
    "pdata_male"
   ]
  },
  {
   "cell_type": "code",
   "execution_count": null,
   "id": "b61cb4b0-a181-4b61-bfdd-b349bafbe6d8",
   "metadata": {},
   "outputs": [],
   "source": [
    "pdata_list = [pdata_male,pdata_female]\n",
    "pdata_list_name = [\"male\",\"female\"]\n",
    "\n",
    "for index, dataframe in enumerate(pdata_list):\n",
    "    print(pdata_list_name[index])\n",
    "    # Perform the operations\n",
    "    samplesheet = dataframe.obs.copy()\n",
    "    samplesheet[\"sample\"] = samplesheet.index\n",
    "    samplesheet.reset_index(inplace=True)\n",
    "  \n",
    "    samplesheet.to_csv(f\"{path}samplesheet_{pdata_list_name[index]}.csv\", index=False)\n",
    "    samplesheet.to_csv(f\"{path}samplesheet_{pdata_list_name[index]}.tsv\", index=False, sep=\"\\t\")\n",
    "\n",
    "\n",
    "    ### Raw counts\n",
    "    bulk_df = dataframe.to_df().T\n",
    "    #bulk_df[\"gene_id\"]=bulk_df.index\n",
    "    bulk_df.columns = bulk_df.columns.str.replace(\"[.-]\", \"_\").str.replace(\" \", \"_\")\n",
    "    bulk_df.to_csv(f\"{path}counts_{pdata_list_name[index]}.csv\")  \n",
    "    ### log1p_norm counts\n",
    "    pdata_log1p_norm = pd.DataFrame(dataframe.layers[\"log1p_norm\"], \n",
    "        dataframe.to_df().index, \n",
    "        dataframe.to_df().columns)\n",
    "    bulk_df = pdata_log1p_norm.T\n",
    "    #bulk_df[\"gene_id\"]=bulk_df.index\n",
    "    bulk_df.columns = bulk_df.columns.str.replace(\"[.-]\", \"_\").str.replace(\" \", \"_\")\n",
    "    bulk_df.to_csv(f\"{path}/log1p_norm_counts_{pdata_list_name[index]}.csv\")    "
   ]
  },
  {
   "cell_type": "code",
   "execution_count": null,
   "id": "6e9fad03-0692-401c-b87b-9b005290133f",
   "metadata": {},
   "outputs": [],
   "source": []
  },
  {
   "cell_type": "code",
   "execution_count": null,
   "id": "c3e790c1-668a-42a5-9cc9-6bf27ca94af3",
   "metadata": {},
   "outputs": [],
   "source": []
  }
 ],
 "metadata": {
  "kernelspec": {
   "display_name": "crc_atlas",
   "language": "python",
   "name": "crc_atlas"
  },
  "language_info": {
   "codemirror_mode": {
    "name": "ipython",
    "version": 3
   },
   "file_extension": ".py",
   "mimetype": "text/x-python",
   "name": "python",
   "nbconvert_exporter": "python",
   "pygments_lexer": "ipython3",
   "version": "3.11.6"
  }
 },
 "nbformat": 4,
 "nbformat_minor": 5
}
